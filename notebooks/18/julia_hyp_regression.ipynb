{
 "cells": [
  {
   "cell_type": "code",
   "execution_count": 1,
   "metadata": {},
   "outputs": [],
   "source": [
    "# HIDDEN\n",
    "using CSV\n",
    "using DataFrames\n",
    "using MLJ\n",
    "using Printf\n",
    "using Statistics\n",
    "using StatsPlots\n",
    "Base.displaysize() = (5, 80)"
   ]
  },
  {
   "cell_type": "markdown",
   "metadata": {
    "colab_type": "text",
    "id": "C8fl0JZSL8Fc"
   },
   "source": [
    "## Bootstrapping for Linear Regression (Inference for the True Coefficients)\n",
    "\n",
    "Recall that in linear regression, we fit a model of the following form\n",
    "$$\n",
    "\\begin{aligned}\n",
    "f_\\hat{\\theta} (x) = \\hat{\\theta_0} + \\hat{\\theta_1} x_1 + \\ldots + \\hat{\\theta_p} x_p\n",
    "\\end{aligned}\n",
    "$$\n",
    "\n",
    "We would like to infer the true coefficients of the model. Since the $\\hat{\\theta_0}$, $\\hat{\\theta_1}$, $\\ldots$ $\\hat{\\theta_p}$ are estimators that vary based on our training data/observations, we would like to understand how our estimated coefficients compare with the true coefficients. Bootstrapping is a *nonparametric* approach to statistical inference that gives us standard errors and confidence intervals for our parameters. \n",
    "\n",
    "Let's take a look at an example of how we use bootstrapping methods within linear regression. \n"
   ]
  },
  {
   "cell_type": "markdown",
   "metadata": {
    "colab_type": "text",
    "id": "5u8eZneY7QFC"
   },
   "source": [
    "### The Data\n",
    "\n",
    "Otis Dudley Duncan was a quantitative sociologist interested in measuring the prestige levels of different occupations. There were only 90 occupations that were rated for their prestige level in the 1947 National Opinion Research Center (NORC) survey. Duncan wanted to “fill in” prestige scores for unrated occupations by using income and education data about each occupation recorded by the 1950 census. When joining the NORC data with the 1950 census data, only 45 occupations could be matched. Ultimately, Duncan's goal was to create a model to explain prestige using different characteristics; using this model, one can predict the prestige of other occupations not recorded in the NORC survey.\n",
    "\n",
    "The Duncan dataset is a random sample of that contains information on the prestige and other characteristics of 45 U. S. occupations in 1950. \n",
    "The variables are:\n",
    "\n",
    "`occupation` represents the type of occupation/title.\n",
    "\n",
    "`income` represents the percentage of occupational incumbents who earned incomes in excess of $3,500.\n",
    "\n",
    "`education` represents the percentage of incumbents in the occupation in the 1950 U.S. Census who were high school graduates.\n",
    "\n",
    "`prestige` represents the percentage of respondents in a survey who rated an occupation as “good” or “excellent” in prestige.\n",
    "\n",
    "\n",
    "\n",
    "\n"
   ]
  },
  {
   "cell_type": "code",
   "execution_count": 2,
   "metadata": {},
   "outputs": [
    {
     "data": {
      "text/html": [
       "<table class=\"data-frame\"><thead><tr><th></th><th>occupation</th><th>income</th><th>education</th><th>prestige</th></tr><tr><th></th><th>String</th><th>Int64</th><th>Int64</th><th>Int64</th></tr></thead><tbody><p>45 rows × 4 columns</p><tr><th>1</th><td>accountant</td><td>62</td><td>86</td><td>82</td></tr><tr><th>2</th><td>pilot</td><td>72</td><td>76</td><td>83</td></tr><tr><th>3</th><td>architect</td><td>75</td><td>92</td><td>90</td></tr><tr><th>4</th><td>author</td><td>55</td><td>90</td><td>76</td></tr><tr><th>5</th><td>chemist</td><td>64</td><td>86</td><td>90</td></tr><tr><th>&vellip;</th><td>&vellip;</td><td>&vellip;</td><td>&vellip;</td><td>&vellip;</td></tr></tbody></table>"
      ],
      "text/latex": [
       "\\begin{tabular}{r|cccc}\n",
       "\t& occupation & income & education & prestige\\\\\n",
       "\t\\hline\n",
       "\t& String & Int64 & Int64 & Int64\\\\\n",
       "\t\\hline\n",
       "\t1 & accountant & 62 & 86 & 82 \\\\\n",
       "\t2 & pilot & 72 & 76 & 83 \\\\\n",
       "\t3 & architect & 75 & 92 & 90 \\\\\n",
       "\t4 & author & 55 & 90 & 76 \\\\\n",
       "\t5 & chemist & 64 & 86 & 90 \\\\\n",
       "\t$\\dots$ & $\\dots$ & $\\dots$ & $\\dots$ & $\\dots$ \\\\\n",
       "\\end{tabular}\n"
      ],
      "text/plain": [
       "45×4 DataFrame\n"
      ]
     },
     "execution_count": 2,
     "metadata": {},
     "output_type": "execute_result"
    }
   ],
   "source": [
    "duncan = select(CSV.read(\"duncan.csv\"), [:occupation, :income, :education, :prestige])"
   ]
  },
  {
   "cell_type": "markdown",
   "metadata": {},
   "source": [
    "It is usually a good idea to explore the data through visualization in order to gain an understanding of the relationships between your variables. Below, we will visualize the correlations between income, education and prestige."
   ]
  },
  {
   "cell_type": "code",
   "execution_count": 4,
   "metadata": {},
   "outputs": [
    {
     "data": {
      "image/svg+xml": [
       "<?xml version=\"1.0\" encoding=\"utf-8\"?>\n",
       "<svg xmlns=\"http://www.w3.org/2000/svg\" xmlns:xlink=\"http://www.w3.org/1999/xlink\" width=\"600\" height=\"400\" viewBox=\"0 0 2400 1600\">\n",
       "<defs>\n",
       "  <clipPath id=\"clip1400\">\n",
       "    <rect x=\"0\" y=\"0\" width=\"2400\" height=\"1600\"/>\n",
       "  </clipPath>\n",
       "</defs>\n",
       "<path clip-path=\"url(#clip1400)\" d=\"\n",
       "M0 1600 L2400 1600 L2400 0 L0 0  Z\n",
       "  \" fill=\"#ffffff\" fill-rule=\"evenodd\" fill-opacity=\"1\"/>\n",
       "<defs>\n",
       "  <clipPath id=\"clip1401\">\n",
       "    <rect x=\"480\" y=\"0\" width=\"1681\" height=\"1600\"/>\n",
       "  </clipPath>\n",
       "</defs>\n",
       "<path clip-path=\"url(#clip1400)\" d=\"\n",
       "M140.517 1487.47 L2352.76 1487.47 L2352.76 47.2441 L140.517 47.2441  Z\n",
       "  \" fill=\"#ffffff\" fill-rule=\"evenodd\" fill-opacity=\"1\"/>\n",
       "<defs>\n",
       "  <clipPath id=\"clip1402\">\n",
       "    <rect x=\"140\" y=\"47\" width=\"2213\" height=\"1441\"/>\n",
       "  </clipPath>\n",
       "</defs>\n",
       "<polyline clip-path=\"url(#clip1402)\" style=\"stroke:#000000; stroke-width:2; stroke-opacity:0.1; fill:none\" points=\"\n",
       "  494.861,1487.47 494.861,47.2441 \n",
       "  \"/>\n",
       "<polyline clip-path=\"url(#clip1402)\" style=\"stroke:#000000; stroke-width:2; stroke-opacity:0.1; fill:none\" points=\"\n",
       "  943.682,1487.47 943.682,47.2441 \n",
       "  \"/>\n",
       "<polyline clip-path=\"url(#clip1402)\" style=\"stroke:#000000; stroke-width:2; stroke-opacity:0.1; fill:none\" points=\"\n",
       "  1392.5,1487.47 1392.5,47.2441 \n",
       "  \"/>\n",
       "<polyline clip-path=\"url(#clip1402)\" style=\"stroke:#000000; stroke-width:2; stroke-opacity:0.1; fill:none\" points=\"\n",
       "  1841.32,1487.47 1841.32,47.2441 \n",
       "  \"/>\n",
       "<polyline clip-path=\"url(#clip1402)\" style=\"stroke:#000000; stroke-width:2; stroke-opacity:0.1; fill:none\" points=\"\n",
       "  2290.15,1487.47 2290.15,47.2441 \n",
       "  \"/>\n",
       "<polyline clip-path=\"url(#clip1402)\" style=\"stroke:#000000; stroke-width:2; stroke-opacity:0.1; fill:none\" points=\"\n",
       "  140.517,1200.99 2352.76,1200.99 \n",
       "  \"/>\n",
       "<polyline clip-path=\"url(#clip1402)\" style=\"stroke:#000000; stroke-width:2; stroke-opacity:0.1; fill:none\" points=\"\n",
       "  140.517,911.903 2352.76,911.903 \n",
       "  \"/>\n",
       "<polyline clip-path=\"url(#clip1402)\" style=\"stroke:#000000; stroke-width:2; stroke-opacity:0.1; fill:none\" points=\"\n",
       "  140.517,622.816 2352.76,622.816 \n",
       "  \"/>\n",
       "<polyline clip-path=\"url(#clip1402)\" style=\"stroke:#000000; stroke-width:2; stroke-opacity:0.1; fill:none\" points=\"\n",
       "  140.517,333.729 2352.76,333.729 \n",
       "  \"/>\n",
       "<polyline clip-path=\"url(#clip1400)\" style=\"stroke:#000000; stroke-width:4; stroke-opacity:1; fill:none\" points=\"\n",
       "  140.517,1487.47 2352.76,1487.47 \n",
       "  \"/>\n",
       "<polyline clip-path=\"url(#clip1400)\" style=\"stroke:#000000; stroke-width:4; stroke-opacity:1; fill:none\" points=\"\n",
       "  140.517,1487.47 140.517,47.2441 \n",
       "  \"/>\n",
       "<polyline clip-path=\"url(#clip1400)\" style=\"stroke:#000000; stroke-width:4; stroke-opacity:1; fill:none\" points=\"\n",
       "  494.861,1487.47 494.861,1465.87 \n",
       "  \"/>\n",
       "<polyline clip-path=\"url(#clip1400)\" style=\"stroke:#000000; stroke-width:4; stroke-opacity:1; fill:none\" points=\"\n",
       "  943.682,1487.47 943.682,1465.87 \n",
       "  \"/>\n",
       "<polyline clip-path=\"url(#clip1400)\" style=\"stroke:#000000; stroke-width:4; stroke-opacity:1; fill:none\" points=\"\n",
       "  1392.5,1487.47 1392.5,1465.87 \n",
       "  \"/>\n",
       "<polyline clip-path=\"url(#clip1400)\" style=\"stroke:#000000; stroke-width:4; stroke-opacity:1; fill:none\" points=\"\n",
       "  1841.32,1487.47 1841.32,1465.87 \n",
       "  \"/>\n",
       "<polyline clip-path=\"url(#clip1400)\" style=\"stroke:#000000; stroke-width:4; stroke-opacity:1; fill:none\" points=\"\n",
       "  2290.15,1487.47 2290.15,1465.87 \n",
       "  \"/>\n",
       "<polyline clip-path=\"url(#clip1400)\" style=\"stroke:#000000; stroke-width:4; stroke-opacity:1; fill:none\" points=\"\n",
       "  140.517,1200.99 173.7,1200.99 \n",
       "  \"/>\n",
       "<polyline clip-path=\"url(#clip1400)\" style=\"stroke:#000000; stroke-width:4; stroke-opacity:1; fill:none\" points=\"\n",
       "  140.517,911.903 173.7,911.903 \n",
       "  \"/>\n",
       "<polyline clip-path=\"url(#clip1400)\" style=\"stroke:#000000; stroke-width:4; stroke-opacity:1; fill:none\" points=\"\n",
       "  140.517,622.816 173.7,622.816 \n",
       "  \"/>\n",
       "<polyline clip-path=\"url(#clip1400)\" style=\"stroke:#000000; stroke-width:4; stroke-opacity:1; fill:none\" points=\"\n",
       "  140.517,333.729 173.7,333.729 \n",
       "  \"/>\n",
       "<g clip-path=\"url(#clip1400)\">\n",
       "<text style=\"fill:#000000; fill-opacity:1; font-family:Arial,Helvetica Neue,Helvetica,sans-serif; font-size:48px; text-anchor:middle;\" transform=\"rotate(0, 494.861, 1541.47)\" x=\"494.861\" y=\"1541.47\">20</text>\n",
       "</g>\n",
       "<g clip-path=\"url(#clip1400)\">\n",
       "<text style=\"fill:#000000; fill-opacity:1; font-family:Arial,Helvetica Neue,Helvetica,sans-serif; font-size:48px; text-anchor:middle;\" transform=\"rotate(0, 943.682, 1541.47)\" x=\"943.682\" y=\"1541.47\">40</text>\n",
       "</g>\n",
       "<g clip-path=\"url(#clip1400)\">\n",
       "<text style=\"fill:#000000; fill-opacity:1; font-family:Arial,Helvetica Neue,Helvetica,sans-serif; font-size:48px; text-anchor:middle;\" transform=\"rotate(0, 1392.5, 1541.47)\" x=\"1392.5\" y=\"1541.47\">60</text>\n",
       "</g>\n",
       "<g clip-path=\"url(#clip1400)\">\n",
       "<text style=\"fill:#000000; fill-opacity:1; font-family:Arial,Helvetica Neue,Helvetica,sans-serif; font-size:48px; text-anchor:middle;\" transform=\"rotate(0, 1841.32, 1541.47)\" x=\"1841.32\" y=\"1541.47\">80</text>\n",
       "</g>\n",
       "<g clip-path=\"url(#clip1400)\">\n",
       "<text style=\"fill:#000000; fill-opacity:1; font-family:Arial,Helvetica Neue,Helvetica,sans-serif; font-size:48px; text-anchor:middle;\" transform=\"rotate(0, 2290.15, 1541.47)\" x=\"2290.15\" y=\"1541.47\">100</text>\n",
       "</g>\n",
       "<g clip-path=\"url(#clip1400)\">\n",
       "<text style=\"fill:#000000; fill-opacity:1; font-family:Arial,Helvetica Neue,Helvetica,sans-serif; font-size:48px; text-anchor:end;\" transform=\"rotate(0, 116.517, 1218.49)\" x=\"116.517\" y=\"1218.49\">20</text>\n",
       "</g>\n",
       "<g clip-path=\"url(#clip1400)\">\n",
       "<text style=\"fill:#000000; fill-opacity:1; font-family:Arial,Helvetica Neue,Helvetica,sans-serif; font-size:48px; text-anchor:end;\" transform=\"rotate(0, 116.517, 929.403)\" x=\"116.517\" y=\"929.403\">40</text>\n",
       "</g>\n",
       "<g clip-path=\"url(#clip1400)\">\n",
       "<text style=\"fill:#000000; fill-opacity:1; font-family:Arial,Helvetica Neue,Helvetica,sans-serif; font-size:48px; text-anchor:end;\" transform=\"rotate(0, 116.517, 640.316)\" x=\"116.517\" y=\"640.316\">60</text>\n",
       "</g>\n",
       "<g clip-path=\"url(#clip1400)\">\n",
       "<text style=\"fill:#000000; fill-opacity:1; font-family:Arial,Helvetica Neue,Helvetica,sans-serif; font-size:48px; text-anchor:end;\" transform=\"rotate(0, 116.517, 351.229)\" x=\"116.517\" y=\"351.229\">80</text>\n",
       "</g>\n",
       "<circle clip-path=\"url(#clip1402)\" style=\"fill:#000000; stroke:none; fill-opacity:1\" cx=\"1975.97\" cy=\"304.82\" r=\"18\"/>\n",
       "<circle clip-path=\"url(#clip1402)\" style=\"fill:#009af9; stroke:none; fill-opacity:1\" cx=\"1975.97\" cy=\"304.82\" r=\"14\"/>\n",
       "<circle clip-path=\"url(#clip1402)\" style=\"fill:#000000; stroke:none; fill-opacity:1\" cx=\"1751.56\" cy=\"290.366\" r=\"18\"/>\n",
       "<circle clip-path=\"url(#clip1402)\" style=\"fill:#009af9; stroke:none; fill-opacity:1\" cx=\"1751.56\" cy=\"290.366\" r=\"14\"/>\n",
       "<circle clip-path=\"url(#clip1402)\" style=\"fill:#000000; stroke:none; fill-opacity:1\" cx=\"2110.62\" cy=\"189.186\" r=\"18\"/>\n",
       "<circle clip-path=\"url(#clip1402)\" style=\"fill:#009af9; stroke:none; fill-opacity:1\" cx=\"2110.62\" cy=\"189.186\" r=\"14\"/>\n",
       "<circle clip-path=\"url(#clip1402)\" style=\"fill:#000000; stroke:none; fill-opacity:1\" cx=\"2065.73\" cy=\"391.547\" r=\"18\"/>\n",
       "<circle clip-path=\"url(#clip1402)\" style=\"fill:#009af9; stroke:none; fill-opacity:1\" cx=\"2065.73\" cy=\"391.547\" r=\"14\"/>\n",
       "<circle clip-path=\"url(#clip1402)\" style=\"fill:#000000; stroke:none; fill-opacity:1\" cx=\"1975.97\" cy=\"189.186\" r=\"18\"/>\n",
       "<circle clip-path=\"url(#clip1402)\" style=\"fill:#009af9; stroke:none; fill-opacity:1\" cx=\"1975.97\" cy=\"189.186\" r=\"14\"/>\n",
       "<circle clip-path=\"url(#clip1402)\" style=\"fill:#000000; stroke:none; fill-opacity:1\" cx=\"1931.09\" cy=\"232.549\" r=\"18\"/>\n",
       "<circle clip-path=\"url(#clip1402)\" style=\"fill:#009af9; stroke:none; fill-opacity:1\" cx=\"1931.09\" cy=\"232.549\" r=\"14\"/>\n",
       "<circle clip-path=\"url(#clip1402)\" style=\"fill:#000000; stroke:none; fill-opacity:1\" cx=\"2133.06\" cy=\"145.823\" r=\"18\"/>\n",
       "<circle clip-path=\"url(#clip1402)\" style=\"fill:#009af9; stroke:none; fill-opacity:1\" cx=\"2133.06\" cy=\"145.823\" r=\"14\"/>\n",
       "<circle clip-path=\"url(#clip1402)\" style=\"fill:#000000; stroke:none; fill-opacity:1\" cx=\"2290.15\" cy=\"189.186\" r=\"18\"/>\n",
       "<circle clip-path=\"url(#clip1402)\" style=\"fill:#009af9; stroke:none; fill-opacity:1\" cx=\"2290.15\" cy=\"189.186\" r=\"14\"/>\n",
       "<circle clip-path=\"url(#clip1402)\" style=\"fill:#000000; stroke:none; fill-opacity:1\" cx=\"1998.41\" cy=\"738.451\" r=\"18\"/>\n",
       "<circle clip-path=\"url(#clip1402)\" style=\"fill:#009af9; stroke:none; fill-opacity:1\" cx=\"1998.41\" cy=\"738.451\" r=\"14\"/>\n",
       "<circle clip-path=\"url(#clip1402)\" style=\"fill:#000000; stroke:none; fill-opacity:1\" cx=\"1975.97\" cy=\"218.094\" r=\"18\"/>\n",
       "<circle clip-path=\"url(#clip1402)\" style=\"fill:#009af9; stroke:none; fill-opacity:1\" cx=\"1975.97\" cy=\"218.094\" r=\"14\"/>\n",
       "<circle clip-path=\"url(#clip1402)\" style=\"fill:#000000; stroke:none; fill-opacity:1\" cx=\"1706.68\" cy=\"666.179\" r=\"18\"/>\n",
       "<circle clip-path=\"url(#clip1402)\" style=\"fill:#009af9; stroke:none; fill-opacity:1\" cx=\"1706.68\" cy=\"666.179\" r=\"14\"/>\n",
       "<circle clip-path=\"url(#clip1402)\" style=\"fill:#000000; stroke:none; fill-opacity:1\" cx=\"2245.26\" cy=\"203.64\" r=\"18\"/>\n",
       "<circle clip-path=\"url(#clip1402)\" style=\"fill:#009af9; stroke:none; fill-opacity:1\" cx=\"2245.26\" cy=\"203.64\" r=\"14\"/>\n",
       "<circle clip-path=\"url(#clip1402)\" style=\"fill:#000000; stroke:none; fill-opacity:1\" cx=\"2222.82\" cy=\"88.0053\" r=\"18\"/>\n",
       "<circle clip-path=\"url(#clip1402)\" style=\"fill:#009af9; stroke:none; fill-opacity:1\" cx=\"2222.82\" cy=\"88.0053\" r=\"14\"/>\n",
       "<circle clip-path=\"url(#clip1402)\" style=\"fill:#000000; stroke:none; fill-opacity:1\" cx=\"1931.09\" cy=\"637.27\" r=\"18\"/>\n",
       "<circle clip-path=\"url(#clip1402)\" style=\"fill:#009af9; stroke:none; fill-opacity:1\" cx=\"1931.09\" cy=\"637.27\" r=\"14\"/>\n",
       "<circle clip-path=\"url(#clip1402)\" style=\"fill:#000000; stroke:none; fill-opacity:1\" cx=\"2088.18\" cy=\"434.91\" r=\"18\"/>\n",
       "<circle clip-path=\"url(#clip1402)\" style=\"fill:#009af9; stroke:none; fill-opacity:1\" cx=\"2088.18\" cy=\"434.91\" r=\"14\"/>\n",
       "<circle clip-path=\"url(#clip1402)\" style=\"fill:#000000; stroke:none; fill-opacity:1\" cx=\"809.036\" cy=\"940.812\" r=\"18\"/>\n",
       "<circle clip-path=\"url(#clip1402)\" style=\"fill:#009af9; stroke:none; fill-opacity:1\" cx=\"809.036\" cy=\"940.812\" r=\"14\"/>\n",
       "<circle clip-path=\"url(#clip1402)\" style=\"fill:#000000; stroke:none; fill-opacity:1\" cx=\"1055.89\" cy=\"391.547\" r=\"18\"/>\n",
       "<circle clip-path=\"url(#clip1402)\" style=\"fill:#009af9; stroke:none; fill-opacity:1\" cx=\"1055.89\" cy=\"391.547\" r=\"14\"/>\n",
       "<circle clip-path=\"url(#clip1402)\" style=\"fill:#000000; stroke:none; fill-opacity:1\" cx=\"1302.74\" cy=\"319.275\" r=\"18\"/>\n",
       "<circle clip-path=\"url(#clip1402)\" style=\"fill:#009af9; stroke:none; fill-opacity:1\" cx=\"1302.74\" cy=\"319.275\" r=\"14\"/>\n",
       "<circle clip-path=\"url(#clip1402)\" style=\"fill:#000000; stroke:none; fill-opacity:1\" cx=\"1033.45\" cy=\"839.631\" r=\"18\"/>\n",
       "<circle clip-path=\"url(#clip1402)\" style=\"fill:#009af9; stroke:none; fill-opacity:1\" cx=\"1033.45\" cy=\"839.631\" r=\"14\"/>\n",
       "<circle clip-path=\"url(#clip1402)\" style=\"fill:#000000; stroke:none; fill-opacity:1\" cx=\"1886.21\" cy=\"160.277\" r=\"18\"/>\n",
       "<circle clip-path=\"url(#clip1402)\" style=\"fill:#009af9; stroke:none; fill-opacity:1\" cx=\"1886.21\" cy=\"160.277\" r=\"14\"/>\n",
       "<circle clip-path=\"url(#clip1402)\" style=\"fill:#000000; stroke:none; fill-opacity:1\" cx=\"1661.8\" cy=\"926.357\" r=\"18\"/>\n",
       "<circle clip-path=\"url(#clip1402)\" style=\"fill:#009af9; stroke:none; fill-opacity:1\" cx=\"1661.8\" cy=\"926.357\" r=\"14\"/>\n",
       "<circle clip-path=\"url(#clip1402)\" style=\"fill:#000000; stroke:none; fill-opacity:1\" cx=\"1280.3\" cy=\"998.629\" r=\"18\"/>\n",
       "<circle clip-path=\"url(#clip1402)\" style=\"fill:#009af9; stroke:none; fill-opacity:1\" cx=\"1280.3\" cy=\"998.629\" r=\"14\"/>\n",
       "<circle clip-path=\"url(#clip1402)\" style=\"fill:#000000; stroke:none; fill-opacity:1\" cx=\"1639.35\" cy=\"897.448\" r=\"18\"/>\n",
       "<circle clip-path=\"url(#clip1402)\" style=\"fill:#009af9; stroke:none; fill-opacity:1\" cx=\"1639.35\" cy=\"897.448\" r=\"14\"/>\n",
       "<circle clip-path=\"url(#clip1402)\" style=\"fill:#000000; stroke:none; fill-opacity:1\" cx=\"1168.09\" cy=\"1258.81\" r=\"18\"/>\n",
       "<circle clip-path=\"url(#clip1402)\" style=\"fill:#009af9; stroke:none; fill-opacity:1\" cx=\"1168.09\" cy=\"1258.81\" r=\"14\"/>\n",
       "<circle clip-path=\"url(#clip1402)\" style=\"fill:#000000; stroke:none; fill-opacity:1\" cx=\"562.184\" cy=\"1013.08\" r=\"18\"/>\n",
       "<circle clip-path=\"url(#clip1402)\" style=\"fill:#009af9; stroke:none; fill-opacity:1\" cx=\"562.184\" cy=\"1013.08\" r=\"14\"/>\n",
       "<circle clip-path=\"url(#clip1402)\" style=\"fill:#000000; stroke:none; fill-opacity:1\" cx=\"921.241\" cy=\"723.996\" r=\"18\"/>\n",
       "<circle clip-path=\"url(#clip1402)\" style=\"fill:#009af9; stroke:none; fill-opacity:1\" cx=\"921.241\" cy=\"723.996\" r=\"14\"/>\n",
       "<circle clip-path=\"url(#clip1402)\" style=\"fill:#000000; stroke:none; fill-opacity:1\" cx=\"674.389\" cy=\"521.636\" r=\"18\"/>\n",
       "<circle clip-path=\"url(#clip1402)\" style=\"fill:#009af9; stroke:none; fill-opacity:1\" cx=\"674.389\" cy=\"521.636\" r=\"14\"/>\n",
       "<circle clip-path=\"url(#clip1402)\" style=\"fill:#000000; stroke:none; fill-opacity:1\" cx=\"764.154\" cy=\"666.179\" r=\"18\"/>\n",
       "<circle clip-path=\"url(#clip1402)\" style=\"fill:#009af9; stroke:none; fill-opacity:1\" cx=\"764.154\" cy=\"666.179\" r=\"14\"/>\n",
       "<circle clip-path=\"url(#clip1402)\" style=\"fill:#000000; stroke:none; fill-opacity:1\" cx=\"539.743\" cy=\"1114.26\" r=\"18\"/>\n",
       "<circle clip-path=\"url(#clip1402)\" style=\"fill:#009af9; stroke:none; fill-opacity:1\" cx=\"539.743\" cy=\"1114.26\" r=\"14\"/>\n",
       "<circle clip-path=\"url(#clip1402)\" style=\"fill:#000000; stroke:none; fill-opacity:1\" cx=\"607.066\" cy=\"1070.9\" r=\"18\"/>\n",
       "<circle clip-path=\"url(#clip1402)\" style=\"fill:#009af9; stroke:none; fill-opacity:1\" cx=\"607.066\" cy=\"1070.9\" r=\"14\"/>\n",
       "<circle clip-path=\"url(#clip1402)\" style=\"fill:#000000; stroke:none; fill-opacity:1\" cx=\"696.831\" cy=\"1345.53\" r=\"18\"/>\n",
       "<circle clip-path=\"url(#clip1402)\" style=\"fill:#009af9; stroke:none; fill-opacity:1\" cx=\"696.831\" cy=\"1345.53\" r=\"14\"/>\n",
       "<circle clip-path=\"url(#clip1402)\" style=\"fill:#000000; stroke:none; fill-opacity:1\" cx=\"203.127\" cy=\"1273.26\" r=\"18\"/>\n",
       "<circle clip-path=\"url(#clip1402)\" style=\"fill:#009af9; stroke:none; fill-opacity:1\" cx=\"203.127\" cy=\"1273.26\" r=\"14\"/>\n",
       "<circle clip-path=\"url(#clip1402)\" style=\"fill:#000000; stroke:none; fill-opacity:1\" cx=\"629.507\" cy=\"1215.44\" r=\"18\"/>\n",
       "<circle clip-path=\"url(#clip1402)\" style=\"fill:#009af9; stroke:none; fill-opacity:1\" cx=\"629.507\" cy=\"1215.44\" r=\"14\"/>\n",
       "<circle clip-path=\"url(#clip1402)\" style=\"fill:#000000; stroke:none; fill-opacity:1\" cx=\"472.42\" cy=\"1345.53\" r=\"18\"/>\n",
       "<circle clip-path=\"url(#clip1402)\" style=\"fill:#009af9; stroke:none; fill-opacity:1\" cx=\"472.42\" cy=\"1345.53\" r=\"14\"/>\n",
       "<circle clip-path=\"url(#clip1402)\" style=\"fill:#000000; stroke:none; fill-opacity:1\" cx=\"382.656\" cy=\"1302.17\" r=\"18\"/>\n",
       "<circle clip-path=\"url(#clip1402)\" style=\"fill:#009af9; stroke:none; fill-opacity:1\" cx=\"382.656\" cy=\"1302.17\" r=\"14\"/>\n",
       "<circle clip-path=\"url(#clip1402)\" style=\"fill:#000000; stroke:none; fill-opacity:1\" cx=\"494.861\" cy=\"1143.17\" r=\"18\"/>\n",
       "<circle clip-path=\"url(#clip1402)\" style=\"fill:#009af9; stroke:none; fill-opacity:1\" cx=\"494.861\" cy=\"1143.17\" r=\"14\"/>\n",
       "<circle clip-path=\"url(#clip1402)\" style=\"fill:#000000; stroke:none; fill-opacity:1\" cx=\"629.507\" cy=\"1200.99\" r=\"18\"/>\n",
       "<circle clip-path=\"url(#clip1402)\" style=\"fill:#009af9; stroke:none; fill-opacity:1\" cx=\"629.507\" cy=\"1200.99\" r=\"14\"/>\n",
       "<circle clip-path=\"url(#clip1402)\" style=\"fill:#000000; stroke:none; fill-opacity:1\" cx=\"674.389\" cy=\"1388.9\" r=\"18\"/>\n",
       "<circle clip-path=\"url(#clip1402)\" style=\"fill:#009af9; stroke:none; fill-opacity:1\" cx=\"674.389\" cy=\"1388.9\" r=\"14\"/>\n",
       "<circle clip-path=\"url(#clip1402)\" style=\"fill:#000000; stroke:none; fill-opacity:1\" cx=\"427.538\" cy=\"1446.71\" r=\"18\"/>\n",
       "<circle clip-path=\"url(#clip1402)\" style=\"fill:#009af9; stroke:none; fill-opacity:1\" cx=\"427.538\" cy=\"1446.71\" r=\"14\"/>\n",
       "<circle clip-path=\"url(#clip1402)\" style=\"fill:#000000; stroke:none; fill-opacity:1\" cx=\"539.743\" cy=\"1258.81\" r=\"18\"/>\n",
       "<circle clip-path=\"url(#clip1402)\" style=\"fill:#009af9; stroke:none; fill-opacity:1\" cx=\"539.743\" cy=\"1258.81\" r=\"14\"/>\n",
       "<circle clip-path=\"url(#clip1402)\" style=\"fill:#000000; stroke:none; fill-opacity:1\" cx=\"719.272\" cy=\"1403.35\" r=\"18\"/>\n",
       "<circle clip-path=\"url(#clip1402)\" style=\"fill:#009af9; stroke:none; fill-opacity:1\" cx=\"719.272\" cy=\"1403.35\" r=\"14\"/>\n",
       "<circle clip-path=\"url(#clip1402)\" style=\"fill:#000000; stroke:none; fill-opacity:1\" cx=\"607.066\" cy=\"1331.08\" r=\"18\"/>\n",
       "<circle clip-path=\"url(#clip1402)\" style=\"fill:#009af9; stroke:none; fill-opacity:1\" cx=\"607.066\" cy=\"1331.08\" r=\"14\"/>\n",
       "<circle clip-path=\"url(#clip1402)\" style=\"fill:#000000; stroke:none; fill-opacity:1\" cx=\"494.861\" cy=\"1374.44\" r=\"18\"/>\n",
       "<circle clip-path=\"url(#clip1402)\" style=\"fill:#009af9; stroke:none; fill-opacity:1\" cx=\"494.861\" cy=\"1374.44\" r=\"14\"/>\n",
       "<circle clip-path=\"url(#clip1402)\" style=\"fill:#000000; stroke:none; fill-opacity:1\" cx=\"1100.77\" cy=\"897.448\" r=\"18\"/>\n",
       "<circle clip-path=\"url(#clip1402)\" style=\"fill:#009af9; stroke:none; fill-opacity:1\" cx=\"1100.77\" cy=\"897.448\" r=\"14\"/>\n",
       "<circle clip-path=\"url(#clip1402)\" style=\"fill:#000000; stroke:none; fill-opacity:1\" cx=\"764.154\" cy=\"1345.53\" r=\"18\"/>\n",
       "<circle clip-path=\"url(#clip1402)\" style=\"fill:#009af9; stroke:none; fill-opacity:1\" cx=\"764.154\" cy=\"1345.53\" r=\"14\"/>\n",
       "</svg>\n"
      ]
     },
     "execution_count": 4,
     "metadata": {},
     "output_type": "execute_result"
    }
   ],
   "source": [
    "@df duncan scatter(:education, :prestige, legend=false)"
   ]
  },
  {
   "cell_type": "code",
   "execution_count": 5,
   "metadata": {},
   "outputs": [
    {
     "data": {
      "image/svg+xml": [
       "<?xml version=\"1.0\" encoding=\"utf-8\"?>\n",
       "<svg xmlns=\"http://www.w3.org/2000/svg\" xmlns:xlink=\"http://www.w3.org/1999/xlink\" width=\"600\" height=\"400\" viewBox=\"0 0 2400 1600\">\n",
       "<defs>\n",
       "  <clipPath id=\"clip1800\">\n",
       "    <rect x=\"0\" y=\"0\" width=\"2400\" height=\"1600\"/>\n",
       "  </clipPath>\n",
       "</defs>\n",
       "<path clip-path=\"url(#clip1800)\" d=\"\n",
       "M0 1600 L2400 1600 L2400 0 L0 0  Z\n",
       "  \" fill=\"#ffffff\" fill-rule=\"evenodd\" fill-opacity=\"1\"/>\n",
       "<defs>\n",
       "  <clipPath id=\"clip1801\">\n",
       "    <rect x=\"480\" y=\"0\" width=\"1681\" height=\"1600\"/>\n",
       "  </clipPath>\n",
       "</defs>\n",
       "<path clip-path=\"url(#clip1800)\" d=\"\n",
       "M140.517 1487.47 L2352.76 1487.47 L2352.76 47.2441 L140.517 47.2441  Z\n",
       "  \" fill=\"#ffffff\" fill-rule=\"evenodd\" fill-opacity=\"1\"/>\n",
       "<defs>\n",
       "  <clipPath id=\"clip1802\">\n",
       "    <rect x=\"140\" y=\"47\" width=\"2213\" height=\"1441\"/>\n",
       "  </clipPath>\n",
       "</defs>\n",
       "<polyline clip-path=\"url(#clip1802)\" style=\"stroke:#000000; stroke-width:2; stroke-opacity:0.1; fill:none\" points=\"\n",
       "  569.766,1487.47 569.766,47.2441 \n",
       "  \"/>\n",
       "<polyline clip-path=\"url(#clip1802)\" style=\"stroke:#000000; stroke-width:2; stroke-opacity:0.1; fill:none\" points=\"\n",
       "  1133.82,1487.47 1133.82,47.2441 \n",
       "  \"/>\n",
       "<polyline clip-path=\"url(#clip1802)\" style=\"stroke:#000000; stroke-width:2; stroke-opacity:0.1; fill:none\" points=\"\n",
       "  1697.88,1487.47 1697.88,47.2441 \n",
       "  \"/>\n",
       "<polyline clip-path=\"url(#clip1802)\" style=\"stroke:#000000; stroke-width:2; stroke-opacity:0.1; fill:none\" points=\"\n",
       "  2261.94,1487.47 2261.94,47.2441 \n",
       "  \"/>\n",
       "<polyline clip-path=\"url(#clip1802)\" style=\"stroke:#000000; stroke-width:2; stroke-opacity:0.1; fill:none\" points=\"\n",
       "  140.517,1200.99 2352.76,1200.99 \n",
       "  \"/>\n",
       "<polyline clip-path=\"url(#clip1802)\" style=\"stroke:#000000; stroke-width:2; stroke-opacity:0.1; fill:none\" points=\"\n",
       "  140.517,911.903 2352.76,911.903 \n",
       "  \"/>\n",
       "<polyline clip-path=\"url(#clip1802)\" style=\"stroke:#000000; stroke-width:2; stroke-opacity:0.1; fill:none\" points=\"\n",
       "  140.517,622.816 2352.76,622.816 \n",
       "  \"/>\n",
       "<polyline clip-path=\"url(#clip1802)\" style=\"stroke:#000000; stroke-width:2; stroke-opacity:0.1; fill:none\" points=\"\n",
       "  140.517,333.729 2352.76,333.729 \n",
       "  \"/>\n",
       "<polyline clip-path=\"url(#clip1800)\" style=\"stroke:#000000; stroke-width:4; stroke-opacity:1; fill:none\" points=\"\n",
       "  140.517,1487.47 2352.76,1487.47 \n",
       "  \"/>\n",
       "<polyline clip-path=\"url(#clip1800)\" style=\"stroke:#000000; stroke-width:4; stroke-opacity:1; fill:none\" points=\"\n",
       "  140.517,1487.47 140.517,47.2441 \n",
       "  \"/>\n",
       "<polyline clip-path=\"url(#clip1800)\" style=\"stroke:#000000; stroke-width:4; stroke-opacity:1; fill:none\" points=\"\n",
       "  569.766,1487.47 569.766,1465.87 \n",
       "  \"/>\n",
       "<polyline clip-path=\"url(#clip1800)\" style=\"stroke:#000000; stroke-width:4; stroke-opacity:1; fill:none\" points=\"\n",
       "  1133.82,1487.47 1133.82,1465.87 \n",
       "  \"/>\n",
       "<polyline clip-path=\"url(#clip1800)\" style=\"stroke:#000000; stroke-width:4; stroke-opacity:1; fill:none\" points=\"\n",
       "  1697.88,1487.47 1697.88,1465.87 \n",
       "  \"/>\n",
       "<polyline clip-path=\"url(#clip1800)\" style=\"stroke:#000000; stroke-width:4; stroke-opacity:1; fill:none\" points=\"\n",
       "  2261.94,1487.47 2261.94,1465.87 \n",
       "  \"/>\n",
       "<polyline clip-path=\"url(#clip1800)\" style=\"stroke:#000000; stroke-width:4; stroke-opacity:1; fill:none\" points=\"\n",
       "  140.517,1200.99 173.7,1200.99 \n",
       "  \"/>\n",
       "<polyline clip-path=\"url(#clip1800)\" style=\"stroke:#000000; stroke-width:4; stroke-opacity:1; fill:none\" points=\"\n",
       "  140.517,911.903 173.7,911.903 \n",
       "  \"/>\n",
       "<polyline clip-path=\"url(#clip1800)\" style=\"stroke:#000000; stroke-width:4; stroke-opacity:1; fill:none\" points=\"\n",
       "  140.517,622.816 173.7,622.816 \n",
       "  \"/>\n",
       "<polyline clip-path=\"url(#clip1800)\" style=\"stroke:#000000; stroke-width:4; stroke-opacity:1; fill:none\" points=\"\n",
       "  140.517,333.729 173.7,333.729 \n",
       "  \"/>\n",
       "<g clip-path=\"url(#clip1800)\">\n",
       "<text style=\"fill:#000000; fill-opacity:1; font-family:Arial,Helvetica Neue,Helvetica,sans-serif; font-size:48px; text-anchor:middle;\" transform=\"rotate(0, 569.766, 1541.47)\" x=\"569.766\" y=\"1541.47\">20</text>\n",
       "</g>\n",
       "<g clip-path=\"url(#clip1800)\">\n",
       "<text style=\"fill:#000000; fill-opacity:1; font-family:Arial,Helvetica Neue,Helvetica,sans-serif; font-size:48px; text-anchor:middle;\" transform=\"rotate(0, 1133.82, 1541.47)\" x=\"1133.82\" y=\"1541.47\">40</text>\n",
       "</g>\n",
       "<g clip-path=\"url(#clip1800)\">\n",
       "<text style=\"fill:#000000; fill-opacity:1; font-family:Arial,Helvetica Neue,Helvetica,sans-serif; font-size:48px; text-anchor:middle;\" transform=\"rotate(0, 1697.88, 1541.47)\" x=\"1697.88\" y=\"1541.47\">60</text>\n",
       "</g>\n",
       "<g clip-path=\"url(#clip1800)\">\n",
       "<text style=\"fill:#000000; fill-opacity:1; font-family:Arial,Helvetica Neue,Helvetica,sans-serif; font-size:48px; text-anchor:middle;\" transform=\"rotate(0, 2261.94, 1541.47)\" x=\"2261.94\" y=\"1541.47\">80</text>\n",
       "</g>\n",
       "<g clip-path=\"url(#clip1800)\">\n",
       "<text style=\"fill:#000000; fill-opacity:1; font-family:Arial,Helvetica Neue,Helvetica,sans-serif; font-size:48px; text-anchor:end;\" transform=\"rotate(0, 116.517, 1218.49)\" x=\"116.517\" y=\"1218.49\">20</text>\n",
       "</g>\n",
       "<g clip-path=\"url(#clip1800)\">\n",
       "<text style=\"fill:#000000; fill-opacity:1; font-family:Arial,Helvetica Neue,Helvetica,sans-serif; font-size:48px; text-anchor:end;\" transform=\"rotate(0, 116.517, 929.403)\" x=\"116.517\" y=\"929.403\">40</text>\n",
       "</g>\n",
       "<g clip-path=\"url(#clip1800)\">\n",
       "<text style=\"fill:#000000; fill-opacity:1; font-family:Arial,Helvetica Neue,Helvetica,sans-serif; font-size:48px; text-anchor:end;\" transform=\"rotate(0, 116.517, 640.316)\" x=\"116.517\" y=\"640.316\">60</text>\n",
       "</g>\n",
       "<g clip-path=\"url(#clip1800)\">\n",
       "<text style=\"fill:#000000; fill-opacity:1; font-family:Arial,Helvetica Neue,Helvetica,sans-serif; font-size:48px; text-anchor:end;\" transform=\"rotate(0, 116.517, 351.229)\" x=\"116.517\" y=\"351.229\">80</text>\n",
       "</g>\n",
       "<circle clip-path=\"url(#clip1802)\" style=\"fill:#000000; stroke:none; fill-opacity:1\" cx=\"1754.29\" cy=\"304.82\" r=\"18\"/>\n",
       "<circle clip-path=\"url(#clip1802)\" style=\"fill:#009af9; stroke:none; fill-opacity:1\" cx=\"1754.29\" cy=\"304.82\" r=\"14\"/>\n",
       "<circle clip-path=\"url(#clip1802)\" style=\"fill:#000000; stroke:none; fill-opacity:1\" cx=\"2036.32\" cy=\"290.366\" r=\"18\"/>\n",
       "<circle clip-path=\"url(#clip1802)\" style=\"fill:#009af9; stroke:none; fill-opacity:1\" cx=\"2036.32\" cy=\"290.366\" r=\"14\"/>\n",
       "<circle clip-path=\"url(#clip1802)\" style=\"fill:#000000; stroke:none; fill-opacity:1\" cx=\"2120.93\" cy=\"189.186\" r=\"18\"/>\n",
       "<circle clip-path=\"url(#clip1802)\" style=\"fill:#009af9; stroke:none; fill-opacity:1\" cx=\"2120.93\" cy=\"189.186\" r=\"14\"/>\n",
       "<circle clip-path=\"url(#clip1802)\" style=\"fill:#000000; stroke:none; fill-opacity:1\" cx=\"1556.87\" cy=\"391.547\" r=\"18\"/>\n",
       "<circle clip-path=\"url(#clip1802)\" style=\"fill:#009af9; stroke:none; fill-opacity:1\" cx=\"1556.87\" cy=\"391.547\" r=\"14\"/>\n",
       "<circle clip-path=\"url(#clip1802)\" style=\"fill:#000000; stroke:none; fill-opacity:1\" cx=\"1810.7\" cy=\"189.186\" r=\"18\"/>\n",
       "<circle clip-path=\"url(#clip1802)\" style=\"fill:#009af9; stroke:none; fill-opacity:1\" cx=\"1810.7\" cy=\"189.186\" r=\"14\"/>\n",
       "<circle clip-path=\"url(#clip1802)\" style=\"fill:#000000; stroke:none; fill-opacity:1\" cx=\"597.969\" cy=\"232.549\" r=\"18\"/>\n",
       "<circle clip-path=\"url(#clip1802)\" style=\"fill:#009af9; stroke:none; fill-opacity:1\" cx=\"597.969\" cy=\"232.549\" r=\"14\"/>\n",
       "<circle clip-path=\"url(#clip1802)\" style=\"fill:#000000; stroke:none; fill-opacity:1\" cx=\"1810.7\" cy=\"145.823\" r=\"18\"/>\n",
       "<circle clip-path=\"url(#clip1802)\" style=\"fill:#009af9; stroke:none; fill-opacity:1\" cx=\"1810.7\" cy=\"145.823\" r=\"14\"/>\n",
       "<circle clip-path=\"url(#clip1802)\" style=\"fill:#000000; stroke:none; fill-opacity:1\" cx=\"2261.94\" cy=\"189.186\" r=\"18\"/>\n",
       "<circle clip-path=\"url(#clip1802)\" style=\"fill:#009af9; stroke:none; fill-opacity:1\" cx=\"2261.94\" cy=\"189.186\" r=\"14\"/>\n",
       "<circle clip-path=\"url(#clip1802)\" style=\"fill:#000000; stroke:none; fill-opacity:1\" cx=\"1895.3\" cy=\"738.451\" r=\"18\"/>\n",
       "<circle clip-path=\"url(#clip1802)\" style=\"fill:#009af9; stroke:none; fill-opacity:1\" cx=\"1895.3\" cy=\"738.451\" r=\"14\"/>\n",
       "<circle clip-path=\"url(#clip1802)\" style=\"fill:#000000; stroke:none; fill-opacity:1\" cx=\"2036.32\" cy=\"218.094\" r=\"18\"/>\n",
       "<circle clip-path=\"url(#clip1802)\" style=\"fill:#009af9; stroke:none; fill-opacity:1\" cx=\"2036.32\" cy=\"218.094\" r=\"14\"/>\n",
       "<circle clip-path=\"url(#clip1802)\" style=\"fill:#000000; stroke:none; fill-opacity:1\" cx=\"1190.23\" cy=\"666.179\" r=\"18\"/>\n",
       "<circle clip-path=\"url(#clip1802)\" style=\"fill:#009af9; stroke:none; fill-opacity:1\" cx=\"1190.23\" cy=\"666.179\" r=\"14\"/>\n",
       "<circle clip-path=\"url(#clip1802)\" style=\"fill:#000000; stroke:none; fill-opacity:1\" cx=\"2149.13\" cy=\"203.64\" r=\"18\"/>\n",
       "<circle clip-path=\"url(#clip1802)\" style=\"fill:#009af9; stroke:none; fill-opacity:1\" cx=\"2149.13\" cy=\"203.64\" r=\"14\"/>\n",
       "<circle clip-path=\"url(#clip1802)\" style=\"fill:#000000; stroke:none; fill-opacity:1\" cx=\"2149.13\" cy=\"88.0053\" r=\"18\"/>\n",
       "<circle clip-path=\"url(#clip1802)\" style=\"fill:#009af9; stroke:none; fill-opacity:1\" cx=\"2149.13\" cy=\"88.0053\" r=\"14\"/>\n",
       "<circle clip-path=\"url(#clip1802)\" style=\"fill:#000000; stroke:none; fill-opacity:1\" cx=\"1162.03\" cy=\"637.27\" r=\"18\"/>\n",
       "<circle clip-path=\"url(#clip1802)\" style=\"fill:#009af9; stroke:none; fill-opacity:1\" cx=\"1162.03\" cy=\"637.27\" r=\"14\"/>\n",
       "<circle clip-path=\"url(#clip1802)\" style=\"fill:#000000; stroke:none; fill-opacity:1\" cx=\"1359.45\" cy=\"434.91\" r=\"18\"/>\n",
       "<circle clip-path=\"url(#clip1802)\" style=\"fill:#009af9; stroke:none; fill-opacity:1\" cx=\"1359.45\" cy=\"434.91\" r=\"14\"/>\n",
       "<circle clip-path=\"url(#clip1802)\" style=\"fill:#000000; stroke:none; fill-opacity:1\" cx=\"2149.13\" cy=\"940.812\" r=\"18\"/>\n",
       "<circle clip-path=\"url(#clip1802)\" style=\"fill:#009af9; stroke:none; fill-opacity:1\" cx=\"2149.13\" cy=\"940.812\" r=\"14\"/>\n",
       "<circle clip-path=\"url(#clip1802)\" style=\"fill:#000000; stroke:none; fill-opacity:1\" cx=\"1500.46\" cy=\"391.547\" r=\"18\"/>\n",
       "<circle clip-path=\"url(#clip1802)\" style=\"fill:#009af9; stroke:none; fill-opacity:1\" cx=\"1500.46\" cy=\"391.547\" r=\"14\"/>\n",
       "<circle clip-path=\"url(#clip1802)\" style=\"fill:#000000; stroke:none; fill-opacity:1\" cx=\"1697.88\" cy=\"319.275\" r=\"18\"/>\n",
       "<circle clip-path=\"url(#clip1802)\" style=\"fill:#009af9; stroke:none; fill-opacity:1\" cx=\"1697.88\" cy=\"319.275\" r=\"14\"/>\n",
       "<circle clip-path=\"url(#clip1802)\" style=\"fill:#000000; stroke:none; fill-opacity:1\" cx=\"1190.23\" cy=\"839.631\" r=\"18\"/>\n",
       "<circle clip-path=\"url(#clip1802)\" style=\"fill:#009af9; stroke:none; fill-opacity:1\" cx=\"1190.23\" cy=\"839.631\" r=\"14\"/>\n",
       "<circle clip-path=\"url(#clip1802)\" style=\"fill:#000000; stroke:none; fill-opacity:1\" cx=\"2205.54\" cy=\"160.277\" r=\"18\"/>\n",
       "<circle clip-path=\"url(#clip1802)\" style=\"fill:#009af9; stroke:none; fill-opacity:1\" cx=\"2205.54\" cy=\"160.277\" r=\"14\"/>\n",
       "<circle clip-path=\"url(#clip1802)\" style=\"fill:#000000; stroke:none; fill-opacity:1\" cx=\"823.592\" cy=\"926.357\" r=\"18\"/>\n",
       "<circle clip-path=\"url(#clip1802)\" style=\"fill:#009af9; stroke:none; fill-opacity:1\" cx=\"823.592\" cy=\"926.357\" r=\"14\"/>\n",
       "<circle clip-path=\"url(#clip1802)\" style=\"fill:#000000; stroke:none; fill-opacity:1\" cx=\"1359.45\" cy=\"998.629\" r=\"18\"/>\n",
       "<circle clip-path=\"url(#clip1802)\" style=\"fill:#009af9; stroke:none; fill-opacity:1\" cx=\"1359.45\" cy=\"998.629\" r=\"14\"/>\n",
       "<circle clip-path=\"url(#clip1802)\" style=\"fill:#000000; stroke:none; fill-opacity:1\" cx=\"1556.87\" cy=\"897.448\" r=\"18\"/>\n",
       "<circle clip-path=\"url(#clip1802)\" style=\"fill:#009af9; stroke:none; fill-opacity:1\" cx=\"1556.87\" cy=\"897.448\" r=\"14\"/>\n",
       "<circle clip-path=\"url(#clip1802)\" style=\"fill:#000000; stroke:none; fill-opacity:1\" cx=\"823.592\" cy=\"1258.81\" r=\"18\"/>\n",
       "<circle clip-path=\"url(#clip1802)\" style=\"fill:#009af9; stroke:none; fill-opacity:1\" cx=\"823.592\" cy=\"1258.81\" r=\"14\"/>\n",
       "<circle clip-path=\"url(#clip1802)\" style=\"fill:#000000; stroke:none; fill-opacity:1\" cx=\"597.969\" cy=\"1013.08\" r=\"18\"/>\n",
       "<circle clip-path=\"url(#clip1802)\" style=\"fill:#009af9; stroke:none; fill-opacity:1\" cx=\"597.969\" cy=\"1013.08\" r=\"14\"/>\n",
       "<circle clip-path=\"url(#clip1802)\" style=\"fill:#000000; stroke:none; fill-opacity:1\" cx=\"1331.25\" cy=\"723.996\" r=\"18\"/>\n",
       "<circle clip-path=\"url(#clip1802)\" style=\"fill:#009af9; stroke:none; fill-opacity:1\" cx=\"1331.25\" cy=\"723.996\" r=\"14\"/>\n",
       "<circle clip-path=\"url(#clip1802)\" style=\"fill:#000000; stroke:none; fill-opacity:1\" cx=\"2290.15\" cy=\"521.636\" r=\"18\"/>\n",
       "<circle clip-path=\"url(#clip1802)\" style=\"fill:#009af9; stroke:none; fill-opacity:1\" cx=\"2290.15\" cy=\"521.636\" r=\"14\"/>\n",
       "<circle clip-path=\"url(#clip1802)\" style=\"fill:#000000; stroke:none; fill-opacity:1\" cx=\"1021.01\" cy=\"666.179\" r=\"18\"/>\n",
       "<circle clip-path=\"url(#clip1802)\" style=\"fill:#009af9; stroke:none; fill-opacity:1\" cx=\"1021.01\" cy=\"666.179\" r=\"14\"/>\n",
       "<circle clip-path=\"url(#clip1802)\" style=\"fill:#000000; stroke:none; fill-opacity:1\" cx=\"626.172\" cy=\"1114.26\" r=\"18\"/>\n",
       "<circle clip-path=\"url(#clip1802)\" style=\"fill:#009af9; stroke:none; fill-opacity:1\" cx=\"626.172\" cy=\"1114.26\" r=\"14\"/>\n",
       "<circle clip-path=\"url(#clip1802)\" style=\"fill:#000000; stroke:none; fill-opacity:1\" cx=\"1246.64\" cy=\"1070.9\" r=\"18\"/>\n",
       "<circle clip-path=\"url(#clip1802)\" style=\"fill:#009af9; stroke:none; fill-opacity:1\" cx=\"1246.64\" cy=\"1070.9\" r=\"14\"/>\n",
       "<circle clip-path=\"url(#clip1802)\" style=\"fill:#000000; stroke:none; fill-opacity:1\" cx=\"428.751\" cy=\"1345.53\" r=\"18\"/>\n",
       "<circle clip-path=\"url(#clip1802)\" style=\"fill:#009af9; stroke:none; fill-opacity:1\" cx=\"428.751\" cy=\"1345.53\" r=\"14\"/>\n",
       "<circle clip-path=\"url(#clip1802)\" style=\"fill:#000000; stroke:none; fill-opacity:1\" cx=\"203.127\" cy=\"1273.26\" r=\"18\"/>\n",
       "<circle clip-path=\"url(#clip1802)\" style=\"fill:#009af9; stroke:none; fill-opacity:1\" cx=\"203.127\" cy=\"1273.26\" r=\"14\"/>\n",
       "<circle clip-path=\"url(#clip1802)\" style=\"fill:#000000; stroke:none; fill-opacity:1\" cx=\"1190.23\" cy=\"1215.44\" r=\"18\"/>\n",
       "<circle clip-path=\"url(#clip1802)\" style=\"fill:#009af9; stroke:none; fill-opacity:1\" cx=\"1190.23\" cy=\"1215.44\" r=\"14\"/>\n",
       "<circle clip-path=\"url(#clip1802)\" style=\"fill:#000000; stroke:none; fill-opacity:1\" cx=\"259.533\" cy=\"1345.53\" r=\"18\"/>\n",
       "<circle clip-path=\"url(#clip1802)\" style=\"fill:#009af9; stroke:none; fill-opacity:1\" cx=\"259.533\" cy=\"1345.53\" r=\"14\"/>\n",
       "<circle clip-path=\"url(#clip1802)\" style=\"fill:#000000; stroke:none; fill-opacity:1\" cx=\"597.969\" cy=\"1302.17\" r=\"18\"/>\n",
       "<circle clip-path=\"url(#clip1802)\" style=\"fill:#009af9; stroke:none; fill-opacity:1\" cx=\"597.969\" cy=\"1302.17\" r=\"14\"/>\n",
       "<circle clip-path=\"url(#clip1802)\" style=\"fill:#000000; stroke:none; fill-opacity:1\" cx=\"597.969\" cy=\"1143.17\" r=\"18\"/>\n",
       "<circle clip-path=\"url(#clip1802)\" style=\"fill:#009af9; stroke:none; fill-opacity:1\" cx=\"597.969\" cy=\"1143.17\" r=\"14\"/>\n",
       "<circle clip-path=\"url(#clip1802)\" style=\"fill:#000000; stroke:none; fill-opacity:1\" cx=\"456.954\" cy=\"1200.99\" r=\"18\"/>\n",
       "<circle clip-path=\"url(#clip1802)\" style=\"fill:#009af9; stroke:none; fill-opacity:1\" cx=\"456.954\" cy=\"1200.99\" r=\"14\"/>\n",
       "<circle clip-path=\"url(#clip1802)\" style=\"fill:#000000; stroke:none; fill-opacity:1\" cx=\"456.954\" cy=\"1388.9\" r=\"18\"/>\n",
       "<circle clip-path=\"url(#clip1802)\" style=\"fill:#009af9; stroke:none; fill-opacity:1\" cx=\"456.954\" cy=\"1388.9\" r=\"14\"/>\n",
       "<circle clip-path=\"url(#clip1802)\" style=\"fill:#000000; stroke:none; fill-opacity:1\" cx=\"259.533\" cy=\"1446.71\" r=\"18\"/>\n",
       "<circle clip-path=\"url(#clip1802)\" style=\"fill:#009af9; stroke:none; fill-opacity:1\" cx=\"259.533\" cy=\"1446.71\" r=\"14\"/>\n",
       "<circle clip-path=\"url(#clip1802)\" style=\"fill:#000000; stroke:none; fill-opacity:1\" cx=\"400.548\" cy=\"1258.81\" r=\"18\"/>\n",
       "<circle clip-path=\"url(#clip1802)\" style=\"fill:#009af9; stroke:none; fill-opacity:1\" cx=\"400.548\" cy=\"1258.81\" r=\"14\"/>\n",
       "<circle clip-path=\"url(#clip1802)\" style=\"fill:#000000; stroke:none; fill-opacity:1\" cx=\"344.142\" cy=\"1403.35\" r=\"18\"/>\n",
       "<circle clip-path=\"url(#clip1802)\" style=\"fill:#009af9; stroke:none; fill-opacity:1\" cx=\"344.142\" cy=\"1403.35\" r=\"14\"/>\n",
       "<circle clip-path=\"url(#clip1802)\" style=\"fill:#000000; stroke:none; fill-opacity:1\" cx=\"485.157\" cy=\"1331.08\" r=\"18\"/>\n",
       "<circle clip-path=\"url(#clip1802)\" style=\"fill:#009af9; stroke:none; fill-opacity:1\" cx=\"485.157\" cy=\"1331.08\" r=\"14\"/>\n",
       "<circle clip-path=\"url(#clip1802)\" style=\"fill:#000000; stroke:none; fill-opacity:1\" cx=\"203.127\" cy=\"1374.44\" r=\"18\"/>\n",
       "<circle clip-path=\"url(#clip1802)\" style=\"fill:#009af9; stroke:none; fill-opacity:1\" cx=\"203.127\" cy=\"1374.44\" r=\"14\"/>\n",
       "<circle clip-path=\"url(#clip1802)\" style=\"fill:#000000; stroke:none; fill-opacity:1\" cx=\"964.607\" cy=\"897.448\" r=\"18\"/>\n",
       "<circle clip-path=\"url(#clip1802)\" style=\"fill:#009af9; stroke:none; fill-opacity:1\" cx=\"964.607\" cy=\"897.448\" r=\"14\"/>\n",
       "<circle clip-path=\"url(#clip1802)\" style=\"fill:#000000; stroke:none; fill-opacity:1\" cx=\"231.33\" cy=\"1345.53\" r=\"18\"/>\n",
       "<circle clip-path=\"url(#clip1802)\" style=\"fill:#009af9; stroke:none; fill-opacity:1\" cx=\"231.33\" cy=\"1345.53\" r=\"14\"/>\n",
       "</svg>\n"
      ]
     },
     "execution_count": 5,
     "metadata": {},
     "output_type": "execute_result"
    }
   ],
   "source": [
    "@df duncan scatter(:income, :prestige, legend=false)"
   ]
  },
  {
   "cell_type": "code",
   "execution_count": 6,
   "metadata": {},
   "outputs": [
    {
     "data": {
      "image/svg+xml": [
       "<?xml version=\"1.0\" encoding=\"utf-8\"?>\n",
       "<svg xmlns=\"http://www.w3.org/2000/svg\" xmlns:xlink=\"http://www.w3.org/1999/xlink\" width=\"600\" height=\"400\" viewBox=\"0 0 2400 1600\">\n",
       "<defs>\n",
       "  <clipPath id=\"clip2200\">\n",
       "    <rect x=\"0\" y=\"0\" width=\"2400\" height=\"1600\"/>\n",
       "  </clipPath>\n",
       "</defs>\n",
       "<path clip-path=\"url(#clip2200)\" d=\"\n",
       "M0 1600 L2400 1600 L2400 0 L0 0  Z\n",
       "  \" fill=\"#ffffff\" fill-rule=\"evenodd\" fill-opacity=\"1\"/>\n",
       "<defs>\n",
       "  <clipPath id=\"clip2201\">\n",
       "    <rect x=\"480\" y=\"0\" width=\"1681\" height=\"1600\"/>\n",
       "  </clipPath>\n",
       "</defs>\n",
       "<path clip-path=\"url(#clip2200)\" d=\"\n",
       "M167.279 1487.47 L2352.76 1487.47 L2352.76 47.2441 L167.279 47.2441  Z\n",
       "  \" fill=\"#ffffff\" fill-rule=\"evenodd\" fill-opacity=\"1\"/>\n",
       "<defs>\n",
       "  <clipPath id=\"clip2202\">\n",
       "    <rect x=\"167\" y=\"47\" width=\"2186\" height=\"1441\"/>\n",
       "  </clipPath>\n",
       "</defs>\n",
       "<polyline clip-path=\"url(#clip2202)\" style=\"stroke:#000000; stroke-width:2; stroke-opacity:0.1; fill:none\" points=\"\n",
       "  591.335,1487.47 591.335,47.2441 \n",
       "  \"/>\n",
       "<polyline clip-path=\"url(#clip2202)\" style=\"stroke:#000000; stroke-width:2; stroke-opacity:0.1; fill:none\" points=\"\n",
       "  1148.57,1487.47 1148.57,47.2441 \n",
       "  \"/>\n",
       "<polyline clip-path=\"url(#clip2202)\" style=\"stroke:#000000; stroke-width:2; stroke-opacity:0.1; fill:none\" points=\"\n",
       "  1705.81,1487.47 1705.81,47.2441 \n",
       "  \"/>\n",
       "<polyline clip-path=\"url(#clip2202)\" style=\"stroke:#000000; stroke-width:2; stroke-opacity:0.1; fill:none\" points=\"\n",
       "  2263.04,1487.47 2263.04,47.2441 \n",
       "  \"/>\n",
       "<polyline clip-path=\"url(#clip2202)\" style=\"stroke:#000000; stroke-width:2; stroke-opacity:0.1; fill:none\" points=\"\n",
       "  167.279,1256.79 2352.76,1256.79 \n",
       "  \"/>\n",
       "<polyline clip-path=\"url(#clip2202)\" style=\"stroke:#000000; stroke-width:2; stroke-opacity:0.1; fill:none\" points=\"\n",
       "  167.279,964.591 2352.76,964.591 \n",
       "  \"/>\n",
       "<polyline clip-path=\"url(#clip2202)\" style=\"stroke:#000000; stroke-width:2; stroke-opacity:0.1; fill:none\" points=\"\n",
       "  167.279,672.396 2352.76,672.396 \n",
       "  \"/>\n",
       "<polyline clip-path=\"url(#clip2202)\" style=\"stroke:#000000; stroke-width:2; stroke-opacity:0.1; fill:none\" points=\"\n",
       "  167.279,380.201 2352.76,380.201 \n",
       "  \"/>\n",
       "<polyline clip-path=\"url(#clip2202)\" style=\"stroke:#000000; stroke-width:2; stroke-opacity:0.1; fill:none\" points=\"\n",
       "  167.279,88.0053 2352.76,88.0053 \n",
       "  \"/>\n",
       "<polyline clip-path=\"url(#clip2200)\" style=\"stroke:#000000; stroke-width:4; stroke-opacity:1; fill:none\" points=\"\n",
       "  167.279,1487.47 2352.76,1487.47 \n",
       "  \"/>\n",
       "<polyline clip-path=\"url(#clip2200)\" style=\"stroke:#000000; stroke-width:4; stroke-opacity:1; fill:none\" points=\"\n",
       "  167.279,1487.47 167.279,47.2441 \n",
       "  \"/>\n",
       "<polyline clip-path=\"url(#clip2200)\" style=\"stroke:#000000; stroke-width:4; stroke-opacity:1; fill:none\" points=\"\n",
       "  591.335,1487.47 591.335,1465.87 \n",
       "  \"/>\n",
       "<polyline clip-path=\"url(#clip2200)\" style=\"stroke:#000000; stroke-width:4; stroke-opacity:1; fill:none\" points=\"\n",
       "  1148.57,1487.47 1148.57,1465.87 \n",
       "  \"/>\n",
       "<polyline clip-path=\"url(#clip2200)\" style=\"stroke:#000000; stroke-width:4; stroke-opacity:1; fill:none\" points=\"\n",
       "  1705.81,1487.47 1705.81,1465.87 \n",
       "  \"/>\n",
       "<polyline clip-path=\"url(#clip2200)\" style=\"stroke:#000000; stroke-width:4; stroke-opacity:1; fill:none\" points=\"\n",
       "  2263.04,1487.47 2263.04,1465.87 \n",
       "  \"/>\n",
       "<polyline clip-path=\"url(#clip2200)\" style=\"stroke:#000000; stroke-width:4; stroke-opacity:1; fill:none\" points=\"\n",
       "  167.279,1256.79 200.061,1256.79 \n",
       "  \"/>\n",
       "<polyline clip-path=\"url(#clip2200)\" style=\"stroke:#000000; stroke-width:4; stroke-opacity:1; fill:none\" points=\"\n",
       "  167.279,964.591 200.061,964.591 \n",
       "  \"/>\n",
       "<polyline clip-path=\"url(#clip2200)\" style=\"stroke:#000000; stroke-width:4; stroke-opacity:1; fill:none\" points=\"\n",
       "  167.279,672.396 200.061,672.396 \n",
       "  \"/>\n",
       "<polyline clip-path=\"url(#clip2200)\" style=\"stroke:#000000; stroke-width:4; stroke-opacity:1; fill:none\" points=\"\n",
       "  167.279,380.201 200.061,380.201 \n",
       "  \"/>\n",
       "<polyline clip-path=\"url(#clip2200)\" style=\"stroke:#000000; stroke-width:4; stroke-opacity:1; fill:none\" points=\"\n",
       "  167.279,88.0053 200.061,88.0053 \n",
       "  \"/>\n",
       "<g clip-path=\"url(#clip2200)\">\n",
       "<text style=\"fill:#000000; fill-opacity:1; font-family:Arial,Helvetica Neue,Helvetica,sans-serif; font-size:48px; text-anchor:middle;\" transform=\"rotate(0, 591.335, 1541.47)\" x=\"591.335\" y=\"1541.47\">20</text>\n",
       "</g>\n",
       "<g clip-path=\"url(#clip2200)\">\n",
       "<text style=\"fill:#000000; fill-opacity:1; font-family:Arial,Helvetica Neue,Helvetica,sans-serif; font-size:48px; text-anchor:middle;\" transform=\"rotate(0, 1148.57, 1541.47)\" x=\"1148.57\" y=\"1541.47\">40</text>\n",
       "</g>\n",
       "<g clip-path=\"url(#clip2200)\">\n",
       "<text style=\"fill:#000000; fill-opacity:1; font-family:Arial,Helvetica Neue,Helvetica,sans-serif; font-size:48px; text-anchor:middle;\" transform=\"rotate(0, 1705.81, 1541.47)\" x=\"1705.81\" y=\"1541.47\">60</text>\n",
       "</g>\n",
       "<g clip-path=\"url(#clip2200)\">\n",
       "<text style=\"fill:#000000; fill-opacity:1; font-family:Arial,Helvetica Neue,Helvetica,sans-serif; font-size:48px; text-anchor:middle;\" transform=\"rotate(0, 2263.04, 1541.47)\" x=\"2263.04\" y=\"1541.47\">80</text>\n",
       "</g>\n",
       "<g clip-path=\"url(#clip2200)\">\n",
       "<text style=\"fill:#000000; fill-opacity:1; font-family:Arial,Helvetica Neue,Helvetica,sans-serif; font-size:48px; text-anchor:end;\" transform=\"rotate(0, 143.279, 1274.29)\" x=\"143.279\" y=\"1274.29\">20</text>\n",
       "</g>\n",
       "<g clip-path=\"url(#clip2200)\">\n",
       "<text style=\"fill:#000000; fill-opacity:1; font-family:Arial,Helvetica Neue,Helvetica,sans-serif; font-size:48px; text-anchor:end;\" transform=\"rotate(0, 143.279, 982.091)\" x=\"143.279\" y=\"982.091\">40</text>\n",
       "</g>\n",
       "<g clip-path=\"url(#clip2200)\">\n",
       "<text style=\"fill:#000000; fill-opacity:1; font-family:Arial,Helvetica Neue,Helvetica,sans-serif; font-size:48px; text-anchor:end;\" transform=\"rotate(0, 143.279, 689.896)\" x=\"143.279\" y=\"689.896\">60</text>\n",
       "</g>\n",
       "<g clip-path=\"url(#clip2200)\">\n",
       "<text style=\"fill:#000000; fill-opacity:1; font-family:Arial,Helvetica Neue,Helvetica,sans-serif; font-size:48px; text-anchor:end;\" transform=\"rotate(0, 143.279, 397.701)\" x=\"143.279\" y=\"397.701\">80</text>\n",
       "</g>\n",
       "<g clip-path=\"url(#clip2200)\">\n",
       "<text style=\"fill:#000000; fill-opacity:1; font-family:Arial,Helvetica Neue,Helvetica,sans-serif; font-size:48px; text-anchor:end;\" transform=\"rotate(0, 143.279, 105.505)\" x=\"143.279\" y=\"105.505\">100</text>\n",
       "</g>\n",
       "<circle clip-path=\"url(#clip2202)\" style=\"fill:#000000; stroke:none; fill-opacity:1\" cx=\"1761.53\" cy=\"292.542\" r=\"18\"/>\n",
       "<circle clip-path=\"url(#clip2202)\" style=\"fill:#009af9; stroke:none; fill-opacity:1\" cx=\"1761.53\" cy=\"292.542\" r=\"14\"/>\n",
       "<circle clip-path=\"url(#clip2202)\" style=\"fill:#000000; stroke:none; fill-opacity:1\" cx=\"2040.15\" cy=\"438.64\" r=\"18\"/>\n",
       "<circle clip-path=\"url(#clip2202)\" style=\"fill:#009af9; stroke:none; fill-opacity:1\" cx=\"2040.15\" cy=\"438.64\" r=\"14\"/>\n",
       "<circle clip-path=\"url(#clip2202)\" style=\"fill:#000000; stroke:none; fill-opacity:1\" cx=\"2123.73\" cy=\"204.883\" r=\"18\"/>\n",
       "<circle clip-path=\"url(#clip2202)\" style=\"fill:#009af9; stroke:none; fill-opacity:1\" cx=\"2123.73\" cy=\"204.883\" r=\"14\"/>\n",
       "<circle clip-path=\"url(#clip2202)\" style=\"fill:#000000; stroke:none; fill-opacity:1\" cx=\"1566.5\" cy=\"234.103\" r=\"18\"/>\n",
       "<circle clip-path=\"url(#clip2202)\" style=\"fill:#009af9; stroke:none; fill-opacity:1\" cx=\"1566.5\" cy=\"234.103\" r=\"14\"/>\n",
       "<circle clip-path=\"url(#clip2202)\" style=\"fill:#000000; stroke:none; fill-opacity:1\" cx=\"1817.25\" cy=\"292.542\" r=\"18\"/>\n",
       "<circle clip-path=\"url(#clip2202)\" style=\"fill:#009af9; stroke:none; fill-opacity:1\" cx=\"1817.25\" cy=\"292.542\" r=\"14\"/>\n",
       "<circle clip-path=\"url(#clip2202)\" style=\"fill:#000000; stroke:none; fill-opacity:1\" cx=\"619.197\" cy=\"321.762\" r=\"18\"/>\n",
       "<circle clip-path=\"url(#clip2202)\" style=\"fill:#009af9; stroke:none; fill-opacity:1\" cx=\"619.197\" cy=\"321.762\" r=\"14\"/>\n",
       "<circle clip-path=\"url(#clip2202)\" style=\"fill:#000000; stroke:none; fill-opacity:1\" cx=\"1817.25\" cy=\"190.274\" r=\"18\"/>\n",
       "<circle clip-path=\"url(#clip2202)\" style=\"fill:#009af9; stroke:none; fill-opacity:1\" cx=\"1817.25\" cy=\"190.274\" r=\"14\"/>\n",
       "<circle clip-path=\"url(#clip2202)\" style=\"fill:#000000; stroke:none; fill-opacity:1\" cx=\"2263.04\" cy=\"88.0053\" r=\"18\"/>\n",
       "<circle clip-path=\"url(#clip2202)\" style=\"fill:#009af9; stroke:none; fill-opacity:1\" cx=\"2263.04\" cy=\"88.0053\" r=\"14\"/>\n",
       "<circle clip-path=\"url(#clip2202)\" style=\"fill:#000000; stroke:none; fill-opacity:1\" cx=\"1900.84\" cy=\"277.932\" r=\"18\"/>\n",
       "<circle clip-path=\"url(#clip2202)\" style=\"fill:#009af9; stroke:none; fill-opacity:1\" cx=\"1900.84\" cy=\"277.932\" r=\"14\"/>\n",
       "<circle clip-path=\"url(#clip2202)\" style=\"fill:#000000; stroke:none; fill-opacity:1\" cx=\"2040.15\" cy=\"292.542\" r=\"18\"/>\n",
       "<circle clip-path=\"url(#clip2202)\" style=\"fill:#009af9; stroke:none; fill-opacity:1\" cx=\"2040.15\" cy=\"292.542\" r=\"14\"/>\n",
       "<circle clip-path=\"url(#clip2202)\" style=\"fill:#000000; stroke:none; fill-opacity:1\" cx=\"1204.29\" cy=\"467.859\" r=\"18\"/>\n",
       "<circle clip-path=\"url(#clip2202)\" style=\"fill:#009af9; stroke:none; fill-opacity:1\" cx=\"1204.29\" cy=\"467.859\" r=\"14\"/>\n",
       "<circle clip-path=\"url(#clip2202)\" style=\"fill:#000000; stroke:none; fill-opacity:1\" cx=\"2151.59\" cy=\"117.225\" r=\"18\"/>\n",
       "<circle clip-path=\"url(#clip2202)\" style=\"fill:#009af9; stroke:none; fill-opacity:1\" cx=\"2151.59\" cy=\"117.225\" r=\"14\"/>\n",
       "<circle clip-path=\"url(#clip2202)\" style=\"fill:#000000; stroke:none; fill-opacity:1\" cx=\"2151.59\" cy=\"131.835\" r=\"18\"/>\n",
       "<circle clip-path=\"url(#clip2202)\" style=\"fill:#009af9; stroke:none; fill-opacity:1\" cx=\"2151.59\" cy=\"131.835\" r=\"14\"/>\n",
       "<circle clip-path=\"url(#clip2202)\" style=\"fill:#000000; stroke:none; fill-opacity:1\" cx=\"1176.43\" cy=\"321.762\" r=\"18\"/>\n",
       "<circle clip-path=\"url(#clip2202)\" style=\"fill:#009af9; stroke:none; fill-opacity:1\" cx=\"1176.43\" cy=\"321.762\" r=\"14\"/>\n",
       "<circle clip-path=\"url(#clip2202)\" style=\"fill:#000000; stroke:none; fill-opacity:1\" cx=\"1371.46\" cy=\"219.493\" r=\"18\"/>\n",
       "<circle clip-path=\"url(#clip2202)\" style=\"fill:#009af9; stroke:none; fill-opacity:1\" cx=\"1371.46\" cy=\"219.493\" r=\"14\"/>\n",
       "<circle clip-path=\"url(#clip2202)\" style=\"fill:#000000; stroke:none; fill-opacity:1\" cx=\"2151.59\" cy=\"1052.25\" r=\"18\"/>\n",
       "<circle clip-path=\"url(#clip2202)\" style=\"fill:#009af9; stroke:none; fill-opacity:1\" cx=\"2151.59\" cy=\"1052.25\" r=\"14\"/>\n",
       "<circle clip-path=\"url(#clip2202)\" style=\"fill:#000000; stroke:none; fill-opacity:1\" cx=\"1510.77\" cy=\"891.542\" r=\"18\"/>\n",
       "<circle clip-path=\"url(#clip2202)\" style=\"fill:#009af9; stroke:none; fill-opacity:1\" cx=\"1510.77\" cy=\"891.542\" r=\"14\"/>\n",
       "<circle clip-path=\"url(#clip2202)\" style=\"fill:#000000; stroke:none; fill-opacity:1\" cx=\"1705.81\" cy=\"730.835\" r=\"18\"/>\n",
       "<circle clip-path=\"url(#clip2202)\" style=\"fill:#009af9; stroke:none; fill-opacity:1\" cx=\"1705.81\" cy=\"730.835\" r=\"14\"/>\n",
       "<circle clip-path=\"url(#clip2202)\" style=\"fill:#000000; stroke:none; fill-opacity:1\" cx=\"1204.29\" cy=\"906.152\" r=\"18\"/>\n",
       "<circle clip-path=\"url(#clip2202)\" style=\"fill:#009af9; stroke:none; fill-opacity:1\" cx=\"1204.29\" cy=\"906.152\" r=\"14\"/>\n",
       "<circle clip-path=\"url(#clip2202)\" style=\"fill:#000000; stroke:none; fill-opacity:1\" cx=\"2207.32\" cy=\"350.981\" r=\"18\"/>\n",
       "<circle clip-path=\"url(#clip2202)\" style=\"fill:#009af9; stroke:none; fill-opacity:1\" cx=\"2207.32\" cy=\"350.981\" r=\"14\"/>\n",
       "<circle clip-path=\"url(#clip2202)\" style=\"fill:#000000; stroke:none; fill-opacity:1\" cx=\"842.091\" cy=\"497.079\" r=\"18\"/>\n",
       "<circle clip-path=\"url(#clip2202)\" style=\"fill:#009af9; stroke:none; fill-opacity:1\" cx=\"842.091\" cy=\"497.079\" r=\"14\"/>\n",
       "<circle clip-path=\"url(#clip2202)\" style=\"fill:#000000; stroke:none; fill-opacity:1\" cx=\"1371.46\" cy=\"745.445\" r=\"18\"/>\n",
       "<circle clip-path=\"url(#clip2202)\" style=\"fill:#009af9; stroke:none; fill-opacity:1\" cx=\"1371.46\" cy=\"745.445\" r=\"14\"/>\n",
       "<circle clip-path=\"url(#clip2202)\" style=\"fill:#000000; stroke:none; fill-opacity:1\" cx=\"1566.5\" cy=\"511.689\" r=\"18\"/>\n",
       "<circle clip-path=\"url(#clip2202)\" style=\"fill:#009af9; stroke:none; fill-opacity:1\" cx=\"1566.5\" cy=\"511.689\" r=\"14\"/>\n",
       "<circle clip-path=\"url(#clip2202)\" style=\"fill:#000000; stroke:none; fill-opacity:1\" cx=\"842.091\" cy=\"818.494\" r=\"18\"/>\n",
       "<circle clip-path=\"url(#clip2202)\" style=\"fill:#009af9; stroke:none; fill-opacity:1\" cx=\"842.091\" cy=\"818.494\" r=\"14\"/>\n",
       "<circle clip-path=\"url(#clip2202)\" style=\"fill:#000000; stroke:none; fill-opacity:1\" cx=\"619.197\" cy=\"1212.96\" r=\"18\"/>\n",
       "<circle clip-path=\"url(#clip2202)\" style=\"fill:#009af9; stroke:none; fill-opacity:1\" cx=\"619.197\" cy=\"1212.96\" r=\"14\"/>\n",
       "<circle clip-path=\"url(#clip2202)\" style=\"fill:#000000; stroke:none; fill-opacity:1\" cx=\"1343.6\" cy=\"979.201\" r=\"18\"/>\n",
       "<circle clip-path=\"url(#clip2202)\" style=\"fill:#009af9; stroke:none; fill-opacity:1\" cx=\"1343.6\" cy=\"979.201\" r=\"14\"/>\n",
       "<circle clip-path=\"url(#clip2202)\" style=\"fill:#000000; stroke:none; fill-opacity:1\" cx=\"2290.9\" cy=\"1139.91\" r=\"18\"/>\n",
       "<circle clip-path=\"url(#clip2202)\" style=\"fill:#009af9; stroke:none; fill-opacity:1\" cx=\"2290.9\" cy=\"1139.91\" r=\"14\"/>\n",
       "<circle clip-path=\"url(#clip2202)\" style=\"fill:#000000; stroke:none; fill-opacity:1\" cx=\"1037.12\" cy=\"1081.47\" r=\"18\"/>\n",
       "<circle clip-path=\"url(#clip2202)\" style=\"fill:#009af9; stroke:none; fill-opacity:1\" cx=\"1037.12\" cy=\"1081.47\" r=\"14\"/>\n",
       "<circle clip-path=\"url(#clip2202)\" style=\"fill:#000000; stroke:none; fill-opacity:1\" cx=\"647.059\" cy=\"1227.57\" r=\"18\"/>\n",
       "<circle clip-path=\"url(#clip2202)\" style=\"fill:#009af9; stroke:none; fill-opacity:1\" cx=\"647.059\" cy=\"1227.57\" r=\"14\"/>\n",
       "<circle clip-path=\"url(#clip2202)\" style=\"fill:#000000; stroke:none; fill-opacity:1\" cx=\"1260.02\" cy=\"1183.74\" r=\"18\"/>\n",
       "<circle clip-path=\"url(#clip2202)\" style=\"fill:#009af9; stroke:none; fill-opacity:1\" cx=\"1260.02\" cy=\"1183.74\" r=\"14\"/>\n",
       "<circle clip-path=\"url(#clip2202)\" style=\"fill:#000000; stroke:none; fill-opacity:1\" cx=\"452.026\" cy=\"1125.3\" r=\"18\"/>\n",
       "<circle clip-path=\"url(#clip2202)\" style=\"fill:#009af9; stroke:none; fill-opacity:1\" cx=\"452.026\" cy=\"1125.3\" r=\"14\"/>\n",
       "<circle clip-path=\"url(#clip2202)\" style=\"fill:#000000; stroke:none; fill-opacity:1\" cx=\"229.132\" cy=\"1446.71\" r=\"18\"/>\n",
       "<circle clip-path=\"url(#clip2202)\" style=\"fill:#009af9; stroke:none; fill-opacity:1\" cx=\"229.132\" cy=\"1446.71\" r=\"14\"/>\n",
       "<circle clip-path=\"url(#clip2202)\" style=\"fill:#000000; stroke:none; fill-opacity:1\" cx=\"1204.29\" cy=\"1169.13\" r=\"18\"/>\n",
       "<circle clip-path=\"url(#clip2202)\" style=\"fill:#009af9; stroke:none; fill-opacity:1\" cx=\"1204.29\" cy=\"1169.13\" r=\"14\"/>\n",
       "<circle clip-path=\"url(#clip2202)\" style=\"fill:#000000; stroke:none; fill-opacity:1\" cx=\"284.856\" cy=\"1271.4\" r=\"18\"/>\n",
       "<circle clip-path=\"url(#clip2202)\" style=\"fill:#009af9; stroke:none; fill-opacity:1\" cx=\"284.856\" cy=\"1271.4\" r=\"14\"/>\n",
       "<circle clip-path=\"url(#clip2202)\" style=\"fill:#000000; stroke:none; fill-opacity:1\" cx=\"619.197\" cy=\"1329.84\" r=\"18\"/>\n",
       "<circle clip-path=\"url(#clip2202)\" style=\"fill:#009af9; stroke:none; fill-opacity:1\" cx=\"619.197\" cy=\"1329.84\" r=\"14\"/>\n",
       "<circle clip-path=\"url(#clip2202)\" style=\"fill:#000000; stroke:none; fill-opacity:1\" cx=\"619.197\" cy=\"1256.79\" r=\"18\"/>\n",
       "<circle clip-path=\"url(#clip2202)\" style=\"fill:#009af9; stroke:none; fill-opacity:1\" cx=\"619.197\" cy=\"1256.79\" r=\"14\"/>\n",
       "<circle clip-path=\"url(#clip2202)\" style=\"fill:#000000; stroke:none; fill-opacity:1\" cx=\"479.888\" cy=\"1169.13\" r=\"18\"/>\n",
       "<circle clip-path=\"url(#clip2202)\" style=\"fill:#009af9; stroke:none; fill-opacity:1\" cx=\"479.888\" cy=\"1169.13\" r=\"14\"/>\n",
       "<circle clip-path=\"url(#clip2202)\" style=\"fill:#000000; stroke:none; fill-opacity:1\" cx=\"479.888\" cy=\"1139.91\" r=\"18\"/>\n",
       "<circle clip-path=\"url(#clip2202)\" style=\"fill:#009af9; stroke:none; fill-opacity:1\" cx=\"479.888\" cy=\"1139.91\" r=\"14\"/>\n",
       "<circle clip-path=\"url(#clip2202)\" style=\"fill:#000000; stroke:none; fill-opacity:1\" cx=\"284.856\" cy=\"1300.62\" r=\"18\"/>\n",
       "<circle clip-path=\"url(#clip2202)\" style=\"fill:#009af9; stroke:none; fill-opacity:1\" cx=\"284.856\" cy=\"1300.62\" r=\"14\"/>\n",
       "<circle clip-path=\"url(#clip2202)\" style=\"fill:#000000; stroke:none; fill-opacity:1\" cx=\"424.165\" cy=\"1227.57\" r=\"18\"/>\n",
       "<circle clip-path=\"url(#clip2202)\" style=\"fill:#009af9; stroke:none; fill-opacity:1\" cx=\"424.165\" cy=\"1227.57\" r=\"14\"/>\n",
       "<circle clip-path=\"url(#clip2202)\" style=\"fill:#000000; stroke:none; fill-opacity:1\" cx=\"368.441\" cy=\"1110.69\" r=\"18\"/>\n",
       "<circle clip-path=\"url(#clip2202)\" style=\"fill:#009af9; stroke:none; fill-opacity:1\" cx=\"368.441\" cy=\"1110.69\" r=\"14\"/>\n",
       "<circle clip-path=\"url(#clip2202)\" style=\"fill:#000000; stroke:none; fill-opacity:1\" cx=\"507.75\" cy=\"1183.74\" r=\"18\"/>\n",
       "<circle clip-path=\"url(#clip2202)\" style=\"fill:#009af9; stroke:none; fill-opacity:1\" cx=\"507.75\" cy=\"1183.74\" r=\"14\"/>\n",
       "<circle clip-path=\"url(#clip2202)\" style=\"fill:#000000; stroke:none; fill-opacity:1\" cx=\"229.132\" cy=\"1256.79\" r=\"18\"/>\n",
       "<circle clip-path=\"url(#clip2202)\" style=\"fill:#009af9; stroke:none; fill-opacity:1\" cx=\"229.132\" cy=\"1256.79\" r=\"14\"/>\n",
       "<circle clip-path=\"url(#clip2202)\" style=\"fill:#000000; stroke:none; fill-opacity:1\" cx=\"981.4\" cy=\"862.323\" r=\"18\"/>\n",
       "<circle clip-path=\"url(#clip2202)\" style=\"fill:#009af9; stroke:none; fill-opacity:1\" cx=\"981.4\" cy=\"862.323\" r=\"14\"/>\n",
       "<circle clip-path=\"url(#clip2202)\" style=\"fill:#000000; stroke:none; fill-opacity:1\" cx=\"256.994\" cy=\"1081.47\" r=\"18\"/>\n",
       "<circle clip-path=\"url(#clip2202)\" style=\"fill:#009af9; stroke:none; fill-opacity:1\" cx=\"256.994\" cy=\"1081.47\" r=\"14\"/>\n",
       "</svg>\n"
      ]
     },
     "execution_count": 6,
     "metadata": {},
     "output_type": "execute_result"
    }
   ],
   "source": [
    "@df duncan scatter(:income, :education, legend=false)"
   ]
  },
  {
   "cell_type": "markdown",
   "metadata": {},
   "source": [
    "From the plots above, we see that both education and income are positively correlated with prestige; hence, both of these variables might be useful in helping explain prestige. Let's fit a linear model using these explanatory variables to explain prestige."
   ]
  },
  {
   "cell_type": "markdown",
   "metadata": {},
   "source": [
    "### Fitting the model \n",
    "\n",
    "We will fit the following model, that explains the prestige of an occupation as a linear function of income and education:\n",
    "\n",
    "$$\n",
    "\\begin{aligned}\n",
    "\\texttt{prestige}_i\n",
    "= \\theta_0^* \n",
    "+ \\theta_\\texttt{income}^*\\cdot\\texttt{income}_i\n",
    "+ \\theta_\\texttt{education}^*\\cdot\\texttt{education}_i\n",
    "+ \\varepsilon_i\n",
    "\\end{aligned}\n",
    "$$\n",
    "\n",
    "In order to fit this model, we will define the design matrix (X) and our response variable (y). We will onece again use `unpack` to split our dataset, selecting our target column and ensuring the columns have the appropriate `scitype` as expected by our model `LinearRegressor`. For more information, check the documentation on [`ScientificTypes.jl`](https://alan-turing-institute.github.io/ScientificTypes.jl/stable/). For more information on a model from `MLJ`, use `info(model_name)` on the IJulia terminal."
   ]
  },
  {
   "cell_type": "code",
   "execution_count": 3,
   "metadata": {},
   "outputs": [
    {
     "data": {
      "text/html": [
       "<table class=\"data-frame\"><thead><tr><th></th><th>income</th><th>education</th></tr><tr><th></th><th>Float64</th><th>Float64</th></tr></thead><tbody><p>45 rows × 2 columns</p><tr><th>1</th><td>62.0</td><td>86.0</td></tr><tr><th>2</th><td>72.0</td><td>76.0</td></tr><tr><th>3</th><td>75.0</td><td>92.0</td></tr><tr><th>4</th><td>55.0</td><td>90.0</td></tr><tr><th>5</th><td>64.0</td><td>86.0</td></tr><tr><th>&vellip;</th><td>&vellip;</td><td>&vellip;</td></tr></tbody></table>"
      ],
      "text/latex": [
       "\\begin{tabular}{r|cc}\n",
       "\t& income & education\\\\\n",
       "\t\\hline\n",
       "\t& Float64 & Float64\\\\\n",
       "\t\\hline\n",
       "\t1 & 62.0 & 86.0 \\\\\n",
       "\t2 & 72.0 & 76.0 \\\\\n",
       "\t3 & 75.0 & 92.0 \\\\\n",
       "\t4 & 55.0 & 90.0 \\\\\n",
       "\t5 & 64.0 & 86.0 \\\\\n",
       "\t$\\dots$ & $\\dots$ & $\\dots$ \\\\\n",
       "\\end{tabular}\n"
      ],
      "text/plain": [
       "45×2 DataFrame\n"
      ]
     },
     "execution_count": 3,
     "metadata": {},
     "output_type": "execute_result"
    }
   ],
   "source": [
    "y, X = unpack(select(duncan, [:income, :education, :prestige]), ==(:prestige), colname -> true;\n",
    "    :income => Continuous, :education => Continuous, :prestige => Continuous)\n",
    "X"
   ]
  },
  {
   "cell_type": "code",
   "execution_count": 12,
   "metadata": {},
   "outputs": [
    {
     "name": "stdout",
     "output_type": "stream",
     "text": [
      "[82.0, 83.0, 90.0, 76.0, 90.0]\n"
     ]
    }
   ],
   "source": [
    "println(y[1:5])"
   ]
  },
  {
   "cell_type": "markdown",
   "metadata": {},
   "source": [
    "Below, we fit our linear model and print all the $\\widehat \\theta$ coefficients of the model (from the equation above) after the model has been fit to the data. Note that these are our sample coefficients."
   ]
  },
  {
   "cell_type": "code",
   "execution_count": 4,
   "metadata": {},
   "outputs": [
    {
     "name": "stdout",
     "output_type": "stream",
     "text": [
      "intercept: -6.06\n",
      "income:    0.60\n",
      "education: 0.55"
     ]
    }
   ],
   "source": [
    "@load LinearRegressor pkg=GLM\n",
    "lr_model = LinearRegressor()\n",
    "\n",
    "lr = machine(lr_model, X, y)\n",
    "fit!(lr, verbosity=0)\n",
    "\n",
    "@printf(\"intercept: %.2f\\n\", fitted_params(lr).intercept)\n",
    "@printf(\"income:    %.2f\\n\", fitted_params(lr).coef[1])\n",
    "@printf(\"education: %.2f\", fitted_params(lr).coef[2])"
   ]
  },
  {
   "cell_type": "markdown",
   "metadata": {},
   "source": [
    "The coefficients above give us an estimate of the true coefficients. But had our sample data been different, we would have fit our model to different data, causing these coefficients to be different. We would like to explore what our coefficients might have been using bootstrapping methods.\n",
    "\n",
    "In our bootstrapping methods and analysis, we will focus on the coefficient of education. We would like to explore the partial relationship between prestige and education holding income constant (rather than the marginal relationship between prestige and education ignoring income). The partial regression coefficient $\\widehat\\theta_\\texttt{education}$ illustrates the partial relationship between prestige and education within our data. "
   ]
  },
  {
   "cell_type": "markdown",
   "metadata": {
    "colab_type": "text",
    "id": "vqGBN-NtGikV"
   },
   "source": [
    "### Bootstrapping the Observations \n",
    "\n",
    "In this method, we consider the pairs $(X_i, y_i)$ to be our sample, so we construct the bootstrap resample by sampling with replacement from these pairs:\n",
    "\n",
    "$$\n",
    "\\begin{aligned}\n",
    "(X_i^*, y_i^*) \n",
    "= (X_I, y_I), \\text{ where } I=1,\\dots,n \\text{ is sampled uniformly at random.}\n",
    "\\end{aligned}\n",
    "$$\n",
    "\n",
    "In other words, we sample n observations with replacement from our data points; this is our bootstrap sample. Then we will fit a new linear regression model to this sampled data and record the education coefficient $\\tilde\\theta_\\texttt{education}$; this coefficient is our bootstrap statistic.\n",
    "\n",
    "#### Bootstrap Sampling Distribution of $\\tilde\\theta_\\texttt{education}$\n",
    "\n"
   ]
  },
  {
   "cell_type": "code",
   "execution_count": 34,
   "metadata": {},
   "outputs": [],
   "source": [
    "function simple_resample(n)\n",
    "    return rand(1:n, n)\n",
    "end\n",
    "\n",
    "function bootstrap(boot_pop, statistic; resample=simple_resample, replicates=10000)\n",
    "    n = nrows(boot_pop)\n",
    "    resample_estimates = [statistic(boot_pop[resample(n), :]) for i in 1:replicates]\n",
    "    return resample_estimates\n",
    "end\n",
    "\n",
    "function educ_coeff(df)\n",
    "    y, X = unpack(select(df, [:income, :education, :prestige]), ==(:prestige), colname -> true;\n",
    "        :income => Continuous, :education => Continuous, :prestige => Continuous)\n",
    "    lr = machine(lr_model, X, y)\n",
    "    fit!(lr, verbosity=0)\n",
    "    theta_educ = fitted_params(lr).coef[2]\n",
    "    \n",
    "    return theta_educ\n",
    "end;"
   ]
  },
  {
   "cell_type": "code",
   "execution_count": 36,
   "metadata": {},
   "outputs": [],
   "source": [
    "duncan_df = select(duncan, [:income, :education, :prestige])\n",
    "theta_hat_sampling = bootstrap(duncan_df, educ_coeff);"
   ]
  },
  {
   "cell_type": "code",
   "execution_count": 40,
   "metadata": {},
   "outputs": [
    {
     "data": {
      "image/png": "[encoded data removed]"
     },
     "execution_count": 40,
     "metadata": {},
     "output_type": "execute_result"
    }
   ],
   "source": [
    "using LaTeXStrings\n",
    "pyplot()\n",
    "\n",
    "histogram(theta_hat_sampling, normalized=true, bins=30, legend=false)\n",
    "title!(\"Bootstrap Sampling Distribution of \"*L\"\\tilde{\\theta}_{educ} = \"*\"(Nonparametric)\")\n",
    "xlabel!(L\"\\tilde{\\theta}_{educ}\"*\" Values\")\n",
    "ylabel!(\"Proportion per Unit\")"
   ]
  },
  {
   "cell_type": "markdown",
   "metadata": {},
   "source": [
    "Notice how the sampling distribution above is slightly skewed to the left. "
   ]
  },
  {
   "cell_type": "markdown",
   "metadata": {
    "colab_type": "text",
    "id": "mtdypIy4GnxT"
   },
   "source": [
    "#### Estimating the True Coefficients"
   ]
  },
  {
   "cell_type": "markdown",
   "metadata": {},
   "source": [
    "Although we cannot directly measure $\\theta^*_\\texttt{education}$ we can use a bootstrap confidence interval to account for variability in the sample regression coefficient $\\widehat\\theta_{\\texttt{education}}$. Below, We construct an approximate 95% confidence interval for the true coefficient $\\theta^*_\\texttt{education}$, using the bootstrap percentile method. The confidence interval extends from the 2.5th percentile to the 97.5th percentile of the 10,000 bootstrapped coefficients."
   ]
  },
  {
   "cell_type": "code",
   "execution_count": 42,
   "metadata": {},
   "outputs": [
    {
     "name": "stdout",
     "output_type": "stream",
     "text": [
      "[0.24371577672446293, 0.7791259299374819]\n"
     ]
    }
   ],
   "source": [
    "println(quantile(theta_hat_sampling, [0.025, 0.975]))"
   ]
  },
  {
   "cell_type": "markdown",
   "metadata": {},
   "source": [
    "From the confidence interval above, we are fairly certain that the true coefficient lies between 0.236 and 0.775.\n",
    "\n",
    "\n",
    "\n",
    "#### Confidence Interval Using Normal Theory\n",
    "\n",
    "We can also create confidence intervals based on normal theory. Since the $\\widehat \\theta_{educ}$ values appear normally distributed, we can construct a confidence interval by computing the following:\n",
    "\n",
    "$$\n",
    "\\begin{aligned}\n",
    "( \\widehat \\theta - z_{\\frac{\\alpha}{2}}*SE(\\theta^*),  \\widehat \\theta + z_{\\frac{\\alpha}{2}}*SE(\\theta^*) )\n",
    "\\end{aligned}\n",
    "$$\n",
    "\n",
    "where $SE(\\theta^*)$ is the standard error of our bootstrapped coefficients, $z$ is a constant, and $\\widehat \\theta$ is our sample coefficient. Note that $z$ varies depending on the confidence level of the interval we are constructing. Since we are creating a 95% confidence interval, we will use 1.96.\n"
   ]
  },
  {
   "cell_type": "code",
   "execution_count": 9,
   "metadata": {},
   "outputs": [
    {
     "name": "stdout",
     "output_type": "stream",
     "text": [
      "[0.11966734981235407, 0.09825264133039985, 4.271941174529123]\n"
     ]
    }
   ],
   "source": [
    "# std error for coefficients and intercept:\n",
    "println(report(lr).stderror)"
   ]
  },
  {
   "cell_type": "code",
   "execution_count": 10,
   "metadata": {},
   "outputs": [
    {
     "data": {
      "text/plain": [
       "(0.3148000000000001, 0.7852)"
      ]
     },
     "execution_count": 10,
     "metadata": {},
     "output_type": "execute_result"
    }
   ],
   "source": [
    "left_confidence_interval_endpoint_normal = 0.55 - (1.96*0.12)\n",
    "right_confidence_interval_endpoint_normal = 0.55 + (1.96*0.12)\n",
    "(left_confidence_interval_endpoint_normal, right_confidence_interval_endpoint_normal)"
   ]
  },
  {
   "cell_type": "markdown",
   "metadata": {},
   "source": [
    "**Observations: **\n",
    "Notice how the confidence interval using normal theory is more narrow than the confidence interval using the percentile method, especially towards the left of the interval.\n",
    "\n",
    "We will not go into the normal theory confidence interval in great detail, but if you would like to learn more, refer to X."
   ]
  },
  {
   "cell_type": "markdown",
   "metadata": {},
   "source": [
    "#### Could the true coefficient be 0?\n",
    "\n",
    "Although we observed a positive partial relationship between education and prestige (from the 0.55 coefficient), what if the true coefficient is actually 0 and there is no partial relationship between education and prestige? In this case, the association that we observed was just due to variability in obtaining the points that form our sample.\n",
    "\n",
    "To formally test whether the partial relationship between education and prestige is real, we would like to test the following hypotheses:\n",
    "\n",
    "**Null Hypothesis:** The true partial coefficient is 0.\n",
    "\n",
    "**Alternative Hypothesis.** The true partial coefficient is not 0.\n",
    "\n",
    "Since we have already contructed a 95% confidence interval for the true coefficient, we just need to see whether 0 lies within this interval. Notice that 0 does not lie within our confidence interval above; therefore, we have enough evidence to reject the null hypothesis.  \n",
    "\n",
    "If the confidence interval for the true coefficient did contain 0, then we would not have enough evidence to reject the null hypothesis. In this case, the observed coefficient $\\widehat\\theta_{\\texttt{education}}$ would likely spurious."
   ]
  },
  {
   "cell_type": "markdown",
   "metadata": {
    "colab_type": "text",
    "id": "wZugMnyxIe4E"
   },
   "source": [
    "#### Method 1 Bootstrapping Reflection\n",
    "\n",
    "In order to build the sampling distribution of the coefficient $\\widehat\\theta_{\\texttt{education}}$ and contruct the confidence interval for the true coefficient, we directly resampled the observations and fitted new regression models on our bootstrap samples. This method implicitly treats the regressors $X_i$ as random rather than fixed.\n",
    "\n",
    "In some cases, we may want to treat the $X_i$ as fixed (if, for example, the data were derive from an experimental\n",
    "design). In the case where the explanatory variables were controlled for, or the values of the explanatory variables were set by the experimenter, then we may consider the following alternative bootstrapping method."
   ]
  },
  {
   "cell_type": "markdown",
   "metadata": {
    "colab_type": "text",
    "id": "7Vih0zQDIK8A"
   },
   "source": [
    "### Alternative: Bootstrapping the Residuals\n",
    "\n",
    "Another approach to hypothesis testing in linear regression is bootstrapping the residuals. This approach makes many underlying assumptions and used less frequently in practice. In this method, we consider the *residuals* $e_i := y_i - X_i\\widehat\\beta $ to be our sample, so we construct the bootstrap resample by sampling with replacement from these residuals. Once we construct each bootstrap sample, we can compute new fitted values using these residuals. Then, we regress these new Y values onto the fixed X values to obtain bootstrap regression coefficients.\n",
    "\n",
    "For more clarity, let's break this method down into steps:\n",
    "\n",
    "1. Estimate the regression coefficients for the original sample, and calculate\n",
    "the fitted value $\\widehat y$ and residual $e_i$ for each observation.\n",
    "\n",
    "2. Select bootstrap samples of the residuals; we will denote these bootstrapped residuals as $\\tilde e_1, \\tilde e_2, \\dots \\tilde e_n$. Then, calculate bootstrapped $\\tilde y_i$ values by computing $\\widehat y + \\tilde e_i$ where the fitted values $\\widehat y_i = X_i\\widehat\\beta$\n",
    "are obtained from the original regression. \n",
    "\n",
    "3.  Regress the bootstrapped $\\tilde y_i$ values on the fixed $X$ values to obtain bootstrap regression\n",
    "coefficients $\\tilde \\theta$.\n",
    "\n",
    "4. Repeat steps two and three several times in order to obtain several bootstrap regression coefficients $\\tilde \\theta_1, \\tilde \\theta_2, \\dots \\tilde \\theta_n$. These can be used to compute bootstrap standard errors and confidence intervals. "
   ]
  },
  {
   "cell_type": "markdown",
   "metadata": {
    "colab_type": "text",
    "id": "pbef39zNJg4H"
   },
   "source": [
    "#### Estimating the True Coefficients\n",
    "\n",
    "Now that we have the bootstrapped regression coefficients, we can construct a confidence interval using the same techniques as before. We will leave this as an exercise."
   ]
  },
  {
   "cell_type": "markdown",
   "metadata": {
    "colab_type": "text",
    "id": "iEZLBQRqgxnb"
   },
   "source": [
    "#### Bootstrapping the Residuals Reflection\n",
    "\n",
    "Let's reflect on this method. By randomly reattaching resampled residuals to ﬁtted values, this \n",
    "procedure implicitly assumes that the errors are identically distributed. More specifically, this method assumes that the distribution of fluctuations around the regression curve is the same for all values of the input $x_i$. This is a disadvantage because the true errors may have nonconstant variance; this phenomenon is called heteroscedasticity.\n",
    "\n",
    "Although this method does not make any assumptions about the shape of the error distribution, it implicitly assumes that the functional form of the model is correct. By relying on the model to create each bootstrap sample, we assume that the model structure is appropriate.\n",
    "\n"
   ]
  },
  {
   "cell_type": "markdown",
   "metadata": {},
   "source": [
    "## Summary\n",
    "\n",
    "In this section, we highlight bootstrapping techniques used in a linear regression setting. \n",
    "\n",
    "In general, bootstrapping the observations is more commonly used for bootstrapping. This method is often more robust than other techniques because it makes less underlying assumptions; for example, if an incorrect model is fitted, this method will still yield an appropriate sampling distribution of the parameter of interest.\n",
    "\n",
    "We also highlight an alternative method, which has several disadvantages. Bootstrapping the residuals can be used when we would like the treat our observations $X$ as fixed. Note that this method should be used with caution because it makes additional assumptions about the errors and form of the model."
   ]
  }
 ],
 "metadata": {
  "@webio": {
   "lastCommId": null,
   "lastKernelId": null
  },
  "kernelspec": {
   "display_name": "Julia 1.2.0",
   "language": "julia",
   "name": "julia-1.2"
  },
  "language_info": {
   "file_extension": ".jl",
   "mimetype": "application/julia",
   "name": "julia",
   "version": "1.2.0"
  }
 },
 "nbformat": 4,
 "nbformat_minor": 2
}
