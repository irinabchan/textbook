{
 "cells": [
  {
   "cell_type": "code",
   "execution_count": 48,
   "metadata": {},
   "outputs": [],
   "source": [
    "# HIDDEN\n",
    "using CSV\n",
    "using DataFrames\n",
    "using Distributions\n",
    "using LaTeXStrings\n",
    "using MLJ\n",
    "using Printf\n",
    "using Random\n",
    "using Statistics\n",
    "using StatsPlots\n",
    "Base.displaysize() = (5, 80)"
   ]
  },
  {
   "cell_type": "markdown",
   "metadata": {},
   "source": [
    "# P-hacking\n",
    "As we discussed, a p-value or probability value is the chance, based on the model in the null hypothesis, that the test statistic is equal to the value that was observed in the data or is even further in the direction of the alternative. If a p-value is small, that means the tail beyond the observed statistic is small and so the observed statistic is far away from what the null predicts. This implies that the data support the alternative hypothesis better than they support the null. By convention, when we see that the p-value is below 0.05, the result is called statistically significant, and we reject the null hypothesis.\n",
    "\n",
    "There are dangers that present itself when the p-value is misused. *P-hacking* is the act of misusing data analysis to show that patterns in data are statistically significant, when in reality they are not. This is often done by performing multiple tests on data and only focusing on the tests that return results that are significant. \n",
    "\n",
    "In this section, we will go over a few examples of the dangers of p-values and p-hacking."
   ]
  },
  {
   "cell_type": "markdown",
   "metadata": {},
   "source": [
    "## Multiple Hypothesis Testing\n"
   ]
  },
  {
   "cell_type": "markdown",
   "metadata": {},
   "source": [
    "One of the biggest dangers of blindly relying on the p-value to determine \"statistical significance\" comes when we are just trying to find the \"sexiest\" results that give us \"good\" p-values. This is commonly done when doing \"food frequency questionairres,\" or FFQs, to study eating habits' correlation with other characteristics (diseases, weight, religion, etc). \n",
    "FiveThirtyEight, an online blog that focuses on opinion poll analysis among other things, made their own FFQ, and we can use their data to run our own analysis to find some silly results that can be considered \"statistically significant.\""
   ]
  },
  {
   "cell_type": "code",
   "execution_count": 35,
   "metadata": {},
   "outputs": [],
   "source": [
    "data = CSV.read(\"raw_anonymized_data.csv\")\n",
    "\n",
    "# Do some EDA on the data so that categorical values get changed to 1s and 0s\n",
    "for column in names(data)\n",
    "    data[!, column] = [v in [\"Yes\", \"Innie\"] ? 1 : v for v in data[:, column]]\n",
    "    data[!, column] = [v in [\"No\", \"Outie\"] ? 0 : v for v in data[:, column]]\n",
    "end\n",
    "\n",
    "# These are some of the columns that give us characteristics of FFQ-takers\n",
    "characteristics = [:cat, :dog, :right_hand, :left_hand]\n",
    "\n",
    "# These are some of the columns that give us the quantities/frequencies of different food the FFQ-takers ate\n",
    "ffq = [:EGGROLLQUAN, :SHELLFISHQUAN, :COFFEEDRINKSFREQ];"
   ]
  },
  {
   "cell_type": "markdown",
   "metadata": {},
   "source": [
    "We will look specifically whether people own cats, dogs, or what handedness they are."
   ]
  },
  {
   "cell_type": "code",
   "execution_count": 36,
   "metadata": {},
   "outputs": [
    {
     "data": {
      "text/html": [
       "<table class=\"data-frame\"><thead><tr><th></th><th>cat</th><th>dog</th><th>right_hand</th><th>left_hand</th></tr><tr><th></th><th>Int64</th><th>Int64</th><th>Int64</th><th>Int64</th></tr></thead><tbody><p>5 rows × 4 columns</p><tr><th>1</th><td>0</td><td>0</td><td>1</td><td>0</td></tr><tr><th>2</th><td>0</td><td>0</td><td>1</td><td>0</td></tr><tr><th>3</th><td>0</td><td>1</td><td>1</td><td>0</td></tr><tr><th>4</th><td>0</td><td>0</td><td>1</td><td>0</td></tr><tr><th>5</th><td>0</td><td>0</td><td>1</td><td>0</td></tr></tbody></table>"
      ],
      "text/latex": [
       "\\begin{tabular}{r|cccc}\n",
       "\t& cat & dog & right\\_hand & left\\_hand\\\\\n",
       "\t\\hline\n",
       "\t& Int64 & Int64 & Int64 & Int64\\\\\n",
       "\t\\hline\n",
       "\t1 & 0 & 0 & 1 & 0 \\\\\n",
       "\t2 & 0 & 0 & 1 & 0 \\\\\n",
       "\t3 & 0 & 1 & 1 & 0 \\\\\n",
       "\t4 & 0 & 0 & 1 & 0 \\\\\n",
       "\t5 & 0 & 0 & 1 & 0 \\\\\n",
       "\\end{tabular}\n"
      ],
      "text/plain": [
       "5×4 DataFrame\n"
      ]
     },
     "execution_count": 36,
     "metadata": {},
     "output_type": "execute_result"
    }
   ],
   "source": [
    "data[1:5, characteristics]"
   ]
  },
  {
   "cell_type": "markdown",
   "metadata": {},
   "source": [
    "Additionally, we will look at how much shellfish, eggrolls, and coffee people consumed."
   ]
  },
  {
   "cell_type": "code",
   "execution_count": 37,
   "metadata": {},
   "outputs": [
    {
     "data": {
      "text/html": [
       "<table class=\"data-frame\"><thead><tr><th></th><th>EGGROLLQUAN</th><th>SHELLFISHQUAN</th><th>COFFEEDRINKSFREQ</th></tr><tr><th></th><th>Int64</th><th>Int64</th><th>Int64</th></tr></thead><tbody><p>5 rows × 3 columns</p><tr><th>1</th><td>1</td><td>3</td><td>2</td></tr><tr><th>2</th><td>1</td><td>2</td><td>3</td></tr><tr><th>3</th><td>2</td><td>3</td><td>3</td></tr><tr><th>4</th><td>3</td><td>2</td><td>1</td></tr><tr><th>5</th><td>2</td><td>2</td><td>2</td></tr></tbody></table>"
      ],
      "text/latex": [
       "\\begin{tabular}{r|ccc}\n",
       "\t& EGGROLLQUAN & SHELLFISHQUAN & COFFEEDRINKSFREQ\\\\\n",
       "\t\\hline\n",
       "\t& Int64 & Int64 & Int64\\\\\n",
       "\t\\hline\n",
       "\t1 & 1 & 3 & 2 \\\\\n",
       "\t2 & 1 & 2 & 3 \\\\\n",
       "\t3 & 2 & 3 & 3 \\\\\n",
       "\t4 & 3 & 2 & 1 \\\\\n",
       "\t5 & 2 & 2 & 2 \\\\\n",
       "\\end{tabular}\n"
      ],
      "text/plain": [
       "5×3 DataFrame\n"
      ]
     },
     "execution_count": 37,
     "metadata": {},
     "output_type": "execute_result"
    }
   ],
   "source": [
    "data[1:5, ffq]"
   ]
  },
  {
   "cell_type": "markdown",
   "metadata": {},
   "source": [
    "So now we can calculate the p-value for every pair of characteristic and food frequency/quantity features. "
   ]
  },
  {
   "cell_type": "code",
   "execution_count": 42,
   "metadata": {},
   "outputs": [],
   "source": [
    "# HIDDEN\n",
    "function findpvalue(data, c, f)\n",
    "    return cor(data[:, c], data[:, f])\n",
    "end;"
   ]
  },
  {
   "cell_type": "code",
   "execution_count": 43,
   "metadata": {},
   "outputs": [
    {
     "name": "stdout",
     "output_type": "stream",
     "text": [
      "Dict{Any,Any}((:cat, :SHELLFISHQUAN) => 0.11710026704018908,(:dog, :EGGROLLQUAN) => 0.5368868263408312,(:dog, :COFFEEDRINKSFREQ) => -0.12948165700794245,(:left_hand, :SHELLFISHQUAN) => -0.46852259878233354,(:cat, :COFFEEDRINKSFREQ) => 0.41863608958405363,(:left_hand, :EGGROLLQUAN) => -0.04290743192321019,(:right_hand, :EGGROLLQUAN) => 0.17668175614086523,(:left_hand, :COFFEEDRINKSFREQ) => -0.18980903867526988,(:cat, :EGGROLLQUAN) => -0.054978192568625905,(:dog, :SHELLFISHQUAN) => 0.19996255850201197,(:right_hand, :COFFEEDRINKSFREQ) => 0.09664376833865183,(:right_hand, :SHELLFISHQUAN) => 0.4848065020173927)\n"
     ]
    }
   ],
   "source": [
    "# Calculate the p value between every characteristic and food frequency/quantity pair\n",
    "pvalues = Dict()\n",
    "\n",
    "for c in characteristics\n",
    "    for f in ffq\n",
    "        pvalues[(c, f)] = findpvalue(data, c, f)\n",
    "    end\n",
    "end\n",
    "\n",
    "println(pvalues)"
   ]
  },
  {
   "cell_type": "markdown",
   "metadata": {
    "collapsed": true
   },
   "source": [
    "Our study finds that:\n",
    "\n",
    "|Eating/Drinking|is linked to:|P-value|\n",
    "|---------------|-------------|-------|\n",
    "|Egg rolls      |Dog ownership|<0.0001|\n",
    "|Shellfish      |Right-handedness|0.0002|\n",
    "|Shellfish      |Left-handedness|0.0004|\n",
    "|Coffee         |Cat ownership|0.0016|\n",
    "\n",
    "Clearly this is flawed! Aside from the fact that some of these correlations seem to make no sense, we also found that shellfish is linked to both right and left handedness! Because we blindly tested all columns against each other for statistical significance, we were able to just choose whatever pairs gave us \"statistically significant\" results. This shows the dangers of blindly following the p-value without a care for proper experimental design."
   ]
  },
  {
   "cell_type": "markdown",
   "metadata": {},
   "source": [
    "## A/B Testing\n",
    "A/B testing is a very simple concept. We measure a statistic in a normal, controlled environment (we'll call this A), and then we compare that to the same statistic in an environment with *one* change. This form of testing is used frequently in marketing and ad research to compare the effectiveness of certain features of ads. \n",
    "\n",
    "Let's say we are working for a company whose website lets users make their own custom videogames. The company has a free version, which lets users make very basic videogames, and a paid version, which gives users access to more advanced tools for making videogames. When a user has finished making a videogame via a free account, we send them to a landing page that gives them the option to sign up for a paid account. Our measured statistic in this case would be how many free users sign up for a paid account upon reaching this page. We can send half of our users one version of the page, which may have text explaining in detail the benefits of the paid account (this will be version A), and the other half of our users will get another version of the page, which may have a colorful graphic that explains some of the benefits of the paid account (this will be version B). \n",
    "\n",
    "There is a very specific reason why it's called A/B testing, and not A/B/C/D... testing. That is because we can very easily run into problems if we try to test multiple versions at the same time. \n",
    "\n",
    "Let's say that we have 15 different sign up pages (one is the control, in this case \"A\"), each with something different about them (one has a picture of a puppy, one has a quote from a customer, one has a graphic, etc.), and let's say that in this case, none of our variations actually has an effect on user interaction (so we can use a Gaussian distribution with a mean of 0 and a std of 0.1)."
   ]
  },
  {
   "cell_type": "code",
   "execution_count": 61,
   "metadata": {},
   "outputs": [],
   "source": [
    "# HIDDEN\n",
    "n = 50\n",
    "reps = 1000\n",
    "num_pages = 15\n",
    "Random.seed!(11)\n",
    "\n",
    "function permute(A, B)\n",
    "    combined = vcat(A, B)\n",
    "    shuffled = rand(combined, length(combined))\n",
    "    return (shuffled[1:n], shuffled[n+1:end])\n",
    "end\n",
    "\n",
    "function permutedpvalue(A, B)\n",
    "    obs = test_stat(A, B)\n",
    "    resampled = []\n",
    "    for i in 1:reps\n",
    "        A_p, B_p = permute(A, B)\n",
    "        push!(resampled, test_stat(A_p, B_p))\n",
    "    end\n",
    "    return count(obs .>= resampled) / reps\n",
    "end;"
   ]
  },
  {
   "cell_type": "code",
   "execution_count": 71,
   "metadata": {},
   "outputs": [
    {
     "name": "stdout",
     "output_type": "stream",
     "text": [
      "Any[0.459, 0.386, 0.58, 0.57, 0.218, 0.328, 0.519, 0.057, 0.196, 0.003, 0.295, 0.47, 0.678, 0.646]\n"
     ]
    }
   ],
   "source": [
    "n = 50\n",
    "reps = 1000\n",
    "num_pages = 15\n",
    "\n",
    "# This will represent percentage of users that make a paid account from the landing page\n",
    "# Note that all pages have no effect, so they all just have a base 10% of interactions.\n",
    "landing_pages = [rand(Truncated(Normal(0.1, 0.01), 0, 1), n) for _ in 1:num_pages]\n",
    "\n",
    "# This will be our \"control\"\n",
    "A = landing_pages[1]\n",
    "\n",
    "# Our test statistic will be the difference between the mean percentage\n",
    "function test_stat(A, B)\n",
    "    return abs(mean(B) - mean(A))\n",
    "end\n",
    "\n",
    "p_vals = []\n",
    "for i in 2:num_pages\n",
    "    # We test against each of the non-control landing pages\n",
    "    B = landing_pages[i]\n",
    "    p_val = permutedpvalue(A, B)\n",
    "    push!(p_vals, p_val)\n",
    "end\n",
    "\n",
    "println(p_vals)"
   ]
  },
  {
   "cell_type": "code",
   "execution_count": 74,
   "metadata": {},
   "outputs": [
    {
     "data": {
      "image/svg+xml": [
       "<?xml version=\"1.0\" encoding=\"utf-8\"?>\n",
       "<svg xmlns=\"http://www.w3.org/2000/svg\" xmlns:xlink=\"http://www.w3.org/1999/xlink\" width=\"600\" height=\"400\" viewBox=\"0 0 2400 1600\">\n",
       "<defs>\n",
       "  <clipPath id=\"clip6700\">\n",
       "    <rect x=\"0\" y=\"0\" width=\"2400\" height=\"1600\"/>\n",
       "  </clipPath>\n",
       "</defs>\n",
       "<path clip-path=\"url(#clip6700)\" d=\"\n",
       "M0 1600 L2400 1600 L2400 0 L0 0  Z\n",
       "  \" fill=\"#ffffff\" fill-rule=\"evenodd\" fill-opacity=\"1\"/>\n",
       "<defs>\n",
       "  <clipPath id=\"clip6701\">\n",
       "    <rect x=\"480\" y=\"0\" width=\"1681\" height=\"1600\"/>\n",
       "  </clipPath>\n",
       "</defs>\n",
       "<path clip-path=\"url(#clip6700)\" d=\"\n",
       "M113.754 1487.47 L2352.76 1487.47 L2352.76 47.2441 L113.754 47.2441  Z\n",
       "  \" fill=\"#ffffff\" fill-rule=\"evenodd\" fill-opacity=\"1\"/>\n",
       "<defs>\n",
       "  <clipPath id=\"clip6702\">\n",
       "    <rect x=\"113\" y=\"47\" width=\"2240\" height=\"1441\"/>\n",
       "  </clipPath>\n",
       "</defs>\n",
       "<polyline clip-path=\"url(#clip6702)\" style=\"stroke:#000000; stroke-width:2; stroke-opacity:0.1; fill:none\" points=\"\n",
       "  236.904,1487.47 236.904,47.2441 \n",
       "  \"/>\n",
       "<polyline clip-path=\"url(#clip6702)\" style=\"stroke:#000000; stroke-width:2; stroke-opacity:0.1; fill:none\" points=\"\n",
       "  806.247,1487.47 806.247,47.2441 \n",
       "  \"/>\n",
       "<polyline clip-path=\"url(#clip6702)\" style=\"stroke:#000000; stroke-width:2; stroke-opacity:0.1; fill:none\" points=\"\n",
       "  1375.59,1487.47 1375.59,47.2441 \n",
       "  \"/>\n",
       "<polyline clip-path=\"url(#clip6702)\" style=\"stroke:#000000; stroke-width:2; stroke-opacity:0.1; fill:none\" points=\"\n",
       "  1944.93,1487.47 1944.93,47.2441 \n",
       "  \"/>\n",
       "<polyline clip-path=\"url(#clip6702)\" style=\"stroke:#000000; stroke-width:2; stroke-opacity:0.1; fill:none\" points=\"\n",
       "  113.754,1446.71 2352.76,1446.71 \n",
       "  \"/>\n",
       "<polyline clip-path=\"url(#clip6702)\" style=\"stroke:#000000; stroke-width:2; stroke-opacity:0.1; fill:none\" points=\"\n",
       "  113.754,993.811 2352.76,993.811 \n",
       "  \"/>\n",
       "<polyline clip-path=\"url(#clip6702)\" style=\"stroke:#000000; stroke-width:2; stroke-opacity:0.1; fill:none\" points=\"\n",
       "  113.754,540.908 2352.76,540.908 \n",
       "  \"/>\n",
       "<polyline clip-path=\"url(#clip6702)\" style=\"stroke:#000000; stroke-width:2; stroke-opacity:0.1; fill:none\" points=\"\n",
       "  113.754,88.0053 2352.76,88.0053 \n",
       "  \"/>\n",
       "<polyline clip-path=\"url(#clip6700)\" style=\"stroke:#000000; stroke-width:4; stroke-opacity:1; fill:none\" points=\"\n",
       "  113.754,1487.47 2352.76,1487.47 \n",
       "  \"/>\n",
       "<polyline clip-path=\"url(#clip6700)\" style=\"stroke:#000000; stroke-width:4; stroke-opacity:1; fill:none\" points=\"\n",
       "  113.754,1487.47 113.754,47.2441 \n",
       "  \"/>\n",
       "<polyline clip-path=\"url(#clip6700)\" style=\"stroke:#000000; stroke-width:4; stroke-opacity:1; fill:none\" points=\"\n",
       "  236.904,1487.47 236.904,1465.87 \n",
       "  \"/>\n",
       "<polyline clip-path=\"url(#clip6700)\" style=\"stroke:#000000; stroke-width:4; stroke-opacity:1; fill:none\" points=\"\n",
       "  806.247,1487.47 806.247,1465.87 \n",
       "  \"/>\n",
       "<polyline clip-path=\"url(#clip6700)\" style=\"stroke:#000000; stroke-width:4; stroke-opacity:1; fill:none\" points=\"\n",
       "  1375.59,1487.47 1375.59,1465.87 \n",
       "  \"/>\n",
       "<polyline clip-path=\"url(#clip6700)\" style=\"stroke:#000000; stroke-width:4; stroke-opacity:1; fill:none\" points=\"\n",
       "  1944.93,1487.47 1944.93,1465.87 \n",
       "  \"/>\n",
       "<polyline clip-path=\"url(#clip6700)\" style=\"stroke:#000000; stroke-width:4; stroke-opacity:1; fill:none\" points=\"\n",
       "  113.754,1446.71 147.339,1446.71 \n",
       "  \"/>\n",
       "<polyline clip-path=\"url(#clip6700)\" style=\"stroke:#000000; stroke-width:4; stroke-opacity:1; fill:none\" points=\"\n",
       "  113.754,993.811 147.339,993.811 \n",
       "  \"/>\n",
       "<polyline clip-path=\"url(#clip6700)\" style=\"stroke:#000000; stroke-width:4; stroke-opacity:1; fill:none\" points=\"\n",
       "  113.754,540.908 147.339,540.908 \n",
       "  \"/>\n",
       "<polyline clip-path=\"url(#clip6700)\" style=\"stroke:#000000; stroke-width:4; stroke-opacity:1; fill:none\" points=\"\n",
       "  113.754,88.0053 147.339,88.0053 \n",
       "  \"/>\n",
       "<g clip-path=\"url(#clip6700)\">\n",
       "<text style=\"fill:#000000; fill-opacity:1; font-family:Arial,Helvetica Neue,Helvetica,sans-serif; font-size:48px; text-anchor:middle;\" transform=\"rotate(0, 236.904, 1541.47)\" x=\"236.904\" y=\"1541.47\">0.0</text>\n",
       "</g>\n",
       "<g clip-path=\"url(#clip6700)\">\n",
       "<text style=\"fill:#000000; fill-opacity:1; font-family:Arial,Helvetica Neue,Helvetica,sans-serif; font-size:48px; text-anchor:middle;\" transform=\"rotate(0, 806.247, 1541.47)\" x=\"806.247\" y=\"1541.47\">0.2</text>\n",
       "</g>\n",
       "<g clip-path=\"url(#clip6700)\">\n",
       "<text style=\"fill:#000000; fill-opacity:1; font-family:Arial,Helvetica Neue,Helvetica,sans-serif; font-size:48px; text-anchor:middle;\" transform=\"rotate(0, 1375.59, 1541.47)\" x=\"1375.59\" y=\"1541.47\">0.4</text>\n",
       "</g>\n",
       "<g clip-path=\"url(#clip6700)\">\n",
       "<text style=\"fill:#000000; fill-opacity:1; font-family:Arial,Helvetica Neue,Helvetica,sans-serif; font-size:48px; text-anchor:middle;\" transform=\"rotate(0, 1944.93, 1541.47)\" x=\"1944.93\" y=\"1541.47\">0.6</text>\n",
       "</g>\n",
       "<g clip-path=\"url(#clip6700)\">\n",
       "<text style=\"fill:#000000; fill-opacity:1; font-family:Arial,Helvetica Neue,Helvetica,sans-serif; font-size:48px; text-anchor:end;\" transform=\"rotate(0, 89.7545, 1464.21)\" x=\"89.7545\" y=\"1464.21\">0</text>\n",
       "</g>\n",
       "<g clip-path=\"url(#clip6700)\">\n",
       "<text style=\"fill:#000000; fill-opacity:1; font-family:Arial,Helvetica Neue,Helvetica,sans-serif; font-size:48px; text-anchor:end;\" transform=\"rotate(0, 89.7545, 1011.31)\" x=\"89.7545\" y=\"1011.31\">1</text>\n",
       "</g>\n",
       "<g clip-path=\"url(#clip6700)\">\n",
       "<text style=\"fill:#000000; fill-opacity:1; font-family:Arial,Helvetica Neue,Helvetica,sans-serif; font-size:48px; text-anchor:end;\" transform=\"rotate(0, 89.7545, 558.408)\" x=\"89.7545\" y=\"558.408\">2</text>\n",
       "</g>\n",
       "<g clip-path=\"url(#clip6700)\">\n",
       "<text style=\"fill:#000000; fill-opacity:1; font-family:Arial,Helvetica Neue,Helvetica,sans-serif; font-size:48px; text-anchor:end;\" transform=\"rotate(0, 89.7545, 105.505)\" x=\"89.7545\" y=\"105.505\">3</text>\n",
       "</g>\n",
       "<path clip-path=\"url(#clip6702)\" d=\"\n",
       "M236.904 540.908 L236.904 1446.71 L521.575 1446.71 L521.575 540.908 L236.904 540.908 L236.904 540.908  Z\n",
       "  \" fill=\"#009af9\" fill-rule=\"evenodd\" fill-opacity=\"1\"/>\n",
       "<polyline clip-path=\"url(#clip6702)\" style=\"stroke:#000000; stroke-width:4; stroke-opacity:1; fill:none\" points=\"\n",
       "  236.904,540.908 236.904,1446.71 521.575,1446.71 521.575,540.908 236.904,540.908 \n",
       "  \"/>\n",
       "<path clip-path=\"url(#clip6702)\" d=\"\n",
       "M521.575 993.811 L521.575 1446.71 L806.247 1446.71 L806.247 993.811 L521.575 993.811 L521.575 993.811  Z\n",
       "  \" fill=\"#009af9\" fill-rule=\"evenodd\" fill-opacity=\"1\"/>\n",
       "<polyline clip-path=\"url(#clip6702)\" style=\"stroke:#000000; stroke-width:4; stroke-opacity:1; fill:none\" points=\"\n",
       "  521.575,993.811 521.575,1446.71 806.247,1446.71 806.247,993.811 521.575,993.811 \n",
       "  \"/>\n",
       "<path clip-path=\"url(#clip6702)\" d=\"\n",
       "M806.247 540.908 L806.247 1446.71 L1090.92 1446.71 L1090.92 540.908 L806.247 540.908 L806.247 540.908  Z\n",
       "  \" fill=\"#009af9\" fill-rule=\"evenodd\" fill-opacity=\"1\"/>\n",
       "<polyline clip-path=\"url(#clip6702)\" style=\"stroke:#000000; stroke-width:4; stroke-opacity:1; fill:none\" points=\"\n",
       "  806.247,540.908 806.247,1446.71 1090.92,1446.71 1090.92,540.908 806.247,540.908 \n",
       "  \"/>\n",
       "<path clip-path=\"url(#clip6702)\" d=\"\n",
       "M1090.92 540.908 L1090.92 1446.71 L1375.59 1446.71 L1375.59 540.908 L1090.92 540.908 L1090.92 540.908  Z\n",
       "  \" fill=\"#009af9\" fill-rule=\"evenodd\" fill-opacity=\"1\"/>\n",
       "<polyline clip-path=\"url(#clip6702)\" style=\"stroke:#000000; stroke-width:4; stroke-opacity:1; fill:none\" points=\"\n",
       "  1090.92,540.908 1090.92,1446.71 1375.59,1446.71 1375.59,540.908 1090.92,540.908 \n",
       "  \"/>\n",
       "<path clip-path=\"url(#clip6702)\" d=\"\n",
       "M1375.59 540.908 L1375.59 1446.71 L1660.26 1446.71 L1660.26 540.908 L1375.59 540.908 L1375.59 540.908  Z\n",
       "  \" fill=\"#009af9\" fill-rule=\"evenodd\" fill-opacity=\"1\"/>\n",
       "<polyline clip-path=\"url(#clip6702)\" style=\"stroke:#000000; stroke-width:4; stroke-opacity:1; fill:none\" points=\"\n",
       "  1375.59,540.908 1375.59,1446.71 1660.26,1446.71 1660.26,540.908 1375.59,540.908 \n",
       "  \"/>\n",
       "<path clip-path=\"url(#clip6702)\" d=\"\n",
       "M1660.26 88.0053 L1660.26 1446.71 L1944.93 1446.71 L1944.93 88.0053 L1660.26 88.0053 L1660.26 88.0053  Z\n",
       "  \" fill=\"#009af9\" fill-rule=\"evenodd\" fill-opacity=\"1\"/>\n",
       "<polyline clip-path=\"url(#clip6702)\" style=\"stroke:#000000; stroke-width:4; stroke-opacity:1; fill:none\" points=\"\n",
       "  1660.26,88.0053 1660.26,1446.71 1944.93,1446.71 1944.93,88.0053 1660.26,88.0053 \n",
       "  \"/>\n",
       "<path clip-path=\"url(#clip6702)\" d=\"\n",
       "M1944.93 540.908 L1944.93 1446.71 L2229.61 1446.71 L2229.61 540.908 L1944.93 540.908 L1944.93 540.908  Z\n",
       "  \" fill=\"#009af9\" fill-rule=\"evenodd\" fill-opacity=\"1\"/>\n",
       "<polyline clip-path=\"url(#clip6702)\" style=\"stroke:#000000; stroke-width:4; stroke-opacity:1; fill:none\" points=\"\n",
       "  1944.93,540.908 1944.93,1446.71 2229.61,1446.71 2229.61,540.908 1944.93,540.908 \n",
       "  \"/>\n",
       "</svg>\n"
      ]
     },
     "execution_count": 74,
     "metadata": {},
     "output_type": "execute_result"
    }
   ],
   "source": [
    "histogram(p_vals, bins=8, legend=false)"
   ]
  },
  {
   "cell_type": "markdown",
   "metadata": {},
   "source": [
    "As we can see, more than one of these ads seems to have p-values less than 0.05, despite our knowing that there actually no difference between the pages. This is why we do single A/B testing with multiple trials, as opposed to multiple hypothesis testing with only single trials. It is too easy for a p-value to give us a false positive if we just try a bunch of times."
   ]
  },
  {
   "cell_type": "markdown",
   "metadata": {},
   "source": [
    "## Many Tests for One Phenomenon\n",
    "Sometimes, multiple testing can happen by accident. If many researchers are investigating the same phenomenon at the same time, then it's very possible that one of the researchers can end up with a lucky trial. That is exactly what happened during the 2010 World Cup."
   ]
  },
  {
   "cell_type": "markdown",
   "metadata": {
    "collapsed": true
   },
   "source": [
    "### Paul the Octopus\n",
    "\n",
    "Paul the Octopus was a common octopus who lived in a Sea Life Centre in Oberhausen, Germany. He is most well known for correctly guessing all seven soccer matches Germany played during the 2010 World Cup, as well as the final match, which was between Netherlands and Spain. \n",
    "\n",
    "Before a match was played, Paul's owners would place two boxes in his tank containing food, each box labeled with a different flag of the opposing countries. Whichever box Paul chose to eat from first was considered his prediction for the outcome of the match. "
   ]
  },
  {
   "cell_type": "markdown",
   "metadata": {},
   "source": [
    "<img src=\"https://news.bbcimg.co.uk/media/images/49659000/jpg/_49659323_octopus.jpg\" width=\"400\" />"
   ]
  },
  {
   "cell_type": "markdown",
   "metadata": {},
   "source": [
    "So why was Paul so good at predicting the outcome of these matches? Was he actually psychic, or was he just lucky? We might ask what’s the chance he got all of the predictions correct, assuming he was just “guessing”?\n",
    "\n",
    "Paul correctly predicted 8 of the 2010 World Cup games, each time he had a 1/2 chance of making the correct prediction. The one way to get all 8 matches correct out of 8 is:\n",
    "$$(1/2)^8 = 1/256$$\n",
    "\n",
    "So was he actually psychic? Or is there something more to uncover?"
   ]
  },
  {
   "cell_type": "markdown",
   "metadata": {},
   "source": [
    "Turns out, there were tons of animals (some of them in the same zoo as Paul!) doing the same thing, trying to guess the outcome of their respective home countries' matches, including:\n",
    "- Mani the Parakeet, from Singapore\n",
    "- Leon the Porcupine, from Germany\n",
    "- Petty the Pygmy Hippopotamus, from Germany\n",
    "- Otto Armstrong the Octopus, from Germany\n",
    "- Anton the Tamarin, from Germany\n",
    "- Jimmy the Peruvian Guinea Pig, from Germany\n",
    "- Xiaoge the Octopus, from China\n",
    "- Pauline the Octopus, from the Netherlands\n",
    "- Pino the Chimpanzee, from Estonia\n",
    "- Apelsin the Red River Hog, from Estonia\n",
    "- Harry the Crocodile, from Australia\n",
    "None of whom got them all right (although Mani the Parakeet got 7 matches out of 8 right)."
   ]
  },
  {
   "cell_type": "markdown",
   "metadata": {},
   "source": [
    "Some might argue that getting them all wrong would also be remarkable. So what are the chances that at least one of the 12 animals would get either all right or all wrong? \n",
    "\n",
    "We can use simple probability to figure this out. We have 12 trials (in this case, animals), where each independent trial has a $2*(1/2)^8 = 1/128$ chance of getting all predictions right or wrong. So what is the probability of having *at least* one success? That's $1 - P_{all \\textrm{ }failures} = 1 - (127/128)^{12} = 1 - 0.910 = 0.090$"
   ]
  },
  {
   "cell_type": "markdown",
   "metadata": {},
   "source": [
    "We have an 9% chance of getting an animal that will select all of the right predictions, and that's not including all of the animals in the world that were also doing these \"predictions.\" That's not that rare - it's the dangers of multiple testing that caused this \"phenomenon.\" This one octopus out of many different animals in the world happened to have guessed all of the right predictions, and the popularity of the situation caused it to become magical.\n",
    "\n",
    "To those of you wondering if it really was luck, it has been shown that the species *Octopus vulgaris* is actually colorblind, and some believe that octopuses are drawn to horizontal shapes, hence Paul's decision to choose Germany, except when playing against Spain and Serbia."
   ]
  },
  {
   "cell_type": "markdown",
   "metadata": {},
   "source": [
    "In the end, we know that studies are more trustworthy when they are replicated. Data scientists should try to avoid cases like Paul the Octopus's where there has only been one real case of the animal correctly predicting a bunch of World Cup matches in a row. Only when we see him doing that for multiple soccer tournaments should we start looking at the data."
   ]
  },
  {
   "cell_type": "markdown",
   "metadata": {},
   "source": [
    "## P-Hacking is just the tip of the iceberg\n",
    "\n",
    "As it turns out, p-hacking isn't the only thing data scientists and statisticians have to worry about when making sound inferences from data. There are many stages to the design and analysis of a successful study, as shown below (from Leek & Peng's *P values are just the tip of the iceberg*)."
   ]
  },
  {
   "cell_type": "markdown",
   "metadata": {},
   "source": [
    "<img src='https://www.nature.com/polopoly_fs/7.25671.1429983882!/image/P1.jpg_gen/derivatives/landscape_300/P1.jpg'>"
   ]
  },
  {
   "cell_type": "markdown",
   "metadata": {},
   "source": [
    "As shown, the last step of the whole \"data pipeline\" is the calculation of an inferential statistic like the p-value, and having a rule applied to it (e.g. p > 0.05). But there are many other decisions that are made beforehand, like experimental design or EDA, that can have much greater effects on the results - mistakes like simple rounding or measurement errors, choosing the wrong model, or not taking into account confounding factors can change everything. By changing the way data are cleaned, summarized, or modeled, we can achieve arbitrary levels of statistical significance.\n",
    "\n",
    "A simple example of this would be in the case of rolling a pair of dice and getting two 6s. If we were to take a null hypothesis that the dice are fair and not weighted, and take our test statistic to be the sum of the dice, we will find that the p-value of this outcome will be 1/36 or 0.028, and gives us statistically signficant results that the dice are fair. But obviously, a single roll is not nearly enough rolls to provide us with good evidence to say whether the results are statistically significant or not, and shows that blindly applying the p-value without properly designing a good experiment can result in bad results.\n",
    "\n",
    "In the end, what is most important is education on the subject of safe hypothesis testing, and making sure you don't fall into the follies of poor statistical decisions."
   ]
  }
 ],
 "metadata": {
  "kernelspec": {
   "display_name": "Julia 1.2.0",
   "language": "julia",
   "name": "julia-1.2"
  },
  "language_info": {
   "file_extension": ".jl",
   "mimetype": "application/julia",
   "name": "julia",
   "version": "1.2.0"
  }
 },
 "nbformat": 4,
 "nbformat_minor": 2
}
