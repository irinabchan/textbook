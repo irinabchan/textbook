{
 "cells": [
  {
   "cell_type": "code",
   "execution_count": 1,
   "metadata": {},
   "outputs": [],
   "source": [
    "# HIDDEN\n",
    "Base.displaysize() = (5, 80)\n",
    "using DataFrames\n",
    "using CSV"
   ]
  },
  {
   "cell_type": "markdown",
   "metadata": {},
   "source": [
    "## Julia String Methods\n",
    "\n",
    "Julia provides a variety of methods for basic string manipulation. Although simple, these methods form the primitives that piece together to form more complex string operations. We will introduce Julia's string methods in the context of a common use case for working with text: data cleaning.\n",
    "\n",
    "## Cleaning Text Data\n",
    "\n",
    "Data often comes from several different sources that each implements its own way of encoding information. In the following example, we have one table that records the state that a county belongs to and another that records the population of the county."
   ]
  },
  {
   "cell_type": "code",
   "execution_count": 8,
   "metadata": {},
   "outputs": [],
   "source": [
    "# HIDDEN\n",
    "state = DataFrame(\n",
    "    County=[\n",
    "        \"De Witt County\",\n",
    "        \"Lac qui Parle County\",\n",
    "        \"Lewis and Clark County\",\n",
    "        \"St John the Baptist Parish\",\n",
    "    ],\n",
    "    State=[\n",
    "        \"IL\",\n",
    "        \"MN\",\n",
    "        \"MT\",\n",
    "        \"LA\"\n",
    "    ]\n",
    ")\n",
    "population = DataFrame(\n",
    "    County=[\n",
    "        \"DeWitt  \",\n",
    "        \"Lac Qui Parle\",\n",
    "        \"Lewis & Clark\",\n",
    "        \"St. John the Baptist\"\n",
    "    ],\n",
    "    Population=[\n",
    "        16798,\n",
    "        8067,\n",
    "        55716,\n",
    "        43044\n",
    "    ]\n",
    ");"
   ]
  },
  {
   "cell_type": "code",
   "execution_count": 9,
   "metadata": {},
   "outputs": [
    {
     "data": {
      "text/html": [
       "<table class=\"data-frame\"><thead><tr><th></th><th>County</th><th>State</th></tr><tr><th></th><th>String</th><th>String</th></tr></thead><tbody><p>4 rows × 2 columns</p><tr><th>1</th><td>De Witt County</td><td>IL</td></tr><tr><th>2</th><td>Lac qui Parle County</td><td>MN</td></tr><tr><th>3</th><td>Lewis and Clark County</td><td>MT</td></tr><tr><th>4</th><td>St John the Baptist Parish</td><td>LA</td></tr></tbody></table>"
      ],
      "text/latex": [
       "\\begin{tabular}{r|cc}\n",
       "\t& County & State\\\\\n",
       "\t\\hline\n",
       "\t& String & String\\\\\n",
       "\t\\hline\n",
       "\t1 & De Witt County & IL \\\\\n",
       "\t2 & Lac qui Parle County & MN \\\\\n",
       "\t3 & Lewis and Clark County & MT \\\\\n",
       "\t4 & St John the Baptist Parish & LA \\\\\n",
       "\\end{tabular}\n"
      ],
      "text/plain": [
       "4×2 DataFrame\n"
      ]
     },
     "execution_count": 9,
     "metadata": {},
     "output_type": "execute_result"
    }
   ],
   "source": [
    "state"
   ]
  },
  {
   "cell_type": "code",
   "execution_count": 10,
   "metadata": {},
   "outputs": [
    {
     "data": {
      "text/html": [
       "<table class=\"data-frame\"><thead><tr><th></th><th>County</th><th>Population</th></tr><tr><th></th><th>String</th><th>Int64</th></tr></thead><tbody><p>4 rows × 2 columns</p><tr><th>1</th><td>DeWitt  </td><td>16798</td></tr><tr><th>2</th><td>Lac Qui Parle</td><td>8067</td></tr><tr><th>3</th><td>Lewis &amp; Clark</td><td>55716</td></tr><tr><th>4</th><td>St. John the Baptist</td><td>43044</td></tr></tbody></table>"
      ],
      "text/latex": [
       "\\begin{tabular}{r|cc}\n",
       "\t& County & Population\\\\\n",
       "\t\\hline\n",
       "\t& String & Int64\\\\\n",
       "\t\\hline\n",
       "\t1 & DeWitt   & 16798 \\\\\n",
       "\t2 & Lac Qui Parle & 8067 \\\\\n",
       "\t3 & Lewis \\& Clark & 55716 \\\\\n",
       "\t4 & St. John the Baptist & 43044 \\\\\n",
       "\\end{tabular}\n"
      ],
      "text/plain": [
       "4×2 DataFrame\n"
      ]
     },
     "execution_count": 10,
     "metadata": {},
     "output_type": "execute_result"
    }
   ],
   "source": [
    "population"
   ]
  },
  {
   "cell_type": "markdown",
   "metadata": {},
   "source": [
    "We would naturally like to join the `state` and `population` tables using the `County` column. Unfortunately, not a single county is spelled the same in the two tables. This example is illustrative of the following common issues in text data:\n",
    "\n",
    "1.  Capitalization: `qui` vs `Qui`\n",
    "1.  Different punctuation conventions: `St.` vs `St` \n",
    "1.  Omission of words: `County`/`Parish` is absent in the `population` table\n",
    "1.  Use of whitespace: `DeWitt` vs `De Witt`\n",
    "1.  Different abbreviation conventions: `&` vs `and`"
   ]
  },
  {
   "cell_type": "markdown",
   "metadata": {},
   "source": [
    "## String Methods\n",
    "\n",
    "Julia's string methods allow us to start resolving these issues. These methods are conveniently defined on all Julia strings and thus do not require importing other modules. Although it is worth familiarizing yourself with [the complete list of string methods](https://docs.julialang.org/en/v1/base/strings/) or taking a look at the comprehensive introduction to Strings available at the [Julia Manual](https://docs.julialang.org/en/v1/manual/strings/#String-Basics-1), we describe a few of the most commonly used methods in the table below."
   ]
  },
  {
   "cell_type": "markdown",
   "metadata": {},
   "source": [
    "| Method                 | Description                                                                 |\n",
    "| ---------------------- | --------------------------------------------------------------------------- |\n",
    "| `str[x:y]`             | Slices `str`, returning indices x (inclusive) to y (inclusive)              |\n",
    "| `lowercase(str)`       | Returns a copy of a string with all letters converted to lowercase          |\n",
    "| `replace(str, a => b)` | Replaces all instances of the substring `a` in `str` with the substring `b` |\n",
    "| `split(str, 'a')`      | Returns substrings of `str` split at a substring `a`                        |\n",
    "| `strip(str)`           | Removes leading and trailing whitespace from `str`                          |\n"
   ]
  },
  {
   "cell_type": "markdown",
   "metadata": {},
   "source": [
    "We select the string for St. John the Baptist parish from the `state` and `population` tables and apply string methods to remove capitalization, punctuation, and `county`/`parish` occurrences."
   ]
  },
  {
   "cell_type": "code",
   "execution_count": 28,
   "metadata": {},
   "outputs": [
    {
     "data": {
      "text/plain": [
       "\"stjohnthebaptist\""
      ]
     },
     "execution_count": 28,
     "metadata": {},
     "output_type": "execute_result"
    }
   ],
   "source": [
    "john1 = state[4, :County]\n",
    "john2 = population[4, :County]\n",
    "\n",
    "new_john1 = lowercase(john1) |>\n",
    "    strip |>\n",
    "    x->replace(x, \" parish\" => \"\") |>\n",
    "    x->replace(x, \" county\" => \"\") |>\n",
    "    x->replace(x, \"&\" => \"and\") |>\n",
    "    x->replace(x, \".\" => \"\") |>\n",
    "    x->replace(x, \" \" => \"\")\n",
    "new_john1"
   ]
  },
  {
   "cell_type": "markdown",
   "metadata": {},
   "source": [
    "Applying the same set of methods to `john2` allows us to verify that the two strings are now identical."
   ]
  },
  {
   "cell_type": "code",
   "execution_count": 29,
   "metadata": {},
   "outputs": [
    {
     "data": {
      "text/plain": [
       "\"stjohnthebaptist\""
      ]
     },
     "execution_count": 29,
     "metadata": {},
     "output_type": "execute_result"
    }
   ],
   "source": [
    "new_john2 = lowercase(john2) |>\n",
    "    strip |>\n",
    "    x->replace(x, \" parish\" => \"\") |>\n",
    "    x->replace(x, \" county\" => \"\") |>\n",
    "    x->replace(x, \"&\" => \"and\") |>\n",
    "    x->replace(x, \".\" => \"\") |>\n",
    "    x->replace(x, \" \" => \"\")\n",
    "new_john2"
   ]
  },
  {
   "cell_type": "markdown",
   "metadata": {},
   "source": [
    "Satisfied, we create a method called `clean_county` that normalizes an input county."
   ]
  },
  {
   "cell_type": "code",
   "execution_count": 31,
   "metadata": {},
   "outputs": [],
   "source": [
    "function clean_county(county)\n",
    "    return (lowercase(county) |>\n",
    "    strip |>\n",
    "    x->replace(x, \" parish\" => \"\") |>\n",
    "    x->replace(x, \" county\" => \"\") |>\n",
    "    x->replace(x, \"&\" => \"and\") |>\n",
    "    x->replace(x, \".\" => \"\") |>\n",
    "    x->replace(x, \" \" => \"\"))\n",
    "end;"
   ]
  },
  {
   "cell_type": "markdown",
   "metadata": {},
   "source": [
    "We may now verify that the `clean_county` method produces matching counties for all the counties in both tables:"
   ]
  },
  {
   "cell_type": "code",
   "execution_count": 45,
   "metadata": {},
   "outputs": [
    {
     "data": {
      "text/plain": [
       "([\"dewitt\", \"lacquiparle\", \"lewisandclark\", \"stjohnthebaptist\"], [\"dewitt\", \"lacquiparle\", \"lewisandclark\", \"stjohnthebaptist\"])"
      ]
     },
     "execution_count": 45,
     "metadata": {},
     "output_type": "execute_result"
    }
   ],
   "source": [
    "([clean_county(county) for county in state.County],\n",
    " [clean_county(county) for county in population.County])"
   ]
  },
  {
   "cell_type": "markdown",
   "metadata": {},
   "source": [
    "Because each county in both tables has the same transformed representation, we may successfully join the two tables using the transformed county names."
   ]
  },
  {
   "cell_type": "markdown",
   "metadata": {},
   "source": [
    "## String Methods in DataFrames\n",
    "\n",
    "In the code above we used a loop to transform each county name. The `.` operator provides a convenient way to apply string methods to each column in a DataFrame. First, the series of county names in the `state` table:"
   ]
  },
  {
   "cell_type": "code",
   "execution_count": 42,
   "metadata": {},
   "outputs": [
    {
     "name": "stdout",
     "output_type": "stream",
     "text": [
      "[\"De Witt County\", \"Lac qui Parle County\", \"Lewis and Clark County\", \"St John the Baptist Parish\"]"
     ]
    }
   ],
   "source": [
    "print(state.County)"
   ]
  },
  {
   "cell_type": "markdown",
   "metadata": {},
   "source": [
    "Calling a method with the `.` operator will call the method on each element of the array."
   ]
  },
  {
   "cell_type": "code",
   "execution_count": 47,
   "metadata": {},
   "outputs": [
    {
     "name": "stdout",
     "output_type": "stream",
     "text": [
      "[\"de witt county\", \"lac qui parle county\", \"lewis and clark county\", \"st john the baptist parish\"]"
     ]
    }
   ],
   "source": [
    "print(lowercase.(state.County))"
   ]
  },
  {
   "cell_type": "markdown",
   "metadata": {},
   "source": [
    "This allows us to transform each string in the series without using a loop."
   ]
  },
  {
   "cell_type": "code",
   "execution_count": 48,
   "metadata": {},
   "outputs": [
    {
     "name": "stdout",
     "output_type": "stream",
     "text": [
      "[\"dewitt\", \"lacquiparle\", \"lewisandclark\", \"stjohnthebaptist\"]"
     ]
    }
   ],
   "source": [
    "print(clean_county.(state.County))"
   ]
  },
  {
   "cell_type": "markdown",
   "metadata": {},
   "source": [
    "We save the transformed counties back into their originating tables:"
   ]
  },
  {
   "cell_type": "code",
   "execution_count": 53,
   "metadata": {},
   "outputs": [],
   "source": [
    "state[!, :County] = clean_county.(state.County)\n",
    "population[!, :County] = clean_county.(population.County);"
   ]
  },
  {
   "cell_type": "markdown",
   "metadata": {},
   "source": [
    "Now, the two tables contain the same string representation of the counties:"
   ]
  },
  {
   "cell_type": "code",
   "execution_count": 50,
   "metadata": {},
   "outputs": [
    {
     "data": {
      "text/html": [
       "<table class=\"data-frame\"><thead><tr><th></th><th>County</th><th>State</th></tr><tr><th></th><th>String</th><th>String</th></tr></thead><tbody><p>4 rows × 2 columns</p><tr><th>1</th><td>dewitt</td><td>IL</td></tr><tr><th>2</th><td>lacquiparle</td><td>MN</td></tr><tr><th>3</th><td>lewisandclark</td><td>MT</td></tr><tr><th>4</th><td>stjohnthebaptist</td><td>LA</td></tr></tbody></table>"
      ],
      "text/latex": [
       "\\begin{tabular}{r|cc}\n",
       "\t& County & State\\\\\n",
       "\t\\hline\n",
       "\t& String & String\\\\\n",
       "\t\\hline\n",
       "\t1 & dewitt & IL \\\\\n",
       "\t2 & lacquiparle & MN \\\\\n",
       "\t3 & lewisandclark & MT \\\\\n",
       "\t4 & stjohnthebaptist & LA \\\\\n",
       "\\end{tabular}\n"
      ],
      "text/plain": [
       "4×2 DataFrame\n"
      ]
     },
     "execution_count": 50,
     "metadata": {},
     "output_type": "execute_result"
    }
   ],
   "source": [
    "state"
   ]
  },
  {
   "cell_type": "code",
   "execution_count": 51,
   "metadata": {},
   "outputs": [
    {
     "data": {
      "text/html": [
       "<table class=\"data-frame\"><thead><tr><th></th><th>County</th><th>Population</th></tr><tr><th></th><th>String</th><th>Int64</th></tr></thead><tbody><p>4 rows × 2 columns</p><tr><th>1</th><td>dewitt</td><td>16798</td></tr><tr><th>2</th><td>lacquiparle</td><td>8067</td></tr><tr><th>3</th><td>lewisandclark</td><td>55716</td></tr><tr><th>4</th><td>stjohnthebaptist</td><td>43044</td></tr></tbody></table>"
      ],
      "text/latex": [
       "\\begin{tabular}{r|cc}\n",
       "\t& County & Population\\\\\n",
       "\t\\hline\n",
       "\t& String & Int64\\\\\n",
       "\t\\hline\n",
       "\t1 & dewitt & 16798 \\\\\n",
       "\t2 & lacquiparle & 8067 \\\\\n",
       "\t3 & lewisandclark & 55716 \\\\\n",
       "\t4 & stjohnthebaptist & 43044 \\\\\n",
       "\\end{tabular}\n"
      ],
      "text/plain": [
       "4×2 DataFrame\n"
      ]
     },
     "execution_count": 51,
     "metadata": {},
     "output_type": "execute_result"
    }
   ],
   "source": [
    "population"
   ]
  },
  {
   "cell_type": "markdown",
   "metadata": {},
   "source": [
    "It is simple to join these tables once the counties match."
   ]
  },
  {
   "cell_type": "code",
   "execution_count": 52,
   "metadata": {},
   "outputs": [
    {
     "data": {
      "text/html": [
       "<table class=\"data-frame\"><thead><tr><th></th><th>County</th><th>State</th><th>Population</th></tr><tr><th></th><th>String</th><th>String</th><th>Int64</th></tr></thead><tbody><p>4 rows × 3 columns</p><tr><th>1</th><td>dewitt</td><td>IL</td><td>16798</td></tr><tr><th>2</th><td>lacquiparle</td><td>MN</td><td>8067</td></tr><tr><th>3</th><td>lewisandclark</td><td>MT</td><td>55716</td></tr><tr><th>4</th><td>stjohnthebaptist</td><td>LA</td><td>43044</td></tr></tbody></table>"
      ],
      "text/latex": [
       "\\begin{tabular}{r|ccc}\n",
       "\t& County & State & Population\\\\\n",
       "\t\\hline\n",
       "\t& String & String & Int64\\\\\n",
       "\t\\hline\n",
       "\t1 & dewitt & IL & 16798 \\\\\n",
       "\t2 & lacquiparle & MN & 8067 \\\\\n",
       "\t3 & lewisandclark & MT & 55716 \\\\\n",
       "\t4 & stjohnthebaptist & LA & 43044 \\\\\n",
       "\\end{tabular}\n"
      ],
      "text/plain": [
       "4×3 DataFrame\n"
      ]
     },
     "execution_count": 52,
     "metadata": {},
     "output_type": "execute_result"
    }
   ],
   "source": [
    "join(state, population, on = :County)"
   ]
  },
  {
   "cell_type": "markdown",
   "metadata": {},
   "source": [
    "## Summary\n",
    "\n",
    "Julia's string methods form a set of simple and useful operations for string manipulation. By using the `.` operator on `DataFrames` we can appy the underlying Julia method to each element of a column.\n",
    "\n",
    "You may find the complete documentation on Julia's `string` methods [here](https://docs.julialang.org/en/v1/base/strings/)."
   ]
  }
 ],
 "metadata": {
  "kernelspec": {
   "display_name": "Julia 1.2.0",
   "language": "julia",
   "name": "julia-1.2"
  },
  "language_info": {
   "file_extension": ".jl",
   "mimetype": "application/julia",
   "name": "julia",
   "version": "1.2.0"
  }
 },
 "nbformat": 4,
 "nbformat_minor": 2
}
