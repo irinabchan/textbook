{
 "cells": [
  {
   "cell_type": "markdown",
   "metadata": {},
   "source": [
    "## Regex and Julia\n",
    "\n",
    "In this section, we introduce regex usage in Julia. Since we only cover a few of the most commonly used methods, you will find it useful to consult [the official documentation](https://docs.julialang.org/en/v1/manual/strings/#Regular-Expressions-1) as well."
   ]
  },
  {
   "cell_type": "markdown",
   "metadata": {},
   "source": [
    "## `occursin`\n",
    "\n",
    "`occursin(pattern, string)` simply returns true or false, indicating whether a match for the given `pattern` occurs in the `string`."
   ]
  },
  {
   "cell_type": "code",
   "execution_count": 2,
   "metadata": {},
   "outputs": [
    {
     "name": "stdout",
     "output_type": "stream",
     "text": [
      "Found a match!\n"
     ]
    }
   ],
   "source": [
    "phone_re = r\"[0-9]{3}-[0-9]{3}-[0-9]{4}\"\n",
    "text  = \"Call me at 382-384-3840.\"\n",
    "if occursin(phone_re, text)\n",
    "    println(\"Found a match!\")\n",
    "end"
   ]
  },
  {
   "cell_type": "code",
   "execution_count": 3,
   "metadata": {},
   "outputs": [],
   "source": [
    "if occursin(phone_re, \"Hello world\")\n",
    "    println(\"No match; this won't print\")\n",
    "end"
   ]
  },
  {
   "cell_type": "markdown",
   "metadata": {},
   "source": [
    "Another commonly used method is `match(pattern, string)`, which captures the information on how the pattern matched. If a regular expression does match, the value returned is a `RegexMatch`. Otherwise, it will return `nothing`."
   ]
  },
  {
   "cell_type": "code",
   "execution_count": 4,
   "metadata": {},
   "outputs": [
    {
     "data": {
      "text/plain": [
       "RegexMatch(\"382-384-3840\")"
      ]
     },
     "execution_count": 4,
     "metadata": {},
     "output_type": "execute_result"
    }
   ],
   "source": [
    "match(r\"[0-9]{3}-[0-9]{3}-[0-9]{4}\", \"Call me at 382-384-3840.\")"
   ]
  },
  {
   "cell_type": "markdown",
   "metadata": {},
   "source": [
    "## `eachmatch`\n",
    "\n",
    "We use `eachmatch(pattern, string)` to extract substrings that match a regex. This method returns a `RegexMatchIterator` which we can collect it items all matches of `pattern` in `string`."
   ]
  },
  {
   "cell_type": "code",
   "execution_count": 5,
   "metadata": {},
   "outputs": [
    {
     "data": {
      "text/plain": [
       "2-element Array{RegexMatch,1}:\n",
       " RegexMatch(\"email1@gmail.com\")\n",
       " RegexMatch(\"email3@gmail.com\")"
      ]
     },
     "execution_count": 5,
     "metadata": {},
     "output_type": "execute_result"
    }
   ],
   "source": [
    "gmail_re = r\"[a-zA-Z0-9]+@gmail\\.com\"\n",
    "text = \"\"\"\n",
    "From: email1@gmail.com\n",
    "To: email2@yahoo.com and email3@gmail.com\n",
    "\"\"\"\n",
    "collect(eachmatch(gmail_re, text))"
   ]
  },
  {
   "cell_type": "markdown",
   "metadata": {},
   "source": [
    "## Regex Groups\n",
    "\n"
   ]
  },
  {
   "cell_type": "markdown",
   "metadata": {},
   "source": [
    "Using **regex groups**, we specify subpatterns to extract from a regex by wrapping the subpattern in parentheses `( )`. When a regex contains regex groups, `eachmatch` returns a the substring found in each pattern as well.\n",
    "\n",
    "For example, the following familiar regex extracts phone numbers from a string:"
   ]
  },
  {
   "cell_type": "code",
   "execution_count": 10,
   "metadata": {},
   "outputs": [
    {
     "data": {
      "text/plain": [
       "2-element Array{RegexMatch,1}:\n",
       " RegexMatch(\"382-384-3840\")\n",
       " RegexMatch(\"123-456-7890\")"
      ]
     },
     "execution_count": 10,
     "metadata": {},
     "output_type": "execute_result"
    }
   ],
   "source": [
    "phone_re = r\"[0-9]{3}-[0-9]{3}-[0-9]{4}\"\n",
    "text  = \"Sam's number is 382-384-3840 and Mary's is 123-456-7890.\"\n",
    "collect(eachmatch(phone_re, text))"
   ]
  },
  {
   "cell_type": "code",
   "execution_count": 11,
   "metadata": {},
   "outputs": [
    {
     "data": {
      "text/plain": [
       "2-element Array{RegexMatch,1}:\n",
       " RegexMatch(\"382-384-3840\", 1=\"382\", 2=\"384\", 3=\"3840\")\n",
       " RegexMatch(\"123-456-7890\", 1=\"123\", 2=\"456\", 3=\"7890\")"
      ]
     },
     "execution_count": 11,
     "metadata": {},
     "output_type": "execute_result"
    }
   ],
   "source": [
    "# Same regex with parentheses around the digit groups\n",
    "phone_re = r\"([0-9]{3})-([0-9]{3})-([0-9]{4})\"\n",
    "text  = \"Sam's number is 382-384-3840 and Mary's is 123-456-7890.\"\n",
    "collect(eachmatch(phone_re, text))"
   ]
  },
  {
   "cell_type": "markdown",
   "metadata": {},
   "source": [
    "As promised, `eachmatch` returns the substring matched along with each capture."
   ]
  },
  {
   "cell_type": "markdown",
   "metadata": {},
   "source": [
    "## `replace`\n",
    "\n",
    "`replace(string, pattern => replacement)` replaces all occurrences of `pattern` with `replacement` in the provided `string`. This method can also take a regular string instead of a regex, and maximum number of occurencies to be replaced.\n",
    "\n",
    "In the code below, we alter the dates to have a common format by substituting the date separators with a dash."
   ]
  },
  {
   "cell_type": "code",
   "execution_count": 12,
   "metadata": {},
   "outputs": [
    {
     "data": {
      "text/plain": [
       "\"03-12-2018, 03-13-18, 03-14-2018, 03-15-2018\""
      ]
     },
     "execution_count": 12,
     "metadata": {},
     "output_type": "execute_result"
    }
   ],
   "source": [
    "messy_dates = \"03/12/2018, 03.13.18, 03/14/2018, 03:15:2018\"\n",
    "regex = r\"[/.:]\"\n",
    "replace(messy_dates, regex => \"-\")"
   ]
  },
  {
   "cell_type": "code",
   "execution_count": 14,
   "metadata": {},
   "outputs": [
    {
     "data": {
      "text/plain": [
       "5-element Array{SubString{String},1}:\n",
       " \"PLAYING PILGRIMS============3\" \n",
       " \"A MERRY CHRISTMAS===========13\"\n",
       " \"THE LAURENCE BOY============31\"\n",
       " \"BURDENS=====================55\"\n",
       " \"BEING NEIGHBORLY============76\""
      ]
     },
     "execution_count": 14,
     "metadata": {},
     "output_type": "execute_result"
    }
   ],
   "source": [
    "toc = strip(\"\"\"\n",
    "PLAYING PILGRIMS============3\n",
    "A MERRY CHRISTMAS===========13\n",
    "THE LAURENCE BOY============31\n",
    "BURDENS=====================55\n",
    "BEING NEIGHBORLY============76\n",
    "\"\"\")\n",
    "\n",
    "# First, split into individual lines\n",
    "lines = split(toc, '\\n')"
   ]
  },
  {
   "cell_type": "code",
   "execution_count": 15,
   "metadata": {},
   "outputs": [
    {
     "data": {
      "text/plain": [
       "5-element Array{Array{SubString{String},1},1}:\n",
       " [\"PLAYING PILGRIMS\", \"3\"]  \n",
       " [\"A MERRY CHRISTMAS\", \"13\"]\n",
       " [\"THE LAURENCE BOY\", \"31\"] \n",
       " [\"BURDENS\", \"55\"]          \n",
       " [\"BEING NEIGHBORLY\", \"76\"] "
      ]
     },
     "execution_count": 15,
     "metadata": {},
     "output_type": "execute_result"
    }
   ],
   "source": [
    "# Then, split into chapter title and page number\n",
    "split_re = r\"=+\" # Matches any sequence of = characters\n",
    "[split(line, split_re) for line in lines]"
   ]
  },
  {
   "cell_type": "markdown",
   "metadata": {},
   "source": [
    "## Regex and DataFrames\n",
    "\n",
    "We can combine the methods discussed above with the `.` operator to work with DataFrames efficiently.\n",
    "\n",
    "We've stored the text of the first five sentences of the novel *Little Women* in the DataFrame below. We can use the Regex methods that Julia provides to extract the spoken dialog in each sentence."
   ]
  },
  {
   "cell_type": "code",
   "execution_count": 19,
   "metadata": {},
   "outputs": [],
   "source": [
    "# HIDDEN\n",
    "Base.displaysize() = (5, 80)\n",
    "using DataFrames\n",
    "text = strip(\"\"\"\n",
    "\"Christmas won't be Christmas without any presents,\" grumbled Jo, lying on the rug.\n",
    "\"It's so dreadful to be poor!\" sighed Meg, looking down at her old dress.\n",
    "\"I don't think it's fair for some girls to have plenty of pretty things, and other girls nothing at all,\" added little Amy, with an injured sniff.\n",
    "\"We've got Father and Mother, and each other,\" said Beth contentedly from her corner.\n",
    "The four young faces on which the firelight shone brightened at the cheerful words, but darkened again as Jo said sadly, \"We haven't got Father, and shall not have him for a long time.\"\n",
    "\"\"\")\n",
    "\n",
    "little = DataFrame(sentences=split(text, '\\n'));"
   ]
  },
  {
   "cell_type": "code",
   "execution_count": 20,
   "metadata": {},
   "outputs": [
    {
     "data": {
      "text/html": [
       "<table class=\"data-frame\"><thead><tr><th></th><th>sentences</th></tr><tr><th></th><th>SubStrin…</th></tr></thead><tbody><p>5 rows × 1 columns</p><tr><th>1</th><td>\"Christmas won't be Christmas without any presents,\" grumbled Jo, lying on the rug.</td></tr><tr><th>2</th><td>\"It's so dreadful to be poor!\" sighed Meg, looking down at her old dress.</td></tr><tr><th>3</th><td>\"I don't think it's fair for some girls to have plenty of pretty things, and other girls nothing at all,\" added little Amy, with an injured sniff.</td></tr><tr><th>4</th><td>\"We've got Father and Mother, and each other,\" said Beth contentedly from her corner.</td></tr><tr><th>5</th><td>The four young faces on which the firelight shone brightened at the cheerful words, but darkened again as Jo said sadly, \"We haven't got Father, and shall not have him for a long time.\"</td></tr></tbody></table>"
      ],
      "text/latex": [
       "\\begin{tabular}{r|c}\n",
       "\t& sentences\\\\\n",
       "\t\\hline\n",
       "\t& SubStrin…\\\\\n",
       "\t\\hline\n",
       "\t1 & \"Christmas won't be Christmas without any presents,\" grumbled Jo, lying on the rug. \\\\\n",
       "\t2 & \"It's so dreadful to be poor!\" sighed Meg, looking down at her old dress. \\\\\n",
       "\t3 & \"I don't think it's fair for some girls to have plenty of pretty things, and other girls nothing at all,\" added little Amy, with an injured sniff. \\\\\n",
       "\t4 & \"We've got Father and Mother, and each other,\" said Beth contentedly from her corner. \\\\\n",
       "\t5 & The four young faces on which the firelight shone brightened at the cheerful words, but darkened again as Jo said sadly, \"We haven't got Father, and shall not have him for a long time.\" \\\\\n",
       "\\end{tabular}\n"
      ],
      "text/plain": [
       "5×1 DataFrame\n"
      ]
     },
     "execution_count": 20,
     "metadata": {},
     "output_type": "execute_result"
    }
   ],
   "source": [
    "little"
   ]
  },
  {
   "cell_type": "markdown",
   "metadata": {},
   "source": [
    "Since spoken dialog lies within double quotation marks, we create a regex that captures a double quotation mark, a sequence of characters, and the closing quotation mark. As we are dealing with DataFrames, we can use `.` to broadcast an operations along all elements. When using `eachmatch` we obtain a `RegexMatch` object for each row in the DataFrame:"
   ]
  },
  {
   "cell_type": "code",
   "execution_count": 37,
   "metadata": {},
   "outputs": [
    {
     "name": "stdout",
     "output_type": "stream",
     "text": [
      "Array{RegexMatch,1}[[RegexMatch(\"\\\"Christmas won't be Christmas without any presents,\\\"\")], [RegexMatch(\"\\\"It's so dreadful to be poor!\\\"\")], [RegexMatch(\"\\\"I don't think it's fair for some girls to have plenty of pretty things, and other girls nothing at all,\\\"\")], [RegexMatch(\"\\\"We've got Father and Mother, and each other,\\\"\")], [RegexMatch(\"\\\"We haven't got Father, and shall not have him for a long time.\\\"\")]]\n"
     ]
    }
   ],
   "source": [
    "quote_re = r\"\\\".+\\\"\"\n",
    "matches = collect.(eachmatch.(quote_re, little.sentences))\n",
    "println(matches)"
   ]
  },
  {
   "cell_type": "markdown",
   "metadata": {},
   "source": [
    "We can now extract the matches using a list comprehension, and remove the quotation marks before adding the results as a new column in our DataFrame:"
   ]
  },
  {
   "cell_type": "code",
   "execution_count": 71,
   "metadata": {},
   "outputs": [
    {
     "data": {
      "text/html": [
       "<table class=\"data-frame\"><thead><tr><th></th><th>sentences</th><th>dialog</th></tr><tr><th></th><th>SubStrin…</th><th>SubStrin…</th></tr></thead><tbody><p>3 rows × 2 columns</p><tr><th>1</th><td>\"Christmas won't be Christmas without any presents,\" grumbled Jo, lying on the rug.</td><td>Christmas won't be Christmas without any presents,</td></tr><tr><th>2</th><td>\"It's so dreadful to be poor!\" sighed Meg, looking down at her old dress.</td><td>It's so dreadful to be poor!</td></tr><tr><th>3</th><td>\"I don't think it's fair for some girls to have plenty of pretty things, and other girls nothing at all,\" added little Amy, with an injured sniff.</td><td>I don't think it's fair for some girls to have plenty of pretty things, and other girls nothing at all,</td></tr></tbody></table>"
      ],
      "text/latex": [
       "\\begin{tabular}{r|cc}\n",
       "\t& sentences & dialog\\\\\n",
       "\t\\hline\n",
       "\t& SubStrin… & SubStrin…\\\\\n",
       "\t\\hline\n",
       "\t1 & \"Christmas won't be Christmas without any presents,\" grumbled Jo, lying on the rug. & Christmas won't be Christmas without any presents, \\\\\n",
       "\t2 & \"It's so dreadful to be poor!\" sighed Meg, looking down at her old dress. & It's so dreadful to be poor! \\\\\n",
       "\t3 & \"I don't think it's fair for some girls to have plenty of pretty things, and other girls nothing at all,\" added little Amy, with an injured sniff. & I don't think it's fair for some girls to have plenty of pretty things, and other girls nothing at all, \\\\\n",
       "\\end{tabular}\n"
      ],
      "text/plain": [
       "3×2 DataFrame\n"
      ]
     },
     "execution_count": 71,
     "metadata": {},
     "output_type": "execute_result"
    }
   ],
   "source": [
    "# Each RegexMatch only returned one element, hence we are accessing it directly:\n",
    "spoken = [strip(x[1].match, '\\\"') for x in matches]\n",
    "little.dialog = spoken\n",
    "\n",
    "first(little, 3)"
   ]
  },
  {
   "cell_type": "markdown",
   "metadata": {},
   "source": [
    "We can confirm that our string manipulation behaves as expected for the last sentence in our DataFrame by printing the original and extracted text:"
   ]
  },
  {
   "cell_type": "code",
   "execution_count": 72,
   "metadata": {},
   "outputs": [
    {
     "data": {
      "text/plain": [
       "\"The four young faces on which the firelight shone brightened at the cheerful words, but darkened again as Jo said sadly, \\\"We haven't got Father, and shall not have him for a long time.\\\"\""
      ]
     },
     "execution_count": 72,
     "metadata": {},
     "output_type": "execute_result"
    }
   ],
   "source": [
    "little.sentences[5]"
   ]
  },
  {
   "cell_type": "code",
   "execution_count": 73,
   "metadata": {},
   "outputs": [
    {
     "data": {
      "text/plain": [
       "\"We haven't got Father, and shall not have him for a long time.\""
      ]
     },
     "execution_count": 73,
     "metadata": {},
     "output_type": "execute_result"
    }
   ],
   "source": [
    "little.dialog[5]"
   ]
  },
  {
   "cell_type": "markdown",
   "metadata": {},
   "source": [
    "## Summary\n",
    "\n",
    "Julia provides a useful group of methods for manipulating text using regular expressions. When working with DataFrames, we can combine the `.` operator to broadcast those methods along the rows.\n",
    "\n",
    "For more information on regular expressions, see the [documentation](https://docs.julialang.org/en/v1/manual/strings/#Regular-Expressions-1)."
   ]
  }
 ],
 "metadata": {
  "@webio": {
   "lastCommId": null,
   "lastKernelId": null
  },
  "kernelspec": {
   "display_name": "Julia 1.2.0",
   "language": "julia",
   "name": "julia-1.2"
  },
  "language_info": {
   "file_extension": ".jl",
   "mimetype": "application/julia",
   "name": "julia",
   "version": "1.2.0"
  }
 },
 "nbformat": 4,
 "nbformat_minor": 2
}
