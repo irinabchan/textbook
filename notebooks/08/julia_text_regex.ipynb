{
 "cells": [
  {
   "cell_type": "markdown",
   "metadata": {},
   "source": [
    "## Regular Expressions\n",
    "\n",
    "In this section we introduce regular expressions, an important tool to specify patterns in strings."
   ]
  },
  {
   "cell_type": "markdown",
   "metadata": {},
   "source": [
    "## Motivation\n",
    "\n",
    "In a larger piece of text, many useful substrings come in a specific format. For instance, the sentence below contains a U.S. phone number.\n",
    "\n",
    "`\"give me a call, my number is 123-456-7890.\"`\n",
    "\n",
    "The phone number contains the following pattern:\n",
    "\n",
    "1. Three numbers\n",
    "1. Followed by a dash\n",
    "1. Followed by three numbers\n",
    "1. Followed by a dash\n",
    "1. Followed by four Numbers\n",
    "\n",
    "Given a free-form segment of text, we might naturally wish to detect and extract the phone numbers. We may also wish to extract specific pieces of the phone numbers—for example, by extracting the area code we may deduce the locations of individuals mentioned in the text.\n",
    "\n",
    "To detect whether a string contains a phone number, we may attempt to write a method like the following:"
   ]
  },
  {
   "cell_type": "code",
   "execution_count": 12,
   "metadata": {},
   "outputs": [
    {
     "data": {
      "text/plain": [
       "is_phone_number (generic function with 1 method)"
      ]
     },
     "execution_count": 12,
     "metadata": {},
     "output_type": "execute_result"
    }
   ],
   "source": [
    "function is_phone_number(string)\n",
    "    \n",
    "    digits = \"0123456789\"\n",
    "    \n",
    "    function is_not_digit(token)\n",
    "        return (!(token in digits))\n",
    "    end\n",
    "    \n",
    "    # Three numbers\n",
    "    for i in 1:3\n",
    "        if is_not_digit(string[i])\n",
    "            return false\n",
    "        end\n",
    "    end\n",
    "    \n",
    "    # Followed by a dash\n",
    "    if string[4] != '-'\n",
    "        return false\n",
    "    end\n",
    "    \n",
    "    # Followed by three numbers\n",
    "    for i in 5:7\n",
    "        if is_not_digit(string[i])\n",
    "            return false\n",
    "        end\n",
    "    end\n",
    "        \n",
    "    # Followed by a dash    \n",
    "    if string[8] != '-'\n",
    "        return false\n",
    "    end\n",
    "    \n",
    "    # Followed by four numbers\n",
    "    for i in 9:11\n",
    "        if is_not_digit(string[i])\n",
    "            return false\n",
    "        end\n",
    "    end\n",
    "    \n",
    "    return true\n",
    "end"
   ]
  },
  {
   "cell_type": "code",
   "execution_count": 13,
   "metadata": {},
   "outputs": [
    {
     "data": {
      "text/plain": [
       "true"
      ]
     },
     "execution_count": 13,
     "metadata": {},
     "output_type": "execute_result"
    }
   ],
   "source": [
    "is_phone_number(\"382-384-3840\")"
   ]
  },
  {
   "cell_type": "code",
   "execution_count": 14,
   "metadata": {},
   "outputs": [
    {
     "data": {
      "text/plain": [
       "false"
      ]
     },
     "execution_count": 14,
     "metadata": {},
     "output_type": "execute_result"
    }
   ],
   "source": [
    "is_phone_number(\"phone number\")"
   ]
  },
  {
   "cell_type": "markdown",
   "metadata": {},
   "source": [
    "The code above is unpleasant and verbose. Rather than manually loop through the characters of the string, we would prefer to specify a pattern and command Julia to match the pattern.\n",
    "\n",
    "**Regular expressions** (often abbreviated **regex**) conveniently solve this exact problem by allowing us to create general patterns for strings. Using a regular expression, we may re-implement the `is_phone_number` method in two short lines of Julia:"
   ]
  },
  {
   "cell_type": "code",
   "execution_count": 18,
   "metadata": {},
   "outputs": [
    {
     "data": {
      "text/plain": [
       "true"
      ]
     },
     "execution_count": 18,
     "metadata": {},
     "output_type": "execute_result"
    }
   ],
   "source": [
    "function is_phone_number(string)\n",
    "    regex = r\"[0-9]{3}-[0-9]{3}-[0-9]{4}\"\n",
    "    return typeof(match(regex, string)) != Nothing\n",
    "end\n",
    "\n",
    "is_phone_number(\"382-384-3840\")"
   ]
  },
  {
   "cell_type": "markdown",
   "metadata": {},
   "source": [
    "In the code above, we use the regex `[0-9]{3}-[0-9]{3}-[0-9]{4}` to match phone numbers. Although cryptic at a first glance, the syntax of regular expressions is fortunately much simpler to learn than the Julia language itself; we introduce nearly all of the syntax in this section alone. Check out the [docs](https://docs.julialang.org/en/v1/manual/strings/#Regular-Expressions-1) for more information on manipulating Strings with regular expressions."
   ]
  },
  {
   "cell_type": "markdown",
   "metadata": {},
   "source": [
    "## Regex Syntax"
   ]
  },
  {
   "cell_type": "markdown",
   "metadata": {},
   "source": [
    "We start with the syntax of regular expressions. In Julia, regular expressions are most commonly stored as raw strings. Raw strings behave like normal Julia strings without special handling for backslashes.\n",
    "\n",
    "For example, to store the string `hello \\ world` in a normal Julia string, we must write:"
   ]
  },
  {
   "cell_type": "code",
   "execution_count": 20,
   "metadata": {},
   "outputs": [
    {
     "name": "stdout",
     "output_type": "stream",
     "text": [
      "hello \\ world"
     ]
    }
   ],
   "source": [
    "some_string = \"hello \\\\ world\"\n",
    "print(some_string)"
   ]
  },
  {
   "cell_type": "markdown",
   "metadata": {},
   "source": [
    "Using a raw string removes the need to escape the backslash:"
   ]
  },
  {
   "cell_type": "code",
   "execution_count": 26,
   "metadata": {},
   "outputs": [
    {
     "name": "stdout",
     "output_type": "stream",
     "text": [
      "hello \\ world"
     ]
    }
   ],
   "source": [
    "# Note the `r` prefix on the string\n",
    "some_raw_string = raw\"hello \\ world\"\n",
    "print(some_raw_string)"
   ]
  },
  {
   "cell_type": "markdown",
   "metadata": {},
   "source": [
    "Since backslashes appear often in regular expressions, we will use raw strings for all regexes in this section."
   ]
  },
  {
   "cell_type": "markdown",
   "metadata": {
    "colab_type": "text",
    "id": "kw1CnQKo3AIq"
   },
   "source": [
    "### Literals\n",
    "\n",
    "A **literal** character in a regular expression matches the character itself. For example, the regex `r\"a\"` will match any `\"a\"` in `\"Say! I like green eggs and ham!\"`. All alphanumeric characters and most punctuation characters are regex literals."
   ]
  },
  {
   "cell_type": "code",
   "execution_count": 123,
   "metadata": {},
   "outputs": [],
   "source": [
    "# HIDDEN\n",
    "function show_regex_match(text, regex)\n",
    "    red = Base.text_colors[:red]\n",
    "    default = Base.text_colors[:default]\n",
    "    \n",
    "    m = collect(eachmatch(regex, text))\n",
    "    if length(m) == 1\n",
    "        println(\"TRUE\")\n",
    "        match = m[1].match\n",
    "        msg = replace(text, regex => \"$(red)$match$(default)\")\n",
    "        println(msg)\n",
    "    else\n",
    "        msg = text\n",
    "        for x in m\n",
    "            x_match = x.match\n",
    "            msg2 = replace(msg, x_match => \"$(red)$x_match$(default)\")\n",
    "            msg = msg2\n",
    "        end\n",
    "        println(msg)\n",
    "    end\n",
    "end;"
   ]
  },
  {
   "cell_type": "code",
   "execution_count": 124,
   "metadata": {},
   "outputs": [
    {
     "name": "stdout",
     "output_type": "stream",
     "text": [
      "TRUE\n",
      "Say! I like \u001b[31mgreen\u001b[39m eggs and ham!\n"
     ]
    }
   ],
   "source": [
    "# The show_regex_match method highlights all regex matches in the input string\n",
    "regex = r\"green\"\n",
    "show_regex_match(\"Say! I like green eggs and ham!\", regex)"
   ]
  },
  {
   "cell_type": "code",
   "execution_count": 71,
   "metadata": {},
   "outputs": [
    {
     "name": "stdout",
     "output_type": "stream",
     "text": [
      "S\u001b[31m\u001b[31m\u001b[31ma\u001b[39m\u001b[39m\u001b[39my! I like green eggs \u001b[31m\u001b[31m\u001b[31ma\u001b[39m\u001b[39m\u001b[39mnd h\u001b[31m\u001b[31m\u001b[31ma\u001b[39m\u001b[39m\u001b[39mm!\n"
     ]
    }
   ],
   "source": [
    "show_regex_match(\"Say! I like green eggs and ham!\", r\"a\")"
   ]
  },
  {
   "cell_type": "markdown",
   "metadata": {},
   "source": [
    "In the example above we observe that regular expressions can match patterns that appear anywhere in the input string. In Julia, this behavior differs depending on the method used to match the regex—some methods only return a match if the regex appears at the start of the string; some methods return a match anywhere in the string.\n",
    "\n",
    "Notice also that the `show_regex_match` method highlights all occurrences of the regex in the input string. Again, this differs depending on the Julia method used—some methods return all matches while some only return the first match.\n",
    "\n",
    "Regular expressions are case-sensitive. In the example below, the regex only matches the lowercase `s` in `eggs`, not the uppercase `S` in `Say`."
   ]
  },
  {
   "cell_type": "code",
   "execution_count": 72,
   "metadata": {},
   "outputs": [
    {
     "name": "stdout",
     "output_type": "stream",
     "text": [
      "Say! I like green egg\u001b[31ms\u001b[39m and ham!\n"
     ]
    }
   ],
   "source": [
    "show_regex_match(\"Say! I like green eggs and ham!\", r\"s\")"
   ]
  },
  {
   "cell_type": "markdown",
   "metadata": {},
   "source": [
    "### Wildcard Character\n",
    "\n",
    "Some characters have special meaning in a regular expression. These meta characters allow regexes to match a variety of patterns.\n",
    "\n",
    "In a regular expression, the period character `.` matches any character except a newline."
   ]
  },
  {
   "cell_type": "code",
   "execution_count": 73,
   "metadata": {},
   "outputs": [
    {
     "name": "stdout",
     "output_type": "stream",
     "text": [
      "\u001b[31mCall\u001b[39m me at 382-384-3840.\n"
     ]
    }
   ],
   "source": [
    "show_regex_match(\"Call me at 382-384-3840.\", r\".all\")"
   ]
  },
  {
   "cell_type": "markdown",
   "metadata": {},
   "source": [
    "To match only the literal period character we must escape it with a backslash:"
   ]
  },
  {
   "cell_type": "code",
   "execution_count": 74,
   "metadata": {},
   "outputs": [
    {
     "name": "stdout",
     "output_type": "stream",
     "text": [
      "Call me at 382-384-3840\u001b[31m.\u001b[39m\n"
     ]
    }
   ],
   "source": [
    "show_regex_match(\"Call me at 382-384-3840.\", r\"\\.\")"
   ]
  },
  {
   "cell_type": "markdown",
   "metadata": {},
   "source": [
    "By using the period character to mark the parts of a pattern that vary, we construct a regex to match phone numbers. For example, we may take our original phone number `382-384-3840` and replace the numbers with `.`, leaving the dashes as literals. This results in the regex `...-...-....`."
   ]
  },
  {
   "cell_type": "code",
   "execution_count": 76,
   "metadata": {},
   "outputs": [
    {
     "name": "stdout",
     "output_type": "stream",
     "text": [
      "Call me at \u001b[31m382-384-3840\u001b[39m.\n"
     ]
    }
   ],
   "source": [
    "show_regex_match(\"Call me at 382-384-3840.\", r\"...-...-....\")"
   ]
  },
  {
   "cell_type": "markdown",
   "metadata": {},
   "source": [
    "Since the period character matches all characters, however, the following input string will produce a spurious match."
   ]
  },
  {
   "cell_type": "code",
   "execution_count": 77,
   "metadata": {},
   "outputs": [
    {
     "name": "stdout",
     "output_type": "stream",
     "text": [
      "My truck is \u001b[31mnot-all-blue\u001b[39m.\n"
     ]
    }
   ],
   "source": [
    "show_regex_match(\"My truck is not-all-blue.\", r\"...-...-....\")"
   ]
  },
  {
   "cell_type": "markdown",
   "metadata": {
    "colab_type": "text",
    "id": "JWMIE3Dz3AI4"
   },
   "source": [
    "### Character Classes\n",
    "\n",
    "A **character class** matches a specified set of characters, allowing us to create more restrictive matches than the `.` character alone. To create a character class, wrap the set of desired characters in brackets `[ ]`."
   ]
  },
  {
   "cell_type": "code",
   "execution_count": 79,
   "metadata": {
    "scrolled": true
   },
   "outputs": [
    {
     "name": "stdout",
     "output_type": "stream",
     "text": [
      "I like your \u001b[31mgray\u001b[39m shirt.\n"
     ]
    }
   ],
   "source": [
    "show_regex_match(\"I like your gray shirt.\", r\"gr[ae]y\")"
   ]
  },
  {
   "cell_type": "code",
   "execution_count": 81,
   "metadata": {},
   "outputs": [
    {
     "name": "stdout",
     "output_type": "stream",
     "text": [
      "I like your \u001b[31mgrey\u001b[39m shirt.\n"
     ]
    }
   ],
   "source": [
    "show_regex_match(\"I like your grey shirt.\", r\"gr[ae]y\")"
   ]
  },
  {
   "cell_type": "code",
   "execution_count": 82,
   "metadata": {},
   "outputs": [
    {
     "name": "stdout",
     "output_type": "stream",
     "text": [
      "I like your graey shirt.\n"
     ]
    }
   ],
   "source": [
    "# Does not match; a character class only matches one character from a set\n",
    "show_regex_match(\"I like your graey shirt.\", r\"gr[ae]y\")"
   ]
  },
  {
   "cell_type": "code",
   "execution_count": 85,
   "metadata": {},
   "outputs": [
    {
     "name": "stdout",
     "output_type": "stream",
     "text": [
      "I like your \u001b[31mgraey\u001b[39m shirt.\n"
     ]
    }
   ],
   "source": [
    "# In this example, repeating the character class will match\n",
    "show_regex_match(\"I like your graey shirt.\", r\"gr[ae][ae]y\")"
   ]
  },
  {
   "cell_type": "markdown",
   "metadata": {},
   "source": [
    "In a character class, the `.` character is treated as a literal, not as a wildcard."
   ]
  },
  {
   "cell_type": "code",
   "execution_count": 87,
   "metadata": {},
   "outputs": [
    {
     "name": "stdout",
     "output_type": "stream",
     "text": [
      "I like your grey sh\u001b[31mirt.\u001b[39m\n"
     ]
    }
   ],
   "source": [
    "show_regex_match(\"I like your grey shirt.\", r\"irt[.]\")"
   ]
  },
  {
   "cell_type": "markdown",
   "metadata": {},
   "source": [
    "There are a few special shorthand notations we can use for commonly used character classes:\n",
    "\n",
    "Shorthand | Meaning\n",
    "--- | ---\n",
    "[0-9] | All the digits\n",
    "[a-z] | Lowercase letters\n",
    "[A-Z] | Uppercase letters"
   ]
  },
  {
   "cell_type": "code",
   "execution_count": 88,
   "metadata": {},
   "outputs": [
    {
     "name": "stdout",
     "output_type": "stream",
     "text": [
      "I like your gray shirt.\n"
     ]
    }
   ],
   "source": [
    "show_regex_match(\"I like your gray shirt.\", r\"y[a-z]y\")"
   ]
  },
  {
   "cell_type": "markdown",
   "metadata": {},
   "source": [
    "Character classes allow us to create a more specific regex for phone numbers."
   ]
  },
  {
   "cell_type": "code",
   "execution_count": 89,
   "metadata": {},
   "outputs": [
    {
     "name": "stdout",
     "output_type": "stream",
     "text": [
      "Call me at \u001b[31m382-384-3840\u001b[39m.\n"
     ]
    }
   ],
   "source": [
    "# We replaced every `.` character in ...-...-.... with [0-9] to restrict\n",
    "# matches to digits.\n",
    "phone_regex = r\"[0-9][0-9][0-9]-[0-9][0-9][0-9]-[0-9][0-9][0-9][0-9]\"\n",
    "show_regex_match(\"Call me at 382-384-3840.\", phone_regex)"
   ]
  },
  {
   "cell_type": "code",
   "execution_count": 90,
   "metadata": {},
   "outputs": [
    {
     "name": "stdout",
     "output_type": "stream",
     "text": [
      "My truck is not-all-blue.\n"
     ]
    }
   ],
   "source": [
    "# Now we no longer match this string:\n",
    "show_regex_match(\"My truck is not-all-blue.\", phone_regex)"
   ]
  },
  {
   "cell_type": "markdown",
   "metadata": {
    "colab_type": "text",
    "id": "CUDgfZsR3AJK"
   },
   "source": [
    "### Negated Character Classes\n",
    "\n",
    "A **negated character class** matches any character **except** the characters in the class. To create a negated character class, wrap the negated characters in `[^ ]`."
   ]
  },
  {
   "cell_type": "code",
   "execution_count": 65,
   "metadata": {},
   "outputs": [
    {
     "name": "stdout",
     "output_type": "stream",
     "text": [
      "The car \u001b[31mpar\u001b[39mked in the \u001b[31mgar\u001b[39mage.\n"
     ]
    }
   ],
   "source": [
    "show_regex_match(\"The car parked in the garage.\", r\"[^c]ar\")"
   ]
  },
  {
   "cell_type": "markdown",
   "metadata": {
    "colab_type": "text",
    "id": "cE-nOxzl3AJP"
   },
   "source": [
    "### Quantifiers\n",
    "\n",
    "To create a regex to match phone numbers, we wrote:\n",
    "\n",
    "```\n",
    "[0-9][0-9][0-9]-[0-9][0-9][0-9]-[0-9][0-9][0-9][0-9]\n",
    "```\n",
    "\n",
    "This matches 3 digits, a dash, 3 more digits, a dash, and 4 more digits.\n",
    "\n",
    "Quantifiers allow us to match multiple consecutive appearances of a pattern. We specify the number of repetitions by placing the number in curly braces `{ }`."
   ]
  },
  {
   "cell_type": "code",
   "execution_count": 91,
   "metadata": {},
   "outputs": [
    {
     "name": "stdout",
     "output_type": "stream",
     "text": [
      "Call me at \u001b[31m382-384-3840\u001b[39m.\n"
     ]
    }
   ],
   "source": [
    "phone_regex = r\"[0-9]{3}-[0-9]{3}-[0-9]{4}\"\n",
    "show_regex_match(\"Call me at 382-384-3840.\", phone_regex)"
   ]
  },
  {
   "cell_type": "code",
   "execution_count": 93,
   "metadata": {},
   "outputs": [
    {
     "name": "stdout",
     "output_type": "stream",
     "text": [
      "Call me at 12-384-3840.\n"
     ]
    }
   ],
   "source": [
    "# No match\n",
    "phone_regex = r\"[0-9]{3}-[0-9]{3}-[0-9]{4}\"\n",
    "show_regex_match(\"Call me at 12-384-3840.\", phone_regex)"
   ]
  },
  {
   "cell_type": "markdown",
   "metadata": {},
   "source": [
    "A quantifier always modifies the character or character class to its immediate left. The following table shows the complete syntax for quantifiers."
   ]
  },
  {
   "cell_type": "markdown",
   "metadata": {
    "colab_type": "text",
    "id": "4HXw_UbI3AJY"
   },
   "source": [
    "Quantifier | Meaning\n",
    "--- | ---\n",
    "{m, n} | Match the preceding character m to n times.\n",
    "{m} | Match the preceding character exactly m times.\n",
    "{m,} | Match the preceding character at least m times.\n",
    "{,n} | Match the preceding character at most n times."
   ]
  },
  {
   "cell_type": "markdown",
   "metadata": {},
   "source": [
    "**Shorthand Quantifiers**\n",
    "\n",
    "Some commonly used quantifiers have a shorthand:\n",
    "\n",
    "Symbol | Quantifier | Meaning\n",
    "--- | --- | ---\n",
    "* | {0,} | Match the preceding character 0 or more times\n",
    "+ | {1,} | Match the preceding character 1 or more times\n",
    "? | {0,1} | Match the preceding charcter 0 or 1 times"
   ]
  },
  {
   "cell_type": "markdown",
   "metadata": {},
   "source": [
    "We use the `*` character instead of `{0,}` in the following examples."
   ]
  },
  {
   "cell_type": "code",
   "execution_count": 95,
   "metadata": {},
   "outputs": [
    {
     "name": "stdout",
     "output_type": "stream",
     "text": [
      "He screamed '\u001b[31mAaaah!\u001b[39m' as the cart took a plunge.\n"
     ]
    }
   ],
   "source": [
    "# 3 a's\n",
    "show_regex_match(\"He screamed 'Aaaah!' as the cart took a plunge.\", r\"Aa*h!\")"
   ]
  },
  {
   "cell_type": "code",
   "execution_count": 96,
   "metadata": {},
   "outputs": [
    {
     "name": "stdout",
     "output_type": "stream",
     "text": [
      "He screamed '\u001b[31mAaaaaaaaaaaaaaaaaaaah!\u001b[39m' as the cart took a plunge.\n"
     ]
    }
   ],
   "source": [
    "# Lots of a's\n",
    "show_regex_match(\n",
    "    \"He screamed 'Aaaaaaaaaaaaaaaaaaaah!' as the cart took a plunge.\",\n",
    "    r\"Aa*h!\"\n",
    ")"
   ]
  },
  {
   "cell_type": "code",
   "execution_count": 97,
   "metadata": {},
   "outputs": [
    {
     "name": "stdout",
     "output_type": "stream",
     "text": [
      "He screamed '\u001b[31mAh!\u001b[39m' as the cart took a plunge.\n"
     ]
    }
   ],
   "source": [
    "# No lowercase a's\n",
    "show_regex_match(\"He screamed 'Ah!' as the cart took a plunge.\", r\"Aa*h!\")"
   ]
  },
  {
   "cell_type": "markdown",
   "metadata": {
    "colab_type": "text",
    "id": "16ZfQsaqInak"
   },
   "source": [
    "**Quantifiers are greedy**\n",
    "\n",
    "Quantifiers will always return the longest match possible. This sometimes results in surprising behavior:"
   ]
  },
  {
   "cell_type": "code",
   "execution_count": 98,
   "metadata": {},
   "outputs": [
    {
     "name": "stdout",
     "output_type": "stream",
     "text": [
      "Remember the numbers \u001b[31m<311> and <911>\u001b[39m\n"
     ]
    }
   ],
   "source": [
    "# We tried to match 311 and 911 but matched the ` and ` as well because\n",
    "# `<311> and <911>` is the longest match possible for `<.+>`.\n",
    "show_regex_match(\"Remember the numbers <311> and <911>\", r\"<.+>\")"
   ]
  },
  {
   "cell_type": "markdown",
   "metadata": {},
   "source": [
    "In many cases, using a more specific character class prevents these false matches:"
   ]
  },
  {
   "cell_type": "code",
   "execution_count": 99,
   "metadata": {},
   "outputs": [
    {
     "name": "stdout",
     "output_type": "stream",
     "text": [
      "Remember the numbers \u001b[31m<311>\u001b[39m and \u001b[31m<911>\u001b[39m\n"
     ]
    }
   ],
   "source": [
    "show_regex_match(\"Remember the numbers <311> and <911>\", r\"<[0-9]+>\")"
   ]
  },
  {
   "cell_type": "markdown",
   "metadata": {
    "colab_type": "text",
    "id": "9EkC1hqn3AJv"
   },
   "source": [
    "### Anchoring"
   ]
  },
  {
   "cell_type": "markdown",
   "metadata": {},
   "source": [
    "Sometimes a pattern should only match at the beginning or end of a string.  The special character `^` anchors the regex to match only if the pattern appears at the beginning of the string; the special character `$` anchors the regex to match only if the pattern occurs at the end of the string.  For example the regex `well$` only matches an appearance of `well` at the end of the string."
   ]
  },
  {
   "cell_type": "code",
   "execution_count": 125,
   "metadata": {},
   "outputs": [
    {
     "name": "stdout",
     "output_type": "stream",
     "text": [
      "TRUE\n",
      "well, well, \u001b[31mwell\u001b[39m\n"
     ]
    }
   ],
   "source": [
    "show_regex_match(\"well, well, well\", r\"well$\")"
   ]
  },
  {
   "cell_type": "markdown",
   "metadata": {},
   "source": [
    "Using both `^` and `$` requires the regex to match the full string."
   ]
  },
  {
   "cell_type": "code",
   "execution_count": 103,
   "metadata": {},
   "outputs": [
    {
     "name": "stdout",
     "output_type": "stream",
     "text": [
      "\u001b[31m382-384-3840\u001b[39m\n"
     ]
    }
   ],
   "source": [
    "phone_regex = r\"^[0-9]{3}-[0-9]{3}-[0-9]{4}$\"\n",
    "show_regex_match(\"382-384-3840\", phone_regex)"
   ]
  },
  {
   "cell_type": "code",
   "execution_count": 105,
   "metadata": {},
   "outputs": [
    {
     "name": "stdout",
     "output_type": "stream",
     "text": [
      "You can call me at 382-384-3840.\n"
     ]
    }
   ],
   "source": [
    "# No match\n",
    "show_regex_match(\"You can call me at 382-384-3840.\", phone_regex)"
   ]
  },
  {
   "cell_type": "markdown",
   "metadata": {
    "colab_type": "text",
    "id": "zyqzwqJy3AKN"
   },
   "source": [
    "### Escaping Meta Characters"
   ]
  },
  {
   "cell_type": "markdown",
   "metadata": {
    "colab_type": "text",
    "id": "o_iXMRwU3AKN"
   },
   "source": [
    "All regex meta characters have special meaning in a regular expression. To match meta characters as literals, we escape them using the `\\` character."
   ]
  },
  {
   "cell_type": "code",
   "execution_count": 106,
   "metadata": {},
   "outputs": [
    {
     "name": "stdout",
     "output_type": "stream",
     "text": [
      "Call me at \u001b[31m[\u001b[39m382-384-3840].\n"
     ]
    }
   ],
   "source": [
    "# `[` is a meta character and requires escaping\n",
    "show_regex_match(\"Call me at [382-384-3840].\", r\"\\[\")"
   ]
  },
  {
   "cell_type": "code",
   "execution_count": 108,
   "metadata": {},
   "outputs": [
    {
     "name": "stdout",
     "output_type": "stream",
     "text": [
      "Call me at [382-384-3840]\u001b[31m.\u001b[39m\n"
     ]
    }
   ],
   "source": [
    "# `.` is a meta character and requires escaping\n",
    "show_regex_match(\"Call me at [382-384-3840].\", r\"\\.\")"
   ]
  },
  {
   "cell_type": "markdown",
   "metadata": {},
   "source": [
    "## Reference Tables\n",
    "\n",
    "We have now covered the most important pieces of regex syntax and meta characters. For a more complete reference, we include the tables below.\n",
    "\n",
    "**Meta Characters**\n",
    "\n",
    "This table includes most of the important *meta characters*, which help us specify certain patterns we want to match in a string.\n",
    "\n",
    "| Char   | Description                         | Example                    | Matches        | Doesn't Match |\n",
    "| ------ | ----------------------------------- | -------------------------- | -------------- | ------------- |\n",
    "| .      | Any character except \\n             | `...`                      | abc            | ab<br>abcd    |\n",
    "| [ ]    | Any character inside brackets       | `[cb.]ar`                  | car<br>.ar     | jar           |\n",
    "| [^ ]   | Any character _not_ inside brackets | `[^b]ar`                   | car<br>par     | bar<br>ar     |\n",
    "| \\*     | ≥ 0 or more of last symbol          | `[pb]*ark`                 | bbark<br>ark   | dark          |\n",
    "| +      | ≥ 1 or more of last symbol          | `[pb]+ark`                 | bbpark<br>bark | dark<br>ark   |\n",
    "| ?      | 0 or 1 of last symbol               | `s?he`                     | she<br>he      | the           |\n",
    "| {_n_}  | Exactly _n_ of last symbol          | `hello{3}`                 | hellooo        | hello         |\n",
    "| &#124; | Pattern before or after bar         | <code>we&#124;[ui]s</code> | we<br>us<br>is | e<br>s        |\n",
    "| \\      | Escapes next character              | `\\[hi\\]`                   | [hi]           | hi            |\n",
    "| ^      | Beginning of line                   | `^ark`                     | ark two        | dark          |\n",
    "| \\$     | End of line                         | `ark$`                     | noahs ark      | noahs arks    |"
   ]
  },
  {
   "cell_type": "markdown",
   "metadata": {},
   "source": [
    "**Shorthand Character Sets**\n",
    "\n",
    "Some commonly used character sets have shorthands.\n",
    "\n",
    "| Description                   | Bracket Form       | Shorthand |\n",
    "| ----------------------------- | ------------------ | --------- |\n",
    "| Alphanumeric character        | `[a-zA-Z0-9]`      | `\\w`      |\n",
    "| Not an alphanumeric character | `[^a-zA-Z0-9]`     | `\\W`      |\n",
    "| Digit                         | `[0-9]`            | `\\d`      |\n",
    "| Not a digit                   | `[^0-9]`           | `\\D`      |\n",
    "| Whitespace                    | `[\\t\\n\\f\\r\\p{Z}]`  | `\\s`      |\n",
    "| Not whitespace                | `[^\\t\\n\\f\\r\\p{z}]` | `\\S`      |"
   ]
  },
  {
   "cell_type": "markdown",
   "metadata": {},
   "source": [
    "## Summary\n",
    "\n",
    "Almost all programming languages have a library to match patterns using regular expressions, making them useful regardless of the specific language. In this section, we introduce regex syntax and the most useful meta characters."
   ]
  }
 ],
 "metadata": {
  "kernelspec": {
   "display_name": "Julia 1.2.0",
   "language": "julia",
   "name": "julia-1.2"
  },
  "language_info": {
   "file_extension": ".jl",
   "mimetype": "application/julia",
   "name": "julia",
   "version": "1.2.0"
  }
 },
 "nbformat": 4,
 "nbformat_minor": 2
}
