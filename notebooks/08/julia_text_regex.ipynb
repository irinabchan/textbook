{
 "cells": [
  {
   "cell_type": "markdown",
   "metadata": {},
   "source": [
    "## Regular Expressions\n",
    "\n",
    "In this section we introduce regular expressions, an important tool to specify patterns in strings."
   ]
  },
  {
   "cell_type": "markdown",
   "metadata": {},
   "source": [
    "## Motivation\n",
    "\n",
    "In a larger piece of text, many useful substrings come in a specific format. For instance, the sentence below contains a U.S. phone number.\n",
    "\n",
    "`\"give me a call, my number is 123-456-7890.\"`\n",
    "\n",
    "The phone number contains the following pattern:\n",
    "\n",
    "1. Three numbers\n",
    "1. Followed by a dash\n",
    "1. Followed by three numbers\n",
    "1. Followed by a dash\n",
    "1. Followed by four Numbers\n",
    "\n",
    "Given a free-form segment of text, we might naturally wish to detect and extract the phone numbers. We may also wish to extract specific pieces of the phone numbers—for example, by extracting the area code we may deduce the locations of individuals mentioned in the text.\n",
    "\n",
    "To detect whether a string contains a phone number, we may attempt to write a method like the following:"
   ]
  },
  {
   "cell_type": "code",
   "execution_count": 12,
   "metadata": {},
   "outputs": [
    {
     "data": {
      "text/plain": [
       "is_phone_number (generic function with 1 method)"
      ]
     },
     "execution_count": 12,
     "metadata": {},
     "output_type": "execute_result"
    }
   ],
   "source": [
    "function is_phone_number(string)\n",
    "    \n",
    "    digits = \"0123456789\"\n",
    "    \n",
    "    function is_not_digit(token)\n",
    "        return (!(token in digits))\n",
    "    end\n",
    "    \n",
    "    # Three numbers\n",
    "    for i in 1:3\n",
    "        if is_not_digit(string[i])\n",
    "            return false\n",
    "        end\n",
    "    end\n",
    "    \n",
    "    # Followed by a dash\n",
    "    if string[4] != '-'\n",
    "        return false\n",
    "    end\n",
    "    \n",
    "    # Followed by three numbers\n",
    "    for i in 5:7\n",
    "        if is_not_digit(string[i])\n",
    "            return false\n",
    "        end\n",
    "    end\n",
    "        \n",
    "    # Followed by a dash    \n",
    "    if string[8] != '-'\n",
    "        return false\n",
    "    end\n",
    "    \n",
    "    # Followed by four numbers\n",
    "    for i in 9:11\n",
    "        if is_not_digit(string[i])\n",
    "            return false\n",
    "        end\n",
    "    end\n",
    "    \n",
    "    return true\n",
    "end"
   ]
  },
  {
   "cell_type": "code",
   "execution_count": 13,
   "metadata": {},
   "outputs": [
    {
     "data": {
      "text/plain": [
       "true"
      ]
     },
     "execution_count": 13,
     "metadata": {},
     "output_type": "execute_result"
    }
   ],
   "source": [
    "is_phone_number(\"382-384-3840\")"
   ]
  },
  {
   "cell_type": "code",
   "execution_count": 14,
   "metadata": {},
   "outputs": [
    {
     "data": {
      "text/plain": [
       "false"
      ]
     },
     "execution_count": 14,
     "metadata": {},
     "output_type": "execute_result"
    }
   ],
   "source": [
    "is_phone_number(\"phone number\")"
   ]
  },
  {
   "cell_type": "markdown",
   "metadata": {},
   "source": [
    "The code above is unpleasant and verbose. Rather than manually loop through the characters of the string, we would prefer to specify a pattern and command Julia to match the pattern.\n",
    "\n",
    "**Regular expressions** (often abbreviated **regex**) conveniently solve this exact problem by allowing us to create general patterns for strings. Using a regular expression, we may re-implement the `is_phone_number` method in two short lines of Julia:"
   ]
  },
  {
   "cell_type": "code",
   "execution_count": 18,
   "metadata": {},
   "outputs": [
    {
     "data": {
      "text/plain": [
       "true"
      ]
     },
     "execution_count": 18,
     "metadata": {},
     "output_type": "execute_result"
    }
   ],
   "source": [
    "function is_phone_number(string)\n",
    "    regex = r\"[0-9]{3}-[0-9]{3}-[0-9]{4}\"\n",
    "    return typeof(match(regex, string)) != Nothing\n",
    "end\n",
    "\n",
    "is_phone_number(\"382-384-3840\")"
   ]
  },
  {
   "cell_type": "markdown",
   "metadata": {},
   "source": [
    "In the code above, we use the regex `[0-9]{3}-[0-9]{3}-[0-9]{4}` to match phone numbers. Although cryptic at a first glance, the syntax of regular expressions is fortunately much simpler to learn than the Julia language itself; we introduce nearly all of the syntax in this section alone. Check out the [docs](https://docs.julialang.org/en/v1/manual/strings/#Regular-Expressions-1) for more information on manipulating Strings with regular expressions."
   ]
  },
  {
   "cell_type": "markdown",
   "metadata": {},
   "source": [
    "## Regex Syntax"
   ]
  },
  {
   "cell_type": "markdown",
   "metadata": {},
   "source": [
    "We start with the syntax of regular expressions. In Python, regular expressions are most commonly stored as raw strings. Raw strings behave like normal Python strings without special handling for backslashes.\n",
    "\n",
    "For example, to store the string `hello \\ world` in a normal Python string, we must write:"
   ]
  },
  {
   "cell_type": "code",
   "execution_count": null,
   "metadata": {},
   "outputs": [],
   "source": []
  }
 ],
 "metadata": {
  "kernelspec": {
   "display_name": "Julia 1.2.0",
   "language": "julia",
   "name": "julia-1.2"
  },
  "language_info": {
   "file_extension": ".jl",
   "mimetype": "application/julia",
   "name": "julia",
   "version": "1.2.0"
  }
 },
 "nbformat": 4,
 "nbformat_minor": 2
}
