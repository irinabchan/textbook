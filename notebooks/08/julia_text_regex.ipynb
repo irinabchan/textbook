{
 "cells": [
  {
   "cell_type": "markdown",
   "metadata": {},
   "source": [
    "## Regular Expressions\n",
    "\n",
    "In this section we introduce regular expressions, an important tool to specify patterns in strings."
   ]
  },
  {
   "cell_type": "markdown",
   "metadata": {},
   "source": [
    "## Motivation\n",
    "\n",
    "In a larger piece of text, many useful substrings come in a specific format. For instance, the sentence below contains a U.S. phone number.\n",
    "\n",
    "`\"give me a call, my number is 123-456-7890.\"`\n",
    "\n",
    "The phone number contains the following pattern:\n",
    "\n",
    "1. Three numbers\n",
    "1. Followed by a dash\n",
    "1. Followed by three numbers\n",
    "1. Followed by a dash\n",
    "1. Followed by four Numbers\n",
    "\n",
    "Given a free-form segment of text, we might naturally wish to detect and extract the phone numbers. We may also wish to extract specific pieces of the phone numbers—for example, by extracting the area code we may deduce the locations of individuals mentioned in the text.\n",
    "\n",
    "To detect whether a string contains a phone number, we may attempt to write a method like the following:"
   ]
  },
  {
   "cell_type": "code",
   "execution_count": 12,
   "metadata": {},
   "outputs": [
    {
     "data": {
      "text/plain": [
       "is_phone_number (generic function with 1 method)"
      ]
     },
     "execution_count": 12,
     "metadata": {},
     "output_type": "execute_result"
    }
   ],
   "source": [
    "function is_phone_number(string)\n",
    "    \n",
    "    digits = \"0123456789\"\n",
    "    \n",
    "    function is_not_digit(token)\n",
    "        return (!(token in digits))\n",
    "    end\n",
    "    \n",
    "    # Three numbers\n",
    "    for i in 1:3\n",
    "        if is_not_digit(string[i])\n",
    "            return false\n",
    "        end\n",
    "    end\n",
    "    \n",
    "    # Followed by a dash\n",
    "    if string[4] != '-'\n",
    "        return false\n",
    "    end\n",
    "    \n",
    "    # Followed by three numbers\n",
    "    for i in 5:7\n",
    "        if is_not_digit(string[i])\n",
    "            return false\n",
    "        end\n",
    "    end\n",
    "        \n",
    "    # Followed by a dash    \n",
    "    if string[8] != '-'\n",
    "        return false\n",
    "    end\n",
    "    \n",
    "    # Followed by four numbers\n",
    "    for i in 9:11\n",
    "        if is_not_digit(string[i])\n",
    "            return false\n",
    "        end\n",
    "    end\n",
    "    \n",
    "    return true\n",
    "end"
   ]
  },
  {
   "cell_type": "code",
   "execution_count": 13,
   "metadata": {},
   "outputs": [
    {
     "data": {
      "text/plain": [
       "true"
      ]
     },
     "execution_count": 13,
     "metadata": {},
     "output_type": "execute_result"
    }
   ],
   "source": [
    "is_phone_number(\"382-384-3840\")"
   ]
  },
  {
   "cell_type": "code",
   "execution_count": 14,
   "metadata": {},
   "outputs": [
    {
     "data": {
      "text/plain": [
       "false"
      ]
     },
     "execution_count": 14,
     "metadata": {},
     "output_type": "execute_result"
    }
   ],
   "source": [
    "is_phone_number(\"phone number\")"
   ]
  },
  {
   "cell_type": "markdown",
   "metadata": {},
   "source": [
    "The code above is unpleasant and verbose. Rather than manually loop through the characters of the string, we would prefer to specify a pattern and command Julia to match the pattern.\n",
    "\n",
    "**Regular expressions** (often abbreviated **regex**) conveniently solve this exact problem by allowing us to create general patterns for strings. Using a regular expression, we may re-implement the `is_phone_number` method in two short lines of Julia:"
   ]
  },
  {
   "cell_type": "code",
   "execution_count": 18,
   "metadata": {},
   "outputs": [
    {
     "data": {
      "text/plain": [
       "true"
      ]
     },
     "execution_count": 18,
     "metadata": {},
     "output_type": "execute_result"
    }
   ],
   "source": [
    "function is_phone_number(string)\n",
    "    regex = r\"[0-9]{3}-[0-9]{3}-[0-9]{4}\"\n",
    "    return typeof(match(regex, string)) != Nothing\n",
    "end\n",
    "\n",
    "is_phone_number(\"382-384-3840\")"
   ]
  },
  {
   "cell_type": "markdown",
   "metadata": {},
   "source": [
    "In the code above, we use the regex `[0-9]{3}-[0-9]{3}-[0-9]{4}` to match phone numbers. Although cryptic at a first glance, the syntax of regular expressions is fortunately much simpler to learn than the Julia language itself; we introduce nearly all of the syntax in this section alone. Check out the [docs](https://docs.julialang.org/en/v1/manual/strings/#Regular-Expressions-1) for more information on manipulating Strings with regular expressions."
   ]
  },
  {
   "cell_type": "markdown",
   "metadata": {},
   "source": [
    "## Regex Syntax"
   ]
  },
  {
   "cell_type": "markdown",
   "metadata": {},
   "source": [
    "We start with the syntax of regular expressions. In Julia, regular expressions are most commonly stored as raw strings. Raw strings behave like normal Julia strings without special handling for backslashes.\n",
    "\n",
    "For example, to store the string `hello \\ world` in a normal Julia string, we must write:"
   ]
  },
  {
   "cell_type": "code",
   "execution_count": 20,
   "metadata": {},
   "outputs": [
    {
     "name": "stdout",
     "output_type": "stream",
     "text": [
      "hello \\ world"
     ]
    }
   ],
   "source": [
    "some_string = \"hello \\\\ world\"\n",
    "print(some_string)"
   ]
  },
  {
   "cell_type": "markdown",
   "metadata": {},
   "source": [
    "Using a raw string removes the need to escape the backslash:"
   ]
  },
  {
   "cell_type": "code",
   "execution_count": 26,
   "metadata": {},
   "outputs": [
    {
     "name": "stdout",
     "output_type": "stream",
     "text": [
      "hello \\ world"
     ]
    }
   ],
   "source": [
    "# Note the `r` prefix on the string\n",
    "some_raw_string = raw\"hello \\ world\"\n",
    "print(some_raw_string)"
   ]
  },
  {
   "cell_type": "markdown",
   "metadata": {},
   "source": [
    "Since backslashes appear often in regular expressions, we will use raw strings for all regexes in this section."
   ]
  },
  {
   "cell_type": "markdown",
   "metadata": {
    "colab_type": "text",
    "id": "kw1CnQKo3AIq"
   },
   "source": [
    "### Literals\n",
    "\n",
    "A **literal** character in a regular expression matches the character itself. For example, the regex `r\"a\"` will match any `\"a\"` in `\"Say! I like green eggs and ham!\"`. All alphanumeric characters and most punctuation characters are regex literals."
   ]
  },
  {
   "cell_type": "code",
   "execution_count": 66,
   "metadata": {},
   "outputs": [],
   "source": [
    "# HIDDEN\n",
    "function show_regex_match(text, regex)\n",
    "    red = Base.text_colors[:red]\n",
    "    default = Base.text_colors[:default]\n",
    "    \n",
    "    m = collect(eachmatch(regex, text))\n",
    "    msg = text\n",
    "    for x in m\n",
    "        x_match = x.match\n",
    "        msg2 = replace(msg, x_match => \"$(red)$x_match$(default)\")\n",
    "        msg = msg2\n",
    "    end\n",
    "\n",
    "    println(msg)\n",
    "end;"
   ]
  },
  {
   "cell_type": "code",
   "execution_count": 70,
   "metadata": {},
   "outputs": [
    {
     "name": "stdout",
     "output_type": "stream",
     "text": [
      "Say! I like \u001b[31mgreen\u001b[39m eggs and ham!\n"
     ]
    }
   ],
   "source": [
    "# The show_regex_match method highlights all regex matches in the input string\n",
    "regex = r\"green\"\n",
    "show_regex_match(\"Say! I like green eggs and ham!\", regex)"
   ]
  },
  {
   "cell_type": "code",
   "execution_count": 71,
   "metadata": {},
   "outputs": [
    {
     "name": "stdout",
     "output_type": "stream",
     "text": [
      "S\u001b[31m\u001b[31m\u001b[31ma\u001b[39m\u001b[39m\u001b[39my! I like green eggs \u001b[31m\u001b[31m\u001b[31ma\u001b[39m\u001b[39m\u001b[39mnd h\u001b[31m\u001b[31m\u001b[31ma\u001b[39m\u001b[39m\u001b[39mm!\n"
     ]
    }
   ],
   "source": [
    "show_regex_match(\"Say! I like green eggs and ham!\", r\"a\")"
   ]
  },
  {
   "cell_type": "markdown",
   "metadata": {},
   "source": [
    "In the example above we observe that regular expressions can match patterns that appear anywhere in the input string. In Julia, this behavior differs depending on the method used to match the regex—some methods only return a match if the regex appears at the start of the string; some methods return a match anywhere in the string.\n",
    "\n",
    "Notice also that the `show_regex_match` method highlights all occurrences of the regex in the input string. Again, this differs depending on the Julia method used—some methods return all matches while some only return the first match.\n",
    "\n",
    "Regular expressions are case-sensitive. In the example below, the regex only matches the lowercase `s` in `eggs`, not the uppercase `S` in `Say`."
   ]
  },
  {
   "cell_type": "code",
   "execution_count": 72,
   "metadata": {},
   "outputs": [
    {
     "name": "stdout",
     "output_type": "stream",
     "text": [
      "Say! I like green egg\u001b[31ms\u001b[39m and ham!\n"
     ]
    }
   ],
   "source": [
    "show_regex_match(\"Say! I like green eggs and ham!\", r\"s\")"
   ]
  },
  {
   "cell_type": "markdown",
   "metadata": {},
   "source": [
    "### Wildcard Character\n",
    "\n",
    "Some characters have special meaning in a regular expression. These meta characters allow regexes to match a variety of patterns.\n",
    "\n",
    "In a regular expression, the period character `.` matches any character except a newline."
   ]
  },
  {
   "cell_type": "code",
   "execution_count": null,
   "metadata": {},
   "outputs": [],
   "source": []
  },
  {
   "cell_type": "code",
   "execution_count": 65,
   "metadata": {},
   "outputs": [
    {
     "name": "stdout",
     "output_type": "stream",
     "text": [
      "The car \u001b[31mpar\u001b[39mked in the \u001b[31mgar\u001b[39mage.\n"
     ]
    }
   ],
   "source": [
    "show_regex_match(\"The car parked in the garage.\", r\"[^c]ar\")"
   ]
  },
  {
   "cell_type": "code",
   "execution_count": null,
   "metadata": {},
   "outputs": [],
   "source": []
  }
 ],
 "metadata": {
  "kernelspec": {
   "display_name": "Julia 1.2.0",
   "language": "julia",
   "name": "julia-1.2"
  },
  "language_info": {
   "file_extension": ".jl",
   "mimetype": "application/julia",
   "name": "julia",
   "version": "1.2.0"
  }
 },
 "nbformat": 4,
 "nbformat_minor": 2
}
