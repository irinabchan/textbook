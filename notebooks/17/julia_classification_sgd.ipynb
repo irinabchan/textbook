{
 "cells": [
  {
   "cell_type": "code",
   "execution_count": 1,
   "metadata": {},
   "outputs": [],
   "source": [
    "# HIDDEN\n",
    "using CSV\n",
    "using DataFrames\n",
    "using MLJ\n",
    "using Statistics\n",
    "using StatsPlots\n",
    "using Suppressor\n",
    "Base.displaysize() = (5, 90)"
   ]
  },
  {
   "cell_type": "markdown",
   "metadata": {},
   "source": [
    "## Fitting a Logistic Model\n",
    "\n",
    "Previously, we covered batch gradient descent, an algorithm that iteratively updates $\\boldsymbol{\\theta}$ to find the loss-minimizing parameters $\\boldsymbol{\\hat\\theta}$. We also discussed stochastic gradient descent and mini-batch gradient descent, methods that take advantage of statistical theory and parallelized hardware to decrease the time spent training the gradient descent algorithm. In this section, we will apply these concepts to logistic regression and walk through examples using scikit-learn functions.\n",
    "\n",
    "### Batch Gradient Descent\n",
    "\n",
    "The general update formula for batch gradient descent is given by:\n",
    "\n",
    "$$\n",
    "\\boldsymbol{\\theta}^{(t+1)} = \\boldsymbol{\\theta}^{(t)} - \\alpha \\cdot \\nabla_\\boldsymbol{\\theta} L(\\boldsymbol{\\theta}^{(t)}, \\textbf{X}, \\textbf{y})\n",
    "$$\n",
    "\n",
    "In logistic regression, we use the cross entropy loss as our loss function:\n",
    "\n",
    "$$\n",
    "L(\\boldsymbol{\\theta}, \\textbf{X}, \\textbf{y}) = \\frac{1}{n} \\sum_{i=1}^{n} \\left(-y_i \\ln \\left(f_{\\boldsymbol{\\theta}} \\left(\\textbf{X}_i \\right) \\right) - \\left(1 - y_i \\right) \\ln \\left(1 - f_{\\boldsymbol{\\theta}} \\left(\\textbf{X}_i \\right) \\right) \\right)\n",
    "$$\n",
    "\n",
    "The gradient of the cross entropy loss is $\\nabla_{\\boldsymbol{\\theta}} L(\\boldsymbol{\\theta}, \\textbf{X}, \\textbf{y}) = -\\frac{1}{n}\\sum_{i=1}^n(y_i - \\sigma_i)\\textbf{X}_i $. Plugging this into the update formula allows us to find the gradient descent algorithm specific to logistic regression. Letting $ \\sigma_i = f_\\boldsymbol{\\theta}(\\textbf{X}_i) = \\sigma(\\textbf{X}_i \\cdot \\boldsymbol{\\theta}) $:\n",
    "\n",
    "$$\n",
    "\\begin{align}\n",
    "\\boldsymbol{\\theta}^{(t+1)} &= \\boldsymbol{\\theta}^{(t)} - \\alpha \\cdot \\left(- \\frac{1}{n} \\sum_{i=1}^{n} \\left(y_i - \\sigma_i\\right) \\textbf{X}_i \\right) \\\\\n",
    "&= \\boldsymbol{\\theta}^{(t)} + \\alpha \\cdot \\left(\\frac{1}{n} \\sum_{i=1}^{n} \\left(y_i - \\sigma_i\\right) \\textbf{X}_i \\right)\n",
    "\\end{align}\n",
    "$$\n",
    "\n",
    "- $\\boldsymbol{\\theta}^{(t)}$ is the current estimate of $\\boldsymbol{\\theta}$ at iteration $t$\n",
    "- $\\alpha$ is the learning rate\n",
    "- $-\\frac{1}{n} \\sum_{i=1}^{n} \\left(y_i - \\sigma_i\\right) \\textbf{X}_i$ is the gradient of the cross entropy loss\n",
    "- $\\boldsymbol{\\theta}^{(t+1)}$ is the next estimate of $\\boldsymbol{\\theta}$ computed by subtracting the product of $\\alpha$ and the cross entropy loss computed at $\\boldsymbol{\\theta}^{(t)}$\n",
    "\n",
    "\n",
    "### Stochastic Gradient Descent\n",
    "\n",
    "Stochastic gradient descent approximates the gradient of the loss function across all observations using the gradient of the loss of a single data point.The general update formula is below, where $\\ell(\\boldsymbol{\\theta}, \\textbf{X}_i, y_i)$ is the loss function for a single data point:\n",
    "\n",
    "$$\n",
    "\\boldsymbol{\\theta}^{(t+1)} = \\boldsymbol{\\theta}^{(t)} - \\alpha \\nabla_\\boldsymbol{\\theta} \\ell(\\boldsymbol{\\theta}, \\textbf{X}_i, y_i)\n",
    "$$\n",
    "\n",
    "Returning back to our example in logistic regression, we approximate the gradient of the cross entropy loss across all data points using the gradient of the cross entropy loss of one data point. This is shown below, with $ \\sigma_i = f_{\\boldsymbol{\\theta}}(\\textbf{X}_i) = \\sigma(\\textbf{X}_i \\cdot \\boldsymbol{\\theta}) $.\n",
    "\n",
    "$$\n",
    "\\begin{align}\n",
    "\\nabla_\\boldsymbol{\\theta} L(\\boldsymbol{\\theta}, \\textbf{X}, \\textbf{y}) &\\approx \\nabla_\\boldsymbol{\\theta} \\ell(\\boldsymbol{\\theta}, \\textbf{X}_i, y_i)\\\\\n",
    "&= -(y_i - \\sigma_i)\\textbf{X}_i\n",
    "\\end{align}\n",
    "$$\n",
    "\n",
    "When we plug this approximation into the general formula for stochastic gradient descent, we find the stochastic gradient descent update formula for logistic regression.\n",
    "\n",
    "$$\n",
    "\\begin{align}\n",
    "\\boldsymbol{\\theta}^{(t+1)} &= \\boldsymbol{\\theta}^{(t)} - \\alpha \\nabla_\\boldsymbol{\\theta} \\ell(\\boldsymbol{\\theta}, \\textbf{X}_i, y_i) \\\\\n",
    "&= \\boldsymbol{\\theta}^{(t)} + \\alpha \\cdot (y_i - \\sigma_i)\\textbf{X}_i\n",
    "\\end{align}\n",
    "$$\n",
    "\n",
    "### Mini-batch Gradient Descent\n",
    "\n",
    "Similarly, we can approximate the gradient of the cross entropy loss for all observations using a random sample of data points, known as a mini-batch.\n",
    "\n",
    "$$\n",
    "\\nabla_\\boldsymbol{\\theta} L(\\boldsymbol{\\theta}, \\textbf{X}, \\textbf{y}) \\approx \\frac{1}{|\\mathcal{B}|} \\sum_{i\\in\\mathcal{B}}\\nabla_{\\boldsymbol{\\theta}} \\ell(\\boldsymbol{\\theta}, \\textbf{X}_i, y_i)\n",
    "$$\n",
    "\n",
    "We substitute this approximation for the gradient of the cross entropy loss, yielding a mini-batch gradient descent update formula specific to logistic regression:\n",
    "\n",
    "$$\n",
    "\\begin{align}\n",
    "\\boldsymbol{\\theta}^{(t+1)} &= \\boldsymbol{\\theta}^{(t)} - \\alpha \\cdot -\\frac{1}{|\\mathcal{B}|} \\sum_{i\\in\\mathcal{B}}(y_i - \\sigma_i)\\textbf{X}_i \\\\\n",
    "&= \\boldsymbol{\\theta}^{(t)} + \\alpha \\cdot \\frac{1}{|\\mathcal{B}|} \\sum_{i\\in\\mathcal{B}}(y_i - \\sigma_i)\\textbf{X}_i\n",
    "\\end{align}\n",
    "$$"
   ]
  },
  {
   "cell_type": "markdown",
   "metadata": {},
   "source": [
    "## Implementation in MLJ\n",
    "\n",
    "MLJ provides an interface to the model `SGDClassifier` from the package `ScikitLearn` (you can see the original python's module [documentation](https://scikit-learn.org/stable/modules/generated/sklearn.linear_model.SGDClassifier.html)). Since there is not an available model that implements batch gradient descent, we will compare `SGDClassifier`'s performance against `LogisticClassifier` on a fraction of the `emails` dataset. We omit feature extraction for brevity:"
   ]
  },
  {
   "cell_type": "code",
   "execution_count": 2,
   "metadata": {},
   "outputs": [],
   "source": [
    "# HIDDEN\n",
    "function dataframe_sample(df, frac)\n",
    "    number_samples = round(Int, frac*nrows(df))\n",
    "    return DataFrame([sample(df[:, col], number_samples) for col in names(df)], names(df))\n",
    "end;"
   ]
  },
  {
   "cell_type": "code",
   "execution_count": 3,
   "metadata": {},
   "outputs": [],
   "source": [
    "# HIDDEN\n",
    "using StatsBase\n",
    "\n",
    "emails = dataframe_sample(CSV.read(\"emails_sgd.csv\"), 0.02)\n",
    "X = emails.email\n",
    "y = emails.spam;"
   ]
  },
  {
   "cell_type": "code",
   "execution_count": 4,
   "metadata": {},
   "outputs": [],
   "source": [
    "# HIDDEN\n",
    "using TextAnalysis\n",
    "\n",
    "function create_text_matrix(document_array)\n",
    "    crps = Corpus(StringDocument.(document_array))\n",
    "    prepare!(crps, strip_punctuation | strip_case | strip_html_tags | strip_whitespace)\n",
    "    update_lexicon!(crps)\n",
    "    m = DocumentTermMatrix(crps)\n",
    "    return dtm(m, :dense)\n",
    "end\n",
    "\n",
    "X_dense_matrix = create_text_matrix(X);"
   ]
  },
  {
   "cell_type": "code",
   "execution_count": 5,
   "metadata": {},
   "outputs": [],
   "source": [
    "# HIDDEN\n",
    "X_prepared = DataFrame(X_dense_matrix)\n",
    "y_prepared = coerce(y, OrderedFactor);"
   ]
  },
  {
   "cell_type": "code",
   "execution_count": 6,
   "metadata": {},
   "outputs": [],
   "source": [
    "@load LogisticClassifier pkg=ScikitLearn\n",
    "@load SGDClassifier pkg=ScikitLearn\n",
    "\n",
    "log_cl = LogisticClassifier(tol=0.0001, random_state=42);\n",
    "sgd_cl = SGDClassifier(tol=0.0001, loss=\"log\", random_state=42);\n",
    "train, test = partition(eachindex(y_prepared), 0.75, shuffle=true);"
   ]
  },
  {
   "cell_type": "code",
   "execution_count": 22,
   "metadata": {},
   "outputs": [],
   "source": [
    "# HIDDEN\n",
    "# We suppress scitype warnings\n",
    "@suppress_err begin\n",
    "    log_mac = machine(log_cl, X_prepared, y_prepared)\n",
    "    sgd_mac = machine(sgd_cl, X_prepared, y_prepared)\n",
    "end;"
   ]
  },
  {
   "cell_type": "code",
   "execution_count": 23,
   "metadata": {},
   "outputs": [
    {
     "name": "stdout",
     "output_type": "stream",
     "text": [
      "  0.020640 seconds (32.74 k allocations: 13.118 MiB, 45.53% gc time)\n",
      "Logistic Regression\n",
      "   Accuracy:   0.6428571428571428\n",
      "   Precision:  0.4\n",
      "   Recall:     0.14285714285714285\n"
     ]
    }
   ],
   "source": [
    "# Don't forget to create a 'machine' with your classifier and dataset\n",
    "@time fit!(log_mac, rows=train, verbosity=0)\n",
    "\n",
    "log_pred = predict(log_mac, rows=test)\n",
    "label_log_pred = coerce([p >= 0.5 ? 1 : 0 for p in pdf.(log_pred, 1)], OrderedFactor)\n",
    "y_test = coerce(y_prepared[test], OrderedFactor)\n",
    "\n",
    "log_accuracy_score = accuracy(label_log_pred, y_test)\n",
    "log_precision_score = tp(label_log_pred, y_test) / (tp(label_log_pred, y_test) + fp(label_log_pred, y_test))\n",
    "log_recall_score = tp(label_log_pred, y_test) / (tp(label_log_pred, y_test) + fn(label_log_pred, y_test))\n",
    "\n",
    "println(\"Logistic Regression\")\n",
    "println(\"   Accuracy:   \", log_accuracy_score)\n",
    "println(\"   Precision:  \", log_precision_score)\n",
    "println(\"   Recall:     \", log_recall_score)"
   ]
  },
  {
   "cell_type": "code",
   "execution_count": 25,
   "metadata": {
    "scrolled": true
   },
   "outputs": [
    {
     "name": "stdout",
     "output_type": "stream",
     "text": [
      "  0.011734 seconds (32.76 k allocations: 13.119 MiB)\n",
      "Stochastic GD\n",
      "   Accuracy:   0.5238095238095238\n",
      "   Precision:  0.2\n",
      "   Recall:     0.14285714285714285\n"
     ]
    }
   ],
   "source": [
    "@time fit!(sgd_mac, rows=train, verbosity=0)\n",
    "\n",
    "sgd_pred = predict(sgd_mac, rows=test)\n",
    "\n",
    "sgd_accuracy_score = accuracy(sgd_pred, y_test)\n",
    "sgd_precision_score = tp(sgd_pred, y_test) / (tp(sgd_pred, y_test) + fp(sgd_pred, y_test))\n",
    "sgd_recall_score = tp(sgd_pred, y_test) / (tp(sgd_pred, y_test) + fn(sgd_pred, y_test))\n",
    "\n",
    "println(\"Stochastic GD\")\n",
    "println(\"   Accuracy:   \", sgd_accuracy_score)\n",
    "println(\"   Precision:  \", sgd_precision_score)\n",
    "println(\"   Recall:     \", sgd_recall_score)"
   ]
  },
  {
   "cell_type": "markdown",
   "metadata": {},
   "source": [
    "The results above indicate that `SGDClassifier` is able to find a solution in significantly less time than `LogisticRegression`. Although the evaluation metrics are slightly worse on the `SGDClassifier`, we can improve the `SGDClassifier`'s performance by tuning hyperparameters. Furthermore, this discrepancy is a tradeoff that data scientists often encounter in the real world. Depending on the situation, data scientists might place greater value on the lower runtime or on the higher metrics.\n",
    "\n",
    "Please note that the low accuracy, precision and recall for both classifiers are a result of using a small fraction of the data. Try running the same classifiers on larger portions of the data to see how you can improve the above results!"
   ]
  },
  {
   "cell_type": "markdown",
   "metadata": {},
   "source": [
    "## Summary\n",
    "\n",
    "Stochastic gradient descent is a method that data scientists use to cut down on computational cost and runtime. We can see the value of stochastic gradient descent in logistic regression, since we would only have to calculate the gradient of the cross entropy loss for one observation at each iteration instead of for every observation in batch gradient descent. From the example using scikit-learn's `SGDClassifier`, we observe that stochastic gradient descent may achieve slightly worse evaluation metrics, but drastically improves runtime. On larger datasets or for more complex models, the difference in runtime might be much larger and thus more valuable."
   ]
  }
 ],
 "metadata": {
  "@webio": {
   "lastCommId": null,
   "lastKernelId": null
  },
  "kernelspec": {
   "display_name": "Julia nodeps 1.2.0",
   "language": "julia",
   "name": "julia-nodeps-1.2"
  },
  "language_info": {
   "file_extension": ".jl",
   "mimetype": "application/julia",
   "name": "julia",
   "version": "1.2.0"
  }
 },
 "nbformat": 4,
 "nbformat_minor": 2
}
