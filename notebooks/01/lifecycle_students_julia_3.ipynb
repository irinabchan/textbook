{
 "cells": [
  {
   "cell_type": "code",
   "execution_count": 1,
   "metadata": {},
   "outputs": [
    {
     "data": {
      "text/html": [
       "<script>\n",
       "// Immediately-invoked-function-expression to avoid global variables.\n",
       "(function() {\n",
       "    var warning_div = document.getElementById(\"webio-warning-17633506541129877643\");\n",
       "    var hide = function () {\n",
       "        var script = document.getElementById(\"webio-setup-11619148180502581187\");\n",
       "        var parent = script && script.parentElement;\n",
       "        var grandparent = parent && parent.parentElement;\n",
       "        if (grandparent) {\n",
       "            grandparent.style.display = \"none\";\n",
       "        }\n",
       "        warning_div.style.display = \"none\";\n",
       "    };\n",
       "    if (typeof Jupyter !== \"undefined\") {\n",
       "        console.log(\"WebIO detected Jupyter notebook environment.\");\n",
       "        // Jupyter notebook.\n",
       "        var extensions = (\n",
       "            Jupyter\n",
       "            && Jupyter.notebook.config.data\n",
       "            && Jupyter.notebook.config.data.load_extensions\n",
       "        );\n",
       "        if (extensions && extensions[\"webio-jupyter-notebook\"]) {\n",
       "            // Extension already loaded.\n",
       "            console.log(\"Jupyter WebIO nbextension detected; not loading ad-hoc.\");\n",
       "            hide();\n",
       "            return;\n",
       "        }\n",
       "    } else if (window.location.pathname.includes(\"/lab\")) {\n",
       "        // Guessing JupyterLa\n",
       "        console.log(\"Jupyter Lab detected; make sure the @webio/jupyter-lab-provider labextension is installed.\");\n",
       "        hide();\n",
       "        return;\n",
       "    }\n",
       "})();\n",
       "\n",
       "</script>\n",
       "<p\n",
       "    id=\"webio-warning-17633506541129877643\"\n",
       "    class=\"output_text output_stderr\"\n",
       "    style=\"padding: 1em; font-weight: bold;\"\n",
       ">\n",
       "    Unable to load WebIO. Please make sure WebIO works for your Jupyter client.\n",
       "    For troubleshooting, please see <a href=\"https://juliagizmos.github.io/WebIO.jl/latest/providers/ijulia/\">\n",
       "    the WebIO/IJulia documentation</a>.\n",
       "    <!-- TODO: link to installation docs. -->\n",
       "</p>\n"
      ],
      "text/plain": [
       "HTML{String}(\"<script>\\n// Immediately-invoked-function-expression to avoid global variables.\\n(function() {\\n    var warning_div = document.getElementById(\\\"webio-warning-17633506541129877643\\\");\\n    var hide = function () {\\n        var script = document.getElementById(\\\"webio-setup-11619148180502581187\\\");\\n        var parent = script && script.parentElement;\\n        var grandparent = parent && parent.parentElement;\\n        if (grandparent) {\\n            grandparent.style.display = \\\"none\\\";\\n        }\\n        warning_div.style.display = \\\"none\\\";\\n    };\\n    if (typeof Jupyter !== \\\"undefined\\\") {\\n        console.log(\\\"WebIO detected Jupyter notebook environment.\\\");\\n        // Jupyter notebook.\\n        var extensions = (\\n            Jupyter\\n            && Jupyter.notebook.config.data\\n            && Jupyter.notebook.config.data.load_extensions\\n        );\\n        if (extensions && extensions[\\\"webio-jupyter-notebook\\\"]) {\\n            // Extension already loaded.\\n            console.log(\\\"Jupyter WebIO nbextension detected; not loading ad-hoc.\\\");\\n            hide();\\n            return;\\n        }\\n    } else if (window.location.pathname.includes(\\\"/lab\\\")) {\\n        // Guessing JupyterLa\\n        console.log(\\\"Jupyter Lab detected; make sure the @webio/jupyter-lab-provider labextension is installed.\\\");\\n        hide();\\n        return;\\n    }\\n})();\\n\\n</script>\\n<p\\n    id=\\\"webio-warning-17633506541129877643\\\"\\n    class=\\\"output_text output_stderr\\\"\\n    style=\\\"padding: 1em; font-weight: bold;\\\"\\n>\\n    Unable to load WebIO. Please make sure WebIO works for your Jupyter client.\\n    For troubleshooting, please see <a href=\\\"https://juliagizmos.github.io/WebIO.jl/latest/providers/ijulia/\\\">\\n    the WebIO/IJulia documentation</a>.\\n    <!-- TODO: link to installation docs. -->\\n</p>\\n\")"
      ]
     },
     "metadata": {},
     "output_type": "display_data"
    }
   ],
   "source": [
    "# HIDDEN\n",
    "Base.displaysize() = (5, 80)\n",
    "using DataFrames\n",
    "using CSV\n",
    "using Interact"
   ]
  },
  {
   "cell_type": "code",
   "execution_count": 2,
   "metadata": {},
   "outputs": [],
   "source": [
    "# HIDDEN\n",
    "students = CSV.read(\"roster.csv\")\n",
    "\n",
    "# Do we want to replace the original column?\n",
    "students.Name = copy(students.Name)\n",
    "for i in 1:size(students, 1)\n",
    "    students.Name[i] = lowercase(students.Name[i])\n",
    "end"
   ]
  },
  {
   "cell_type": "markdown",
   "metadata": {},
   "source": [
    "## What's in a Name?"
   ]
  },
  {
   "cell_type": "markdown",
   "metadata": {},
   "source": [
    "So far, we have asked a broad question about our data: \"Do the first names of students in Data 100 tell us anything about the class?\"\n",
    "\n",
    "We have cleaned our data by converting all our names to lowercase. During our exploratory data analysis we discovered that our roster contains about 270 names of students in the class and on the waitlist. Most of our first names are between 4 and 8 characters long.\n",
    "\n",
    "What else can we discover about our class based on their first names? We might consider a single name from our dataset:"
   ]
  },
  {
   "cell_type": "code",
   "execution_count": 3,
   "metadata": {},
   "outputs": [
    {
     "data": {
      "text/plain": [
       "\"jerry\""
      ]
     },
     "execution_count": 3,
     "metadata": {},
     "output_type": "execute_result"
    }
   ],
   "source": [
    "students.Name[6]"
   ]
  },
  {
   "cell_type": "markdown",
   "metadata": {},
   "source": [
    "From this name we can infer that the student is likely a male. We can also take a guess at the student's age. For example, if we happen to know that Jerry was a very popular baby name in 1998, we might guess that this student is around twenty years old.\n",
    "\n",
    "This thinking gives us two new questions to investigate:\n",
    "\n",
    "1. \"Do the first names of students in Data 100 tell us the distribution of sex in the class?\"\n",
    "1. \"Do the first names of students in Data 100 tell us the distribution of ages in the class?\"\n",
    "\n",
    "In order to investigate these questions, we will need a dataset that associates names with sex and year. Conveniently, the US Social Security department hosts such a dataset online ([https://www.ssa.gov/oact/babynames/index.html](https://www.ssa.gov/oact/babynames/index.html)). Their dataset records the names given to babies at birth and is thus often referred to as the Baby Names dataset.\n",
    "\n",
    "We will start by downloading and then loading the dataset into Julia. Again, don't worry about understanding the code in this this chapter—focus instead on understanding the overall process.\n",
    "\n",
    "[zipfile]: https://en.wikipedia.org/wiki/Zip_(file_format)"
   ]
  },
  {
   "cell_type": "code",
   "execution_count": 4,
   "metadata": {},
   "outputs": [
    {
     "data": {
      "text/html": [
       "<table class=\"data-frame\"><thead><tr><th></th><th>Name</th><th>Sex</th><th>Count</th><th>Year</th></tr><tr><th></th><th>String</th><th>String</th><th>Int64</th><th>Int64</th></tr></thead><tbody><p>1,891,894 rows × 4 columns</p><tr><th>1</th><td>Mary</td><td>F</td><td>9217</td><td>1884</td></tr><tr><th>2</th><td>Anna</td><td>F</td><td>3860</td><td>1884</td></tr><tr><th>3</th><td>Emma</td><td>F</td><td>2587</td><td>1884</td></tr><tr><th>4</th><td>Elizabeth</td><td>F</td><td>2549</td><td>1884</td></tr><tr><th>5</th><td>Minnie</td><td>F</td><td>2243</td><td>1884</td></tr><tr><th>&vellip;</th><td>&vellip;</td><td>&vellip;</td><td>&vellip;</td><td>&vellip;</td></tr></tbody></table>"
      ],
      "text/latex": [
       "\\begin{tabular}{r|cccc}\n",
       "\t& Name & Sex & Count & Year\\\\\n",
       "\t\\hline\n",
       "\t& String & String & Int64 & Int64\\\\\n",
       "\t\\hline\n",
       "\t1 & Mary & F & 9217 & 1884 \\\\\n",
       "\t2 & Anna & F & 3860 & 1884 \\\\\n",
       "\t3 & Emma & F & 2587 & 1884 \\\\\n",
       "\t4 & Elizabeth & F & 2549 & 1884 \\\\\n",
       "\t5 & Minnie & F & 2243 & 1884 \\\\\n",
       "\t$\\dots$ & $\\dots$ & $\\dots$ & $\\dots$ & $\\dots$ \\\\\n",
       "\\end{tabular}\n"
      ],
      "text/plain": [
       "1891894×4 DataFrame\n"
      ]
     },
     "execution_count": 4,
     "metadata": {},
     "output_type": "execute_result"
    }
   ],
   "source": [
    "using CSV\n",
    "using ZipFile\n",
    "\n",
    "data_url = \"https://www.ssa.gov/oact/babynames/names.zip\"\n",
    "local_filename = \"babynames.zip\"\n",
    "\n",
    "if !(local_filename in readdir()) # if the data exists don't download again\n",
    "    run(`curl --output $local_filename $data_url`)\n",
    "end\n",
    "\n",
    "r = ZipFile.Reader(\"babynames.zip\");\n",
    "\n",
    "function read_txt_files_into_dataframe()\n",
    "    babynames = DataFrame()\n",
    "    columnSymbols = [:Name, :Sex, :Count]\n",
    "    \n",
    "    for file in r.files\n",
    "        if split(file.name, \".\")[end] == \"txt\"\n",
    "            df = CSV.read(file, header=columnSymbols, copycols=true)\n",
    "            df[!, :Year] .= parse(Int, file.name[end-7:end-4])\n",
    "            babynames = vcat(babynames, df)\n",
    "        end\n",
    "    end\n",
    "\n",
    "    return babynames\n",
    "end\n",
    "\n",
    "babynames = read_txt_files_into_dataframe()\n",
    "babynames"
   ]
  },
  {
   "cell_type": "markdown",
   "metadata": {},
   "source": [
    "It looks like the dataset contains names, the sex given to the baby, the number of babies with that name, and the year of birth for those babies. To be sure, we check the dataset description from the SSN Office ([https://www.ssa.gov/oact/babynames/background.html](https://www.ssa.gov/oact/babynames/background.html)).\n",
    "\n",
    "> All names are from Social Security card applications for births that occurred in the United States after 1879. Note  that many people born before 1937 never applied for a Social Security card, so their names are not included in our data. For others who did apply, our records may not show the place of birth, and again their names are not included in our data.\n",
    "> \n",
    "> All data are from a 100% sample of our records on Social Security card applications as of March 2017.\n",
    "\n",
    "We begin by plotting the number of male and female babies born each year:"
   ]
  },
  {
   "cell_type": "code",
   "execution_count": 5,
   "metadata": {},
   "outputs": [
    {
     "data": {
      "image/svg+xml": [
       "<?xml version=\"1.0\" encoding=\"utf-8\"?>\n",
       "<svg xmlns=\"http://www.w3.org/2000/svg\" xmlns:xlink=\"http://www.w3.org/1999/xlink\" width=\"600\" height=\"400\" viewBox=\"0 0 2400 1600\">\n",
       "<defs>\n",
       "  <clipPath id=\"clip0000\">\n",
       "    <rect x=\"0\" y=\"0\" width=\"2400\" height=\"1600\"/>\n",
       "  </clipPath>\n",
       "</defs>\n",
       "<polygon clip-path=\"url(#clip0000)\" points=\"\n",
       "0,1600 2400,1600 2400,0 0,0 \n",
       "  \" fill=\"#ffffff\" fill-rule=\"evenodd\" fill-opacity=\"1\"/>\n",
       "<defs>\n",
       "  <clipPath id=\"clip0001\">\n",
       "    <rect x=\"480\" y=\"0\" width=\"1681\" height=\"1600\"/>\n",
       "  </clipPath>\n",
       "</defs>\n",
       "<polygon clip-path=\"url(#clip0000)\" points=\"\n",
       "301.332,1487.47 2352.76,1487.47 2352.76,47.2441 301.332,47.2441 \n",
       "  \" fill=\"#ffffff\" fill-rule=\"evenodd\" fill-opacity=\"1\"/>\n",
       "<defs>\n",
       "  <clipPath id=\"clip0002\">\n",
       "    <rect x=\"301\" y=\"47\" width=\"2052\" height=\"1441\"/>\n",
       "  </clipPath>\n",
       "</defs>\n",
       "<polyline clip-path=\"url(#clip0002)\" style=\"stroke:#000000; stroke-width:2; stroke-opacity:0.1; fill:none\" points=\"\n",
       "  643.995,1487.47 643.995,47.2441 \n",
       "  \"/>\n",
       "<polyline clip-path=\"url(#clip0002)\" style=\"stroke:#000000; stroke-width:2; stroke-opacity:0.1; fill:none\" points=\"\n",
       "  999.749,1487.47 999.749,47.2441 \n",
       "  \"/>\n",
       "<polyline clip-path=\"url(#clip0002)\" style=\"stroke:#000000; stroke-width:2; stroke-opacity:0.1; fill:none\" points=\"\n",
       "  1355.5,1487.47 1355.5,47.2441 \n",
       "  \"/>\n",
       "<polyline clip-path=\"url(#clip0002)\" style=\"stroke:#000000; stroke-width:2; stroke-opacity:0.1; fill:none\" points=\"\n",
       "  1711.26,1487.47 1711.26,47.2441 \n",
       "  \"/>\n",
       "<polyline clip-path=\"url(#clip0002)\" style=\"stroke:#000000; stroke-width:2; stroke-opacity:0.1; fill:none\" points=\"\n",
       "  2067.01,1487.47 2067.01,47.2441 \n",
       "  \"/>\n",
       "<polyline clip-path=\"url(#clip0002)\" style=\"stroke:#000000; stroke-width:2; stroke-opacity:0.1; fill:none\" points=\"\n",
       "  301.332,1177.58 2352.76,1177.58 \n",
       "  \"/>\n",
       "<polyline clip-path=\"url(#clip0002)\" style=\"stroke:#000000; stroke-width:2; stroke-opacity:0.1; fill:none\" points=\"\n",
       "  301.332,848.578 2352.76,848.578 \n",
       "  \"/>\n",
       "<polyline clip-path=\"url(#clip0002)\" style=\"stroke:#000000; stroke-width:2; stroke-opacity:0.1; fill:none\" points=\"\n",
       "  301.332,519.574 2352.76,519.574 \n",
       "  \"/>\n",
       "<polyline clip-path=\"url(#clip0002)\" style=\"stroke:#000000; stroke-width:2; stroke-opacity:0.1; fill:none\" points=\"\n",
       "  301.332,190.57 2352.76,190.57 \n",
       "  \"/>\n",
       "<polyline clip-path=\"url(#clip0000)\" style=\"stroke:#000000; stroke-width:4; stroke-opacity:1; fill:none\" points=\"\n",
       "  301.332,1487.47 2352.76,1487.47 \n",
       "  \"/>\n",
       "<polyline clip-path=\"url(#clip0000)\" style=\"stroke:#000000; stroke-width:4; stroke-opacity:1; fill:none\" points=\"\n",
       "  301.332,1487.47 301.332,47.2441 \n",
       "  \"/>\n",
       "<polyline clip-path=\"url(#clip0000)\" style=\"stroke:#000000; stroke-width:4; stroke-opacity:1; fill:none\" points=\"\n",
       "  643.995,1487.47 643.995,1465.87 \n",
       "  \"/>\n",
       "<polyline clip-path=\"url(#clip0000)\" style=\"stroke:#000000; stroke-width:4; stroke-opacity:1; fill:none\" points=\"\n",
       "  999.749,1487.47 999.749,1465.87 \n",
       "  \"/>\n",
       "<polyline clip-path=\"url(#clip0000)\" style=\"stroke:#000000; stroke-width:4; stroke-opacity:1; fill:none\" points=\"\n",
       "  1355.5,1487.47 1355.5,1465.87 \n",
       "  \"/>\n",
       "<polyline clip-path=\"url(#clip0000)\" style=\"stroke:#000000; stroke-width:4; stroke-opacity:1; fill:none\" points=\"\n",
       "  1711.26,1487.47 1711.26,1465.87 \n",
       "  \"/>\n",
       "<polyline clip-path=\"url(#clip0000)\" style=\"stroke:#000000; stroke-width:4; stroke-opacity:1; fill:none\" points=\"\n",
       "  2067.01,1487.47 2067.01,1465.87 \n",
       "  \"/>\n",
       "<polyline clip-path=\"url(#clip0000)\" style=\"stroke:#000000; stroke-width:4; stroke-opacity:1; fill:none\" points=\"\n",
       "  301.332,1177.58 332.103,1177.58 \n",
       "  \"/>\n",
       "<polyline clip-path=\"url(#clip0000)\" style=\"stroke:#000000; stroke-width:4; stroke-opacity:1; fill:none\" points=\"\n",
       "  301.332,848.578 332.103,848.578 \n",
       "  \"/>\n",
       "<polyline clip-path=\"url(#clip0000)\" style=\"stroke:#000000; stroke-width:4; stroke-opacity:1; fill:none\" points=\"\n",
       "  301.332,519.574 332.103,519.574 \n",
       "  \"/>\n",
       "<polyline clip-path=\"url(#clip0000)\" style=\"stroke:#000000; stroke-width:4; stroke-opacity:1; fill:none\" points=\"\n",
       "  301.332,190.57 332.103,190.57 \n",
       "  \"/>\n",
       "<g clip-path=\"url(#clip0000)\">\n",
       "<text style=\"fill:#000000; fill-opacity:1; font-family:Arial,Helvetica Neue,Helvetica,sans-serif; font-size:48px; text-anchor:middle;\" transform=\"rotate(0, 643.995, 1541.47)\" x=\"643.995\" y=\"1541.47\">1900</text>\n",
       "</g>\n",
       "<g clip-path=\"url(#clip0000)\">\n",
       "<text style=\"fill:#000000; fill-opacity:1; font-family:Arial,Helvetica Neue,Helvetica,sans-serif; font-size:48px; text-anchor:middle;\" transform=\"rotate(0, 999.749, 1541.47)\" x=\"999.749\" y=\"1541.47\">1925</text>\n",
       "</g>\n",
       "<g clip-path=\"url(#clip0000)\">\n",
       "<text style=\"fill:#000000; fill-opacity:1; font-family:Arial,Helvetica Neue,Helvetica,sans-serif; font-size:48px; text-anchor:middle;\" transform=\"rotate(0, 1355.5, 1541.47)\" x=\"1355.5\" y=\"1541.47\">1950</text>\n",
       "</g>\n",
       "<g clip-path=\"url(#clip0000)\">\n",
       "<text style=\"fill:#000000; fill-opacity:1; font-family:Arial,Helvetica Neue,Helvetica,sans-serif; font-size:48px; text-anchor:middle;\" transform=\"rotate(0, 1711.26, 1541.47)\" x=\"1711.26\" y=\"1541.47\">1975</text>\n",
       "</g>\n",
       "<g clip-path=\"url(#clip0000)\">\n",
       "<text style=\"fill:#000000; fill-opacity:1; font-family:Arial,Helvetica Neue,Helvetica,sans-serif; font-size:48px; text-anchor:middle;\" transform=\"rotate(0, 2067.01, 1541.47)\" x=\"2067.01\" y=\"1541.47\">2000</text>\n",
       "</g>\n",
       "<g clip-path=\"url(#clip0000)\">\n",
       "<text style=\"fill:#000000; fill-opacity:1; font-family:Arial,Helvetica Neue,Helvetica,sans-serif; font-size:48px; text-anchor:start;\" transform=\"rotate(0, 107.046, 1201.31)\" x=\"107.046\" y=\"1201.31\">5.0×10</text>\n",
       "</g>\n",
       "<g clip-path=\"url(#clip0000)\">\n",
       "<text style=\"fill:#000000; fill-opacity:1; font-family:Arial,Helvetica Neue,Helvetica,sans-serif; font-size:38px; text-anchor:start;\" transform=\"rotate(0, 255.587, 1173.9)\" x=\"255.587\" y=\"1173.9\">5</text>\n",
       "</g>\n",
       "<g clip-path=\"url(#clip0000)\">\n",
       "<text style=\"fill:#000000; fill-opacity:1; font-family:Arial,Helvetica Neue,Helvetica,sans-serif; font-size:48px; text-anchor:start;\" transform=\"rotate(0, 107.046, 872.306)\" x=\"107.046\" y=\"872.306\">1.0×10</text>\n",
       "</g>\n",
       "<g clip-path=\"url(#clip0000)\">\n",
       "<text style=\"fill:#000000; fill-opacity:1; font-family:Arial,Helvetica Neue,Helvetica,sans-serif; font-size:38px; text-anchor:start;\" transform=\"rotate(0, 255.587, 844.896)\" x=\"255.587\" y=\"844.896\">6</text>\n",
       "</g>\n",
       "<g clip-path=\"url(#clip0000)\">\n",
       "<text style=\"fill:#000000; fill-opacity:1; font-family:Arial,Helvetica Neue,Helvetica,sans-serif; font-size:48px; text-anchor:start;\" transform=\"rotate(0, 107.046, 543.302)\" x=\"107.046\" y=\"543.302\">1.5×10</text>\n",
       "</g>\n",
       "<g clip-path=\"url(#clip0000)\">\n",
       "<text style=\"fill:#000000; fill-opacity:1; font-family:Arial,Helvetica Neue,Helvetica,sans-serif; font-size:38px; text-anchor:start;\" transform=\"rotate(0, 255.587, 515.891)\" x=\"255.587\" y=\"515.891\">6</text>\n",
       "</g>\n",
       "<g clip-path=\"url(#clip0000)\">\n",
       "<text style=\"fill:#000000; fill-opacity:1; font-family:Arial,Helvetica Neue,Helvetica,sans-serif; font-size:48px; text-anchor:start;\" transform=\"rotate(0, 107.046, 214.297)\" x=\"107.046\" y=\"214.297\">2.0×10</text>\n",
       "</g>\n",
       "<g clip-path=\"url(#clip0000)\">\n",
       "<text style=\"fill:#000000; fill-opacity:1; font-family:Arial,Helvetica Neue,Helvetica,sans-serif; font-size:38px; text-anchor:start;\" transform=\"rotate(0, 255.587, 186.887)\" x=\"255.587\" y=\"186.887\">6</text>\n",
       "</g>\n",
       "<polyline clip-path=\"url(#clip0002)\" style=\"stroke:#ffc0cb; stroke-width:4; stroke-opacity:1; fill:none\" points=\"\n",
       "  359.391,1446.71 373.621,1446.08 387.851,1435.62 402.081,1432.68 416.311,1421.69 430.542,1419.04 444.772,1411.48 459.002,1410.53 473.232,1389.05 487.462,1389.22 \n",
       "  501.693,1381.32 515.923,1384.54 530.153,1366.87 544.383,1366.49 558.613,1359.9 572.844,1352.86 587.074,1350.03 601.304,1352.48 615.534,1336.31 629.764,1353.26 \n",
       "  643.995,1309.31 658.225,1349.09 672.455,1332.82 686.685,1334.21 700.915,1325.4 715.145,1314.7 729.376,1312.28 743.606,1296.97 757.836,1286.61 772.066,1278.11 \n",
       "  786.296,1245.69 800.527,1231.34 814.757,1139.34 828.987,1095.63 843.217,1005.47 857.447,859.189 871.678,819.406 885.908,795.09 900.138,744.843 914.368,762.949 \n",
       "  928.598,718.103 942.829,695.239 957.059,716.35 971.289,712.806 985.519,684.798 999.749,705.538 1013.98,726.597 1028.21,721.991 1042.44,747.779 1056.67,771.924 \n",
       "  1070.9,765.766 1085.13,806.077 1099.36,804.475 1113.59,843.456 1127.82,819.569 1142.05,816.67 1156.28,822.083 1170.51,806.53 1184.74,780.588 1198.97,785.023 \n",
       "  1213.2,754.229 1227.43,711.734 1241.66,617.887 1255.89,588.566 1270.12,633.307 1284.35,646.55 1298.58,472.709 1312.81,340.148 1327.04,389.411 1341.27,380.845 \n",
       "  1355.5,379.248 1369.73,321.58 1383.96,286.392 1398.19,268.972 1412.42,228.729 1426.66,220.356 1440.89,185.644 1455.12,161.469 1469.35,183.343 1483.58,175.361 \n",
       "  1497.81,176.025 1512.04,179.049 1526.27,212.537 1540.5,238.406 1554.73,259.834 1568.96,345.127 1583.19,393.26 1597.42,420.293 1611.65,427.3 1625.88,396.503 \n",
       "  1640.11,356.21 1654.34,411.905 1668.57,505.607 1682.8,547.072 1697.03,540.989 1711.26,547.331 1725.49,542.486 1739.72,497.772 1753.95,498.635 1768.18,450.355 \n",
       "  1782.41,414.193 1796.64,409.237 1810.87,392.61 1825.1,407.54 1839.33,399.004 1853.56,374.617 1867.79,378.165 1882.02,362.903 1896.25,335.251 1910.48,293.733 \n",
       "  1924.71,257.726 1938.94,273.131 1953.17,293.584 1967.4,316.528 1981.63,331.88 1995.86,349.737 2010.09,353.457 2024.32,361.584 2038.55,344.388 2052.78,339.952 \n",
       "  2067.01,312.353 2081.24,322.556 2095.47,325.096 2109.7,305.246 2123.93,299.383 2138.16,291.918 2152.39,256.919 2166.63,243.058 2180.86,264.15 2195.09,299.768 \n",
       "  2209.32,339.157 2223.55,351.599 2237.78,350.896 2252.01,355.69 2266.24,335.663 2280.47,337.61 2294.7,350.698 \n",
       "  \"/>\n",
       "<circle clip-path=\"url(#clip0002)\" style=\"fill:#000000; stroke:none; fill-opacity:1\" cx=\"359.391\" cy=\"1446.71\" r=\"18\"/>\n",
       "<circle clip-path=\"url(#clip0002)\" style=\"fill:#ffc0cb; stroke:none; fill-opacity:1\" cx=\"359.391\" cy=\"1446.71\" r=\"14\"/>\n",
       "<circle clip-path=\"url(#clip0002)\" style=\"fill:#000000; stroke:none; fill-opacity:1\" cx=\"373.621\" cy=\"1446.08\" r=\"18\"/>\n",
       "<circle clip-path=\"url(#clip0002)\" style=\"fill:#ffc0cb; stroke:none; fill-opacity:1\" cx=\"373.621\" cy=\"1446.08\" r=\"14\"/>\n",
       "<circle clip-path=\"url(#clip0002)\" style=\"fill:#000000; stroke:none; fill-opacity:1\" cx=\"387.851\" cy=\"1435.62\" r=\"18\"/>\n",
       "<circle clip-path=\"url(#clip0002)\" style=\"fill:#ffc0cb; stroke:none; fill-opacity:1\" cx=\"387.851\" cy=\"1435.62\" r=\"14\"/>\n",
       "<circle clip-path=\"url(#clip0002)\" style=\"fill:#000000; stroke:none; fill-opacity:1\" cx=\"402.081\" cy=\"1432.68\" r=\"18\"/>\n",
       "<circle clip-path=\"url(#clip0002)\" style=\"fill:#ffc0cb; stroke:none; fill-opacity:1\" cx=\"402.081\" cy=\"1432.68\" r=\"14\"/>\n",
       "<circle clip-path=\"url(#clip0002)\" style=\"fill:#000000; stroke:none; fill-opacity:1\" cx=\"416.311\" cy=\"1421.69\" r=\"18\"/>\n",
       "<circle clip-path=\"url(#clip0002)\" style=\"fill:#ffc0cb; stroke:none; fill-opacity:1\" cx=\"416.311\" cy=\"1421.69\" r=\"14\"/>\n",
       "<circle clip-path=\"url(#clip0002)\" style=\"fill:#000000; stroke:none; fill-opacity:1\" cx=\"430.542\" cy=\"1419.04\" r=\"18\"/>\n",
       "<circle clip-path=\"url(#clip0002)\" style=\"fill:#ffc0cb; stroke:none; fill-opacity:1\" cx=\"430.542\" cy=\"1419.04\" r=\"14\"/>\n",
       "<circle clip-path=\"url(#clip0002)\" style=\"fill:#000000; stroke:none; fill-opacity:1\" cx=\"444.772\" cy=\"1411.48\" r=\"18\"/>\n",
       "<circle clip-path=\"url(#clip0002)\" style=\"fill:#ffc0cb; stroke:none; fill-opacity:1\" cx=\"444.772\" cy=\"1411.48\" r=\"14\"/>\n",
       "<circle clip-path=\"url(#clip0002)\" style=\"fill:#000000; stroke:none; fill-opacity:1\" cx=\"459.002\" cy=\"1410.53\" r=\"18\"/>\n",
       "<circle clip-path=\"url(#clip0002)\" style=\"fill:#ffc0cb; stroke:none; fill-opacity:1\" cx=\"459.002\" cy=\"1410.53\" r=\"14\"/>\n",
       "<circle clip-path=\"url(#clip0002)\" style=\"fill:#000000; stroke:none; fill-opacity:1\" cx=\"473.232\" cy=\"1389.05\" r=\"18\"/>\n",
       "<circle clip-path=\"url(#clip0002)\" style=\"fill:#ffc0cb; stroke:none; fill-opacity:1\" cx=\"473.232\" cy=\"1389.05\" r=\"14\"/>\n",
       "<circle clip-path=\"url(#clip0002)\" style=\"fill:#000000; stroke:none; fill-opacity:1\" cx=\"487.462\" cy=\"1389.22\" r=\"18\"/>\n",
       "<circle clip-path=\"url(#clip0002)\" style=\"fill:#ffc0cb; stroke:none; fill-opacity:1\" cx=\"487.462\" cy=\"1389.22\" r=\"14\"/>\n",
       "<circle clip-path=\"url(#clip0002)\" style=\"fill:#000000; stroke:none; fill-opacity:1\" cx=\"501.693\" cy=\"1381.32\" r=\"18\"/>\n",
       "<circle clip-path=\"url(#clip0002)\" style=\"fill:#ffc0cb; stroke:none; fill-opacity:1\" cx=\"501.693\" cy=\"1381.32\" r=\"14\"/>\n",
       "<circle clip-path=\"url(#clip0002)\" style=\"fill:#000000; stroke:none; fill-opacity:1\" cx=\"515.923\" cy=\"1384.54\" r=\"18\"/>\n",
       "<circle clip-path=\"url(#clip0002)\" style=\"fill:#ffc0cb; stroke:none; fill-opacity:1\" cx=\"515.923\" cy=\"1384.54\" r=\"14\"/>\n",
       "<circle clip-path=\"url(#clip0002)\" style=\"fill:#000000; stroke:none; fill-opacity:1\" cx=\"530.153\" cy=\"1366.87\" r=\"18\"/>\n",
       "<circle clip-path=\"url(#clip0002)\" style=\"fill:#ffc0cb; stroke:none; fill-opacity:1\" cx=\"530.153\" cy=\"1366.87\" r=\"14\"/>\n",
       "<circle clip-path=\"url(#clip0002)\" style=\"fill:#000000; stroke:none; fill-opacity:1\" cx=\"544.383\" cy=\"1366.49\" r=\"18\"/>\n",
       "<circle clip-path=\"url(#clip0002)\" style=\"fill:#ffc0cb; stroke:none; fill-opacity:1\" cx=\"544.383\" cy=\"1366.49\" r=\"14\"/>\n",
       "<circle clip-path=\"url(#clip0002)\" style=\"fill:#000000; stroke:none; fill-opacity:1\" cx=\"558.613\" cy=\"1359.9\" r=\"18\"/>\n",
       "<circle clip-path=\"url(#clip0002)\" style=\"fill:#ffc0cb; stroke:none; fill-opacity:1\" cx=\"558.613\" cy=\"1359.9\" r=\"14\"/>\n",
       "<circle clip-path=\"url(#clip0002)\" style=\"fill:#000000; stroke:none; fill-opacity:1\" cx=\"572.844\" cy=\"1352.86\" r=\"18\"/>\n",
       "<circle clip-path=\"url(#clip0002)\" style=\"fill:#ffc0cb; stroke:none; fill-opacity:1\" cx=\"572.844\" cy=\"1352.86\" r=\"14\"/>\n",
       "<circle clip-path=\"url(#clip0002)\" style=\"fill:#000000; stroke:none; fill-opacity:1\" cx=\"587.074\" cy=\"1350.03\" r=\"18\"/>\n",
       "<circle clip-path=\"url(#clip0002)\" style=\"fill:#ffc0cb; stroke:none; fill-opacity:1\" cx=\"587.074\" cy=\"1350.03\" r=\"14\"/>\n",
       "<circle clip-path=\"url(#clip0002)\" style=\"fill:#000000; stroke:none; fill-opacity:1\" cx=\"601.304\" cy=\"1352.48\" r=\"18\"/>\n",
       "<circle clip-path=\"url(#clip0002)\" style=\"fill:#ffc0cb; stroke:none; fill-opacity:1\" cx=\"601.304\" cy=\"1352.48\" r=\"14\"/>\n",
       "<circle clip-path=\"url(#clip0002)\" style=\"fill:#000000; stroke:none; fill-opacity:1\" cx=\"615.534\" cy=\"1336.31\" r=\"18\"/>\n",
       "<circle clip-path=\"url(#clip0002)\" style=\"fill:#ffc0cb; stroke:none; fill-opacity:1\" cx=\"615.534\" cy=\"1336.31\" r=\"14\"/>\n",
       "<circle clip-path=\"url(#clip0002)\" style=\"fill:#000000; stroke:none; fill-opacity:1\" cx=\"629.764\" cy=\"1353.26\" r=\"18\"/>\n",
       "<circle clip-path=\"url(#clip0002)\" style=\"fill:#ffc0cb; stroke:none; fill-opacity:1\" cx=\"629.764\" cy=\"1353.26\" r=\"14\"/>\n",
       "<circle clip-path=\"url(#clip0002)\" style=\"fill:#000000; stroke:none; fill-opacity:1\" cx=\"643.995\" cy=\"1309.31\" r=\"18\"/>\n",
       "<circle clip-path=\"url(#clip0002)\" style=\"fill:#ffc0cb; stroke:none; fill-opacity:1\" cx=\"643.995\" cy=\"1309.31\" r=\"14\"/>\n",
       "<circle clip-path=\"url(#clip0002)\" style=\"fill:#000000; stroke:none; fill-opacity:1\" cx=\"658.225\" cy=\"1349.09\" r=\"18\"/>\n",
       "<circle clip-path=\"url(#clip0002)\" style=\"fill:#ffc0cb; stroke:none; fill-opacity:1\" cx=\"658.225\" cy=\"1349.09\" r=\"14\"/>\n",
       "<circle clip-path=\"url(#clip0002)\" style=\"fill:#000000; stroke:none; fill-opacity:1\" cx=\"672.455\" cy=\"1332.82\" r=\"18\"/>\n",
       "<circle clip-path=\"url(#clip0002)\" style=\"fill:#ffc0cb; stroke:none; fill-opacity:1\" cx=\"672.455\" cy=\"1332.82\" r=\"14\"/>\n",
       "<circle clip-path=\"url(#clip0002)\" style=\"fill:#000000; stroke:none; fill-opacity:1\" cx=\"686.685\" cy=\"1334.21\" r=\"18\"/>\n",
       "<circle clip-path=\"url(#clip0002)\" style=\"fill:#ffc0cb; stroke:none; fill-opacity:1\" cx=\"686.685\" cy=\"1334.21\" r=\"14\"/>\n",
       "<circle clip-path=\"url(#clip0002)\" style=\"fill:#000000; stroke:none; fill-opacity:1\" cx=\"700.915\" cy=\"1325.4\" r=\"18\"/>\n",
       "<circle clip-path=\"url(#clip0002)\" style=\"fill:#ffc0cb; stroke:none; fill-opacity:1\" cx=\"700.915\" cy=\"1325.4\" r=\"14\"/>\n",
       "<circle clip-path=\"url(#clip0002)\" style=\"fill:#000000; stroke:none; fill-opacity:1\" cx=\"715.145\" cy=\"1314.7\" r=\"18\"/>\n",
       "<circle clip-path=\"url(#clip0002)\" style=\"fill:#ffc0cb; stroke:none; fill-opacity:1\" cx=\"715.145\" cy=\"1314.7\" r=\"14\"/>\n",
       "<circle clip-path=\"url(#clip0002)\" style=\"fill:#000000; stroke:none; fill-opacity:1\" cx=\"729.376\" cy=\"1312.28\" r=\"18\"/>\n",
       "<circle clip-path=\"url(#clip0002)\" style=\"fill:#ffc0cb; stroke:none; fill-opacity:1\" cx=\"729.376\" cy=\"1312.28\" r=\"14\"/>\n",
       "<circle clip-path=\"url(#clip0002)\" style=\"fill:#000000; stroke:none; fill-opacity:1\" cx=\"743.606\" cy=\"1296.97\" r=\"18\"/>\n",
       "<circle clip-path=\"url(#clip0002)\" style=\"fill:#ffc0cb; stroke:none; fill-opacity:1\" cx=\"743.606\" cy=\"1296.97\" r=\"14\"/>\n",
       "<circle clip-path=\"url(#clip0002)\" style=\"fill:#000000; stroke:none; fill-opacity:1\" cx=\"757.836\" cy=\"1286.61\" r=\"18\"/>\n",
       "<circle clip-path=\"url(#clip0002)\" style=\"fill:#ffc0cb; stroke:none; fill-opacity:1\" cx=\"757.836\" cy=\"1286.61\" r=\"14\"/>\n",
       "<circle clip-path=\"url(#clip0002)\" style=\"fill:#000000; stroke:none; fill-opacity:1\" cx=\"772.066\" cy=\"1278.11\" r=\"18\"/>\n",
       "<circle clip-path=\"url(#clip0002)\" style=\"fill:#ffc0cb; stroke:none; fill-opacity:1\" cx=\"772.066\" cy=\"1278.11\" r=\"14\"/>\n",
       "<circle clip-path=\"url(#clip0002)\" style=\"fill:#000000; stroke:none; fill-opacity:1\" cx=\"786.296\" cy=\"1245.69\" r=\"18\"/>\n",
       "<circle clip-path=\"url(#clip0002)\" style=\"fill:#ffc0cb; stroke:none; fill-opacity:1\" cx=\"786.296\" cy=\"1245.69\" r=\"14\"/>\n",
       "<circle clip-path=\"url(#clip0002)\" style=\"fill:#000000; stroke:none; fill-opacity:1\" cx=\"800.527\" cy=\"1231.34\" r=\"18\"/>\n",
       "<circle clip-path=\"url(#clip0002)\" style=\"fill:#ffc0cb; stroke:none; fill-opacity:1\" cx=\"800.527\" cy=\"1231.34\" r=\"14\"/>\n",
       "<circle clip-path=\"url(#clip0002)\" style=\"fill:#000000; stroke:none; fill-opacity:1\" cx=\"814.757\" cy=\"1139.34\" r=\"18\"/>\n",
       "<circle clip-path=\"url(#clip0002)\" style=\"fill:#ffc0cb; stroke:none; fill-opacity:1\" cx=\"814.757\" cy=\"1139.34\" r=\"14\"/>\n",
       "<circle clip-path=\"url(#clip0002)\" style=\"fill:#000000; stroke:none; fill-opacity:1\" cx=\"828.987\" cy=\"1095.63\" r=\"18\"/>\n",
       "<circle clip-path=\"url(#clip0002)\" style=\"fill:#ffc0cb; stroke:none; fill-opacity:1\" cx=\"828.987\" cy=\"1095.63\" r=\"14\"/>\n",
       "<circle clip-path=\"url(#clip0002)\" style=\"fill:#000000; stroke:none; fill-opacity:1\" cx=\"843.217\" cy=\"1005.47\" r=\"18\"/>\n",
       "<circle clip-path=\"url(#clip0002)\" style=\"fill:#ffc0cb; stroke:none; fill-opacity:1\" cx=\"843.217\" cy=\"1005.47\" r=\"14\"/>\n",
       "<circle clip-path=\"url(#clip0002)\" style=\"fill:#000000; stroke:none; fill-opacity:1\" cx=\"857.447\" cy=\"859.189\" r=\"18\"/>\n",
       "<circle clip-path=\"url(#clip0002)\" style=\"fill:#ffc0cb; stroke:none; fill-opacity:1\" cx=\"857.447\" cy=\"859.189\" r=\"14\"/>\n",
       "<circle clip-path=\"url(#clip0002)\" style=\"fill:#000000; stroke:none; fill-opacity:1\" cx=\"871.678\" cy=\"819.406\" r=\"18\"/>\n",
       "<circle clip-path=\"url(#clip0002)\" style=\"fill:#ffc0cb; stroke:none; fill-opacity:1\" cx=\"871.678\" cy=\"819.406\" r=\"14\"/>\n",
       "<circle clip-path=\"url(#clip0002)\" style=\"fill:#000000; stroke:none; fill-opacity:1\" cx=\"885.908\" cy=\"795.09\" r=\"18\"/>\n",
       "<circle clip-path=\"url(#clip0002)\" style=\"fill:#ffc0cb; stroke:none; fill-opacity:1\" cx=\"885.908\" cy=\"795.09\" r=\"14\"/>\n",
       "<circle clip-path=\"url(#clip0002)\" style=\"fill:#000000; stroke:none; fill-opacity:1\" cx=\"900.138\" cy=\"744.843\" r=\"18\"/>\n",
       "<circle clip-path=\"url(#clip0002)\" style=\"fill:#ffc0cb; stroke:none; fill-opacity:1\" cx=\"900.138\" cy=\"744.843\" r=\"14\"/>\n",
       "<circle clip-path=\"url(#clip0002)\" style=\"fill:#000000; stroke:none; fill-opacity:1\" cx=\"914.368\" cy=\"762.949\" r=\"18\"/>\n",
       "<circle clip-path=\"url(#clip0002)\" style=\"fill:#ffc0cb; stroke:none; fill-opacity:1\" cx=\"914.368\" cy=\"762.949\" r=\"14\"/>\n",
       "<circle clip-path=\"url(#clip0002)\" style=\"fill:#000000; stroke:none; fill-opacity:1\" cx=\"928.598\" cy=\"718.103\" r=\"18\"/>\n",
       "<circle clip-path=\"url(#clip0002)\" style=\"fill:#ffc0cb; stroke:none; fill-opacity:1\" cx=\"928.598\" cy=\"718.103\" r=\"14\"/>\n",
       "<circle clip-path=\"url(#clip0002)\" style=\"fill:#000000; stroke:none; fill-opacity:1\" cx=\"942.829\" cy=\"695.239\" r=\"18\"/>\n",
       "<circle clip-path=\"url(#clip0002)\" style=\"fill:#ffc0cb; stroke:none; fill-opacity:1\" cx=\"942.829\" cy=\"695.239\" r=\"14\"/>\n",
       "<circle clip-path=\"url(#clip0002)\" style=\"fill:#000000; stroke:none; fill-opacity:1\" cx=\"957.059\" cy=\"716.35\" r=\"18\"/>\n",
       "<circle clip-path=\"url(#clip0002)\" style=\"fill:#ffc0cb; stroke:none; fill-opacity:1\" cx=\"957.059\" cy=\"716.35\" r=\"14\"/>\n",
       "<circle clip-path=\"url(#clip0002)\" style=\"fill:#000000; stroke:none; fill-opacity:1\" cx=\"971.289\" cy=\"712.806\" r=\"18\"/>\n",
       "<circle clip-path=\"url(#clip0002)\" style=\"fill:#ffc0cb; stroke:none; fill-opacity:1\" cx=\"971.289\" cy=\"712.806\" r=\"14\"/>\n",
       "<circle clip-path=\"url(#clip0002)\" style=\"fill:#000000; stroke:none; fill-opacity:1\" cx=\"985.519\" cy=\"684.798\" r=\"18\"/>\n",
       "<circle clip-path=\"url(#clip0002)\" style=\"fill:#ffc0cb; stroke:none; fill-opacity:1\" cx=\"985.519\" cy=\"684.798\" r=\"14\"/>\n",
       "<circle clip-path=\"url(#clip0002)\" style=\"fill:#000000; stroke:none; fill-opacity:1\" cx=\"999.749\" cy=\"705.538\" r=\"18\"/>\n",
       "<circle clip-path=\"url(#clip0002)\" style=\"fill:#ffc0cb; stroke:none; fill-opacity:1\" cx=\"999.749\" cy=\"705.538\" r=\"14\"/>\n",
       "<circle clip-path=\"url(#clip0002)\" style=\"fill:#000000; stroke:none; fill-opacity:1\" cx=\"1013.98\" cy=\"726.597\" r=\"18\"/>\n",
       "<circle clip-path=\"url(#clip0002)\" style=\"fill:#ffc0cb; stroke:none; fill-opacity:1\" cx=\"1013.98\" cy=\"726.597\" r=\"14\"/>\n",
       "<circle clip-path=\"url(#clip0002)\" style=\"fill:#000000; stroke:none; fill-opacity:1\" cx=\"1028.21\" cy=\"721.991\" r=\"18\"/>\n",
       "<circle clip-path=\"url(#clip0002)\" style=\"fill:#ffc0cb; stroke:none; fill-opacity:1\" cx=\"1028.21\" cy=\"721.991\" r=\"14\"/>\n",
       "<circle clip-path=\"url(#clip0002)\" style=\"fill:#000000; stroke:none; fill-opacity:1\" cx=\"1042.44\" cy=\"747.779\" r=\"18\"/>\n",
       "<circle clip-path=\"url(#clip0002)\" style=\"fill:#ffc0cb; stroke:none; fill-opacity:1\" cx=\"1042.44\" cy=\"747.779\" r=\"14\"/>\n",
       "<circle clip-path=\"url(#clip0002)\" style=\"fill:#000000; stroke:none; fill-opacity:1\" cx=\"1056.67\" cy=\"771.924\" r=\"18\"/>\n",
       "<circle clip-path=\"url(#clip0002)\" style=\"fill:#ffc0cb; stroke:none; fill-opacity:1\" cx=\"1056.67\" cy=\"771.924\" r=\"14\"/>\n",
       "<circle clip-path=\"url(#clip0002)\" style=\"fill:#000000; stroke:none; fill-opacity:1\" cx=\"1070.9\" cy=\"765.766\" r=\"18\"/>\n",
       "<circle clip-path=\"url(#clip0002)\" style=\"fill:#ffc0cb; stroke:none; fill-opacity:1\" cx=\"1070.9\" cy=\"765.766\" r=\"14\"/>\n",
       "<circle clip-path=\"url(#clip0002)\" style=\"fill:#000000; stroke:none; fill-opacity:1\" cx=\"1085.13\" cy=\"806.077\" r=\"18\"/>\n",
       "<circle clip-path=\"url(#clip0002)\" style=\"fill:#ffc0cb; stroke:none; fill-opacity:1\" cx=\"1085.13\" cy=\"806.077\" r=\"14\"/>\n",
       "<circle clip-path=\"url(#clip0002)\" style=\"fill:#000000; stroke:none; fill-opacity:1\" cx=\"1099.36\" cy=\"804.475\" r=\"18\"/>\n",
       "<circle clip-path=\"url(#clip0002)\" style=\"fill:#ffc0cb; stroke:none; fill-opacity:1\" cx=\"1099.36\" cy=\"804.475\" r=\"14\"/>\n",
       "<circle clip-path=\"url(#clip0002)\" style=\"fill:#000000; stroke:none; fill-opacity:1\" cx=\"1113.59\" cy=\"843.456\" r=\"18\"/>\n",
       "<circle clip-path=\"url(#clip0002)\" style=\"fill:#ffc0cb; stroke:none; fill-opacity:1\" cx=\"1113.59\" cy=\"843.456\" r=\"14\"/>\n",
       "<circle clip-path=\"url(#clip0002)\" style=\"fill:#000000; stroke:none; fill-opacity:1\" cx=\"1127.82\" cy=\"819.569\" r=\"18\"/>\n",
       "<circle clip-path=\"url(#clip0002)\" style=\"fill:#ffc0cb; stroke:none; fill-opacity:1\" cx=\"1127.82\" cy=\"819.569\" r=\"14\"/>\n",
       "<circle clip-path=\"url(#clip0002)\" style=\"fill:#000000; stroke:none; fill-opacity:1\" cx=\"1142.05\" cy=\"816.67\" r=\"18\"/>\n",
       "<circle clip-path=\"url(#clip0002)\" style=\"fill:#ffc0cb; stroke:none; fill-opacity:1\" cx=\"1142.05\" cy=\"816.67\" r=\"14\"/>\n",
       "<circle clip-path=\"url(#clip0002)\" style=\"fill:#000000; stroke:none; fill-opacity:1\" cx=\"1156.28\" cy=\"822.083\" r=\"18\"/>\n",
       "<circle clip-path=\"url(#clip0002)\" style=\"fill:#ffc0cb; stroke:none; fill-opacity:1\" cx=\"1156.28\" cy=\"822.083\" r=\"14\"/>\n",
       "<circle clip-path=\"url(#clip0002)\" style=\"fill:#000000; stroke:none; fill-opacity:1\" cx=\"1170.51\" cy=\"806.53\" r=\"18\"/>\n",
       "<circle clip-path=\"url(#clip0002)\" style=\"fill:#ffc0cb; stroke:none; fill-opacity:1\" cx=\"1170.51\" cy=\"806.53\" r=\"14\"/>\n",
       "<circle clip-path=\"url(#clip0002)\" style=\"fill:#000000; stroke:none; fill-opacity:1\" cx=\"1184.74\" cy=\"780.588\" r=\"18\"/>\n",
       "<circle clip-path=\"url(#clip0002)\" style=\"fill:#ffc0cb; stroke:none; fill-opacity:1\" cx=\"1184.74\" cy=\"780.588\" r=\"14\"/>\n",
       "<circle clip-path=\"url(#clip0002)\" style=\"fill:#000000; stroke:none; fill-opacity:1\" cx=\"1198.97\" cy=\"785.023\" r=\"18\"/>\n",
       "<circle clip-path=\"url(#clip0002)\" style=\"fill:#ffc0cb; stroke:none; fill-opacity:1\" cx=\"1198.97\" cy=\"785.023\" r=\"14\"/>\n",
       "<circle clip-path=\"url(#clip0002)\" style=\"fill:#000000; stroke:none; fill-opacity:1\" cx=\"1213.2\" cy=\"754.229\" r=\"18\"/>\n",
       "<circle clip-path=\"url(#clip0002)\" style=\"fill:#ffc0cb; stroke:none; fill-opacity:1\" cx=\"1213.2\" cy=\"754.229\" r=\"14\"/>\n",
       "<circle clip-path=\"url(#clip0002)\" style=\"fill:#000000; stroke:none; fill-opacity:1\" cx=\"1227.43\" cy=\"711.734\" r=\"18\"/>\n",
       "<circle clip-path=\"url(#clip0002)\" style=\"fill:#ffc0cb; stroke:none; fill-opacity:1\" cx=\"1227.43\" cy=\"711.734\" r=\"14\"/>\n",
       "<circle clip-path=\"url(#clip0002)\" style=\"fill:#000000; stroke:none; fill-opacity:1\" cx=\"1241.66\" cy=\"617.887\" r=\"18\"/>\n",
       "<circle clip-path=\"url(#clip0002)\" style=\"fill:#ffc0cb; stroke:none; fill-opacity:1\" cx=\"1241.66\" cy=\"617.887\" r=\"14\"/>\n",
       "<circle clip-path=\"url(#clip0002)\" style=\"fill:#000000; stroke:none; fill-opacity:1\" cx=\"1255.89\" cy=\"588.566\" r=\"18\"/>\n",
       "<circle clip-path=\"url(#clip0002)\" style=\"fill:#ffc0cb; stroke:none; fill-opacity:1\" cx=\"1255.89\" cy=\"588.566\" r=\"14\"/>\n",
       "<circle clip-path=\"url(#clip0002)\" style=\"fill:#000000; stroke:none; fill-opacity:1\" cx=\"1270.12\" cy=\"633.307\" r=\"18\"/>\n",
       "<circle clip-path=\"url(#clip0002)\" style=\"fill:#ffc0cb; stroke:none; fill-opacity:1\" cx=\"1270.12\" cy=\"633.307\" r=\"14\"/>\n",
       "<circle clip-path=\"url(#clip0002)\" style=\"fill:#000000; stroke:none; fill-opacity:1\" cx=\"1284.35\" cy=\"646.55\" r=\"18\"/>\n",
       "<circle clip-path=\"url(#clip0002)\" style=\"fill:#ffc0cb; stroke:none; fill-opacity:1\" cx=\"1284.35\" cy=\"646.55\" r=\"14\"/>\n",
       "<circle clip-path=\"url(#clip0002)\" style=\"fill:#000000; stroke:none; fill-opacity:1\" cx=\"1298.58\" cy=\"472.709\" r=\"18\"/>\n",
       "<circle clip-path=\"url(#clip0002)\" style=\"fill:#ffc0cb; stroke:none; fill-opacity:1\" cx=\"1298.58\" cy=\"472.709\" r=\"14\"/>\n",
       "<circle clip-path=\"url(#clip0002)\" style=\"fill:#000000; stroke:none; fill-opacity:1\" cx=\"1312.81\" cy=\"340.148\" r=\"18\"/>\n",
       "<circle clip-path=\"url(#clip0002)\" style=\"fill:#ffc0cb; stroke:none; fill-opacity:1\" cx=\"1312.81\" cy=\"340.148\" r=\"14\"/>\n",
       "<circle clip-path=\"url(#clip0002)\" style=\"fill:#000000; stroke:none; fill-opacity:1\" cx=\"1327.04\" cy=\"389.411\" r=\"18\"/>\n",
       "<circle clip-path=\"url(#clip0002)\" style=\"fill:#ffc0cb; stroke:none; fill-opacity:1\" cx=\"1327.04\" cy=\"389.411\" r=\"14\"/>\n",
       "<circle clip-path=\"url(#clip0002)\" style=\"fill:#000000; stroke:none; fill-opacity:1\" cx=\"1341.27\" cy=\"380.845\" r=\"18\"/>\n",
       "<circle clip-path=\"url(#clip0002)\" style=\"fill:#ffc0cb; stroke:none; fill-opacity:1\" cx=\"1341.27\" cy=\"380.845\" r=\"14\"/>\n",
       "<circle clip-path=\"url(#clip0002)\" style=\"fill:#000000; stroke:none; fill-opacity:1\" cx=\"1355.5\" cy=\"379.248\" r=\"18\"/>\n",
       "<circle clip-path=\"url(#clip0002)\" style=\"fill:#ffc0cb; stroke:none; fill-opacity:1\" cx=\"1355.5\" cy=\"379.248\" r=\"14\"/>\n",
       "<circle clip-path=\"url(#clip0002)\" style=\"fill:#000000; stroke:none; fill-opacity:1\" cx=\"1369.73\" cy=\"321.58\" r=\"18\"/>\n",
       "<circle clip-path=\"url(#clip0002)\" style=\"fill:#ffc0cb; stroke:none; fill-opacity:1\" cx=\"1369.73\" cy=\"321.58\" r=\"14\"/>\n",
       "<circle clip-path=\"url(#clip0002)\" style=\"fill:#000000; stroke:none; fill-opacity:1\" cx=\"1383.96\" cy=\"286.392\" r=\"18\"/>\n",
       "<circle clip-path=\"url(#clip0002)\" style=\"fill:#ffc0cb; stroke:none; fill-opacity:1\" cx=\"1383.96\" cy=\"286.392\" r=\"14\"/>\n",
       "<circle clip-path=\"url(#clip0002)\" style=\"fill:#000000; stroke:none; fill-opacity:1\" cx=\"1398.19\" cy=\"268.972\" r=\"18\"/>\n",
       "<circle clip-path=\"url(#clip0002)\" style=\"fill:#ffc0cb; stroke:none; fill-opacity:1\" cx=\"1398.19\" cy=\"268.972\" r=\"14\"/>\n",
       "<circle clip-path=\"url(#clip0002)\" style=\"fill:#000000; stroke:none; fill-opacity:1\" cx=\"1412.42\" cy=\"228.729\" r=\"18\"/>\n",
       "<circle clip-path=\"url(#clip0002)\" style=\"fill:#ffc0cb; stroke:none; fill-opacity:1\" cx=\"1412.42\" cy=\"228.729\" r=\"14\"/>\n",
       "<circle clip-path=\"url(#clip0002)\" style=\"fill:#000000; stroke:none; fill-opacity:1\" cx=\"1426.66\" cy=\"220.356\" r=\"18\"/>\n",
       "<circle clip-path=\"url(#clip0002)\" style=\"fill:#ffc0cb; stroke:none; fill-opacity:1\" cx=\"1426.66\" cy=\"220.356\" r=\"14\"/>\n",
       "<circle clip-path=\"url(#clip0002)\" style=\"fill:#000000; stroke:none; fill-opacity:1\" cx=\"1440.89\" cy=\"185.644\" r=\"18\"/>\n",
       "<circle clip-path=\"url(#clip0002)\" style=\"fill:#ffc0cb; stroke:none; fill-opacity:1\" cx=\"1440.89\" cy=\"185.644\" r=\"14\"/>\n",
       "<circle clip-path=\"url(#clip0002)\" style=\"fill:#000000; stroke:none; fill-opacity:1\" cx=\"1455.12\" cy=\"161.469\" r=\"18\"/>\n",
       "<circle clip-path=\"url(#clip0002)\" style=\"fill:#ffc0cb; stroke:none; fill-opacity:1\" cx=\"1455.12\" cy=\"161.469\" r=\"14\"/>\n",
       "<circle clip-path=\"url(#clip0002)\" style=\"fill:#000000; stroke:none; fill-opacity:1\" cx=\"1469.35\" cy=\"183.343\" r=\"18\"/>\n",
       "<circle clip-path=\"url(#clip0002)\" style=\"fill:#ffc0cb; stroke:none; fill-opacity:1\" cx=\"1469.35\" cy=\"183.343\" r=\"14\"/>\n",
       "<circle clip-path=\"url(#clip0002)\" style=\"fill:#000000; stroke:none; fill-opacity:1\" cx=\"1483.58\" cy=\"175.361\" r=\"18\"/>\n",
       "<circle clip-path=\"url(#clip0002)\" style=\"fill:#ffc0cb; stroke:none; fill-opacity:1\" cx=\"1483.58\" cy=\"175.361\" r=\"14\"/>\n",
       "<circle clip-path=\"url(#clip0002)\" style=\"fill:#000000; stroke:none; fill-opacity:1\" cx=\"1497.81\" cy=\"176.025\" r=\"18\"/>\n",
       "<circle clip-path=\"url(#clip0002)\" style=\"fill:#ffc0cb; stroke:none; fill-opacity:1\" cx=\"1497.81\" cy=\"176.025\" r=\"14\"/>\n",
       "<circle clip-path=\"url(#clip0002)\" style=\"fill:#000000; stroke:none; fill-opacity:1\" cx=\"1512.04\" cy=\"179.049\" r=\"18\"/>\n",
       "<circle clip-path=\"url(#clip0002)\" style=\"fill:#ffc0cb; stroke:none; fill-opacity:1\" cx=\"1512.04\" cy=\"179.049\" r=\"14\"/>\n",
       "<circle clip-path=\"url(#clip0002)\" style=\"fill:#000000; stroke:none; fill-opacity:1\" cx=\"1526.27\" cy=\"212.537\" r=\"18\"/>\n",
       "<circle clip-path=\"url(#clip0002)\" style=\"fill:#ffc0cb; stroke:none; fill-opacity:1\" cx=\"1526.27\" cy=\"212.537\" r=\"14\"/>\n",
       "<circle clip-path=\"url(#clip0002)\" style=\"fill:#000000; stroke:none; fill-opacity:1\" cx=\"1540.5\" cy=\"238.406\" r=\"18\"/>\n",
       "<circle clip-path=\"url(#clip0002)\" style=\"fill:#ffc0cb; stroke:none; fill-opacity:1\" cx=\"1540.5\" cy=\"238.406\" r=\"14\"/>\n",
       "<circle clip-path=\"url(#clip0002)\" style=\"fill:#000000; stroke:none; fill-opacity:1\" cx=\"1554.73\" cy=\"259.834\" r=\"18\"/>\n",
       "<circle clip-path=\"url(#clip0002)\" style=\"fill:#ffc0cb; stroke:none; fill-opacity:1\" cx=\"1554.73\" cy=\"259.834\" r=\"14\"/>\n",
       "<circle clip-path=\"url(#clip0002)\" style=\"fill:#000000; stroke:none; fill-opacity:1\" cx=\"1568.96\" cy=\"345.127\" r=\"18\"/>\n",
       "<circle clip-path=\"url(#clip0002)\" style=\"fill:#ffc0cb; stroke:none; fill-opacity:1\" cx=\"1568.96\" cy=\"345.127\" r=\"14\"/>\n",
       "<circle clip-path=\"url(#clip0002)\" style=\"fill:#000000; stroke:none; fill-opacity:1\" cx=\"1583.19\" cy=\"393.26\" r=\"18\"/>\n",
       "<circle clip-path=\"url(#clip0002)\" style=\"fill:#ffc0cb; stroke:none; fill-opacity:1\" cx=\"1583.19\" cy=\"393.26\" r=\"14\"/>\n",
       "<circle clip-path=\"url(#clip0002)\" style=\"fill:#000000; stroke:none; fill-opacity:1\" cx=\"1597.42\" cy=\"420.293\" r=\"18\"/>\n",
       "<circle clip-path=\"url(#clip0002)\" style=\"fill:#ffc0cb; stroke:none; fill-opacity:1\" cx=\"1597.42\" cy=\"420.293\" r=\"14\"/>\n",
       "<circle clip-path=\"url(#clip0002)\" style=\"fill:#000000; stroke:none; fill-opacity:1\" cx=\"1611.65\" cy=\"427.3\" r=\"18\"/>\n",
       "<circle clip-path=\"url(#clip0002)\" style=\"fill:#ffc0cb; stroke:none; fill-opacity:1\" cx=\"1611.65\" cy=\"427.3\" r=\"14\"/>\n",
       "<circle clip-path=\"url(#clip0002)\" style=\"fill:#000000; stroke:none; fill-opacity:1\" cx=\"1625.88\" cy=\"396.503\" r=\"18\"/>\n",
       "<circle clip-path=\"url(#clip0002)\" style=\"fill:#ffc0cb; stroke:none; fill-opacity:1\" cx=\"1625.88\" cy=\"396.503\" r=\"14\"/>\n",
       "<circle clip-path=\"url(#clip0002)\" style=\"fill:#000000; stroke:none; fill-opacity:1\" cx=\"1640.11\" cy=\"356.21\" r=\"18\"/>\n",
       "<circle clip-path=\"url(#clip0002)\" style=\"fill:#ffc0cb; stroke:none; fill-opacity:1\" cx=\"1640.11\" cy=\"356.21\" r=\"14\"/>\n",
       "<circle clip-path=\"url(#clip0002)\" style=\"fill:#000000; stroke:none; fill-opacity:1\" cx=\"1654.34\" cy=\"411.905\" r=\"18\"/>\n",
       "<circle clip-path=\"url(#clip0002)\" style=\"fill:#ffc0cb; stroke:none; fill-opacity:1\" cx=\"1654.34\" cy=\"411.905\" r=\"14\"/>\n",
       "<circle clip-path=\"url(#clip0002)\" style=\"fill:#000000; stroke:none; fill-opacity:1\" cx=\"1668.57\" cy=\"505.607\" r=\"18\"/>\n",
       "<circle clip-path=\"url(#clip0002)\" style=\"fill:#ffc0cb; stroke:none; fill-opacity:1\" cx=\"1668.57\" cy=\"505.607\" r=\"14\"/>\n",
       "<circle clip-path=\"url(#clip0002)\" style=\"fill:#000000; stroke:none; fill-opacity:1\" cx=\"1682.8\" cy=\"547.072\" r=\"18\"/>\n",
       "<circle clip-path=\"url(#clip0002)\" style=\"fill:#ffc0cb; stroke:none; fill-opacity:1\" cx=\"1682.8\" cy=\"547.072\" r=\"14\"/>\n",
       "<circle clip-path=\"url(#clip0002)\" style=\"fill:#000000; stroke:none; fill-opacity:1\" cx=\"1697.03\" cy=\"540.989\" r=\"18\"/>\n",
       "<circle clip-path=\"url(#clip0002)\" style=\"fill:#ffc0cb; stroke:none; fill-opacity:1\" cx=\"1697.03\" cy=\"540.989\" r=\"14\"/>\n",
       "<circle clip-path=\"url(#clip0002)\" style=\"fill:#000000; stroke:none; fill-opacity:1\" cx=\"1711.26\" cy=\"547.331\" r=\"18\"/>\n",
       "<circle clip-path=\"url(#clip0002)\" style=\"fill:#ffc0cb; stroke:none; fill-opacity:1\" cx=\"1711.26\" cy=\"547.331\" r=\"14\"/>\n",
       "<circle clip-path=\"url(#clip0002)\" style=\"fill:#000000; stroke:none; fill-opacity:1\" cx=\"1725.49\" cy=\"542.486\" r=\"18\"/>\n",
       "<circle clip-path=\"url(#clip0002)\" style=\"fill:#ffc0cb; stroke:none; fill-opacity:1\" cx=\"1725.49\" cy=\"542.486\" r=\"14\"/>\n",
       "<circle clip-path=\"url(#clip0002)\" style=\"fill:#000000; stroke:none; fill-opacity:1\" cx=\"1739.72\" cy=\"497.772\" r=\"18\"/>\n",
       "<circle clip-path=\"url(#clip0002)\" style=\"fill:#ffc0cb; stroke:none; fill-opacity:1\" cx=\"1739.72\" cy=\"497.772\" r=\"14\"/>\n",
       "<circle clip-path=\"url(#clip0002)\" style=\"fill:#000000; stroke:none; fill-opacity:1\" cx=\"1753.95\" cy=\"498.635\" r=\"18\"/>\n",
       "<circle clip-path=\"url(#clip0002)\" style=\"fill:#ffc0cb; stroke:none; fill-opacity:1\" cx=\"1753.95\" cy=\"498.635\" r=\"14\"/>\n",
       "<circle clip-path=\"url(#clip0002)\" style=\"fill:#000000; stroke:none; fill-opacity:1\" cx=\"1768.18\" cy=\"450.355\" r=\"18\"/>\n",
       "<circle clip-path=\"url(#clip0002)\" style=\"fill:#ffc0cb; stroke:none; fill-opacity:1\" cx=\"1768.18\" cy=\"450.355\" r=\"14\"/>\n",
       "<circle clip-path=\"url(#clip0002)\" style=\"fill:#000000; stroke:none; fill-opacity:1\" cx=\"1782.41\" cy=\"414.193\" r=\"18\"/>\n",
       "<circle clip-path=\"url(#clip0002)\" style=\"fill:#ffc0cb; stroke:none; fill-opacity:1\" cx=\"1782.41\" cy=\"414.193\" r=\"14\"/>\n",
       "<circle clip-path=\"url(#clip0002)\" style=\"fill:#000000; stroke:none; fill-opacity:1\" cx=\"1796.64\" cy=\"409.237\" r=\"18\"/>\n",
       "<circle clip-path=\"url(#clip0002)\" style=\"fill:#ffc0cb; stroke:none; fill-opacity:1\" cx=\"1796.64\" cy=\"409.237\" r=\"14\"/>\n",
       "<circle clip-path=\"url(#clip0002)\" style=\"fill:#000000; stroke:none; fill-opacity:1\" cx=\"1810.87\" cy=\"392.61\" r=\"18\"/>\n",
       "<circle clip-path=\"url(#clip0002)\" style=\"fill:#ffc0cb; stroke:none; fill-opacity:1\" cx=\"1810.87\" cy=\"392.61\" r=\"14\"/>\n",
       "<circle clip-path=\"url(#clip0002)\" style=\"fill:#000000; stroke:none; fill-opacity:1\" cx=\"1825.1\" cy=\"407.54\" r=\"18\"/>\n",
       "<circle clip-path=\"url(#clip0002)\" style=\"fill:#ffc0cb; stroke:none; fill-opacity:1\" cx=\"1825.1\" cy=\"407.54\" r=\"14\"/>\n",
       "<circle clip-path=\"url(#clip0002)\" style=\"fill:#000000; stroke:none; fill-opacity:1\" cx=\"1839.33\" cy=\"399.004\" r=\"18\"/>\n",
       "<circle clip-path=\"url(#clip0002)\" style=\"fill:#ffc0cb; stroke:none; fill-opacity:1\" cx=\"1839.33\" cy=\"399.004\" r=\"14\"/>\n",
       "<circle clip-path=\"url(#clip0002)\" style=\"fill:#000000; stroke:none; fill-opacity:1\" cx=\"1853.56\" cy=\"374.617\" r=\"18\"/>\n",
       "<circle clip-path=\"url(#clip0002)\" style=\"fill:#ffc0cb; stroke:none; fill-opacity:1\" cx=\"1853.56\" cy=\"374.617\" r=\"14\"/>\n",
       "<circle clip-path=\"url(#clip0002)\" style=\"fill:#000000; stroke:none; fill-opacity:1\" cx=\"1867.79\" cy=\"378.165\" r=\"18\"/>\n",
       "<circle clip-path=\"url(#clip0002)\" style=\"fill:#ffc0cb; stroke:none; fill-opacity:1\" cx=\"1867.79\" cy=\"378.165\" r=\"14\"/>\n",
       "<circle clip-path=\"url(#clip0002)\" style=\"fill:#000000; stroke:none; fill-opacity:1\" cx=\"1882.02\" cy=\"362.903\" r=\"18\"/>\n",
       "<circle clip-path=\"url(#clip0002)\" style=\"fill:#ffc0cb; stroke:none; fill-opacity:1\" cx=\"1882.02\" cy=\"362.903\" r=\"14\"/>\n",
       "<circle clip-path=\"url(#clip0002)\" style=\"fill:#000000; stroke:none; fill-opacity:1\" cx=\"1896.25\" cy=\"335.251\" r=\"18\"/>\n",
       "<circle clip-path=\"url(#clip0002)\" style=\"fill:#ffc0cb; stroke:none; fill-opacity:1\" cx=\"1896.25\" cy=\"335.251\" r=\"14\"/>\n",
       "<circle clip-path=\"url(#clip0002)\" style=\"fill:#000000; stroke:none; fill-opacity:1\" cx=\"1910.48\" cy=\"293.733\" r=\"18\"/>\n",
       "<circle clip-path=\"url(#clip0002)\" style=\"fill:#ffc0cb; stroke:none; fill-opacity:1\" cx=\"1910.48\" cy=\"293.733\" r=\"14\"/>\n",
       "<circle clip-path=\"url(#clip0002)\" style=\"fill:#000000; stroke:none; fill-opacity:1\" cx=\"1924.71\" cy=\"257.726\" r=\"18\"/>\n",
       "<circle clip-path=\"url(#clip0002)\" style=\"fill:#ffc0cb; stroke:none; fill-opacity:1\" cx=\"1924.71\" cy=\"257.726\" r=\"14\"/>\n",
       "<circle clip-path=\"url(#clip0002)\" style=\"fill:#000000; stroke:none; fill-opacity:1\" cx=\"1938.94\" cy=\"273.131\" r=\"18\"/>\n",
       "<circle clip-path=\"url(#clip0002)\" style=\"fill:#ffc0cb; stroke:none; fill-opacity:1\" cx=\"1938.94\" cy=\"273.131\" r=\"14\"/>\n",
       "<circle clip-path=\"url(#clip0002)\" style=\"fill:#000000; stroke:none; fill-opacity:1\" cx=\"1953.17\" cy=\"293.584\" r=\"18\"/>\n",
       "<circle clip-path=\"url(#clip0002)\" style=\"fill:#ffc0cb; stroke:none; fill-opacity:1\" cx=\"1953.17\" cy=\"293.584\" r=\"14\"/>\n",
       "<circle clip-path=\"url(#clip0002)\" style=\"fill:#000000; stroke:none; fill-opacity:1\" cx=\"1967.4\" cy=\"316.528\" r=\"18\"/>\n",
       "<circle clip-path=\"url(#clip0002)\" style=\"fill:#ffc0cb; stroke:none; fill-opacity:1\" cx=\"1967.4\" cy=\"316.528\" r=\"14\"/>\n",
       "<circle clip-path=\"url(#clip0002)\" style=\"fill:#000000; stroke:none; fill-opacity:1\" cx=\"1981.63\" cy=\"331.88\" r=\"18\"/>\n",
       "<circle clip-path=\"url(#clip0002)\" style=\"fill:#ffc0cb; stroke:none; fill-opacity:1\" cx=\"1981.63\" cy=\"331.88\" r=\"14\"/>\n",
       "<circle clip-path=\"url(#clip0002)\" style=\"fill:#000000; stroke:none; fill-opacity:1\" cx=\"1995.86\" cy=\"349.737\" r=\"18\"/>\n",
       "<circle clip-path=\"url(#clip0002)\" style=\"fill:#ffc0cb; stroke:none; fill-opacity:1\" cx=\"1995.86\" cy=\"349.737\" r=\"14\"/>\n",
       "<circle clip-path=\"url(#clip0002)\" style=\"fill:#000000; stroke:none; fill-opacity:1\" cx=\"2010.09\" cy=\"353.457\" r=\"18\"/>\n",
       "<circle clip-path=\"url(#clip0002)\" style=\"fill:#ffc0cb; stroke:none; fill-opacity:1\" cx=\"2010.09\" cy=\"353.457\" r=\"14\"/>\n",
       "<circle clip-path=\"url(#clip0002)\" style=\"fill:#000000; stroke:none; fill-opacity:1\" cx=\"2024.32\" cy=\"361.584\" r=\"18\"/>\n",
       "<circle clip-path=\"url(#clip0002)\" style=\"fill:#ffc0cb; stroke:none; fill-opacity:1\" cx=\"2024.32\" cy=\"361.584\" r=\"14\"/>\n",
       "<circle clip-path=\"url(#clip0002)\" style=\"fill:#000000; stroke:none; fill-opacity:1\" cx=\"2038.55\" cy=\"344.388\" r=\"18\"/>\n",
       "<circle clip-path=\"url(#clip0002)\" style=\"fill:#ffc0cb; stroke:none; fill-opacity:1\" cx=\"2038.55\" cy=\"344.388\" r=\"14\"/>\n",
       "<circle clip-path=\"url(#clip0002)\" style=\"fill:#000000; stroke:none; fill-opacity:1\" cx=\"2052.78\" cy=\"339.952\" r=\"18\"/>\n",
       "<circle clip-path=\"url(#clip0002)\" style=\"fill:#ffc0cb; stroke:none; fill-opacity:1\" cx=\"2052.78\" cy=\"339.952\" r=\"14\"/>\n",
       "<circle clip-path=\"url(#clip0002)\" style=\"fill:#000000; stroke:none; fill-opacity:1\" cx=\"2067.01\" cy=\"312.353\" r=\"18\"/>\n",
       "<circle clip-path=\"url(#clip0002)\" style=\"fill:#ffc0cb; stroke:none; fill-opacity:1\" cx=\"2067.01\" cy=\"312.353\" r=\"14\"/>\n",
       "<circle clip-path=\"url(#clip0002)\" style=\"fill:#000000; stroke:none; fill-opacity:1\" cx=\"2081.24\" cy=\"322.556\" r=\"18\"/>\n",
       "<circle clip-path=\"url(#clip0002)\" style=\"fill:#ffc0cb; stroke:none; fill-opacity:1\" cx=\"2081.24\" cy=\"322.556\" r=\"14\"/>\n",
       "<circle clip-path=\"url(#clip0002)\" style=\"fill:#000000; stroke:none; fill-opacity:1\" cx=\"2095.47\" cy=\"325.096\" r=\"18\"/>\n",
       "<circle clip-path=\"url(#clip0002)\" style=\"fill:#ffc0cb; stroke:none; fill-opacity:1\" cx=\"2095.47\" cy=\"325.096\" r=\"14\"/>\n",
       "<circle clip-path=\"url(#clip0002)\" style=\"fill:#000000; stroke:none; fill-opacity:1\" cx=\"2109.7\" cy=\"305.246\" r=\"18\"/>\n",
       "<circle clip-path=\"url(#clip0002)\" style=\"fill:#ffc0cb; stroke:none; fill-opacity:1\" cx=\"2109.7\" cy=\"305.246\" r=\"14\"/>\n",
       "<circle clip-path=\"url(#clip0002)\" style=\"fill:#000000; stroke:none; fill-opacity:1\" cx=\"2123.93\" cy=\"299.383\" r=\"18\"/>\n",
       "<circle clip-path=\"url(#clip0002)\" style=\"fill:#ffc0cb; stroke:none; fill-opacity:1\" cx=\"2123.93\" cy=\"299.383\" r=\"14\"/>\n",
       "<circle clip-path=\"url(#clip0002)\" style=\"fill:#000000; stroke:none; fill-opacity:1\" cx=\"2138.16\" cy=\"291.918\" r=\"18\"/>\n",
       "<circle clip-path=\"url(#clip0002)\" style=\"fill:#ffc0cb; stroke:none; fill-opacity:1\" cx=\"2138.16\" cy=\"291.918\" r=\"14\"/>\n",
       "<circle clip-path=\"url(#clip0002)\" style=\"fill:#000000; stroke:none; fill-opacity:1\" cx=\"2152.39\" cy=\"256.919\" r=\"18\"/>\n",
       "<circle clip-path=\"url(#clip0002)\" style=\"fill:#ffc0cb; stroke:none; fill-opacity:1\" cx=\"2152.39\" cy=\"256.919\" r=\"14\"/>\n",
       "<circle clip-path=\"url(#clip0002)\" style=\"fill:#000000; stroke:none; fill-opacity:1\" cx=\"2166.63\" cy=\"243.058\" r=\"18\"/>\n",
       "<circle clip-path=\"url(#clip0002)\" style=\"fill:#ffc0cb; stroke:none; fill-opacity:1\" cx=\"2166.63\" cy=\"243.058\" r=\"14\"/>\n",
       "<circle clip-path=\"url(#clip0002)\" style=\"fill:#000000; stroke:none; fill-opacity:1\" cx=\"2180.86\" cy=\"264.15\" r=\"18\"/>\n",
       "<circle clip-path=\"url(#clip0002)\" style=\"fill:#ffc0cb; stroke:none; fill-opacity:1\" cx=\"2180.86\" cy=\"264.15\" r=\"14\"/>\n",
       "<circle clip-path=\"url(#clip0002)\" style=\"fill:#000000; stroke:none; fill-opacity:1\" cx=\"2195.09\" cy=\"299.768\" r=\"18\"/>\n",
       "<circle clip-path=\"url(#clip0002)\" style=\"fill:#ffc0cb; stroke:none; fill-opacity:1\" cx=\"2195.09\" cy=\"299.768\" r=\"14\"/>\n",
       "<circle clip-path=\"url(#clip0002)\" style=\"fill:#000000; stroke:none; fill-opacity:1\" cx=\"2209.32\" cy=\"339.157\" r=\"18\"/>\n",
       "<circle clip-path=\"url(#clip0002)\" style=\"fill:#ffc0cb; stroke:none; fill-opacity:1\" cx=\"2209.32\" cy=\"339.157\" r=\"14\"/>\n",
       "<circle clip-path=\"url(#clip0002)\" style=\"fill:#000000; stroke:none; fill-opacity:1\" cx=\"2223.55\" cy=\"351.599\" r=\"18\"/>\n",
       "<circle clip-path=\"url(#clip0002)\" style=\"fill:#ffc0cb; stroke:none; fill-opacity:1\" cx=\"2223.55\" cy=\"351.599\" r=\"14\"/>\n",
       "<circle clip-path=\"url(#clip0002)\" style=\"fill:#000000; stroke:none; fill-opacity:1\" cx=\"2237.78\" cy=\"350.896\" r=\"18\"/>\n",
       "<circle clip-path=\"url(#clip0002)\" style=\"fill:#ffc0cb; stroke:none; fill-opacity:1\" cx=\"2237.78\" cy=\"350.896\" r=\"14\"/>\n",
       "<circle clip-path=\"url(#clip0002)\" style=\"fill:#000000; stroke:none; fill-opacity:1\" cx=\"2252.01\" cy=\"355.69\" r=\"18\"/>\n",
       "<circle clip-path=\"url(#clip0002)\" style=\"fill:#ffc0cb; stroke:none; fill-opacity:1\" cx=\"2252.01\" cy=\"355.69\" r=\"14\"/>\n",
       "<circle clip-path=\"url(#clip0002)\" style=\"fill:#000000; stroke:none; fill-opacity:1\" cx=\"2266.24\" cy=\"335.663\" r=\"18\"/>\n",
       "<circle clip-path=\"url(#clip0002)\" style=\"fill:#ffc0cb; stroke:none; fill-opacity:1\" cx=\"2266.24\" cy=\"335.663\" r=\"14\"/>\n",
       "<circle clip-path=\"url(#clip0002)\" style=\"fill:#000000; stroke:none; fill-opacity:1\" cx=\"2280.47\" cy=\"337.61\" r=\"18\"/>\n",
       "<circle clip-path=\"url(#clip0002)\" style=\"fill:#ffc0cb; stroke:none; fill-opacity:1\" cx=\"2280.47\" cy=\"337.61\" r=\"14\"/>\n",
       "<circle clip-path=\"url(#clip0002)\" style=\"fill:#000000; stroke:none; fill-opacity:1\" cx=\"2294.7\" cy=\"350.698\" r=\"18\"/>\n",
       "<circle clip-path=\"url(#clip0002)\" style=\"fill:#ffc0cb; stroke:none; fill-opacity:1\" cx=\"2294.7\" cy=\"350.698\" r=\"14\"/>\n",
       "<polyline clip-path=\"url(#clip0002)\" style=\"stroke:#0000ff; stroke-width:4; stroke-opacity:1; fill:none\" points=\"\n",
       "  359.391,1433.88 373.621,1440.3 387.851,1431.78 402.081,1437.74 416.311,1431.28 430.542,1435.65 444.772,1433.69 459.002,1439.86 473.232,1427.07 487.462,1433.82 \n",
       "  501.693,1433.53 515.923,1440 530.153,1426.29 544.383,1432.68 558.613,1430.41 572.844,1429.34 587.074,1427.91 601.304,1432.39 615.534,1425.86 629.764,1436.7 \n",
       "  643.995,1407.57 658.225,1436.53 672.455,1425.88 686.685,1428.13 700.915,1422.28 715.145,1419.52 729.376,1418.97 743.606,1409.97 757.836,1405.03 772.066,1398.67 \n",
       "  786.296,1378.79 800.527,1357.9 814.757,1223.68 828.987,1169.31 843.217,1075.75 857.447,948.202 871.678,920.894 885.908,897.601 900.138,839.682 914.368,861.653 \n",
       "  928.598,806.191 942.829,781.821 957.059,790.51 971.289,785.295 985.519,761.215 999.749,772.282 1013.98,775.841 1028.21,765.109 1042.44,777.787 1056.67,798.926 \n",
       "  1070.9,784.582 1085.13,822.675 1099.36,819.653 1113.59,854.331 1127.82,827.285 1142.05,821.548 1156.28,824.202 1170.51,804.873 1184.74,776.9 1198.97,778.4 \n",
       "  1213.2,743.971 1227.43,698.516 1241.66,597.985 1255.89,567.645 1270.12,609.953 1284.35,621.142 1298.58,438.103 1312.81,302.878 1327.04,352.14 1341.27,339.47 \n",
       "  1355.5,328.178 1369.73,267.382 1383.96,227.633 1398.19,209.649 1412.42,165.303 1426.66,152.274 1440.89,115.791 1455.12,88.0053 1469.35,111.07 1483.58,102.75 \n",
       "  1497.81,103.249 1512.04,109.864 1526.27,145.244 1540.5,169.733 1554.73,195.019 1568.96,281.899 1583.19,332.763 1597.42,358.729 1611.65,362.365 1625.88,329.069 \n",
       "  1640.11,283.002 1654.34,342.438 1668.57,438.87 1682.8,480.51 1697.03,471.466 1711.26,478.612 1725.49,473.543 1739.72,424.925 1753.95,425.812 1768.18,373.367 \n",
       "  1782.41,332.525 1796.64,327.907 1810.87,312.681 1825.1,327.302 1839.33,319.376 1853.56,290.952 1867.79,295.477 1882.02,278.752 1896.25,247.83 1910.48,190.461 \n",
       "  1924.71,155.84 1938.94,177.664 1953.17,192.826 1967.4,216.52 1981.63,235.72 1995.86,254.325 2010.09,260.54 2024.32,266.595 2038.55,249.395 2052.78,243.753 \n",
       "  2067.01,215.085 2081.24,229.001 2095.47,229.988 2109.7,207.793 2123.93,201.578 2138.16,193.556 2152.39,155.653 2166.63,142.552 2180.86,166.02 2195.09,203.407 \n",
       "  2209.32,246.283 2223.55,259.558 2237.78,261.573 2252.01,265.791 2266.24,247.531 2280.47,251.626 2294.7,269.087 \n",
       "  \"/>\n",
       "<circle clip-path=\"url(#clip0002)\" style=\"fill:#000000; stroke:none; fill-opacity:1\" cx=\"359.391\" cy=\"1433.88\" r=\"18\"/>\n",
       "<circle clip-path=\"url(#clip0002)\" style=\"fill:#0000ff; stroke:none; fill-opacity:1\" cx=\"359.391\" cy=\"1433.88\" r=\"14\"/>\n",
       "<circle clip-path=\"url(#clip0002)\" style=\"fill:#000000; stroke:none; fill-opacity:1\" cx=\"373.621\" cy=\"1440.3\" r=\"18\"/>\n",
       "<circle clip-path=\"url(#clip0002)\" style=\"fill:#0000ff; stroke:none; fill-opacity:1\" cx=\"373.621\" cy=\"1440.3\" r=\"14\"/>\n",
       "<circle clip-path=\"url(#clip0002)\" style=\"fill:#000000; stroke:none; fill-opacity:1\" cx=\"387.851\" cy=\"1431.78\" r=\"18\"/>\n",
       "<circle clip-path=\"url(#clip0002)\" style=\"fill:#0000ff; stroke:none; fill-opacity:1\" cx=\"387.851\" cy=\"1431.78\" r=\"14\"/>\n",
       "<circle clip-path=\"url(#clip0002)\" style=\"fill:#000000; stroke:none; fill-opacity:1\" cx=\"402.081\" cy=\"1437.74\" r=\"18\"/>\n",
       "<circle clip-path=\"url(#clip0002)\" style=\"fill:#0000ff; stroke:none; fill-opacity:1\" cx=\"402.081\" cy=\"1437.74\" r=\"14\"/>\n",
       "<circle clip-path=\"url(#clip0002)\" style=\"fill:#000000; stroke:none; fill-opacity:1\" cx=\"416.311\" cy=\"1431.28\" r=\"18\"/>\n",
       "<circle clip-path=\"url(#clip0002)\" style=\"fill:#0000ff; stroke:none; fill-opacity:1\" cx=\"416.311\" cy=\"1431.28\" r=\"14\"/>\n",
       "<circle clip-path=\"url(#clip0002)\" style=\"fill:#000000; stroke:none; fill-opacity:1\" cx=\"430.542\" cy=\"1435.65\" r=\"18\"/>\n",
       "<circle clip-path=\"url(#clip0002)\" style=\"fill:#0000ff; stroke:none; fill-opacity:1\" cx=\"430.542\" cy=\"1435.65\" r=\"14\"/>\n",
       "<circle clip-path=\"url(#clip0002)\" style=\"fill:#000000; stroke:none; fill-opacity:1\" cx=\"444.772\" cy=\"1433.69\" r=\"18\"/>\n",
       "<circle clip-path=\"url(#clip0002)\" style=\"fill:#0000ff; stroke:none; fill-opacity:1\" cx=\"444.772\" cy=\"1433.69\" r=\"14\"/>\n",
       "<circle clip-path=\"url(#clip0002)\" style=\"fill:#000000; stroke:none; fill-opacity:1\" cx=\"459.002\" cy=\"1439.86\" r=\"18\"/>\n",
       "<circle clip-path=\"url(#clip0002)\" style=\"fill:#0000ff; stroke:none; fill-opacity:1\" cx=\"459.002\" cy=\"1439.86\" r=\"14\"/>\n",
       "<circle clip-path=\"url(#clip0002)\" style=\"fill:#000000; stroke:none; fill-opacity:1\" cx=\"473.232\" cy=\"1427.07\" r=\"18\"/>\n",
       "<circle clip-path=\"url(#clip0002)\" style=\"fill:#0000ff; stroke:none; fill-opacity:1\" cx=\"473.232\" cy=\"1427.07\" r=\"14\"/>\n",
       "<circle clip-path=\"url(#clip0002)\" style=\"fill:#000000; stroke:none; fill-opacity:1\" cx=\"487.462\" cy=\"1433.82\" r=\"18\"/>\n",
       "<circle clip-path=\"url(#clip0002)\" style=\"fill:#0000ff; stroke:none; fill-opacity:1\" cx=\"487.462\" cy=\"1433.82\" r=\"14\"/>\n",
       "<circle clip-path=\"url(#clip0002)\" style=\"fill:#000000; stroke:none; fill-opacity:1\" cx=\"501.693\" cy=\"1433.53\" r=\"18\"/>\n",
       "<circle clip-path=\"url(#clip0002)\" style=\"fill:#0000ff; stroke:none; fill-opacity:1\" cx=\"501.693\" cy=\"1433.53\" r=\"14\"/>\n",
       "<circle clip-path=\"url(#clip0002)\" style=\"fill:#000000; stroke:none; fill-opacity:1\" cx=\"515.923\" cy=\"1440\" r=\"18\"/>\n",
       "<circle clip-path=\"url(#clip0002)\" style=\"fill:#0000ff; stroke:none; fill-opacity:1\" cx=\"515.923\" cy=\"1440\" r=\"14\"/>\n",
       "<circle clip-path=\"url(#clip0002)\" style=\"fill:#000000; stroke:none; fill-opacity:1\" cx=\"530.153\" cy=\"1426.29\" r=\"18\"/>\n",
       "<circle clip-path=\"url(#clip0002)\" style=\"fill:#0000ff; stroke:none; fill-opacity:1\" cx=\"530.153\" cy=\"1426.29\" r=\"14\"/>\n",
       "<circle clip-path=\"url(#clip0002)\" style=\"fill:#000000; stroke:none; fill-opacity:1\" cx=\"544.383\" cy=\"1432.68\" r=\"18\"/>\n",
       "<circle clip-path=\"url(#clip0002)\" style=\"fill:#0000ff; stroke:none; fill-opacity:1\" cx=\"544.383\" cy=\"1432.68\" r=\"14\"/>\n",
       "<circle clip-path=\"url(#clip0002)\" style=\"fill:#000000; stroke:none; fill-opacity:1\" cx=\"558.613\" cy=\"1430.41\" r=\"18\"/>\n",
       "<circle clip-path=\"url(#clip0002)\" style=\"fill:#0000ff; stroke:none; fill-opacity:1\" cx=\"558.613\" cy=\"1430.41\" r=\"14\"/>\n",
       "<circle clip-path=\"url(#clip0002)\" style=\"fill:#000000; stroke:none; fill-opacity:1\" cx=\"572.844\" cy=\"1429.34\" r=\"18\"/>\n",
       "<circle clip-path=\"url(#clip0002)\" style=\"fill:#0000ff; stroke:none; fill-opacity:1\" cx=\"572.844\" cy=\"1429.34\" r=\"14\"/>\n",
       "<circle clip-path=\"url(#clip0002)\" style=\"fill:#000000; stroke:none; fill-opacity:1\" cx=\"587.074\" cy=\"1427.91\" r=\"18\"/>\n",
       "<circle clip-path=\"url(#clip0002)\" style=\"fill:#0000ff; stroke:none; fill-opacity:1\" cx=\"587.074\" cy=\"1427.91\" r=\"14\"/>\n",
       "<circle clip-path=\"url(#clip0002)\" style=\"fill:#000000; stroke:none; fill-opacity:1\" cx=\"601.304\" cy=\"1432.39\" r=\"18\"/>\n",
       "<circle clip-path=\"url(#clip0002)\" style=\"fill:#0000ff; stroke:none; fill-opacity:1\" cx=\"601.304\" cy=\"1432.39\" r=\"14\"/>\n",
       "<circle clip-path=\"url(#clip0002)\" style=\"fill:#000000; stroke:none; fill-opacity:1\" cx=\"615.534\" cy=\"1425.86\" r=\"18\"/>\n",
       "<circle clip-path=\"url(#clip0002)\" style=\"fill:#0000ff; stroke:none; fill-opacity:1\" cx=\"615.534\" cy=\"1425.86\" r=\"14\"/>\n",
       "<circle clip-path=\"url(#clip0002)\" style=\"fill:#000000; stroke:none; fill-opacity:1\" cx=\"629.764\" cy=\"1436.7\" r=\"18\"/>\n",
       "<circle clip-path=\"url(#clip0002)\" style=\"fill:#0000ff; stroke:none; fill-opacity:1\" cx=\"629.764\" cy=\"1436.7\" r=\"14\"/>\n",
       "<circle clip-path=\"url(#clip0002)\" style=\"fill:#000000; stroke:none; fill-opacity:1\" cx=\"643.995\" cy=\"1407.57\" r=\"18\"/>\n",
       "<circle clip-path=\"url(#clip0002)\" style=\"fill:#0000ff; stroke:none; fill-opacity:1\" cx=\"643.995\" cy=\"1407.57\" r=\"14\"/>\n",
       "<circle clip-path=\"url(#clip0002)\" style=\"fill:#000000; stroke:none; fill-opacity:1\" cx=\"658.225\" cy=\"1436.53\" r=\"18\"/>\n",
       "<circle clip-path=\"url(#clip0002)\" style=\"fill:#0000ff; stroke:none; fill-opacity:1\" cx=\"658.225\" cy=\"1436.53\" r=\"14\"/>\n",
       "<circle clip-path=\"url(#clip0002)\" style=\"fill:#000000; stroke:none; fill-opacity:1\" cx=\"672.455\" cy=\"1425.88\" r=\"18\"/>\n",
       "<circle clip-path=\"url(#clip0002)\" style=\"fill:#0000ff; stroke:none; fill-opacity:1\" cx=\"672.455\" cy=\"1425.88\" r=\"14\"/>\n",
       "<circle clip-path=\"url(#clip0002)\" style=\"fill:#000000; stroke:none; fill-opacity:1\" cx=\"686.685\" cy=\"1428.13\" r=\"18\"/>\n",
       "<circle clip-path=\"url(#clip0002)\" style=\"fill:#0000ff; stroke:none; fill-opacity:1\" cx=\"686.685\" cy=\"1428.13\" r=\"14\"/>\n",
       "<circle clip-path=\"url(#clip0002)\" style=\"fill:#000000; stroke:none; fill-opacity:1\" cx=\"700.915\" cy=\"1422.28\" r=\"18\"/>\n",
       "<circle clip-path=\"url(#clip0002)\" style=\"fill:#0000ff; stroke:none; fill-opacity:1\" cx=\"700.915\" cy=\"1422.28\" r=\"14\"/>\n",
       "<circle clip-path=\"url(#clip0002)\" style=\"fill:#000000; stroke:none; fill-opacity:1\" cx=\"715.145\" cy=\"1419.52\" r=\"18\"/>\n",
       "<circle clip-path=\"url(#clip0002)\" style=\"fill:#0000ff; stroke:none; fill-opacity:1\" cx=\"715.145\" cy=\"1419.52\" r=\"14\"/>\n",
       "<circle clip-path=\"url(#clip0002)\" style=\"fill:#000000; stroke:none; fill-opacity:1\" cx=\"729.376\" cy=\"1418.97\" r=\"18\"/>\n",
       "<circle clip-path=\"url(#clip0002)\" style=\"fill:#0000ff; stroke:none; fill-opacity:1\" cx=\"729.376\" cy=\"1418.97\" r=\"14\"/>\n",
       "<circle clip-path=\"url(#clip0002)\" style=\"fill:#000000; stroke:none; fill-opacity:1\" cx=\"743.606\" cy=\"1409.97\" r=\"18\"/>\n",
       "<circle clip-path=\"url(#clip0002)\" style=\"fill:#0000ff; stroke:none; fill-opacity:1\" cx=\"743.606\" cy=\"1409.97\" r=\"14\"/>\n",
       "<circle clip-path=\"url(#clip0002)\" style=\"fill:#000000; stroke:none; fill-opacity:1\" cx=\"757.836\" cy=\"1405.03\" r=\"18\"/>\n",
       "<circle clip-path=\"url(#clip0002)\" style=\"fill:#0000ff; stroke:none; fill-opacity:1\" cx=\"757.836\" cy=\"1405.03\" r=\"14\"/>\n",
       "<circle clip-path=\"url(#clip0002)\" style=\"fill:#000000; stroke:none; fill-opacity:1\" cx=\"772.066\" cy=\"1398.67\" r=\"18\"/>\n",
       "<circle clip-path=\"url(#clip0002)\" style=\"fill:#0000ff; stroke:none; fill-opacity:1\" cx=\"772.066\" cy=\"1398.67\" r=\"14\"/>\n",
       "<circle clip-path=\"url(#clip0002)\" style=\"fill:#000000; stroke:none; fill-opacity:1\" cx=\"786.296\" cy=\"1378.79\" r=\"18\"/>\n",
       "<circle clip-path=\"url(#clip0002)\" style=\"fill:#0000ff; stroke:none; fill-opacity:1\" cx=\"786.296\" cy=\"1378.79\" r=\"14\"/>\n",
       "<circle clip-path=\"url(#clip0002)\" style=\"fill:#000000; stroke:none; fill-opacity:1\" cx=\"800.527\" cy=\"1357.9\" r=\"18\"/>\n",
       "<circle clip-path=\"url(#clip0002)\" style=\"fill:#0000ff; stroke:none; fill-opacity:1\" cx=\"800.527\" cy=\"1357.9\" r=\"14\"/>\n",
       "<circle clip-path=\"url(#clip0002)\" style=\"fill:#000000; stroke:none; fill-opacity:1\" cx=\"814.757\" cy=\"1223.68\" r=\"18\"/>\n",
       "<circle clip-path=\"url(#clip0002)\" style=\"fill:#0000ff; stroke:none; fill-opacity:1\" cx=\"814.757\" cy=\"1223.68\" r=\"14\"/>\n",
       "<circle clip-path=\"url(#clip0002)\" style=\"fill:#000000; stroke:none; fill-opacity:1\" cx=\"828.987\" cy=\"1169.31\" r=\"18\"/>\n",
       "<circle clip-path=\"url(#clip0002)\" style=\"fill:#0000ff; stroke:none; fill-opacity:1\" cx=\"828.987\" cy=\"1169.31\" r=\"14\"/>\n",
       "<circle clip-path=\"url(#clip0002)\" style=\"fill:#000000; stroke:none; fill-opacity:1\" cx=\"843.217\" cy=\"1075.75\" r=\"18\"/>\n",
       "<circle clip-path=\"url(#clip0002)\" style=\"fill:#0000ff; stroke:none; fill-opacity:1\" cx=\"843.217\" cy=\"1075.75\" r=\"14\"/>\n",
       "<circle clip-path=\"url(#clip0002)\" style=\"fill:#000000; stroke:none; fill-opacity:1\" cx=\"857.447\" cy=\"948.202\" r=\"18\"/>\n",
       "<circle clip-path=\"url(#clip0002)\" style=\"fill:#0000ff; stroke:none; fill-opacity:1\" cx=\"857.447\" cy=\"948.202\" r=\"14\"/>\n",
       "<circle clip-path=\"url(#clip0002)\" style=\"fill:#000000; stroke:none; fill-opacity:1\" cx=\"871.678\" cy=\"920.894\" r=\"18\"/>\n",
       "<circle clip-path=\"url(#clip0002)\" style=\"fill:#0000ff; stroke:none; fill-opacity:1\" cx=\"871.678\" cy=\"920.894\" r=\"14\"/>\n",
       "<circle clip-path=\"url(#clip0002)\" style=\"fill:#000000; stroke:none; fill-opacity:1\" cx=\"885.908\" cy=\"897.601\" r=\"18\"/>\n",
       "<circle clip-path=\"url(#clip0002)\" style=\"fill:#0000ff; stroke:none; fill-opacity:1\" cx=\"885.908\" cy=\"897.601\" r=\"14\"/>\n",
       "<circle clip-path=\"url(#clip0002)\" style=\"fill:#000000; stroke:none; fill-opacity:1\" cx=\"900.138\" cy=\"839.682\" r=\"18\"/>\n",
       "<circle clip-path=\"url(#clip0002)\" style=\"fill:#0000ff; stroke:none; fill-opacity:1\" cx=\"900.138\" cy=\"839.682\" r=\"14\"/>\n",
       "<circle clip-path=\"url(#clip0002)\" style=\"fill:#000000; stroke:none; fill-opacity:1\" cx=\"914.368\" cy=\"861.653\" r=\"18\"/>\n",
       "<circle clip-path=\"url(#clip0002)\" style=\"fill:#0000ff; stroke:none; fill-opacity:1\" cx=\"914.368\" cy=\"861.653\" r=\"14\"/>\n",
       "<circle clip-path=\"url(#clip0002)\" style=\"fill:#000000; stroke:none; fill-opacity:1\" cx=\"928.598\" cy=\"806.191\" r=\"18\"/>\n",
       "<circle clip-path=\"url(#clip0002)\" style=\"fill:#0000ff; stroke:none; fill-opacity:1\" cx=\"928.598\" cy=\"806.191\" r=\"14\"/>\n",
       "<circle clip-path=\"url(#clip0002)\" style=\"fill:#000000; stroke:none; fill-opacity:1\" cx=\"942.829\" cy=\"781.821\" r=\"18\"/>\n",
       "<circle clip-path=\"url(#clip0002)\" style=\"fill:#0000ff; stroke:none; fill-opacity:1\" cx=\"942.829\" cy=\"781.821\" r=\"14\"/>\n",
       "<circle clip-path=\"url(#clip0002)\" style=\"fill:#000000; stroke:none; fill-opacity:1\" cx=\"957.059\" cy=\"790.51\" r=\"18\"/>\n",
       "<circle clip-path=\"url(#clip0002)\" style=\"fill:#0000ff; stroke:none; fill-opacity:1\" cx=\"957.059\" cy=\"790.51\" r=\"14\"/>\n",
       "<circle clip-path=\"url(#clip0002)\" style=\"fill:#000000; stroke:none; fill-opacity:1\" cx=\"971.289\" cy=\"785.295\" r=\"18\"/>\n",
       "<circle clip-path=\"url(#clip0002)\" style=\"fill:#0000ff; stroke:none; fill-opacity:1\" cx=\"971.289\" cy=\"785.295\" r=\"14\"/>\n",
       "<circle clip-path=\"url(#clip0002)\" style=\"fill:#000000; stroke:none; fill-opacity:1\" cx=\"985.519\" cy=\"761.215\" r=\"18\"/>\n",
       "<circle clip-path=\"url(#clip0002)\" style=\"fill:#0000ff; stroke:none; fill-opacity:1\" cx=\"985.519\" cy=\"761.215\" r=\"14\"/>\n",
       "<circle clip-path=\"url(#clip0002)\" style=\"fill:#000000; stroke:none; fill-opacity:1\" cx=\"999.749\" cy=\"772.282\" r=\"18\"/>\n",
       "<circle clip-path=\"url(#clip0002)\" style=\"fill:#0000ff; stroke:none; fill-opacity:1\" cx=\"999.749\" cy=\"772.282\" r=\"14\"/>\n",
       "<circle clip-path=\"url(#clip0002)\" style=\"fill:#000000; stroke:none; fill-opacity:1\" cx=\"1013.98\" cy=\"775.841\" r=\"18\"/>\n",
       "<circle clip-path=\"url(#clip0002)\" style=\"fill:#0000ff; stroke:none; fill-opacity:1\" cx=\"1013.98\" cy=\"775.841\" r=\"14\"/>\n",
       "<circle clip-path=\"url(#clip0002)\" style=\"fill:#000000; stroke:none; fill-opacity:1\" cx=\"1028.21\" cy=\"765.109\" r=\"18\"/>\n",
       "<circle clip-path=\"url(#clip0002)\" style=\"fill:#0000ff; stroke:none; fill-opacity:1\" cx=\"1028.21\" cy=\"765.109\" r=\"14\"/>\n",
       "<circle clip-path=\"url(#clip0002)\" style=\"fill:#000000; stroke:none; fill-opacity:1\" cx=\"1042.44\" cy=\"777.787\" r=\"18\"/>\n",
       "<circle clip-path=\"url(#clip0002)\" style=\"fill:#0000ff; stroke:none; fill-opacity:1\" cx=\"1042.44\" cy=\"777.787\" r=\"14\"/>\n",
       "<circle clip-path=\"url(#clip0002)\" style=\"fill:#000000; stroke:none; fill-opacity:1\" cx=\"1056.67\" cy=\"798.926\" r=\"18\"/>\n",
       "<circle clip-path=\"url(#clip0002)\" style=\"fill:#0000ff; stroke:none; fill-opacity:1\" cx=\"1056.67\" cy=\"798.926\" r=\"14\"/>\n",
       "<circle clip-path=\"url(#clip0002)\" style=\"fill:#000000; stroke:none; fill-opacity:1\" cx=\"1070.9\" cy=\"784.582\" r=\"18\"/>\n",
       "<circle clip-path=\"url(#clip0002)\" style=\"fill:#0000ff; stroke:none; fill-opacity:1\" cx=\"1070.9\" cy=\"784.582\" r=\"14\"/>\n",
       "<circle clip-path=\"url(#clip0002)\" style=\"fill:#000000; stroke:none; fill-opacity:1\" cx=\"1085.13\" cy=\"822.675\" r=\"18\"/>\n",
       "<circle clip-path=\"url(#clip0002)\" style=\"fill:#0000ff; stroke:none; fill-opacity:1\" cx=\"1085.13\" cy=\"822.675\" r=\"14\"/>\n",
       "<circle clip-path=\"url(#clip0002)\" style=\"fill:#000000; stroke:none; fill-opacity:1\" cx=\"1099.36\" cy=\"819.653\" r=\"18\"/>\n",
       "<circle clip-path=\"url(#clip0002)\" style=\"fill:#0000ff; stroke:none; fill-opacity:1\" cx=\"1099.36\" cy=\"819.653\" r=\"14\"/>\n",
       "<circle clip-path=\"url(#clip0002)\" style=\"fill:#000000; stroke:none; fill-opacity:1\" cx=\"1113.59\" cy=\"854.331\" r=\"18\"/>\n",
       "<circle clip-path=\"url(#clip0002)\" style=\"fill:#0000ff; stroke:none; fill-opacity:1\" cx=\"1113.59\" cy=\"854.331\" r=\"14\"/>\n",
       "<circle clip-path=\"url(#clip0002)\" style=\"fill:#000000; stroke:none; fill-opacity:1\" cx=\"1127.82\" cy=\"827.285\" r=\"18\"/>\n",
       "<circle clip-path=\"url(#clip0002)\" style=\"fill:#0000ff; stroke:none; fill-opacity:1\" cx=\"1127.82\" cy=\"827.285\" r=\"14\"/>\n",
       "<circle clip-path=\"url(#clip0002)\" style=\"fill:#000000; stroke:none; fill-opacity:1\" cx=\"1142.05\" cy=\"821.548\" r=\"18\"/>\n",
       "<circle clip-path=\"url(#clip0002)\" style=\"fill:#0000ff; stroke:none; fill-opacity:1\" cx=\"1142.05\" cy=\"821.548\" r=\"14\"/>\n",
       "<circle clip-path=\"url(#clip0002)\" style=\"fill:#000000; stroke:none; fill-opacity:1\" cx=\"1156.28\" cy=\"824.202\" r=\"18\"/>\n",
       "<circle clip-path=\"url(#clip0002)\" style=\"fill:#0000ff; stroke:none; fill-opacity:1\" cx=\"1156.28\" cy=\"824.202\" r=\"14\"/>\n",
       "<circle clip-path=\"url(#clip0002)\" style=\"fill:#000000; stroke:none; fill-opacity:1\" cx=\"1170.51\" cy=\"804.873\" r=\"18\"/>\n",
       "<circle clip-path=\"url(#clip0002)\" style=\"fill:#0000ff; stroke:none; fill-opacity:1\" cx=\"1170.51\" cy=\"804.873\" r=\"14\"/>\n",
       "<circle clip-path=\"url(#clip0002)\" style=\"fill:#000000; stroke:none; fill-opacity:1\" cx=\"1184.74\" cy=\"776.9\" r=\"18\"/>\n",
       "<circle clip-path=\"url(#clip0002)\" style=\"fill:#0000ff; stroke:none; fill-opacity:1\" cx=\"1184.74\" cy=\"776.9\" r=\"14\"/>\n",
       "<circle clip-path=\"url(#clip0002)\" style=\"fill:#000000; stroke:none; fill-opacity:1\" cx=\"1198.97\" cy=\"778.4\" r=\"18\"/>\n",
       "<circle clip-path=\"url(#clip0002)\" style=\"fill:#0000ff; stroke:none; fill-opacity:1\" cx=\"1198.97\" cy=\"778.4\" r=\"14\"/>\n",
       "<circle clip-path=\"url(#clip0002)\" style=\"fill:#000000; stroke:none; fill-opacity:1\" cx=\"1213.2\" cy=\"743.971\" r=\"18\"/>\n",
       "<circle clip-path=\"url(#clip0002)\" style=\"fill:#0000ff; stroke:none; fill-opacity:1\" cx=\"1213.2\" cy=\"743.971\" r=\"14\"/>\n",
       "<circle clip-path=\"url(#clip0002)\" style=\"fill:#000000; stroke:none; fill-opacity:1\" cx=\"1227.43\" cy=\"698.516\" r=\"18\"/>\n",
       "<circle clip-path=\"url(#clip0002)\" style=\"fill:#0000ff; stroke:none; fill-opacity:1\" cx=\"1227.43\" cy=\"698.516\" r=\"14\"/>\n",
       "<circle clip-path=\"url(#clip0002)\" style=\"fill:#000000; stroke:none; fill-opacity:1\" cx=\"1241.66\" cy=\"597.985\" r=\"18\"/>\n",
       "<circle clip-path=\"url(#clip0002)\" style=\"fill:#0000ff; stroke:none; fill-opacity:1\" cx=\"1241.66\" cy=\"597.985\" r=\"14\"/>\n",
       "<circle clip-path=\"url(#clip0002)\" style=\"fill:#000000; stroke:none; fill-opacity:1\" cx=\"1255.89\" cy=\"567.645\" r=\"18\"/>\n",
       "<circle clip-path=\"url(#clip0002)\" style=\"fill:#0000ff; stroke:none; fill-opacity:1\" cx=\"1255.89\" cy=\"567.645\" r=\"14\"/>\n",
       "<circle clip-path=\"url(#clip0002)\" style=\"fill:#000000; stroke:none; fill-opacity:1\" cx=\"1270.12\" cy=\"609.953\" r=\"18\"/>\n",
       "<circle clip-path=\"url(#clip0002)\" style=\"fill:#0000ff; stroke:none; fill-opacity:1\" cx=\"1270.12\" cy=\"609.953\" r=\"14\"/>\n",
       "<circle clip-path=\"url(#clip0002)\" style=\"fill:#000000; stroke:none; fill-opacity:1\" cx=\"1284.35\" cy=\"621.142\" r=\"18\"/>\n",
       "<circle clip-path=\"url(#clip0002)\" style=\"fill:#0000ff; stroke:none; fill-opacity:1\" cx=\"1284.35\" cy=\"621.142\" r=\"14\"/>\n",
       "<circle clip-path=\"url(#clip0002)\" style=\"fill:#000000; stroke:none; fill-opacity:1\" cx=\"1298.58\" cy=\"438.103\" r=\"18\"/>\n",
       "<circle clip-path=\"url(#clip0002)\" style=\"fill:#0000ff; stroke:none; fill-opacity:1\" cx=\"1298.58\" cy=\"438.103\" r=\"14\"/>\n",
       "<circle clip-path=\"url(#clip0002)\" style=\"fill:#000000; stroke:none; fill-opacity:1\" cx=\"1312.81\" cy=\"302.878\" r=\"18\"/>\n",
       "<circle clip-path=\"url(#clip0002)\" style=\"fill:#0000ff; stroke:none; fill-opacity:1\" cx=\"1312.81\" cy=\"302.878\" r=\"14\"/>\n",
       "<circle clip-path=\"url(#clip0002)\" style=\"fill:#000000; stroke:none; fill-opacity:1\" cx=\"1327.04\" cy=\"352.14\" r=\"18\"/>\n",
       "<circle clip-path=\"url(#clip0002)\" style=\"fill:#0000ff; stroke:none; fill-opacity:1\" cx=\"1327.04\" cy=\"352.14\" r=\"14\"/>\n",
       "<circle clip-path=\"url(#clip0002)\" style=\"fill:#000000; stroke:none; fill-opacity:1\" cx=\"1341.27\" cy=\"339.47\" r=\"18\"/>\n",
       "<circle clip-path=\"url(#clip0002)\" style=\"fill:#0000ff; stroke:none; fill-opacity:1\" cx=\"1341.27\" cy=\"339.47\" r=\"14\"/>\n",
       "<circle clip-path=\"url(#clip0002)\" style=\"fill:#000000; stroke:none; fill-opacity:1\" cx=\"1355.5\" cy=\"328.178\" r=\"18\"/>\n",
       "<circle clip-path=\"url(#clip0002)\" style=\"fill:#0000ff; stroke:none; fill-opacity:1\" cx=\"1355.5\" cy=\"328.178\" r=\"14\"/>\n",
       "<circle clip-path=\"url(#clip0002)\" style=\"fill:#000000; stroke:none; fill-opacity:1\" cx=\"1369.73\" cy=\"267.382\" r=\"18\"/>\n",
       "<circle clip-path=\"url(#clip0002)\" style=\"fill:#0000ff; stroke:none; fill-opacity:1\" cx=\"1369.73\" cy=\"267.382\" r=\"14\"/>\n",
       "<circle clip-path=\"url(#clip0002)\" style=\"fill:#000000; stroke:none; fill-opacity:1\" cx=\"1383.96\" cy=\"227.633\" r=\"18\"/>\n",
       "<circle clip-path=\"url(#clip0002)\" style=\"fill:#0000ff; stroke:none; fill-opacity:1\" cx=\"1383.96\" cy=\"227.633\" r=\"14\"/>\n",
       "<circle clip-path=\"url(#clip0002)\" style=\"fill:#000000; stroke:none; fill-opacity:1\" cx=\"1398.19\" cy=\"209.649\" r=\"18\"/>\n",
       "<circle clip-path=\"url(#clip0002)\" style=\"fill:#0000ff; stroke:none; fill-opacity:1\" cx=\"1398.19\" cy=\"209.649\" r=\"14\"/>\n",
       "<circle clip-path=\"url(#clip0002)\" style=\"fill:#000000; stroke:none; fill-opacity:1\" cx=\"1412.42\" cy=\"165.303\" r=\"18\"/>\n",
       "<circle clip-path=\"url(#clip0002)\" style=\"fill:#0000ff; stroke:none; fill-opacity:1\" cx=\"1412.42\" cy=\"165.303\" r=\"14\"/>\n",
       "<circle clip-path=\"url(#clip0002)\" style=\"fill:#000000; stroke:none; fill-opacity:1\" cx=\"1426.66\" cy=\"152.274\" r=\"18\"/>\n",
       "<circle clip-path=\"url(#clip0002)\" style=\"fill:#0000ff; stroke:none; fill-opacity:1\" cx=\"1426.66\" cy=\"152.274\" r=\"14\"/>\n",
       "<circle clip-path=\"url(#clip0002)\" style=\"fill:#000000; stroke:none; fill-opacity:1\" cx=\"1440.89\" cy=\"115.791\" r=\"18\"/>\n",
       "<circle clip-path=\"url(#clip0002)\" style=\"fill:#0000ff; stroke:none; fill-opacity:1\" cx=\"1440.89\" cy=\"115.791\" r=\"14\"/>\n",
       "<circle clip-path=\"url(#clip0002)\" style=\"fill:#000000; stroke:none; fill-opacity:1\" cx=\"1455.12\" cy=\"88.0053\" r=\"18\"/>\n",
       "<circle clip-path=\"url(#clip0002)\" style=\"fill:#0000ff; stroke:none; fill-opacity:1\" cx=\"1455.12\" cy=\"88.0053\" r=\"14\"/>\n",
       "<circle clip-path=\"url(#clip0002)\" style=\"fill:#000000; stroke:none; fill-opacity:1\" cx=\"1469.35\" cy=\"111.07\" r=\"18\"/>\n",
       "<circle clip-path=\"url(#clip0002)\" style=\"fill:#0000ff; stroke:none; fill-opacity:1\" cx=\"1469.35\" cy=\"111.07\" r=\"14\"/>\n",
       "<circle clip-path=\"url(#clip0002)\" style=\"fill:#000000; stroke:none; fill-opacity:1\" cx=\"1483.58\" cy=\"102.75\" r=\"18\"/>\n",
       "<circle clip-path=\"url(#clip0002)\" style=\"fill:#0000ff; stroke:none; fill-opacity:1\" cx=\"1483.58\" cy=\"102.75\" r=\"14\"/>\n",
       "<circle clip-path=\"url(#clip0002)\" style=\"fill:#000000; stroke:none; fill-opacity:1\" cx=\"1497.81\" cy=\"103.249\" r=\"18\"/>\n",
       "<circle clip-path=\"url(#clip0002)\" style=\"fill:#0000ff; stroke:none; fill-opacity:1\" cx=\"1497.81\" cy=\"103.249\" r=\"14\"/>\n",
       "<circle clip-path=\"url(#clip0002)\" style=\"fill:#000000; stroke:none; fill-opacity:1\" cx=\"1512.04\" cy=\"109.864\" r=\"18\"/>\n",
       "<circle clip-path=\"url(#clip0002)\" style=\"fill:#0000ff; stroke:none; fill-opacity:1\" cx=\"1512.04\" cy=\"109.864\" r=\"14\"/>\n",
       "<circle clip-path=\"url(#clip0002)\" style=\"fill:#000000; stroke:none; fill-opacity:1\" cx=\"1526.27\" cy=\"145.244\" r=\"18\"/>\n",
       "<circle clip-path=\"url(#clip0002)\" style=\"fill:#0000ff; stroke:none; fill-opacity:1\" cx=\"1526.27\" cy=\"145.244\" r=\"14\"/>\n",
       "<circle clip-path=\"url(#clip0002)\" style=\"fill:#000000; stroke:none; fill-opacity:1\" cx=\"1540.5\" cy=\"169.733\" r=\"18\"/>\n",
       "<circle clip-path=\"url(#clip0002)\" style=\"fill:#0000ff; stroke:none; fill-opacity:1\" cx=\"1540.5\" cy=\"169.733\" r=\"14\"/>\n",
       "<circle clip-path=\"url(#clip0002)\" style=\"fill:#000000; stroke:none; fill-opacity:1\" cx=\"1554.73\" cy=\"195.019\" r=\"18\"/>\n",
       "<circle clip-path=\"url(#clip0002)\" style=\"fill:#0000ff; stroke:none; fill-opacity:1\" cx=\"1554.73\" cy=\"195.019\" r=\"14\"/>\n",
       "<circle clip-path=\"url(#clip0002)\" style=\"fill:#000000; stroke:none; fill-opacity:1\" cx=\"1568.96\" cy=\"281.899\" r=\"18\"/>\n",
       "<circle clip-path=\"url(#clip0002)\" style=\"fill:#0000ff; stroke:none; fill-opacity:1\" cx=\"1568.96\" cy=\"281.899\" r=\"14\"/>\n",
       "<circle clip-path=\"url(#clip0002)\" style=\"fill:#000000; stroke:none; fill-opacity:1\" cx=\"1583.19\" cy=\"332.763\" r=\"18\"/>\n",
       "<circle clip-path=\"url(#clip0002)\" style=\"fill:#0000ff; stroke:none; fill-opacity:1\" cx=\"1583.19\" cy=\"332.763\" r=\"14\"/>\n",
       "<circle clip-path=\"url(#clip0002)\" style=\"fill:#000000; stroke:none; fill-opacity:1\" cx=\"1597.42\" cy=\"358.729\" r=\"18\"/>\n",
       "<circle clip-path=\"url(#clip0002)\" style=\"fill:#0000ff; stroke:none; fill-opacity:1\" cx=\"1597.42\" cy=\"358.729\" r=\"14\"/>\n",
       "<circle clip-path=\"url(#clip0002)\" style=\"fill:#000000; stroke:none; fill-opacity:1\" cx=\"1611.65\" cy=\"362.365\" r=\"18\"/>\n",
       "<circle clip-path=\"url(#clip0002)\" style=\"fill:#0000ff; stroke:none; fill-opacity:1\" cx=\"1611.65\" cy=\"362.365\" r=\"14\"/>\n",
       "<circle clip-path=\"url(#clip0002)\" style=\"fill:#000000; stroke:none; fill-opacity:1\" cx=\"1625.88\" cy=\"329.069\" r=\"18\"/>\n",
       "<circle clip-path=\"url(#clip0002)\" style=\"fill:#0000ff; stroke:none; fill-opacity:1\" cx=\"1625.88\" cy=\"329.069\" r=\"14\"/>\n",
       "<circle clip-path=\"url(#clip0002)\" style=\"fill:#000000; stroke:none; fill-opacity:1\" cx=\"1640.11\" cy=\"283.002\" r=\"18\"/>\n",
       "<circle clip-path=\"url(#clip0002)\" style=\"fill:#0000ff; stroke:none; fill-opacity:1\" cx=\"1640.11\" cy=\"283.002\" r=\"14\"/>\n",
       "<circle clip-path=\"url(#clip0002)\" style=\"fill:#000000; stroke:none; fill-opacity:1\" cx=\"1654.34\" cy=\"342.438\" r=\"18\"/>\n",
       "<circle clip-path=\"url(#clip0002)\" style=\"fill:#0000ff; stroke:none; fill-opacity:1\" cx=\"1654.34\" cy=\"342.438\" r=\"14\"/>\n",
       "<circle clip-path=\"url(#clip0002)\" style=\"fill:#000000; stroke:none; fill-opacity:1\" cx=\"1668.57\" cy=\"438.87\" r=\"18\"/>\n",
       "<circle clip-path=\"url(#clip0002)\" style=\"fill:#0000ff; stroke:none; fill-opacity:1\" cx=\"1668.57\" cy=\"438.87\" r=\"14\"/>\n",
       "<circle clip-path=\"url(#clip0002)\" style=\"fill:#000000; stroke:none; fill-opacity:1\" cx=\"1682.8\" cy=\"480.51\" r=\"18\"/>\n",
       "<circle clip-path=\"url(#clip0002)\" style=\"fill:#0000ff; stroke:none; fill-opacity:1\" cx=\"1682.8\" cy=\"480.51\" r=\"14\"/>\n",
       "<circle clip-path=\"url(#clip0002)\" style=\"fill:#000000; stroke:none; fill-opacity:1\" cx=\"1697.03\" cy=\"471.466\" r=\"18\"/>\n",
       "<circle clip-path=\"url(#clip0002)\" style=\"fill:#0000ff; stroke:none; fill-opacity:1\" cx=\"1697.03\" cy=\"471.466\" r=\"14\"/>\n",
       "<circle clip-path=\"url(#clip0002)\" style=\"fill:#000000; stroke:none; fill-opacity:1\" cx=\"1711.26\" cy=\"478.612\" r=\"18\"/>\n",
       "<circle clip-path=\"url(#clip0002)\" style=\"fill:#0000ff; stroke:none; fill-opacity:1\" cx=\"1711.26\" cy=\"478.612\" r=\"14\"/>\n",
       "<circle clip-path=\"url(#clip0002)\" style=\"fill:#000000; stroke:none; fill-opacity:1\" cx=\"1725.49\" cy=\"473.543\" r=\"18\"/>\n",
       "<circle clip-path=\"url(#clip0002)\" style=\"fill:#0000ff; stroke:none; fill-opacity:1\" cx=\"1725.49\" cy=\"473.543\" r=\"14\"/>\n",
       "<circle clip-path=\"url(#clip0002)\" style=\"fill:#000000; stroke:none; fill-opacity:1\" cx=\"1739.72\" cy=\"424.925\" r=\"18\"/>\n",
       "<circle clip-path=\"url(#clip0002)\" style=\"fill:#0000ff; stroke:none; fill-opacity:1\" cx=\"1739.72\" cy=\"424.925\" r=\"14\"/>\n",
       "<circle clip-path=\"url(#clip0002)\" style=\"fill:#000000; stroke:none; fill-opacity:1\" cx=\"1753.95\" cy=\"425.812\" r=\"18\"/>\n",
       "<circle clip-path=\"url(#clip0002)\" style=\"fill:#0000ff; stroke:none; fill-opacity:1\" cx=\"1753.95\" cy=\"425.812\" r=\"14\"/>\n",
       "<circle clip-path=\"url(#clip0002)\" style=\"fill:#000000; stroke:none; fill-opacity:1\" cx=\"1768.18\" cy=\"373.367\" r=\"18\"/>\n",
       "<circle clip-path=\"url(#clip0002)\" style=\"fill:#0000ff; stroke:none; fill-opacity:1\" cx=\"1768.18\" cy=\"373.367\" r=\"14\"/>\n",
       "<circle clip-path=\"url(#clip0002)\" style=\"fill:#000000; stroke:none; fill-opacity:1\" cx=\"1782.41\" cy=\"332.525\" r=\"18\"/>\n",
       "<circle clip-path=\"url(#clip0002)\" style=\"fill:#0000ff; stroke:none; fill-opacity:1\" cx=\"1782.41\" cy=\"332.525\" r=\"14\"/>\n",
       "<circle clip-path=\"url(#clip0002)\" style=\"fill:#000000; stroke:none; fill-opacity:1\" cx=\"1796.64\" cy=\"327.907\" r=\"18\"/>\n",
       "<circle clip-path=\"url(#clip0002)\" style=\"fill:#0000ff; stroke:none; fill-opacity:1\" cx=\"1796.64\" cy=\"327.907\" r=\"14\"/>\n",
       "<circle clip-path=\"url(#clip0002)\" style=\"fill:#000000; stroke:none; fill-opacity:1\" cx=\"1810.87\" cy=\"312.681\" r=\"18\"/>\n",
       "<circle clip-path=\"url(#clip0002)\" style=\"fill:#0000ff; stroke:none; fill-opacity:1\" cx=\"1810.87\" cy=\"312.681\" r=\"14\"/>\n",
       "<circle clip-path=\"url(#clip0002)\" style=\"fill:#000000; stroke:none; fill-opacity:1\" cx=\"1825.1\" cy=\"327.302\" r=\"18\"/>\n",
       "<circle clip-path=\"url(#clip0002)\" style=\"fill:#0000ff; stroke:none; fill-opacity:1\" cx=\"1825.1\" cy=\"327.302\" r=\"14\"/>\n",
       "<circle clip-path=\"url(#clip0002)\" style=\"fill:#000000; stroke:none; fill-opacity:1\" cx=\"1839.33\" cy=\"319.376\" r=\"18\"/>\n",
       "<circle clip-path=\"url(#clip0002)\" style=\"fill:#0000ff; stroke:none; fill-opacity:1\" cx=\"1839.33\" cy=\"319.376\" r=\"14\"/>\n",
       "<circle clip-path=\"url(#clip0002)\" style=\"fill:#000000; stroke:none; fill-opacity:1\" cx=\"1853.56\" cy=\"290.952\" r=\"18\"/>\n",
       "<circle clip-path=\"url(#clip0002)\" style=\"fill:#0000ff; stroke:none; fill-opacity:1\" cx=\"1853.56\" cy=\"290.952\" r=\"14\"/>\n",
       "<circle clip-path=\"url(#clip0002)\" style=\"fill:#000000; stroke:none; fill-opacity:1\" cx=\"1867.79\" cy=\"295.477\" r=\"18\"/>\n",
       "<circle clip-path=\"url(#clip0002)\" style=\"fill:#0000ff; stroke:none; fill-opacity:1\" cx=\"1867.79\" cy=\"295.477\" r=\"14\"/>\n",
       "<circle clip-path=\"url(#clip0002)\" style=\"fill:#000000; stroke:none; fill-opacity:1\" cx=\"1882.02\" cy=\"278.752\" r=\"18\"/>\n",
       "<circle clip-path=\"url(#clip0002)\" style=\"fill:#0000ff; stroke:none; fill-opacity:1\" cx=\"1882.02\" cy=\"278.752\" r=\"14\"/>\n",
       "<circle clip-path=\"url(#clip0002)\" style=\"fill:#000000; stroke:none; fill-opacity:1\" cx=\"1896.25\" cy=\"247.83\" r=\"18\"/>\n",
       "<circle clip-path=\"url(#clip0002)\" style=\"fill:#0000ff; stroke:none; fill-opacity:1\" cx=\"1896.25\" cy=\"247.83\" r=\"14\"/>\n",
       "<circle clip-path=\"url(#clip0002)\" style=\"fill:#000000; stroke:none; fill-opacity:1\" cx=\"1910.48\" cy=\"190.461\" r=\"18\"/>\n",
       "<circle clip-path=\"url(#clip0002)\" style=\"fill:#0000ff; stroke:none; fill-opacity:1\" cx=\"1910.48\" cy=\"190.461\" r=\"14\"/>\n",
       "<circle clip-path=\"url(#clip0002)\" style=\"fill:#000000; stroke:none; fill-opacity:1\" cx=\"1924.71\" cy=\"155.84\" r=\"18\"/>\n",
       "<circle clip-path=\"url(#clip0002)\" style=\"fill:#0000ff; stroke:none; fill-opacity:1\" cx=\"1924.71\" cy=\"155.84\" r=\"14\"/>\n",
       "<circle clip-path=\"url(#clip0002)\" style=\"fill:#000000; stroke:none; fill-opacity:1\" cx=\"1938.94\" cy=\"177.664\" r=\"18\"/>\n",
       "<circle clip-path=\"url(#clip0002)\" style=\"fill:#0000ff; stroke:none; fill-opacity:1\" cx=\"1938.94\" cy=\"177.664\" r=\"14\"/>\n",
       "<circle clip-path=\"url(#clip0002)\" style=\"fill:#000000; stroke:none; fill-opacity:1\" cx=\"1953.17\" cy=\"192.826\" r=\"18\"/>\n",
       "<circle clip-path=\"url(#clip0002)\" style=\"fill:#0000ff; stroke:none; fill-opacity:1\" cx=\"1953.17\" cy=\"192.826\" r=\"14\"/>\n",
       "<circle clip-path=\"url(#clip0002)\" style=\"fill:#000000; stroke:none; fill-opacity:1\" cx=\"1967.4\" cy=\"216.52\" r=\"18\"/>\n",
       "<circle clip-path=\"url(#clip0002)\" style=\"fill:#0000ff; stroke:none; fill-opacity:1\" cx=\"1967.4\" cy=\"216.52\" r=\"14\"/>\n",
       "<circle clip-path=\"url(#clip0002)\" style=\"fill:#000000; stroke:none; fill-opacity:1\" cx=\"1981.63\" cy=\"235.72\" r=\"18\"/>\n",
       "<circle clip-path=\"url(#clip0002)\" style=\"fill:#0000ff; stroke:none; fill-opacity:1\" cx=\"1981.63\" cy=\"235.72\" r=\"14\"/>\n",
       "<circle clip-path=\"url(#clip0002)\" style=\"fill:#000000; stroke:none; fill-opacity:1\" cx=\"1995.86\" cy=\"254.325\" r=\"18\"/>\n",
       "<circle clip-path=\"url(#clip0002)\" style=\"fill:#0000ff; stroke:none; fill-opacity:1\" cx=\"1995.86\" cy=\"254.325\" r=\"14\"/>\n",
       "<circle clip-path=\"url(#clip0002)\" style=\"fill:#000000; stroke:none; fill-opacity:1\" cx=\"2010.09\" cy=\"260.54\" r=\"18\"/>\n",
       "<circle clip-path=\"url(#clip0002)\" style=\"fill:#0000ff; stroke:none; fill-opacity:1\" cx=\"2010.09\" cy=\"260.54\" r=\"14\"/>\n",
       "<circle clip-path=\"url(#clip0002)\" style=\"fill:#000000; stroke:none; fill-opacity:1\" cx=\"2024.32\" cy=\"266.595\" r=\"18\"/>\n",
       "<circle clip-path=\"url(#clip0002)\" style=\"fill:#0000ff; stroke:none; fill-opacity:1\" cx=\"2024.32\" cy=\"266.595\" r=\"14\"/>\n",
       "<circle clip-path=\"url(#clip0002)\" style=\"fill:#000000; stroke:none; fill-opacity:1\" cx=\"2038.55\" cy=\"249.395\" r=\"18\"/>\n",
       "<circle clip-path=\"url(#clip0002)\" style=\"fill:#0000ff; stroke:none; fill-opacity:1\" cx=\"2038.55\" cy=\"249.395\" r=\"14\"/>\n",
       "<circle clip-path=\"url(#clip0002)\" style=\"fill:#000000; stroke:none; fill-opacity:1\" cx=\"2052.78\" cy=\"243.753\" r=\"18\"/>\n",
       "<circle clip-path=\"url(#clip0002)\" style=\"fill:#0000ff; stroke:none; fill-opacity:1\" cx=\"2052.78\" cy=\"243.753\" r=\"14\"/>\n",
       "<circle clip-path=\"url(#clip0002)\" style=\"fill:#000000; stroke:none; fill-opacity:1\" cx=\"2067.01\" cy=\"215.085\" r=\"18\"/>\n",
       "<circle clip-path=\"url(#clip0002)\" style=\"fill:#0000ff; stroke:none; fill-opacity:1\" cx=\"2067.01\" cy=\"215.085\" r=\"14\"/>\n",
       "<circle clip-path=\"url(#clip0002)\" style=\"fill:#000000; stroke:none; fill-opacity:1\" cx=\"2081.24\" cy=\"229.001\" r=\"18\"/>\n",
       "<circle clip-path=\"url(#clip0002)\" style=\"fill:#0000ff; stroke:none; fill-opacity:1\" cx=\"2081.24\" cy=\"229.001\" r=\"14\"/>\n",
       "<circle clip-path=\"url(#clip0002)\" style=\"fill:#000000; stroke:none; fill-opacity:1\" cx=\"2095.47\" cy=\"229.988\" r=\"18\"/>\n",
       "<circle clip-path=\"url(#clip0002)\" style=\"fill:#0000ff; stroke:none; fill-opacity:1\" cx=\"2095.47\" cy=\"229.988\" r=\"14\"/>\n",
       "<circle clip-path=\"url(#clip0002)\" style=\"fill:#000000; stroke:none; fill-opacity:1\" cx=\"2109.7\" cy=\"207.793\" r=\"18\"/>\n",
       "<circle clip-path=\"url(#clip0002)\" style=\"fill:#0000ff; stroke:none; fill-opacity:1\" cx=\"2109.7\" cy=\"207.793\" r=\"14\"/>\n",
       "<circle clip-path=\"url(#clip0002)\" style=\"fill:#000000; stroke:none; fill-opacity:1\" cx=\"2123.93\" cy=\"201.578\" r=\"18\"/>\n",
       "<circle clip-path=\"url(#clip0002)\" style=\"fill:#0000ff; stroke:none; fill-opacity:1\" cx=\"2123.93\" cy=\"201.578\" r=\"14\"/>\n",
       "<circle clip-path=\"url(#clip0002)\" style=\"fill:#000000; stroke:none; fill-opacity:1\" cx=\"2138.16\" cy=\"193.556\" r=\"18\"/>\n",
       "<circle clip-path=\"url(#clip0002)\" style=\"fill:#0000ff; stroke:none; fill-opacity:1\" cx=\"2138.16\" cy=\"193.556\" r=\"14\"/>\n",
       "<circle clip-path=\"url(#clip0002)\" style=\"fill:#000000; stroke:none; fill-opacity:1\" cx=\"2152.39\" cy=\"155.653\" r=\"18\"/>\n",
       "<circle clip-path=\"url(#clip0002)\" style=\"fill:#0000ff; stroke:none; fill-opacity:1\" cx=\"2152.39\" cy=\"155.653\" r=\"14\"/>\n",
       "<circle clip-path=\"url(#clip0002)\" style=\"fill:#000000; stroke:none; fill-opacity:1\" cx=\"2166.63\" cy=\"142.552\" r=\"18\"/>\n",
       "<circle clip-path=\"url(#clip0002)\" style=\"fill:#0000ff; stroke:none; fill-opacity:1\" cx=\"2166.63\" cy=\"142.552\" r=\"14\"/>\n",
       "<circle clip-path=\"url(#clip0002)\" style=\"fill:#000000; stroke:none; fill-opacity:1\" cx=\"2180.86\" cy=\"166.02\" r=\"18\"/>\n",
       "<circle clip-path=\"url(#clip0002)\" style=\"fill:#0000ff; stroke:none; fill-opacity:1\" cx=\"2180.86\" cy=\"166.02\" r=\"14\"/>\n",
       "<circle clip-path=\"url(#clip0002)\" style=\"fill:#000000; stroke:none; fill-opacity:1\" cx=\"2195.09\" cy=\"203.407\" r=\"18\"/>\n",
       "<circle clip-path=\"url(#clip0002)\" style=\"fill:#0000ff; stroke:none; fill-opacity:1\" cx=\"2195.09\" cy=\"203.407\" r=\"14\"/>\n",
       "<circle clip-path=\"url(#clip0002)\" style=\"fill:#000000; stroke:none; fill-opacity:1\" cx=\"2209.32\" cy=\"246.283\" r=\"18\"/>\n",
       "<circle clip-path=\"url(#clip0002)\" style=\"fill:#0000ff; stroke:none; fill-opacity:1\" cx=\"2209.32\" cy=\"246.283\" r=\"14\"/>\n",
       "<circle clip-path=\"url(#clip0002)\" style=\"fill:#000000; stroke:none; fill-opacity:1\" cx=\"2223.55\" cy=\"259.558\" r=\"18\"/>\n",
       "<circle clip-path=\"url(#clip0002)\" style=\"fill:#0000ff; stroke:none; fill-opacity:1\" cx=\"2223.55\" cy=\"259.558\" r=\"14\"/>\n",
       "<circle clip-path=\"url(#clip0002)\" style=\"fill:#000000; stroke:none; fill-opacity:1\" cx=\"2237.78\" cy=\"261.573\" r=\"18\"/>\n",
       "<circle clip-path=\"url(#clip0002)\" style=\"fill:#0000ff; stroke:none; fill-opacity:1\" cx=\"2237.78\" cy=\"261.573\" r=\"14\"/>\n",
       "<circle clip-path=\"url(#clip0002)\" style=\"fill:#000000; stroke:none; fill-opacity:1\" cx=\"2252.01\" cy=\"265.791\" r=\"18\"/>\n",
       "<circle clip-path=\"url(#clip0002)\" style=\"fill:#0000ff; stroke:none; fill-opacity:1\" cx=\"2252.01\" cy=\"265.791\" r=\"14\"/>\n",
       "<circle clip-path=\"url(#clip0002)\" style=\"fill:#000000; stroke:none; fill-opacity:1\" cx=\"2266.24\" cy=\"247.531\" r=\"18\"/>\n",
       "<circle clip-path=\"url(#clip0002)\" style=\"fill:#0000ff; stroke:none; fill-opacity:1\" cx=\"2266.24\" cy=\"247.531\" r=\"14\"/>\n",
       "<circle clip-path=\"url(#clip0002)\" style=\"fill:#000000; stroke:none; fill-opacity:1\" cx=\"2280.47\" cy=\"251.626\" r=\"18\"/>\n",
       "<circle clip-path=\"url(#clip0002)\" style=\"fill:#0000ff; stroke:none; fill-opacity:1\" cx=\"2280.47\" cy=\"251.626\" r=\"14\"/>\n",
       "<circle clip-path=\"url(#clip0002)\" style=\"fill:#000000; stroke:none; fill-opacity:1\" cx=\"2294.7\" cy=\"269.087\" r=\"18\"/>\n",
       "<circle clip-path=\"url(#clip0002)\" style=\"fill:#0000ff; stroke:none; fill-opacity:1\" cx=\"2294.7\" cy=\"269.087\" r=\"14\"/>\n",
       "<polygon clip-path=\"url(#clip0000)\" points=\"\n",
       "2000.66,312.204 2280.76,312.204 2280.76,130.764 2000.66,130.764 \n",
       "  \" fill=\"#ffffff\" fill-rule=\"evenodd\" fill-opacity=\"1\"/>\n",
       "<polyline clip-path=\"url(#clip0000)\" style=\"stroke:#000000; stroke-width:4; stroke-opacity:1; fill:none\" points=\"\n",
       "  2000.66,312.204 2280.76,312.204 2280.76,130.764 2000.66,130.764 2000.66,312.204 \n",
       "  \"/>\n",
       "<polyline clip-path=\"url(#clip0000)\" style=\"stroke:#ffc0cb; stroke-width:4; stroke-opacity:1; fill:none\" points=\"\n",
       "  2024.66,191.244 2168.66,191.244 \n",
       "  \"/>\n",
       "<circle clip-path=\"url(#clip0000)\" style=\"fill:#000000; stroke:none; fill-opacity:1\" cx=\"2108.66\" cy=\"191.244\" r=\"25\"/>\n",
       "<circle clip-path=\"url(#clip0000)\" style=\"fill:#ffc0cb; stroke:none; fill-opacity:1\" cx=\"2108.66\" cy=\"191.244\" r=\"21\"/>\n",
       "<g clip-path=\"url(#clip0000)\">\n",
       "<text style=\"fill:#000000; fill-opacity:1; font-family:Arial,Helvetica Neue,Helvetica,sans-serif; font-size:48px; text-anchor:start;\" transform=\"rotate(0, 2192.66, 208.744)\" x=\"2192.66\" y=\"208.744\">F</text>\n",
       "</g>\n",
       "<polyline clip-path=\"url(#clip0000)\" style=\"stroke:#0000ff; stroke-width:4; stroke-opacity:1; fill:none\" points=\"\n",
       "  2024.66,251.724 2168.66,251.724 \n",
       "  \"/>\n",
       "<circle clip-path=\"url(#clip0000)\" style=\"fill:#000000; stroke:none; fill-opacity:1\" cx=\"2108.66\" cy=\"251.724\" r=\"25\"/>\n",
       "<circle clip-path=\"url(#clip0000)\" style=\"fill:#0000ff; stroke:none; fill-opacity:1\" cx=\"2108.66\" cy=\"251.724\" r=\"21\"/>\n",
       "<g clip-path=\"url(#clip0000)\">\n",
       "<text style=\"fill:#000000; fill-opacity:1; font-family:Arial,Helvetica Neue,Helvetica,sans-serif; font-size:48px; text-anchor:start;\" transform=\"rotate(0, 2192.66, 269.224)\" x=\"2192.66\" y=\"269.224\">M</text>\n",
       "</g>\n",
       "</svg>\n"
      ]
     },
     "execution_count": 5,
     "metadata": {},
     "output_type": "execute_result"
    }
   ],
   "source": [
    "using StatsPlots\n",
    "\n",
    "name_counts_by_year = by(babynames, [:Year, :Sex], :Count => sum)\n",
    "sort!(name_counts_by_year, :Year)\n",
    "@df name_counts_by_year plot(:Year, :Count_sum, group=:Sex, colour = [:pink :blue], marker=:circle)"
   ]
  },
  {
   "cell_type": "markdown",
   "metadata": {},
   "source": [
    "The meteoric rise in babies born in the years leading up to 1920 may seem suspicious. A sentence from the quote above helps explain:\n",
    "\n",
    "> Note that many people born before 1937 never applied for a Social Security card, so their names are not included in our data. For others who did apply, our records may not show the place of birth, and again their names are not included in our data.\n",
    "\n",
    "We can also see the [baby boomer period](https://www.wikiwand.com/en/Baby_boomers) quite clearly in the plot above."
   ]
  },
  {
   "cell_type": "markdown",
   "metadata": {},
   "source": [
    "### Inferring Sex From Name\n",
    "\n",
    "Let's use this dataset to estimate the number of females and males in our class. As with our class roster, we begin by lowercasing the names:"
   ]
  },
  {
   "cell_type": "code",
   "execution_count": 6,
   "metadata": {},
   "outputs": [
    {
     "data": {
      "text/html": [
       "<table class=\"data-frame\"><thead><tr><th></th><th>Name</th><th>Sex</th><th>Count</th><th>Year</th></tr><tr><th></th><th>String</th><th>String</th><th>Int64</th><th>Int64</th></tr></thead><tbody><p>1,891,894 rows × 4 columns</p><tr><th>1</th><td>mary</td><td>F</td><td>9217</td><td>1884</td></tr><tr><th>2</th><td>anna</td><td>F</td><td>3860</td><td>1884</td></tr><tr><th>3</th><td>emma</td><td>F</td><td>2587</td><td>1884</td></tr><tr><th>4</th><td>elizabeth</td><td>F</td><td>2549</td><td>1884</td></tr><tr><th>5</th><td>minnie</td><td>F</td><td>2243</td><td>1884</td></tr><tr><th>&vellip;</th><td>&vellip;</td><td>&vellip;</td><td>&vellip;</td><td>&vellip;</td></tr></tbody></table>"
      ],
      "text/latex": [
       "\\begin{tabular}{r|cccc}\n",
       "\t& Name & Sex & Count & Year\\\\\n",
       "\t\\hline\n",
       "\t& String & String & Int64 & Int64\\\\\n",
       "\t\\hline\n",
       "\t1 & mary & F & 9217 & 1884 \\\\\n",
       "\t2 & anna & F & 3860 & 1884 \\\\\n",
       "\t3 & emma & F & 2587 & 1884 \\\\\n",
       "\t4 & elizabeth & F & 2549 & 1884 \\\\\n",
       "\t5 & minnie & F & 2243 & 1884 \\\\\n",
       "\t$\\dots$ & $\\dots$ & $\\dots$ & $\\dots$ & $\\dots$ \\\\\n",
       "\\end{tabular}\n"
      ],
      "text/plain": [
       "1891894×4 DataFrame\n"
      ]
     },
     "execution_count": 6,
     "metadata": {},
     "output_type": "execute_result"
    }
   ],
   "source": [
    "babynames.Name = map(lowercase, babynames.Name)\n",
    "babynames"
   ]
  },
  {
   "cell_type": "markdown",
   "metadata": {},
   "source": [
    "Then, we count up how many male and female babies were born in total for each name:"
   ]
  },
  {
   "cell_type": "code",
   "execution_count": 13,
   "metadata": {},
   "outputs": [
    {
     "data": {
      "text/html": [
       "<table class=\"data-frame\"><thead><tr><th></th><th>Name</th><th>F</th><th>M</th><th>All</th></tr><tr><th></th><th>String</th><th>Int64</th><th>Int64</th><th>Int64</th></tr></thead><tbody><p>96,175 rows × 4 columns</p><tr><th>1</th><td>aaban</td><td>0</td><td>96</td><td>96</td></tr><tr><th>2</th><td>aabha</td><td>35</td><td>0</td><td>35</td></tr><tr><th>3</th><td>aabid</td><td>0</td><td>10</td><td>10</td></tr><tr><th>4</th><td>aabir</td><td>0</td><td>5</td><td>5</td></tr><tr><th>5</th><td>aabriella</td><td>26</td><td>0</td><td>26</td></tr><tr><th>&vellip;</th><td>&vellip;</td><td>&vellip;</td><td>&vellip;</td><td>&vellip;</td></tr></tbody></table>"
      ],
      "text/latex": [
       "\\begin{tabular}{r|cccc}\n",
       "\t& Name & F & M & All\\\\\n",
       "\t\\hline\n",
       "\t& String & Int64 & Int64 & Int64\\\\\n",
       "\t\\hline\n",
       "\t1 & aaban & 0 & 96 & 96 \\\\\n",
       "\t2 & aabha & 35 & 0 & 35 \\\\\n",
       "\t3 & aabid & 0 & 10 & 10 \\\\\n",
       "\t4 & aabir & 0 & 5 & 5 \\\\\n",
       "\t5 & aabriella & 26 & 0 & 26 \\\\\n",
       "\t$\\dots$ & $\\dots$ & $\\dots$ & $\\dots$ & $\\dots$ \\\\\n",
       "\\end{tabular}\n"
      ],
      "text/plain": [
       "96175×4 DataFrame\n"
      ]
     },
     "execution_count": 13,
     "metadata": {},
     "output_type": "execute_result"
    }
   ],
   "source": [
    "sex_counts = by(babynames, [:Name, :Sex], :Count => sum)\n",
    "sort!(sex_counts, :Name)\n",
    "\n",
    "sex_counts.X1 = ifelse.(sex_counts.Sex .== \"F\", sex_counts.Count_sum, 0)\n",
    "sex_counts.X2 = ifelse.(sex_counts.Sex .== \"M\", sex_counts.Count_sum, 0)\n",
    "\n",
    "sex_counts = by(sex_counts, :Name, F = :X1 => sum, M = :X2 => sum)\n",
    "sex_counts.All = map((x,y) -> x + y, sex_counts.F, sex_counts.M)\n",
    "\n",
    "total = [\"All\" sum(sex_counts.F) sum(sex_counts.M) sum(sex_counts.All)]\n",
    "push!(sex_counts, total)\n",
    "\n",
    "sex_counts"
   ]
  },
  {
   "cell_type": "markdown",
   "metadata": {},
   "source": [
    "To determine whether a name is more popular for male or female babies, we can compute the proportion of times the name was given to a female baby."
   ]
  },
  {
   "cell_type": "code",
   "execution_count": 14,
   "metadata": {},
   "outputs": [
    {
     "data": {
      "text/html": [
       "<table class=\"data-frame\"><thead><tr><th></th><th>Name</th><th>F</th><th>M</th><th>All</th><th>prop_female</th></tr><tr><th></th><th>String</th><th>Int64</th><th>Int64</th><th>Int64</th><th>Float64</th></tr></thead><tbody><p>96,175 rows × 5 columns</p><tr><th>1</th><td>aaban</td><td>0</td><td>96</td><td>96</td><td>0.0</td></tr><tr><th>2</th><td>aabha</td><td>35</td><td>0</td><td>35</td><td>1.0</td></tr><tr><th>3</th><td>aabid</td><td>0</td><td>10</td><td>10</td><td>0.0</td></tr><tr><th>4</th><td>aabir</td><td>0</td><td>5</td><td>5</td><td>0.0</td></tr><tr><th>5</th><td>aabriella</td><td>26</td><td>0</td><td>26</td><td>1.0</td></tr><tr><th>&vellip;</th><td>&vellip;</td><td>&vellip;</td><td>&vellip;</td><td>&vellip;</td><td>&vellip;</td></tr></tbody></table>"
      ],
      "text/latex": [
       "\\begin{tabular}{r|ccccc}\n",
       "\t& Name & F & M & All & prop\\_female\\\\\n",
       "\t\\hline\n",
       "\t& String & Int64 & Int64 & Int64 & Float64\\\\\n",
       "\t\\hline\n",
       "\t1 & aaban & 0 & 96 & 96 & 0.0 \\\\\n",
       "\t2 & aabha & 35 & 0 & 35 & 1.0 \\\\\n",
       "\t3 & aabid & 0 & 10 & 10 & 0.0 \\\\\n",
       "\t4 & aabir & 0 & 5 & 5 & 0.0 \\\\\n",
       "\t5 & aabriella & 26 & 0 & 26 & 1.0 \\\\\n",
       "\t$\\dots$ & $\\dots$ & $\\dots$ & $\\dots$ & $\\dots$ & $\\dots$ \\\\\n",
       "\\end{tabular}\n"
      ],
      "text/plain": [
       "96175×5 DataFrame\n"
      ]
     },
     "execution_count": 14,
     "metadata": {},
     "output_type": "execute_result"
    }
   ],
   "source": [
    "sex_counts.prop_female = map((x,y) -> x / y, sex_counts.F, sex_counts.All)\n",
    "sex_counts"
   ]
  },
  {
   "cell_type": "markdown",
   "metadata": {},
   "source": [
    "We can then define a function that looks up the proportion of female names given a name."
   ]
  },
  {
   "cell_type": "code",
   "execution_count": 15,
   "metadata": {},
   "outputs": [
    {
     "data": {
      "text/plain": [
       "\"M\""
      ]
     },
     "execution_count": 15,
     "metadata": {},
     "output_type": "execute_result"
    }
   ],
   "source": [
    "function sex_from_name(name)\n",
    "    if name in sex_counts.Name\n",
    "        df = filter(row -> row.Name == name, sex_counts)\n",
    "        return df.prop_female[1] > 0.5 ? \"F\" : \"M\"\n",
    "    else\n",
    "        return \"Name not in dataset\"\n",
    "    end\n",
    "end\n",
    "\n",
    "sex_from_name(\"sam\")"
   ]
  },
  {
   "cell_type": "markdown",
   "metadata": {},
   "source": [
    "### Our First Widget\n",
    "\n",
    "In this book, we include widgets that allow the reader to interact with functions defined in the book. The widget below displays the output of `sex_from_name` on a reader-provided name.\n",
    "\n",
    "Try typing in the name \"josephine\" and see how the inferred sex changes as more characters are entered."
   ]
  },
  {
   "cell_type": "code",
   "execution_count": 16,
   "metadata": {},
   "outputs": [
    {
     "data": {
      "application/vnd.webio.node+json": {
       "children": [
        {
         "children": [
          {
           "children": [],
           "instanceArgs": {
            "namespace": "html",
            "tag": "input"
           },
           "nodeType": "DOM",
           "props": {
            "attributes": {
             "data-bind": "value: value, valueUpdate: 'input', event: {change: function (){this.changes(this.changes()+1)}}",
             "type": "text"
            },
            "className": "input ",
            "hint": "Enter name",
            "placeholder": "",
            "style": {}
           },
           "type": "node"
          }
         ],
         "instanceArgs": {
          "handlers": {
           "changes": [
            "(function (val){return (val!=this.model[\"changes\"]()) ? (this.valueFromJulia[\"changes\"]=true, this.model[\"changes\"](val)) : undefined})"
           ],
           "value": [
            "(function (val){return (val!=this.model[\"value\"]()) ? (this.valueFromJulia[\"value\"]=true, this.model[\"value\"](val)) : undefined})"
           ]
          },
          "id": "9345423635599769995",
          "imports": {
           "data": [
            {
             "name": "knockout",
             "type": "js",
             "url": "/assetserver/4bdbc0a2e39d33a8c92cbc3c3b83ee34d2563215-knockout.js"
            },
            {
             "name": "knockout_punches",
             "type": "js",
             "url": "/assetserver/c829faa0d3c9b5d6597e053dcc25de6f9072be0d-knockout_punches.js"
            },
            {
             "name": null,
             "type": "js",
             "url": "/assetserver/9ac108fb38b77c61725e590e95a5137aa34cd04c-all.js"
            },
            {
             "name": null,
             "type": "css",
             "url": "/assetserver/cb6cb9da170db73feda0612df991bd3ad9f0d1d1-style.css"
            },
            {
             "name": null,
             "type": "css",
             "url": "/assetserver/fe04331fefdfb6cf3fb183862203aff5b42d9d79-bulma_confined.min.css"
            }
           ],
           "type": "async_block"
          },
          "mount_callbacks": [
           "function () {\n    var handler = (function (ko, koPunches) {\n    ko.punches.enableAll();\n    ko.bindingHandlers.numericValue = {\n        init: function(element, valueAccessor, allBindings, data, context) {\n            var stringified = ko.observable(ko.unwrap(valueAccessor()));\n            stringified.subscribe(function(value) {\n                var val = parseFloat(value);\n                if (!isNaN(val)) {\n                    valueAccessor()(val);\n                }\n            });\n            valueAccessor().subscribe(function(value) {\n                var str = JSON.stringify(value);\n                if ((str == \"0\") && ([\"-0\", \"-0.\"].indexOf(stringified()) >= 0))\n                     return;\n                 if ([\"null\", \"\"].indexOf(str) >= 0)\n                     return;\n                stringified(str);\n            });\n            ko.applyBindingsToNode(\n                element,\n                {\n                    value: stringified,\n                    valueUpdate: allBindings.get('valueUpdate'),\n                },\n                context,\n            );\n        }\n    };\n    var json_data = {\"changes\":WebIO.getval({\"name\":\"changes\",\"scope\":\"9345423635599769995\",\"id\":\"ob_02\",\"type\":\"observable\"}),\"value\":WebIO.getval({\"name\":\"value\",\"scope\":\"9345423635599769995\",\"id\":\"ob_01\",\"type\":\"observable\"})};\n    var self = this;\n    function AppViewModel() {\n        for (var key in json_data) {\n            var el = json_data[key];\n            this[key] = Array.isArray(el) ? ko.observableArray(el) : ko.observable(el);\n        }\n        \n        \n        [this[\"changes\"].subscribe((function (val){!(this.valueFromJulia[\"changes\"]) ? (WebIO.setval({\"name\":\"changes\",\"scope\":\"9345423635599769995\",\"id\":\"ob_02\",\"type\":\"observable\"},val)) : undefined; return this.valueFromJulia[\"changes\"]=false}),self),this[\"value\"].subscribe((function (val){!(this.valueFromJulia[\"value\"]) ? (WebIO.setval({\"name\":\"value\",\"scope\":\"9345423635599769995\",\"id\":\"ob_01\",\"type\":\"observable\"},val)) : undefined; return this.valueFromJulia[\"value\"]=false}),self)]\n        \n    }\n    self.model = new AppViewModel();\n    self.valueFromJulia = {};\n    for (var key in json_data) {\n        self.valueFromJulia[key] = false;\n    }\n    ko.applyBindings(self.model, self.dom);\n}\n);\n    (WebIO.importBlock({\"data\":[{\"name\":\"knockout\",\"type\":\"js\",\"url\":\"/assetserver/4bdbc0a2e39d33a8c92cbc3c3b83ee34d2563215-knockout.js\"},{\"name\":\"knockout_punches\",\"type\":\"js\",\"url\":\"/assetserver/c829faa0d3c9b5d6597e053dcc25de6f9072be0d-knockout_punches.js\"}],\"type\":\"async_block\"})).then((imports) => handler.apply(this, imports));\n}\n"
          ],
          "observables": {
           "changes": {
            "id": "ob_02",
            "sync": false,
            "value": 0
           },
           "value": {
            "id": "ob_01",
            "sync": false,
            "value": "sam"
           }
          },
          "systemjs_options": null
         },
         "nodeType": "Scope",
         "props": {},
         "type": "node"
        }
       ],
       "instanceArgs": {
        "namespace": "html",
        "tag": "div"
       },
       "nodeType": "DOM",
       "props": {
        "className": "field interact-widget"
       },
       "type": "node"
      },
      "text/html": [
       "<div\n",
       "    class=\"webio-mountpoint\"\n",
       "    data-webio-mountpoint=\"8568639540854024513\"\n",
       ">\n",
       "    <script>\n",
       "    if (window.require && require.defined && require.defined(\"nbextensions/webio-jupyter-notebook\")) {\n",
       "        console.log(\"Jupyter WebIO extension detected, not mounting.\");\n",
       "    } else if (window.WebIO) {\n",
       "        WebIO.mount(\n",
       "            document.querySelector('[data-webio-mountpoint=\"8568639540854024513\"]'),\n",
       "            {\"props\":{\"className\":\"field interact-widget\"},\"nodeType\":\"DOM\",\"type\":\"node\",\"instanceArgs\":{\"namespace\":\"html\",\"tag\":\"div\"},\"children\":[{\"props\":{},\"nodeType\":\"Scope\",\"type\":\"node\",\"instanceArgs\":{\"imports\":{\"data\":[{\"name\":\"knockout\",\"type\":\"js\",\"url\":\"\\/assetserver\\/4bdbc0a2e39d33a8c92cbc3c3b83ee34d2563215-knockout.js\"},{\"name\":\"knockout_punches\",\"type\":\"js\",\"url\":\"\\/assetserver\\/c829faa0d3c9b5d6597e053dcc25de6f9072be0d-knockout_punches.js\"},{\"name\":null,\"type\":\"js\",\"url\":\"\\/assetserver\\/9ac108fb38b77c61725e590e95a5137aa34cd04c-all.js\"},{\"name\":null,\"type\":\"css\",\"url\":\"\\/assetserver\\/cb6cb9da170db73feda0612df991bd3ad9f0d1d1-style.css\"},{\"name\":null,\"type\":\"css\",\"url\":\"\\/assetserver\\/fe04331fefdfb6cf3fb183862203aff5b42d9d79-bulma_confined.min.css\"}],\"type\":\"async_block\"},\"id\":\"9345423635599769995\",\"handlers\":{\"changes\":[\"(function (val){return (val!=this.model[\\\"changes\\\"]()) ? (this.valueFromJulia[\\\"changes\\\"]=true, this.model[\\\"changes\\\"](val)) : undefined})\"],\"value\":[\"(function (val){return (val!=this.model[\\\"value\\\"]()) ? (this.valueFromJulia[\\\"value\\\"]=true, this.model[\\\"value\\\"](val)) : undefined})\"]},\"systemjs_options\":null,\"mount_callbacks\":[\"function () {\\n    var handler = (function (ko, koPunches) {\\n    ko.punches.enableAll();\\n    ko.bindingHandlers.numericValue = {\\n        init: function(element, valueAccessor, allBindings, data, context) {\\n            var stringified = ko.observable(ko.unwrap(valueAccessor()));\\n            stringified.subscribe(function(value) {\\n                var val = parseFloat(value);\\n                if (!isNaN(val)) {\\n                    valueAccessor()(val);\\n                }\\n            });\\n            valueAccessor().subscribe(function(value) {\\n                var str = JSON.stringify(value);\\n                if ((str == \\\"0\\\") && ([\\\"-0\\\", \\\"-0.\\\"].indexOf(stringified()) >= 0))\\n                     return;\\n                 if ([\\\"null\\\", \\\"\\\"].indexOf(str) >= 0)\\n                     return;\\n                stringified(str);\\n            });\\n            ko.applyBindingsToNode(\\n                element,\\n                {\\n                    value: stringified,\\n                    valueUpdate: allBindings.get('valueUpdate'),\\n                },\\n                context,\\n            );\\n        }\\n    };\\n    var json_data = {\\\"changes\\\":WebIO.getval({\\\"name\\\":\\\"changes\\\",\\\"scope\\\":\\\"9345423635599769995\\\",\\\"id\\\":\\\"ob_02\\\",\\\"type\\\":\\\"observable\\\"}),\\\"value\\\":WebIO.getval({\\\"name\\\":\\\"value\\\",\\\"scope\\\":\\\"9345423635599769995\\\",\\\"id\\\":\\\"ob_01\\\",\\\"type\\\":\\\"observable\\\"})};\\n    var self = this;\\n    function AppViewModel() {\\n        for (var key in json_data) {\\n            var el = json_data[key];\\n            this[key] = Array.isArray(el) ? ko.observableArray(el) : ko.observable(el);\\n        }\\n        \\n        \\n        [this[\\\"changes\\\"].subscribe((function (val){!(this.valueFromJulia[\\\"changes\\\"]) ? (WebIO.setval({\\\"name\\\":\\\"changes\\\",\\\"scope\\\":\\\"9345423635599769995\\\",\\\"id\\\":\\\"ob_02\\\",\\\"type\\\":\\\"observable\\\"},val)) : undefined; return this.valueFromJulia[\\\"changes\\\"]=false}),self),this[\\\"value\\\"].subscribe((function (val){!(this.valueFromJulia[\\\"value\\\"]) ? (WebIO.setval({\\\"name\\\":\\\"value\\\",\\\"scope\\\":\\\"9345423635599769995\\\",\\\"id\\\":\\\"ob_01\\\",\\\"type\\\":\\\"observable\\\"},val)) : undefined; return this.valueFromJulia[\\\"value\\\"]=false}),self)]\\n        \\n    }\\n    self.model = new AppViewModel();\\n    self.valueFromJulia = {};\\n    for (var key in json_data) {\\n        self.valueFromJulia[key] = false;\\n    }\\n    ko.applyBindings(self.model, self.dom);\\n}\\n);\\n    (WebIO.importBlock({\\\"data\\\":[{\\\"name\\\":\\\"knockout\\\",\\\"type\\\":\\\"js\\\",\\\"url\\\":\\\"\\/assetserver\\/4bdbc0a2e39d33a8c92cbc3c3b83ee34d2563215-knockout.js\\\"},{\\\"name\\\":\\\"knockout_punches\\\",\\\"type\\\":\\\"js\\\",\\\"url\\\":\\\"\\/assetserver\\/c829faa0d3c9b5d6597e053dcc25de6f9072be0d-knockout_punches.js\\\"}],\\\"type\\\":\\\"async_block\\\"})).then((imports) => handler.apply(this, imports));\\n}\\n\"],\"observables\":{\"changes\":{\"sync\":false,\"id\":\"ob_02\",\"value\":0},\"value\":{\"sync\":false,\"id\":\"ob_01\",\"value\":\"sam\"}}},\"children\":[{\"props\":{\"attributes\":{\"type\":\"text\",\"data-bind\":\"value: value, valueUpdate: 'input', event: {change: function (){this.changes(this.changes()+1)}}\"},\"hint\":\"Enter name\",\"placeholder\":\"\",\"className\":\"input \",\"style\":{}},\"nodeType\":\"DOM\",\"type\":\"node\",\"instanceArgs\":{\"namespace\":\"html\",\"tag\":\"input\"},\"children\":[]}]}]},\n",
       "            window,\n",
       "        );\n",
       "    } else {\n",
       "        document\n",
       "            .querySelector('[data-webio-mountpoint=\"8568639540854024513\"]')\n",
       "            .innerHTML = (\n",
       "                '<strong>WebIO not detected. Please read ' +\n",
       "                '<a href=\"https://juliagizmos.github.io/WebIO.jl/latest/troubleshooting/not-detected/\">the troubleshooting guide</a> ' +\n",
       "                'for more information on how to resolve this issue.' +\n",
       "                '</strong>'\n",
       "            );\n",
       "    }\n",
       "    </script>\n",
       "</div>\n"
      ],
      "text/plain": [
       "(div { className=\"field interact-widget\" }\n",
       "    (input { attributes=Dict{Any,Any}(:type => \"text\",Symbol(\"data-bind\") => \"value: value, valueUpdate: 'input', event: {change: function (){this.changes(this.changes()+1)}}\") hint=\"Enter name\" placeholder=\"\" className=\"input \" style=Dict{Any,Any}() }))"
      ]
     },
     "metadata": {
      "application/vnd.webio.node+json": {
       "kernelId": "a0f96b8e-6498-4c10-88d5-16c0577187d9"
      }
     },
     "output_type": "display_data"
    },
    {
     "data": {
      "application/vnd.webio.node+json": {
       "children": [
        {
         "children": [],
         "instanceArgs": {
          "namespace": "html",
          "tag": "div"
         },
         "nodeType": "DOM",
         "props": {
          "className": "webio-observable",
          "setInnerHtml": "<pre>\"M\"</pre>"
         },
         "type": "node"
        }
       ],
       "instanceArgs": {
        "handlers": {
         "obs-output": [
          "function (value, scope) {\n    scope.setInnerHTML(value);\n}\n"
         ]
        },
        "id": "8739693156007103132",
        "imports": {
         "data": [],
         "type": "async_block"
        },
        "mount_callbacks": [],
        "observables": {
         "obs-output": {
          "id": "ob_05",
          "sync": false,
          "value": "<pre>\"M\"</pre>"
         }
        },
        "systemjs_options": null
       },
       "nodeType": "Scope",
       "props": {},
       "type": "node"
      },
      "text/html": [
       "<div\n",
       "    class=\"webio-mountpoint\"\n",
       "    data-webio-mountpoint=\"3302099557017002843\"\n",
       ">\n",
       "    <script>\n",
       "    if (window.require && require.defined && require.defined(\"nbextensions/webio-jupyter-notebook\")) {\n",
       "        console.log(\"Jupyter WebIO extension detected, not mounting.\");\n",
       "    } else if (window.WebIO) {\n",
       "        WebIO.mount(\n",
       "            document.querySelector('[data-webio-mountpoint=\"3302099557017002843\"]'),\n",
       "            {\"props\":{},\"nodeType\":\"Scope\",\"type\":\"node\",\"instanceArgs\":{\"imports\":{\"data\":[],\"type\":\"async_block\"},\"id\":\"16538555870778352661\",\"handlers\":{\"obs-output\":[\"function (value, scope) {\\n    scope.setInnerHTML(value);\\n}\\n\"]},\"systemjs_options\":null,\"mount_callbacks\":[],\"observables\":{\"obs-output\":{\"sync\":false,\"id\":\"ob_04\",\"value\":\"<pre>\\\"M\\\"<\\/pre>\"}}},\"children\":[{\"props\":{\"className\":\"webio-observable\",\"setInnerHtml\":\"<pre>\\\"M\\\"<\\/pre>\"},\"nodeType\":\"DOM\",\"type\":\"node\",\"instanceArgs\":{\"namespace\":\"html\",\"tag\":\"div\"},\"children\":[]}]},\n",
       "            window,\n",
       "        );\n",
       "    } else {\n",
       "        document\n",
       "            .querySelector('[data-webio-mountpoint=\"3302099557017002843\"]')\n",
       "            .innerHTML = (\n",
       "                '<strong>WebIO not detected. Please read ' +\n",
       "                '<a href=\"https://juliagizmos.github.io/WebIO.jl/latest/troubleshooting/not-detected/\">the troubleshooting guide</a> ' +\n",
       "                'for more information on how to resolve this issue.' +\n",
       "                '</strong>'\n",
       "            );\n",
       "    }\n",
       "    </script>\n",
       "</div>\n"
      ],
      "text/plain": [
       "Observable{Any} with 0 listeners. Value:\n",
       "\"M\""
      ]
     },
     "execution_count": 16,
     "metadata": {
      "application/vnd.webio.node+json": {
       "kernelId": "a0f96b8e-6498-4c10-88d5-16c0577187d9"
      }
     },
     "output_type": "execute_result"
    }
   ],
   "source": [
    "name_textbox = textbox(hint=\"Enter name\"; value=\"sam\")\n",
    "display(name_textbox)\n",
    "map(x -> sex_from_name(x), observe(name_textbox))"
   ]
  },
  {
   "cell_type": "markdown",
   "metadata": {},
   "source": [
    "We mark each name in our class roster with its most likely sex."
   ]
  },
  {
   "cell_type": "code",
   "execution_count": 17,
   "metadata": {},
   "outputs": [
    {
     "data": {
      "text/html": [
       "<table class=\"data-frame\"><thead><tr><th></th><th>Name</th><th>Role</th><th>Sex</th></tr><tr><th></th><th>String</th><th>String</th><th>String</th></tr></thead><tbody><p>279 rows × 3 columns</p><tr><th>1</th><td>keeley</td><td>Student</td><td>F</td></tr><tr><th>2</th><td>john</td><td>Student</td><td>M</td></tr><tr><th>3</th><td>bryan</td><td>Student</td><td>M</td></tr><tr><th>4</th><td>kaylan</td><td>Student</td><td>F</td></tr><tr><th>5</th><td>sol</td><td>Student</td><td>M</td></tr><tr><th>&vellip;</th><td>&vellip;</td><td>&vellip;</td><td>&vellip;</td></tr></tbody></table>"
      ],
      "text/latex": [
       "\\begin{tabular}{r|ccc}\n",
       "\t& Name & Role & Sex\\\\\n",
       "\t\\hline\n",
       "\t& String & String & String\\\\\n",
       "\t\\hline\n",
       "\t1 & keeley & Student & F \\\\\n",
       "\t2 & john & Student & M \\\\\n",
       "\t3 & bryan & Student & M \\\\\n",
       "\t4 & kaylan & Student & F \\\\\n",
       "\t5 & sol & Student & M \\\\\n",
       "\t$\\dots$ & $\\dots$ & $\\dots$ & $\\dots$ \\\\\n",
       "\\end{tabular}\n"
      ],
      "text/plain": [
       "279×3 DataFrame\n"
      ]
     },
     "execution_count": 17,
     "metadata": {},
     "output_type": "execute_result"
    }
   ],
   "source": [
    "students[!, :Sex] = map(x -> sex_from_name(x), students.Name)\n",
    "students"
   ]
  },
  {
   "cell_type": "markdown",
   "metadata": {},
   "source": [
    "Now it is easy to estimate how many male and female students we have:"
   ]
  },
  {
   "cell_type": "code",
   "execution_count": 18,
   "metadata": {},
   "outputs": [
    {
     "name": "stdout",
     "output_type": "stream",
     "text": [
      "Dict(\"M\" => 144,\"Name not in dataset\" => 43,\"F\" => 92)3×2 DataFrame\n",
      "│ Row │ Sex                 │ x1    │\n",
      "│     │ \u001b[90mString\u001b[39m              │ \u001b[90mInt64\u001b[39m │\n",
      "├─────┼─────────────────────┼───────┤\n",
      "│ 1   │ F                   │ 92    │\n",
      "│ 2   │ M                   │ 144   │\n",
      "│ 3   │ Name not in dataset │ 43    │"
     ]
    }
   ],
   "source": [
    "using StatsBase\n",
    "print(countmap(students.Sex))\n",
    "#another option\n",
    "print(by(students, :Sex, df -> size(df, 1)))"
   ]
  },
  {
   "cell_type": "markdown",
   "metadata": {},
   "source": [
    "### Inferring Age From Name\n",
    "\n",
    "We can proceed in a similar way to estimate the age distribution of the class, mapping each name to its average age in the dataset."
   ]
  },
  {
   "cell_type": "code",
   "execution_count": 19,
   "metadata": {},
   "outputs": [
    {
     "data": {
      "text/html": [
       "<table class=\"data-frame\"><thead><tr><th></th><th>Name</th><th>Year_mean</th></tr><tr><th></th><th>String</th><th>Float64</th></tr></thead><tbody><p>96,174 rows × 2 columns</p><tr><th>1</th><td>aaban</td><td>2011.89</td></tr><tr><th>2</th><td>aabha</td><td>2013.6</td></tr><tr><th>3</th><td>aabid</td><td>2009.5</td></tr><tr><th>4</th><td>aabir</td><td>2016.0</td></tr><tr><th>5</th><td>aabriella</td><td>2013.25</td></tr><tr><th>&vellip;</th><td>&vellip;</td><td>&vellip;</td></tr></tbody></table>"
      ],
      "text/latex": [
       "\\begin{tabular}{r|cc}\n",
       "\t& Name & Year\\_mean\\\\\n",
       "\t\\hline\n",
       "\t& String & Float64\\\\\n",
       "\t\\hline\n",
       "\t1 & aaban & 2011.89 \\\\\n",
       "\t2 & aabha & 2013.6 \\\\\n",
       "\t3 & aabid & 2009.5 \\\\\n",
       "\t4 & aabir & 2016.0 \\\\\n",
       "\t5 & aabriella & 2013.25 \\\\\n",
       "\t$\\dots$ & $\\dots$ & $\\dots$ \\\\\n",
       "\\end{tabular}\n"
      ],
      "text/plain": [
       "96174×2 DataFrame\n"
      ]
     },
     "execution_count": 19,
     "metadata": {},
     "output_type": "execute_result"
    }
   ],
   "source": [
    "avg_years = by(babynames, [:Name], :Year => mean)\n",
    "sort!(avg_years, :Name)\n",
    "avg_years"
   ]
  },
  {
   "cell_type": "markdown",
   "metadata": {},
   "source": [
    "As before, we define a function to lookup the average birth year using a given name. We've included a widget for the reader to try out some names. We suggest trying names that seem older (e.g. \"Mary\") and names that seem newer (e.g. \"Beyonce\")."
   ]
  },
  {
   "cell_type": "code",
   "execution_count": 20,
   "metadata": {},
   "outputs": [
    {
     "data": {
      "application/vnd.webio.node+json": {
       "children": [
        {
         "children": [
          {
           "children": [],
           "instanceArgs": {
            "namespace": "html",
            "tag": "input"
           },
           "nodeType": "DOM",
           "props": {
            "attributes": {
             "data-bind": "value: value, valueUpdate: 'input', event: {change: function (){this.changes(this.changes()+1)}}",
             "type": "text"
            },
            "className": "input ",
            "hint": "Enter name",
            "placeholder": "",
            "style": {}
           },
           "type": "node"
          }
         ],
         "instanceArgs": {
          "handlers": {
           "changes": [
            "(function (val){return (val!=this.model[\"changes\"]()) ? (this.valueFromJulia[\"changes\"]=true, this.model[\"changes\"](val)) : undefined})"
           ],
           "value": [
            "(function (val){return (val!=this.model[\"value\"]()) ? (this.valueFromJulia[\"value\"]=true, this.model[\"value\"](val)) : undefined})"
           ]
          },
          "id": "13086084720063159394",
          "imports": {
           "data": [
            {
             "name": "knockout",
             "type": "js",
             "url": "/assetserver/4bdbc0a2e39d33a8c92cbc3c3b83ee34d2563215-knockout.js"
            },
            {
             "name": "knockout_punches",
             "type": "js",
             "url": "/assetserver/c829faa0d3c9b5d6597e053dcc25de6f9072be0d-knockout_punches.js"
            },
            {
             "name": null,
             "type": "js",
             "url": "/assetserver/9ac108fb38b77c61725e590e95a5137aa34cd04c-all.js"
            },
            {
             "name": null,
             "type": "css",
             "url": "/assetserver/cb6cb9da170db73feda0612df991bd3ad9f0d1d1-style.css"
            },
            {
             "name": null,
             "type": "css",
             "url": "/assetserver/fe04331fefdfb6cf3fb183862203aff5b42d9d79-bulma_confined.min.css"
            }
           ],
           "type": "async_block"
          },
          "mount_callbacks": [
           "function () {\n    var handler = (function (ko, koPunches) {\n    ko.punches.enableAll();\n    ko.bindingHandlers.numericValue = {\n        init: function(element, valueAccessor, allBindings, data, context) {\n            var stringified = ko.observable(ko.unwrap(valueAccessor()));\n            stringified.subscribe(function(value) {\n                var val = parseFloat(value);\n                if (!isNaN(val)) {\n                    valueAccessor()(val);\n                }\n            });\n            valueAccessor().subscribe(function(value) {\n                var str = JSON.stringify(value);\n                if ((str == \"0\") && ([\"-0\", \"-0.\"].indexOf(stringified()) >= 0))\n                     return;\n                 if ([\"null\", \"\"].indexOf(str) >= 0)\n                     return;\n                stringified(str);\n            });\n            ko.applyBindingsToNode(\n                element,\n                {\n                    value: stringified,\n                    valueUpdate: allBindings.get('valueUpdate'),\n                },\n                context,\n            );\n        }\n    };\n    var json_data = {\"changes\":WebIO.getval({\"name\":\"changes\",\"scope\":\"13086084720063159394\",\"id\":\"ob_07\",\"type\":\"observable\"}),\"value\":WebIO.getval({\"name\":\"value\",\"scope\":\"13086084720063159394\",\"id\":\"ob_06\",\"type\":\"observable\"})};\n    var self = this;\n    function AppViewModel() {\n        for (var key in json_data) {\n            var el = json_data[key];\n            this[key] = Array.isArray(el) ? ko.observableArray(el) : ko.observable(el);\n        }\n        \n        \n        [this[\"changes\"].subscribe((function (val){!(this.valueFromJulia[\"changes\"]) ? (WebIO.setval({\"name\":\"changes\",\"scope\":\"13086084720063159394\",\"id\":\"ob_07\",\"type\":\"observable\"},val)) : undefined; return this.valueFromJulia[\"changes\"]=false}),self),this[\"value\"].subscribe((function (val){!(this.valueFromJulia[\"value\"]) ? (WebIO.setval({\"name\":\"value\",\"scope\":\"13086084720063159394\",\"id\":\"ob_06\",\"type\":\"observable\"},val)) : undefined; return this.valueFromJulia[\"value\"]=false}),self)]\n        \n    }\n    self.model = new AppViewModel();\n    self.valueFromJulia = {};\n    for (var key in json_data) {\n        self.valueFromJulia[key] = false;\n    }\n    ko.applyBindings(self.model, self.dom);\n}\n);\n    (WebIO.importBlock({\"data\":[{\"name\":\"knockout\",\"type\":\"js\",\"url\":\"/assetserver/4bdbc0a2e39d33a8c92cbc3c3b83ee34d2563215-knockout.js\"},{\"name\":\"knockout_punches\",\"type\":\"js\",\"url\":\"/assetserver/c829faa0d3c9b5d6597e053dcc25de6f9072be0d-knockout_punches.js\"}],\"type\":\"async_block\"})).then((imports) => handler.apply(this, imports));\n}\n"
          ],
          "observables": {
           "changes": {
            "id": "ob_07",
            "sync": false,
            "value": 0
           },
           "value": {
            "id": "ob_06",
            "sync": false,
            "value": "fernando"
           }
          },
          "systemjs_options": null
         },
         "nodeType": "Scope",
         "props": {},
         "type": "node"
        }
       ],
       "instanceArgs": {
        "namespace": "html",
        "tag": "div"
       },
       "nodeType": "DOM",
       "props": {
        "className": "field interact-widget"
       },
       "type": "node"
      },
      "text/html": [
       "<div\n",
       "    class=\"webio-mountpoint\"\n",
       "    data-webio-mountpoint=\"6176473878109184639\"\n",
       ">\n",
       "    <script>\n",
       "    if (window.require && require.defined && require.defined(\"nbextensions/webio-jupyter-notebook\")) {\n",
       "        console.log(\"Jupyter WebIO extension detected, not mounting.\");\n",
       "    } else if (window.WebIO) {\n",
       "        WebIO.mount(\n",
       "            document.querySelector('[data-webio-mountpoint=\"6176473878109184639\"]'),\n",
       "            {\"props\":{\"className\":\"field interact-widget\"},\"nodeType\":\"DOM\",\"type\":\"node\",\"instanceArgs\":{\"namespace\":\"html\",\"tag\":\"div\"},\"children\":[{\"props\":{},\"nodeType\":\"Scope\",\"type\":\"node\",\"instanceArgs\":{\"imports\":{\"data\":[{\"name\":\"knockout\",\"type\":\"js\",\"url\":\"\\/assetserver\\/4bdbc0a2e39d33a8c92cbc3c3b83ee34d2563215-knockout.js\"},{\"name\":\"knockout_punches\",\"type\":\"js\",\"url\":\"\\/assetserver\\/c829faa0d3c9b5d6597e053dcc25de6f9072be0d-knockout_punches.js\"},{\"name\":null,\"type\":\"js\",\"url\":\"\\/assetserver\\/9ac108fb38b77c61725e590e95a5137aa34cd04c-all.js\"},{\"name\":null,\"type\":\"css\",\"url\":\"\\/assetserver\\/cb6cb9da170db73feda0612df991bd3ad9f0d1d1-style.css\"},{\"name\":null,\"type\":\"css\",\"url\":\"\\/assetserver\\/fe04331fefdfb6cf3fb183862203aff5b42d9d79-bulma_confined.min.css\"}],\"type\":\"async_block\"},\"id\":\"13086084720063159394\",\"handlers\":{\"changes\":[\"(function (val){return (val!=this.model[\\\"changes\\\"]()) ? (this.valueFromJulia[\\\"changes\\\"]=true, this.model[\\\"changes\\\"](val)) : undefined})\"],\"value\":[\"(function (val){return (val!=this.model[\\\"value\\\"]()) ? (this.valueFromJulia[\\\"value\\\"]=true, this.model[\\\"value\\\"](val)) : undefined})\"]},\"systemjs_options\":null,\"mount_callbacks\":[\"function () {\\n    var handler = (function (ko, koPunches) {\\n    ko.punches.enableAll();\\n    ko.bindingHandlers.numericValue = {\\n        init: function(element, valueAccessor, allBindings, data, context) {\\n            var stringified = ko.observable(ko.unwrap(valueAccessor()));\\n            stringified.subscribe(function(value) {\\n                var val = parseFloat(value);\\n                if (!isNaN(val)) {\\n                    valueAccessor()(val);\\n                }\\n            });\\n            valueAccessor().subscribe(function(value) {\\n                var str = JSON.stringify(value);\\n                if ((str == \\\"0\\\") && ([\\\"-0\\\", \\\"-0.\\\"].indexOf(stringified()) >= 0))\\n                     return;\\n                 if ([\\\"null\\\", \\\"\\\"].indexOf(str) >= 0)\\n                     return;\\n                stringified(str);\\n            });\\n            ko.applyBindingsToNode(\\n                element,\\n                {\\n                    value: stringified,\\n                    valueUpdate: allBindings.get('valueUpdate'),\\n                },\\n                context,\\n            );\\n        }\\n    };\\n    var json_data = {\\\"changes\\\":WebIO.getval({\\\"name\\\":\\\"changes\\\",\\\"scope\\\":\\\"13086084720063159394\\\",\\\"id\\\":\\\"ob_07\\\",\\\"type\\\":\\\"observable\\\"}),\\\"value\\\":WebIO.getval({\\\"name\\\":\\\"value\\\",\\\"scope\\\":\\\"13086084720063159394\\\",\\\"id\\\":\\\"ob_06\\\",\\\"type\\\":\\\"observable\\\"})};\\n    var self = this;\\n    function AppViewModel() {\\n        for (var key in json_data) {\\n            var el = json_data[key];\\n            this[key] = Array.isArray(el) ? ko.observableArray(el) : ko.observable(el);\\n        }\\n        \\n        \\n        [this[\\\"changes\\\"].subscribe((function (val){!(this.valueFromJulia[\\\"changes\\\"]) ? (WebIO.setval({\\\"name\\\":\\\"changes\\\",\\\"scope\\\":\\\"13086084720063159394\\\",\\\"id\\\":\\\"ob_07\\\",\\\"type\\\":\\\"observable\\\"},val)) : undefined; return this.valueFromJulia[\\\"changes\\\"]=false}),self),this[\\\"value\\\"].subscribe((function (val){!(this.valueFromJulia[\\\"value\\\"]) ? (WebIO.setval({\\\"name\\\":\\\"value\\\",\\\"scope\\\":\\\"13086084720063159394\\\",\\\"id\\\":\\\"ob_06\\\",\\\"type\\\":\\\"observable\\\"},val)) : undefined; return this.valueFromJulia[\\\"value\\\"]=false}),self)]\\n        \\n    }\\n    self.model = new AppViewModel();\\n    self.valueFromJulia = {};\\n    for (var key in json_data) {\\n        self.valueFromJulia[key] = false;\\n    }\\n    ko.applyBindings(self.model, self.dom);\\n}\\n);\\n    (WebIO.importBlock({\\\"data\\\":[{\\\"name\\\":\\\"knockout\\\",\\\"type\\\":\\\"js\\\",\\\"url\\\":\\\"\\/assetserver\\/4bdbc0a2e39d33a8c92cbc3c3b83ee34d2563215-knockout.js\\\"},{\\\"name\\\":\\\"knockout_punches\\\",\\\"type\\\":\\\"js\\\",\\\"url\\\":\\\"\\/assetserver\\/c829faa0d3c9b5d6597e053dcc25de6f9072be0d-knockout_punches.js\\\"}],\\\"type\\\":\\\"async_block\\\"})).then((imports) => handler.apply(this, imports));\\n}\\n\"],\"observables\":{\"changes\":{\"sync\":false,\"id\":\"ob_07\",\"value\":0},\"value\":{\"sync\":false,\"id\":\"ob_06\",\"value\":\"fernando\"}}},\"children\":[{\"props\":{\"attributes\":{\"type\":\"text\",\"data-bind\":\"value: value, valueUpdate: 'input', event: {change: function (){this.changes(this.changes()+1)}}\"},\"hint\":\"Enter name\",\"placeholder\":\"\",\"className\":\"input \",\"style\":{}},\"nodeType\":\"DOM\",\"type\":\"node\",\"instanceArgs\":{\"namespace\":\"html\",\"tag\":\"input\"},\"children\":[]}]}]},\n",
       "            window,\n",
       "        );\n",
       "    } else {\n",
       "        document\n",
       "            .querySelector('[data-webio-mountpoint=\"6176473878109184639\"]')\n",
       "            .innerHTML = (\n",
       "                '<strong>WebIO not detected. Please read ' +\n",
       "                '<a href=\"https://juliagizmos.github.io/WebIO.jl/latest/troubleshooting/not-detected/\">the troubleshooting guide</a> ' +\n",
       "                'for more information on how to resolve this issue.' +\n",
       "                '</strong>'\n",
       "            );\n",
       "    }\n",
       "    </script>\n",
       "</div>\n"
      ],
      "text/plain": [
       "(div { className=\"field interact-widget\" }\n",
       "    (input { attributes=Dict{Any,Any}(:type => \"text\",Symbol(\"data-bind\") => \"value: value, valueUpdate: 'input', event: {change: function (){this.changes(this.changes()+1)}}\") hint=\"Enter name\" placeholder=\"\" className=\"input \" style=Dict{Any,Any}() }))"
      ]
     },
     "metadata": {
      "application/vnd.webio.node+json": {
       "kernelId": "a0f96b8e-6498-4c10-88d5-16c0577187d9"
      }
     },
     "output_type": "display_data"
    },
    {
     "data": {
      "application/vnd.webio.node+json": {
       "children": [
        {
         "children": [],
         "instanceArgs": {
          "namespace": "html",
          "tag": "div"
         },
         "nodeType": "DOM",
         "props": {
          "className": "webio-observable",
          "setInnerHtml": "<pre>1960.7127071823204</pre>"
         },
         "type": "node"
        }
       ],
       "instanceArgs": {
        "handlers": {
         "obs-output": [
          "function (value, scope) {\n    scope.setInnerHTML(value);\n}\n"
         ]
        },
        "id": "10746730753064508399",
        "imports": {
         "data": [],
         "type": "async_block"
        },
        "mount_callbacks": [],
        "observables": {
         "obs-output": {
          "id": "ob_10",
          "sync": false,
          "value": "<pre>1960.7127071823204</pre>"
         }
        },
        "systemjs_options": null
       },
       "nodeType": "Scope",
       "props": {},
       "type": "node"
      },
      "text/html": [
       "<div\n",
       "    class=\"webio-mountpoint\"\n",
       "    data-webio-mountpoint=\"7202580171334750606\"\n",
       ">\n",
       "    <script>\n",
       "    if (window.require && require.defined && require.defined(\"nbextensions/webio-jupyter-notebook\")) {\n",
       "        console.log(\"Jupyter WebIO extension detected, not mounting.\");\n",
       "    } else if (window.WebIO) {\n",
       "        WebIO.mount(\n",
       "            document.querySelector('[data-webio-mountpoint=\"7202580171334750606\"]'),\n",
       "            {\"props\":{},\"nodeType\":\"Scope\",\"type\":\"node\",\"instanceArgs\":{\"imports\":{\"data\":[],\"type\":\"async_block\"},\"id\":\"5591034761910530759\",\"handlers\":{\"obs-output\":[\"function (value, scope) {\\n    scope.setInnerHTML(value);\\n}\\n\"]},\"systemjs_options\":null,\"mount_callbacks\":[],\"observables\":{\"obs-output\":{\"sync\":false,\"id\":\"ob_09\",\"value\":\"<pre>1960.7127071823204<\\/pre>\"}}},\"children\":[{\"props\":{\"className\":\"webio-observable\",\"setInnerHtml\":\"<pre>1960.7127071823204<\\/pre>\"},\"nodeType\":\"DOM\",\"type\":\"node\",\"instanceArgs\":{\"namespace\":\"html\",\"tag\":\"div\"},\"children\":[]}]},\n",
       "            window,\n",
       "        );\n",
       "    } else {\n",
       "        document\n",
       "            .querySelector('[data-webio-mountpoint=\"7202580171334750606\"]')\n",
       "            .innerHTML = (\n",
       "                '<strong>WebIO not detected. Please read ' +\n",
       "                '<a href=\"https://juliagizmos.github.io/WebIO.jl/latest/troubleshooting/not-detected/\">the troubleshooting guide</a> ' +\n",
       "                'for more information on how to resolve this issue.' +\n",
       "                '</strong>'\n",
       "            );\n",
       "    }\n",
       "    </script>\n",
       "</div>\n"
      ],
      "text/plain": [
       "Observable{Any} with 0 listeners. Value:\n",
       "1960.7127071823204"
      ]
     },
     "execution_count": 20,
     "metadata": {
      "application/vnd.webio.node+json": {
       "kernelId": "a0f96b8e-6498-4c10-88d5-16c0577187d9"
      }
     },
     "output_type": "execute_result"
    }
   ],
   "source": [
    "function year_from_name(name)\n",
    "    if name in avg_years.Name\n",
    "        df = filter(row -> row.Name == name, avg_years)\n",
    "        return df.Year_mean[1]\n",
    "    else\n",
    "        return missing\n",
    "    end\n",
    "end\n",
    "\n",
    "# Generate input box for you to try some names out:\n",
    "year_textbox = textbox(hint=\"Enter name\"; value=\"fernando\")\n",
    "display(year_textbox)\n",
    "map(x -> year_from_name(x), observe(year_textbox))"
   ]
  },
  {
   "cell_type": "markdown",
   "metadata": {},
   "source": [
    "Now, we can mark each name in Data 100 with its inferred birth year."
   ]
  },
  {
   "cell_type": "code",
   "execution_count": 21,
   "metadata": {},
   "outputs": [
    {
     "data": {
      "text/html": [
       "<table class=\"data-frame\"><thead><tr><th></th><th>Name</th><th>Role</th><th>Sex</th><th>Year_mean</th></tr><tr><th></th><th>String</th><th>String</th><th>String</th><th>Float64⍰</th></tr></thead><tbody><p>279 rows × 4 columns</p><tr><th>1</th><td>keeley</td><td>Student</td><td>F</td><td>1986.68</td></tr><tr><th>2</th><td>john</td><td>Student</td><td>M</td><td>1948.0</td></tr><tr><th>3</th><td>bryan</td><td>Student</td><td>M</td><td>1962.68</td></tr><tr><th>4</th><td>kaylan</td><td>Student</td><td>F</td><td>1997.84</td></tr><tr><th>5</th><td>sol</td><td>Student</td><td>M</td><td>1959.71</td></tr><tr><th>&vellip;</th><td>&vellip;</td><td>&vellip;</td><td>&vellip;</td><td>&vellip;</td></tr></tbody></table>"
      ],
      "text/latex": [
       "\\begin{tabular}{r|cccc}\n",
       "\t& Name & Role & Sex & Year\\_mean\\\\\n",
       "\t\\hline\n",
       "\t& String & String & String & Float64⍰\\\\\n",
       "\t\\hline\n",
       "\t1 & keeley & Student & F & 1986.68 \\\\\n",
       "\t2 & john & Student & M & 1948.0 \\\\\n",
       "\t3 & bryan & Student & M & 1962.68 \\\\\n",
       "\t4 & kaylan & Student & F & 1997.84 \\\\\n",
       "\t5 & sol & Student & M & 1959.71 \\\\\n",
       "\t$\\dots$ & $\\dots$ & $\\dots$ & $\\dots$ & $\\dots$ \\\\\n",
       "\\end{tabular}\n"
      ],
      "text/plain": [
       "279×4 DataFrame\n"
      ]
     },
     "execution_count": 21,
     "metadata": {},
     "output_type": "execute_result"
    }
   ],
   "source": [
    "students[!, :Year_mean] = map(x -> year_from_name(x), students.Name)\n",
    "students"
   ]
  },
  {
   "cell_type": "markdown",
   "metadata": {},
   "source": [
    "Then, it is easy to plot the distribution of years:"
   ]
  },
  {
   "cell_type": "code",
   "execution_count": 22,
   "metadata": {},
   "outputs": [
    {
     "data": {
      "image/png": "[encoded data removed]"
     },
     "execution_count": 22,
     "metadata": {},
     "output_type": "execute_result"
    }
   ],
   "source": [
    "pyplot()\n",
    "histogram(students.Year_mean, xaxis=(\"Year\"), leg=false)"
   ]
  },
  {
   "cell_type": "markdown",
   "metadata": {},
   "source": [
    "To compute the average year:"
   ]
  },
  {
   "cell_type": "code",
   "execution_count": 23,
   "metadata": {},
   "outputs": [
    {
     "data": {
      "text/plain": [
       "1971.1556272825674"
      ]
     },
     "execution_count": 23,
     "metadata": {},
     "output_type": "execute_result"
    }
   ],
   "source": [
    "mean(skipmissing(students.Year_mean))\n",
    "\n",
    "# for reference: dealing with missing values - https://docs.julialang.org/en/v1/manual/missing/"
   ]
  },
  {
   "cell_type": "markdown",
   "metadata": {},
   "source": [
    "Our class has an average age of 35 years old—nearly twice our expected age in a course for college undergraduates. Why might our estimate be so far off?\n",
    "\n",
    "As data scientists, we often run into results that don't agree with our expectations. Our constant challenge is to determine whether surprising results are caused by an error in our procedure or by an actual, real-world phenomenon. Since there are no simple recipes to guarantee accurate conclusions, data scientists must equip themselves with guidelines and principles to reduce the likelihood of false discovery.\n",
    "\n",
    "In this particular case, the most likely explanation for our unexpected result is that most common names have been used for many years. For example, the name John was quite popular throughout the history recorded in our data. We can confirm this by plotting the number of babies given the name \"John\" each year:"
   ]
  },
  {
   "cell_type": "code",
   "execution_count": 24,
   "metadata": {},
   "outputs": [
    {
     "data": {
      "text/html": [
       "<table class=\"data-frame\"><thead><tr><th></th><th>Name</th><th>Sex</th><th>Count</th><th>Year</th></tr><tr><th></th><th>String</th><th>String</th><th>Int64</th><th>Int64</th></tr></thead><tbody><p>137 rows × 4 columns</p><tr><th>1</th><td>john</td><td>M</td><td>9655</td><td>1880</td></tr><tr><th>2</th><td>john</td><td>M</td><td>8769</td><td>1881</td></tr><tr><th>3</th><td>john</td><td>M</td><td>9557</td><td>1882</td></tr><tr><th>4</th><td>john</td><td>M</td><td>8894</td><td>1883</td></tr><tr><th>5</th><td>john</td><td>M</td><td>9388</td><td>1884</td></tr><tr><th>&vellip;</th><td>&vellip;</td><td>&vellip;</td><td>&vellip;</td><td>&vellip;</td></tr></tbody></table>"
      ],
      "text/latex": [
       "\\begin{tabular}{r|cccc}\n",
       "\t& Name & Sex & Count & Year\\\\\n",
       "\t\\hline\n",
       "\t& String & String & Int64 & Int64\\\\\n",
       "\t\\hline\n",
       "\t1 & john & M & 9655 & 1880 \\\\\n",
       "\t2 & john & M & 8769 & 1881 \\\\\n",
       "\t3 & john & M & 9557 & 1882 \\\\\n",
       "\t4 & john & M & 8894 & 1883 \\\\\n",
       "\t5 & john & M & 9388 & 1884 \\\\\n",
       "\t$\\dots$ & $\\dots$ & $\\dots$ & $\\dots$ & $\\dots$ \\\\\n",
       "\\end{tabular}\n"
      ],
      "text/plain": [
       "137×4 DataFrame\n"
      ]
     },
     "execution_count": 24,
     "metadata": {},
     "output_type": "execute_result"
    }
   ],
   "source": [
    "john_df = filter(row -> row.Name == \"john\" &&  row.Sex == \"M\", babynames)\n",
    "sort!(john_df, :Year)"
   ]
  },
  {
   "cell_type": "code",
   "execution_count": 25,
   "metadata": {},
   "outputs": [
    {
     "data": {
      "image/png": "[encoded data removed]"
     },
     "execution_count": 25,
     "metadata": {},
     "output_type": "execute_result"
    }
   ],
   "source": [
    "plot(john_df.Year, john_df.Count, xaxis=\"Year\", leg=false)"
   ]
  },
  {
   "cell_type": "markdown",
   "metadata": {},
   "source": [
    "It appears that the average birth year does not provide an accurate estimate for a given person's age in general. In a few cases, however, a person's first name is quite revealing!"
   ]
  },
  {
   "cell_type": "code",
   "execution_count": 26,
   "metadata": {},
   "outputs": [
    {
     "data": {
      "image/png": "[encoded data removed]"
     },
     "execution_count": 26,
     "metadata": {},
     "output_type": "execute_result"
    }
   ],
   "source": [
    "kanye_df = filter(row -> row.Name == \"kanye\" &&  row.Sex == \"M\", babynames)\n",
    "sort!(kanye_df, :Year)\n",
    "plot(kanye_df.Year, kanye_df.Count, xaxis=(\"Year\"), leg=false)"
   ]
  },
  {
   "cell_type": "markdown",
   "metadata": {},
   "source": [
    "## Summary\n",
    "\n",
    "In this chapter, we walk through a complete iteration of the data science lifecycle: question formulation, data manipulation, exploratory data analysis, and prediction. We expand upon each of these steps in the following chapters.\n",
    "\n",
    "The first half of the book (chapters 1-9) broadly covers the first three steps in the lifecycle and has a strong focus on computation. The second half of the book (chapters 10-18) uses both computational and statistical thinking to cover modeling, inference, and prediction.\n",
    "\n",
    "As a whole, this book hopes to impart the reader with the principles and techniques of data science."
   ]
  }
 ],
 "metadata": {
  "@webio": {
   "lastCommId": "77c67eb3acfb4a6981b005e5dbc4bda7",
   "lastKernelId": "a0f96b8e-6498-4c10-88d5-16c0577187d9"
  },
  "kernelspec": {
   "display_name": "Julia 1.2.0",
   "language": "julia",
   "name": "julia-1.2"
  },
  "language_info": {
   "file_extension": ".jl",
   "mimetype": "application/julia",
   "name": "julia",
   "version": "1.2.0"
  }
 },
 "nbformat": 4,
 "nbformat_minor": 2
}
