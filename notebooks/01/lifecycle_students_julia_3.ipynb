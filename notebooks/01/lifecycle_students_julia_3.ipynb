{
 "cells": [
  {
   "cell_type": "code",
   "execution_count": 1,
   "metadata": {},
   "outputs": [],
   "source": [
    "# HIDDEN\n",
    "Base.displaysize() = (5, 80)\n",
    "using DataFrames\n",
    "using CSV"
   ]
  },
  {
   "cell_type": "code",
   "execution_count": 2,
   "metadata": {},
   "outputs": [],
   "source": [
    "# HIDDEN\n",
    "students = CSV.read(\"roster.csv\")\n",
    "\n",
    "# Do we want to replace the original column?\n",
    "students.Name = copy(students.Name)\n",
    "for i in 1:size(students, 1)\n",
    "    students.Name[i] = lowercase(students.Name[i])\n",
    "end"
   ]
  },
  {
   "cell_type": "markdown",
   "metadata": {},
   "source": [
    "## What's in a Name?"
   ]
  },
  {
   "cell_type": "markdown",
   "metadata": {},
   "source": [
    "So far, we have asked a broad question about our data: \"Do the first names of students in Data 100 tell us anything about the class?\"\n",
    "\n",
    "We have cleaned our data by converting all our names to lowercase. During our exploratory data analysis we discovered that our roster contains about 270 names of students in the class and on the waitlist. Most of our first names are between 4 and 8 characters long.\n",
    "\n",
    "What else can we discover about our class based on their first names? We might consider a single name from our dataset:"
   ]
  },
  {
   "cell_type": "code",
   "execution_count": 3,
   "metadata": {},
   "outputs": [
    {
     "data": {
      "text/plain": [
       "\"jerry\""
      ]
     },
     "execution_count": 3,
     "metadata": {},
     "output_type": "execute_result"
    }
   ],
   "source": [
    "students.Name[6]"
   ]
  },
  {
   "cell_type": "markdown",
   "metadata": {},
   "source": [
    "From this name we can infer that the student is likely a male. We can also take a guess at the student's age. For example, if we happen to know that Jerry was a very popular baby name in 1998, we might guess that this student is around twenty years old.\n",
    "\n",
    "This thinking gives us two new questions to investigate:\n",
    "\n",
    "1. \"Do the first names of students in Data 100 tell us the distribution of sex in the class?\"\n",
    "1. \"Do the first names of students in Data 100 tell us the distribution of ages in the class?\"\n",
    "\n",
    "In order to investigate these questions, we will need a dataset that associates names with sex and year. Conveniently, the US Social Security department hosts such a dataset online ([https://www.ssa.gov/oact/babynames/index.html](https://www.ssa.gov/oact/babynames/index.html)). Their dataset records the names given to babies at birth and is thus often referred to as the Baby Names dataset.\n",
    "\n",
    "We will start by downloading and then loading the dataset into Julia. Again, don't worry about understanding the code in this this chapter—focus instead on understanding the overall process.\n",
    "\n",
    "[zipfile]: https://en.wikipedia.org/wiki/Zip_(file_format)"
   ]
  },
  {
   "cell_type": "code",
   "execution_count": 4,
   "metadata": {},
   "outputs": [
    {
     "data": {
      "text/html": [
       "<table class=\"data-frame\"><thead><tr><th></th><th>Name</th><th>Sex</th><th>Count</th><th>Year</th></tr><tr><th></th><th>String</th><th>String</th><th>Int64</th><th>String</th></tr></thead><tbody><p>1,891,894 rows × 4 columns</p><tr><th>1</th><td>Mary</td><td>F</td><td>9217</td><td>1884</td></tr><tr><th>2</th><td>Anna</td><td>F</td><td>3860</td><td>1884</td></tr><tr><th>3</th><td>Emma</td><td>F</td><td>2587</td><td>1884</td></tr><tr><th>4</th><td>Elizabeth</td><td>F</td><td>2549</td><td>1884</td></tr><tr><th>5</th><td>Minnie</td><td>F</td><td>2243</td><td>1884</td></tr><tr><th>&vellip;</th><td>&vellip;</td><td>&vellip;</td><td>&vellip;</td><td>&vellip;</td></tr></tbody></table>"
      ],
      "text/latex": [
       "\\begin{tabular}{r|cccc}\n",
       "\t& Name & Sex & Count & Year\\\\\n",
       "\t\\hline\n",
       "\t& String & String & Int64 & String\\\\\n",
       "\t\\hline\n",
       "\t1 & Mary & F & 9217 & 1884 \\\\\n",
       "\t2 & Anna & F & 3860 & 1884 \\\\\n",
       "\t3 & Emma & F & 2587 & 1884 \\\\\n",
       "\t4 & Elizabeth & F & 2549 & 1884 \\\\\n",
       "\t5 & Minnie & F & 2243 & 1884 \\\\\n",
       "\t$\\dots$ & $\\dots$ & $\\dots$ & $\\dots$ & $\\dots$ \\\\\n",
       "\\end{tabular}\n"
      ],
      "text/plain": [
       "1891894×4 DataFrame\n"
      ]
     },
     "execution_count": 4,
     "metadata": {},
     "output_type": "execute_result"
    }
   ],
   "source": [
    "using CSV\n",
    "using ZipFile\n",
    "\n",
    "data_url = \"https://www.ssa.gov/oact/babynames/names.zip\"\n",
    "local_filename = \"babynames.zip\"\n",
    "\n",
    "if !(local_filename in readdir()) # if the data exists don't download again\n",
    "    run(`curl --output $local_filename $data_url`)\n",
    "end\n",
    "\n",
    "r = ZipFile.Reader(\"babynames.zip\");\n",
    "\n",
    "function read_txt_files_into_dataframe()\n",
    "    babynames = DataFrame()\n",
    "    columnSymbols = [:Name, :Sex, :Count]\n",
    "    \n",
    "    for file in r.files\n",
    "        if split(file.name, \".\")[end] == \"txt\"\n",
    "            df = CSV.read(file, header=columnSymbols, copycols=true)\n",
    "            df[!, :Year] .= parse(Int, file.name[end-7:end-4])\n",
    "            babynames = vcat(babynames, df)\n",
    "        end\n",
    "    end\n",
    "\n",
    "    return babynames\n",
    "end\n",
    "\n",
    "babynames = read_txt_files_into_dataframe()\n",
    "babynames"
   ]
  },
  {
   "cell_type": "markdown",
   "metadata": {},
   "source": [
    "It looks like the dataset contains names, the sex given to the baby, the number of babies with that name, and the year of birth for those babies. To be sure, we check the dataset description from the SSN Office ([https://www.ssa.gov/oact/babynames/background.html](https://www.ssa.gov/oact/babynames/background.html)).\n",
    "\n",
    "> All names are from Social Security card applications for births that occurred in the United States after 1879. Note  that many people born before 1937 never applied for a Social Security card, so their names are not included in our data. For others who did apply, our records may not show the place of birth, and again their names are not included in our data.\n",
    "> \n",
    "> All data are from a 100% sample of our records on Social Security card applications as of March 2017.\n",
    "\n",
    "We begin by plotting the number of male and female babies born each year:"
   ]
  },
  {
   "cell_type": "code",
   "execution_count": null,
   "metadata": {},
   "outputs": [],
   "source": []
  }
 ],
 "metadata": {
  "kernelspec": {
   "display_name": "Julia 1.2.0",
   "language": "julia",
   "name": "julia-1.2"
  },
  "language_info": {
   "file_extension": ".jl",
   "mimetype": "application/julia",
   "name": "julia",
   "version": "1.2.0"
  }
 },
 "nbformat": 4,
 "nbformat_minor": 2
}
