{
 "cells": [
  {
   "cell_type": "code",
   "execution_count": 1,
   "metadata": {},
   "outputs": [],
   "source": [
    "# HIDDEN\n",
    "Base.displaysize() = (5, 80)\n",
    "using DataFrames\n",
    "using CSV"
   ]
  },
  {
   "cell_type": "code",
   "execution_count": 2,
   "metadata": {},
   "outputs": [],
   "source": [
    "# HIDDEN\n",
    "students = CSV.read(\"roster.csv\")\n",
    "\n",
    "students.Name = copy(students.Name)\n",
    "for i in 1:size(students, 1)\n",
    "    students.Name[i] = lowercase(students.Name[i])\n",
    "end"
   ]
  },
  {
   "cell_type": "markdown",
   "metadata": {},
   "source": [
    "## Exploratory Data Analysis"
   ]
  },
  {
   "cell_type": "markdown",
   "metadata": {},
   "source": [
    "The term Exploratory Data Analysis (EDA for short) refers to the process of discovering traits about our data that inform future analysis.\n",
    "\n",
    "Here's the `students` table from the previous page:"
   ]
  },
  {
   "cell_type": "code",
   "execution_count": 3,
   "metadata": {},
   "outputs": [
    {
     "data": {
      "text/html": [
       "<table class=\"data-frame\"><thead><tr><th></th><th>Name</th><th>Role</th></tr><tr><th></th><th>String</th><th>String</th></tr></thead><tbody><p>279 rows × 2 columns</p><tr><th>1</th><td>keeley</td><td>Student</td></tr><tr><th>2</th><td>john</td><td>Student</td></tr><tr><th>3</th><td>bryan</td><td>Student</td></tr><tr><th>4</th><td>kaylan</td><td>Student</td></tr><tr><th>5</th><td>sol</td><td>Student</td></tr><tr><th>&vellip;</th><td>&vellip;</td><td>&vellip;</td></tr></tbody></table>"
      ],
      "text/latex": [
       "\\begin{tabular}{r|cc}\n",
       "\t& Name & Role\\\\\n",
       "\t\\hline\n",
       "\t& String & String\\\\\n",
       "\t\\hline\n",
       "\t1 & keeley & Student \\\\\n",
       "\t2 & john & Student \\\\\n",
       "\t3 & bryan & Student \\\\\n",
       "\t4 & kaylan & Student \\\\\n",
       "\t5 & sol & Student \\\\\n",
       "\t$\\dots$ & $\\dots$ & $\\dots$ \\\\\n",
       "\\end{tabular}\n"
      ],
      "text/plain": [
       "279×2 DataFrame\n"
      ]
     },
     "execution_count": 3,
     "metadata": {},
     "output_type": "execute_result"
    }
   ],
   "source": [
    "students"
   ]
  },
  {
   "cell_type": "markdown",
   "metadata": {},
   "source": [
    "We are left with a number of questions. How many students are in this roster? What does the `Role` column mean? We conduct EDA in order to understand our data more thoroughly.\n",
    "\n",
    "Oftentimes, we explore the data by repeatedly posing questions as we uncover more information.\n",
    "\n",
    "**How many students are in our dataset?**"
   ]
  },
  {
   "cell_type": "code",
   "execution_count": 4,
   "metadata": {},
   "outputs": [
    {
     "name": "stdout",
     "output_type": "stream",
     "text": [
      "There are 279 students on the roster."
     ]
    }
   ],
   "source": [
    "print(\"There are \", size(students, 1), \" students on the roster.\")"
   ]
  },
  {
   "cell_type": "markdown",
   "metadata": {},
   "source": [
    "A natural follow-up question: does this dataset contain the complete list of students? In this case, this table contains all students in one semester's offering of Data 100.\n",
    "\n",
    "**What is the meaning of the `Role` field?**\n",
    "\n",
    "We often example the field's data in order to understand the field itself."
   ]
  },
  {
   "cell_type": "code",
   "execution_count": 5,
   "metadata": {},
   "outputs": [
    {
     "name": "stdout",
     "output_type": "stream",
     "text": [
      "\"Student\" => 237\n",
      "\"Waitlist Student\" => 42\n"
     ]
    }
   ],
   "source": [
    "using StatsBase\n",
    "roles = countmap(students.Role)\n",
    "for role in roles\n",
    "    println(role)\n",
    "end"
   ]
  },
  {
   "cell_type": "markdown",
   "metadata": {},
   "source": [
    "We can see here that our data contains not only students enrolled in the class at the time but also the students on the waitlist. The `Role` column tells us whether each student is enrolled.\n",
    "\n",
    "**What about the names?  How can we summarize this field?**\n",
    "\n",
    "In Data 100 we will work with many different kinds of data, including numerical, categorical, and text data. Each type of data has its own set of tools and techniques.\n",
    "\n",
    "A quick way to start understanding the names is to examine the lengths of the names."
   ]
  },
  {
   "cell_type": "code",
   "execution_count": 8,
   "metadata": {},
   "outputs": [
    {
     "data": {
      "image/png": "[encoded data removed]"
     },
     "execution_count": 8,
     "metadata": {},
     "output_type": "execute_result"
    }
   ],
   "source": [
    "using Plots\n",
    "pyplot()\n",
    "histogram(length.(students[:Name]), normalize=true, bins=0:12,\n",
    "    xaxis=(\"Number of Characters\"), yaxis=(\"Proportion per character\"), leg=false)"
   ]
  },
  {
   "cell_type": "markdown",
   "metadata": {},
   "source": [
    "This visualization shows us that most names are between 3 and 9 characters long. This gives us a chance to check whether our data seem reasonable — if there were many names that were 1 character long we'd have good reason to re-examine our data."
   ]
  },
  {
   "cell_type": "markdown",
   "metadata": {},
   "source": [
    "### What's in a Name?\n",
    "\n",
    "Although this dataset is rather simple, we will soon see that first names alone can reveal quite a bit about our group of students."
   ]
  }
 ],
 "metadata": {
  "kernelspec": {
   "display_name": "Julia nodeps 1.2.0",
   "language": "julia",
   "name": "julia-nodeps-1.2"
  },
  "language_info": {
   "file_extension": ".jl",
   "mimetype": "application/julia",
   "name": "julia",
   "version": "1.2.0"
  }
 },
 "nbformat": 4,
 "nbformat_minor": 2
}
