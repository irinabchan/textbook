{
 "cells": [
  {
   "cell_type": "code",
   "execution_count": 2,
   "metadata": {},
   "outputs": [],
   "source": [
    "# HIDDEN\n",
    "Base.displaysize() = (5, 80)\n",
    "using DataFrames\n",
    "using CSV"
   ]
  },
  {
   "cell_type": "markdown",
   "metadata": {},
   "source": [
    "## The Students of Data 100"
   ]
  },
  {
   "cell_type": "markdown",
   "metadata": {},
   "source": [
    "The data science lifecycle involves the following general steps:\n",
    "\n",
    "1. **Question/Problem Formulation:** \n",
    "    1. What do we want to know or what problems are we trying to solve?  \n",
    "    1. What are our hypotheses? \n",
    "    1. What are our metrics of success? <br/><br/>\n",
    "1. **Data Acquisition and Cleaning:** \n",
    "    1. What data do we have and what data do we need?  \n",
    "    1. How will we collect more data? \n",
    "    1. How do we organize the data for analysis?  <br/><br/>\n",
    "1. **Exploratory Data Analysis:** \n",
    "    1. Do we already have relevant data?  \n",
    "    1. What are the biases, anomalies, or other issues with the data?  \n",
    "    1. How do we transform the data to enable effective analysis? <br/><br/>\n",
    "1. **Prediction and Inference:** \n",
    "    1. What does the data say about the world?  \n",
    "    1. Does it answer our questions or accurately solve the problem?  \n",
    "    1. How robust are our conclusions? <br/><br/>\n",
    "    \n",
    "We now demonstrate this process applied to a dataset of student first names from a previous offering of Data 100. In this chapter, we proceed quickly in order to give the reader a general sense of a complete iteration through the lifecycle. In later chapters, we expand on each step in this process to develop a repertoire of skills and principles."
   ]
  },
  {
   "cell_type": "markdown",
   "metadata": {},
   "source": [
    "### Question Formulation\n",
    "\n",
    "We would like to figure out if the student first names give\n",
    "us additional information about the students themselves. Although this is a\n",
    "vague question to ask, it is enough to get us working with our data and we can\n",
    "make the question more precise as we go."
   ]
  },
  {
   "cell_type": "markdown",
   "metadata": {},
   "source": [
    "### Data Acquisition and Cleaning\n",
    "\n",
    "Let's begin by looking at our data, the roster of student first names that we've downloaded from a previous offering of Data 100.\n",
    "\n",
    "Don't worry if you don't understand the code for now; we introduce the libraries in more depth soon. Instead, focus on the process and the charts that we create."
   ]
  },
  {
   "cell_type": "code",
   "execution_count": 3,
   "metadata": {},
   "outputs": [
    {
     "data": {
      "text/html": [
       "<table class=\"data-frame\"><thead><tr><th></th><th>Name</th><th>Role</th></tr><tr><th></th><th>String</th><th>String</th></tr></thead><tbody><p>279 rows × 2 columns</p><tr><th>1</th><td>Keeley</td><td>Student</td></tr><tr><th>2</th><td>John</td><td>Student</td></tr><tr><th>3</th><td>BRYAN</td><td>Student</td></tr><tr><th>4</th><td>Kaylan</td><td>Student</td></tr><tr><th>5</th><td>Sol</td><td>Student</td></tr><tr><th>&vellip;</th><td>&vellip;</td><td>&vellip;</td></tr></tbody></table>"
      ],
      "text/latex": [
       "\\begin{tabular}{r|cc}\n",
       "\t& Name & Role\\\\\n",
       "\t\\hline\n",
       "\t& String & String\\\\\n",
       "\t\\hline\n",
       "\t1 & Keeley & Student \\\\\n",
       "\t2 & John & Student \\\\\n",
       "\t3 & BRYAN & Student \\\\\n",
       "\t4 & Kaylan & Student \\\\\n",
       "\t5 & Sol & Student \\\\\n",
       "\t$\\dots$ & $\\dots$ & $\\dots$ \\\\\n",
       "\\end{tabular}\n"
      ],
      "text/plain": [
       "279×2 DataFrame\n"
      ]
     },
     "execution_count": 3,
     "metadata": {},
     "output_type": "execute_result"
    }
   ],
   "source": [
    "using DataFrames\n",
    "using CSV\n",
    "\n",
    "students = CSV.read(\"roster.csv\")\n",
    "students"
   ]
  },
  {
   "cell_type": "markdown",
   "metadata": {},
   "source": [
    "We can quickly see that there are some quirks in the data. For example, one of the student's names is all uppercase letters. In addition, it is not obvious what the Role column is for.\n",
    "\n",
    "**In Data 100, we will study how to identify anomalies in data and apply corrections.** The differences in capitalization will cause our programs to think that `'BRYAN'` and `'Bryan'` are different names when they are identical for our purposes. Let's convert all names to lower case to avoid this."
   ]
  },
  {
   "cell_type": "code",
   "execution_count": 4,
   "metadata": {},
   "outputs": [
    {
     "data": {
      "text/html": [
       "<table class=\"data-frame\"><thead><tr><th></th><th>Name</th><th>Role</th></tr><tr><th></th><th>String</th><th>String</th></tr></thead><tbody><p>279 rows × 2 columns</p><tr><th>1</th><td>keeley</td><td>Student</td></tr><tr><th>2</th><td>john</td><td>Student</td></tr><tr><th>3</th><td>bryan</td><td>Student</td></tr><tr><th>4</th><td>kaylan</td><td>Student</td></tr><tr><th>5</th><td>sol</td><td>Student</td></tr><tr><th>&vellip;</th><td>&vellip;</td><td>&vellip;</td></tr></tbody></table>"
      ],
      "text/latex": [
       "\\begin{tabular}{r|cc}\n",
       "\t& Name & Role\\\\\n",
       "\t\\hline\n",
       "\t& String & String\\\\\n",
       "\t\\hline\n",
       "\t1 & keeley & Student \\\\\n",
       "\t2 & john & Student \\\\\n",
       "\t3 & bryan & Student \\\\\n",
       "\t4 & kaylan & Student \\\\\n",
       "\t5 & sol & Student \\\\\n",
       "\t$\\dots$ & $\\dots$ & $\\dots$ \\\\\n",
       "\\end{tabular}\n"
      ],
      "text/plain": [
       "279×2 DataFrame\n"
      ]
     },
     "execution_count": 4,
     "metadata": {},
     "output_type": "execute_result"
    }
   ],
   "source": [
    "# Do we want to replace the original column?\n",
    "students.Name = map(lowercase, students.Name)\n",
    "students"
   ]
  },
  {
   "cell_type": "markdown",
   "metadata": {},
   "source": [
    "Now that our data are in a more useful format, we proceed to exploratory data analysis."
   ]
  }
 ],
 "metadata": {
  "kernelspec": {
   "display_name": "Julia 1.2.0",
   "language": "julia",
   "name": "julia-1.2"
  },
  "language_info": {
   "file_extension": ".jl",
   "mimetype": "application/julia",
   "name": "julia",
   "version": "1.2.0"
  }
 },
 "nbformat": 4,
 "nbformat_minor": 2
}
