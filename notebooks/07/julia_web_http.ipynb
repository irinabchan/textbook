{
 "cells": [
  {
   "cell_type": "code",
   "execution_count": 1,
   "metadata": {},
   "outputs": [],
   "source": [
    "# HIDDEN\n",
    "Base.displaysize() = (5, 110)"
   ]
  },
  {
   "cell_type": "markdown",
   "metadata": {
    "colab_type": "text",
    "id": "C9asOtmc0K6v"
   },
   "source": [
    "## HTTP\n",
    "\n",
    "HTTP (AKA **H**yper**T**ext **T**ransfer **P**rotocol) is a *request-response* protocol that allows one computer to talk to another over the Internet."
   ]
  },
  {
   "cell_type": "markdown",
   "metadata": {},
   "source": [
    "## Requests and Responses\n",
    "\n",
    "The Internet allows computers to send text to one another, but does not impose any restrictions on what that text contains. HTTP defines a structure on the text communication between one computer (client) and another (server). In this protocol, a client submits a *request* to a server, a specially formatted text message. The server sends a text *response* back to the client.\n",
    "\n",
    "The command line tool `curl` gives us a simple way to send HTTP requests. In the output below, lines starting with `>` indicate the text sent in our request; the remaining lines are the server's response."
   ]
  },
  {
   "cell_type": "markdown",
   "metadata": {},
   "source": [
    "```bash\n",
    "$ curl -v https://httpbin.org/html\n",
    "```"
   ]
  },
  {
   "cell_type": "markdown",
   "metadata": {},
   "source": [
    "```\n",
    "> GET /html HTTP/1.1\n",
    "> Host: httpbin.org\n",
    "> User-Agent: curl/7.55.1\n",
    "> Accept: */*\n",
    "> \n",
    "< HTTP/1.1 200 OK\n",
    "< Connection: keep-alive\n",
    "< Server: meinheld/0.6.1\n",
    "< Date: Wed, 11 Apr 2018 18:15:03 GMT\n",
    "< \n",
    "<html>\n",
    "  <body>\n",
    "    <h1>Herman Melville - Moby-Dick</h1>\n",
    "    <p>\n",
    "      Availing himself of the mild...\n",
    "    </p>\n",
    "  </body>\n",
    "</html>\n",
    "```"
   ]
  },
  {
   "cell_type": "markdown",
   "metadata": {},
   "source": [
    "Running the `curl` command above causes the client's computer to construct a text message that looks like:\n",
    "\n",
    "```\n",
    "GET /html HTTP/1.1\n",
    "Host: httpbin.org\n",
    "User-Agent: curl/7.55.1\n",
    "Accept: */*\n",
    "{blank_line}\n",
    "```\n",
    "\n",
    "This message follows a specific format: it starts with `GET /html HTTP/1.1` which indicates that the message is an HTTP `GET` request to the `/html` page. Each of the three lines that follow form HTTP headers, optional information that `curl` sends to the server. The HTTP headers have the format `{name}: {value}`. Finally, the blank line at the end of the message tells the server that the message ends after three headers. Note that we've marked the blank line with `{blank_line}` in the snippet above; in the actual message `{blank_line}` is replaced with a blank line."
   ]
  },
  {
   "cell_type": "markdown",
   "metadata": {},
   "source": [
    "This HTTP protocol is used in almost every application that interacts with the Internet. For example, visiting https://httpbin.org/html in your web browser makes the same basic HTTP request as the `curl` command above. Instead of displaying the response as plain text as we have above, your browser recognizes that the text is an HTML document and will display it accordingly.\n",
    "\n",
    "In practice, we will not write out full HTTP requests in text. Instead, we use tools like `curl` or Julia libraries to construct requests for us."
   ]
  },
  {
   "cell_type": "markdown",
   "metadata": {},
   "source": [
    "### In Julia\n",
    "The [HTTP.jl](https://github.com/JuliaWeb/HTTP.jl) package allows us to make HTTP requests in Julia. The code below makes the same HTTP request as running `curl -v https://httpbin.org/html`."
   ]
  },
  {
   "cell_type": "code",
   "execution_count": 2,
   "metadata": {},
   "outputs": [
    {
     "name": "stdout",
     "output_type": "stream",
     "text": [
      "200"
     ]
    }
   ],
   "source": [
    "using HTTP\n",
    "\n",
    "url = \"https://httpbin.org/html\"\n",
    "response = HTTP.request(\"GET\", url);\n",
    "print(response.status)"
   ]
  },
  {
   "cell_type": "markdown",
   "metadata": {},
   "source": [
    "### The Request\n",
    "Let's take a closer look at the request we made. We can access the original request using the `response` object; we display the request's HTTP headers below:"
   ]
  },
  {
   "cell_type": "code",
   "execution_count": 3,
   "metadata": {},
   "outputs": [
    {
     "name": "stdout",
     "output_type": "stream",
     "text": [
      "\"Access-Control-Allow-Credentials\" => \"true\"\n",
      "\"Access-Control-Allow-Origin\" => \"*\"\n",
      "\"Content-Type\" => \"text/html; charset=utf-8\"\n",
      "\"Date\" => \"Fri, 15 Nov 2019 16:26:46 GMT\"\n",
      "\"Referrer-Policy\" => \"no-referrer-when-downgrade\"\n",
      "\"Server\" => \"nginx\"\n",
      "\"X-Content-Type-Options\" => \"nosniff\"\n",
      "\"X-Frame-Options\" => \"DENY\"\n",
      "\"X-XSS-Protection\" => \"1; mode=block\"\n",
      "\"Content-Length\" => \"3741\"\n",
      "\"Connection\" => \"keep-alive\"\n"
     ]
    }
   ],
   "source": [
    "for header in response.headers\n",
    "    println(header)\n",
    "end"
   ]
  },
  {
   "cell_type": "markdown",
   "metadata": {},
   "source": [
    "An HTTP response contains a status code, a special number that indicates whether the request succeeded or failed. The status code `200` indicates that the request succeeded."
   ]
  },
  {
   "cell_type": "code",
   "execution_count": 4,
   "metadata": {},
   "outputs": [
    {
     "name": "stdout",
     "output_type": "stream",
     "text": [
      "200"
     ]
    }
   ],
   "source": [
    "print(response.status)"
   ]
  },
  {
   "cell_type": "markdown",
   "metadata": {},
   "source": [
    "Finally, we display the first 100 characters of the response's content (the entire response content is too long to display nicely here)."
   ]
  },
  {
   "cell_type": "code",
   "execution_count": 5,
   "metadata": {},
   "outputs": [
    {
     "name": "stdout",
     "output_type": "stream",
     "text": [
      "<!DOCTYPE html>\n",
      "<html>\n",
      "  <head>\n",
      "  </head>\n",
      "  <body>\n",
      "      <h1>Herman Melville - Moby-Dick</h1>\n",
      "\n",
      "     \n"
     ]
    }
   ],
   "source": [
    "println(String(response.body)[1:100])"
   ]
  },
  {
   "cell_type": "markdown",
   "metadata": {},
   "source": [
    "## Types of Requests\n",
    "\n",
    "The request we made above was a `GET` HTTP request. There are multiple HTTP request types; the most important two are `GET` and `POST` requests."
   ]
  },
  {
   "cell_type": "markdown",
   "metadata": {
    "colab_type": "text",
    "id": "QJ5v9MQ70K7W"
   },
   "source": [
    "### GET Requests\n",
    "\n",
    "The `GET` request is used to retrieve information from the server. Since your web browser makes `GET` request whenever you enter in a URL into its address bar, `GET` requests are the most common type of HTTP requests.\n",
    "\n",
    "`curl` uses `GET` requests by default, so running `curl https://www.google.com/` makes a `GET` request to `https://www.google.com/`."
   ]
  },
  {
   "cell_type": "markdown",
   "metadata": {},
   "source": [
    "### POST Request\n",
    "\n",
    "The `POST` request is used to send information from the client to the server. For example, some web pages contain forms for the user to fill out—a login form, for example. After clicking the \"Submit\" button, most web browsers will make a `POST` request to send the form data to the server for processing."
   ]
  },
  {
   "cell_type": "markdown",
   "metadata": {
    "colab_type": "text",
    "id": "CEmCrcQ10K7X"
   },
   "source": [
    "Let's look at an example of a `POST` request that sends `'sam'` as the parameter `'name'`. This one can be done by running **`curl -d 'name=sam' https://httpbin.org/post`** on the command line. \n",
    "\n",
    "Notice that our request has a body this time (filled with the parameters of the `POST` request), and the content of the response is different from our `GET` response from before. "
   ]
  },
  {
   "cell_type": "code",
   "execution_count": 9,
   "metadata": {},
   "outputs": [],
   "source": [
    "form = Dict(\"name\" => \"sam\")\n",
    "post_response = HTTP.request(\"POST\", \"http://httpbin.org/post\", [], \"name : sam\");"
   ]
  },
  {
   "cell_type": "markdown",
   "metadata": {},
   "source": [
    "The server will respond with a status code to indicate whether the `POST` request successfully completed. In addition, the server will usually send a response body to display to the client."
   ]
  },
  {
   "cell_type": "code",
   "execution_count": 7,
   "metadata": {},
   "outputs": [
    {
     "name": "stdout",
     "output_type": "stream",
     "text": [
      "200"
     ]
    }
   ],
   "source": [
    "print(post_response.status)"
   ]
  },
  {
   "cell_type": "code",
   "execution_count": 8,
   "metadata": {},
   "outputs": [
    {
     "name": "stdout",
     "output_type": "stream",
     "text": [
      "{\n",
      "  \"args\": {}, \n",
      "  \"data\": \"name : sam\", \n",
      "  \"files\": {}, \n",
      "  \"form\": {}, \n",
      "  \"headers\": {\n",
      "    \"Content-Length\": \"10\", \n",
      "    \"Host\": \"httpbin.org\"\n",
      "  }, \n",
      "  \"json\": null, \n",
      "  \"origin\": \"76.93.133.183, 76.93.133.183\", \n",
      "  \"url\": \"https://httpbin.org/post\"\n",
      "}\n",
      "\n"
     ]
    }
   ],
   "source": [
    "println(String(post_response.body))"
   ]
  },
  {
   "cell_type": "markdown",
   "metadata": {},
   "source": [
    "## Types of Response Status Codes\n",
    "\n",
    "The previous HTTP responses had the HTTP status code `200`. This status code indicates that the request completed successfully. There are hundreds of other HTTP status codes. Thankfully, they are grouped into categories to make them easier to remember:\n",
    "\n",
    "- **100s** - Informational: More input is expected from client or server *(e.g. 100 Continue, 102 Processing)*\n",
    "- **200s** - Success: The client's request was successful *(e.g. 200 OK, 202 Accepted)*\n",
    "- **300s** - Redirection: Requested URL is located elsewhere; May need user's further action *(e.g. 300 Multiple Choices, 301 Moved Permanently)*\n",
    "- **400s** - Client Error: Client-side error *(e.g. 400 Bad Request, 403 Forbidden, 404 Not Found)*\n",
    "- **500s** - Server Error: Server-side error or server is incapable of performing the request *(e.g. 500 Internal Server Error, 503 Service Unavailable)*\n",
    "\n",
    "We can look at examples of some of these errors.\n",
    "\n",
    "The `HTTP.jl` package will throw an exception `HTTP.ExceptionRequest.StatusError`, so we will use `try / catch` to look at the response:"
   ]
  },
  {
   "cell_type": "code",
   "execution_count": 29,
   "metadata": {},
   "outputs": [
    {
     "name": "stdout",
     "output_type": "stream",
     "text": [
      "404\n"
     ]
    }
   ],
   "source": [
    "# This page doesn't exist, so we get a 404 page not found error\n",
    "url = \"https://www.youtube.com/404errorwow\"\n",
    "try HTTP.request(\"GET\", url)\n",
    "catch errorResponse\n",
    "    println(errorResponse.status)\n",
    "end"
   ]
  },
  {
   "cell_type": "code",
   "execution_count": 25,
   "metadata": {},
   "outputs": [
    {
     "name": "stdout",
     "output_type": "stream",
     "text": [
      "500\n"
     ]
    }
   ],
   "source": [
    "# This specific page results in a 500 server error\n",
    "url = \"https://httpstat.us/500\"\n",
    "try HTTP.request(\"GET\", url)\n",
    "catch serverResponse\n",
    "    println(serverResponse.status)\n",
    "end"
   ]
  },
  {
   "cell_type": "markdown",
   "metadata": {},
   "source": [
    "## Summary\n",
    "\n",
    "We have introduced the HTTP protocol, the basic communication method for applications that use the Web. Although the protocol specifies a specific text format, we typically turn to other tools to make HTTP requests for us, such as the command line tool `curl` and the Python library `requests`."
   ]
  }
 ],
 "metadata": {
  "@webio": {
   "lastCommId": null,
   "lastKernelId": null
  },
  "kernelspec": {
   "display_name": "Julia 1.2.0",
   "language": "julia",
   "name": "julia-1.2"
  },
  "language_info": {
   "file_extension": ".jl",
   "mimetype": "application/julia",
   "name": "julia",
   "version": "1.2.0"
  }
 },
 "nbformat": 4,
 "nbformat_minor": 2
}
