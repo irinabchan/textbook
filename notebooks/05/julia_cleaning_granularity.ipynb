{
 "cells": [
  {
   "cell_type": "code",
   "execution_count": 1,
   "metadata": {},
   "outputs": [],
   "source": [
    "# HIDDEN\n",
    "Base.displaysize() = (5, 80)\n",
    "using DataFrames\n",
    "using CSV"
   ]
  },
  {
   "cell_type": "markdown",
   "metadata": {},
   "source": [
    "## Granularity\n",
    "\n",
    "The granularity of your data is what each record in your data represents. For example, in the Calls dataset each record represents a single case of a police call."
   ]
  },
  {
   "cell_type": "code",
   "execution_count": 3,
   "metadata": {},
   "outputs": [
    {
     "data": {
      "text/html": [
       "<table class=\"data-frame\"><thead><tr><th></th><th>Day</th><th>CASENO</th><th>OFFENSE</th><th>CVLEGEND</th><th>BLKADDR</th></tr><tr><th></th><th>String</th><th>Int64</th><th>String</th><th>String</th><th>String⍰</th></tr></thead><tbody><p>5,508 rows × 8 columns (omitted printing of 3 columns)</p><tr><th>1</th><td>Sunday</td><td>17091420</td><td>BURGLARY AUTO</td><td>BURGLARY - VEHICLE</td><td>2500 LE CONTE AVE</td></tr><tr><th>2</th><td>Sunday</td><td>17038302</td><td>BURGLARY AUTO</td><td>BURGLARY - VEHICLE</td><td>BOWDITCH STREET &amp; CHANNING WAY</td></tr><tr><th>3</th><td>Sunday</td><td>17049346</td><td>THEFT MISD. (UNDER $950)</td><td>LARCENY</td><td>2900 CHANNING WAY</td></tr><tr><th>4</th><td>Sunday</td><td>17091319</td><td>THEFT MISD. (UNDER $950)</td><td>LARCENY</td><td>2100 RUSSELL ST</td></tr><tr><th>5</th><td>Sunday</td><td>17044238</td><td>DISTURBANCE</td><td>DISORDERLY CONDUCT</td><td>TELEGRAPH AVENUE &amp; DURANT AVE</td></tr><tr><th>&vellip;</th><td>&vellip;</td><td>&vellip;</td><td>&vellip;</td><td>&vellip;</td><td>&vellip;</td></tr></tbody></table>"
      ],
      "text/latex": [
       "\\begin{tabular}{r|cccccc}\n",
       "\t& Day & CASENO & OFFENSE & CVLEGEND & BLKADDR & \\\\\n",
       "\t\\hline\n",
       "\t& String & Int64 & String & String & String⍰ & \\\\\n",
       "\t\\hline\n",
       "\t1 & Sunday & 17091420 & BURGLARY AUTO & BURGLARY - VEHICLE & 2500 LE CONTE AVE & $\\dots$ \\\\\n",
       "\t2 & Sunday & 17038302 & BURGLARY AUTO & BURGLARY - VEHICLE & BOWDITCH STREET \\& CHANNING WAY & $\\dots$ \\\\\n",
       "\t3 & Sunday & 17049346 & THEFT MISD. (UNDER \\$950) & LARCENY & 2900 CHANNING WAY & $\\dots$ \\\\\n",
       "\t4 & Sunday & 17091319 & THEFT MISD. (UNDER \\$950) & LARCENY & 2100 RUSSELL ST & $\\dots$ \\\\\n",
       "\t5 & Sunday & 17044238 & DISTURBANCE & DISORDERLY CONDUCT & TELEGRAPH AVENUE \\& DURANT AVE & $\\dots$ \\\\\n",
       "\t$\\dots$ & $\\dots$ & $\\dots$ & $\\dots$ & $\\dots$ & $\\dots$ &  \\\\\n",
       "\\end{tabular}\n"
      ],
      "text/plain": [
       "5508×8 DataFrame\n"
      ]
     },
     "execution_count": 3,
     "metadata": {},
     "output_type": "execute_result"
    }
   ],
   "source": [
    "# HIDDEN\n",
    "calls = CSV.read(\"data/calls_julia.csv\")"
   ]
  },
  {
   "cell_type": "markdown",
   "metadata": {},
   "source": [
    "In the Stops dataset, each record represents a single incident of a police stop."
   ]
  },
  {
   "cell_type": "code",
   "execution_count": 4,
   "metadata": {},
   "outputs": [
    {
     "data": {
      "text/html": [
       "<table class=\"data-frame\"><thead><tr><th></th><th>Incident Number</th><th>Call Date/Time</th><th>Location</th><th>Incident Type</th></tr><tr><th></th><th>String</th><th>Dates…</th><th>String</th><th>String</th></tr></thead><tbody><p>29,208 rows × 7 columns (omitted printing of 3 columns)</p><tr><th>1</th><td>2015-00004825</td><td>2015-01-26T00:10:00</td><td>SAN PABLO AVE / MARIN AVE</td><td>T</td></tr><tr><th>2</th><td>2015-00004829</td><td>2015-01-26T00:50:00</td><td>SAN PABLO AVE / CHANNING WAY</td><td>T</td></tr><tr><th>3</th><td>2015-00004831</td><td>2015-01-26T01:03:00</td><td>UNIVERSITY AVE / NINTH ST</td><td>T</td></tr><tr><th>4</th><td>2015-00004848</td><td>2015-01-26T07:16:00</td><td>2000 BLOCK BERKELEY WAY</td><td>1194</td></tr><tr><th>5</th><td>2015-00004849</td><td>2015-01-26T07:43:00</td><td>1700 BLOCK SAN PABLO AVE</td><td>1194</td></tr><tr><th>&vellip;</th><td>&vellip;</td><td>&vellip;</td><td>&vellip;</td><td>&vellip;</td></tr></tbody></table>"
      ],
      "text/latex": [
       "\\begin{tabular}{r|ccccc}\n",
       "\t& Incident Number & Call Date/Time & Location & Incident Type & \\\\\n",
       "\t\\hline\n",
       "\t& String & Dates… & String & String & \\\\\n",
       "\t\\hline\n",
       "\t1 & 2015-00004825 & 2015-01-26T00:10:00 & SAN PABLO AVE / MARIN AVE & T & $\\dots$ \\\\\n",
       "\t2 & 2015-00004829 & 2015-01-26T00:50:00 & SAN PABLO AVE / CHANNING WAY & T & $\\dots$ \\\\\n",
       "\t3 & 2015-00004831 & 2015-01-26T01:03:00 & UNIVERSITY AVE / NINTH ST & T & $\\dots$ \\\\\n",
       "\t4 & 2015-00004848 & 2015-01-26T07:16:00 & 2000 BLOCK BERKELEY WAY & 1194 & $\\dots$ \\\\\n",
       "\t5 & 2015-00004849 & 2015-01-26T07:43:00 & 1700 BLOCK SAN PABLO AVE & 1194 & $\\dots$ \\\\\n",
       "\t$\\dots$ & $\\dots$ & $\\dots$ & $\\dots$ & $\\dots$ &  \\\\\n",
       "\\end{tabular}\n"
      ],
      "text/plain": [
       "29208×7 DataFrame\n"
      ]
     },
     "execution_count": 4,
     "metadata": {},
     "output_type": "execute_result"
    }
   ],
   "source": [
    "# HIDDEN\n",
    "stops = CSV.read(\"data/stops_julia.csv\")"
   ]
  },
  {
   "cell_type": "markdown",
   "metadata": {},
   "source": [
    "On the other hand, we could have received the Stops data in the following format:"
   ]
  },
  {
   "cell_type": "code",
   "execution_count": 19,
   "metadata": {},
   "outputs": [
    {
     "data": {
      "text/html": [
       "<table class=\"data-frame\"><thead><tr><th></th><th>Call_Date</th><th>Call_Date_length</th></tr><tr><th></th><th>Date</th><th>Int64</th></tr></thead><tbody><p>825 rows × 2 columns</p><tr><th>1</th><td>2015-01-26</td><td>46</td></tr><tr><th>2</th><td>2015-01-27</td><td>57</td></tr><tr><th>3</th><td>2015-12-04</td><td>41</td></tr><tr><th>4</th><td>2015-01-28</td><td>56</td></tr><tr><th>5</th><td>2015-11-06</td><td>52</td></tr><tr><th>&vellip;</th><td>&vellip;</td><td>&vellip;</td></tr></tbody></table>"
      ],
      "text/latex": [
       "\\begin{tabular}{r|cc}\n",
       "\t& Call\\_Date & Call\\_Date\\_length\\\\\n",
       "\t\\hline\n",
       "\t& Date & Int64\\\\\n",
       "\t\\hline\n",
       "\t1 & 2015-01-26 & 46 \\\\\n",
       "\t2 & 2015-01-27 & 57 \\\\\n",
       "\t3 & 2015-12-04 & 41 \\\\\n",
       "\t4 & 2015-01-28 & 56 \\\\\n",
       "\t5 & 2015-11-06 & 52 \\\\\n",
       "\t$\\dots$ & $\\dots$ & $\\dots$ \\\\\n",
       "\\end{tabular}\n"
      ],
      "text/plain": [
       "825×2 DataFrame\n"
      ]
     },
     "execution_count": 19,
     "metadata": {},
     "output_type": "execute_result"
    }
   ],
   "source": [
    "# HIDDEN\n",
    "using Dates\n",
    "stops[!, :Call_Date] = Date.(stops[:, Symbol(\"Call Date/Time\")])\n",
    "by(stops, :Call_Date, :Call_Date => length)"
   ]
  },
  {
   "cell_type": "markdown",
   "metadata": {},
   "source": [
    "In this case, each record in the table corresponds to a single date instead of a single incident. We would describe this table as having a coarser granularity than the one above. It's important to know the granularity of your data because it determines what kind of analyses you can perform. Generally speaking, too fine of a granularity is better than too coarse; while we can use grouping and pivoting to change a fine granularity to a coarse one, we have few tools to go from coarse to fine."
   ]
  },
  {
   "cell_type": "markdown",
   "metadata": {},
   "source": [
    "## Granularity Checklist\n",
    "\n",
    "You should have answers to the following questions after looking at the granularity of your datasets. We will answer them for the Calls and Stops datasets.\n",
    "\n",
    "**What does a record represent?**\n",
    "\n",
    "In the Calls dataset, each record represents a single case of a police call. In the Stops dataset, each record represents a single incident of a police stop.\n",
    "\n",
    "**Do all records capture granularity at the same level? (Sometimes a table will contain summary rows.)**\n",
    "\n",
    "Yes, for both Calls and Stops datasets.\n",
    "\n",
    "**If the data were aggregated, how was the aggregation performed? Sampling and averaging are are common aggregations.**\n",
    "\n",
    "No aggregations were performed as far as we can tell for the datasets. We do keep in mind that in both datasets, the location is entered as a block location instead of a specific address.\n",
    "\n",
    "**What kinds of aggregations can we perform on the data?**\n",
    "\n",
    "For example, it's often useful to aggregate individual people to demographic groups or individual events to totals across time.\n",
    "\n",
    "In this case, we can aggregate across various granularities of date or time. For example, we can find the most common hour of day for incidents with aggregation. We might also be able to aggregate across event locations to find the regions of Berkeley with the most incidents."
   ]
  }
 ],
 "metadata": {
  "kernelspec": {
   "display_name": "Julia 1.2.0",
   "language": "julia",
   "name": "julia-1.2"
  },
  "language_info": {
   "file_extension": ".jl",
   "mimetype": "application/julia",
   "name": "julia",
   "version": "1.2.0"
  }
 },
 "nbformat": 4,
 "nbformat_minor": 2
}
