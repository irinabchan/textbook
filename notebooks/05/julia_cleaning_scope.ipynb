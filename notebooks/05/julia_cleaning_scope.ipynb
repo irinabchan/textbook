{
 "cells": [
  {
   "cell_type": "code",
   "execution_count": 8,
   "metadata": {},
   "outputs": [],
   "source": [
    "# HIDDEN\n",
    "Base.displaysize() = (5, 110)\n",
    "using DataFrames\n",
    "using CSV"
   ]
  },
  {
   "cell_type": "code",
   "execution_count": 2,
   "metadata": {},
   "outputs": [],
   "source": [
    "# HIDDEN\n",
    "calls = CSV.read(\"data/calls_julia.csv\")\n",
    "stops = CSV.read(\"data/stops_julia.csv\");"
   ]
  },
  {
   "cell_type": "markdown",
   "metadata": {},
   "source": [
    "## Scope\n",
    "\n",
    "The scope of the dataset refers to the coverage of the dataset in relation to what we are interested in analyzing. We seek to answer the following question about our data scope:\n",
    "\n",
    "**Does the data cover the topic of interest?**\n",
    "\n",
    "For example, the Calls and Stops datasets contain call and stop incidents made in Berkeley. If we are interested in crime incidents in the state of California, however, these datasets will be too limited in scope.\n",
    "\n",
    "In general, larger scope is more useful than smaller scope since we can filter larger scope down to a smaller scope but often can't go from smaller scope to larger scope. For example, if we had a dataset of police stops in the United States we could subset the dataset to investigate Berkeley.\n",
    "\n",
    "Keep in mind that scope is a broad term not always used to describe geographic location. For example, it can also refer to time coverage — the Calls dataset only contains data for a 180 day period.\n",
    "\n",
    "We will often address the scope of the dataset during the investigation of the data generation process and confirm the dataset's scope during EDA. Let's confirm the geographic and time scope of the Calls dataset."
   ]
  },
  {
   "cell_type": "code",
   "execution_count": 3,
   "metadata": {},
   "outputs": [
    {
     "data": {
      "text/html": [
       "<table class=\"data-frame\"><thead><tr><th></th><th>Day</th><th>CASENO</th><th>OFFENSE</th><th>CVLEGEND</th><th>BLKADDR</th></tr><tr><th></th><th>String</th><th>Int64</th><th>String</th><th>String</th><th>String⍰</th></tr></thead><tbody><p>5,508 rows × 8 columns (omitted printing of 3 columns)</p><tr><th>1</th><td>Sunday</td><td>17091420</td><td>BURGLARY AUTO</td><td>BURGLARY - VEHICLE</td><td>2500 LE CONTE AVE</td></tr><tr><th>2</th><td>Sunday</td><td>17038302</td><td>BURGLARY AUTO</td><td>BURGLARY - VEHICLE</td><td>BOWDITCH STREET &amp; CHANNING WAY</td></tr><tr><th>3</th><td>Sunday</td><td>17049346</td><td>THEFT MISD. (UNDER $950)</td><td>LARCENY</td><td>2900 CHANNING WAY</td></tr><tr><th>4</th><td>Sunday</td><td>17091319</td><td>THEFT MISD. (UNDER $950)</td><td>LARCENY</td><td>2100 RUSSELL ST</td></tr><tr><th>5</th><td>Sunday</td><td>17044238</td><td>DISTURBANCE</td><td>DISORDERLY CONDUCT</td><td>TELEGRAPH AVENUE &amp; DURANT AVE</td></tr><tr><th>&vellip;</th><td>&vellip;</td><td>&vellip;</td><td>&vellip;</td><td>&vellip;</td><td>&vellip;</td></tr></tbody></table>"
      ],
      "text/latex": [
       "\\begin{tabular}{r|cccccc}\n",
       "\t& Day & CASENO & OFFENSE & CVLEGEND & BLKADDR & \\\\\n",
       "\t\\hline\n",
       "\t& String & Int64 & String & String & String⍰ & \\\\\n",
       "\t\\hline\n",
       "\t1 & Sunday & 17091420 & BURGLARY AUTO & BURGLARY - VEHICLE & 2500 LE CONTE AVE & $\\dots$ \\\\\n",
       "\t2 & Sunday & 17038302 & BURGLARY AUTO & BURGLARY - VEHICLE & BOWDITCH STREET \\& CHANNING WAY & $\\dots$ \\\\\n",
       "\t3 & Sunday & 17049346 & THEFT MISD. (UNDER \\$950) & LARCENY & 2900 CHANNING WAY & $\\dots$ \\\\\n",
       "\t4 & Sunday & 17091319 & THEFT MISD. (UNDER \\$950) & LARCENY & 2100 RUSSELL ST & $\\dots$ \\\\\n",
       "\t5 & Sunday & 17044238 & DISTURBANCE & DISORDERLY CONDUCT & TELEGRAPH AVENUE \\& DURANT AVE & $\\dots$ \\\\\n",
       "\t$\\dots$ & $\\dots$ & $\\dots$ & $\\dots$ & $\\dots$ & $\\dots$ &  \\\\\n",
       "\\end{tabular}\n"
      ],
      "text/plain": [
       "5508×8 DataFrame\n"
      ]
     },
     "execution_count": 3,
     "metadata": {},
     "output_type": "execute_result"
    }
   ],
   "source": [
    "calls"
   ]
  },
  {
   "cell_type": "markdown",
   "metadata": {},
   "source": [
    "We see that EVENTDTTM is of type `String`. For being able to perform operations on that column it would be better to extract it to another column as the type `Date`:"
   ]
  },
  {
   "cell_type": "code",
   "execution_count": 17,
   "metadata": {},
   "outputs": [
    {
     "data": {
      "text/html": [
       "<table class=\"data-frame\"><thead><tr><th></th><th>Day</th><th>CASENO</th><th>OFFENSE</th><th>CVLEGEND</th><th>BLKADDR</th><th>EVENTDTTM</th></tr><tr><th></th><th>String</th><th>Int64</th><th>String</th><th>String</th><th>String⍰</th><th>String</th></tr></thead><tbody><p>5,508 rows × 10 columns (omitted printing of 4 columns)</p><tr><th>1</th><td>Sunday</td><td>17091420</td><td>BURGLARY AUTO</td><td>BURGLARY - VEHICLE</td><td>2500 LE CONTE AVE</td><td>07/23/2017 12:00:00 AM 06:00</td></tr><tr><th>2</th><td>Sunday</td><td>17038302</td><td>BURGLARY AUTO</td><td>BURGLARY - VEHICLE</td><td>BOWDITCH STREET &amp; CHANNING WAY</td><td>07/02/2017 12:00:00 AM 22:00</td></tr><tr><th>3</th><td>Sunday</td><td>17049346</td><td>THEFT MISD. (UNDER $950)</td><td>LARCENY</td><td>2900 CHANNING WAY</td><td>08/20/2017 12:00:00 AM 23:20</td></tr><tr><th>4</th><td>Sunday</td><td>17091319</td><td>THEFT MISD. (UNDER $950)</td><td>LARCENY</td><td>2100 RUSSELL ST</td><td>07/09/2017 12:00:00 AM 04:15</td></tr><tr><th>5</th><td>Sunday</td><td>17044238</td><td>DISTURBANCE</td><td>DISORDERLY CONDUCT</td><td>TELEGRAPH AVENUE &amp; DURANT AVE</td><td>07/30/2017 12:00:00 AM 01:16</td></tr><tr><th>&vellip;</th><td>&vellip;</td><td>&vellip;</td><td>&vellip;</td><td>&vellip;</td><td>&vellip;</td><td>&vellip;</td></tr></tbody></table>"
      ],
      "text/latex": [
       "\\begin{tabular}{r|ccccccc}\n",
       "\t& Day & CASENO & OFFENSE & CVLEGEND & BLKADDR & EVENTDTTM & \\\\\n",
       "\t\\hline\n",
       "\t& String & Int64 & String & String & String⍰ & String & \\\\\n",
       "\t\\hline\n",
       "\t1 & Sunday & 17091420 & BURGLARY AUTO & BURGLARY - VEHICLE & 2500 LE CONTE AVE & 07/23/2017 12:00:00 AM 06:00 & $\\dots$ \\\\\n",
       "\t2 & Sunday & 17038302 & BURGLARY AUTO & BURGLARY - VEHICLE & BOWDITCH STREET \\& CHANNING WAY & 07/02/2017 12:00:00 AM 22:00 & $\\dots$ \\\\\n",
       "\t3 & Sunday & 17049346 & THEFT MISD. (UNDER \\$950) & LARCENY & 2900 CHANNING WAY & 08/20/2017 12:00:00 AM 23:20 & $\\dots$ \\\\\n",
       "\t4 & Sunday & 17091319 & THEFT MISD. (UNDER \\$950) & LARCENY & 2100 RUSSELL ST & 07/09/2017 12:00:00 AM 04:15 & $\\dots$ \\\\\n",
       "\t5 & Sunday & 17044238 & DISTURBANCE & DISORDERLY CONDUCT & TELEGRAPH AVENUE \\& DURANT AVE & 07/30/2017 12:00:00 AM 01:16 & $\\dots$ \\\\\n",
       "\t$\\dots$ & $\\dots$ & $\\dots$ & $\\dots$ & $\\dots$ & $\\dots$ & $\\dots$ &  \\\\\n",
       "\\end{tabular}\n"
      ],
      "text/plain": [
       "5508×10 DataFrame\n"
      ]
     },
     "execution_count": 17,
     "metadata": {},
     "output_type": "execute_result"
    }
   ],
   "source": [
    "using Dates\n",
    "# Split the EVENTDTTM string and select only the date\n",
    "calls.DATE = first.(split.(calls.EVENTDTTM))\n",
    "# Transform it into Date\n",
    "calls.DATE = Date.(calls.DATE, dateformat\"m/d/y\")\n",
    "calls"
   ]
  },
  {
   "cell_type": "code",
   "execution_count": 33,
   "metadata": {},
   "outputs": [
    {
     "name": "stdout",
     "output_type": "stream",
     "text": [
      "Date[2017-03-02, 2017-03-02, 2017-03-02, 2017-03-02, 2017-03-02]\n",
      "Date[2017-08-27, 2017-08-27, 2017-08-28, 2017-08-28, 2017-08-28]\n"
     ]
    }
   ],
   "source": [
    "# Shows earliest and latest dates in calls\n",
    "sorted_dates = sort(calls, :DATE)\n",
    "println(first(sorted_dates, 5).DATE)\n",
    "println(last(sorted_dates, 5).DATE)"
   ]
  },
  {
   "cell_type": "code",
   "execution_count": 36,
   "metadata": {},
   "outputs": [
    {
     "data": {
      "text/plain": [
       "179 days"
      ]
     },
     "execution_count": 36,
     "metadata": {},
     "output_type": "execute_result"
    }
   ],
   "source": [
    "sorted_dates[end, :DATE] - sorted_dates[1, :DATE]"
   ]
  },
  {
   "cell_type": "markdown",
   "metadata": {},
   "source": [
    "The table contains data for a time period of 179 days which is close enough to the 180 day time period in the data description that we can suppose there were no calls on either April 14st, 2017 or August 29, 2017.\n",
    "\n",
    "To check the geographic scope, we can use a map:"
   ]
  },
  {
   "cell_type": "markdown",
   "metadata": {},
   "source": [
    "-- NEED to Plot!! --"
   ]
  },
  {
   "cell_type": "markdown",
   "metadata": {},
   "source": [
    "With a few exceptions, the Calls dataset covers the Berkeley area. We can see that most police calls happened in the Downtown Berkeley and south of UC Berkeley campus areas.\n",
    "\n",
    "Let's now confirm the temporal and geographic scope for the Stops dataset:"
   ]
  },
  {
   "cell_type": "code",
   "execution_count": 37,
   "metadata": {},
   "outputs": [
    {
     "data": {
      "text/html": [
       "<table class=\"data-frame\"><thead><tr><th></th><th>Incident Number</th><th>Call Date/Time</th><th>Location</th><th>Incident Type</th><th>Dispositions</th><th>Location - Latitude</th></tr><tr><th></th><th>String</th><th>DateTime</th><th>String</th><th>String</th><th>String⍰</th><th>Float64⍰</th></tr></thead><tbody><p>29,208 rows × 7 columns (omitted printing of 1 columns)</p><tr><th>1</th><td>2015-00004825</td><td>2015-01-26T00:10:00</td><td>SAN PABLO AVE / MARIN AVE</td><td>T</td><td>M</td><td>missing</td></tr><tr><th>2</th><td>2015-00004829</td><td>2015-01-26T00:50:00</td><td>SAN PABLO AVE / CHANNING WAY</td><td>T</td><td>M</td><td>missing</td></tr><tr><th>3</th><td>2015-00004831</td><td>2015-01-26T01:03:00</td><td>UNIVERSITY AVE / NINTH ST</td><td>T</td><td>M</td><td>missing</td></tr><tr><th>4</th><td>2015-00004848</td><td>2015-01-26T07:16:00</td><td>2000 BLOCK BERKELEY WAY</td><td>1194</td><td>BM4ICN</td><td>missing</td></tr><tr><th>5</th><td>2015-00004849</td><td>2015-01-26T07:43:00</td><td>1700 BLOCK SAN PABLO AVE</td><td>1194</td><td>BM4ICN</td><td>missing</td></tr><tr><th>&vellip;</th><td>&vellip;</td><td>&vellip;</td><td>&vellip;</td><td>&vellip;</td><td>&vellip;</td><td>&vellip;</td></tr></tbody></table>"
      ],
      "text/latex": [
       "\\begin{tabular}{r|ccccccc}\n",
       "\t& Incident Number & Call Date/Time & Location & Incident Type & Dispositions & Location - Latitude & \\\\\n",
       "\t\\hline\n",
       "\t& String & DateTime & String & String & String⍰ & Float64⍰ & \\\\\n",
       "\t\\hline\n",
       "\t1 & 2015-00004825 & 2015-01-26T00:10:00 & SAN PABLO AVE / MARIN AVE & T & M &  & $\\dots$ \\\\\n",
       "\t2 & 2015-00004829 & 2015-01-26T00:50:00 & SAN PABLO AVE / CHANNING WAY & T & M &  & $\\dots$ \\\\\n",
       "\t3 & 2015-00004831 & 2015-01-26T01:03:00 & UNIVERSITY AVE / NINTH ST & T & M &  & $\\dots$ \\\\\n",
       "\t4 & 2015-00004848 & 2015-01-26T07:16:00 & 2000 BLOCK BERKELEY WAY & 1194 & BM4ICN &  & $\\dots$ \\\\\n",
       "\t5 & 2015-00004849 & 2015-01-26T07:43:00 & 1700 BLOCK SAN PABLO AVE & 1194 & BM4ICN &  & $\\dots$ \\\\\n",
       "\t$\\dots$ & $\\dots$ & $\\dots$ & $\\dots$ & $\\dots$ & $\\dots$ & $\\dots$ &  \\\\\n",
       "\\end{tabular}\n"
      ],
      "text/plain": [
       "29208×7 DataFrame\n"
      ]
     },
     "execution_count": 37,
     "metadata": {},
     "output_type": "execute_result"
    }
   ],
   "source": [
    "stops"
   ]
  },
  {
   "cell_type": "code",
   "execution_count": 42,
   "metadata": {},
   "outputs": [
    {
     "data": {
      "text/html": [
       "<table class=\"data-frame\"><thead><tr><th></th><th>Incident Number</th><th>Call Date/Time</th><th>Location</th><th>Incident Type</th><th>Dispositions</th><th>Location - Latitude</th></tr><tr><th></th><th>String</th><th>DateTime</th><th>String</th><th>String</th><th>String⍰</th><th>Float64⍰</th></tr></thead><tbody><p>29,208 rows × 7 columns (omitted printing of 1 columns)</p><tr><th>1</th><td>2015-00004825</td><td>2015-01-26T00:10:00</td><td>SAN PABLO AVE / MARIN AVE</td><td>T</td><td>M</td><td>missing</td></tr><tr><th>2</th><td>2015-00004829</td><td>2015-01-26T00:50:00</td><td>SAN PABLO AVE / CHANNING WAY</td><td>T</td><td>M</td><td>missing</td></tr><tr><th>3</th><td>2015-00004831</td><td>2015-01-26T01:03:00</td><td>UNIVERSITY AVE / NINTH ST</td><td>T</td><td>M</td><td>missing</td></tr><tr><th>4</th><td>2015-00004848</td><td>2015-01-26T07:16:00</td><td>2000 BLOCK BERKELEY WAY</td><td>1194</td><td>BM4ICN</td><td>missing</td></tr><tr><th>5</th><td>2015-00004849</td><td>2015-01-26T07:43:00</td><td>1700 BLOCK SAN PABLO AVE</td><td>1194</td><td>BM4ICN</td><td>missing</td></tr><tr><th>&vellip;</th><td>&vellip;</td><td>&vellip;</td><td>&vellip;</td><td>&vellip;</td><td>&vellip;</td><td>&vellip;</td></tr></tbody></table>"
      ],
      "text/latex": [
       "\\begin{tabular}{r|ccccccc}\n",
       "\t& Incident Number & Call Date/Time & Location & Incident Type & Dispositions & Location - Latitude & \\\\\n",
       "\t\\hline\n",
       "\t& String & DateTime & String & String & String⍰ & Float64⍰ & \\\\\n",
       "\t\\hline\n",
       "\t1 & 2015-00004825 & 2015-01-26T00:10:00 & SAN PABLO AVE / MARIN AVE & T & M &  & $\\dots$ \\\\\n",
       "\t2 & 2015-00004829 & 2015-01-26T00:50:00 & SAN PABLO AVE / CHANNING WAY & T & M &  & $\\dots$ \\\\\n",
       "\t3 & 2015-00004831 & 2015-01-26T01:03:00 & UNIVERSITY AVE / NINTH ST & T & M &  & $\\dots$ \\\\\n",
       "\t4 & 2015-00004848 & 2015-01-26T07:16:00 & 2000 BLOCK BERKELEY WAY & 1194 & BM4ICN &  & $\\dots$ \\\\\n",
       "\t5 & 2015-00004849 & 2015-01-26T07:43:00 & 1700 BLOCK SAN PABLO AVE & 1194 & BM4ICN &  & $\\dots$ \\\\\n",
       "\t$\\dots$ & $\\dots$ & $\\dots$ & $\\dots$ & $\\dots$ & $\\dots$ & $\\dots$ &  \\\\\n",
       "\\end{tabular}\n"
      ],
      "text/plain": [
       "29208×7 DataFrame\n"
      ]
     },
     "execution_count": 42,
     "metadata": {},
     "output_type": "execute_result"
    }
   ],
   "source": [
    "sort(stops, Symbol(\"Call Date/Time\"))"
   ]
  },
  {
   "cell_type": "markdown",
   "metadata": {},
   "source": [
    "As promised, the data collection begins on January 26th, 2015. It looks like the data were downloaded somewhere around the beginning of May 2017 since the dates stop on April 30th, 2017. Let's draw a map to see the geographic data:"
   ]
  },
  {
   "cell_type": "markdown",
   "metadata": {},
   "source": [
    "--NEED TO PLOT--"
   ]
  },
  {
   "cell_type": "markdown",
   "metadata": {},
   "source": [
    "We can confirm that the police stops in the dataset happened in Berkeley, and that most police calls happened in the Downtown Berkeley and West Berkeley areas."
   ]
  }
 ],
 "metadata": {
  "kernelspec": {
   "display_name": "Julia 1.2.0",
   "language": "julia",
   "name": "julia-1.2"
  },
  "language_info": {
   "file_extension": ".jl",
   "mimetype": "application/julia",
   "name": "julia",
   "version": "1.2.0"
  }
 },
 "nbformat": 4,
 "nbformat_minor": 2
}
