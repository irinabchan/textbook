{
 "cells": [
  {
   "cell_type": "code",
   "execution_count": 1,
   "metadata": {},
   "outputs": [],
   "source": [
    "# HIDDEN\n",
    "Base.displaysize() = (10, 80)\n",
    "using DataFrames\n",
    "using CSV"
   ]
  },
  {
   "cell_type": "code",
   "execution_count": 3,
   "metadata": {},
   "outputs": [],
   "source": [
    "# HIDDEN\n",
    "using Interact\n",
    "\n",
    "\"\"\"Output sliders that scroll through rows and columns of a DataFrame\"\"\"\n",
    "function df_interact(df)\n",
    "    @manipulate for rows=1:(nrow(df)-4), columns=1:(size(df)[2]-5)\n",
    "        df[rows:rows+4, columns:columns+5]\n",
    "    end\n",
    "end;"
   ]
  },
  {
   "cell_type": "markdown",
   "metadata": {},
   "source": [
    "## Structure\n",
    "\n",
    "The structure of a dataset refers to the \"shape\" of the data files. At a basic level, this refers to the format that the data are entered in. For example, we saw that the Calls dataset is a comma-separated values file:"
   ]
  },
  {
   "cell_type": "code",
   "execution_count": 2,
   "metadata": {},
   "outputs": [
    {
     "name": "stdout",
     "output_type": "stream",
     "text": [
      "CASENO,OFFENSE,EVENTDT,EVENTTM,CVLEGEND,CVDOW,InDbDate,Block_Location,BLKADDR,City,State\n",
      "17091420,BURGLARY AUTO,07/23/2017 12:00:00 AM,06:00,BURGLARY - VEHICLE,0,08/29/2017 08:28:05 AM,\"2500 LE CONTE AVE\n",
      "Berkeley, CA\n",
      "(37.876965, -122.260544)\",2500 LE CONTE AVE,Berkeley,CA\n",
      "17020462,THEFT FROM PERSON,04/13/2017 12:00:00 AM,08:45,LARCENY,4,08/29/2017 08:28:00 AM,\"2200 SHATTUCK AVE\n",
      "Berkeley, CA\n",
      "(37.869363, -122.268028)\",2200 SHATTUCK AVE,Berkeley,CA\n",
      "17050275,BURGLARY AUTO,08/24/2017 12:00:00 AM,18:30,BURGLARY - VEHICLE,4,08/29/2017 08:28:06 AM,\"200 UNIVERSITY AVE\n",
      "Berkeley, CA\n",
      "(37.865491, -122.310065)\",200 UNIVERSITY AVE,Berkeley,CA\n"
     ]
    }
   ],
   "source": [
    ";head data/Berkeley_PD_-_Calls_for_Service.csv"
   ]
  },
  {
   "cell_type": "markdown",
   "metadata": {},
   "source": [
    "The Stops dataset, on the other hand, is a JSON (JavaScript Object Notation) file."
   ]
  },
  {
   "cell_type": "code",
   "execution_count": 12,
   "metadata": {},
   "outputs": [
    {
     "name": "stdout",
     "output_type": "stream",
     "text": [
      "{\n",
      "  \"meta\" : {\n",
      "    \"view\" : {\n",
      "      \"id\" : \"6e9j-pj9p\",\n",
      "      \"name\" : \"Berkeley PD - Stop Data\",\n"
     ]
    }
   ],
   "source": [
    ";head -n 5 data/stops.json"
   ]
  },
  {
   "cell_type": "code",
   "execution_count": 13,
   "metadata": {},
   "outputs": [
    {
     "name": "stdout",
     "output_type": "stream",
     "text": [
      ", [ 31079, \"C2B606ED-7872-4B0B-BC9B-4EF45149F34B\", 31079, 1496269085, \"932858\", 1496269085, \"932858\", null, \"2017-00024245\", \"2017-04-30T22:59:26\", \" UNIVERSITY AVE/6TH ST\", \"T\", \"BM2TWN; \", null, null ]\n",
      ", [ 31080, \"8FADF18D-7FE9-441D-8709-7BFEABDACA7A\", 31080, 1496269085, \"932858\", 1496269085, \"932858\", null, \"2017-00024250\", \"2017-04-30T23:19:27\", \" UNIVERSITY AVE /  WEST ST\", \"T\", \"HM4TCS; \", \"37.8698757000001\", \"-122.286550846\" ]\n",
      ", [ 31081, \"F60BD2A4-8C47-4BE7-B1C6-4934BE9DF838\", 31081, 1496269085, \"932858\", 1496269085, \"932858\", null, \"2017-00024254\", \"2017-04-30T23:38:34\", \" CHANNING WAY /  BOWDITCH ST\", \"1194\", \"AR; \", \"37.867207539\", \"-122.256529377\" ]\n",
      " ]\n",
      "}"
     ]
    }
   ],
   "source": [
    ";tail -n 5 data/stops.json"
   ]
  },
  {
   "cell_type": "markdown",
   "metadata": {},
   "source": [
    "Of course, there are many other types of data formats. Here is a list of the most common formats:\n",
    "\n",
    "- Comma-Separated Values (CSV) and Tab-Separated Values (TSV). These files contain tabular data delimited by either a comma for CSV or a tab character (`\\t`) for TSV. These files are typically easy to work with because the data are entered in a similar format to DataFrames.\n",
    "- JavaScript Object Notation (JSON). These files contain data in a nested dictionary format. Typically we have to read in the entire file as a Julia dict and then figure out how to extract fields for a DataFrame from the dict.\n",
    "- eXtensible Markup Language (XML) or HyperText Markup Language (HTML). These files also contain data in a nested format, for example:\n",
    "\n",
    "    ```xml\n",
    "    <?xml version=\"1.0\" encoding=\"UTF-8\"?>\n",
    "    <note>\n",
    "      <to>Tove</to>\n",
    "      <from>Jani</from>\n",
    "      <heading>Reminder</heading>\n",
    "      <body>Don't forget me this weekend!</body>\n",
    "    </note>\n",
    "    ```\n",
    "    \n",
    "    In a later chapter we will use LightXML to extract data from these types of files.\n",
    "- Log data. Many applications will output some data as they run in an unstructured text format, for example:\n",
    "\n",
    "    ```\n",
    "    2005-03-23 23:47:11,663 - sa - INFO - creating an instance of aux_module.Aux\n",
    "    2005-03-23 23:47:11,665 - sa.aux.Aux - INFO - creating an instance of Aux\n",
    "    2005-03-23 23:47:11,665 - sa - INFO - created an instance of aux_module.Aux\n",
    "    2005-03-23 23:47:11,668 - sa - INFO - calling aux_module.Aux.do_something\n",
    "    2005-03-23 23:47:11,668 - sa.aux.Aux - INFO - doing something\n",
    "    ```\n",
    "    \n",
    "    In a later chapter we will use Regular Expressions to extract data from these types of files."
   ]
  },
  {
   "cell_type": "markdown",
   "metadata": {},
   "source": [
    "## Joins\n",
    "\n",
    "Data will often be split across multiple tables. For example, one table can describe some people's personal information while another will contain their emails:"
   ]
  },
  {
   "cell_type": "code",
   "execution_count": 4,
   "metadata": {},
   "outputs": [
    {
     "data": {
      "text/html": [
       "<table class=\"data-frame\"><thead><tr><th></th><th>Name</th><th>Color</th><th>Number</th><th>Sex</th></tr><tr><th></th><th>String</th><th>String</th><th>Int64</th><th>String</th></tr></thead><tbody><p>6 rows × 4 columns</p><tr><th>1</th><td>Joey</td><td>blue</td><td>42</td><td>M</td></tr><tr><th>2</th><td>Weiwei</td><td>blue</td><td>50</td><td>F</td></tr><tr><th>3</th><td>Joey</td><td>green</td><td>8</td><td>M</td></tr><tr><th>4</th><td>Karina</td><td>green</td><td>7</td><td>F</td></tr><tr><th>5</th><td>Nhi</td><td>blue</td><td>3</td><td>F</td></tr><tr><th>6</th><td>Sam</td><td>pink</td><td>-42</td><td>M</td></tr></tbody></table>"
      ],
      "text/latex": [
       "\\begin{tabular}{r|cccc}\n",
       "\t& Name & Color & Number & Sex\\\\\n",
       "\t\\hline\n",
       "\t& String & String & Int64 & String\\\\\n",
       "\t\\hline\n",
       "\t1 & Joey & blue & 42 & M \\\\\n",
       "\t2 & Weiwei & blue & 50 & F \\\\\n",
       "\t3 & Joey & green & 8 & M \\\\\n",
       "\t4 & Karina & green & 7 & F \\\\\n",
       "\t5 & Nhi & blue & 3 & F \\\\\n",
       "\t6 & Sam & pink & -42 & M \\\\\n",
       "\\end{tabular}\n"
      ],
      "text/plain": [
       "6×4 DataFrame\n"
      ]
     },
     "execution_count": 4,
     "metadata": {},
     "output_type": "execute_result"
    }
   ],
   "source": [
    "people = DataFrame(\n",
    "    Name=[\"Joey\", \"Weiwei\", \"Joey\", \"Karina\", \"Nhi\", \"Sam\"],\n",
    "    Color=[\"blue\", \"blue\", \"green\", \"green\", \"blue\", \"pink\"],\n",
    "    Number=[42, 50, 8, 7, 3, -42],\n",
    "    Sex=[\"M\", \"F\", \"M\", \"F\", \"F\", \"M\"]\n",
    ")"
   ]
  },
  {
   "cell_type": "code",
   "execution_count": 5,
   "metadata": {},
   "outputs": [
    {
     "data": {
      "text/html": [
       "<table class=\"data-frame\"><thead><tr><th></th><th>User_Name</th><th>Email</th></tr><tr><th></th><th>String</th><th>String</th></tr></thead><tbody><p>7 rows × 2 columns</p><tr><th>1</th><td>Deb</td><td>deborah_nolan@berkeley.edu</td></tr><tr><th>2</th><td>Sam</td><td>samlau95@berkeley.edu</td></tr><tr><th>3</th><td>John</td><td>doe@nope.com</td></tr><tr><th>4</th><td>Joey</td><td>jegonzal@cs.berkeley.edu</td></tr><tr><th>5</th><td>Weiwei</td><td>weiwzhang@berkeley.edu</td></tr><tr><th>6</th><td>Weiwei</td><td>weiwzhang+123@berkeley.edu</td></tr><tr><th>7</th><td>Karina</td><td>kgoot@berkeley.edu</td></tr></tbody></table>"
      ],
      "text/latex": [
       "\\begin{tabular}{r|cc}\n",
       "\t& User\\_Name & Email\\\\\n",
       "\t\\hline\n",
       "\t& String & String\\\\\n",
       "\t\\hline\n",
       "\t1 & Deb & deborah\\_nolan@berkeley.edu \\\\\n",
       "\t2 & Sam & samlau95@berkeley.edu \\\\\n",
       "\t3 & John & doe@nope.com \\\\\n",
       "\t4 & Joey & jegonzal@cs.berkeley.edu \\\\\n",
       "\t5 & Weiwei & weiwzhang@berkeley.edu \\\\\n",
       "\t6 & Weiwei & weiwzhang+123@berkeley.edu \\\\\n",
       "\t7 & Karina & kgoot@berkeley.edu \\\\\n",
       "\\end{tabular}\n"
      ],
      "text/plain": [
       "7×2 DataFrame\n"
      ]
     },
     "execution_count": 5,
     "metadata": {},
     "output_type": "execute_result"
    }
   ],
   "source": [
    "email = DataFrame(\n",
    "    User_Name=[\"Deb\", \"Sam\", \"John\", \"Joey\", \"Weiwei\", \"Weiwei\", \"Karina\"],\n",
    "    Email=[\"deborah_nolan@berkeley.edu\", \"samlau95@berkeley.edu\", \"doe@nope.com\",\n",
    "           \"jegonzal@cs.berkeley.edu\", \"weiwzhang@berkeley.edu\", \"weiwzhang+123@berkeley.edu\",\n",
    "           \"kgoot@berkeley.edu\"]\n",
    ")"
   ]
  },
  {
   "cell_type": "markdown",
   "metadata": {},
   "source": [
    "To match up each person with his or her email, we can join the two tables on the columns that contain the usernames. We must then decide what to do about people that appear in one table but not the other. For example, Nhi appears in the `people` table but not the `email` table. We have several types of joins for each strategy of matching missing values. One of the more common joins is the *inner join*, where any row that doesn't have a match is dropped in the final result:"
   ]
  },
  {
   "cell_type": "code",
   "execution_count": 6,
   "metadata": {},
   "outputs": [
    {
     "data": {
      "text/html": [
       "<table class=\"data-frame\"><thead><tr><th></th><th>Name</th><th>Color</th><th>Number</th><th>Sex</th><th>Email</th></tr><tr><th></th><th>String</th><th>String</th><th>Int64</th><th>String</th><th>String</th></tr></thead><tbody><p>6 rows × 5 columns</p><tr><th>1</th><td>Joey</td><td>blue</td><td>42</td><td>M</td><td>jegonzal@cs.berkeley.edu</td></tr><tr><th>2</th><td>Weiwei</td><td>blue</td><td>50</td><td>F</td><td>weiwzhang@berkeley.edu</td></tr><tr><th>3</th><td>Weiwei</td><td>blue</td><td>50</td><td>F</td><td>weiwzhang+123@berkeley.edu</td></tr><tr><th>4</th><td>Joey</td><td>green</td><td>8</td><td>M</td><td>jegonzal@cs.berkeley.edu</td></tr><tr><th>5</th><td>Karina</td><td>green</td><td>7</td><td>F</td><td>kgoot@berkeley.edu</td></tr><tr><th>6</th><td>Sam</td><td>pink</td><td>-42</td><td>M</td><td>samlau95@berkeley.edu</td></tr></tbody></table>"
      ],
      "text/latex": [
       "\\begin{tabular}{r|ccccc}\n",
       "\t& Name & Color & Number & Sex & Email\\\\\n",
       "\t\\hline\n",
       "\t& String & String & Int64 & String & String\\\\\n",
       "\t\\hline\n",
       "\t1 & Joey & blue & 42 & M & jegonzal@cs.berkeley.edu \\\\\n",
       "\t2 & Weiwei & blue & 50 & F & weiwzhang@berkeley.edu \\\\\n",
       "\t3 & Weiwei & blue & 50 & F & weiwzhang+123@berkeley.edu \\\\\n",
       "\t4 & Joey & green & 8 & M & jegonzal@cs.berkeley.edu \\\\\n",
       "\t5 & Karina & green & 7 & F & kgoot@berkeley.edu \\\\\n",
       "\t6 & Sam & pink & -42 & M & samlau95@berkeley.edu \\\\\n",
       "\\end{tabular}\n"
      ],
      "text/plain": [
       "6×5 DataFrame\n"
      ]
     },
     "execution_count": 6,
     "metadata": {},
     "output_type": "execute_result"
    }
   ],
   "source": [
    "# Nhi, Deb, and John don't appear\n",
    "join(people, email, on = :Name => :User_Name, kind = :inner)"
   ]
  },
  {
   "cell_type": "markdown",
   "metadata": {},
   "source": [
    "There are four basic joins that we use most often: inner, full (sometimes called \"outer\"), left, and right joins. Below is a diagram to show the difference between these types of joins.\n",
    "\n",
    "![joins](https://github.com/DS-100/textbook/raw/master/assets/joins.png)\n",
    "\n",
    "Use the dropdown menu below to show the result of the four different types of joins on the `people` and `email` tables. Notice which rows contain NaN values for outer, left, and right joins."
   ]
  },
  {
   "cell_type": "code",
   "execution_count": 17,
   "metadata": {},
   "outputs": [
    {
     "data": {
      "application/vnd.webio.node+json": {
       "children": [
        {
         "children": [
          {
           "children": [
            {
             "children": [
              {
               "children": [],
               "instanceArgs": {
                "namespace": "html",
                "tag": "select"
               },
               "nodeType": "DOM",
               "props": {
                "attributes": {
                 "data-bind": "options : options_js, value : index, optionsText: 'key', optionsValue: 'val', valueAllowUnset: true, optionsAfterRender: disablePlaceholder"
                }
               },
               "type": "node"
              }
             ],
             "instanceArgs": {
              "namespace": "html",
              "tag": "div"
             },
             "nodeType": "DOM",
             "props": {
              "className": "select "
             },
             "type": "node"
            }
           ],
           "instanceArgs": {
            "handlers": {
             "index": [
              "(function (val){return (val!=this.model[\"index\"]()) ? (this.valueFromJulia[\"index\"]=true, this.model[\"index\"](val)) : undefined})"
             ],
             "options_js": [
              "(function (val){return (val!=this.model[\"options_js\"]()) ? (this.valueFromJulia[\"options_js\"]=true, this.model[\"options_js\"](val)) : undefined})"
             ]
            },
            "id": "11077476806740014536",
            "imports": {
             "data": [
              {
               "name": "knockout",
               "type": "js",
               "url": "/assetserver/4bdbc0a2e39d33a8c92cbc3c3b83ee34d2563215-knockout.js"
              },
              {
               "name": "knockout_punches",
               "type": "js",
               "url": "/assetserver/c829faa0d3c9b5d6597e053dcc25de6f9072be0d-knockout_punches.js"
              },
              {
               "name": null,
               "type": "js",
               "url": "/assetserver/9ac108fb38b77c61725e590e95a5137aa34cd04c-all.js"
              },
              {
               "name": null,
               "type": "css",
               "url": "/assetserver/cb6cb9da170db73feda0612df991bd3ad9f0d1d1-style.css"
              },
              {
               "name": null,
               "type": "css",
               "url": "/assetserver/fe04331fefdfb6cf3fb183862203aff5b42d9d79-bulma_confined.min.css"
              }
             ],
             "type": "async_block"
            },
            "mount_callbacks": [
             "function () {\n    var handler = (function (ko, koPunches) {\n    ko.punches.enableAll();\n    ko.bindingHandlers.numericValue = {\n        init: function(element, valueAccessor, allBindings, data, context) {\n            var stringified = ko.observable(ko.unwrap(valueAccessor()));\n            stringified.subscribe(function(value) {\n                var val = parseFloat(value);\n                if (!isNaN(val)) {\n                    valueAccessor()(val);\n                }\n            });\n            valueAccessor().subscribe(function(value) {\n                var str = JSON.stringify(value);\n                if ((str == \"0\") && ([\"-0\", \"-0.\"].indexOf(stringified()) >= 0))\n                     return;\n                 if ([\"null\", \"\"].indexOf(str) >= 0)\n                     return;\n                stringified(str);\n            });\n            ko.applyBindingsToNode(\n                element,\n                {\n                    value: stringified,\n                    valueUpdate: allBindings.get('valueUpdate'),\n                },\n                context,\n            );\n        }\n    };\n    var json_data = {\"options_js\":WebIO.getval({\"name\":\"options_js\",\"scope\":\"11077476806740014536\",\"id\":\"ob_67\",\"type\":\"observable\"}),\"index\":WebIO.getval({\"name\":\"index\",\"scope\":\"11077476806740014536\",\"id\":\"ob_66\",\"type\":\"observable\"})};\n    var self = this;\n    function AppViewModel() {\n        for (var key in json_data) {\n            var el = json_data[key];\n            this[key] = Array.isArray(el) ? ko.observableArray(el) : ko.observable(el);\n        }\n        [this[\"disablePlaceholder\"]=function(option, item) {\n    ko.applyBindingsToNode(option, {disable: item.val == 0}, item);\n}\n]\n        \n        [this[\"options_js\"].subscribe((function (val){!(this.valueFromJulia[\"options_js\"]) ? (WebIO.setval({\"name\":\"options_js\",\"scope\":\"11077476806740014536\",\"id\":\"ob_67\",\"type\":\"observable\"},val)) : undefined; return this.valueFromJulia[\"options_js\"]=false}),self),this[\"index\"].subscribe((function (val){!(this.valueFromJulia[\"index\"]) ? (WebIO.setval({\"name\":\"index\",\"scope\":\"11077476806740014536\",\"id\":\"ob_66\",\"type\":\"observable\"},val)) : undefined; return this.valueFromJulia[\"index\"]=false}),self)]\n        \n    }\n    self.model = new AppViewModel();\n    self.valueFromJulia = {};\n    for (var key in json_data) {\n        self.valueFromJulia[key] = false;\n    }\n    ko.applyBindings(self.model, self.dom);\n}\n);\n    (WebIO.importBlock({\"data\":[{\"name\":\"knockout\",\"type\":\"js\",\"url\":\"/assetserver/4bdbc0a2e39d33a8c92cbc3c3b83ee34d2563215-knockout.js\"},{\"name\":\"knockout_punches\",\"type\":\"js\",\"url\":\"/assetserver/c829faa0d3c9b5d6597e053dcc25de6f9072be0d-knockout_punches.js\"}],\"type\":\"async_block\"})).then((imports) => handler.apply(this, imports));\n}\n"
            ],
            "observables": {
             "index": {
              "id": "ob_66",
              "sync": true,
              "value": 1
             },
             "options_js": {
              "id": "ob_67",
              "sync": false,
              "value": [
               {
                "id": "idCuiSnAvx",
                "key": "inner",
                "val": 1
               },
               {
                "id": "idT0aNA8Rx",
                "key": "outer",
                "val": 2
               },
               {
                "id": "idEvNI3LWk",
                "key": "left",
                "val": 3
               },
               {
                "id": "idTFsO7UBP",
                "key": "right",
                "val": 4
               }
              ]
             }
            },
            "systemjs_options": null
           },
           "nodeType": "Scope",
           "props": {},
           "type": "node"
          }
         ],
         "instanceArgs": {
          "namespace": "html",
          "tag": "div"
         },
         "nodeType": "DOM",
         "props": {
          "className": "field interact-widget"
         },
         "type": "node"
        },
        {
         "children": [
          {
           "children": [],
           "instanceArgs": {
            "id": "ob_73",
            "name": "obs-node"
           },
           "nodeType": "ObservableNode",
           "props": {},
           "type": "node"
          }
         ],
         "instanceArgs": {
          "handlers": {},
          "id": "3580617411757505961",
          "imports": {
           "data": [],
           "type": "async_block"
          },
          "mount_callbacks": [],
          "observables": {
           "obs-node": {
            "id": "ob_73",
            "sync": false,
            "value": {
             "children": [
              {
               "children": [],
               "instanceArgs": {
                "namespace": "html",
                "tag": "div"
               },
               "nodeType": "DOM",
               "props": {
                "setInnerHtml": "<table class=\"data-frame\"><thead><tr><th></th><th>Name</th><th>Color</th><th>Number</th><th>Sex</th><th>Email</th></tr><tr><th></th><th>String</th><th>String</th><th>Int64</th><th>String</th><th>String</th></tr></thead><tbody><p>6 rows × 5 columns</p><tr><th>1</th><td>Joey</td><td>blue</td><td>42</td><td>M</td><td>jegonzal@cs.berkeley.edu</td></tr><tr><th>2</th><td>Weiwei</td><td>blue</td><td>50</td><td>F</td><td>weiwzhang@berkeley.edu</td></tr><tr><th>3</th><td>Weiwei</td><td>blue</td><td>50</td><td>F</td><td>weiwzhang+123@berkeley.edu</td></tr><tr><th>4</th><td>Joey</td><td>green</td><td>8</td><td>M</td><td>jegonzal@cs.berkeley.edu</td></tr><tr><th>5</th><td>Karina</td><td>green</td><td>7</td><td>F</td><td>kgoot@berkeley.edu</td></tr><tr><th>6</th><td>Sam</td><td>pink</td><td>-42</td><td>M</td><td>samlau95@berkeley.edu</td></tr></tbody></table>"
               },
               "type": "node"
              }
             ],
             "instanceArgs": {
              "namespace": "html",
              "tag": "div"
             },
             "nodeType": "DOM",
             "props": {
              "className": "interact-flex-row interact-widget"
             },
             "type": "node"
            }
           }
          },
          "systemjs_options": null
         },
         "nodeType": "Scope",
         "props": {},
         "type": "node"
        }
       ],
       "instanceArgs": {
        "namespace": "html",
        "tag": "div"
       },
       "nodeType": "DOM",
       "props": {},
       "type": "node"
      },
      "text/html": [
       "<div\n",
       "    class=\"webio-mountpoint\"\n",
       "    data-webio-mountpoint=\"1501440483049174297\"\n",
       ">\n",
       "    <script>\n",
       "    if (window.require && require.defined && require.defined(\"nbextensions/webio-jupyter-notebook\")) {\n",
       "        console.log(\"Jupyter WebIO extension detected, not mounting.\");\n",
       "    } else if (window.WebIO) {\n",
       "        WebIO.mount(\n",
       "            document.querySelector('[data-webio-mountpoint=\"1501440483049174297\"]'),\n",
       "            {\"props\":{},\"nodeType\":\"DOM\",\"type\":\"node\",\"instanceArgs\":{\"namespace\":\"html\",\"tag\":\"div\"},\"children\":[{\"props\":{\"className\":\"field interact-widget\"},\"nodeType\":\"DOM\",\"type\":\"node\",\"instanceArgs\":{\"namespace\":\"html\",\"tag\":\"div\"},\"children\":[{\"props\":{},\"nodeType\":\"Scope\",\"type\":\"node\",\"instanceArgs\":{\"imports\":{\"data\":[{\"name\":\"knockout\",\"type\":\"js\",\"url\":\"\\/assetserver\\/4bdbc0a2e39d33a8c92cbc3c3b83ee34d2563215-knockout.js\"},{\"name\":\"knockout_punches\",\"type\":\"js\",\"url\":\"\\/assetserver\\/c829faa0d3c9b5d6597e053dcc25de6f9072be0d-knockout_punches.js\"},{\"name\":null,\"type\":\"js\",\"url\":\"\\/assetserver\\/9ac108fb38b77c61725e590e95a5137aa34cd04c-all.js\"},{\"name\":null,\"type\":\"css\",\"url\":\"\\/assetserver\\/cb6cb9da170db73feda0612df991bd3ad9f0d1d1-style.css\"},{\"name\":null,\"type\":\"css\",\"url\":\"\\/assetserver\\/fe04331fefdfb6cf3fb183862203aff5b42d9d79-bulma_confined.min.css\"}],\"type\":\"async_block\"},\"id\":\"11077476806740014536\",\"handlers\":{\"options_js\":[\"(function (val){return (val!=this.model[\\\"options_js\\\"]()) ? (this.valueFromJulia[\\\"options_js\\\"]=true, this.model[\\\"options_js\\\"](val)) : undefined})\"],\"index\":[\"(function (val){return (val!=this.model[\\\"index\\\"]()) ? (this.valueFromJulia[\\\"index\\\"]=true, this.model[\\\"index\\\"](val)) : undefined})\"]},\"systemjs_options\":null,\"mount_callbacks\":[\"function () {\\n    var handler = (function (ko, koPunches) {\\n    ko.punches.enableAll();\\n    ko.bindingHandlers.numericValue = {\\n        init: function(element, valueAccessor, allBindings, data, context) {\\n            var stringified = ko.observable(ko.unwrap(valueAccessor()));\\n            stringified.subscribe(function(value) {\\n                var val = parseFloat(value);\\n                if (!isNaN(val)) {\\n                    valueAccessor()(val);\\n                }\\n            });\\n            valueAccessor().subscribe(function(value) {\\n                var str = JSON.stringify(value);\\n                if ((str == \\\"0\\\") && ([\\\"-0\\\", \\\"-0.\\\"].indexOf(stringified()) >= 0))\\n                     return;\\n                 if ([\\\"null\\\", \\\"\\\"].indexOf(str) >= 0)\\n                     return;\\n                stringified(str);\\n            });\\n            ko.applyBindingsToNode(\\n                element,\\n                {\\n                    value: stringified,\\n                    valueUpdate: allBindings.get('valueUpdate'),\\n                },\\n                context,\\n            );\\n        }\\n    };\\n    var json_data = {\\\"options_js\\\":WebIO.getval({\\\"name\\\":\\\"options_js\\\",\\\"scope\\\":\\\"11077476806740014536\\\",\\\"id\\\":\\\"ob_67\\\",\\\"type\\\":\\\"observable\\\"}),\\\"index\\\":WebIO.getval({\\\"name\\\":\\\"index\\\",\\\"scope\\\":\\\"11077476806740014536\\\",\\\"id\\\":\\\"ob_66\\\",\\\"type\\\":\\\"observable\\\"})};\\n    var self = this;\\n    function AppViewModel() {\\n        for (var key in json_data) {\\n            var el = json_data[key];\\n            this[key] = Array.isArray(el) ? ko.observableArray(el) : ko.observable(el);\\n        }\\n        [this[\\\"disablePlaceholder\\\"]=function(option, item) {\\n    ko.applyBindingsToNode(option, {disable: item.val == 0}, item);\\n}\\n]\\n        \\n        [this[\\\"options_js\\\"].subscribe((function (val){!(this.valueFromJulia[\\\"options_js\\\"]) ? (WebIO.setval({\\\"name\\\":\\\"options_js\\\",\\\"scope\\\":\\\"11077476806740014536\\\",\\\"id\\\":\\\"ob_67\\\",\\\"type\\\":\\\"observable\\\"},val)) : undefined; return this.valueFromJulia[\\\"options_js\\\"]=false}),self),this[\\\"index\\\"].subscribe((function (val){!(this.valueFromJulia[\\\"index\\\"]) ? (WebIO.setval({\\\"name\\\":\\\"index\\\",\\\"scope\\\":\\\"11077476806740014536\\\",\\\"id\\\":\\\"ob_66\\\",\\\"type\\\":\\\"observable\\\"},val)) : undefined; return this.valueFromJulia[\\\"index\\\"]=false}),self)]\\n        \\n    }\\n    self.model = new AppViewModel();\\n    self.valueFromJulia = {};\\n    for (var key in json_data) {\\n        self.valueFromJulia[key] = false;\\n    }\\n    ko.applyBindings(self.model, self.dom);\\n}\\n);\\n    (WebIO.importBlock({\\\"data\\\":[{\\\"name\\\":\\\"knockout\\\",\\\"type\\\":\\\"js\\\",\\\"url\\\":\\\"\\/assetserver\\/4bdbc0a2e39d33a8c92cbc3c3b83ee34d2563215-knockout.js\\\"},{\\\"name\\\":\\\"knockout_punches\\\",\\\"type\\\":\\\"js\\\",\\\"url\\\":\\\"\\/assetserver\\/c829faa0d3c9b5d6597e053dcc25de6f9072be0d-knockout_punches.js\\\"}],\\\"type\\\":\\\"async_block\\\"})).then((imports) => handler.apply(this, imports));\\n}\\n\"],\"observables\":{\"options_js\":{\"sync\":false,\"id\":\"ob_67\",\"value\":[{\"key\":\"inner\",\"val\":1,\"id\":\"idCuiSnAvx\"},{\"key\":\"outer\",\"val\":2,\"id\":\"idT0aNA8Rx\"},{\"key\":\"left\",\"val\":3,\"id\":\"idEvNI3LWk\"},{\"key\":\"right\",\"val\":4,\"id\":\"idTFsO7UBP\"}]},\"index\":{\"sync\":true,\"id\":\"ob_66\",\"value\":1}}},\"children\":[{\"props\":{\"className\":\"select \"},\"nodeType\":\"DOM\",\"type\":\"node\",\"instanceArgs\":{\"namespace\":\"html\",\"tag\":\"div\"},\"children\":[{\"props\":{\"attributes\":{\"data-bind\":\"options : options_js, value : index, optionsText: 'key', optionsValue: 'val', valueAllowUnset: true, optionsAfterRender: disablePlaceholder\"}},\"nodeType\":\"DOM\",\"type\":\"node\",\"instanceArgs\":{\"namespace\":\"html\",\"tag\":\"select\"},\"children\":[]}]}]}]},{\"props\":{},\"nodeType\":\"Scope\",\"type\":\"node\",\"instanceArgs\":{\"imports\":{\"data\":[],\"type\":\"async_block\"},\"id\":\"7905027492269665489\",\"handlers\":{},\"systemjs_options\":null,\"mount_callbacks\":[],\"observables\":{\"obs-node\":{\"sync\":false,\"id\":\"ob_71\",\"value\":{\"props\":{\"className\":\"interact-flex-row interact-widget\"},\"nodeType\":\"DOM\",\"type\":\"node\",\"instanceArgs\":{\"namespace\":\"html\",\"tag\":\"div\"},\"children\":[{\"props\":{\"setInnerHtml\":\"<table class=\\\"data-frame\\\"><thead><tr><th><\\/th><th>Name<\\/th><th>Color<\\/th><th>Number<\\/th><th>Sex<\\/th><th>Email<\\/th><\\/tr><tr><th><\\/th><th>String<\\/th><th>String<\\/th><th>Int64<\\/th><th>String<\\/th><th>String<\\/th><\\/tr><\\/thead><tbody><p>6 rows × 5 columns<\\/p><tr><th>1<\\/th><td>Joey<\\/td><td>blue<\\/td><td>42<\\/td><td>M<\\/td><td>jegonzal@cs.berkeley.edu<\\/td><\\/tr><tr><th>2<\\/th><td>Weiwei<\\/td><td>blue<\\/td><td>50<\\/td><td>F<\\/td><td>weiwzhang@berkeley.edu<\\/td><\\/tr><tr><th>3<\\/th><td>Weiwei<\\/td><td>blue<\\/td><td>50<\\/td><td>F<\\/td><td>weiwzhang+123@berkeley.edu<\\/td><\\/tr><tr><th>4<\\/th><td>Joey<\\/td><td>green<\\/td><td>8<\\/td><td>M<\\/td><td>jegonzal@cs.berkeley.edu<\\/td><\\/tr><tr><th>5<\\/th><td>Karina<\\/td><td>green<\\/td><td>7<\\/td><td>F<\\/td><td>kgoot@berkeley.edu<\\/td><\\/tr><tr><th>6<\\/th><td>Sam<\\/td><td>pink<\\/td><td>-42<\\/td><td>M<\\/td><td>samlau95@berkeley.edu<\\/td><\\/tr><\\/tbody><\\/table>\"},\"nodeType\":\"DOM\",\"type\":\"node\",\"instanceArgs\":{\"namespace\":\"html\",\"tag\":\"div\"},\"children\":[]}]}}}},\"children\":[{\"props\":{},\"nodeType\":\"ObservableNode\",\"type\":\"node\",\"instanceArgs\":{\"id\":\"ob_71\",\"name\":\"obs-node\"},\"children\":[]}]}]},\n",
       "            window,\n",
       "        );\n",
       "    } else {\n",
       "        document\n",
       "            .querySelector('[data-webio-mountpoint=\"1501440483049174297\"]')\n",
       "            .innerHTML = (\n",
       "                '<strong>WebIO not detected. Please read ' +\n",
       "                '<a href=\"https://juliagizmos.github.io/WebIO.jl/latest/troubleshooting/not-detected/\">the troubleshooting guide</a> ' +\n",
       "                'for more information on how to resolve this issue.' +\n",
       "                '</strong>'\n",
       "            );\n",
       "    }\n",
       "    </script>\n",
       "</div>\n"
      ],
      "text/plain": [
       "Node{WebIO.DOM}(WebIO.DOM(:html, :div), Any[Node{WebIO.DOM}(WebIO.DOM(:html, :div), Any[Scope(Node{WebIO.DOM}(WebIO.DOM(:html, :div), Any[Node{WebIO.DOM}(WebIO.DOM(:html, :select), Any[], Dict{Symbol,Any}(:attributes => Dict{Union{String, Symbol},Any}(Symbol(\"data-bind\") => \"options : options_js, value : index, optionsText: 'key', optionsValue: 'val', valueAllowUnset: true, optionsAfterRender: disablePlaceholder\")))], Dict{Symbol,Any}(:className => \"select \")), Dict{String,Tuple{Observables.AbstractObservable,Union{Nothing, Bool}}}(\"options_js\" => (Observable{Any} with 1 listeners. Value:\n",
       "OrderedDict[OrderedDict{String,Any}(\"key\" => \"inner\",\"val\" => 1,\"id\" => \"idCuiSnAvx\"), OrderedDict{String,Any}(\"key\" => \"outer\",\"val\" => 2,\"id\" => \"idT0aNA8Rx\"), OrderedDict{String,Any}(\"key\" => \"left\",\"val\" => 3,\"id\" => \"idEvNI3LWk\"), OrderedDict{String,Any}(\"key\" => \"right\",\"val\" => 4,\"id\" => \"idTFsO7UBP\")], nothing),\"index\" => (Observable{Any} with 2 listeners. Value:\n",
       "1, nothing)), Set(String[]), nothing, Asset[Asset(\"js\", \"knockout\", \"/Users/irinabchan/.julia/packages/Knockout/1sDlc/src/../assets/knockout.js\"), Asset(\"js\", \"knockout_punches\", \"/Users/irinabchan/.julia/packages/Knockout/1sDlc/src/../assets/knockout_punches.js\"), Asset(\"js\", nothing, \"/Users/irinabchan/.julia/packages/InteractBase/9mFwe/src/../assets/all.js\"), Asset(\"css\", nothing, \"/Users/irinabchan/.julia/packages/InteractBase/9mFwe/src/../assets/style.css\"), Asset(\"css\", nothing, \"/Users/irinabchan/.julia/packages/Interact/SbgIk/src/../assets/bulma_confined.min.css\")], Dict{Any,Any}(\"options_js\" => Any[WebIO.JSString(\"(function (val){return (val!=this.model[\\\"options_js\\\"]()) ? (this.valueFromJulia[\\\"options_js\\\"]=true, this.model[\\\"options_js\\\"](val)) : undefined})\")],\"index\" => Any[WebIO.JSString(\"(function (val){return (val!=this.model[\\\"index\\\"]()) ? (this.valueFromJulia[\\\"index\\\"]=true, this.model[\\\"index\\\"](val)) : undefined})\")]), WebIO.ConnectionPool(Channel{Any}(sz_max:32,sz_curr:0), Set(AbstractConnection[]), Base.GenericCondition{Base.AlwaysLockedST}(Base.InvasiveLinkedList{Task}(Task (runnable) @0x0000000115d70b50, Task (runnable) @0x0000000115d70b50), Base.AlwaysLockedST(1))), WebIO.JSString[WebIO.JSString(\"function () {\\n    var handler = (function (ko, koPunches) {\\n    ko.punches.enableAll();\\n    ko.bindingHandlers.numericValue = {\\n        init: function(element, valueAccessor, allBindings, data, context) {\\n            var stringified = ko.observable(ko.unwrap(valueAccessor()));\\n            stringified.subscribe(function(value) {\\n                var val = parseFloat(value);\\n                if (!isNaN(val)) {\\n                    valueAccessor()(val);\\n                }\\n            });\\n            valueAccessor().subscribe(function(value) {\\n                var str = JSON.stringify(value);\\n                if ((str == \\\"0\\\") && ([\\\"-0\\\", \\\"-0.\\\"].indexOf(stringified()) >= 0))\\n                     return;\\n                 if ([\\\"null\\\", \\\"\\\"].indexOf(str) >= 0)\\n                     return;\\n                stringified(str);\\n            });\\n            ko.applyBindingsToNode(\\n                element,\\n                {\\n                    value: stringified,\\n                    valueUpdate: allBindings.get('valueUpdate'),\\n                },\\n                context,\\n            );\\n        }\\n    };\\n    var json_data = {\\\"options_js\\\":WebIO.getval({\\\"name\\\":\\\"options_js\\\",\\\"scope\\\":\\\"11077476806740014536\\\",\\\"id\\\":\\\"ob_67\\\",\\\"type\\\":\\\"observable\\\"}),\\\"index\\\":WebIO.getval({\\\"name\\\":\\\"index\\\",\\\"scope\\\":\\\"11077476806740014536\\\",\\\"id\\\":\\\"ob_66\\\",\\\"type\\\":\\\"observable\\\"})};\\n    var self = this;\\n    function AppViewModel() {\\n        for (var key in json_data) {\\n            var el = json_data[key];\\n            this[key] = Array.isArray(el) ? ko.observableArray(el) : ko.observable(el);\\n        }\\n        [this[\\\"disablePlaceholder\\\"]=function(option, item) {\\n    ko.applyBindingsToNode(option, {disable: item.val == 0}, item);\\n}\\n]\\n        \\n        [this[\\\"options_js\\\"].subscribe((function (val){!(this.valueFromJulia[\\\"options_js\\\"]) ? (WebIO.setval({\\\"name\\\":\\\"options_js\\\",\\\"scope\\\":\\\"11077476806740014536\\\",\\\"id\\\":\\\"ob_67\\\",\\\"type\\\":\\\"observable\\\"},val)) : undefined; return this.valueFromJulia[\\\"options_js\\\"]=false}),self),this[\\\"index\\\"].subscribe((function (val){!(this.valueFromJulia[\\\"index\\\"]) ? (WebIO.setval({\\\"name\\\":\\\"index\\\",\\\"scope\\\":\\\"11077476806740014536\\\",\\\"id\\\":\\\"ob_66\\\",\\\"type\\\":\\\"observable\\\"},val)) : undefined; return this.valueFromJulia[\\\"index\\\"]=false}),self)]\\n        \\n    }\\n    self.model = new AppViewModel();\\n    self.valueFromJulia = {};\\n    for (var key in json_data) {\\n        self.valueFromJulia[key] = false;\\n    }\\n    ko.applyBindings(self.model, self.dom);\\n}\\n);\\n    (WebIO.importBlock({\\\"data\\\":[{\\\"name\\\":\\\"knockout\\\",\\\"type\\\":\\\"js\\\",\\\"url\\\":\\\"/assetserver/4bdbc0a2e39d33a8c92cbc3c3b83ee34d2563215-knockout.js\\\"},{\\\"name\\\":\\\"knockout_punches\\\",\\\"type\\\":\\\"js\\\",\\\"url\\\":\\\"/assetserver/c829faa0d3c9b5d6597e053dcc25de6f9072be0d-knockout_punches.js\\\"}],\\\"type\\\":\\\"async_block\\\"})).then((imports) => handler.apply(this, imports));\\n}\\n\")])], Dict{Symbol,Any}(:className => \"field interact-widget\")), Observable{Any} with 0 listeners. Value:\n",
       "Node{WebIO.DOM}(WebIO.DOM(:html, :div), Any[6×5 DataFrame\n",
       "], Dict{Symbol,Any}(:className => \"interact-flex-row interact-widget\"))], Dict{Symbol,Any}())"
      ]
     },
     "execution_count": 17,
     "metadata": {
      "application/vnd.webio.node+json": {
       "kernelId": "58074837-b7d3-46d2-bf05-8c9b56d35bc8"
      }
     },
     "output_type": "execute_result"
    }
   ],
   "source": [
    "@manipulate for option=dropdown(Observable([:inner, :outer, :left, :right]))\n",
    "    join(people, email, on = :Name => :User_Name, kind = option)\n",
    "end"
   ]
  },
  {
   "cell_type": "markdown",
   "metadata": {},
   "source": [
    "## Structure Checklist\n",
    "\n",
    "You should have answers to the following questions after looking at the structure of your datasets. We will answer them for the Calls and Stops datasets.\n",
    "\n",
    "**Are the data in a standard format or encoding?**\n",
    "\n",
    "Standard formats include:\n",
    "\n",
    "- Tabular data: CSV, TSV, Excel, SQL\n",
    "- Nested data: JSON, XML\n",
    "\n",
    "The Calls dataset came in the CSV format while the Stops dataset came in the JSON format.\n",
    "\n",
    "**Are the data organized in records (e.g. rows)? If not, can we define records by parsing the data?**\n",
    "\n",
    "The Calls dataset came in rows; we extracted records from the Stops dataset.\n",
    "\n",
    "**Are the data nested? If so, can we reasonably unnest the data?**\n",
    "\n",
    "The Calls dataset wasn't nested; we didn't have to work too hard to unnest data from the Stops dataset.\n",
    "\n",
    "**Do the data reference other data? If so, can we join the data?**\n",
    "\n",
    "The Calls dataset references the day of week table. Joining those two tables gives us the day of week for each incident in the dataset. The Stops dataset had no obvious references.\n",
    "\n",
    "**What are the fields (e.g. columns) in each record? What is the type of each column?**\n",
    "\n",
    "The fields for the Calls and Stops datasets are described in the Data Cleaning sections for each dataset."
   ]
  }
 ],
 "metadata": {
  "@webio": {
   "lastCommId": "9e2a99f6deaa444c87a75ec70ae98d1d",
   "lastKernelId": "58074837-b7d3-46d2-bf05-8c9b56d35bc8"
  },
  "kernelspec": {
   "display_name": "Julia 1.2.0",
   "language": "julia",
   "name": "julia-1.2"
  },
  "language_info": {
   "file_extension": ".jl",
   "mimetype": "application/julia",
   "name": "julia",
   "version": "1.2.0"
  }
 },
 "nbformat": 4,
 "nbformat_minor": 2
}
