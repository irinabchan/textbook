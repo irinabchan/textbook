{
 "cells": [
  {
   "cell_type": "code",
   "execution_count": 15,
   "metadata": {},
   "outputs": [],
   "source": [
    "# HIDDEN\n",
    "Base.displaysize() = (10, 80)\n",
    "using DataFrames\n",
    "using CSV"
   ]
  },
  {
   "cell_type": "markdown",
   "metadata": {},
   "source": [
    "## Structure\n",
    "\n",
    "The structure of a dataset refers to the \"shape\" of the data files. At a basic level, this refers to the format that the data are entered in. For example, we saw that the Calls dataset is a comma-separated values file:"
   ]
  },
  {
   "cell_type": "code",
   "execution_count": 2,
   "metadata": {},
   "outputs": [
    {
     "name": "stdout",
     "output_type": "stream",
     "text": [
      "CASENO,OFFENSE,EVENTDT,EVENTTM,CVLEGEND,CVDOW,InDbDate,Block_Location,BLKADDR,City,State\n",
      "17091420,BURGLARY AUTO,07/23/2017 12:00:00 AM,06:00,BURGLARY - VEHICLE,0,08/29/2017 08:28:05 AM,\"2500 LE CONTE AVE\n",
      "Berkeley, CA\n",
      "(37.876965, -122.260544)\",2500 LE CONTE AVE,Berkeley,CA\n",
      "17020462,THEFT FROM PERSON,04/13/2017 12:00:00 AM,08:45,LARCENY,4,08/29/2017 08:28:00 AM,\"2200 SHATTUCK AVE\n",
      "Berkeley, CA\n",
      "(37.869363, -122.268028)\",2200 SHATTUCK AVE,Berkeley,CA\n",
      "17050275,BURGLARY AUTO,08/24/2017 12:00:00 AM,18:30,BURGLARY - VEHICLE,4,08/29/2017 08:28:06 AM,\"200 UNIVERSITY AVE\n",
      "Berkeley, CA\n",
      "(37.865491, -122.310065)\",200 UNIVERSITY AVE,Berkeley,CA\n"
     ]
    }
   ],
   "source": [
    ";head data/Berkeley_PD_-_Calls_for_Service.csv"
   ]
  },
  {
   "cell_type": "markdown",
   "metadata": {},
   "source": [
    "The Stops dataset, on the other hand, is a JSON (JavaScript Object Notation) file."
   ]
  },
  {
   "cell_type": "code",
   "execution_count": 12,
   "metadata": {},
   "outputs": [
    {
     "name": "stdout",
     "output_type": "stream",
     "text": [
      "{\n",
      "  \"meta\" : {\n",
      "    \"view\" : {\n",
      "      \"id\" : \"6e9j-pj9p\",\n",
      "      \"name\" : \"Berkeley PD - Stop Data\",\n"
     ]
    }
   ],
   "source": [
    ";head -n 5 data/stops.json"
   ]
  },
  {
   "cell_type": "code",
   "execution_count": 13,
   "metadata": {},
   "outputs": [
    {
     "name": "stdout",
     "output_type": "stream",
     "text": [
      ", [ 31079, \"C2B606ED-7872-4B0B-BC9B-4EF45149F34B\", 31079, 1496269085, \"932858\", 1496269085, \"932858\", null, \"2017-00024245\", \"2017-04-30T22:59:26\", \" UNIVERSITY AVE/6TH ST\", \"T\", \"BM2TWN; \", null, null ]\n",
      ", [ 31080, \"8FADF18D-7FE9-441D-8709-7BFEABDACA7A\", 31080, 1496269085, \"932858\", 1496269085, \"932858\", null, \"2017-00024250\", \"2017-04-30T23:19:27\", \" UNIVERSITY AVE /  WEST ST\", \"T\", \"HM4TCS; \", \"37.8698757000001\", \"-122.286550846\" ]\n",
      ", [ 31081, \"F60BD2A4-8C47-4BE7-B1C6-4934BE9DF838\", 31081, 1496269085, \"932858\", 1496269085, \"932858\", null, \"2017-00024254\", \"2017-04-30T23:38:34\", \" CHANNING WAY /  BOWDITCH ST\", \"1194\", \"AR; \", \"37.867207539\", \"-122.256529377\" ]\n",
      " ]\n",
      "}"
     ]
    }
   ],
   "source": [
    ";tail -n 5 data/stops.json"
   ]
  },
  {
   "cell_type": "markdown",
   "metadata": {},
   "source": [
    "Of course, there are many other types of data formats. Here is a list of the most common formats:\n",
    "\n",
    "- Comma-Separated Values (CSV) and Tab-Separated Values (TSV). These files contain tabular data delimited by either a comma for CSV or a tab character (`\\t`) for TSV. These files are typically easy to work with because the data are entered in a similar format to DataFrames.\n",
    "- JavaScript Object Notation (JSON). These files contain data in a nested dictionary format. Typically we have to read in the entire file as a Julia dict and then figure out how to extract fields for a DataFrame from the dict.\n",
    "- eXtensible Markup Language (XML) or HyperText Markup Language (HTML). These files also contain data in a nested format, for example:\n",
    "\n",
    "    ```xml\n",
    "    <?xml version=\"1.0\" encoding=\"UTF-8\"?>\n",
    "    <note>\n",
    "      <to>Tove</to>\n",
    "      <from>Jani</from>\n",
    "      <heading>Reminder</heading>\n",
    "      <body>Don't forget me this weekend!</body>\n",
    "    </note>\n",
    "    ```\n",
    "    \n",
    "    In a later chapter we will use LightXML to extract data from these types of files.\n",
    "- Log data. Many applications will output some data as they run in an unstructured text format, for example:\n",
    "\n",
    "    ```\n",
    "    2005-03-23 23:47:11,663 - sa - INFO - creating an instance of aux_module.Aux\n",
    "    2005-03-23 23:47:11,665 - sa.aux.Aux - INFO - creating an instance of Aux\n",
    "    2005-03-23 23:47:11,665 - sa - INFO - created an instance of aux_module.Aux\n",
    "    2005-03-23 23:47:11,668 - sa - INFO - calling aux_module.Aux.do_something\n",
    "    2005-03-23 23:47:11,668 - sa.aux.Aux - INFO - doing something\n",
    "    ```\n",
    "    \n",
    "    In a later chapter we will use Regular Expressions to extract data from these types of files."
   ]
  },
  {
   "cell_type": "markdown",
   "metadata": {},
   "source": [
    "## Joins\n",
    "\n",
    "Data will often be split across multiple tables. For example, one table can describe some people's personal information while another will contain their emails:"
   ]
  },
  {
   "cell_type": "code",
   "execution_count": 16,
   "metadata": {},
   "outputs": [
    {
     "data": {
      "text/html": [
       "<table class=\"data-frame\"><thead><tr><th></th><th>Name</th><th>Color</th><th>Number</th><th>Sex</th></tr><tr><th></th><th>String</th><th>String</th><th>Int64</th><th>String</th></tr></thead><tbody><p>6 rows × 4 columns</p><tr><th>1</th><td>Joey</td><td>blue</td><td>42</td><td>M</td></tr><tr><th>2</th><td>Weiwei</td><td>blue</td><td>50</td><td>F</td></tr><tr><th>3</th><td>Joey</td><td>green</td><td>8</td><td>M</td></tr><tr><th>4</th><td>Karina</td><td>green</td><td>7</td><td>F</td></tr><tr><th>5</th><td>Nhi</td><td>blue</td><td>3</td><td>F</td></tr><tr><th>6</th><td>Sam</td><td>pink</td><td>-42</td><td>M</td></tr></tbody></table>"
      ],
      "text/latex": [
       "\\begin{tabular}{r|cccc}\n",
       "\t& Name & Color & Number & Sex\\\\\n",
       "\t\\hline\n",
       "\t& String & String & Int64 & String\\\\\n",
       "\t\\hline\n",
       "\t1 & Joey & blue & 42 & M \\\\\n",
       "\t2 & Weiwei & blue & 50 & F \\\\\n",
       "\t3 & Joey & green & 8 & M \\\\\n",
       "\t4 & Karina & green & 7 & F \\\\\n",
       "\t5 & Nhi & blue & 3 & F \\\\\n",
       "\t6 & Sam & pink & -42 & M \\\\\n",
       "\\end{tabular}\n"
      ],
      "text/plain": [
       "6×4 DataFrame\n"
      ]
     },
     "execution_count": 16,
     "metadata": {},
     "output_type": "execute_result"
    }
   ],
   "source": [
    "people = DataFrame(\n",
    "    Name=[\"Joey\", \"Weiwei\", \"Joey\", \"Karina\", \"Nhi\", \"Sam\"],\n",
    "    Color=[\"blue\", \"blue\", \"green\", \"green\", \"blue\", \"pink\"],\n",
    "    Number=[42, 50, 8, 7, 3, -42],\n",
    "    Sex=[\"M\", \"F\", \"M\", \"F\", \"F\", \"M\"]\n",
    ")"
   ]
  },
  {
   "cell_type": "code",
   "execution_count": 17,
   "metadata": {},
   "outputs": [
    {
     "data": {
      "text/html": [
       "<table class=\"data-frame\"><thead><tr><th></th><th>User_Name</th><th>Email</th></tr><tr><th></th><th>String</th><th>String</th></tr></thead><tbody><p>7 rows × 2 columns</p><tr><th>1</th><td>Deb</td><td>deborah_nolan@berkeley.edu</td></tr><tr><th>2</th><td>Sam</td><td>samlau95@berkeley.edu</td></tr><tr><th>3</th><td>John</td><td>doe@nope.com</td></tr><tr><th>4</th><td>Joey</td><td>jegonzal@cs.berkeley.edu</td></tr><tr><th>5</th><td>Weiwei</td><td>weiwzhang@berkeley.edu</td></tr><tr><th>6</th><td>Weiwei</td><td>weiwzhang+123@berkeley.edu</td></tr><tr><th>7</th><td>Karina</td><td>kgoot@berkeley.edu</td></tr></tbody></table>"
      ],
      "text/latex": [
       "\\begin{tabular}{r|cc}\n",
       "\t& User\\_Name & Email\\\\\n",
       "\t\\hline\n",
       "\t& String & String\\\\\n",
       "\t\\hline\n",
       "\t1 & Deb & deborah\\_nolan@berkeley.edu \\\\\n",
       "\t2 & Sam & samlau95@berkeley.edu \\\\\n",
       "\t3 & John & doe@nope.com \\\\\n",
       "\t4 & Joey & jegonzal@cs.berkeley.edu \\\\\n",
       "\t5 & Weiwei & weiwzhang@berkeley.edu \\\\\n",
       "\t6 & Weiwei & weiwzhang+123@berkeley.edu \\\\\n",
       "\t7 & Karina & kgoot@berkeley.edu \\\\\n",
       "\\end{tabular}\n"
      ],
      "text/plain": [
       "7×2 DataFrame\n"
      ]
     },
     "execution_count": 17,
     "metadata": {},
     "output_type": "execute_result"
    }
   ],
   "source": [
    "email = DataFrame(\n",
    "    User_Name=[\"Deb\", \"Sam\", \"John\", \"Joey\", \"Weiwei\", \"Weiwei\", \"Karina\"],\n",
    "    Email=[\"deborah_nolan@berkeley.edu\", \"samlau95@berkeley.edu\", \"doe@nope.com\",\n",
    "           \"jegonzal@cs.berkeley.edu\", \"weiwzhang@berkeley.edu\", \"weiwzhang+123@berkeley.edu\",\n",
    "           \"kgoot@berkeley.edu\"]\n",
    ")"
   ]
  },
  {
   "cell_type": "markdown",
   "metadata": {},
   "source": [
    "To match up each person with his or her email, we can join the two tables on the columns that contain the usernames. We must then decide what to do about people that appear in one table but not the other. For example, Nhi appears in the `people` table but not the `email` table. We have several types of joins for each strategy of matching missing values. One of the more common joins is the *inner join*, where any row that doesn't have a match is dropped in the final result:"
   ]
  },
  {
   "cell_type": "code",
   "execution_count": 19,
   "metadata": {},
   "outputs": [
    {
     "data": {
      "text/html": [
       "<table class=\"data-frame\"><thead><tr><th></th><th>Name</th><th>Color</th><th>Number</th><th>Sex</th><th>Email</th></tr><tr><th></th><th>String</th><th>String</th><th>Int64</th><th>String</th><th>String</th></tr></thead><tbody><p>6 rows × 5 columns</p><tr><th>1</th><td>Joey</td><td>blue</td><td>42</td><td>M</td><td>jegonzal@cs.berkeley.edu</td></tr><tr><th>2</th><td>Weiwei</td><td>blue</td><td>50</td><td>F</td><td>weiwzhang@berkeley.edu</td></tr><tr><th>3</th><td>Weiwei</td><td>blue</td><td>50</td><td>F</td><td>weiwzhang+123@berkeley.edu</td></tr><tr><th>4</th><td>Joey</td><td>green</td><td>8</td><td>M</td><td>jegonzal@cs.berkeley.edu</td></tr><tr><th>5</th><td>Karina</td><td>green</td><td>7</td><td>F</td><td>kgoot@berkeley.edu</td></tr><tr><th>6</th><td>Sam</td><td>pink</td><td>-42</td><td>M</td><td>samlau95@berkeley.edu</td></tr></tbody></table>"
      ],
      "text/latex": [
       "\\begin{tabular}{r|ccccc}\n",
       "\t& Name & Color & Number & Sex & Email\\\\\n",
       "\t\\hline\n",
       "\t& String & String & Int64 & String & String\\\\\n",
       "\t\\hline\n",
       "\t1 & Joey & blue & 42 & M & jegonzal@cs.berkeley.edu \\\\\n",
       "\t2 & Weiwei & blue & 50 & F & weiwzhang@berkeley.edu \\\\\n",
       "\t3 & Weiwei & blue & 50 & F & weiwzhang+123@berkeley.edu \\\\\n",
       "\t4 & Joey & green & 8 & M & jegonzal@cs.berkeley.edu \\\\\n",
       "\t5 & Karina & green & 7 & F & kgoot@berkeley.edu \\\\\n",
       "\t6 & Sam & pink & -42 & M & samlau95@berkeley.edu \\\\\n",
       "\\end{tabular}\n"
      ],
      "text/plain": [
       "6×5 DataFrame\n"
      ]
     },
     "execution_count": 19,
     "metadata": {},
     "output_type": "execute_result"
    }
   ],
   "source": [
    "# Nhi, Deb, and John don't appear\n",
    "join(people, email, on = :Name => :User_Name, kind = :inner)"
   ]
  },
  {
   "cell_type": "markdown",
   "metadata": {},
   "source": [
    "There are four basic joins that we use most often: inner, full (sometimes called \"outer\"), left, and right joins. Below is a diagram to show the difference between these types of joins.\n",
    "\n",
    "![joins](https://github.com/DS-100/textbook/raw/master/assets/joins.png)\n",
    "\n",
    "Use the dropdown menu below to show the result of the four different types of joins on the `people` and `email` tables. Notice which rows contain NaN values for outer, left, and right joins."
   ]
  },
  {
   "cell_type": "markdown",
   "metadata": {},
   "source": [
    "--NEED TO DO WIDGET--"
   ]
  },
  {
   "cell_type": "markdown",
   "metadata": {},
   "source": [
    "## Structure Checklist\n",
    "\n",
    "You should have answers to the following questions after looking at the structure of your datasets. We will answer them for the Calls and Stops datasets.\n",
    "\n",
    "**Are the data in a standard format or encoding?**\n",
    "\n",
    "Standard formats include:\n",
    "\n",
    "- Tabular data: CSV, TSV, Excel, SQL\n",
    "- Nested data: JSON, XML\n",
    "\n",
    "The Calls dataset came in the CSV format while the Stops dataset came in the JSON format.\n",
    "\n",
    "**Are the data organized in records (e.g. rows)? If not, can we define records by parsing the data?**\n",
    "\n",
    "The Calls dataset came in rows; we extracted records from the Stops dataset.\n",
    "\n",
    "**Are the data nested? If so, can we reasonably unnest the data?**\n",
    "\n",
    "The Calls dataset wasn't nested; we didn't have to work too hard to unnest data from the Stops dataset.\n",
    "\n",
    "**Do the data reference other data? If so, can we join the data?**\n",
    "\n",
    "The Calls dataset references the day of week table. Joining those two tables gives us the day of week for each incident in the dataset. The Stops dataset had no obvious references.\n",
    "\n",
    "**What are the fields (e.g. columns) in each record? What is the type of each column?**\n",
    "\n",
    "The fields for the Calls and Stops datasets are described in the Data Cleaning sections for each dataset."
   ]
  }
 ],
 "metadata": {
  "kernelspec": {
   "display_name": "Julia 1.2.0",
   "language": "julia",
   "name": "julia-1.2"
  },
  "language_info": {
   "file_extension": ".jl",
   "mimetype": "application/julia",
   "name": "julia",
   "version": "1.2.0"
  }
 },
 "nbformat": 4,
 "nbformat_minor": 2
}
