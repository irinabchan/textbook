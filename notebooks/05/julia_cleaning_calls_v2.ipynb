{
 "cells": [
  {
   "cell_type": "code",
   "execution_count": 13,
   "metadata": {},
   "outputs": [],
   "source": [
    "# HIDDEN\n",
    "Base.displaysize() = (5, 80)\n",
    "using DataFrames\n",
    "using CSV"
   ]
  },
  {
   "cell_type": "markdown",
   "metadata": {},
   "source": [
    "## Investigating Berkeley Police Data\n",
    "\n",
    "We will use the Berkeley Police Department's publicly available datasets to demonstrate data cleaning techniques. We have downloaded the [Calls for Service dataset][calls] and [Stops dataset][stops].\n",
    "\n",
    "We can use the `ls` shell command with the `-lh` flags to see more details about the files:\n",
    "\n",
    "[calls]: https://data.cityofberkeley.info/Public-Safety/Berkeley-PD-Calls-for-Service/k2nh-s5h5\n",
    "[stops]: https://data.cityofberkeley.info/Public-Safety/Berkeley-PD-Stop-Data/6e9j-pj9p"
   ]
  },
  {
   "cell_type": "code",
   "execution_count": 2,
   "metadata": {},
   "outputs": [
    {
     "name": "stdout",
     "output_type": "stream",
     "text": [
      "total 13936\n",
      "-rw-r--r--  1 irinabchan  staff   979K Sep 14 12:53 Berkeley_PD_-_Calls_for_Service.csv\n",
      "-rw-r--r--  1 irinabchan  staff    81B Sep 14 12:53 cvdow.csv\n",
      "-rw-r--r--  1 irinabchan  staff   5.8M Sep 14 12:53 stops.json\n"
     ]
    }
   ],
   "source": [
    ";ls -lh data/"
   ]
  },
  {
   "cell_type": "markdown",
   "metadata": {},
   "source": [
    "The command above shows the data files and their file sizes. This is especially useful because we now know the files are small enough to load into memory. As a rule of thumb, it is usually safe to load a file into memory that is around one fourth of the total memory capacity of the computer. For example, if a computer has 4GB of RAM we should be able to load a 1GB CSV file in `DataFrames`. To handle larger datasets we will need additional computational tools that we will cover later in this book.\n",
    "\n",
    "Notice the use of the semicolon before `ls` to activate Julia's Shell mode. This tells Jupyter that the next line of code is a shell command, not a Julia expression. Another option is to use the `run()` function that also allows us to run shell commands:"
   ]
  },
  {
   "cell_type": "code",
   "execution_count": 1,
   "metadata": {},
   "outputs": [
    {
     "name": "stdout",
     "output_type": "stream",
     "text": [
      "   29852 data/stops.json\n"
     ]
    }
   ],
   "source": [
    "# The `wc` shell command shows us how many lines each file has.\n",
    "# For example, we can inspect the number of lines of the `stops.json` file\n",
    "run(`wc -l data/stops.json`);"
   ]
  },
  {
   "cell_type": "markdown",
   "metadata": {},
   "source": [
    "### Understanding the Data Generation\n",
    "\n",
    "We will state important questions you should ask of all datasets before data cleaning or processing. These questions are related to how the data were generated, so data cleaning will usually **not** be able to resolve issues that arise here.\n",
    "\n",
    "**What do the data contain?** The website for the Calls for Service data states that the dataset describes \"crime incidents (not criminal reports) within the last 180 days\". Further reading reveals that \"not all calls for police service are included (e.g. Animal Bite)\".\n",
    "\n",
    "The website for the Stops data states that the dataset contains data on all \"vehicle detentions (including bicycles) and pedestrian detentions (up to five persons)\" since January 26, 2015.\n",
    "\n",
    "**Are the data a census?** This depends on our population of interest. For example, if we are interested in calls for service within the last 180 days for crime incidents then the Calls dataset is a census. However, if we are interested in calls for service within the last 10 years the dataset is clearly not a census. We can make similar statements about the Stops dataset since the data collection started on January 26, 2015.\n",
    "\n",
    "**If the data form a sample, is it a probability sample?** If we are investigating a period of time that the data do not have entries for, the data do not form a probability sample since there is no randomness involved in the data collection process — we have all data for certain time periods but no data for others.\n",
    "\n",
    "**What limitations will this data have on our conclusions?** Although we will ask this question at each step of our data processing, we can already see that our data impose important limitations. The most important limitation is that we cannot make unbiased estimations for time periods not covered by our datasets."
   ]
  },
  {
   "cell_type": "markdown",
   "metadata": {},
   "source": [
    "## Cleaning The Calls Dataset\n",
    "\n",
    "Let's now clean the Calls dataset. The `head` shell command prints the first five lines of the file."
   ]
  },
  {
   "cell_type": "code",
   "execution_count": 14,
   "metadata": {},
   "outputs": [
    {
     "name": "stdout",
     "output_type": "stream",
     "text": [
      "CASENO,OFFENSE,EVENTDT,EVENTTM,CVLEGEND,CVDOW,InDbDate,Block_Location,BLKADDR,City,State\n",
      "17091420,BURGLARY AUTO,07/23/2017 12:00:00 AM,06:00,BURGLARY - VEHICLE,0,08/29/2017 08:28:05 AM,\"2500 LE CONTE AVE\n",
      "Berkeley, CA\n",
      "(37.876965, -122.260544)\",2500 LE CONTE AVE,Berkeley,CA\n",
      "17020462,THEFT FROM PERSON,04/13/2017 12:00:00 AM,08:45,LARCENY,4,08/29/2017 08:28:00 AM,\"2200 SHATTUCK AVE\n",
      "Berkeley, CA\n",
      "(37.869363, -122.268028)\",2200 SHATTUCK AVE,Berkeley,CA\n",
      "17050275,BURGLARY AUTO,08/24/2017 12:00:00 AM,18:30,BURGLARY - VEHICLE,4,08/29/2017 08:28:06 AM,\"200 UNIVERSITY AVE\n",
      "Berkeley, CA\n",
      "(37.865491, -122.310065)\",200 UNIVERSITY AVE,Berkeley,CA\n"
     ]
    }
   ],
   "source": [
    ";head data/Berkeley_PD_-_Calls_for_Service.csv"
   ]
  },
  {
   "cell_type": "markdown",
   "metadata": {},
   "source": [
    "It appears to be a comma-separated values (CSV) file, though it's hard to tell whether the entire file is formatted properly. We can use `CSV.read` to read in the file as a DataFrame. If `CSV.read` errors, we will have to dig deeper and manually resolve formatting issues. Fortunately, `CSV.read` successfully returns a DataFrame:"
   ]
  },
  {
   "cell_type": "code",
   "execution_count": 3,
   "metadata": {},
   "outputs": [
    {
     "data": {
      "text/html": [
       "<table class=\"data-frame\"><thead><tr><th></th><th>CASENO</th><th>OFFENSE</th><th>EVENTDT</th><th>EVENTTM</th><th>CVLEGEND</th></tr><tr><th></th><th>Int64</th><th>String</th><th>String</th><th>Dates…</th><th>String</th></tr></thead><tbody><p>5,508 rows × 11 columns (omitted printing of 6 columns)</p><tr><th>1</th><td>17091420</td><td>BURGLARY AUTO</td><td>07/23/2017 12:00:00 AM</td><td>06:00:00</td><td>BURGLARY - VEHICLE</td></tr><tr><th>2</th><td>17020462</td><td>THEFT FROM PERSON</td><td>04/13/2017 12:00:00 AM</td><td>08:45:00</td><td>LARCENY</td></tr><tr><th>3</th><td>17050275</td><td>BURGLARY AUTO</td><td>08/24/2017 12:00:00 AM</td><td>18:30:00</td><td>BURGLARY - VEHICLE</td></tr><tr><th>4</th><td>17019145</td><td>GUN/WEAPON</td><td>04/06/2017 12:00:00 AM</td><td>17:30:00</td><td>WEAPONS OFFENSE</td></tr><tr><th>5</th><td>17044993</td><td>VEHICLE STOLEN</td><td>08/01/2017 12:00:00 AM</td><td>18:00:00</td><td>MOTOR VEHICLE THEFT</td></tr><tr><th>&vellip;</th><td>&vellip;</td><td>&vellip;</td><td>&vellip;</td><td>&vellip;</td><td>&vellip;</td></tr></tbody></table>"
      ],
      "text/latex": [
       "\\begin{tabular}{r|cccccc}\n",
       "\t& CASENO & OFFENSE & EVENTDT & EVENTTM & CVLEGEND & \\\\\n",
       "\t\\hline\n",
       "\t& Int64 & String & String & Dates… & String & \\\\\n",
       "\t\\hline\n",
       "\t1 & 17091420 & BURGLARY AUTO & 07/23/2017 12:00:00 AM & 06:00:00 & BURGLARY - VEHICLE & $\\dots$ \\\\\n",
       "\t2 & 17020462 & THEFT FROM PERSON & 04/13/2017 12:00:00 AM & 08:45:00 & LARCENY & $\\dots$ \\\\\n",
       "\t3 & 17050275 & BURGLARY AUTO & 08/24/2017 12:00:00 AM & 18:30:00 & BURGLARY - VEHICLE & $\\dots$ \\\\\n",
       "\t4 & 17019145 & GUN/WEAPON & 04/06/2017 12:00:00 AM & 17:30:00 & WEAPONS OFFENSE & $\\dots$ \\\\\n",
       "\t5 & 17044993 & VEHICLE STOLEN & 08/01/2017 12:00:00 AM & 18:00:00 & MOTOR VEHICLE THEFT & $\\dots$ \\\\\n",
       "\t$\\dots$ & $\\dots$ & $\\dots$ & $\\dots$ & $\\dots$ & $\\dots$ &  \\\\\n",
       "\\end{tabular}\n"
      ],
      "text/plain": [
       "5508×11 DataFrame\n"
      ]
     },
     "execution_count": 3,
     "metadata": {},
     "output_type": "execute_result"
    }
   ],
   "source": [
    "calls = CSV.read(\"data/Berkeley_PD_-_Calls_for_Service.csv\")"
   ]
  },
  {
   "cell_type": "markdown",
   "metadata": {},
   "source": [
    "Based on the output above, the resulting DataFrame looks reasonably well-formed since the columns are properly named and the data in each column seems to be entered consistently. What data does each column contain? We can look at the dataset website:\n",
    "\n",
    "| Column         | Description                            | Type        |\n",
    "| ------         | -----------                            | ----        |\n",
    "| CASENO         | Case Number                            | Number      |\n",
    "| OFFENSE        | Offense Type                           | Plain Text  |\n",
    "| EVENTDT        | Date Event Occurred                    | Date & Time |\n",
    "| EVENTTM        | Time Event Occurred                    | Plain Text  |\n",
    "| CVLEGEND       | Description of Event                   | Plain Text  |\n",
    "| CVDOW          | Day of Week Event Occurred             | Number      |\n",
    "| InDbDate       | Date dataset was updated in the portal | Date & Time |\n",
    "| Block_Location | Block level address of event           | Location    |\n",
    "| BLKADDR        |                                        | Plain Text  |\n",
    "| City           |                                        | Plain Text  |\n",
    "| State          |                                        | Plain Text  |"
   ]
  },
  {
   "cell_type": "markdown",
   "metadata": {},
   "source": [
    "On the surface the data looks easy to work with. However, before starting data analysis we must answer the following questions:\n",
    "\n",
    "1. **Are there missing values in the dataset?** This question is important because missing values can represent many different things. For example, missing addresses could mean that locations were removed to protect anonymity, or that some respondents chose not to answer a survey question, or that a recording device broke.\n",
    "1. **Are there any missing values that were filled in (e.g. a 999 for unknown age or 12:00am for unknown date)?** These will clearly impact analysis if we ignore them.\n",
    "1. **Which parts of the data were entered by a human?** As we will soon see, human-entered data is filled with inconsistencies and mispellings.\n",
    "\n",
    "Although there are plenty more checks to go through, these three will suffice for many cases. See the [Quartz bad data guide](https://github.com/Quartz/bad-data-guide) for a more complete list of checks."
   ]
  },
  {
   "cell_type": "markdown",
   "metadata": {},
   "source": [
    "### Are there missing values?\n",
    "\n",
    "In Julia, missing values are represented via the `missing` object (equivalent to `NULL` in SQL and `NA` in R). `missing` values propagate automatically when passed to standard operators and functions, which means that an operation involving a `missing` value generally returns `missing`. This makes it really important to inspect your data so you can deal with `missing` values accordingly. See the [documentation](https://docs.julialang.org/en/v1/manual/missing/) for more information.\n",
    "\n",
    "Using `describe()` to inspect a DataFrame will display the number of `missing` objects present in each column, as well as other useful information:"
   ]
  },
  {
   "cell_type": "code",
   "execution_count": 25,
   "metadata": {},
   "outputs": [],
   "source": [
    "# HIDDEN\n",
    "Base.displaysize() = (11, 140)"
   ]
  },
  {
   "cell_type": "code",
   "execution_count": 20,
   "metadata": {},
   "outputs": [
    {
     "data": {
      "text/html": [
       "<table class=\"data-frame\"><thead><tr><th></th><th>variable</th><th>mean</th><th>min</th><th>median</th><th>max</th><th>nunique</th><th>nmissing</th></tr><tr><th></th><th>Symbol</th><th>Union…</th><th>Any</th><th>Union…</th><th>Any</th><th>Union…</th><th>Union…</th></tr></thead><tbody><p>11 rows × 8 columns (omitted printing of 1 columns)</p><tr><th>1</th><td>CASENO</td><td>1.70437e7</td><td>17000233</td><td>1.70365e7</td><td>17091670</td><td></td><td></td></tr><tr><th>2</th><td>OFFENSE</td><td></td><td>2ND RESPONSE</td><td></td><td>VICE</td><td>31</td><td></td></tr><tr><th>3</th><td>EVENTDT</td><td></td><td>03/02/2017 12:00:00 AM</td><td></td><td>08/28/2017 12:00:00 AM</td><td>180</td><td></td></tr><tr><th>4</th><td>EVENTTM</td><td></td><td>00:00</td><td></td><td>23:59</td><td>1033</td><td></td></tr><tr><th>5</th><td>CVLEGEND</td><td></td><td>ALL OTHER OFFENSES</td><td></td><td>WEAPONS OFFENSE</td><td>23</td><td></td></tr><tr><th>6</th><td>CVDOW</td><td>3.07662</td><td>0</td><td>3.0</td><td>6</td><td></td><td></td></tr><tr><th>7</th><td>InDbDate</td><td></td><td>08/29/2017 08:27:58 AM</td><td></td><td>08/29/2017 08:28:06 AM</td><td>9</td><td></td></tr><tr><th>8</th><td>Block_Location</td><td></td><td>0\\nBerkeley, CA\\n</td><td></td><td>WOOLSEY STREET &amp;amp; ELLIS ST\\nBerkeley, CA\\n</td><td>1835</td><td></td></tr><tr><th>9</th><td>BLKADDR</td><td></td><td>0 &lt;UNKNOWN&gt;</td><td></td><td>WOOLSEY STREET &amp; ELLIS ST</td><td>1834</td><td>27</td></tr><tr><th>10</th><td>City</td><td></td><td>Berkeley</td><td></td><td>Berkeley</td><td>1</td><td></td></tr><tr><th>11</th><td>State</td><td></td><td>CA</td><td></td><td>CA</td><td>1</td><td></td></tr></tbody></table>"
      ],
      "text/latex": [
       "\\begin{tabular}{r|cccccccc}\n",
       "\t& variable & mean & min & median & max & nunique & nmissing & \\\\\n",
       "\t\\hline\n",
       "\t& Symbol & Union… & Any & Union… & Any & Union… & Union… & \\\\\n",
       "\t\\hline\n",
       "\t1 & CASENO & 1.70437e7 & 17000233 & 1.70365e7 & 17091670 &  &  & $\\dots$ \\\\\n",
       "\t2 & OFFENSE &  & 2ND RESPONSE &  & VICE & 31 &  & $\\dots$ \\\\\n",
       "\t3 & EVENTDT &  & 03/02/2017 12:00:00 AM &  & 08/28/2017 12:00:00 AM & 180 &  & $\\dots$ \\\\\n",
       "\t4 & EVENTTM &  & 00:00 &  & 23:59 & 1033 &  & $\\dots$ \\\\\n",
       "\t5 & CVLEGEND &  & ALL OTHER OFFENSES &  & WEAPONS OFFENSE & 23 &  & $\\dots$ \\\\\n",
       "\t6 & CVDOW & 3.07662 & 0 & 3.0 & 6 &  &  & $\\dots$ \\\\\n",
       "\t7 & InDbDate &  & 08/29/2017 08:27:58 AM &  & 08/29/2017 08:28:06 AM & 9 &  & $\\dots$ \\\\\n",
       "\t8 & Block\\_Location &  & 0\\textbackslash{}nBerkeley, CA\\textbackslash{}n &  & WOOLSEY STREET \\&amp; ELLIS ST\\textbackslash{}nBerkeley, CA\\textbackslash{}n & 1835 &  & $\\dots$ \\\\\n",
       "\t9 & BLKADDR &  & 0 <UNKNOWN> &  & WOOLSEY STREET \\& ELLIS ST & 1834 & 27 & $\\dots$ \\\\\n",
       "\t10 & City &  & Berkeley &  & Berkeley & 1 &  & $\\dots$ \\\\\n",
       "\t11 & State &  & CA &  & CA & 1 &  & $\\dots$ \\\\\n",
       "\\end{tabular}\n"
      ],
      "text/plain": [
       "11×8 DataFrame\n",
       "│ Row │ variable │ mean      │ min      │ median    │ max      │ nunique │ nmissing │ eltype │\n",
       "│     │ \u001b[90mSymbol\u001b[39m   │ \u001b[90mUnion…\u001b[39m    │ \u001b[90mAny\u001b[39m      │ \u001b[90mUnion…\u001b[39m    │ \u001b[90mAny\u001b[39m      │ \u001b[90mUnion…\u001b[39m  │ \u001b[90mUnion…\u001b[39m   │ \u001b[90mType\u001b[39m   │\n",
       "├─────┼──────────┼───────────┼──────────┼───────────┼──────────┼─────────┼──────────┼────────┤\n",
       "│ 1   │ CASENO   │ 1.70437e7 │ 17000233 │ 1.70365e7 │ 17091670 │         │          │ Int64  │\n",
       "⋮\n",
       "│ 10  │ City     │           │ Berkeley │           │ Berkeley │ 1       │          │ String │\n",
       "│ 11  │ State    │           │ CA       │           │ CA       │ 1       │          │ String │"
      ]
     },
     "execution_count": 20,
     "metadata": {},
     "output_type": "execute_result"
    }
   ],
   "source": [
    "describe(calls)"
   ]
  },
  {
   "cell_type": "markdown",
   "metadata": {},
   "source": [
    "It looks like 27 calls didn't have a recorded address in BLKADDR. Unfortunately, the data description isn't very clear on how the locations were recorded. We know that all of these calls were made for events in Berkeley, so we can likely assume that the addresses for these calls were originally somewhere in Berkeley."
   ]
  },
  {
   "cell_type": "markdown",
   "metadata": {},
   "source": [
    "### Are there any missing values that were filled in?\n",
    "\n",
    "From the missing value check above we can see that the Block_Location column has Berkeley, CA recorded if the location was missing.\n",
    "\n",
    "In addition, an inspection of the `calls` table shows us that the EVENTDT column has the correct dates but records 12am for all of its times. Instead, the times are in the EVENTTM column."
   ]
  },
  {
   "cell_type": "code",
   "execution_count": 22,
   "metadata": {},
   "outputs": [
    {
     "data": {
      "text/html": [
       "<table class=\"data-frame\"><thead><tr><th></th><th>CASENO</th><th>OFFENSE</th><th>EVENTDT</th><th>EVENTTM</th><th>CVLEGEND</th><th>CVDOW</th><th>InDbDate</th></tr><tr><th></th><th>Int64</th><th>String</th><th>String</th><th>String</th><th>String</th><th>Int64</th><th>String</th></tr></thead><tbody><p>7 rows × 11 columns (omitted printing of 4 columns)</p><tr><th>1</th><td>17091420</td><td>BURGLARY AUTO</td><td>07/23/2017 12:00:00 AM</td><td>06:00</td><td>BURGLARY - VEHICLE</td><td>0</td><td>08/29/2017 08:28:05 AM</td></tr><tr><th>2</th><td>17020462</td><td>THEFT FROM PERSON</td><td>04/13/2017 12:00:00 AM</td><td>08:45</td><td>LARCENY</td><td>4</td><td>08/29/2017 08:28:00 AM</td></tr><tr><th>3</th><td>17050275</td><td>BURGLARY AUTO</td><td>08/24/2017 12:00:00 AM</td><td>18:30</td><td>BURGLARY - VEHICLE</td><td>4</td><td>08/29/2017 08:28:06 AM</td></tr><tr><th>4</th><td>17019145</td><td>GUN/WEAPON</td><td>04/06/2017 12:00:00 AM</td><td>17:30</td><td>WEAPONS OFFENSE</td><td>4</td><td>08/29/2017 08:27:59 AM</td></tr><tr><th>5</th><td>17044993</td><td>VEHICLE STOLEN</td><td>08/01/2017 12:00:00 AM</td><td>18:00</td><td>MOTOR VEHICLE THEFT</td><td>2</td><td>08/29/2017 08:28:05 AM</td></tr><tr><th>6</th><td>17037319</td><td>BURGLARY RESIDENTIAL</td><td>06/28/2017 12:00:00 AM</td><td>12:00</td><td>BURGLARY - RESIDENTIAL</td><td>3</td><td>08/29/2017 08:28:03 AM</td></tr><tr><th>7</th><td>17030791</td><td>BURGLARY RESIDENTIAL</td><td>05/30/2017 12:00:00 AM</td><td>08:45</td><td>BURGLARY - RESIDENTIAL</td><td>2</td><td>08/29/2017 08:28:00 AM</td></tr></tbody></table>"
      ],
      "text/latex": [
       "\\begin{tabular}{r|cccccccc}\n",
       "\t& CASENO & OFFENSE & EVENTDT & EVENTTM & CVLEGEND & CVDOW & InDbDate & \\\\\n",
       "\t\\hline\n",
       "\t& Int64 & String & String & String & String & Int64 & String & \\\\\n",
       "\t\\hline\n",
       "\t1 & 17091420 & BURGLARY AUTO & 07/23/2017 12:00:00 AM & 06:00 & BURGLARY - VEHICLE & 0 & 08/29/2017 08:28:05 AM & $\\dots$ \\\\\n",
       "\t2 & 17020462 & THEFT FROM PERSON & 04/13/2017 12:00:00 AM & 08:45 & LARCENY & 4 & 08/29/2017 08:28:00 AM & $\\dots$ \\\\\n",
       "\t3 & 17050275 & BURGLARY AUTO & 08/24/2017 12:00:00 AM & 18:30 & BURGLARY - VEHICLE & 4 & 08/29/2017 08:28:06 AM & $\\dots$ \\\\\n",
       "\t4 & 17019145 & GUN/WEAPON & 04/06/2017 12:00:00 AM & 17:30 & WEAPONS OFFENSE & 4 & 08/29/2017 08:27:59 AM & $\\dots$ \\\\\n",
       "\t5 & 17044993 & VEHICLE STOLEN & 08/01/2017 12:00:00 AM & 18:00 & MOTOR VEHICLE THEFT & 2 & 08/29/2017 08:28:05 AM & $\\dots$ \\\\\n",
       "\t6 & 17037319 & BURGLARY RESIDENTIAL & 06/28/2017 12:00:00 AM & 12:00 & BURGLARY - RESIDENTIAL & 3 & 08/29/2017 08:28:03 AM & $\\dots$ \\\\\n",
       "\t7 & 17030791 & BURGLARY RESIDENTIAL & 05/30/2017 12:00:00 AM & 08:45 & BURGLARY - RESIDENTIAL & 2 & 08/29/2017 08:28:00 AM & $\\dots$ \\\\\n",
       "\\end{tabular}\n"
      ],
      "text/plain": [
       "7×11 DataFrame. Omitted printing of 5 columns\n",
       "│ Row │ CASENO   │ OFFENSE              │ EVENTDT                │ EVENTTM │ CVLEGEND               │ CVDOW │\n",
       "│     │ \u001b[90mInt64\u001b[39m    │ \u001b[90mString\u001b[39m               │ \u001b[90mString\u001b[39m                 │ \u001b[90mString\u001b[39m  │ \u001b[90mString\u001b[39m                 │ \u001b[90mInt64\u001b[39m │\n",
       "├─────┼──────────┼──────────────────────┼────────────────────────┼─────────┼────────────────────────┼───────┤\n",
       "│ 1   │ 17091420 │ BURGLARY AUTO        │ 07/23/2017 12:00:00 AM │ 06:00   │ BURGLARY - VEHICLE     │ 0     │\n",
       "⋮\n",
       "│ 6   │ 17037319 │ BURGLARY RESIDENTIAL │ 06/28/2017 12:00:00 AM │ 12:00   │ BURGLARY - RESIDENTIAL │ 3     │\n",
       "│ 7   │ 17030791 │ BURGLARY RESIDENTIAL │ 05/30/2017 12:00:00 AM │ 08:45   │ BURGLARY - RESIDENTIAL │ 2     │"
      ]
     },
     "execution_count": 22,
     "metadata": {},
     "output_type": "execute_result"
    }
   ],
   "source": [
    "# Show the first 7 rows of the table again for reference\n",
    "first(calls, 7)"
   ]
  },
  {
   "cell_type": "markdown",
   "metadata": {},
   "source": [
    "As a data cleaning step, we want to merge the EVENTDT and EVENTTM columns to record both date and time in one field. If we define a function that takes in a DataFrame and returns a new DataFrame, we can later use the pipe operator `|>` to apply all transformations in one go. For more information on function composition and piping, check the [documentation](https://docs.julialang.org/en/v1/manual/functions/#Function-composition-and-piping-1).\n",
    "\n",
    "String concatenation in Julia is done by using the `*` operator, and to broadcast the operation to all items in an array we can combine it to the `.` operator used previously:"
   ]
  },
  {
   "cell_type": "code",
   "execution_count": 24,
   "metadata": {},
   "outputs": [
    {
     "data": {
      "text/html": [
       "<table class=\"data-frame\"><thead><tr><th></th><th>CASENO</th><th>OFFENSE</th><th>EVENTDT</th><th>EVENTTM</th><th>CVLEGEND</th></tr><tr><th></th><th>Int64</th><th>String</th><th>String</th><th>String</th><th>String</th></tr></thead><tbody><p>5,508 rows × 12 columns (omitted printing of 7 columns)</p><tr><th>1</th><td>17091420</td><td>BURGLARY AUTO</td><td>07/23/2017 12:00:00 AM</td><td>06:00:00</td><td>BURGLARY - VEHICLE</td></tr><tr><th>2</th><td>17020462</td><td>THEFT FROM PERSON</td><td>04/13/2017 12:00:00 AM</td><td>08:45:00</td><td>LARCENY</td></tr><tr><th>3</th><td>17050275</td><td>BURGLARY AUTO</td><td>08/24/2017 12:00:00 AM</td><td>18:30:00</td><td>BURGLARY - VEHICLE</td></tr><tr><th>4</th><td>17019145</td><td>GUN/WEAPON</td><td>04/06/2017 12:00:00 AM</td><td>17:30:00</td><td>WEAPONS OFFENSE</td></tr><tr><th>5</th><td>17044993</td><td>VEHICLE STOLEN</td><td>08/01/2017 12:00:00 AM</td><td>18:00:00</td><td>MOTOR VEHICLE THEFT</td></tr><tr><th>&vellip;</th><td>&vellip;</td><td>&vellip;</td><td>&vellip;</td><td>&vellip;</td><td>&vellip;</td></tr></tbody></table>"
      ],
      "text/latex": [
       "\\begin{tabular}{r|cccccc}\n",
       "\t& CASENO & OFFENSE & EVENTDT & EVENTTM & CVLEGEND & \\\\\n",
       "\t\\hline\n",
       "\t& Int64 & String & String & String & String & \\\\\n",
       "\t\\hline\n",
       "\t1 & 17091420 & BURGLARY AUTO & 07/23/2017 12:00:00 AM & 06:00:00 & BURGLARY - VEHICLE & $\\dots$ \\\\\n",
       "\t2 & 17020462 & THEFT FROM PERSON & 04/13/2017 12:00:00 AM & 08:45:00 & LARCENY & $\\dots$ \\\\\n",
       "\t3 & 17050275 & BURGLARY AUTO & 08/24/2017 12:00:00 AM & 18:30:00 & BURGLARY - VEHICLE & $\\dots$ \\\\\n",
       "\t4 & 17019145 & GUN/WEAPON & 04/06/2017 12:00:00 AM & 17:30:00 & WEAPONS OFFENSE & $\\dots$ \\\\\n",
       "\t5 & 17044993 & VEHICLE STOLEN & 08/01/2017 12:00:00 AM & 18:00:00 & MOTOR VEHICLE THEFT & $\\dots$ \\\\\n",
       "\t$\\dots$ & $\\dots$ & $\\dots$ & $\\dots$ & $\\dots$ & $\\dots$ &  \\\\\n",
       "\\end{tabular}\n"
      ],
      "text/plain": [
       "5508×12 DataFrame\n"
      ]
     },
     "execution_count": 24,
     "metadata": {},
     "output_type": "execute_result"
    }
   ],
   "source": [
    "function combine_event_datetimes(calls)\n",
    "    calls.EVENTTM = string.(calls.EVENTTM)\n",
    "    calls[!, :EVENTDTTM] = calls.EVENTDT .* \" \" .* calls.EVENTTM\n",
    "    return calls\n",
    "end\n",
    "combine_event_datetimes(calls)"
   ]
  },
  {
   "cell_type": "markdown",
   "metadata": {},
   "source": [
    "### Which parts of the data were entered by a human?\n",
    "\n",
    "It looks like most of the data columns are machine-recorded, including the date, time, day of week, and location of the event.\n",
    "\n",
    "In addition, the OFFENSE and CVLEGEND columns appear to contain consistent values. We can check the unique values in each column to see if anything was misspelled:"
   ]
  },
  {
   "cell_type": "code",
   "execution_count": 30,
   "metadata": {},
   "outputs": [
    {
     "name": "stdout",
     "output_type": "stream",
     "text": [
      "[\"BURGLARY AUTO\", \"THEFT FROM PERSON\", \"GUN/WEAPON\", \"VEHICLE STOLEN\", \"BURGLARY RESIDENTIAL\", \"VANDALISM\", \"DISTURBANCE\", \"THEFT MISD. (UNDER \\$950)\", \"THEFT FROM AUTO\", \"DOMESTIC VIOLENCE\", \"THEFT FELONY (OVER \\$950)\", \"ALCOHOL OFFENSE\", \"MISSING JUVENILE\", \"ROBBERY\", \"IDENTITY THEFT\", \"ASSAULT/BATTERY MISD.\", \"2ND RESPONSE\", \"BRANDISHING\", \"MISSING ADULT\", \"NARCOTICS\", \"FRAUD/FORGERY\", \"ASSAULT/BATTERY FEL.\", \"BURGLARY COMMERCIAL\", \"MUNICIPAL CODE\", \"ARSON\", \"SEXUAL ASSAULT FEL.\", \"VEHICLE RECOVERED\", \"SEXUAL ASSAULT MISD.\", \"KIDNAPPING\", \"VICE\", \"HOMICIDE\"]"
     ]
    }
   ],
   "source": [
    "print(unique(calls.OFFENSE))"
   ]
  },
  {
   "cell_type": "code",
   "execution_count": 31,
   "metadata": {},
   "outputs": [
    {
     "name": "stdout",
     "output_type": "stream",
     "text": [
      "[\"BURGLARY - VEHICLE\", \"LARCENY\", \"WEAPONS OFFENSE\", \"MOTOR VEHICLE THEFT\", \"BURGLARY - RESIDENTIAL\", \"VANDALISM\", \"DISORDERLY CONDUCT\", \"LARCENY - FROM VEHICLE\", \"FAMILY OFFENSE\", \"LIQUOR LAW VIOLATION\", \"MISSING PERSON\", \"ROBBERY\", \"FRAUD\", \"ASSAULT\", \"NOISE VIOLATION\", \"DRUG VIOLATION\", \"BURGLARY - COMMERCIAL\", \"ALL OTHER OFFENSES\", \"ARSON\", \"SEX CRIME\", \"RECOVERED VEHICLE\", \"KIDNAPPING\", \"HOMICIDE\"]"
     ]
    }
   ],
   "source": [
    "print(unique(calls.CVLEGEND))"
   ]
  },
  {
   "cell_type": "markdown",
   "metadata": {},
   "source": [
    "Since each value in these columns appears to be spelled correctly, we won't have to perform any corrections on these columns.\n",
    "\n",
    "We also check the BLKADDR column for inconsistencies and find that sometimes an address is recorded (e.g. 2500 LE CONTE AVE) but other times a cross street is recorded (e.g. ALLSTON WAY & FIFTH ST). This suggests that a human entered this data in and this column will be difficult to use for analysis. Fortunately we can use the latitude and longitude of the event instead of the street address."
   ]
  },
  {
   "cell_type": "code",
   "execution_count": 32,
   "metadata": {},
   "outputs": [
    {
     "data": {
      "text/plain": [
       "2-element Array{Union{Missing, String},1}:\n",
       " \"2500 LE CONTE AVE\"     \n",
       " \"ALLSTON WAY & FIFTH ST\""
      ]
     },
     "execution_count": 32,
     "metadata": {},
     "output_type": "execute_result"
    }
   ],
   "source": [
    "calls[[1, 5002], :BLKADDR]"
   ]
  },
  {
   "cell_type": "markdown",
   "metadata": {},
   "source": [
    "### Final Touchups\n",
    "\n",
    "This dataset seems almost ready for analysis. The Block_Location column seems to contain strings that record address, latitude, and longitude. We will want to separate the latitude and longitude for easier use."
   ]
  },
  {
   "cell_type": "code",
   "execution_count": 25,
   "metadata": {},
   "outputs": [
    {
     "data": {
      "text/plain": [
       "split_lat_lon (generic function with 1 method)"
      ]
     },
     "execution_count": 25,
     "metadata": {},
     "output_type": "execute_result"
    }
   ],
   "source": [
    "function split_lat_lon(calls)\n",
    "    coordinates = map(x -> last(split(x, ['\\n', '(', ')'], keepempty=false)), calls.Block_Location)\n",
    "    df = DataFrame([(Latitude=x, Longitude=y) for (x,y) in split.(coordinates, \",\")])\n",
    "    return hcat(calls, df)\n",
    "end"
   ]
  },
  {
   "cell_type": "markdown",
   "metadata": {},
   "source": [
    "Then, we can match the day of week number with its weekday:"
   ]
  },
  {
   "cell_type": "code",
   "execution_count": 26,
   "metadata": {},
   "outputs": [
    {
     "data": {
      "text/html": [
       "<table class=\"data-frame\"><thead><tr><th></th><th>CVDOW</th><th>Day</th></tr><tr><th></th><th>Int64</th><th>String</th></tr></thead><tbody><p>7 rows × 2 columns</p><tr><th>1</th><td>0</td><td>Sunday</td></tr><tr><th>2</th><td>1</td><td>Monday</td></tr><tr><th>3</th><td>2</td><td>Tuesday</td></tr><tr><th>4</th><td>3</td><td>Wednesday</td></tr><tr><th>5</th><td>4</td><td>Thursday</td></tr><tr><th>&vellip;</th><td>&vellip;</td><td>&vellip;</td></tr></tbody></table>"
      ],
      "text/latex": [
       "\\begin{tabular}{r|cc}\n",
       "\t& CVDOW & Day\\\\\n",
       "\t\\hline\n",
       "\t& Int64 & String\\\\\n",
       "\t\\hline\n",
       "\t1 & 0 & Sunday \\\\\n",
       "\t2 & 1 & Monday \\\\\n",
       "\t3 & 2 & Tuesday \\\\\n",
       "\t4 & 3 & Wednesday \\\\\n",
       "\t5 & 4 & Thursday \\\\\n",
       "\t$\\dots$ & $\\dots$ & $\\dots$ \\\\\n",
       "\\end{tabular}\n"
      ],
      "text/plain": [
       "7×2 DataFrame\n"
      ]
     },
     "execution_count": 26,
     "metadata": {},
     "output_type": "execute_result"
    }
   ],
   "source": [
    "# This DF contains the day for each number in CVDOW\n",
    "day_of_week = CSV.read(\"data/cvdow.csv\")"
   ]
  },
  {
   "cell_type": "code",
   "execution_count": 27,
   "metadata": {},
   "outputs": [
    {
     "data": {
      "text/plain": [
       "match_weekday (generic function with 1 method)"
      ]
     },
     "execution_count": 27,
     "metadata": {},
     "output_type": "execute_result"
    }
   ],
   "source": [
    "function match_weekday(calls)\n",
    "    return join(day_of_week, calls, on = :CVDOW)\n",
    "end"
   ]
  },
  {
   "cell_type": "markdown",
   "metadata": {},
   "source": [
    "We'll drop columns we no longer need:"
   ]
  },
  {
   "cell_type": "code",
   "execution_count": 28,
   "metadata": {},
   "outputs": [
    {
     "data": {
      "text/plain": [
       "drop_uneeded_cols (generic function with 1 method)"
      ]
     },
     "execution_count": 28,
     "metadata": {},
     "output_type": "execute_result"
    }
   ],
   "source": [
    "function drop_uneeded_cols(calls)\n",
    "    return select!(calls, Not([:CVDOW, :InDbDate, :Block_Location, :City,\n",
    "                               :State, :EVENTDT, :EVENTTM]))\n",
    "end"
   ]
  },
  {
   "cell_type": "markdown",
   "metadata": {},
   "source": [
    "Finally, we'll pipe the `calls` DataFrame through all the functions we've defined by using the `|>` operator:"
   ]
  },
  {
   "cell_type": "code",
   "execution_count": 49,
   "metadata": {},
   "outputs": [
    {
     "data": {
      "text/html": [
       "<table class=\"data-frame\"><thead><tr><th></th><th>Day</th><th>CASENO</th><th>OFFENSE</th><th>CVLEGEND</th><th>BLKADDR</th></tr><tr><th></th><th>String</th><th>Int64</th><th>String</th><th>String</th><th>String⍰</th></tr></thead><tbody><p>5,508 rows × 8 columns (omitted printing of 3 columns)</p><tr><th>1</th><td>Sunday</td><td>17091420</td><td>BURGLARY AUTO</td><td>BURGLARY - VEHICLE</td><td>2500 LE CONTE AVE</td></tr><tr><th>2</th><td>Sunday</td><td>17038302</td><td>BURGLARY AUTO</td><td>BURGLARY - VEHICLE</td><td>BOWDITCH STREET &amp; CHANNING WAY</td></tr><tr><th>3</th><td>Sunday</td><td>17049346</td><td>THEFT MISD. (UNDER $950)</td><td>LARCENY</td><td>2900 CHANNING WAY</td></tr><tr><th>4</th><td>Sunday</td><td>17091319</td><td>THEFT MISD. (UNDER $950)</td><td>LARCENY</td><td>2100 RUSSELL ST</td></tr><tr><th>5</th><td>Sunday</td><td>17044238</td><td>DISTURBANCE</td><td>DISORDERLY CONDUCT</td><td>TELEGRAPH AVENUE &amp; DURANT AVE</td></tr><tr><th>&vellip;</th><td>&vellip;</td><td>&vellip;</td><td>&vellip;</td><td>&vellip;</td><td>&vellip;</td></tr></tbody></table>"
      ],
      "text/latex": [
       "\\begin{tabular}{r|cccccc}\n",
       "\t& Day & CASENO & OFFENSE & CVLEGEND & BLKADDR & \\\\\n",
       "\t\\hline\n",
       "\t& String & Int64 & String & String & String⍰ & \\\\\n",
       "\t\\hline\n",
       "\t1 & Sunday & 17091420 & BURGLARY AUTO & BURGLARY - VEHICLE & 2500 LE CONTE AVE & $\\dots$ \\\\\n",
       "\t2 & Sunday & 17038302 & BURGLARY AUTO & BURGLARY - VEHICLE & BOWDITCH STREET \\& CHANNING WAY & $\\dots$ \\\\\n",
       "\t3 & Sunday & 17049346 & THEFT MISD. (UNDER \\$950) & LARCENY & 2900 CHANNING WAY & $\\dots$ \\\\\n",
       "\t4 & Sunday & 17091319 & THEFT MISD. (UNDER \\$950) & LARCENY & 2100 RUSSELL ST & $\\dots$ \\\\\n",
       "\t5 & Sunday & 17044238 & DISTURBANCE & DISORDERLY CONDUCT & TELEGRAPH AVENUE \\& DURANT AVE & $\\dots$ \\\\\n",
       "\t$\\dots$ & $\\dots$ & $\\dots$ & $\\dots$ & $\\dots$ & $\\dots$ &  \\\\\n",
       "\\end{tabular}\n"
      ],
      "text/plain": [
       "5508×8 DataFrame\n"
      ]
     },
     "execution_count": 49,
     "metadata": {},
     "output_type": "execute_result"
    }
   ],
   "source": [
    "calls_final = combine_event_datetimes(calls) |> split_lat_lon |> match_weekday |> drop_uneeded_cols"
   ]
  },
  {
   "cell_type": "markdown",
   "metadata": {},
   "source": [
    "The Calls dataset is now ready for further data analysis. In the next section, we will clean the Stops dataset."
   ]
  },
  {
   "cell_type": "code",
   "execution_count": 54,
   "metadata": {},
   "outputs": [],
   "source": [
    "# HIDDEN\n",
    "# Save data to CSV for other chapters\n",
    "# CSV.write(\"data/calls_julia.csv\", calls_final)"
   ]
  }
 ],
 "metadata": {
  "@webio": {
   "lastCommId": "53726b58539f47faa689c79441ee9de8",
   "lastKernelId": "bd369b90-2d05-41cf-a83a-f0282ce10300"
  },
  "kernelspec": {
   "display_name": "Julia 1.2.0",
   "language": "julia",
   "name": "julia-1.2"
  },
  "language_info": {
   "file_extension": ".jl",
   "mimetype": "application/julia",
   "name": "julia",
   "version": "1.2.0"
  }
 },
 "nbformat": 4,
 "nbformat_minor": 2
}
