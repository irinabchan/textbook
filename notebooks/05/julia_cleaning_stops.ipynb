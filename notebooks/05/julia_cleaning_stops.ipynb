{
 "cells": [
  {
   "cell_type": "code",
   "execution_count": 1,
   "metadata": {},
   "outputs": [],
   "source": [
    "# HIDDEN\n",
    "Base.displaysize() = (5, 80)\n",
    "using DataFrames\n",
    "using CSV"
   ]
  },
  {
   "cell_type": "markdown",
   "metadata": {},
   "source": [
    "## Cleaning The Stops Dataset\n",
    "\n",
    "The Stops dataset ([webpage](https://data.cityofberkeley.info/Public-Safety/Berkeley-PD-Stop-Data/6e9j-pj9p)) records police stops of pedestrians and vehicles. Let's prepare it for further analysis.\n",
    "\n",
    "We can use the `head` command to display the first few lines of the file."
   ]
  },
  {
   "cell_type": "code",
   "execution_count": 2,
   "metadata": {},
   "outputs": [
    {
     "name": "stdout",
     "output_type": "stream",
     "text": [
      "{\n",
      "  \"meta\" : {\n",
      "    \"view\" : {\n",
      "      \"id\" : \"6e9j-pj9p\",\n",
      "      \"name\" : \"Berkeley PD - Stop Data\",\n",
      "      \"attribution\" : \"Berkeley Police Department\",\n",
      "      \"averageRating\" : 0,\n",
      "      \"category\" : \"Public Safety\",\n",
      "      \"createdAt\" : 1444171604,\n",
      "      \"description\" : \"This data was extracted from the Department’s Public Safety Server and covers the data beginning January 26, 2015.  On January 26, 2015 the department began collecting data pursuant to General Order B-4 (issued December 31, 2014).  Under that order, officers were required to provide certain data after making all vehicle detentions (including bicycles) and pedestrian detentions (up to five persons).  This data set lists stops by police in the categories of traffic, suspicious vehicle, pedestrian and bicycle stops.  Incident number, date and time, location and disposition codes are also listed in this data.\\r\\n\\r\\nAddress data has been changed from a specific address, where applicable, and listed as the block where the incident occurred.  Disposition codes were entered by officers who made the stop.  These codes included the person(s) race, gender, age (range), reason for the stop, enforcement action taken, and whether or not a search was conducted.\\r\\n\\r\\nThe officers of the Berkeley Police Department are prohibited from biased based policing, which is defined as any police-initiated action that relies on the race, ethnicity, or national origin rather than the behavior of an individual or information that leads the police to a particular individual who has been identified as being engaged in criminal activity.\",\n"
     ]
    }
   ],
   "source": [
    ";head data/stops.json"
   ]
  },
  {
   "cell_type": "markdown",
   "metadata": {},
   "source": [
    "The `stops.json` file is clearly not a CSV file. In this case, the file contains data in the JSON (JavaScript Object Notation) format, a commonly used data format where data is recorded in a dictionary format. Julia's [JSON package](https://github.com/JuliaIO/JSON.jl) makes reading this file as a dictionary simple."
   ]
  },
  {
   "cell_type": "code",
   "execution_count": 4,
   "metadata": {},
   "outputs": [
    {
     "name": "stdout",
     "output_type": "stream",
     "text": [
      "[\"meta\", \"data\"]"
     ]
    }
   ],
   "source": [
    "# Note that this could cause our computer to run out of memory if the file\n",
    "# is large. In this case, we've verified that the file is small enough to\n",
    "# read in beforehand.\n",
    "\n",
    "import JSON\n",
    "json_file = open(\"data/stops.json\", \"r\")\n",
    "stops_dict = JSON.parse(json_file)\n",
    "close(json_file)\n",
    "\n",
    "print(keys(stops_dict))"
   ]
  },
  {
   "cell_type": "markdown",
   "metadata": {},
   "source": [
    "Note that `stops_dict` is a Julia dictionary, so displaying it will display the entire dataset in the notebook. This could cause the browser to crash, so we only display the keys of the dictionary above. To peek at the data without potentially crashing the browser, we can print the dictionary to a string and only output some of the first characters of the string."
   ]
  },
  {
   "cell_type": "code",
   "execution_count": 7,
   "metadata": {},
   "outputs": [
    {
     "name": "stdout",
     "output_type": "stream",
     "text": [
      "{\n",
      "  \"view\": {\n",
      "    \"publicationDate\": 1496269828,\n",
      "    \"rowsUpdatedAt\": 1496269698,\n",
      "    \"hideFromDataJson\": false,\n",
      "    \"publicationAppendEnabled\": false,\n",
      "    \"viewType\": \"tabular\",\n",
      "    \"attribution\": \"Berkeley Police Department\",\n",
      "    \"createdAt\": 1444171604,\n",
      "    \"viewCount\": 3725,\n",
      "    \"hideFromCatalog\": false,\n",
      "    \"name\": \"Berkeley PD - Stop Data\",\n",
      "    \"oid\": 26097722,\n",
      "    \"provenance\": \"official\",\n",
      "    \"totalTimesRated\": 0,\n",
      "    \"rowsUpdatedBy\": \"cd35-9pq2\",\n",
      "    \"averageRating\": 0,\n",
      "    \"viewLastMod\n"
     ]
    }
   ],
   "source": [
    "function print_dict(dictionary, num_chars=500)\n",
    "    io = IOBuffer(maxsize=num_chars)\n",
    "    JSON.print(io, dictionary, 2)\n",
    "    println(String(take!(io)))\n",
    "end\n",
    "\n",
    "print_dict(stops_dict[\"meta\"])"
   ]
  },
  {
   "cell_type": "code",
   "execution_count": 9,
   "metadata": {},
   "outputs": [
    {
     "name": "stdout",
     "output_type": "stream",
     "text": [
      "[\n",
      "  [\n",
      "    1,\n",
      "    \"29A1B912-A0A9-4431-ADC9-FB375809C32E\",\n",
      "    1,\n",
      "    1444146408,\n",
      "    \"932858\",\n",
      "    1444146408,\n",
      "    \"932858\",\n",
      "    null,\n",
      "    \"2015-00004825\",\n",
      "    \"2015-01-26T00:10:00\",\n",
      "    \"SAN PABLO AVE / MARIN AVE\",\n",
      "    \"T\",\n",
      "    \"M\",\n",
      "    null,\n",
      "    null\n",
      "  ],\n",
      "  [\n",
      "    2,\n",
      "    \"1644D161-1113-4C4F-BB2E-BF7\n"
     ]
    }
   ],
   "source": [
    "print_dict(stops_dict[\"data\"], 300)"
   ]
  },
  {
   "cell_type": "markdown",
   "metadata": {},
   "source": [
    "We can likely deduce that the `'meta'` key in the dictionary contains a description of the data and its columns and the `'data'` contains a list of data rows. We can use this information to initialize a DataFrame."
   ]
  },
  {
   "cell_type": "code",
   "execution_count": 102,
   "metadata": {},
   "outputs": [
    {
     "data": {
      "text/html": [
       "<table class=\"data-frame\"><thead><tr><th></th><th>sid</th><th>id</th><th>position</th><th>created_at</th><th>created_meta</th><th>updated_at</th><th>updated_meta</th><th>meta</th><th>Incident Number</th><th>Call Date/Time</th></tr><tr><th></th><th>Any</th><th>Any</th><th>Any</th><th>Any</th><th>Any</th><th>Any</th><th>Any</th><th>Any</th><th>Any</th><th>Any</th></tr></thead><tbody><p>29,208 rows × 15 columns (omitted printing of 5 columns)</p><tr><th>1</th><td>1</td><td>29A1B912-A0A9-4431-ADC9-FB375809C32E</td><td>1</td><td>1444146408</td><td>932858</td><td>1444146408</td><td>932858</td><td></td><td>2015-00004825</td><td>2015-01-26T00:10:00</td></tr><tr><th>2</th><td>2</td><td>1644D161-1113-4C4F-BB2E-BF780E7AE73E</td><td>2</td><td>1444146408</td><td>932858</td><td>1444146408</td><td>932858</td><td></td><td>2015-00004829</td><td>2015-01-26T00:50:00</td></tr><tr><th>3</th><td>3</td><td>5338ABAB-1C96-488D-B55F-6A47AC505872</td><td>3</td><td>1444146408</td><td>932858</td><td>1444146408</td><td>932858</td><td></td><td>2015-00004831</td><td>2015-01-26T01:03:00</td></tr><tr><th>4</th><td>4</td><td>21B6CBE4-9865-460F-97BC-6B26C6EF2FDB</td><td>4</td><td>1444146408</td><td>932858</td><td>1444146408</td><td>932858</td><td></td><td>2015-00004848</td><td>2015-01-26T07:16:00</td></tr><tr><th>5</th><td>5</td><td>0D85FA92-80E9-48C2-B409-C3270251CD12</td><td>5</td><td>1444146408</td><td>932858</td><td>1444146408</td><td>932858</td><td></td><td>2015-00004849</td><td>2015-01-26T07:43:00</td></tr><tr><th>6</th><td>6</td><td>B472A15F-6FEE-457A-872F-4B4174D5CC41</td><td>6</td><td>1444146408</td><td>932858</td><td>1444146408</td><td>932858</td><td></td><td>2015-00004865</td><td>2015-01-26T09:46:00</td></tr><tr><th>7</th><td>7</td><td>0A9C0082-94FE-4B0B-9F2B-27F21C6BFD94</td><td>7</td><td>1444146408</td><td>932858</td><td>1444146408</td><td>932858</td><td></td><td>2015-00004870</td><td>2015-01-26T10:05:00</td></tr><tr><th>8</th><td>8</td><td>679142FB-85E1-4AC1-9CA0-C6393D329111</td><td>8</td><td>1444146408</td><td>932858</td><td>1444146408</td><td>932858</td><td></td><td>2015-00004876</td><td>2015-01-26T10:21:00</td></tr><tr><th>9</th><td>9</td><td>9CA07931-B049-4127-A7D4-5A3F4A7F6A3B</td><td>9</td><td>1444146408</td><td>932858</td><td>1444146408</td><td>932858</td><td></td><td>2015-00004882</td><td>2015-01-26T10:49:00</td></tr><tr><th>10</th><td>10</td><td>F2BCCCF9-D3AE-40EE-AE8F-2B52132EC677</td><td>10</td><td>1444146408</td><td>932858</td><td>1444146408</td><td>932858</td><td></td><td>2015-00004887</td><td>2015-01-26T11:12:00</td></tr><tr><th>11</th><td>11</td><td>62351093-77AC-449E-A815-C792F95FDF5F</td><td>11</td><td>1444146408</td><td>932858</td><td>1444146408</td><td>932858</td><td></td><td>2015-00004902</td><td>2015-01-26T12:35:00</td></tr><tr><th>&vellip;</th><td>&vellip;</td><td>&vellip;</td><td>&vellip;</td><td>&vellip;</td><td>&vellip;</td><td>&vellip;</td><td>&vellip;</td><td>&vellip;</td><td>&vellip;</td><td>&vellip;</td></tr></tbody></table>"
      ],
      "text/latex": [
       "\\begin{tabular}{r|ccccccccccc}\n",
       "\t& sid & id & position & created\\_at & created\\_meta & updated\\_at & updated\\_meta & meta & Incident Number & Call Date/Time & \\\\\n",
       "\t\\hline\n",
       "\t& Any & Any & Any & Any & Any & Any & Any & Any & Any & Any & \\\\\n",
       "\t\\hline\n",
       "\t1 & 1 & 29A1B912-A0A9-4431-ADC9-FB375809C32E & 1 & 1444146408 & 932858 & 1444146408 & 932858 &  & 2015-00004825 & 2015-01-26T00:10:00 & $\\dots$ \\\\\n",
       "\t2 & 2 & 1644D161-1113-4C4F-BB2E-BF780E7AE73E & 2 & 1444146408 & 932858 & 1444146408 & 932858 &  & 2015-00004829 & 2015-01-26T00:50:00 & $\\dots$ \\\\\n",
       "\t3 & 3 & 5338ABAB-1C96-488D-B55F-6A47AC505872 & 3 & 1444146408 & 932858 & 1444146408 & 932858 &  & 2015-00004831 & 2015-01-26T01:03:00 & $\\dots$ \\\\\n",
       "\t4 & 4 & 21B6CBE4-9865-460F-97BC-6B26C6EF2FDB & 4 & 1444146408 & 932858 & 1444146408 & 932858 &  & 2015-00004848 & 2015-01-26T07:16:00 & $\\dots$ \\\\\n",
       "\t5 & 5 & 0D85FA92-80E9-48C2-B409-C3270251CD12 & 5 & 1444146408 & 932858 & 1444146408 & 932858 &  & 2015-00004849 & 2015-01-26T07:43:00 & $\\dots$ \\\\\n",
       "\t6 & 6 & B472A15F-6FEE-457A-872F-4B4174D5CC41 & 6 & 1444146408 & 932858 & 1444146408 & 932858 &  & 2015-00004865 & 2015-01-26T09:46:00 & $\\dots$ \\\\\n",
       "\t7 & 7 & 0A9C0082-94FE-4B0B-9F2B-27F21C6BFD94 & 7 & 1444146408 & 932858 & 1444146408 & 932858 &  & 2015-00004870 & 2015-01-26T10:05:00 & $\\dots$ \\\\\n",
       "\t8 & 8 & 679142FB-85E1-4AC1-9CA0-C6393D329111 & 8 & 1444146408 & 932858 & 1444146408 & 932858 &  & 2015-00004876 & 2015-01-26T10:21:00 & $\\dots$ \\\\\n",
       "\t9 & 9 & 9CA07931-B049-4127-A7D4-5A3F4A7F6A3B & 9 & 1444146408 & 932858 & 1444146408 & 932858 &  & 2015-00004882 & 2015-01-26T10:49:00 & $\\dots$ \\\\\n",
       "\t10 & 10 & F2BCCCF9-D3AE-40EE-AE8F-2B52132EC677 & 10 & 1444146408 & 932858 & 1444146408 & 932858 &  & 2015-00004887 & 2015-01-26T11:12:00 & $\\dots$ \\\\\n",
       "\t11 & 11 & 62351093-77AC-449E-A815-C792F95FDF5F & 11 & 1444146408 & 932858 & 1444146408 & 932858 &  & 2015-00004902 & 2015-01-26T12:35:00 & $\\dots$ \\\\\n",
       "\t$\\dots$ & $\\dots$ & $\\dots$ & $\\dots$ & $\\dots$ & $\\dots$ & $\\dots$ & $\\dots$ & $\\dots$ & $\\dots$ & $\\dots$ &  \\\\\n",
       "\\end{tabular}\n"
      ],
      "text/plain": [
       "29208×15 DataFrame. Omitted printing of 7 columns\n",
       "│ Row   │ sid   │ id                                   │ position │ created_at │ created_meta │ updated_at │ updated_meta │ meta │\n",
       "│       │ \u001b[90mAny\u001b[39m   │ \u001b[90mAny\u001b[39m                                  │ \u001b[90mAny\u001b[39m      │ \u001b[90mAny\u001b[39m        │ \u001b[90mAny\u001b[39m          │ \u001b[90mAny\u001b[39m        │ \u001b[90mAny\u001b[39m          │ \u001b[90mAny\u001b[39m  │\n",
       "├───────┼───────┼──────────────────────────────────────┼──────────┼────────────┼──────────────┼────────────┼──────────────┼──────┤\n",
       "│ 1     │ 1     │ 29A1B912-A0A9-4431-ADC9-FB375809C32E │ 1        │ 1444146408 │ 932858       │ 1444146408 │ 932858       │      │\n",
       "⋮\n",
       "│ 29207 │ 31080 │ 8FADF18D-7FE9-441D-8709-7BFEABDACA7A │ 31080    │ 1496269085 │ 932858       │ 1496269085 │ 932858       │      │\n",
       "│ 29208 │ 31081 │ F60BD2A4-8C47-4BE7-B1C6-4934BE9DF838 │ 31081    │ 1496269085 │ 932858       │ 1496269085 │ 932858       │      │"
      ]
     },
     "execution_count": 102,
     "metadata": {},
     "output_type": "execute_result"
    }
   ],
   "source": [
    "stops = DataFrame()\n",
    "data = reshape.(stops_dict[\"data\"], :, 15)\n",
    "columns = [Symbol(c[\"name\"]) for c in stops_dict[\"meta\"][\"view\"][\"columns\"]]\n",
    "map(x -> append!(stops, DataFrame(x, columns)), data)\n",
    "stops"
   ]
  },
  {
   "cell_type": "code",
   "execution_count": 103,
   "metadata": {},
   "outputs": [
    {
     "name": "stdout",
     "output_type": "stream",
     "text": [
      "Symbol[:sid, :id, :position, :created_at, :created_meta, :updated_at, :updated_meta, :meta, Symbol(\"Incident Number\"), Symbol(\"Call Date/Time\"), :Location, Symbol(\"Incident Type\"), :Dispositions, Symbol(\"Location - Latitude\"), Symbol(\"Location - Longitude\")]"
     ]
    }
   ],
   "source": [
    "# Prints column names\n",
    "print(names(stops))"
   ]
  },
  {
   "cell_type": "markdown",
   "metadata": {},
   "source": [
    "The website contains documentation about the following columns:\n",
    "\n",
    "| Column | Description | Type |\n",
    "| ------ | ----------- | ---- |\n",
    "| Incident Number | Number of incident created by Computer Aided Dispatch (CAD) program | Plain Text |\n",
    "| Call Date/Time  | Date and time of the incident/stop | Date & Time |\n",
    "| Location  | General location of the incident/stop | Plain Text |\n",
    "| Incident Type | This is the occurred incident type created in the CAD program. A code signifies a traffic stop (T), suspicious vehicle stop (1196), pedestrian stop (1194) and bicycle stop (1194B). | Plain Text |\n",
    "| Dispositions  | Ordered in the following sequence: 1st Character = Race, as follows: A (Asian) B (Black) H (Hispanic) O (Other) W (White) 2nd Character = Gender, as follows: F (Female) M (Male) 3rd Character = Age Range, as follows: 1 (Less than 18) 2 (18-29) 3 (30-39), 4 (Greater than 40) 4th Character = Reason, as follows: I (Investigation) T (Traffic) R (Reasonable Suspicion) K (Probation/Parole) W (Wanted) 5th Character = Enforcement, as follows: A (Arrest) C (Citation) O (Other) W (Warning) 6th Character = Car Search, as follows: S (Search) N (No Search) Additional dispositions may also appear. They are: P - Primary case report M - MDT narrative only AR - Arrest report only (no case report submitted) IN - Incident report FC - Field Card CO - Collision investigation report MH - Emergency Psychiatric Evaluation TOW - Impounded vehicle 0 or 00000 – Officer made a stop of more than five persons | Plain Text |\n",
    "| Location - Latitude | General latitude of the call. This data is only uploaded after January 2017 | Number |\n",
    "| Location - Longitude  | General longitude of the call. This data is only uploaded after January 2017. | Number |"
   ]
  },
  {
   "cell_type": "markdown",
   "metadata": {},
   "source": [
    "Notice that the website doesn't contain descriptions for the first 8 columns of the `stops` table. Since these columns appear to contain metadata that we're not interested in analyzing this time, we drop them from the table."
   ]
  },
  {
   "cell_type": "code",
   "execution_count": 108,
   "metadata": {},
   "outputs": [
    {
     "data": {
      "text/html": [
       "<table class=\"data-frame\"><thead><tr><th></th><th>Incident Number</th><th>Call Date/Time</th><th>Location</th><th>Incident Type</th><th>Dispositions</th><th>Location - Latitude</th><th>Location - Longitude</th></tr><tr><th></th><th>Any</th><th>Any</th><th>Any</th><th>Any</th><th>Any</th><th>Any</th><th>Any</th></tr></thead><tbody><p>29,208 rows × 7 columns</p><tr><th>1</th><td>2015-00004825</td><td>2015-01-26T00:10:00</td><td>SAN PABLO AVE / MARIN AVE</td><td>T</td><td>M</td><td>missing</td><td>missing</td></tr><tr><th>2</th><td>2015-00004829</td><td>2015-01-26T00:50:00</td><td>SAN PABLO AVE / CHANNING WAY</td><td>T</td><td>M</td><td>missing</td><td>missing</td></tr><tr><th>3</th><td>2015-00004831</td><td>2015-01-26T01:03:00</td><td>UNIVERSITY AVE / NINTH ST</td><td>T</td><td>M</td><td>missing</td><td>missing</td></tr><tr><th>4</th><td>2015-00004848</td><td>2015-01-26T07:16:00</td><td>2000 BLOCK BERKELEY WAY</td><td>1194</td><td>BM4ICN</td><td>missing</td><td>missing</td></tr><tr><th>5</th><td>2015-00004849</td><td>2015-01-26T07:43:00</td><td>1700 BLOCK SAN PABLO AVE</td><td>1194</td><td>BM4ICN</td><td>missing</td><td>missing</td></tr><tr><th>6</th><td>2015-00004865</td><td>2015-01-26T09:46:00</td><td>M L KING JR WAY / UNIVERSITY AVE</td><td>T</td><td>OF4TCN</td><td>missing</td><td>missing</td></tr><tr><th>7</th><td>2015-00004870</td><td>2015-01-26T10:05:00</td><td>M L KING JR WAY / UNIVERSITY AVE</td><td>T</td><td>OM4TCN</td><td>missing</td><td>missing</td></tr><tr><th>8</th><td>2015-00004876</td><td>2015-01-26T10:21:00</td><td>UNIVERSITY AVE / M L KING JR WAY</td><td>T</td><td>OF2TCN</td><td>missing</td><td>missing</td></tr><tr><th>9</th><td>2015-00004882</td><td>2015-01-26T10:49:00</td><td>HASTE ST / ELLSWORTH ST</td><td>T</td><td>OM2TCN</td><td>missing</td><td>missing</td></tr><tr><th>10</th><td>2015-00004887</td><td>2015-01-26T11:12:00</td><td>ADELINE ST / OREGON ST</td><td>T</td><td>OM2TCN</td><td>missing</td><td>missing</td></tr><tr><th>11</th><td>2015-00004902</td><td>2015-01-26T12:35:00</td><td>1900 BLOCK SAN PABLO AVE</td><td>1194</td><td>BM2RCN</td><td>missing</td><td>missing</td></tr><tr><th>&vellip;</th><td>&vellip;</td><td>&vellip;</td><td>&vellip;</td><td>&vellip;</td><td>&vellip;</td><td>&vellip;</td><td>&vellip;</td></tr></tbody></table>"
      ],
      "text/latex": [
       "\\begin{tabular}{r|ccccccc}\n",
       "\t& Incident Number & Call Date/Time & Location & Incident Type & Dispositions & Location - Latitude & Location - Longitude\\\\\n",
       "\t\\hline\n",
       "\t& Any & Any & Any & Any & Any & Any & Any\\\\\n",
       "\t\\hline\n",
       "\t1 & 2015-00004825 & 2015-01-26T00:10:00 & SAN PABLO AVE / MARIN AVE & T & M &  &  \\\\\n",
       "\t2 & 2015-00004829 & 2015-01-26T00:50:00 & SAN PABLO AVE / CHANNING WAY & T & M &  &  \\\\\n",
       "\t3 & 2015-00004831 & 2015-01-26T01:03:00 & UNIVERSITY AVE / NINTH ST & T & M &  &  \\\\\n",
       "\t4 & 2015-00004848 & 2015-01-26T07:16:00 & 2000 BLOCK BERKELEY WAY & 1194 & BM4ICN &  &  \\\\\n",
       "\t5 & 2015-00004849 & 2015-01-26T07:43:00 & 1700 BLOCK SAN PABLO AVE & 1194 & BM4ICN &  &  \\\\\n",
       "\t6 & 2015-00004865 & 2015-01-26T09:46:00 & M L KING JR WAY / UNIVERSITY AVE & T & OF4TCN &  &  \\\\\n",
       "\t7 & 2015-00004870 & 2015-01-26T10:05:00 & M L KING JR WAY / UNIVERSITY AVE & T & OM4TCN &  &  \\\\\n",
       "\t8 & 2015-00004876 & 2015-01-26T10:21:00 & UNIVERSITY AVE / M L KING JR WAY & T & OF2TCN &  &  \\\\\n",
       "\t9 & 2015-00004882 & 2015-01-26T10:49:00 & HASTE ST / ELLSWORTH ST & T & OM2TCN &  &  \\\\\n",
       "\t10 & 2015-00004887 & 2015-01-26T11:12:00 & ADELINE ST / OREGON ST & T & OM2TCN &  &  \\\\\n",
       "\t11 & 2015-00004902 & 2015-01-26T12:35:00 & 1900 BLOCK SAN PABLO AVE & 1194 & BM2RCN &  &  \\\\\n",
       "\t$\\dots$ & $\\dots$ & $\\dots$ & $\\dots$ & $\\dots$ & $\\dots$ & $\\dots$ & $\\dots$ \\\\\n",
       "\\end{tabular}\n"
      ],
      "text/plain": [
       "29208×7 DataFrame. Omitted printing of 1 columns\n",
       "│ Row   │ Incident Number │ Call Date/Time      │ Location                     │ Incident Type │ Dispositions │ Location - Latitude │\n",
       "│       │ \u001b[90mAny\u001b[39m             │ \u001b[90mAny\u001b[39m                 │ \u001b[90mAny\u001b[39m                          │ \u001b[90mAny\u001b[39m           │ \u001b[90mAny\u001b[39m          │ \u001b[90mAny\u001b[39m                 │\n",
       "├───────┼─────────────────┼─────────────────────┼──────────────────────────────┼───────────────┼──────────────┼─────────────────────┤\n",
       "│ 1     │ 2015-00004825   │ 2015-01-26T00:10:00 │ SAN PABLO AVE / MARIN AVE    │ T             │ M            │ \u001b[90mmissing\u001b[39m             │\n",
       "⋮\n",
       "│ 29207 │ 2017-00024250   │ 2017-04-30T23:19:27 │  UNIVERSITY AVE /  WEST ST   │ T             │ HM4TCS;      │ 37.8698757000001    │\n",
       "│ 29208 │ 2017-00024254   │ 2017-04-30T23:38:34 │  CHANNING WAY /  BOWDITCH ST │ 1194          │ AR;          │ 37.867207539        │"
      ]
     },
     "execution_count": 108,
     "metadata": {},
     "output_type": "execute_result"
    }
   ],
   "source": [
    "columns_to_drop = [:sid, :id, :position, :created_at, :created_meta, :updated_at, :updated_meta, :meta]\n",
    "select!(stops, Not(columns_to_drop))\n",
    "stops"
   ]
  },
  {
   "cell_type": "markdown",
   "metadata": {},
   "source": [
    "As with the Calls dataset, we will answer the following three questions about the Stops dataset:\n",
    "\n",
    "1. Are there missing values in the dataset?\n",
    "1. Are there any missing values that were filled in (e.g. a 999 for unknown age or 12:00am for unknown date)?\n",
    "1. Which parts of the data were entered by a human?"
   ]
  },
  {
   "cell_type": "markdown",
   "metadata": {},
   "source": [
    "### Are there missing values?"
   ]
  },
  {
   "cell_type": "markdown",
   "metadata": {},
   "source": [
    "We can clearly see that there are many missing latitude and longitudes. The data description states that these two columns are only filled in after Jan 2017.\n",
    "These values were read as `Nothing` type, so we will convert them to `missing` for further processing:"
   ]
  },
  {
   "cell_type": "code",
   "execution_count": 109,
   "metadata": {},
   "outputs": [
    {
     "data": {
      "text/html": [
       "<table class=\"data-frame\"><thead><tr><th></th><th>Incident Number</th><th>Call Date/Time</th><th>Location</th><th>Incident Type</th><th>Dispositions</th><th>Location - Latitude</th><th>Location - Longitude</th></tr><tr><th></th><th>Any</th><th>Any</th><th>Any</th><th>Any</th><th>Any</th><th>Any</th><th>Any</th></tr></thead><tbody><p>29,208 rows × 7 columns</p><tr><th>1</th><td>2015-00004825</td><td>2015-01-26T00:10:00</td><td>SAN PABLO AVE / MARIN AVE</td><td>T</td><td>M</td><td>missing</td><td>missing</td></tr><tr><th>2</th><td>2015-00004829</td><td>2015-01-26T00:50:00</td><td>SAN PABLO AVE / CHANNING WAY</td><td>T</td><td>M</td><td>missing</td><td>missing</td></tr><tr><th>3</th><td>2015-00004831</td><td>2015-01-26T01:03:00</td><td>UNIVERSITY AVE / NINTH ST</td><td>T</td><td>M</td><td>missing</td><td>missing</td></tr><tr><th>4</th><td>2015-00004848</td><td>2015-01-26T07:16:00</td><td>2000 BLOCK BERKELEY WAY</td><td>1194</td><td>BM4ICN</td><td>missing</td><td>missing</td></tr><tr><th>5</th><td>2015-00004849</td><td>2015-01-26T07:43:00</td><td>1700 BLOCK SAN PABLO AVE</td><td>1194</td><td>BM4ICN</td><td>missing</td><td>missing</td></tr><tr><th>6</th><td>2015-00004865</td><td>2015-01-26T09:46:00</td><td>M L KING JR WAY / UNIVERSITY AVE</td><td>T</td><td>OF4TCN</td><td>missing</td><td>missing</td></tr><tr><th>7</th><td>2015-00004870</td><td>2015-01-26T10:05:00</td><td>M L KING JR WAY / UNIVERSITY AVE</td><td>T</td><td>OM4TCN</td><td>missing</td><td>missing</td></tr><tr><th>8</th><td>2015-00004876</td><td>2015-01-26T10:21:00</td><td>UNIVERSITY AVE / M L KING JR WAY</td><td>T</td><td>OF2TCN</td><td>missing</td><td>missing</td></tr><tr><th>9</th><td>2015-00004882</td><td>2015-01-26T10:49:00</td><td>HASTE ST / ELLSWORTH ST</td><td>T</td><td>OM2TCN</td><td>missing</td><td>missing</td></tr><tr><th>10</th><td>2015-00004887</td><td>2015-01-26T11:12:00</td><td>ADELINE ST / OREGON ST</td><td>T</td><td>OM2TCN</td><td>missing</td><td>missing</td></tr><tr><th>11</th><td>2015-00004902</td><td>2015-01-26T12:35:00</td><td>1900 BLOCK SAN PABLO AVE</td><td>1194</td><td>BM2RCN</td><td>missing</td><td>missing</td></tr><tr><th>&vellip;</th><td>&vellip;</td><td>&vellip;</td><td>&vellip;</td><td>&vellip;</td><td>&vellip;</td><td>&vellip;</td><td>&vellip;</td></tr></tbody></table>"
      ],
      "text/latex": [
       "\\begin{tabular}{r|ccccccc}\n",
       "\t& Incident Number & Call Date/Time & Location & Incident Type & Dispositions & Location - Latitude & Location - Longitude\\\\\n",
       "\t\\hline\n",
       "\t& Any & Any & Any & Any & Any & Any & Any\\\\\n",
       "\t\\hline\n",
       "\t1 & 2015-00004825 & 2015-01-26T00:10:00 & SAN PABLO AVE / MARIN AVE & T & M &  &  \\\\\n",
       "\t2 & 2015-00004829 & 2015-01-26T00:50:00 & SAN PABLO AVE / CHANNING WAY & T & M &  &  \\\\\n",
       "\t3 & 2015-00004831 & 2015-01-26T01:03:00 & UNIVERSITY AVE / NINTH ST & T & M &  &  \\\\\n",
       "\t4 & 2015-00004848 & 2015-01-26T07:16:00 & 2000 BLOCK BERKELEY WAY & 1194 & BM4ICN &  &  \\\\\n",
       "\t5 & 2015-00004849 & 2015-01-26T07:43:00 & 1700 BLOCK SAN PABLO AVE & 1194 & BM4ICN &  &  \\\\\n",
       "\t6 & 2015-00004865 & 2015-01-26T09:46:00 & M L KING JR WAY / UNIVERSITY AVE & T & OF4TCN &  &  \\\\\n",
       "\t7 & 2015-00004870 & 2015-01-26T10:05:00 & M L KING JR WAY / UNIVERSITY AVE & T & OM4TCN &  &  \\\\\n",
       "\t8 & 2015-00004876 & 2015-01-26T10:21:00 & UNIVERSITY AVE / M L KING JR WAY & T & OF2TCN &  &  \\\\\n",
       "\t9 & 2015-00004882 & 2015-01-26T10:49:00 & HASTE ST / ELLSWORTH ST & T & OM2TCN &  &  \\\\\n",
       "\t10 & 2015-00004887 & 2015-01-26T11:12:00 & ADELINE ST / OREGON ST & T & OM2TCN &  &  \\\\\n",
       "\t11 & 2015-00004902 & 2015-01-26T12:35:00 & 1900 BLOCK SAN PABLO AVE & 1194 & BM2RCN &  &  \\\\\n",
       "\t$\\dots$ & $\\dots$ & $\\dots$ & $\\dots$ & $\\dots$ & $\\dots$ & $\\dots$ & $\\dots$ \\\\\n",
       "\\end{tabular}\n"
      ],
      "text/plain": [
       "29208×7 DataFrame. Omitted printing of 1 columns\n",
       "│ Row   │ Incident Number │ Call Date/Time      │ Location                     │ Incident Type │ Dispositions │ Location - Latitude │\n",
       "│       │ \u001b[90mAny\u001b[39m             │ \u001b[90mAny\u001b[39m                 │ \u001b[90mAny\u001b[39m                          │ \u001b[90mAny\u001b[39m           │ \u001b[90mAny\u001b[39m          │ \u001b[90mAny\u001b[39m                 │\n",
       "├───────┼─────────────────┼─────────────────────┼──────────────────────────────┼───────────────┼──────────────┼─────────────────────┤\n",
       "│ 1     │ 2015-00004825   │ 2015-01-26T00:10:00 │ SAN PABLO AVE / MARIN AVE    │ T             │ M            │ \u001b[90mmissing\u001b[39m             │\n",
       "⋮\n",
       "│ 29207 │ 2017-00024250   │ 2017-04-30T23:19:27 │  UNIVERSITY AVE /  WEST ST   │ T             │ HM4TCS;      │ 37.8698757000001    │\n",
       "│ 29208 │ 2017-00024254   │ 2017-04-30T23:38:34 │  CHANNING WAY /  BOWDITCH ST │ 1194          │ AR;          │ 37.867207539        │"
      ]
     },
     "execution_count": 109,
     "metadata": {},
     "output_type": "execute_result"
    }
   ],
   "source": [
    "function replace_nothing_values(df)\n",
    "    for col in names(df)\n",
    "        replace!(df[!, col], nothing=>missing)\n",
    "    end\n",
    "end\n",
    "\n",
    "replace_nothing_values(stops)\n",
    "stops"
   ]
  },
  {
   "cell_type": "markdown",
   "metadata": {},
   "source": [
    "Now we can use `describe()` to see the number of missing values in each column."
   ]
  },
  {
   "cell_type": "code",
   "execution_count": 110,
   "metadata": {},
   "outputs": [
    {
     "data": {
      "text/html": [
       "<table class=\"data-frame\"><thead><tr><th></th><th>variable</th><th>mean</th><th>min</th><th>median</th><th>max</th><th>nunique</th><th>nmissing</th><th>eltype</th></tr><tr><th></th><th>Symbol</th><th>Nothing</th><th>String</th><th>Nothing</th><th>String</th><th>Int64</th><th>Int64</th><th>DataType</th></tr></thead><tbody><p>7 rows × 8 columns</p><tr><th>1</th><td>Incident Number</td><td></td><td>2015-00004825</td><td></td><td>2017-00024254</td><td>29208</td><td>0</td><td>Any</td></tr><tr><th>2</th><td>Call Date/Time</td><td></td><td>2015-01-26T00:10:00</td><td></td><td>2017-04-30T23:38:34</td><td>28848</td><td>0</td><td>Any</td></tr><tr><th>3</th><td>Location</td><td></td><td> 10TH/ADDISON</td><td></td><td>WOOLSEY ST/HARPER ST</td><td>6393</td><td>0</td><td>Any</td></tr><tr><th>4</th><td>Incident Type</td><td></td><td>1194</td><td></td><td>T</td><td>4</td><td>0</td><td>Any</td></tr><tr><th>5</th><td>Dispositions</td><td></td><td> 000000, AR</td><td></td><td>zz do not use Assist; </td><td>2757</td><td>63</td><td>Any</td></tr><tr><th>6</th><td>Location - Latitude</td><td></td><td>37.8372150110001</td><td></td><td>37.900832366</td><td>1026</td><td>25063</td><td>Any</td></tr><tr><th>7</th><td>Location - Longitude</td><td></td><td>-122.239325453</td><td></td><td>-122.319669759703</td><td>1026</td><td>25063</td><td>Any</td></tr></tbody></table>"
      ],
      "text/latex": [
       "\\begin{tabular}{r|cccccccc}\n",
       "\t& variable & mean & min & median & max & nunique & nmissing & eltype\\\\\n",
       "\t\\hline\n",
       "\t& Symbol & Nothing & String & Nothing & String & Int64 & Int64 & DataType\\\\\n",
       "\t\\hline\n",
       "\t1 & Incident Number &  & 2015-00004825 &  & 2017-00024254 & 29208 & 0 & Any \\\\\n",
       "\t2 & Call Date/Time &  & 2015-01-26T00:10:00 &  & 2017-04-30T23:38:34 & 28848 & 0 & Any \\\\\n",
       "\t3 & Location &  &  10TH/ADDISON &  & WOOLSEY ST/HARPER ST & 6393 & 0 & Any \\\\\n",
       "\t4 & Incident Type &  & 1194 &  & T & 4 & 0 & Any \\\\\n",
       "\t5 & Dispositions &  &  000000, AR &  & zz do not use Assist;  & 2757 & 63 & Any \\\\\n",
       "\t6 & Location - Latitude &  & 37.8372150110001 &  & 37.900832366 & 1026 & 25063 & Any \\\\\n",
       "\t7 & Location - Longitude &  & -122.239325453 &  & -122.319669759703 & 1026 & 25063 & Any \\\\\n",
       "\\end{tabular}\n"
      ],
      "text/plain": [
       "7×8 DataFrame\n",
       "│ Row │ variable             │ mean    │ min              │ median  │ max               │ nunique │ nmissing │ eltype   │\n",
       "│     │ \u001b[90mSymbol\u001b[39m               │ \u001b[90mNothing\u001b[39m │ \u001b[90mString\u001b[39m           │ \u001b[90mNothing\u001b[39m │ \u001b[90mString\u001b[39m            │ \u001b[90mInt64\u001b[39m   │ \u001b[90mInt64\u001b[39m    │ \u001b[90mDataType\u001b[39m │\n",
       "├─────┼──────────────────────┼─────────┼──────────────────┼─────────┼───────────────────┼─────────┼──────────┼──────────┤\n",
       "│ 1   │ Incident Number      │         │ 2015-00004825    │         │ 2017-00024254     │ 29208   │ 0        │ Any      │\n",
       "⋮\n",
       "│ 6   │ Location - Latitude  │         │ 37.8372150110001 │         │ 37.900832366      │ 1026    │ 25063    │ Any      │\n",
       "│ 7   │ Location - Longitude │         │ -122.239325453   │         │ -122.319669759703 │ 1026    │ 25063    │ Any      │"
      ]
     },
     "execution_count": 110,
     "metadata": {},
     "output_type": "execute_result"
    }
   ],
   "source": [
    "describe(stops)"
   ]
  },
  {
   "cell_type": "markdown",
   "metadata": {},
   "source": [
    "We can check all rows in the DataFrame that contain missing values:"
   ]
  },
  {
   "cell_type": "code",
   "execution_count": 111,
   "metadata": {},
   "outputs": [
    {
     "data": {
      "text/html": [
       "<table class=\"data-frame\"><thead><tr><th></th><th>Incident Number</th><th>Call Date/Time</th><th>Location</th><th>Incident Type</th><th>Dispositions</th><th>Location - Latitude</th><th>Location - Longitude</th></tr><tr><th></th><th>Any</th><th>Any</th><th>Any</th><th>Any</th><th>Any</th><th>Any</th><th>Any</th></tr></thead><tbody><p>25,067 rows × 7 columns</p><tr><th>1</th><td>2015-00004825</td><td>2015-01-26T00:10:00</td><td>SAN PABLO AVE / MARIN AVE</td><td>T</td><td>M</td><td>missing</td><td>missing</td></tr><tr><th>2</th><td>2015-00004829</td><td>2015-01-26T00:50:00</td><td>SAN PABLO AVE / CHANNING WAY</td><td>T</td><td>M</td><td>missing</td><td>missing</td></tr><tr><th>3</th><td>2015-00004831</td><td>2015-01-26T01:03:00</td><td>UNIVERSITY AVE / NINTH ST</td><td>T</td><td>M</td><td>missing</td><td>missing</td></tr><tr><th>4</th><td>2015-00004848</td><td>2015-01-26T07:16:00</td><td>2000 BLOCK BERKELEY WAY</td><td>1194</td><td>BM4ICN</td><td>missing</td><td>missing</td></tr><tr><th>5</th><td>2015-00004849</td><td>2015-01-26T07:43:00</td><td>1700 BLOCK SAN PABLO AVE</td><td>1194</td><td>BM4ICN</td><td>missing</td><td>missing</td></tr><tr><th>6</th><td>2015-00004865</td><td>2015-01-26T09:46:00</td><td>M L KING JR WAY / UNIVERSITY AVE</td><td>T</td><td>OF4TCN</td><td>missing</td><td>missing</td></tr><tr><th>7</th><td>2015-00004870</td><td>2015-01-26T10:05:00</td><td>M L KING JR WAY / UNIVERSITY AVE</td><td>T</td><td>OM4TCN</td><td>missing</td><td>missing</td></tr><tr><th>8</th><td>2015-00004876</td><td>2015-01-26T10:21:00</td><td>UNIVERSITY AVE / M L KING JR WAY</td><td>T</td><td>OF2TCN</td><td>missing</td><td>missing</td></tr><tr><th>9</th><td>2015-00004882</td><td>2015-01-26T10:49:00</td><td>HASTE ST / ELLSWORTH ST</td><td>T</td><td>OM2TCN</td><td>missing</td><td>missing</td></tr><tr><th>10</th><td>2015-00004887</td><td>2015-01-26T11:12:00</td><td>ADELINE ST / OREGON ST</td><td>T</td><td>OM2TCN</td><td>missing</td><td>missing</td></tr><tr><th>11</th><td>2015-00004902</td><td>2015-01-26T12:35:00</td><td>1900 BLOCK SAN PABLO AVE</td><td>1194</td><td>BM2RCN</td><td>missing</td><td>missing</td></tr><tr><th>&vellip;</th><td>&vellip;</td><td>&vellip;</td><td>&vellip;</td><td>&vellip;</td><td>&vellip;</td><td>&vellip;</td><td>&vellip;</td></tr></tbody></table>"
      ],
      "text/latex": [
       "\\begin{tabular}{r|ccccccc}\n",
       "\t& Incident Number & Call Date/Time & Location & Incident Type & Dispositions & Location - Latitude & Location - Longitude\\\\\n",
       "\t\\hline\n",
       "\t& Any & Any & Any & Any & Any & Any & Any\\\\\n",
       "\t\\hline\n",
       "\t1 & 2015-00004825 & 2015-01-26T00:10:00 & SAN PABLO AVE / MARIN AVE & T & M &  &  \\\\\n",
       "\t2 & 2015-00004829 & 2015-01-26T00:50:00 & SAN PABLO AVE / CHANNING WAY & T & M &  &  \\\\\n",
       "\t3 & 2015-00004831 & 2015-01-26T01:03:00 & UNIVERSITY AVE / NINTH ST & T & M &  &  \\\\\n",
       "\t4 & 2015-00004848 & 2015-01-26T07:16:00 & 2000 BLOCK BERKELEY WAY & 1194 & BM4ICN &  &  \\\\\n",
       "\t5 & 2015-00004849 & 2015-01-26T07:43:00 & 1700 BLOCK SAN PABLO AVE & 1194 & BM4ICN &  &  \\\\\n",
       "\t6 & 2015-00004865 & 2015-01-26T09:46:00 & M L KING JR WAY / UNIVERSITY AVE & T & OF4TCN &  &  \\\\\n",
       "\t7 & 2015-00004870 & 2015-01-26T10:05:00 & M L KING JR WAY / UNIVERSITY AVE & T & OM4TCN &  &  \\\\\n",
       "\t8 & 2015-00004876 & 2015-01-26T10:21:00 & UNIVERSITY AVE / M L KING JR WAY & T & OF2TCN &  &  \\\\\n",
       "\t9 & 2015-00004882 & 2015-01-26T10:49:00 & HASTE ST / ELLSWORTH ST & T & OM2TCN &  &  \\\\\n",
       "\t10 & 2015-00004887 & 2015-01-26T11:12:00 & ADELINE ST / OREGON ST & T & OM2TCN &  &  \\\\\n",
       "\t11 & 2015-00004902 & 2015-01-26T12:35:00 & 1900 BLOCK SAN PABLO AVE & 1194 & BM2RCN &  &  \\\\\n",
       "\t$\\dots$ & $\\dots$ & $\\dots$ & $\\dots$ & $\\dots$ & $\\dots$ & $\\dots$ & $\\dots$ \\\\\n",
       "\\end{tabular}\n"
      ],
      "text/plain": [
       "25067×7 DataFrame. Omitted printing of 1 columns\n",
       "│ Row   │ Incident Number │ Call Date/Time      │ Location                  │ Incident Type │ Dispositions │ Location - Latitude │\n",
       "│       │ \u001b[90mAny\u001b[39m             │ \u001b[90mAny\u001b[39m                 │ \u001b[90mAny\u001b[39m                       │ \u001b[90mAny\u001b[39m           │ \u001b[90mAny\u001b[39m          │ \u001b[90mAny\u001b[39m                 │\n",
       "├───────┼─────────────────┼─────────────────────┼───────────────────────────┼───────────────┼──────────────┼─────────────────────┤\n",
       "│ 1     │ 2015-00004825   │ 2015-01-26T00:10:00 │ SAN PABLO AVE / MARIN AVE │ T             │ M            │ \u001b[90mmissing\u001b[39m             │\n",
       "⋮\n",
       "│ 25066 │ 2017-00024132   │ 2017-04-30T12:54:23 │  6TH/UNI                  │ 1194          │ M;           │ \u001b[90mmissing\u001b[39m             │\n",
       "│ 25067 │ 2017-00024245   │ 2017-04-30T22:59:26 │  UNIVERSITY AVE/6TH ST    │ T             │ BM2TWN;      │ \u001b[90mmissing\u001b[39m             │"
      ]
     },
     "execution_count": 111,
     "metadata": {},
     "output_type": "execute_result"
    }
   ],
   "source": [
    "stops[.!completecases(stops), :]"
   ]
  },
  {
   "cell_type": "markdown",
   "metadata": {},
   "source": [
    "By browsing through the table above, we can see that all other missing values are in the Dispositions column. Unfortunately, we do not know from the data description why these Dispositions might be missing. Since only there are only 63 missing values compared to 25,000 rows in the original table, we can proceed with analysis while being mindful that these missing values could impact results."
   ]
  },
  {
   "cell_type": "markdown",
   "metadata": {},
   "source": [
    "### Are there any missing values that were filled in?\n",
    "\n",
    "It doesn't seem like any previously missing values were filled in for us. Unlike in the Calls dataset where the date and time were in separate columns, the Call Date/Time column in the Stops dataset contains both date and time.\n",
    "\n",
    "### Which parts of the data were entered by a human?\n",
    "\n",
    "As with the Calls dataset, it looks like most of the columns in this dataset were recorded by a machine or were a category selected by a human (e.g. Incident Type).\n",
    "\n",
    "However, the Location column doesn't have consistently entered values. Sure enough, we spot some typos in the data:"
   ]
  },
  {
   "cell_type": "code",
   "execution_count": 112,
   "metadata": {},
   "outputs": [
    {
     "data": {
      "text/html": [
       "<table class=\"data-frame\"><thead><tr><th></th><th>Location</th><th>Location_length</th></tr><tr><th></th><th>Any</th><th>Int64</th></tr></thead><tbody><p>6,393 rows × 2 columns</p><tr><th>1</th><td>2200 BLOCK SHATTUCK AVE</td><td>229</td></tr><tr><th>2</th><td>37.8693028530001~-122.272234021</td><td>213</td></tr><tr><th>3</th><td>UNIVERSITY AVE / SAN PABLO AVE</td><td>202</td></tr><tr><th>4</th><td>UNIVERSITY AVE / SIXTH ST</td><td>182</td></tr><tr><th>5</th><td>80 BLOCK BOLIVAR DR</td><td>163</td></tr><tr><th>6</th><td>SAN PABLO AVE / UNIVERSITY AVE</td><td>142</td></tr><tr><th>7</th><td>ASHBY AVE / SAN PABLO AVE</td><td>136</td></tr><tr><th>8</th><td>ASHBY AVE / SEVENTH ST</td><td>131</td></tr><tr><th>9</th><td>UNIVERSITY AVE / ACTON ST</td><td>129</td></tr><tr><th>10</th><td>SHATTUCK AVE / KITTREDGE ST</td><td>126</td></tr><tr><th>11</th><td>SIXTH ST / UNIVERSITY AVE</td><td>124</td></tr><tr><th>&vellip;</th><td>&vellip;</td><td>&vellip;</td></tr></tbody></table>"
      ],
      "text/latex": [
       "\\begin{tabular}{r|cc}\n",
       "\t& Location & Location\\_length\\\\\n",
       "\t\\hline\n",
       "\t& Any & Int64\\\\\n",
       "\t\\hline\n",
       "\t1 & 2200 BLOCK SHATTUCK AVE & 229 \\\\\n",
       "\t2 & 37.8693028530001\\textasciitilde{}-122.272234021 & 213 \\\\\n",
       "\t3 & UNIVERSITY AVE / SAN PABLO AVE & 202 \\\\\n",
       "\t4 & UNIVERSITY AVE / SIXTH ST & 182 \\\\\n",
       "\t5 & 80 BLOCK BOLIVAR DR & 163 \\\\\n",
       "\t6 & SAN PABLO AVE / UNIVERSITY AVE & 142 \\\\\n",
       "\t7 & ASHBY AVE / SAN PABLO AVE & 136 \\\\\n",
       "\t8 & ASHBY AVE / SEVENTH ST & 131 \\\\\n",
       "\t9 & UNIVERSITY AVE / ACTON ST & 129 \\\\\n",
       "\t10 & SHATTUCK AVE / KITTREDGE ST & 126 \\\\\n",
       "\t11 & SIXTH ST / UNIVERSITY AVE & 124 \\\\\n",
       "\t$\\dots$ & $\\dots$ & $\\dots$ \\\\\n",
       "\\end{tabular}\n"
      ],
      "text/plain": [
       "6393×2 DataFrame\n",
       "│ Row  │ Location                │ Location_length │\n",
       "│      │ \u001b[90mAny\u001b[39m                     │ \u001b[90mInt64\u001b[39m           │\n",
       "├──────┼─────────────────────────┼─────────────────┤\n",
       "│ 1    │ 2200 BLOCK SHATTUCK AVE │ 229             │\n",
       "⋮\n",
       "│ 6392 │  6TH/UNI                │ 1               │\n",
       "│ 6393 │ 1100 BLOCK THE ALAMEDA  │ 1               │"
      ]
     },
     "execution_count": 112,
     "metadata": {},
     "output_type": "execute_result"
    }
   ],
   "source": [
    "sort!(by(stops, :Location, :Location => length), :Location_length, rev=true)"
   ]
  },
  {
   "cell_type": "markdown",
   "metadata": {},
   "source": [
    "What a mess! It looks like sometimes an address was entered, sometimes a cross-street, and other times a latitude-longitude pair. Unfortunately, we don't have very complete latitude-longitude data to use in place of this column. We may have to manually clean this column if we want to use locations for future analysis.\n",
    "\n",
    "We can also check the Dispositions column:"
   ]
  },
  {
   "cell_type": "code",
   "execution_count": 113,
   "metadata": {},
   "outputs": [
    {
     "data": {
      "text/html": [
       "<table class=\"data-frame\"><thead><tr><th></th><th>Dispositions</th><th>Dispositions_length</th></tr><tr><th></th><th>Any</th><th>Int64</th></tr></thead><tbody><p>2,758 rows × 2 columns</p><tr><th>1</th><td>M</td><td>1683</td></tr><tr><th>2</th><td>WM4TCN</td><td>875</td></tr><tr><th>3</th><td>BM4TWN</td><td>681</td></tr><tr><th>4</th><td>BM2TWN</td><td>674</td></tr><tr><th>5</th><td>WM4TWN</td><td>547</td></tr><tr><th>6</th><td>WF4TCN</td><td>537</td></tr><tr><th>7</th><td>P</td><td>493</td></tr><tr><th>8</th><td>WM2TWN</td><td>487</td></tr><tr><th>9</th><td>BM3TWN</td><td>426</td></tr><tr><th>10</th><td>WM3TCN</td><td>400</td></tr><tr><th>11</th><td>WM3TWN</td><td>366</td></tr><tr><th>&vellip;</th><td>&vellip;</td><td>&vellip;</td></tr></tbody></table>"
      ],
      "text/latex": [
       "\\begin{tabular}{r|cc}\n",
       "\t& Dispositions & Dispositions\\_length\\\\\n",
       "\t\\hline\n",
       "\t& Any & Int64\\\\\n",
       "\t\\hline\n",
       "\t1 & M & 1683 \\\\\n",
       "\t2 & WM4TCN & 875 \\\\\n",
       "\t3 & BM4TWN & 681 \\\\\n",
       "\t4 & BM2TWN & 674 \\\\\n",
       "\t5 & WM4TWN & 547 \\\\\n",
       "\t6 & WF4TCN & 537 \\\\\n",
       "\t7 & P & 493 \\\\\n",
       "\t8 & WM2TWN & 487 \\\\\n",
       "\t9 & BM3TWN & 426 \\\\\n",
       "\t10 & WM3TCN & 400 \\\\\n",
       "\t11 & WM3TWN & 366 \\\\\n",
       "\t$\\dots$ & $\\dots$ & $\\dots$ \\\\\n",
       "\\end{tabular}\n"
      ],
      "text/plain": [
       "2758×2 DataFrame\n",
       "│ Row  │ Dispositions  │ Dispositions_length │\n",
       "│      │ \u001b[90mAny\u001b[39m           │ \u001b[90mInt64\u001b[39m               │\n",
       "├──────┼───────────────┼─────────────────────┤\n",
       "│ 1    │ M             │ 1683                │\n",
       "⋮\n",
       "│ 2757 │ TOW; OM3TCS;  │ 1                   │\n",
       "│ 2758 │ HM4TCS;       │ 1                   │"
      ]
     },
     "execution_count": 113,
     "metadata": {},
     "output_type": "execute_result"
    }
   ],
   "source": [
    "dispositions = sort!(by(stops, :Dispositions, :Dispositions => length), :Dispositions_length, rev=true)"
   ]
  },
  {
   "cell_type": "markdown",
   "metadata": {},
   "source": [
    "The Dispositions columns also contains inconsistencies. For example, some dispositions start with a space, some end with a semicolon, and some contain multiple entries. The variety of values suggests that this field contains human-entered values and should be treated with caution."
   ]
  },
  {
   "cell_type": "code",
   "execution_count": 114,
   "metadata": {},
   "outputs": [
    {
     "data": {
      "text/html": [
       "<table class=\"data-frame\"><thead><tr><th></th><th>Dispositions</th><th>Dispositions_length</th></tr><tr><th></th><th>Any</th><th>Int64</th></tr></thead><tbody><p>5 rows × 2 columns</p><tr><th>1</th><td>M</td><td>1683</td></tr><tr><th>2</th><td>M; </td><td>238</td></tr><tr><th>3</th><td> M</td><td>176</td></tr><tr><th>4</th><td> IN</td><td>14</td></tr><tr><th>5</th><td>WF2RCN, WM2RCN, WM4RCS, WM4RAS, HM2RAS</td><td>1</td></tr></tbody></table>"
      ],
      "text/latex": [
       "\\begin{tabular}{r|cc}\n",
       "\t& Dispositions & Dispositions\\_length\\\\\n",
       "\t\\hline\n",
       "\t& Any & Int64\\\\\n",
       "\t\\hline\n",
       "\t1 & M & 1683 \\\\\n",
       "\t2 & M;  & 238 \\\\\n",
       "\t3 &  M & 176 \\\\\n",
       "\t4 &  IN & 14 \\\\\n",
       "\t5 & WF2RCN, WM2RCN, WM4RCS, WM4RAS, HM2RAS & 1 \\\\\n",
       "\\end{tabular}\n"
      ],
      "text/plain": [
       "5×2 DataFrame\n",
       "│ Row │ Dispositions                           │ Dispositions_length │\n",
       "│     │ \u001b[90mAny\u001b[39m                                    │ \u001b[90mInt64\u001b[39m               │\n",
       "├─────┼────────────────────────────────────────┼─────────────────────┤\n",
       "│ 1   │ M                                      │ 1683                │\n",
       "⋮\n",
       "│ 4   │  IN                                    │ 14                  │\n",
       "│ 5   │ WF2RCN, WM2RCN, WM4RCS, WM4RAS, HM2RAS │ 1                   │"
      ]
     },
     "execution_count": 114,
     "metadata": {},
     "output_type": "execute_result"
    }
   ],
   "source": [
    "# Strange values...\n",
    "dispositions[[1, 21, 31, 267, 1028], :]"
   ]
  },
  {
   "cell_type": "markdown",
   "metadata": {},
   "source": [
    "In addition, the most common disposition is `M` which isn't a permitted first character in the Dispositions column. This could mean that the format of the column changed over time or that officers are allowed to enter in the disposition without matching the format in the data description. In any case, the column will be challenging to work with.\n",
    "\n",
    "We can take some simple steps to clean the Dispositions column by removing leading and trailing whitespace, removing trailing semi-colons, and replacing the remaining semi-colons with commas."
   ]
  },
  {
   "cell_type": "code",
   "execution_count": 116,
   "metadata": {},
   "outputs": [
    {
     "data": {
      "text/html": [
       "<table class=\"data-frame\"><thead><tr><th></th><th>Incident Number</th><th>Call Date/Time</th><th>Location</th><th>Incident Type</th><th>Dispositions</th><th>Location - Latitude</th><th>Location - Longitude</th></tr><tr><th></th><th>Any</th><th>Any</th><th>Any</th><th>Any</th><th>SubStri…⍰</th><th>Any</th><th>Any</th></tr></thead><tbody><p>29,208 rows × 7 columns</p><tr><th>1</th><td>2015-00004825</td><td>2015-01-26T00:10:00</td><td>SAN PABLO AVE / MARIN AVE</td><td>T</td><td>M</td><td>missing</td><td>missing</td></tr><tr><th>2</th><td>2015-00004829</td><td>2015-01-26T00:50:00</td><td>SAN PABLO AVE / CHANNING WAY</td><td>T</td><td>M</td><td>missing</td><td>missing</td></tr><tr><th>3</th><td>2015-00004831</td><td>2015-01-26T01:03:00</td><td>UNIVERSITY AVE / NINTH ST</td><td>T</td><td>M</td><td>missing</td><td>missing</td></tr><tr><th>4</th><td>2015-00004848</td><td>2015-01-26T07:16:00</td><td>2000 BLOCK BERKELEY WAY</td><td>1194</td><td>BM4ICN</td><td>missing</td><td>missing</td></tr><tr><th>5</th><td>2015-00004849</td><td>2015-01-26T07:43:00</td><td>1700 BLOCK SAN PABLO AVE</td><td>1194</td><td>BM4ICN</td><td>missing</td><td>missing</td></tr><tr><th>6</th><td>2015-00004865</td><td>2015-01-26T09:46:00</td><td>M L KING JR WAY / UNIVERSITY AVE</td><td>T</td><td>OF4TCN</td><td>missing</td><td>missing</td></tr><tr><th>7</th><td>2015-00004870</td><td>2015-01-26T10:05:00</td><td>M L KING JR WAY / UNIVERSITY AVE</td><td>T</td><td>OM4TCN</td><td>missing</td><td>missing</td></tr><tr><th>8</th><td>2015-00004876</td><td>2015-01-26T10:21:00</td><td>UNIVERSITY AVE / M L KING JR WAY</td><td>T</td><td>OF2TCN</td><td>missing</td><td>missing</td></tr><tr><th>9</th><td>2015-00004882</td><td>2015-01-26T10:49:00</td><td>HASTE ST / ELLSWORTH ST</td><td>T</td><td>OM2TCN</td><td>missing</td><td>missing</td></tr><tr><th>10</th><td>2015-00004887</td><td>2015-01-26T11:12:00</td><td>ADELINE ST / OREGON ST</td><td>T</td><td>OM2TCN</td><td>missing</td><td>missing</td></tr><tr><th>11</th><td>2015-00004902</td><td>2015-01-26T12:35:00</td><td>1900 BLOCK SAN PABLO AVE</td><td>1194</td><td>BM2RCN</td><td>missing</td><td>missing</td></tr><tr><th>&vellip;</th><td>&vellip;</td><td>&vellip;</td><td>&vellip;</td><td>&vellip;</td><td>&vellip;</td><td>&vellip;</td><td>&vellip;</td></tr></tbody></table>"
      ],
      "text/latex": [
       "\\begin{tabular}{r|ccccccc}\n",
       "\t& Incident Number & Call Date/Time & Location & Incident Type & Dispositions & Location - Latitude & Location - Longitude\\\\\n",
       "\t\\hline\n",
       "\t& Any & Any & Any & Any & SubStri…⍰ & Any & Any\\\\\n",
       "\t\\hline\n",
       "\t1 & 2015-00004825 & 2015-01-26T00:10:00 & SAN PABLO AVE / MARIN AVE & T & M &  &  \\\\\n",
       "\t2 & 2015-00004829 & 2015-01-26T00:50:00 & SAN PABLO AVE / CHANNING WAY & T & M &  &  \\\\\n",
       "\t3 & 2015-00004831 & 2015-01-26T01:03:00 & UNIVERSITY AVE / NINTH ST & T & M &  &  \\\\\n",
       "\t4 & 2015-00004848 & 2015-01-26T07:16:00 & 2000 BLOCK BERKELEY WAY & 1194 & BM4ICN &  &  \\\\\n",
       "\t5 & 2015-00004849 & 2015-01-26T07:43:00 & 1700 BLOCK SAN PABLO AVE & 1194 & BM4ICN &  &  \\\\\n",
       "\t6 & 2015-00004865 & 2015-01-26T09:46:00 & M L KING JR WAY / UNIVERSITY AVE & T & OF4TCN &  &  \\\\\n",
       "\t7 & 2015-00004870 & 2015-01-26T10:05:00 & M L KING JR WAY / UNIVERSITY AVE & T & OM4TCN &  &  \\\\\n",
       "\t8 & 2015-00004876 & 2015-01-26T10:21:00 & UNIVERSITY AVE / M L KING JR WAY & T & OF2TCN &  &  \\\\\n",
       "\t9 & 2015-00004882 & 2015-01-26T10:49:00 & HASTE ST / ELLSWORTH ST & T & OM2TCN &  &  \\\\\n",
       "\t10 & 2015-00004887 & 2015-01-26T11:12:00 & ADELINE ST / OREGON ST & T & OM2TCN &  &  \\\\\n",
       "\t11 & 2015-00004902 & 2015-01-26T12:35:00 & 1900 BLOCK SAN PABLO AVE & 1194 & BM2RCN &  &  \\\\\n",
       "\t$\\dots$ & $\\dots$ & $\\dots$ & $\\dots$ & $\\dots$ & $\\dots$ & $\\dots$ & $\\dots$ \\\\\n",
       "\\end{tabular}\n"
      ],
      "text/plain": [
       "29208×7 DataFrame. Omitted printing of 1 columns\n",
       "│ Row   │ Incident Number │ Call Date/Time      │ Location                     │ Incident Type │ Dispositions │ Location - Latitude │\n",
       "│       │ \u001b[90mAny\u001b[39m             │ \u001b[90mAny\u001b[39m                 │ \u001b[90mAny\u001b[39m                          │ \u001b[90mAny\u001b[39m           │ \u001b[90mSubStri…⍰\u001b[39m    │ \u001b[90mAny\u001b[39m                 │\n",
       "├───────┼─────────────────┼─────────────────────┼──────────────────────────────┼───────────────┼──────────────┼─────────────────────┤\n",
       "│ 1     │ 2015-00004825   │ 2015-01-26T00:10:00 │ SAN PABLO AVE / MARIN AVE    │ T             │ M            │ \u001b[90mmissing\u001b[39m             │\n",
       "⋮\n",
       "│ 29207 │ 2017-00024250   │ 2017-04-30T23:19:27 │  UNIVERSITY AVE /  WEST ST   │ T             │ HM4TCS       │ 37.8698757000001    │\n",
       "│ 29208 │ 2017-00024254   │ 2017-04-30T23:38:34 │  CHANNING WAY /  BOWDITCH ST │ 1194          │ AR           │ 37.867207539        │"
      ]
     },
     "execution_count": 116,
     "metadata": {},
     "output_type": "execute_result"
    }
   ],
   "source": [
    "stops.Dispositions = map(x -> passmissing(strip)(x, [';', ',', ' ']), stops.Dispositions)\n",
    "stops"
   ]
  },
  {
   "cell_type": "markdown",
   "metadata": {},
   "source": [
    "## Conclusion\n",
    "\n",
    "As these two datasets have shown, data cleaning can often be both difficult and tedious. Cleaning 100% of the data often takes too long, but not cleaning the data at all results in faulty conclusions; we have to weigh our options and strike a balance each time we encounter a new dataset.\n",
    "\n",
    "The decisions made during data cleaning impact all future analyses. For example, we chose not to clean the Location column of the Stops dataset so we should treat that column with caution. Each decision made during data cleaning should be carefully documented for future reference, preferably in a notebook so that both code and explanations appear together."
   ]
  },
  {
   "cell_type": "code",
   "execution_count": null,
   "metadata": {},
   "outputs": [],
   "source": [
    "# HIDDEN\n",
    "# Save data to CSV for other chapters\n",
    "# CSV.write(\"data/calls_stops.csv\", stops)"
   ]
  }
 ],
 "metadata": {
  "kernelspec": {
   "display_name": "Julia 1.2.0",
   "language": "julia",
   "name": "julia-1.2"
  },
  "language_info": {
   "file_extension": ".jl",
   "mimetype": "application/julia",
   "name": "julia",
   "version": "1.2.0"
  }
 },
 "nbformat": 4,
 "nbformat_minor": 2
}
