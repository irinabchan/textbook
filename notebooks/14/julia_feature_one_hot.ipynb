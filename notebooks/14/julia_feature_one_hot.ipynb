{
 "cells": [
  {
   "cell_type": "code",
   "execution_count": 1,
   "metadata": {},
   "outputs": [],
   "source": [
    "# HIDDEN\n",
    "using CSV\n",
    "using DataFrames\n",
    "using Statistics\n",
    "using StatsPlots\n",
    "Base.displaysize() = (5, 80)"
   ]
  },
  {
   "cell_type": "markdown",
   "metadata": {},
   "source": [
    "## The Walmart dataset\n",
    "\n",
    "In 2014, Walmart released some of its sales data as part of a competition to predict the weekly sales of its stores. We've taken a subset of their data and loaded it below."
   ]
  },
  {
   "cell_type": "code",
   "execution_count": 2,
   "metadata": {},
   "outputs": [
    {
     "data": {
      "text/html": [
       "<table class=\"data-frame\"><thead><tr><th></th><th>Date</th><th>Weekly_Sales</th><th>IsHoliday</th><th>Temperature</th><th>Fuel_Price</th><th>Unemployment</th><th>MarkDown</th></tr><tr><th></th><th>Dates…</th><th>Float64</th><th>String</th><th>Float64</th><th>Float64</th><th>Float64</th><th>String</th></tr></thead><tbody><p>143 rows × 7 columns</p><tr><th>1</th><td>2010-02-05</td><td>24924.5</td><td>No</td><td>42.31</td><td>2.572</td><td>8.106</td><td>No Markdown</td></tr><tr><th>2</th><td>2010-02-12</td><td>46039.5</td><td>Yes</td><td>38.51</td><td>2.548</td><td>8.106</td><td>No Markdown</td></tr><tr><th>3</th><td>2010-02-19</td><td>41595.6</td><td>No</td><td>39.93</td><td>2.514</td><td>8.106</td><td>No Markdown</td></tr><tr><th>4</th><td>2010-02-26</td><td>19403.5</td><td>No</td><td>46.63</td><td>2.561</td><td>8.106</td><td>No Markdown</td></tr><tr><th>5</th><td>2010-03-05</td><td>21827.9</td><td>No</td><td>46.5</td><td>2.625</td><td>8.106</td><td>No Markdown</td></tr><tr><th>&vellip;</th><td>&vellip;</td><td>&vellip;</td><td>&vellip;</td><td>&vellip;</td><td>&vellip;</td><td>&vellip;</td><td>&vellip;</td></tr></tbody></table>"
      ],
      "text/latex": [
       "\\begin{tabular}{r|ccccccc}\n",
       "\t& Date & Weekly\\_Sales & IsHoliday & Temperature & Fuel\\_Price & Unemployment & MarkDown\\\\\n",
       "\t\\hline\n",
       "\t& Dates… & Float64 & String & Float64 & Float64 & Float64 & String\\\\\n",
       "\t\\hline\n",
       "\t1 & 2010-02-05 & 24924.5 & No & 42.31 & 2.572 & 8.106 & No Markdown \\\\\n",
       "\t2 & 2010-02-12 & 46039.5 & Yes & 38.51 & 2.548 & 8.106 & No Markdown \\\\\n",
       "\t3 & 2010-02-19 & 41595.6 & No & 39.93 & 2.514 & 8.106 & No Markdown \\\\\n",
       "\t4 & 2010-02-26 & 19403.5 & No & 46.63 & 2.561 & 8.106 & No Markdown \\\\\n",
       "\t5 & 2010-03-05 & 21827.9 & No & 46.5 & 2.625 & 8.106 & No Markdown \\\\\n",
       "\t$\\dots$ & $\\dots$ & $\\dots$ & $\\dots$ & $\\dots$ & $\\dots$ & $\\dots$ & $\\dots$ \\\\\n",
       "\\end{tabular}\n"
      ],
      "text/plain": [
       "143×7 DataFrame\n"
      ]
     },
     "execution_count": 2,
     "metadata": {},
     "output_type": "execute_result"
    }
   ],
   "source": [
    "walmart = CSV.read(\"walmart.csv\")"
   ]
  },
  {
   "cell_type": "markdown",
   "metadata": {},
   "source": [
    "The data contains several interesting features, including whether a week contained a holiday (`IsHoliday`), the unemployment rate of that week (`Unemployment`), and which special deals the store offered that week (`MarkDown`).\n",
    "\n",
    "Our goal is to create a model that predicts the `Weekly_Sales` variable using the other variables in our data. Using a linear regression model we can directly use the `Temperature`, `Fuel_Price`, and `Unemployment` columns because they contain numerical data."
   ]
  },
  {
   "cell_type": "markdown",
   "metadata": {},
   "source": [
    "## Fitting a Model Using MLJ\n",
    "\n",
    "In previous sections we have seen how to take the gradient of the cost function and use gradient descent to fit a model. To do this, we had to define Julia functions for our model, the cost function, the gradient of the cost function, and the gradient descent algorithm. While this was important to demonstrate how the concepts work, in this section we will instead use a machine learning library called [`MLJ`](https://alan-turing-institute.github.io/MLJ.jl/stable/) which allows us to fit a model with less code.\n",
    "\n",
    "There are many other Machine Learning libraries in development as Julia continues to grow, such as [`Flux`](http://scikit-learn.org/), and wrappers around established libraries, such as [`TensorFlow.jl`](https://github.com/malmaud/TensorFlow.jl) and [`ScikitLearn.jl`](https://scikitlearnjl.readthedocs.io/en/latest/). Note that wrapper libraries are designed to provide a convenient way for Julia code to use those external packages, and will lack in performance when compared to pure Julia code. We encourage you to learn and experiment with different packages and decide what best fits your project needs!\n",
    "\n",
    "For example, to fit a multiple linear regression model using the numerical columns in the Walmart dataset, we first create a two-dimensional array containing the variables used for prediction and a one-dimensional array containing the values we want to predict. For that we use the function `unpack` passing our dataframe and the target column we want to predict:"
   ]
  },
  {
   "cell_type": "code",
   "execution_count": 146,
   "metadata": {},
   "outputs": [
    {
     "data": {
      "text/html": [
       "<table class=\"data-frame\"><thead><tr><th></th><th>Temperature</th><th>Fuel_Price</th><th>Unemployment</th></tr><tr><th></th><th>Float64</th><th>Float64</th><th>Float64</th></tr></thead><tbody><p>143 rows × 3 columns</p><tr><th>1</th><td>42.31</td><td>2.572</td><td>8.106</td></tr><tr><th>2</th><td>38.51</td><td>2.548</td><td>8.106</td></tr><tr><th>3</th><td>39.93</td><td>2.514</td><td>8.106</td></tr><tr><th>4</th><td>46.63</td><td>2.561</td><td>8.106</td></tr><tr><th>5</th><td>46.5</td><td>2.625</td><td>8.106</td></tr><tr><th>&vellip;</th><td>&vellip;</td><td>&vellip;</td><td>&vellip;</td></tr></tbody></table>"
      ],
      "text/latex": [
       "\\begin{tabular}{r|ccc}\n",
       "\t& Temperature & Fuel\\_Price & Unemployment\\\\\n",
       "\t\\hline\n",
       "\t& Float64 & Float64 & Float64\\\\\n",
       "\t\\hline\n",
       "\t1 & 42.31 & 2.572 & 8.106 \\\\\n",
       "\t2 & 38.51 & 2.548 & 8.106 \\\\\n",
       "\t3 & 39.93 & 2.514 & 8.106 \\\\\n",
       "\t4 & 46.63 & 2.561 & 8.106 \\\\\n",
       "\t5 & 46.5 & 2.625 & 8.106 \\\\\n",
       "\t$\\dots$ & $\\dots$ & $\\dots$ & $\\dots$ \\\\\n",
       "\\end{tabular}\n"
      ],
      "text/plain": [
       "143×3 DataFrame\n"
      ]
     },
     "execution_count": 146,
     "metadata": {},
     "output_type": "execute_result"
    }
   ],
   "source": [
    "using MLJ\n",
    "\n",
    "numerical_columns = [:Temperature, :Fuel_Price, :Unemployment, :Weekly_Sales]\n",
    "\n",
    "y, X = unpack(select(walmart, numerical_columns), ==(:Weekly_Sales), colname -> true;)\n",
    "X"
   ]
  },
  {
   "cell_type": "markdown",
   "metadata": {},
   "source": [
    "Then, we load the `LinearRegressor` model from the `ScikitLearn` package create a `machine` by passing our model and data, and call the `fit!` method using the `machine` to predict `y`.\n",
    "\n",
    "Check `MLJ`'s documentation for more information on the many [available models](https://alan-turing-institute.github.io/MLJ.jl/stable/model_search/), or for more details on how to work with the package on [Common MLJ Workflows](https://alan-turing-institute.github.io/MLJ.jl/stable/common_mlj_workflows/)\n",
    "\n",
    "Note that previously we had to manually add a column of all $1$'s to the `X` matrix in order to conduct linear regression with an intercept. This time, `scikit-learn` will take care of the intercept column behind the scenes, saving us some work."
   ]
  },
  {
   "cell_type": "code",
   "execution_count": 147,
   "metadata": {},
   "outputs": [
    {
     "name": "stderr",
     "output_type": "stream",
     "text": [
      "┌ Info: A model type \"LinearRegressor\" is already loaded. \n",
      "│ No new code loaded. \n",
      "└ @ MLJModels /Users/irinabchan/.julia/packages/MLJModels/Ra3QV/src/loading.jl:43\n",
      "┌ Info: Training \u001b[34mMachine{LinearRegressor} @ 4…38\u001b[39m.\n",
      "└ @ MLJBase /Users/irinabchan/.julia/packages/MLJBase/sMgCp/src/machines.jl:179\n"
     ]
    },
    {
     "data": {
      "text/plain": [
       "\u001b[34mMachine{LinearRegressor} @ 4…38\u001b[39m\n"
      ]
     },
     "execution_count": 147,
     "metadata": {},
     "output_type": "execute_result"
    }
   ],
   "source": [
    "lr_model = @load LinearRegressor pkg=ScikitLearn\n",
    "lr_numerical = machine(lr_model, X, y)\n",
    "\n",
    "fit!(lr_numerical)"
   ]
  },
  {
   "cell_type": "markdown",
   "metadata": {},
   "source": [
    "We are done! When we called `.fit!`, `MLJ` found the linear regression parameters that minimized the least squares cost function. We can see the parameters below:"
   ]
  },
  {
   "cell_type": "code",
   "execution_count": 148,
   "metadata": {},
   "outputs": [
    {
     "data": {
      "text/plain": [
       "(coef = [-332.2211798741131, 1626.6256039778827, 1356.8683187389838],\n",
       " intercept = 29642.700510138595,)"
      ]
     },
     "execution_count": 148,
     "metadata": {},
     "output_type": "execute_result"
    }
   ],
   "source": [
    "fitted_params(lr_numerical)"
   ]
  },
  {
   "cell_type": "markdown",
   "metadata": {},
   "source": [
    "To calculate the mean squared cost, we can ask the classifier to make predictions for the input data `X` and compare the predictions with the actual values `y`."
   ]
  },
  {
   "cell_type": "code",
   "execution_count": 149,
   "metadata": {},
   "outputs": [
    {
     "data": {
      "text/plain": [
       "7.440121060360725e7"
      ]
     },
     "execution_count": 149,
     "metadata": {},
     "output_type": "execute_result"
    }
   ],
   "source": [
    "predictions = predict(lr_numerical)\n",
    "mean((predictions .- y) .^2 )"
   ]
  },
  {
   "cell_type": "markdown",
   "metadata": {},
   "source": [
    "The mean squared error looks quite high. This is likely because our variables (temperature, price of fuel, and unemployment rate) are only weakly correlated with the weekly sales.\n",
    "\n",
    "There are two more variables in our data that might be more useful for prediction: the `IsHoliday` column and `MarkDown` column. The boxplot below shows that holidays may have some relation with the weekly sales."
   ]
  },
  {
   "cell_type": "code",
   "execution_count": 77,
   "metadata": {},
   "outputs": [
    {
     "data": {
      "image/svg+xml": [
       "<?xml version=\"1.0\" encoding=\"utf-8\"?>\n",
       "<svg xmlns=\"http://www.w3.org/2000/svg\" xmlns:xlink=\"http://www.w3.org/1999/xlink\" width=\"600\" height=\"400\" viewBox=\"0 0 2400 1600\">\n",
       "<defs>\n",
       "  <clipPath id=\"clip5800\">\n",
       "    <rect x=\"0\" y=\"0\" width=\"2400\" height=\"1600\"/>\n",
       "  </clipPath>\n",
       "</defs>\n",
       "<path clip-path=\"url(#clip5800)\" d=\"\n",
       "M0 1600 L2400 1600 L2400 0 L0 0  Z\n",
       "  \" fill=\"#ffffff\" fill-rule=\"evenodd\" fill-opacity=\"1\"/>\n",
       "<defs>\n",
       "  <clipPath id=\"clip5801\">\n",
       "    <rect x=\"480\" y=\"0\" width=\"1681\" height=\"1600\"/>\n",
       "  </clipPath>\n",
       "</defs>\n",
       "<path clip-path=\"url(#clip5800)\" d=\"\n",
       "M309.663 1425.62 L2352.76 1425.62 L2352.76 47.2441 L309.663 47.2441  Z\n",
       "  \" fill=\"#ffffff\" fill-rule=\"evenodd\" fill-opacity=\"1\"/>\n",
       "<defs>\n",
       "  <clipPath id=\"clip5802\">\n",
       "    <rect x=\"309\" y=\"47\" width=\"2044\" height=\"1379\"/>\n",
       "  </clipPath>\n",
       "</defs>\n",
       "<polyline clip-path=\"url(#clip5802)\" style=\"stroke:#000000; stroke-width:2; stroke-opacity:0.1; fill:none\" points=\"\n",
       "  795.808,1425.62 795.808,47.2441 \n",
       "  \"/>\n",
       "<polyline clip-path=\"url(#clip5802)\" style=\"stroke:#000000; stroke-width:2; stroke-opacity:0.1; fill:none\" points=\"\n",
       "  1866.61,1425.62 1866.61,47.2441 \n",
       "  \"/>\n",
       "<polyline clip-path=\"url(#clip5802)\" style=\"stroke:#000000; stroke-width:2; stroke-opacity:0.1; fill:none\" points=\"\n",
       "  309.663,1221.62 2352.76,1221.62 \n",
       "  \"/>\n",
       "<polyline clip-path=\"url(#clip5802)\" style=\"stroke:#000000; stroke-width:2; stroke-opacity:0.1; fill:none\" points=\"\n",
       "  309.663,919.601 2352.76,919.601 \n",
       "  \"/>\n",
       "<polyline clip-path=\"url(#clip5802)\" style=\"stroke:#000000; stroke-width:2; stroke-opacity:0.1; fill:none\" points=\"\n",
       "  309.663,617.578 2352.76,617.578 \n",
       "  \"/>\n",
       "<polyline clip-path=\"url(#clip5802)\" style=\"stroke:#000000; stroke-width:2; stroke-opacity:0.1; fill:none\" points=\"\n",
       "  309.663,315.554 2352.76,315.554 \n",
       "  \"/>\n",
       "<polyline clip-path=\"url(#clip5800)\" style=\"stroke:#000000; stroke-width:4; stroke-opacity:1; fill:none\" points=\"\n",
       "  309.663,1425.62 2352.76,1425.62 \n",
       "  \"/>\n",
       "<polyline clip-path=\"url(#clip5800)\" style=\"stroke:#000000; stroke-width:4; stroke-opacity:1; fill:none\" points=\"\n",
       "  309.663,1425.62 309.663,47.2441 \n",
       "  \"/>\n",
       "<polyline clip-path=\"url(#clip5800)\" style=\"stroke:#000000; stroke-width:4; stroke-opacity:1; fill:none\" points=\"\n",
       "  795.808,1425.62 795.808,1404.94 \n",
       "  \"/>\n",
       "<polyline clip-path=\"url(#clip5800)\" style=\"stroke:#000000; stroke-width:4; stroke-opacity:1; fill:none\" points=\"\n",
       "  1866.61,1425.62 1866.61,1404.94 \n",
       "  \"/>\n",
       "<polyline clip-path=\"url(#clip5800)\" style=\"stroke:#000000; stroke-width:4; stroke-opacity:1; fill:none\" points=\"\n",
       "  309.663,1221.62 340.309,1221.62 \n",
       "  \"/>\n",
       "<polyline clip-path=\"url(#clip5800)\" style=\"stroke:#000000; stroke-width:4; stroke-opacity:1; fill:none\" points=\"\n",
       "  309.663,919.601 340.309,919.601 \n",
       "  \"/>\n",
       "<polyline clip-path=\"url(#clip5800)\" style=\"stroke:#000000; stroke-width:4; stroke-opacity:1; fill:none\" points=\"\n",
       "  309.663,617.578 340.309,617.578 \n",
       "  \"/>\n",
       "<polyline clip-path=\"url(#clip5800)\" style=\"stroke:#000000; stroke-width:4; stroke-opacity:1; fill:none\" points=\"\n",
       "  309.663,315.554 340.309,315.554 \n",
       "  \"/>\n",
       "<g clip-path=\"url(#clip5800)\">\n",
       "<text style=\"fill:#000000; fill-opacity:1; font-family:Arial,Helvetica Neue,Helvetica,sans-serif; font-size:48px; text-anchor:middle;\" transform=\"rotate(0, 795.808, 1479.62)\" x=\"795.808\" y=\"1479.62\">No</text>\n",
       "</g>\n",
       "<g clip-path=\"url(#clip5800)\">\n",
       "<text style=\"fill:#000000; fill-opacity:1; font-family:Arial,Helvetica Neue,Helvetica,sans-serif; font-size:48px; text-anchor:middle;\" transform=\"rotate(0, 1866.61, 1479.62)\" x=\"1866.61\" y=\"1479.62\">Yes</text>\n",
       "</g>\n",
       "<g clip-path=\"url(#clip5800)\">\n",
       "<text style=\"fill:#000000; fill-opacity:1; font-family:Arial,Helvetica Neue,Helvetica,sans-serif; font-size:48px; text-anchor:start;\" transform=\"rotate(0, 155.521, 1245.35)\" x=\"155.521\" y=\"1245.35\">2×10</text>\n",
       "</g>\n",
       "<g clip-path=\"url(#clip5800)\">\n",
       "<text style=\"fill:#000000; fill-opacity:1; font-family:Arial,Helvetica Neue,Helvetica,sans-serif; font-size:38px; text-anchor:start;\" transform=\"rotate(0, 263.919, 1217.94)\" x=\"263.919\" y=\"1217.94\">4</text>\n",
       "</g>\n",
       "<g clip-path=\"url(#clip5800)\">\n",
       "<text style=\"fill:#000000; fill-opacity:1; font-family:Arial,Helvetica Neue,Helvetica,sans-serif; font-size:48px; text-anchor:start;\" transform=\"rotate(0, 155.521, 943.328)\" x=\"155.521\" y=\"943.328\">3×10</text>\n",
       "</g>\n",
       "<g clip-path=\"url(#clip5800)\">\n",
       "<text style=\"fill:#000000; fill-opacity:1; font-family:Arial,Helvetica Neue,Helvetica,sans-serif; font-size:38px; text-anchor:start;\" transform=\"rotate(0, 263.919, 915.918)\" x=\"263.919\" y=\"915.918\">4</text>\n",
       "</g>\n",
       "<g clip-path=\"url(#clip5800)\">\n",
       "<text style=\"fill:#000000; fill-opacity:1; font-family:Arial,Helvetica Neue,Helvetica,sans-serif; font-size:48px; text-anchor:start;\" transform=\"rotate(0, 155.521, 641.305)\" x=\"155.521\" y=\"641.305\">4×10</text>\n",
       "</g>\n",
       "<g clip-path=\"url(#clip5800)\">\n",
       "<text style=\"fill:#000000; fill-opacity:1; font-family:Arial,Helvetica Neue,Helvetica,sans-serif; font-size:38px; text-anchor:start;\" transform=\"rotate(0, 263.919, 613.895)\" x=\"263.919\" y=\"613.895\">4</text>\n",
       "</g>\n",
       "<g clip-path=\"url(#clip5800)\">\n",
       "<text style=\"fill:#000000; fill-opacity:1; font-family:Arial,Helvetica Neue,Helvetica,sans-serif; font-size:48px; text-anchor:start;\" transform=\"rotate(0, 155.521, 339.282)\" x=\"155.521\" y=\"339.282\">5×10</text>\n",
       "</g>\n",
       "<g clip-path=\"url(#clip5800)\">\n",
       "<text style=\"fill:#000000; fill-opacity:1; font-family:Arial,Helvetica Neue,Helvetica,sans-serif; font-size:38px; text-anchor:start;\" transform=\"rotate(0, 263.919, 311.872)\" x=\"263.919\" y=\"311.872\">4</text>\n",
       "</g>\n",
       "<g clip-path=\"url(#clip5800)\">\n",
       "<text style=\"fill:#000000; fill-opacity:1; font-family:Arial,Helvetica Neue,Helvetica,sans-serif; font-size:66px; text-anchor:middle;\" transform=\"rotate(0, 1331.21, 1559.48)\" x=\"1331.21\" y=\"1559.48\">IsHoliday</text>\n",
       "</g>\n",
       "<g clip-path=\"url(#clip5800)\">\n",
       "<text style=\"fill:#000000; fill-opacity:1; font-family:Arial,Helvetica Neue,Helvetica,sans-serif; font-size:66px; text-anchor:middle;\" transform=\"rotate(-90, 89.2861, 736.431)\" x=\"89.2861\" y=\"736.431\">Weekly_Sales</text>\n",
       "</g>\n",
       "<circle clip-path=\"url(#clip5802)\" style=\"fill:#000000; stroke:none; fill-opacity:1\" cx=\"795.808\" cy=\"569.388\" r=\"18\"/>\n",
       "<circle clip-path=\"url(#clip5802)\" style=\"fill:#009af9; stroke:none; fill-opacity:1\" cx=\"795.808\" cy=\"569.388\" r=\"14\"/>\n",
       "<circle clip-path=\"url(#clip5802)\" style=\"fill:#000000; stroke:none; fill-opacity:1\" cx=\"795.808\" cy=\"96.3329\" r=\"18\"/>\n",
       "<circle clip-path=\"url(#clip5802)\" style=\"fill:#009af9; stroke:none; fill-opacity:1\" cx=\"795.808\" cy=\"96.3329\" r=\"14\"/>\n",
       "<circle clip-path=\"url(#clip5802)\" style=\"fill:#000000; stroke:none; fill-opacity:1\" cx=\"795.808\" cy=\"528.151\" r=\"18\"/>\n",
       "<circle clip-path=\"url(#clip5802)\" style=\"fill:#009af9; stroke:none; fill-opacity:1\" cx=\"795.808\" cy=\"528.151\" r=\"14\"/>\n",
       "<circle clip-path=\"url(#clip5802)\" style=\"fill:#000000; stroke:none; fill-opacity:1\" cx=\"795.808\" cy=\"658.625\" r=\"18\"/>\n",
       "<circle clip-path=\"url(#clip5802)\" style=\"fill:#009af9; stroke:none; fill-opacity:1\" cx=\"795.808\" cy=\"658.625\" r=\"14\"/>\n",
       "<circle clip-path=\"url(#clip5802)\" style=\"fill:#000000; stroke:none; fill-opacity:1\" cx=\"795.808\" cy=\"791.577\" r=\"18\"/>\n",
       "<circle clip-path=\"url(#clip5802)\" style=\"fill:#009af9; stroke:none; fill-opacity:1\" cx=\"795.808\" cy=\"791.577\" r=\"14\"/>\n",
       "<circle clip-path=\"url(#clip5802)\" style=\"fill:#000000; stroke:none; fill-opacity:1\" cx=\"795.808\" cy=\"469.198\" r=\"18\"/>\n",
       "<circle clip-path=\"url(#clip5802)\" style=\"fill:#009af9; stroke:none; fill-opacity:1\" cx=\"795.808\" cy=\"469.198\" r=\"14\"/>\n",
       "<circle clip-path=\"url(#clip5802)\" style=\"fill:#000000; stroke:none; fill-opacity:1\" cx=\"795.808\" cy=\"136.417\" r=\"18\"/>\n",
       "<circle clip-path=\"url(#clip5802)\" style=\"fill:#009af9; stroke:none; fill-opacity:1\" cx=\"795.808\" cy=\"136.417\" r=\"14\"/>\n",
       "<circle clip-path=\"url(#clip5802)\" style=\"fill:#000000; stroke:none; fill-opacity:1\" cx=\"795.808\" cy=\"410.816\" r=\"18\"/>\n",
       "<circle clip-path=\"url(#clip5802)\" style=\"fill:#009af9; stroke:none; fill-opacity:1\" cx=\"795.808\" cy=\"410.816\" r=\"14\"/>\n",
       "<circle clip-path=\"url(#clip5802)\" style=\"fill:#000000; stroke:none; fill-opacity:1\" cx=\"795.808\" cy=\"300.142\" r=\"18\"/>\n",
       "<circle clip-path=\"url(#clip5802)\" style=\"fill:#009af9; stroke:none; fill-opacity:1\" cx=\"795.808\" cy=\"300.142\" r=\"14\"/>\n",
       "<circle clip-path=\"url(#clip5802)\" style=\"fill:#000000; stroke:none; fill-opacity:1\" cx=\"795.808\" cy=\"571.9\" r=\"18\"/>\n",
       "<circle clip-path=\"url(#clip5802)\" style=\"fill:#009af9; stroke:none; fill-opacity:1\" cx=\"795.808\" cy=\"571.9\" r=\"14\"/>\n",
       "<circle clip-path=\"url(#clip5802)\" style=\"fill:#000000; stroke:none; fill-opacity:1\" cx=\"795.808\" cy=\"621.019\" r=\"18\"/>\n",
       "<circle clip-path=\"url(#clip5802)\" style=\"fill:#009af9; stroke:none; fill-opacity:1\" cx=\"795.808\" cy=\"621.019\" r=\"14\"/>\n",
       "<circle clip-path=\"url(#clip5802)\" style=\"fill:#000000; stroke:none; fill-opacity:1\" cx=\"795.808\" cy=\"819.754\" r=\"18\"/>\n",
       "<circle clip-path=\"url(#clip5802)\" style=\"fill:#009af9; stroke:none; fill-opacity:1\" cx=\"795.808\" cy=\"819.754\" r=\"14\"/>\n",
       "<circle clip-path=\"url(#clip5802)\" style=\"fill:#000000; stroke:none; fill-opacity:1\" cx=\"795.808\" cy=\"443.219\" r=\"18\"/>\n",
       "<circle clip-path=\"url(#clip5802)\" style=\"fill:#009af9; stroke:none; fill-opacity:1\" cx=\"795.808\" cy=\"443.219\" r=\"14\"/>\n",
       "<circle clip-path=\"url(#clip5802)\" style=\"fill:#000000; stroke:none; fill-opacity:1\" cx=\"795.808\" cy=\"412.542\" r=\"18\"/>\n",
       "<circle clip-path=\"url(#clip5802)\" style=\"fill:#009af9; stroke:none; fill-opacity:1\" cx=\"795.808\" cy=\"412.542\" r=\"14\"/>\n",
       "<circle clip-path=\"url(#clip5802)\" style=\"fill:#000000; stroke:none; fill-opacity:1\" cx=\"795.808\" cy=\"192.93\" r=\"18\"/>\n",
       "<circle clip-path=\"url(#clip5802)\" style=\"fill:#009af9; stroke:none; fill-opacity:1\" cx=\"795.808\" cy=\"192.93\" r=\"14\"/>\n",
       "<circle clip-path=\"url(#clip5802)\" style=\"fill:#000000; stroke:none; fill-opacity:1\" cx=\"795.808\" cy=\"86.2547\" r=\"18\"/>\n",
       "<circle clip-path=\"url(#clip5802)\" style=\"fill:#009af9; stroke:none; fill-opacity:1\" cx=\"795.808\" cy=\"86.2547\" r=\"14\"/>\n",
       "<circle clip-path=\"url(#clip5802)\" style=\"fill:#000000; stroke:none; fill-opacity:1\" cx=\"795.808\" cy=\"778.127\" r=\"18\"/>\n",
       "<circle clip-path=\"url(#clip5802)\" style=\"fill:#009af9; stroke:none; fill-opacity:1\" cx=\"795.808\" cy=\"778.127\" r=\"14\"/>\n",
       "<path clip-path=\"url(#clip5802)\" d=\"\n",
       "M795.808 1386.61 L367.486 1386.61 L1224.13 1386.61 L795.808 1386.61 L795.808 1331.93 L795.808 1386.61  Z\n",
       "  \" fill=\"#009af9\" fill-rule=\"evenodd\" fill-opacity=\"1\"/>\n",
       "<polyline clip-path=\"url(#clip5802)\" style=\"stroke:#000000; stroke-width:4; stroke-opacity:1; fill:none\" points=\"\n",
       "  795.808,1386.61 367.486,1386.61 1224.13,1386.61 795.808,1386.61 795.808,1331.93 795.808,1386.61 \n",
       "  \"/>\n",
       "<path clip-path=\"url(#clip5802)\" d=\"\n",
       "M367.486 1331.93 L367.486 1268.1 L1224.13 1268.1 L1224.13 1331.93 L367.486 1331.93 L367.486 1331.93  Z\n",
       "  \" fill=\"#009af9\" fill-rule=\"evenodd\" fill-opacity=\"1\"/>\n",
       "<polyline clip-path=\"url(#clip5802)\" style=\"stroke:#000000; stroke-width:4; stroke-opacity:1; fill:none\" points=\"\n",
       "  367.486,1331.93 367.486,1268.1 1224.13,1268.1 1224.13,1331.93 367.486,1331.93 \n",
       "  \"/>\n",
       "<path clip-path=\"url(#clip5802)\" d=\"\n",
       "M367.486 1138.14 L367.486 1268.1 L1224.13 1268.1 L1224.13 1138.14 L367.486 1138.14 L367.486 1138.14  Z\n",
       "  \" fill=\"#009af9\" fill-rule=\"evenodd\" fill-opacity=\"1\"/>\n",
       "<polyline clip-path=\"url(#clip5802)\" style=\"stroke:#000000; stroke-width:4; stroke-opacity:1; fill:none\" points=\"\n",
       "  367.486,1138.14 367.486,1268.1 1224.13,1268.1 1224.13,1138.14 367.486,1138.14 \n",
       "  \"/>\n",
       "<path clip-path=\"url(#clip5802)\" d=\"\n",
       "M795.808 871.884 L367.486 871.884 L1224.13 871.884 L795.808 871.884 L795.808 1138.14 L795.808 871.884  Z\n",
       "  \" fill=\"#009af9\" fill-rule=\"evenodd\" fill-opacity=\"1\"/>\n",
       "<polyline clip-path=\"url(#clip5802)\" style=\"stroke:#000000; stroke-width:4; stroke-opacity:1; fill:none\" points=\"\n",
       "  795.808,871.884 367.486,871.884 1224.13,871.884 795.808,871.884 795.808,1138.14 795.808,871.884 \n",
       "  \"/>\n",
       "<path clip-path=\"url(#clip5802)\" d=\"\n",
       "M1866.61 1289.68 L1438.29 1289.68 L2294.93 1289.68 L1866.61 1289.68 L1866.61 1268.53 L1866.61 1289.68  Z\n",
       "  \" fill=\"#009af9\" fill-rule=\"evenodd\" fill-opacity=\"1\"/>\n",
       "<polyline clip-path=\"url(#clip5802)\" style=\"stroke:#000000; stroke-width:4; stroke-opacity:1; fill:none\" points=\"\n",
       "  1866.61,1289.68 1438.29,1289.68 2294.93,1289.68 1866.61,1289.68 1866.61,1268.53 1866.61,1289.68 \n",
       "  \"/>\n",
       "<path clip-path=\"url(#clip5802)\" d=\"\n",
       "M1438.29 1268.53 L1438.29 1221.08 L2294.93 1221.08 L2294.93 1268.53 L1438.29 1268.53 L1438.29 1268.53  Z\n",
       "  \" fill=\"#009af9\" fill-rule=\"evenodd\" fill-opacity=\"1\"/>\n",
       "<polyline clip-path=\"url(#clip5802)\" style=\"stroke:#000000; stroke-width:4; stroke-opacity:1; fill:none\" points=\"\n",
       "  1438.29,1268.53 1438.29,1221.08 2294.93,1221.08 2294.93,1268.53 1438.29,1268.53 \n",
       "  \"/>\n",
       "<path clip-path=\"url(#clip5802)\" d=\"\n",
       "M1438.29 811.504 L1438.29 1221.08 L2294.93 1221.08 L2294.93 811.504 L1438.29 811.504 L1438.29 811.504  Z\n",
       "  \" fill=\"#009af9\" fill-rule=\"evenodd\" fill-opacity=\"1\"/>\n",
       "<polyline clip-path=\"url(#clip5802)\" style=\"stroke:#000000; stroke-width:4; stroke-opacity:1; fill:none\" points=\"\n",
       "  1438.29,811.504 1438.29,1221.08 2294.93,1221.08 2294.93,811.504 1438.29,811.504 \n",
       "  \"/>\n",
       "<path clip-path=\"url(#clip5802)\" d=\"\n",
       "M1866.61 435.171 L1438.29 435.171 L2294.93 435.171 L1866.61 435.171 L1866.61 811.504 L1866.61 435.171  Z\n",
       "  \" fill=\"#009af9\" fill-rule=\"evenodd\" fill-opacity=\"1\"/>\n",
       "<polyline clip-path=\"url(#clip5802)\" style=\"stroke:#000000; stroke-width:4; stroke-opacity:1; fill:none\" points=\"\n",
       "  1866.61,435.171 1438.29,435.171 2294.93,435.171 1866.61,435.171 1866.61,811.504 1866.61,435.171 \n",
       "  \"/>\n",
       "<path clip-path=\"url(#clip5800)\" d=\"\n",
       "M1989.93 251.724 L2280.76 251.724 L2280.76 130.764 L1989.93 130.764  Z\n",
       "  \" fill=\"#ffffff\" fill-rule=\"evenodd\" fill-opacity=\"1\"/>\n",
       "<polyline clip-path=\"url(#clip5800)\" style=\"stroke:#000000; stroke-width:4; stroke-opacity:1; fill:none\" points=\"\n",
       "  1989.93,251.724 2280.76,251.724 2280.76,130.764 1989.93,130.764 1989.93,251.724 \n",
       "  \"/>\n",
       "<circle clip-path=\"url(#clip5800)\" style=\"fill:#000000; stroke:none; fill-opacity:1\" cx=\"2097.93\" cy=\"191.244\" r=\"25\"/>\n",
       "<circle clip-path=\"url(#clip5800)\" style=\"fill:#009af9; stroke:none; fill-opacity:1\" cx=\"2097.93\" cy=\"191.244\" r=\"21\"/>\n",
       "<g clip-path=\"url(#clip5800)\">\n",
       "<text style=\"fill:#000000; fill-opacity:1; font-family:Arial,Helvetica Neue,Helvetica,sans-serif; font-size:48px; text-anchor:start;\" transform=\"rotate(0, 2181.93, 208.744)\" x=\"2181.93\" y=\"208.744\">y1</text>\n",
       "</g>\n",
       "</svg>\n"
      ]
     },
     "execution_count": 77,
     "metadata": {},
     "output_type": "execute_result"
    }
   ],
   "source": [
    "@df walmart boxplot(:IsHoliday, :Weekly_Sales, ylabel=\"Weekly_Sales\", xlabel=\"IsHoliday\")"
   ]
  },
  {
   "cell_type": "code",
   "execution_count": 76,
   "metadata": {},
   "outputs": [
    {
     "data": {
      "image/svg+xml": [
       "<?xml version=\"1.0\" encoding=\"utf-8\"?>\n",
       "<svg xmlns=\"http://www.w3.org/2000/svg\" xmlns:xlink=\"http://www.w3.org/1999/xlink\" width=\"600\" height=\"400\" viewBox=\"0 0 2400 1600\">\n",
       "<defs>\n",
       "  <clipPath id=\"clip5400\">\n",
       "    <rect x=\"0\" y=\"0\" width=\"2400\" height=\"1600\"/>\n",
       "  </clipPath>\n",
       "</defs>\n",
       "<path clip-path=\"url(#clip5400)\" d=\"\n",
       "M0 1600 L2400 1600 L2400 0 L0 0  Z\n",
       "  \" fill=\"#ffffff\" fill-rule=\"evenodd\" fill-opacity=\"1\"/>\n",
       "<defs>\n",
       "  <clipPath id=\"clip5401\">\n",
       "    <rect x=\"480\" y=\"0\" width=\"1681\" height=\"1600\"/>\n",
       "  </clipPath>\n",
       "</defs>\n",
       "<path clip-path=\"url(#clip5400)\" d=\"\n",
       "M314.713 1487.47 L2352.76 1487.47 L2352.76 47.2441 L314.713 47.2441  Z\n",
       "  \" fill=\"#ffffff\" fill-rule=\"evenodd\" fill-opacity=\"1\"/>\n",
       "<defs>\n",
       "  <clipPath id=\"clip5402\">\n",
       "    <rect x=\"314\" y=\"47\" width=\"2039\" height=\"1441\"/>\n",
       "  </clipPath>\n",
       "</defs>\n",
       "<polyline clip-path=\"url(#clip5402)\" style=\"stroke:#000000; stroke-width:2; stroke-opacity:0.1; fill:none\" points=\"\n",
       "  372.393,1487.47 372.393,47.2441 \n",
       "  \"/>\n",
       "<polyline clip-path=\"url(#clip5402)\" style=\"stroke:#000000; stroke-width:2; stroke-opacity:0.1; fill:none\" points=\"\n",
       "  2295.08,1487.47 2295.08,47.2441 \n",
       "  \"/>\n",
       "<polyline clip-path=\"url(#clip5402)\" style=\"stroke:#000000; stroke-width:2; stroke-opacity:0.1; fill:none\" points=\"\n",
       "  314.713,1288.91 2352.76,1288.91 \n",
       "  \"/>\n",
       "<polyline clip-path=\"url(#clip5402)\" style=\"stroke:#000000; stroke-width:2; stroke-opacity:0.1; fill:none\" points=\"\n",
       "  314.713,1061.7 2352.76,1061.7 \n",
       "  \"/>\n",
       "<polyline clip-path=\"url(#clip5402)\" style=\"stroke:#000000; stroke-width:2; stroke-opacity:0.1; fill:none\" points=\"\n",
       "  314.713,834.486 2352.76,834.486 \n",
       "  \"/>\n",
       "<polyline clip-path=\"url(#clip5402)\" style=\"stroke:#000000; stroke-width:2; stroke-opacity:0.1; fill:none\" points=\"\n",
       "  314.713,607.274 2352.76,607.274 \n",
       "  \"/>\n",
       "<polyline clip-path=\"url(#clip5402)\" style=\"stroke:#000000; stroke-width:2; stroke-opacity:0.1; fill:none\" points=\"\n",
       "  314.713,380.062 2352.76,380.062 \n",
       "  \"/>\n",
       "<polyline clip-path=\"url(#clip5402)\" style=\"stroke:#000000; stroke-width:2; stroke-opacity:0.1; fill:none\" points=\"\n",
       "  314.713,152.85 2352.76,152.85 \n",
       "  \"/>\n",
       "<polyline clip-path=\"url(#clip5400)\" style=\"stroke:#000000; stroke-width:4; stroke-opacity:1; fill:none\" points=\"\n",
       "  314.713,1487.47 2352.76,1487.47 \n",
       "  \"/>\n",
       "<polyline clip-path=\"url(#clip5400)\" style=\"stroke:#000000; stroke-width:4; stroke-opacity:1; fill:none\" points=\"\n",
       "  314.713,1487.47 314.713,47.2441 \n",
       "  \"/>\n",
       "<polyline clip-path=\"url(#clip5400)\" style=\"stroke:#000000; stroke-width:4; stroke-opacity:1; fill:none\" points=\"\n",
       "  372.393,1487.47 372.393,1465.87 \n",
       "  \"/>\n",
       "<polyline clip-path=\"url(#clip5400)\" style=\"stroke:#000000; stroke-width:4; stroke-opacity:1; fill:none\" points=\"\n",
       "  2295.08,1487.47 2295.08,1465.87 \n",
       "  \"/>\n",
       "<polyline clip-path=\"url(#clip5400)\" style=\"stroke:#000000; stroke-width:4; stroke-opacity:1; fill:none\" points=\"\n",
       "  314.713,1288.91 345.283,1288.91 \n",
       "  \"/>\n",
       "<polyline clip-path=\"url(#clip5400)\" style=\"stroke:#000000; stroke-width:4; stroke-opacity:1; fill:none\" points=\"\n",
       "  314.713,1061.7 345.283,1061.7 \n",
       "  \"/>\n",
       "<polyline clip-path=\"url(#clip5400)\" style=\"stroke:#000000; stroke-width:4; stroke-opacity:1; fill:none\" points=\"\n",
       "  314.713,834.486 345.283,834.486 \n",
       "  \"/>\n",
       "<polyline clip-path=\"url(#clip5400)\" style=\"stroke:#000000; stroke-width:4; stroke-opacity:1; fill:none\" points=\"\n",
       "  314.713,607.274 345.283,607.274 \n",
       "  \"/>\n",
       "<polyline clip-path=\"url(#clip5400)\" style=\"stroke:#000000; stroke-width:4; stroke-opacity:1; fill:none\" points=\"\n",
       "  314.713,380.062 345.283,380.062 \n",
       "  \"/>\n",
       "<polyline clip-path=\"url(#clip5400)\" style=\"stroke:#000000; stroke-width:4; stroke-opacity:1; fill:none\" points=\"\n",
       "  314.713,152.85 345.283,152.85 \n",
       "  \"/>\n",
       "<g clip-path=\"url(#clip5400)\">\n",
       "<text style=\"fill:#000000; fill-opacity:1; font-family:Arial,Helvetica Neue,Helvetica,sans-serif; font-size:48px; text-anchor:middle;\" transform=\"rotate(0, 372.393, 1541.47)\" x=\"372.393\" y=\"1541.47\">No</text>\n",
       "</g>\n",
       "<g clip-path=\"url(#clip5400)\">\n",
       "<text style=\"fill:#000000; fill-opacity:1; font-family:Arial,Helvetica Neue,Helvetica,sans-serif; font-size:48px; text-anchor:middle;\" transform=\"rotate(0, 2295.08, 1541.47)\" x=\"2295.08\" y=\"1541.47\">Yes</text>\n",
       "</g>\n",
       "<g clip-path=\"url(#clip5400)\">\n",
       "<text style=\"fill:#000000; fill-opacity:1; font-family:Arial,Helvetica Neue,Helvetica,sans-serif; font-size:48px; text-anchor:start;\" transform=\"rotate(0, 93.6653, 1312.64)\" x=\"93.6653\" y=\"1312.64\">2.00×10</text>\n",
       "</g>\n",
       "<g clip-path=\"url(#clip5400)\">\n",
       "<text style=\"fill:#000000; fill-opacity:1; font-family:Arial,Helvetica Neue,Helvetica,sans-serif; font-size:38px; text-anchor:start;\" transform=\"rotate(0, 268.968, 1285.23)\" x=\"268.968\" y=\"1285.23\">4</text>\n",
       "</g>\n",
       "<g clip-path=\"url(#clip5400)\">\n",
       "<text style=\"fill:#000000; fill-opacity:1; font-family:Arial,Helvetica Neue,Helvetica,sans-serif; font-size:48px; text-anchor:start;\" transform=\"rotate(0, 93.6653, 1085.43)\" x=\"93.6653\" y=\"1085.43\">2.25×10</text>\n",
       "</g>\n",
       "<g clip-path=\"url(#clip5400)\">\n",
       "<text style=\"fill:#000000; fill-opacity:1; font-family:Arial,Helvetica Neue,Helvetica,sans-serif; font-size:38px; text-anchor:start;\" transform=\"rotate(0, 268.968, 1058.02)\" x=\"268.968\" y=\"1058.02\">4</text>\n",
       "</g>\n",
       "<g clip-path=\"url(#clip5400)\">\n",
       "<text style=\"fill:#000000; fill-opacity:1; font-family:Arial,Helvetica Neue,Helvetica,sans-serif; font-size:48px; text-anchor:start;\" transform=\"rotate(0, 93.6653, 858.214)\" x=\"93.6653\" y=\"858.214\">2.50×10</text>\n",
       "</g>\n",
       "<g clip-path=\"url(#clip5400)\">\n",
       "<text style=\"fill:#000000; fill-opacity:1; font-family:Arial,Helvetica Neue,Helvetica,sans-serif; font-size:38px; text-anchor:start;\" transform=\"rotate(0, 268.968, 830.804)\" x=\"268.968\" y=\"830.804\">4</text>\n",
       "</g>\n",
       "<g clip-path=\"url(#clip5400)\">\n",
       "<text style=\"fill:#000000; fill-opacity:1; font-family:Arial,Helvetica Neue,Helvetica,sans-serif; font-size:48px; text-anchor:start;\" transform=\"rotate(0, 93.6653, 631.002)\" x=\"93.6653\" y=\"631.002\">2.75×10</text>\n",
       "</g>\n",
       "<g clip-path=\"url(#clip5400)\">\n",
       "<text style=\"fill:#000000; fill-opacity:1; font-family:Arial,Helvetica Neue,Helvetica,sans-serif; font-size:38px; text-anchor:start;\" transform=\"rotate(0, 268.968, 603.592)\" x=\"268.968\" y=\"603.592\">4</text>\n",
       "</g>\n",
       "<g clip-path=\"url(#clip5400)\">\n",
       "<text style=\"fill:#000000; fill-opacity:1; font-family:Arial,Helvetica Neue,Helvetica,sans-serif; font-size:48px; text-anchor:start;\" transform=\"rotate(0, 93.6653, 403.79)\" x=\"93.6653\" y=\"403.79\">3.00×10</text>\n",
       "</g>\n",
       "<g clip-path=\"url(#clip5400)\">\n",
       "<text style=\"fill:#000000; fill-opacity:1; font-family:Arial,Helvetica Neue,Helvetica,sans-serif; font-size:38px; text-anchor:start;\" transform=\"rotate(0, 268.968, 376.38)\" x=\"268.968\" y=\"376.38\">4</text>\n",
       "</g>\n",
       "<g clip-path=\"url(#clip5400)\">\n",
       "<text style=\"fill:#000000; fill-opacity:1; font-family:Arial,Helvetica Neue,Helvetica,sans-serif; font-size:48px; text-anchor:start;\" transform=\"rotate(0, 93.6653, 176.578)\" x=\"93.6653\" y=\"176.578\">3.25×10</text>\n",
       "</g>\n",
       "<g clip-path=\"url(#clip5400)\">\n",
       "<text style=\"fill:#000000; fill-opacity:1; font-family:Arial,Helvetica Neue,Helvetica,sans-serif; font-size:38px; text-anchor:start;\" transform=\"rotate(0, 268.968, 149.168)\" x=\"268.968\" y=\"149.168\">4</text>\n",
       "</g>\n",
       "<polyline clip-path=\"url(#clip5402)\" style=\"stroke:#0000ff; stroke-width:4; stroke-opacity:1; fill:none\" points=\"\n",
       "  372.393,1235.4 372.393,929.651 \n",
       "  \"/>\n",
       "<circle clip-path=\"url(#clip5402)\" style=\"fill:#000000; stroke:none; fill-opacity:1\" cx=\"372.393\" cy=\"1082.53\" r=\"18\"/>\n",
       "<circle clip-path=\"url(#clip5402)\" style=\"fill:#0000ff; stroke:none; fill-opacity:1\" cx=\"372.393\" cy=\"1082.53\" r=\"14\"/>\n",
       "<polyline clip-path=\"url(#clip5402)\" style=\"stroke:#0000ff; stroke-width:4; stroke-opacity:1; fill:none\" points=\"\n",
       "  2295.08,1446.71 2295.08,88.0053 \n",
       "  \"/>\n",
       "<circle clip-path=\"url(#clip5402)\" style=\"fill:#000000; stroke:none; fill-opacity:1\" cx=\"2295.08\" cy=\"767.359\" r=\"18\"/>\n",
       "<circle clip-path=\"url(#clip5402)\" style=\"fill:#0000ff; stroke:none; fill-opacity:1\" cx=\"2295.08\" cy=\"767.359\" r=\"14\"/>\n",
       "<polyline clip-path=\"url(#clip5402)\" style=\"stroke:#0000ff; stroke-width:4; stroke-opacity:1; fill:none\" points=\"\n",
       "  372.393,1082.53 2295.08,767.359 \n",
       "  \"/>\n",
       "</svg>\n"
      ]
     },
     "execution_count": 76,
     "metadata": {},
     "output_type": "execute_result"
    }
   ],
   "source": [
    "# HIDDEN\n",
    "using HypothesisTests\n",
    "\n",
    "ci_edges_no = [ i for i in confint(OneSampleTTest(filter(row -> row[:IsHoliday] == \"No\", walmart)[:, :Weekly_Sales]))]\n",
    "series_mean_no = mean(filter(row -> row[:IsHoliday] == \"No\", walmart)[:, :Weekly_Sales])\n",
    "plot([\"No\", \"No\"], [ci_edges_no], linecolor=:blue, legend=false)\n",
    "scatter!([\"No\"], [series_mean_no], markercolor=:blue, markershape=:circle, legend=false)\n",
    "\n",
    "ci_edges_yes = [ i for i in confint(OneSampleTTest(filter(row -> row[:IsHoliday] == \"Yes\", walmart)[:, :Weekly_Sales]))]\n",
    "series_mean_yes = mean(filter(row -> row[:IsHoliday] == \"Yes\", walmart)[:, :Weekly_Sales])\n",
    "plot!([\"Yes\", \"Yes\"], [ci_edges_yes], linecolor=:blue, legend=false)\n",
    "scatter!([\"Yes\"], [series_mean_yes], markercolor=:blue, markershape=:circle, legend=false)\n",
    "plot!([\"No\", \"Yes\"], [series_mean_no, series_mean_yes], linecolor=:blue, legend=false)"
   ]
  },
  {
   "cell_type": "markdown",
   "metadata": {},
   "source": [
    "The different markdown categories seem to correlate with different weekly sale amounts well."
   ]
  },
  {
   "cell_type": "code",
   "execution_count": 112,
   "metadata": {},
   "outputs": [
    {
     "data": {
      "image/svg+xml": [
       "<?xml version=\"1.0\" encoding=\"utf-8\"?>\n",
       "<svg xmlns=\"http://www.w3.org/2000/svg\" xmlns:xlink=\"http://www.w3.org/1999/xlink\" width=\"600\" height=\"400\" viewBox=\"0 0 2400 1600\">\n",
       "<defs>\n",
       "  <clipPath id=\"clip3000\">\n",
       "    <rect x=\"0\" y=\"0\" width=\"2400\" height=\"1600\"/>\n",
       "  </clipPath>\n",
       "</defs>\n",
       "<path clip-path=\"url(#clip3000)\" d=\"\n",
       "M0 1600 L2400 1600 L2400 0 L0 0  Z\n",
       "  \" fill=\"#ffffff\" fill-rule=\"evenodd\" fill-opacity=\"1\"/>\n",
       "<defs>\n",
       "  <clipPath id=\"clip3001\">\n",
       "    <rect x=\"480\" y=\"0\" width=\"1681\" height=\"1600\"/>\n",
       "  </clipPath>\n",
       "</defs>\n",
       "<path clip-path=\"url(#clip3000)\" d=\"\n",
       "M247.807 1487.47 L2352.76 1487.47 L2352.76 47.2441 L247.807 47.2441  Z\n",
       "  \" fill=\"#ffffff\" fill-rule=\"evenodd\" fill-opacity=\"1\"/>\n",
       "<defs>\n",
       "  <clipPath id=\"clip3002\">\n",
       "    <rect x=\"247\" y=\"47\" width=\"2106\" height=\"1441\"/>\n",
       "  </clipPath>\n",
       "</defs>\n",
       "<polyline clip-path=\"url(#clip3002)\" style=\"stroke:#000000; stroke-width:2; stroke-opacity:0.1; fill:none\" points=\"\n",
       "  409.217,1487.47 409.217,47.2441 \n",
       "  \"/>\n",
       "<polyline clip-path=\"url(#clip3002)\" style=\"stroke:#000000; stroke-width:2; stroke-opacity:0.1; fill:none\" points=\"\n",
       "  765.643,1487.47 765.643,47.2441 \n",
       "  \"/>\n",
       "<polyline clip-path=\"url(#clip3002)\" style=\"stroke:#000000; stroke-width:2; stroke-opacity:0.1; fill:none\" points=\"\n",
       "  1122.07,1487.47 1122.07,47.2441 \n",
       "  \"/>\n",
       "<polyline clip-path=\"url(#clip3002)\" style=\"stroke:#000000; stroke-width:2; stroke-opacity:0.1; fill:none\" points=\"\n",
       "  1478.49,1487.47 1478.49,47.2441 \n",
       "  \"/>\n",
       "<polyline clip-path=\"url(#clip3002)\" style=\"stroke:#000000; stroke-width:2; stroke-opacity:0.1; fill:none\" points=\"\n",
       "  1834.92,1487.47 1834.92,47.2441 \n",
       "  \"/>\n",
       "<polyline clip-path=\"url(#clip3002)\" style=\"stroke:#000000; stroke-width:2; stroke-opacity:0.1; fill:none\" points=\"\n",
       "  2191.35,1487.47 2191.35,47.2441 \n",
       "  \"/>\n",
       "<polyline clip-path=\"url(#clip3002)\" style=\"stroke:#000000; stroke-width:2; stroke-opacity:0.1; fill:none\" points=\"\n",
       "  247.807,1274.33 2352.76,1274.33 \n",
       "  \"/>\n",
       "<polyline clip-path=\"url(#clip3002)\" style=\"stroke:#000000; stroke-width:2; stroke-opacity:0.1; fill:none\" points=\"\n",
       "  247.807,958.749 2352.76,958.749 \n",
       "  \"/>\n",
       "<polyline clip-path=\"url(#clip3002)\" style=\"stroke:#000000; stroke-width:2; stroke-opacity:0.1; fill:none\" points=\"\n",
       "  247.807,643.172 2352.76,643.172 \n",
       "  \"/>\n",
       "<polyline clip-path=\"url(#clip3002)\" style=\"stroke:#000000; stroke-width:2; stroke-opacity:0.1; fill:none\" points=\"\n",
       "  247.807,327.595 2352.76,327.595 \n",
       "  \"/>\n",
       "<polyline clip-path=\"url(#clip3000)\" style=\"stroke:#000000; stroke-width:4; stroke-opacity:1; fill:none\" points=\"\n",
       "  247.807,1487.47 2352.76,1487.47 \n",
       "  \"/>\n",
       "<polyline clip-path=\"url(#clip3000)\" style=\"stroke:#000000; stroke-width:4; stroke-opacity:1; fill:none\" points=\"\n",
       "  247.807,1487.47 247.807,47.2441 \n",
       "  \"/>\n",
       "<polyline clip-path=\"url(#clip3000)\" style=\"stroke:#000000; stroke-width:4; stroke-opacity:1; fill:none\" points=\"\n",
       "  409.217,1487.47 409.217,1465.87 \n",
       "  \"/>\n",
       "<polyline clip-path=\"url(#clip3000)\" style=\"stroke:#000000; stroke-width:4; stroke-opacity:1; fill:none\" points=\"\n",
       "  765.643,1487.47 765.643,1465.87 \n",
       "  \"/>\n",
       "<polyline clip-path=\"url(#clip3000)\" style=\"stroke:#000000; stroke-width:4; stroke-opacity:1; fill:none\" points=\"\n",
       "  1122.07,1487.47 1122.07,1465.87 \n",
       "  \"/>\n",
       "<polyline clip-path=\"url(#clip3000)\" style=\"stroke:#000000; stroke-width:4; stroke-opacity:1; fill:none\" points=\"\n",
       "  1478.49,1487.47 1478.49,1465.87 \n",
       "  \"/>\n",
       "<polyline clip-path=\"url(#clip3000)\" style=\"stroke:#000000; stroke-width:4; stroke-opacity:1; fill:none\" points=\"\n",
       "  1834.92,1487.47 1834.92,1465.87 \n",
       "  \"/>\n",
       "<polyline clip-path=\"url(#clip3000)\" style=\"stroke:#000000; stroke-width:4; stroke-opacity:1; fill:none\" points=\"\n",
       "  2191.35,1487.47 2191.35,1465.87 \n",
       "  \"/>\n",
       "<polyline clip-path=\"url(#clip3000)\" style=\"stroke:#000000; stroke-width:4; stroke-opacity:1; fill:none\" points=\"\n",
       "  247.807,1274.33 279.381,1274.33 \n",
       "  \"/>\n",
       "<polyline clip-path=\"url(#clip3000)\" style=\"stroke:#000000; stroke-width:4; stroke-opacity:1; fill:none\" points=\"\n",
       "  247.807,958.749 279.381,958.749 \n",
       "  \"/>\n",
       "<polyline clip-path=\"url(#clip3000)\" style=\"stroke:#000000; stroke-width:4; stroke-opacity:1; fill:none\" points=\"\n",
       "  247.807,643.172 279.381,643.172 \n",
       "  \"/>\n",
       "<polyline clip-path=\"url(#clip3000)\" style=\"stroke:#000000; stroke-width:4; stroke-opacity:1; fill:none\" points=\"\n",
       "  247.807,327.595 279.381,327.595 \n",
       "  \"/>\n",
       "<g clip-path=\"url(#clip3000)\">\n",
       "<text style=\"fill:#000000; fill-opacity:1; font-family:Arial,Helvetica Neue,Helvetica,sans-serif; font-size:48px; text-anchor:middle;\" transform=\"rotate(0, 409.217, 1541.47)\" x=\"409.217\" y=\"1541.47\">MarkDown1</text>\n",
       "</g>\n",
       "<g clip-path=\"url(#clip3000)\">\n",
       "<text style=\"fill:#000000; fill-opacity:1; font-family:Arial,Helvetica Neue,Helvetica,sans-serif; font-size:48px; text-anchor:middle;\" transform=\"rotate(0, 765.643, 1541.47)\" x=\"765.643\" y=\"1541.47\">MarkDown2</text>\n",
       "</g>\n",
       "<g clip-path=\"url(#clip3000)\">\n",
       "<text style=\"fill:#000000; fill-opacity:1; font-family:Arial,Helvetica Neue,Helvetica,sans-serif; font-size:48px; text-anchor:middle;\" transform=\"rotate(0, 1122.07, 1541.47)\" x=\"1122.07\" y=\"1541.47\">MarkDown3</text>\n",
       "</g>\n",
       "<g clip-path=\"url(#clip3000)\">\n",
       "<text style=\"fill:#000000; fill-opacity:1; font-family:Arial,Helvetica Neue,Helvetica,sans-serif; font-size:48px; text-anchor:middle;\" transform=\"rotate(0, 1478.49, 1541.47)\" x=\"1478.49\" y=\"1541.47\">MarkDown4</text>\n",
       "</g>\n",
       "<g clip-path=\"url(#clip3000)\">\n",
       "<text style=\"fill:#000000; fill-opacity:1; font-family:Arial,Helvetica Neue,Helvetica,sans-serif; font-size:48px; text-anchor:middle;\" transform=\"rotate(0, 1834.92, 1541.47)\" x=\"1834.92\" y=\"1541.47\">MarkDown5</text>\n",
       "</g>\n",
       "<g clip-path=\"url(#clip3000)\">\n",
       "<text style=\"fill:#000000; fill-opacity:1; font-family:Arial,Helvetica Neue,Helvetica,sans-serif; font-size:48px; text-anchor:middle;\" transform=\"rotate(0, 2191.35, 1541.47)\" x=\"2191.35\" y=\"1541.47\">No Markdown</text>\n",
       "</g>\n",
       "<g clip-path=\"url(#clip3000)\">\n",
       "<text style=\"fill:#000000; fill-opacity:1; font-family:Arial,Helvetica Neue,Helvetica,sans-serif; font-size:48px; text-anchor:start;\" transform=\"rotate(0, 93.6653, 1298.05)\" x=\"93.6653\" y=\"1298.05\">2×10</text>\n",
       "</g>\n",
       "<g clip-path=\"url(#clip3000)\">\n",
       "<text style=\"fill:#000000; fill-opacity:1; font-family:Arial,Helvetica Neue,Helvetica,sans-serif; font-size:38px; text-anchor:start;\" transform=\"rotate(0, 202.062, 1270.64)\" x=\"202.062\" y=\"1270.64\">4</text>\n",
       "</g>\n",
       "<g clip-path=\"url(#clip3000)\">\n",
       "<text style=\"fill:#000000; fill-opacity:1; font-family:Arial,Helvetica Neue,Helvetica,sans-serif; font-size:48px; text-anchor:start;\" transform=\"rotate(0, 93.6653, 982.476)\" x=\"93.6653\" y=\"982.476\">3×10</text>\n",
       "</g>\n",
       "<g clip-path=\"url(#clip3000)\">\n",
       "<text style=\"fill:#000000; fill-opacity:1; font-family:Arial,Helvetica Neue,Helvetica,sans-serif; font-size:38px; text-anchor:start;\" transform=\"rotate(0, 202.062, 955.066)\" x=\"202.062\" y=\"955.066\">4</text>\n",
       "</g>\n",
       "<g clip-path=\"url(#clip3000)\">\n",
       "<text style=\"fill:#000000; fill-opacity:1; font-family:Arial,Helvetica Neue,Helvetica,sans-serif; font-size:48px; text-anchor:start;\" transform=\"rotate(0, 93.6653, 666.899)\" x=\"93.6653\" y=\"666.899\">4×10</text>\n",
       "</g>\n",
       "<g clip-path=\"url(#clip3000)\">\n",
       "<text style=\"fill:#000000; fill-opacity:1; font-family:Arial,Helvetica Neue,Helvetica,sans-serif; font-size:38px; text-anchor:start;\" transform=\"rotate(0, 202.062, 639.489)\" x=\"202.062\" y=\"639.489\">4</text>\n",
       "</g>\n",
       "<g clip-path=\"url(#clip3000)\">\n",
       "<text style=\"fill:#000000; fill-opacity:1; font-family:Arial,Helvetica Neue,Helvetica,sans-serif; font-size:48px; text-anchor:start;\" transform=\"rotate(0, 93.6653, 351.323)\" x=\"93.6653\" y=\"351.323\">5×10</text>\n",
       "</g>\n",
       "<g clip-path=\"url(#clip3000)\">\n",
       "<text style=\"fill:#000000; fill-opacity:1; font-family:Arial,Helvetica Neue,Helvetica,sans-serif; font-size:38px; text-anchor:start;\" transform=\"rotate(0, 202.062, 323.912)\" x=\"202.062\" y=\"323.912\">4</text>\n",
       "</g>\n",
       "<circle clip-path=\"url(#clip3002)\" style=\"fill:#000000; stroke:none; fill-opacity:1\" cx=\"409.217\" cy=\"460.988\" r=\"18\"/>\n",
       "<circle clip-path=\"url(#clip3002)\" style=\"fill:#009af9; stroke:none; fill-opacity:1\" cx=\"409.217\" cy=\"460.988\" r=\"14\"/>\n",
       "<circle clip-path=\"url(#clip3002)\" style=\"fill:#000000; stroke:none; fill-opacity:1\" cx=\"409.217\" cy=\"738.208\" r=\"18\"/>\n",
       "<circle clip-path=\"url(#clip3002)\" style=\"fill:#009af9; stroke:none; fill-opacity:1\" cx=\"409.217\" cy=\"738.208\" r=\"14\"/>\n",
       "<circle clip-path=\"url(#clip3002)\" style=\"fill:#000000; stroke:none; fill-opacity:1\" cx=\"409.217\" cy=\"810.926\" r=\"18\"/>\n",
       "<circle clip-path=\"url(#clip3002)\" style=\"fill:#009af9; stroke:none; fill-opacity:1\" cx=\"409.217\" cy=\"810.926\" r=\"14\"/>\n",
       "<path clip-path=\"url(#clip3002)\" d=\"\n",
       "M409.217 1398.49 L307.381 1398.49 L511.053 1398.49 L409.217 1398.49 L409.217 1358.56 L409.217 1398.49  Z\n",
       "  \" fill=\"#009af9\" fill-rule=\"evenodd\" fill-opacity=\"1\"/>\n",
       "<polyline clip-path=\"url(#clip3002)\" style=\"stroke:#000000; stroke-width:4; stroke-opacity:1; fill:none\" points=\"\n",
       "  409.217,1398.49 307.381,1398.49 511.053,1398.49 409.217,1398.49 409.217,1358.56 409.217,1398.49 \n",
       "  \"/>\n",
       "<path clip-path=\"url(#clip3002)\" d=\"\n",
       "M307.381 1358.56 L307.381 1315.68 L511.053 1315.68 L511.053 1358.56 L307.381 1358.56 L307.381 1358.56  Z\n",
       "  \" fill=\"#009af9\" fill-rule=\"evenodd\" fill-opacity=\"1\"/>\n",
       "<polyline clip-path=\"url(#clip3002)\" style=\"stroke:#000000; stroke-width:4; stroke-opacity:1; fill:none\" points=\"\n",
       "  307.381,1358.56 307.381,1315.68 511.053,1315.68 511.053,1358.56 307.381,1358.56 \n",
       "  \"/>\n",
       "<path clip-path=\"url(#clip3002)\" d=\"\n",
       "M307.381 1199.63 L307.381 1315.68 L511.053 1315.68 L511.053 1199.63 L307.381 1199.63 L307.381 1199.63  Z\n",
       "  \" fill=\"#009af9\" fill-rule=\"evenodd\" fill-opacity=\"1\"/>\n",
       "<polyline clip-path=\"url(#clip3002)\" style=\"stroke:#000000; stroke-width:4; stroke-opacity:1; fill:none\" points=\"\n",
       "  307.381,1199.63 307.381,1315.68 511.053,1315.68 511.053,1199.63 307.381,1199.63 \n",
       "  \"/>\n",
       "<path clip-path=\"url(#clip3002)\" d=\"\n",
       "M409.217 991.794 L307.381 991.794 L511.053 991.794 L409.217 991.794 L409.217 1199.63 L409.217 991.794  Z\n",
       "  \" fill=\"#009af9\" fill-rule=\"evenodd\" fill-opacity=\"1\"/>\n",
       "<polyline clip-path=\"url(#clip3002)\" style=\"stroke:#000000; stroke-width:4; stroke-opacity:1; fill:none\" points=\"\n",
       "  409.217,991.794 307.381,991.794 511.053,991.794 409.217,991.794 409.217,1199.63 409.217,991.794 \n",
       "  \"/>\n",
       "<circle clip-path=\"url(#clip3002)\" style=\"fill:#000000; stroke:none; fill-opacity:1\" cx=\"765.643\" cy=\"199.468\" r=\"18\"/>\n",
       "<circle clip-path=\"url(#clip3002)\" style=\"fill:#e26f46; stroke:none; fill-opacity:1\" cx=\"765.643\" cy=\"199.468\" r=\"14\"/>\n",
       "<circle clip-path=\"url(#clip3002)\" style=\"fill:#000000; stroke:none; fill-opacity:1\" cx=\"765.643\" cy=\"88.0053\" r=\"18\"/>\n",
       "<circle clip-path=\"url(#clip3002)\" style=\"fill:#e26f46; stroke:none; fill-opacity:1\" cx=\"765.643\" cy=\"88.0053\" r=\"14\"/>\n",
       "<path clip-path=\"url(#clip3002)\" d=\"\n",
       "M765.643 1389.59 L663.807 1389.59 L867.479 1389.59 L765.643 1389.59 L765.643 1370.15 L765.643 1389.59  Z\n",
       "  \" fill=\"#e26f46\" fill-rule=\"evenodd\" fill-opacity=\"1\"/>\n",
       "<polyline clip-path=\"url(#clip3002)\" style=\"stroke:#000000; stroke-width:4; stroke-opacity:1; fill:none\" points=\"\n",
       "  765.643,1389.59 663.807,1389.59 867.479,1389.59 765.643,1389.59 765.643,1370.15 765.643,1389.59 \n",
       "  \"/>\n",
       "<path clip-path=\"url(#clip3002)\" d=\"\n",
       "M663.807 1370.15 L663.807 1321.1 L867.479 1321.1 L867.479 1370.15 L663.807 1370.15 L663.807 1370.15  Z\n",
       "  \" fill=\"#e26f46\" fill-rule=\"evenodd\" fill-opacity=\"1\"/>\n",
       "<polyline clip-path=\"url(#clip3002)\" style=\"stroke:#000000; stroke-width:4; stroke-opacity:1; fill:none\" points=\"\n",
       "  663.807,1370.15 663.807,1321.1 867.479,1321.1 867.479,1370.15 663.807,1370.15 \n",
       "  \"/>\n",
       "<path clip-path=\"url(#clip3002)\" d=\"\n",
       "M663.807 1168.58 L663.807 1321.1 L867.479 1321.1 L867.479 1168.58 L663.807 1168.58 L663.807 1168.58  Z\n",
       "  \" fill=\"#e26f46\" fill-rule=\"evenodd\" fill-opacity=\"1\"/>\n",
       "<polyline clip-path=\"url(#clip3002)\" style=\"stroke:#000000; stroke-width:4; stroke-opacity:1; fill:none\" points=\"\n",
       "  663.807,1168.58 663.807,1321.1 867.479,1321.1 867.479,1168.58 663.807,1168.58 \n",
       "  \"/>\n",
       "<path clip-path=\"url(#clip3002)\" d=\"\n",
       "M765.643 1142.25 L663.807 1142.25 L867.479 1142.25 L765.643 1142.25 L765.643 1168.58 L765.643 1142.25  Z\n",
       "  \" fill=\"#e26f46\" fill-rule=\"evenodd\" fill-opacity=\"1\"/>\n",
       "<polyline clip-path=\"url(#clip3002)\" style=\"stroke:#000000; stroke-width:4; stroke-opacity:1; fill:none\" points=\"\n",
       "  765.643,1142.25 663.807,1142.25 867.479,1142.25 765.643,1142.25 765.643,1168.58 765.643,1142.25 \n",
       "  \"/>\n",
       "<path clip-path=\"url(#clip3002)\" d=\"\n",
       "M1122.07 1409.3 L1020.23 1409.3 L1223.9 1409.3 L1122.07 1409.3 L1122.07 1368.37 L1122.07 1409.3  Z\n",
       "  \" fill=\"#3da44d\" fill-rule=\"evenodd\" fill-opacity=\"1\"/>\n",
       "<polyline clip-path=\"url(#clip3002)\" style=\"stroke:#000000; stroke-width:4; stroke-opacity:1; fill:none\" points=\"\n",
       "  1122.07,1409.3 1020.23,1409.3 1223.9,1409.3 1122.07,1409.3 1122.07,1368.37 1122.07,1409.3 \n",
       "  \"/>\n",
       "<path clip-path=\"url(#clip3002)\" d=\"\n",
       "M1020.23 1368.37 L1020.23 1327.44 L1223.9 1327.44 L1223.9 1368.37 L1020.23 1368.37 L1020.23 1368.37  Z\n",
       "  \" fill=\"#3da44d\" fill-rule=\"evenodd\" fill-opacity=\"1\"/>\n",
       "<polyline clip-path=\"url(#clip3002)\" style=\"stroke:#000000; stroke-width:4; stroke-opacity:1; fill:none\" points=\"\n",
       "  1020.23,1368.37 1020.23,1327.44 1223.9,1327.44 1223.9,1368.37 1020.23,1368.37 \n",
       "  \"/>\n",
       "<path clip-path=\"url(#clip3002)\" d=\"\n",
       "M1020.23 1286.5 L1020.23 1327.44 L1223.9 1327.44 L1223.9 1286.5 L1020.23 1286.5 L1020.23 1286.5  Z\n",
       "  \" fill=\"#3da44d\" fill-rule=\"evenodd\" fill-opacity=\"1\"/>\n",
       "<polyline clip-path=\"url(#clip3002)\" style=\"stroke:#000000; stroke-width:4; stroke-opacity:1; fill:none\" points=\"\n",
       "  1020.23,1286.5 1020.23,1327.44 1223.9,1327.44 1223.9,1286.5 1020.23,1286.5 \n",
       "  \"/>\n",
       "<path clip-path=\"url(#clip3002)\" d=\"\n",
       "M1122.07 1245.57 L1020.23 1245.57 L1223.9 1245.57 L1122.07 1245.57 L1122.07 1286.5 L1122.07 1245.57  Z\n",
       "  \" fill=\"#3da44d\" fill-rule=\"evenodd\" fill-opacity=\"1\"/>\n",
       "<polyline clip-path=\"url(#clip3002)\" style=\"stroke:#000000; stroke-width:4; stroke-opacity:1; fill:none\" points=\"\n",
       "  1122.07,1245.57 1020.23,1245.57 1223.9,1245.57 1122.07,1245.57 1122.07,1286.5 1122.07,1245.57 \n",
       "  \"/>\n",
       "<path clip-path=\"url(#clip3002)\" d=\"\n",
       "M1478.49 1409.04 L1376.66 1409.04 L1580.33 1409.04 L1478.49 1409.04 L1478.49 1374.47 L1478.49 1409.04  Z\n",
       "  \" fill=\"#c271d2\" fill-rule=\"evenodd\" fill-opacity=\"1\"/>\n",
       "<polyline clip-path=\"url(#clip3002)\" style=\"stroke:#000000; stroke-width:4; stroke-opacity:1; fill:none\" points=\"\n",
       "  1478.49,1409.04 1376.66,1409.04 1580.33,1409.04 1478.49,1409.04 1478.49,1374.47 1478.49,1409.04 \n",
       "  \"/>\n",
       "<path clip-path=\"url(#clip3002)\" d=\"\n",
       "M1376.66 1374.47 L1376.66 1339.9 L1580.33 1339.9 L1580.33 1374.47 L1376.66 1374.47 L1376.66 1374.47  Z\n",
       "  \" fill=\"#c271d2\" fill-rule=\"evenodd\" fill-opacity=\"1\"/>\n",
       "<polyline clip-path=\"url(#clip3002)\" style=\"stroke:#000000; stroke-width:4; stroke-opacity:1; fill:none\" points=\"\n",
       "  1376.66,1374.47 1376.66,1339.9 1580.33,1339.9 1580.33,1374.47 1376.66,1374.47 \n",
       "  \"/>\n",
       "<path clip-path=\"url(#clip3002)\" d=\"\n",
       "M1376.66 1305.33 L1376.66 1339.9 L1580.33 1339.9 L1580.33 1305.33 L1376.66 1305.33 L1376.66 1305.33  Z\n",
       "  \" fill=\"#c271d2\" fill-rule=\"evenodd\" fill-opacity=\"1\"/>\n",
       "<polyline clip-path=\"url(#clip3002)\" style=\"stroke:#000000; stroke-width:4; stroke-opacity:1; fill:none\" points=\"\n",
       "  1376.66,1305.33 1376.66,1339.9 1580.33,1339.9 1580.33,1305.33 1376.66,1305.33 \n",
       "  \"/>\n",
       "<path clip-path=\"url(#clip3002)\" d=\"\n",
       "M1478.49 1270.76 L1376.66 1270.76 L1580.33 1270.76 L1478.49 1270.76 L1478.49 1305.33 L1478.49 1270.76  Z\n",
       "  \" fill=\"#c271d2\" fill-rule=\"evenodd\" fill-opacity=\"1\"/>\n",
       "<polyline clip-path=\"url(#clip3002)\" style=\"stroke:#000000; stroke-width:4; stroke-opacity:1; fill:none\" points=\"\n",
       "  1478.49,1270.76 1376.66,1270.76 1580.33,1270.76 1478.49,1270.76 1478.49,1305.33 1478.49,1270.76 \n",
       "  \"/>\n",
       "<circle clip-path=\"url(#clip3002)\" style=\"fill:#000000; stroke:none; fill-opacity:1\" cx=\"1834.92\" cy=\"428.935\" r=\"18\"/>\n",
       "<circle clip-path=\"url(#clip3002)\" style=\"fill:#ac8d18; stroke:none; fill-opacity:1\" cx=\"1834.92\" cy=\"428.935\" r=\"14\"/>\n",
       "<path clip-path=\"url(#clip3002)\" d=\"\n",
       "M1834.92 1391.52 L1733.08 1391.52 L1936.76 1391.52 L1834.92 1391.52 L1834.92 1369.75 L1834.92 1391.52  Z\n",
       "  \" fill=\"#ac8d18\" fill-rule=\"evenodd\" fill-opacity=\"1\"/>\n",
       "<polyline clip-path=\"url(#clip3002)\" style=\"stroke:#000000; stroke-width:4; stroke-opacity:1; fill:none\" points=\"\n",
       "  1834.92,1391.52 1733.08,1391.52 1936.76,1391.52 1834.92,1391.52 1834.92,1369.75 1834.92,1391.52 \n",
       "  \"/>\n",
       "<path clip-path=\"url(#clip3002)\" d=\"\n",
       "M1733.08 1369.75 L1733.08 1307.53 L1936.76 1307.53 L1936.76 1369.75 L1733.08 1369.75 L1733.08 1369.75  Z\n",
       "  \" fill=\"#ac8d18\" fill-rule=\"evenodd\" fill-opacity=\"1\"/>\n",
       "<polyline clip-path=\"url(#clip3002)\" style=\"stroke:#000000; stroke-width:4; stroke-opacity:1; fill:none\" points=\"\n",
       "  1733.08,1369.75 1733.08,1307.53 1936.76,1307.53 1936.76,1369.75 1733.08,1369.75 \n",
       "  \"/>\n",
       "<path clip-path=\"url(#clip3002)\" d=\"\n",
       "M1733.08 1107.28 L1733.08 1307.53 L1936.76 1307.53 L1936.76 1107.28 L1733.08 1107.28 L1733.08 1107.28  Z\n",
       "  \" fill=\"#ac8d18\" fill-rule=\"evenodd\" fill-opacity=\"1\"/>\n",
       "<polyline clip-path=\"url(#clip3002)\" style=\"stroke:#000000; stroke-width:4; stroke-opacity:1; fill:none\" points=\"\n",
       "  1733.08,1107.28 1733.08,1307.53 1936.76,1307.53 1936.76,1107.28 1733.08,1107.28 \n",
       "  \"/>\n",
       "<path clip-path=\"url(#clip3002)\" d=\"\n",
       "M1834.92 854.422 L1733.08 854.422 L1936.76 854.422 L1834.92 854.422 L1834.92 1107.28 L1834.92 854.422  Z\n",
       "  \" fill=\"#ac8d18\" fill-rule=\"evenodd\" fill-opacity=\"1\"/>\n",
       "<polyline clip-path=\"url(#clip3002)\" style=\"stroke:#000000; stroke-width:4; stroke-opacity:1; fill:none\" points=\"\n",
       "  1834.92,854.422 1733.08,854.422 1936.76,854.422 1834.92,854.422 1834.92,1107.28 1834.92,854.422 \n",
       "  \"/>\n",
       "<circle clip-path=\"url(#clip3002)\" style=\"fill:#000000; stroke:none; fill-opacity:1\" cx=\"2191.35\" cy=\"452.58\" r=\"18\"/>\n",
       "<circle clip-path=\"url(#clip3002)\" style=\"fill:#00a9ad; stroke:none; fill-opacity:1\" cx=\"2191.35\" cy=\"452.58\" r=\"14\"/>\n",
       "<circle clip-path=\"url(#clip3002)\" style=\"fill:#000000; stroke:none; fill-opacity:1\" cx=\"2191.35\" cy=\"592.82\" r=\"18\"/>\n",
       "<circle clip-path=\"url(#clip3002)\" style=\"fill:#00a9ad; stroke:none; fill-opacity:1\" cx=\"2191.35\" cy=\"592.82\" r=\"14\"/>\n",
       "<circle clip-path=\"url(#clip3002)\" style=\"fill:#000000; stroke:none; fill-opacity:1\" cx=\"2191.35\" cy=\"98.5358\" r=\"18\"/>\n",
       "<circle clip-path=\"url(#clip3002)\" style=\"fill:#00a9ad; stroke:none; fill-opacity:1\" cx=\"2191.35\" cy=\"98.5358\" r=\"14\"/>\n",
       "<circle clip-path=\"url(#clip3002)\" style=\"fill:#000000; stroke:none; fill-opacity:1\" cx=\"2191.35\" cy=\"549.732\" r=\"18\"/>\n",
       "<circle clip-path=\"url(#clip3002)\" style=\"fill:#00a9ad; stroke:none; fill-opacity:1\" cx=\"2191.35\" cy=\"549.732\" r=\"14\"/>\n",
       "<circle clip-path=\"url(#clip3002)\" style=\"fill:#000000; stroke:none; fill-opacity:1\" cx=\"2191.35\" cy=\"686.061\" r=\"18\"/>\n",
       "<circle clip-path=\"url(#clip3002)\" style=\"fill:#00a9ad; stroke:none; fill-opacity:1\" cx=\"2191.35\" cy=\"686.061\" r=\"14\"/>\n",
       "<circle clip-path=\"url(#clip3002)\" style=\"fill:#000000; stroke:none; fill-opacity:1\" cx=\"2191.35\" cy=\"824.979\" r=\"18\"/>\n",
       "<circle clip-path=\"url(#clip3002)\" style=\"fill:#00a9ad; stroke:none; fill-opacity:1\" cx=\"2191.35\" cy=\"824.979\" r=\"14\"/>\n",
       "<circle clip-path=\"url(#clip3002)\" style=\"fill:#000000; stroke:none; fill-opacity:1\" cx=\"2191.35\" cy=\"488.133\" r=\"18\"/>\n",
       "<circle clip-path=\"url(#clip3002)\" style=\"fill:#00a9ad; stroke:none; fill-opacity:1\" cx=\"2191.35\" cy=\"488.133\" r=\"14\"/>\n",
       "<circle clip-path=\"url(#clip3002)\" style=\"fill:#000000; stroke:none; fill-opacity:1\" cx=\"2191.35\" cy=\"140.419\" r=\"18\"/>\n",
       "<circle clip-path=\"url(#clip3002)\" style=\"fill:#00a9ad; stroke:none; fill-opacity:1\" cx=\"2191.35\" cy=\"140.419\" r=\"14\"/>\n",
       "<circle clip-path=\"url(#clip3002)\" style=\"fill:#000000; stroke:none; fill-opacity:1\" cx=\"2191.35\" cy=\"709.848\" r=\"18\"/>\n",
       "<circle clip-path=\"url(#clip3002)\" style=\"fill:#00a9ad; stroke:none; fill-opacity:1\" cx=\"2191.35\" cy=\"709.848\" r=\"14\"/>\n",
       "<circle clip-path=\"url(#clip3002)\" style=\"fill:#000000; stroke:none; fill-opacity:1\" cx=\"2191.35\" cy=\"427.132\" r=\"18\"/>\n",
       "<circle clip-path=\"url(#clip3002)\" style=\"fill:#00a9ad; stroke:none; fill-opacity:1\" cx=\"2191.35\" cy=\"427.132\" r=\"14\"/>\n",
       "<circle clip-path=\"url(#clip3002)\" style=\"fill:#000000; stroke:none; fill-opacity:1\" cx=\"2191.35\" cy=\"311.491\" r=\"18\"/>\n",
       "<circle clip-path=\"url(#clip3002)\" style=\"fill:#00a9ad; stroke:none; fill-opacity:1\" cx=\"2191.35\" cy=\"311.491\" r=\"14\"/>\n",
       "<circle clip-path=\"url(#clip3002)\" style=\"fill:#000000; stroke:none; fill-opacity:1\" cx=\"2191.35\" cy=\"595.444\" r=\"18\"/>\n",
       "<circle clip-path=\"url(#clip3002)\" style=\"fill:#00a9ad; stroke:none; fill-opacity:1\" cx=\"2191.35\" cy=\"595.444\" r=\"14\"/>\n",
       "<circle clip-path=\"url(#clip3002)\" style=\"fill:#000000; stroke:none; fill-opacity:1\" cx=\"2191.35\" cy=\"646.768\" r=\"18\"/>\n",
       "<circle clip-path=\"url(#clip3002)\" style=\"fill:#00a9ad; stroke:none; fill-opacity:1\" cx=\"2191.35\" cy=\"646.768\" r=\"14\"/>\n",
       "<path clip-path=\"url(#clip3002)\" d=\"\n",
       "M2191.35 1446.71 L2089.51 1446.71 L2293.18 1446.71 L2191.35 1446.71 L2191.35 1395.89 L2191.35 1446.71  Z\n",
       "  \" fill=\"#00a9ad\" fill-rule=\"evenodd\" fill-opacity=\"1\"/>\n",
       "<polyline clip-path=\"url(#clip3002)\" style=\"stroke:#000000; stroke-width:4; stroke-opacity:1; fill:none\" points=\"\n",
       "  2191.35,1446.71 2089.51,1446.71 2293.18,1446.71 2191.35,1446.71 2191.35,1395.89 2191.35,1446.71 \n",
       "  \"/>\n",
       "<path clip-path=\"url(#clip3002)\" d=\"\n",
       "M2089.51 1395.89 L2089.51 1321.71 L2293.18 1321.71 L2293.18 1395.89 L2089.51 1395.89 L2089.51 1395.89  Z\n",
       "  \" fill=\"#00a9ad\" fill-rule=\"evenodd\" fill-opacity=\"1\"/>\n",
       "<polyline clip-path=\"url(#clip3002)\" style=\"stroke:#000000; stroke-width:4; stroke-opacity:1; fill:none\" points=\"\n",
       "  2089.51,1395.89 2089.51,1321.71 2293.18,1321.71 2293.18,1395.89 2089.51,1395.89 \n",
       "  \"/>\n",
       "<path clip-path=\"url(#clip3002)\" d=\"\n",
       "M2089.51 1175.04 L2089.51 1321.71 L2293.18 1321.71 L2293.18 1175.04 L2089.51 1175.04 L2089.51 1175.04  Z\n",
       "  \" fill=\"#00a9ad\" fill-rule=\"evenodd\" fill-opacity=\"1\"/>\n",
       "<polyline clip-path=\"url(#clip3002)\" style=\"stroke:#000000; stroke-width:4; stroke-opacity:1; fill:none\" points=\"\n",
       "  2089.51,1175.04 2089.51,1321.71 2293.18,1321.71 2293.18,1175.04 2089.51,1175.04 \n",
       "  \"/>\n",
       "<path clip-path=\"url(#clip3002)\" d=\"\n",
       "M2191.35 908.891 L2089.51 908.891 L2293.18 908.891 L2191.35 908.891 L2191.35 1175.04 L2191.35 908.891  Z\n",
       "  \" fill=\"#00a9ad\" fill-rule=\"evenodd\" fill-opacity=\"1\"/>\n",
       "<polyline clip-path=\"url(#clip3002)\" style=\"stroke:#000000; stroke-width:4; stroke-opacity:1; fill:none\" points=\"\n",
       "  2191.35,908.891 2089.51,908.891 2293.18,908.891 2191.35,908.891 2191.35,1175.04 2191.35,908.891 \n",
       "  \"/>\n",
       "</svg>\n"
      ]
     },
     "execution_count": 112,
     "metadata": {},
     "output_type": "execute_result"
    }
   ],
   "source": [
    "markdown_categories = [\"No Markdown\", \"MarkDown1\", \"MarkDown2\", \"MarkDown3\", \"MarkDown4\", \"MarkDown5\"]\n",
    "markdowns = CategoricalArray(walmart.MarkDown)\n",
    "boxplot(markdowns, walmart.Weekly_Sales, legend=false, group=markdowns)"
   ]
  },
  {
   "cell_type": "markdown",
   "metadata": {},
   "source": [
    "However, both `IsHoliday` and `MarkDown` columns contain categorical data, not numerical, so we cannot use them as-is for regression."
   ]
  },
  {
   "cell_type": "markdown",
   "metadata": {},
   "source": [
    "## The One-Hot Encoding\n",
    "\n",
    "Fortunately, we can perform a **one-hot encoding** transformation on these categorical variables to convert them into numerical variables. The transformation works as follows: create a new column for every unique value in a categorical variable. The column contains a $1$ if the variable originally had the corresponding value, otherwise the column contains a $0$. For example, the `MarkDown` column below contains the following values:"
   ]
  },
  {
   "cell_type": "code",
   "execution_count": 115,
   "metadata": {},
   "outputs": [
    {
     "data": {
      "text/html": [
       "<table class=\"data-frame\"><thead><tr><th></th><th>MarkDown</th></tr><tr><th></th><th>String</th></tr></thead><tbody><p>143 rows × 1 columns</p><tr><th>1</th><td>No Markdown</td></tr><tr><th>2</th><td>No Markdown</td></tr><tr><th>3</th><td>No Markdown</td></tr><tr><th>4</th><td>No Markdown</td></tr><tr><th>5</th><td>No Markdown</td></tr><tr><th>&vellip;</th><td>&vellip;</td></tr></tbody></table>"
      ],
      "text/latex": [
       "\\begin{tabular}{r|c}\n",
       "\t& MarkDown\\\\\n",
       "\t\\hline\n",
       "\t& String\\\\\n",
       "\t\\hline\n",
       "\t1 & No Markdown \\\\\n",
       "\t2 & No Markdown \\\\\n",
       "\t3 & No Markdown \\\\\n",
       "\t4 & No Markdown \\\\\n",
       "\t5 & No Markdown \\\\\n",
       "\t$\\dots$ & $\\dots$ \\\\\n",
       "\\end{tabular}\n"
      ],
      "text/plain": [
       "143×1 DataFrame\n"
      ]
     },
     "execution_count": 115,
     "metadata": {},
     "output_type": "execute_result"
    }
   ],
   "source": [
    "# HIDDEN\n",
    "select(walmart, :MarkDown)"
   ]
  },
  {
   "cell_type": "markdown",
   "metadata": {},
   "source": [
    "This variable contains six different unique values: 'No Markdown', 'MarkDown1', 'MarkDown2', 'MarkDown3', 'MarkDown4', and 'MarkDown5'. We create one column for each value to get six columns in total. Then, we fill in the columns with zeros and ones according the scheme described above. Again, we use the function defined in the previous chapter:"
   ]
  },
  {
   "cell_type": "code",
   "execution_count": 150,
   "metadata": {},
   "outputs": [],
   "source": [
    "function create_one_hot_encoding(df, column)\n",
    "    column_name = Symbol(column)\n",
    "    for category in unique(df[:, column_name])\n",
    "        new_column = Symbol(column*\"=\"*string(category))\n",
    "            df[!, new_column] = ifelse.(df[:, column_name] .== category, 1, 0)\n",
    "    end\n",
    "    select!(df, Not(column_name))\n",
    "end;"
   ]
  },
  {
   "cell_type": "code",
   "execution_count": 151,
   "metadata": {},
   "outputs": [
    {
     "data": {
      "text/html": [
       "<table class=\"data-frame\"><thead><tr><th></th><th>MarkDown=No Markdown</th><th>MarkDown=MarkDown1</th><th>MarkDown=MarkDown3</th><th>MarkDown=MarkDown5</th></tr><tr><th></th><th>Int64</th><th>Int64</th><th>Int64</th><th>Int64</th></tr></thead><tbody><p>143 rows × 6 columns (omitted printing of 2 columns)</p><tr><th>1</th><td>1</td><td>0</td><td>0</td><td>0</td></tr><tr><th>2</th><td>1</td><td>0</td><td>0</td><td>0</td></tr><tr><th>3</th><td>1</td><td>0</td><td>0</td><td>0</td></tr><tr><th>4</th><td>1</td><td>0</td><td>0</td><td>0</td></tr><tr><th>5</th><td>1</td><td>0</td><td>0</td><td>0</td></tr><tr><th>&vellip;</th><td>&vellip;</td><td>&vellip;</td><td>&vellip;</td><td>&vellip;</td></tr></tbody></table>"
      ],
      "text/latex": [
       "\\begin{tabular}{r|ccccc}\n",
       "\t& MarkDown=No Markdown & MarkDown=MarkDown1 & MarkDown=MarkDown3 & MarkDown=MarkDown5 & \\\\\n",
       "\t\\hline\n",
       "\t& Int64 & Int64 & Int64 & Int64 & \\\\\n",
       "\t\\hline\n",
       "\t1 & 1 & 0 & 0 & 0 & $\\dots$ \\\\\n",
       "\t2 & 1 & 0 & 0 & 0 & $\\dots$ \\\\\n",
       "\t3 & 1 & 0 & 0 & 0 & $\\dots$ \\\\\n",
       "\t4 & 1 & 0 & 0 & 0 & $\\dots$ \\\\\n",
       "\t5 & 1 & 0 & 0 & 0 & $\\dots$ \\\\\n",
       "\t$\\dots$ & $\\dots$ & $\\dots$ & $\\dots$ & $\\dots$ &  \\\\\n",
       "\\end{tabular}\n"
      ],
      "text/plain": [
       "143×6 DataFrame\n"
      ]
     },
     "execution_count": 151,
     "metadata": {},
     "output_type": "execute_result"
    }
   ],
   "source": [
    "markdown_df = select(walmart, :MarkDown)\n",
    "create_one_hot_encoding(markdown_df, \"MarkDown\")\n",
    "markdown_df"
   ]
  },
  {
   "cell_type": "markdown",
   "metadata": {},
   "source": [
    "Notice that the first value in the data is \"No Markdown\", and thus only the last column of the first row in the transformed table is marked with $1$. In addition, the last value in the data is \"MarkDown1\" which results in the first column of row 142 marked as $1$.\n",
    "\n",
    "Each row of the resulting table will contain a single column containing $1$; the rest will contain $0$. The name \"one-hot\" reflects the fact that only one column is \"hot\" (marked with a $1$)."
   ]
  },
  {
   "cell_type": "markdown",
   "metadata": {},
   "source": [
    "## One-Hot Encoding in Flux\n",
    "\n",
    "To perform one-hot encoding we can use `Flux`'s [`One-Hot Encoding`](https://fluxml.ai/Flux.jl/stable/data/onehot/) functions. \n",
    "\n",
    "To use it, we first obtain a `OneHotMatrix` from our vector of markdown values in the dataframe. Then, we can store the results in a dataframe to be later used when training our model. We rename the columns for clarity:"
   ]
  },
  {
   "cell_type": "code",
   "execution_count": 129,
   "metadata": {},
   "outputs": [
    {
     "data": {
      "text/html": [
       "<table class=\"data-frame\"><thead><tr><th></th><th>MarkDown=No Markdown</th><th>MarkDown=MarkDown1</th><th>MarkDown=MarkDown2</th><th>MarkDown=MarkDown3</th></tr><tr><th></th><th>Bool</th><th>Bool</th><th>Bool</th><th>Bool</th></tr></thead><tbody><p>143 rows × 6 columns (omitted printing of 2 columns)</p><tr><th>1</th><td>1</td><td>0</td><td>0</td><td>0</td></tr><tr><th>2</th><td>1</td><td>0</td><td>0</td><td>0</td></tr><tr><th>3</th><td>1</td><td>0</td><td>0</td><td>0</td></tr><tr><th>4</th><td>1</td><td>0</td><td>0</td><td>0</td></tr><tr><th>5</th><td>1</td><td>0</td><td>0</td><td>0</td></tr><tr><th>&vellip;</th><td>&vellip;</td><td>&vellip;</td><td>&vellip;</td><td>&vellip;</td></tr></tbody></table>"
      ],
      "text/latex": [
       "\\begin{tabular}{r|ccccc}\n",
       "\t& MarkDown=No Markdown & MarkDown=MarkDown1 & MarkDown=MarkDown2 & MarkDown=MarkDown3 & \\\\\n",
       "\t\\hline\n",
       "\t& Bool & Bool & Bool & Bool & \\\\\n",
       "\t\\hline\n",
       "\t1 & 1 & 0 & 0 & 0 & $\\dots$ \\\\\n",
       "\t2 & 1 & 0 & 0 & 0 & $\\dots$ \\\\\n",
       "\t3 & 1 & 0 & 0 & 0 & $\\dots$ \\\\\n",
       "\t4 & 1 & 0 & 0 & 0 & $\\dots$ \\\\\n",
       "\t5 & 1 & 0 & 0 & 0 & $\\dots$ \\\\\n",
       "\t$\\dots$ & $\\dots$ & $\\dots$ & $\\dots$ & $\\dots$ &  \\\\\n",
       "\\end{tabular}\n"
      ],
      "text/plain": [
       "143×6 DataFrame\n"
      ]
     },
     "execution_count": 129,
     "metadata": {},
     "output_type": "execute_result"
    }
   ],
   "source": [
    "using Flux\n",
    "\n",
    "markdown_one_hot_matrix = Flux.onehotbatch(walmart.MarkDown, markdown_categories)\n",
    "DataFrame(transpose(markdown_one_hot_matrix), [Symbol(\"MarkDown=\"*i) for i in markdown_categories])"
   ]
  },
  {
   "cell_type": "markdown",
   "metadata": {},
   "source": [
    "The numerical variables (fuel price, temperature, and unemployment) are left as numbers. The categorical variables (holidays and markdown) are one-hot encoded. When we use the new matrix of data to fit a linear regression model, we will generate one parameter for each column of the data. Since this data matrix contains eleven columns, the model will have twelve parameters since we fit extra parameter for the intercept term."
   ]
  },
  {
   "cell_type": "markdown",
   "metadata": {},
   "source": [
    "## Fitting a Model Using the Transformed Data\n",
    "\n",
    "Let's create our dataframe with encoded labels for the linear regression:"
   ]
  },
  {
   "cell_type": "code",
   "execution_count": 136,
   "metadata": {},
   "outputs": [
    {
     "data": {
      "text/html": [
       "<table class=\"data-frame\"><thead><tr><th></th><th>Weekly_Sales</th><th>Temperature</th><th>Fuel_Price</th><th>Unemployment</th><th>MarkDown=No Markdown</th><th>MarkDown=MarkDown1</th></tr><tr><th></th><th>Float64</th><th>Float64</th><th>Float64</th><th>Float64</th><th>Bool</th><th>Bool</th></tr></thead><tbody><p>143 rows × 12 columns (omitted printing of 6 columns)</p><tr><th>1</th><td>24924.5</td><td>42.31</td><td>2.572</td><td>8.106</td><td>1</td><td>0</td></tr><tr><th>2</th><td>46039.5</td><td>38.51</td><td>2.548</td><td>8.106</td><td>1</td><td>0</td></tr><tr><th>3</th><td>41595.6</td><td>39.93</td><td>2.514</td><td>8.106</td><td>1</td><td>0</td></tr><tr><th>4</th><td>19403.5</td><td>46.63</td><td>2.561</td><td>8.106</td><td>1</td><td>0</td></tr><tr><th>5</th><td>21827.9</td><td>46.5</td><td>2.625</td><td>8.106</td><td>1</td><td>0</td></tr><tr><th>&vellip;</th><td>&vellip;</td><td>&vellip;</td><td>&vellip;</td><td>&vellip;</td><td>&vellip;</td><td>&vellip;</td></tr></tbody></table>"
      ],
      "text/latex": [
       "\\begin{tabular}{r|ccccccc}\n",
       "\t& Weekly\\_Sales & Temperature & Fuel\\_Price & Unemployment & MarkDown=No Markdown & MarkDown=MarkDown1 & \\\\\n",
       "\t\\hline\n",
       "\t& Float64 & Float64 & Float64 & Float64 & Bool & Bool & \\\\\n",
       "\t\\hline\n",
       "\t1 & 24924.5 & 42.31 & 2.572 & 8.106 & 1 & 0 & $\\dots$ \\\\\n",
       "\t2 & 46039.5 & 38.51 & 2.548 & 8.106 & 1 & 0 & $\\dots$ \\\\\n",
       "\t3 & 41595.6 & 39.93 & 2.514 & 8.106 & 1 & 0 & $\\dots$ \\\\\n",
       "\t4 & 19403.5 & 46.63 & 2.561 & 8.106 & 1 & 0 & $\\dots$ \\\\\n",
       "\t5 & 21827.9 & 46.5 & 2.625 & 8.106 & 1 & 0 & $\\dots$ \\\\\n",
       "\t$\\dots$ & $\\dots$ & $\\dots$ & $\\dots$ & $\\dots$ & $\\dots$ & $\\dots$ &  \\\\\n",
       "\\end{tabular}\n"
      ],
      "text/plain": [
       "143×12 DataFrame\n"
      ]
     },
     "execution_count": 136,
     "metadata": {},
     "output_type": "execute_result"
    }
   ],
   "source": [
    "encoded_walmart = select(walmart, :)\n",
    "\n",
    "encoded_walmart = hcat(encoded_walmart,\n",
    "    DataFrame(transpose(markdown_one_hot_matrix), [Symbol(\"MarkDown=\"*i) for i in markdown_categories]))\n",
    "\n",
    "holiday_one_hot_matrix = Flux.onehotbatch(walmart.IsHoliday, [\"No\", \"Yes\"])\n",
    "encoded_walmart = hcat(encoded_walmart, \n",
    "    DataFrame(transpose(holiday_one_hot_matrix), [Symbol(\"IsHoliday=\"*i) for i in [\"No\", \"Yes\"]]))\n",
    "\n",
    "encoded_walmart = select(encoded_walmart, Not([:IsHoliday, :MarkDown, :Date]))"
   ]
  },
  {
   "cell_type": "code",
   "execution_count": 188,
   "metadata": {},
   "outputs": [
    {
     "data": {
      "text/html": [
       "<table class=\"data-frame\"><thead><tr><th></th><th>Temperature</th><th>Fuel_Price</th><th>Unemployment</th><th>MarkDown=No Markdown</th><th>MarkDown=MarkDown1</th></tr><tr><th></th><th>Float64</th><th>Float64</th><th>Float64</th><th>Bool</th><th>Bool</th></tr></thead><tbody><p>143 rows × 11 columns (omitted printing of 6 columns)</p><tr><th>1</th><td>42.31</td><td>2.572</td><td>8.106</td><td>1</td><td>0</td></tr><tr><th>2</th><td>38.51</td><td>2.548</td><td>8.106</td><td>1</td><td>0</td></tr><tr><th>3</th><td>39.93</td><td>2.514</td><td>8.106</td><td>1</td><td>0</td></tr><tr><th>4</th><td>46.63</td><td>2.561</td><td>8.106</td><td>1</td><td>0</td></tr><tr><th>5</th><td>46.5</td><td>2.625</td><td>8.106</td><td>1</td><td>0</td></tr><tr><th>&vellip;</th><td>&vellip;</td><td>&vellip;</td><td>&vellip;</td><td>&vellip;</td><td>&vellip;</td></tr></tbody></table>"
      ],
      "text/latex": [
       "\\begin{tabular}{r|cccccc}\n",
       "\t& Temperature & Fuel\\_Price & Unemployment & MarkDown=No Markdown & MarkDown=MarkDown1 & \\\\\n",
       "\t\\hline\n",
       "\t& Float64 & Float64 & Float64 & Bool & Bool & \\\\\n",
       "\t\\hline\n",
       "\t1 & 42.31 & 2.572 & 8.106 & 1 & 0 & $\\dots$ \\\\\n",
       "\t2 & 38.51 & 2.548 & 8.106 & 1 & 0 & $\\dots$ \\\\\n",
       "\t3 & 39.93 & 2.514 & 8.106 & 1 & 0 & $\\dots$ \\\\\n",
       "\t4 & 46.63 & 2.561 & 8.106 & 1 & 0 & $\\dots$ \\\\\n",
       "\t5 & 46.5 & 2.625 & 8.106 & 1 & 0 & $\\dots$ \\\\\n",
       "\t$\\dots$ & $\\dots$ & $\\dots$ & $\\dots$ & $\\dots$ & $\\dots$ &  \\\\\n",
       "\\end{tabular}\n"
      ],
      "text/plain": [
       "143×11 DataFrame\n"
      ]
     },
     "execution_count": 188,
     "metadata": {},
     "output_type": "execute_result"
    }
   ],
   "source": [
    "y, X = unpack(encoded_walmart, ==(:Weekly_Sales), colname -> true;)\n",
    "X"
   ]
  },
  {
   "cell_type": "code",
   "execution_count": 138,
   "metadata": {},
   "outputs": [
    {
     "name": "stderr",
     "output_type": "stream",
     "text": [
      "┌ Warning: The scitype of `X`, in `machine(model, X, y)` or `machine(model, X, y, w)` is incompatible with `model`:\n",
      "│ scitype(X) = ScientificTypes.Table{Union{AbstractArray{Continuous,1}, AbstractArray{Count,1}}}\n",
      "│ input_scitype(model) = ScientificTypes.Table{#s13} where #s13<:(AbstractArray{#s12,1} where #s12<:Continuous). \n",
      "└ @ MLJBase /Users/irinabchan/.julia/packages/MLJBase/sMgCp/src/machines.jl:54\n",
      "┌ Info: Training \u001b[34mMachine{LinearRegressor} @ 9…47\u001b[39m.\n",
      "└ @ MLJBase /Users/irinabchan/.julia/packages/MLJBase/sMgCp/src/machines.jl:179\n"
     ]
    },
    {
     "data": {
      "text/plain": [
       "\u001b[34mMachine{LinearRegressor} @ 9…47\u001b[39m\n"
      ]
     },
     "execution_count": 138,
     "metadata": {},
     "output_type": "execute_result"
    }
   ],
   "source": [
    "lr = machine(lr_model, X, y)\n",
    "\n",
    "fit!(lr)"
   ]
  },
  {
   "cell_type": "markdown",
   "metadata": {},
   "source": [
    "As promised, we have eleven parameters for the columns and one intercept parameter."
   ]
  },
  {
   "cell_type": "code",
   "execution_count": 140,
   "metadata": {},
   "outputs": [
    {
     "data": {
      "text/plain": [
       "(coef = [-330.9125865122779, 1622.1062387175996, 1205.5643307909709, 1102.2457597357497, 962.9088486454123, 1805.0596130333713, -1748.4750461585347, -2336.79979148761, 215.06061623161605, -2.041451156510132, 2.0414511565043907],\n",
       " intercept = 29723.13572928488,)"
      ]
     },
     "execution_count": 140,
     "metadata": {},
     "output_type": "execute_result"
    }
   ],
   "source": [
    "fitted_params(lr)"
   ]
  },
  {
   "cell_type": "markdown",
   "metadata": {},
   "source": [
    "We can compare a few of the predictions from both classifiers to see whether there's a large difference between the two."
   ]
  },
  {
   "cell_type": "code",
   "execution_count": 142,
   "metadata": {},
   "outputs": [
    {
     "data": {
      "text/html": [
       "<table class=\"data-frame\"><thead><tr><th></th><th>Weekly_Sales</th><th>pred_numeric</th><th>pred_both</th></tr><tr><th></th><th>Float64</th><th>Float64</th><th>Float64</th></tr></thead><tbody><p>143 rows × 3 columns</p><tr><th>1</th><td>24924.5</td><td>30768.9</td><td>30766.8</td></tr><tr><th>2</th><td>46039.5</td><td>31992.3</td><td>31989.4</td></tr><tr><th>3</th><td>41595.6</td><td>31465.2</td><td>31460.3</td></tr><tr><th>4</th><td>19403.5</td><td>29315.8</td><td>29319.4</td></tr><tr><th>5</th><td>21827.9</td><td>29463.1</td><td>29466.2</td></tr><tr><th>&vellip;</th><td>&vellip;</td><td>&vellip;</td><td>&vellip;</td></tr></tbody></table>"
      ],
      "text/latex": [
       "\\begin{tabular}{r|ccc}\n",
       "\t& Weekly\\_Sales & pred\\_numeric & pred\\_both\\\\\n",
       "\t\\hline\n",
       "\t& Float64 & Float64 & Float64\\\\\n",
       "\t\\hline\n",
       "\t1 & 24924.5 & 30768.9 & 30766.8 \\\\\n",
       "\t2 & 46039.5 & 31992.3 & 31989.4 \\\\\n",
       "\t3 & 41595.6 & 31465.2 & 31460.3 \\\\\n",
       "\t4 & 19403.5 & 29315.8 & 29319.4 \\\\\n",
       "\t5 & 21827.9 & 29463.1 & 29466.2 \\\\\n",
       "\t$\\dots$ & $\\dots$ & $\\dots$ & $\\dots$ \\\\\n",
       "\\end{tabular}\n"
      ],
      "text/plain": [
       "143×3 DataFrame\n"
      ]
     },
     "execution_count": 142,
     "metadata": {},
     "output_type": "execute_result"
    }
   ],
   "source": [
    "encoded_predictions = predict(lr)\n",
    "walmart[!, :pred_numeric] = predictions\n",
    "walmart[!, :pred_both] = encoded_predictions\n",
    "select(walmart, [:Weekly_Sales, :pred_numeric, :pred_both])"
   ]
  },
  {
   "cell_type": "markdown",
   "metadata": {},
   "source": [
    "It appears that both models make very similar predictions. A scatter plot of both sets of predictions confirms this."
   ]
  },
  {
   "cell_type": "code",
   "execution_count": 145,
   "metadata": {},
   "outputs": [
    {
     "data": {
      "image/svg+xml": [
       "<?xml version=\"1.0\" encoding=\"utf-8\"?>\n",
       "<svg xmlns=\"http://www.w3.org/2000/svg\" xmlns:xlink=\"http://www.w3.org/1999/xlink\" width=\"600\" height=\"400\" viewBox=\"0 0 2400 1600\">\n",
       "<defs>\n",
       "  <clipPath id=\"clip3800\">\n",
       "    <rect x=\"0\" y=\"0\" width=\"2400\" height=\"1600\"/>\n",
       "  </clipPath>\n",
       "</defs>\n",
       "<path clip-path=\"url(#clip3800)\" d=\"\n",
       "M0 1600 L2400 1600 L2400 0 L0 0  Z\n",
       "  \" fill=\"#ffffff\" fill-rule=\"evenodd\" fill-opacity=\"1\"/>\n",
       "<defs>\n",
       "  <clipPath id=\"clip3801\">\n",
       "    <rect x=\"480\" y=\"0\" width=\"1681\" height=\"1600\"/>\n",
       "  </clipPath>\n",
       "</defs>\n",
       "<path clip-path=\"url(#clip3800)\" d=\"\n",
       "M349.806 1425.62 L2352.76 1425.62 L2352.76 121.675 L349.806 121.675  Z\n",
       "  \" fill=\"#ffffff\" fill-rule=\"evenodd\" fill-opacity=\"1\"/>\n",
       "<defs>\n",
       "  <clipPath id=\"clip3802\">\n",
       "    <rect x=\"349\" y=\"121\" width=\"2004\" height=\"1305\"/>\n",
       "  </clipPath>\n",
       "</defs>\n",
       "<polyline clip-path=\"url(#clip3802)\" style=\"stroke:#000000; stroke-width:2; stroke-opacity:0.1; fill:none\" points=\"\n",
       "  350.45,1425.62 350.45,121.675 \n",
       "  \"/>\n",
       "<polyline clip-path=\"url(#clip3802)\" style=\"stroke:#000000; stroke-width:2; stroke-opacity:0.1; fill:none\" points=\"\n",
       "  883.813,1425.62 883.813,121.675 \n",
       "  \"/>\n",
       "<polyline clip-path=\"url(#clip3802)\" style=\"stroke:#000000; stroke-width:2; stroke-opacity:0.1; fill:none\" points=\"\n",
       "  1417.18,1425.62 1417.18,121.675 \n",
       "  \"/>\n",
       "<polyline clip-path=\"url(#clip3802)\" style=\"stroke:#000000; stroke-width:2; stroke-opacity:0.1; fill:none\" points=\"\n",
       "  1950.54,1425.62 1950.54,121.675 \n",
       "  \"/>\n",
       "<polyline clip-path=\"url(#clip3802)\" style=\"stroke:#000000; stroke-width:2; stroke-opacity:0.1; fill:none\" points=\"\n",
       "  349.806,1314.5 2352.76,1314.5 \n",
       "  \"/>\n",
       "<polyline clip-path=\"url(#clip3802)\" style=\"stroke:#000000; stroke-width:2; stroke-opacity:0.1; fill:none\" points=\"\n",
       "  349.806,998.354 2352.76,998.354 \n",
       "  \"/>\n",
       "<polyline clip-path=\"url(#clip3802)\" style=\"stroke:#000000; stroke-width:2; stroke-opacity:0.1; fill:none\" points=\"\n",
       "  349.806,682.204 2352.76,682.204 \n",
       "  \"/>\n",
       "<polyline clip-path=\"url(#clip3802)\" style=\"stroke:#000000; stroke-width:2; stroke-opacity:0.1; fill:none\" points=\"\n",
       "  349.806,366.053 2352.76,366.053 \n",
       "  \"/>\n",
       "<polyline clip-path=\"url(#clip3800)\" style=\"stroke:#000000; stroke-width:4; stroke-opacity:1; fill:none\" points=\"\n",
       "  349.806,1425.62 2352.76,1425.62 \n",
       "  \"/>\n",
       "<polyline clip-path=\"url(#clip3800)\" style=\"stroke:#000000; stroke-width:4; stroke-opacity:1; fill:none\" points=\"\n",
       "  349.806,1425.62 349.806,121.675 \n",
       "  \"/>\n",
       "<polyline clip-path=\"url(#clip3800)\" style=\"stroke:#000000; stroke-width:4; stroke-opacity:1; fill:none\" points=\"\n",
       "  350.45,1425.62 350.45,1406.06 \n",
       "  \"/>\n",
       "<polyline clip-path=\"url(#clip3800)\" style=\"stroke:#000000; stroke-width:4; stroke-opacity:1; fill:none\" points=\"\n",
       "  883.813,1425.62 883.813,1406.06 \n",
       "  \"/>\n",
       "<polyline clip-path=\"url(#clip3800)\" style=\"stroke:#000000; stroke-width:4; stroke-opacity:1; fill:none\" points=\"\n",
       "  1417.18,1425.62 1417.18,1406.06 \n",
       "  \"/>\n",
       "<polyline clip-path=\"url(#clip3800)\" style=\"stroke:#000000; stroke-width:4; stroke-opacity:1; fill:none\" points=\"\n",
       "  1950.54,1425.62 1950.54,1406.06 \n",
       "  \"/>\n",
       "<polyline clip-path=\"url(#clip3800)\" style=\"stroke:#000000; stroke-width:4; stroke-opacity:1; fill:none\" points=\"\n",
       "  349.806,1314.5 379.851,1314.5 \n",
       "  \"/>\n",
       "<polyline clip-path=\"url(#clip3800)\" style=\"stroke:#000000; stroke-width:4; stroke-opacity:1; fill:none\" points=\"\n",
       "  349.806,998.354 379.851,998.354 \n",
       "  \"/>\n",
       "<polyline clip-path=\"url(#clip3800)\" style=\"stroke:#000000; stroke-width:4; stroke-opacity:1; fill:none\" points=\"\n",
       "  349.806,682.204 379.851,682.204 \n",
       "  \"/>\n",
       "<polyline clip-path=\"url(#clip3800)\" style=\"stroke:#000000; stroke-width:4; stroke-opacity:1; fill:none\" points=\"\n",
       "  349.806,366.053 379.851,366.053 \n",
       "  \"/>\n",
       "<g clip-path=\"url(#clip3800)\">\n",
       "<text style=\"fill:#000000; fill-opacity:1; font-family:Arial,Helvetica Neue,Helvetica,sans-serif; font-size:48px; text-anchor:start;\" transform=\"rotate(0, 265.307, 1500.63)\" x=\"265.307\" y=\"1500.63\">1.5×10</text>\n",
       "</g>\n",
       "<g clip-path=\"url(#clip3800)\">\n",
       "<text style=\"fill:#000000; fill-opacity:1; font-family:Arial,Helvetica Neue,Helvetica,sans-serif; font-size:38px; text-anchor:start;\" transform=\"rotate(0, 413.848, 1473.22)\" x=\"413.848\" y=\"1473.22\">4</text>\n",
       "</g>\n",
       "<g clip-path=\"url(#clip3800)\">\n",
       "<text style=\"fill:#000000; fill-opacity:1; font-family:Arial,Helvetica Neue,Helvetica,sans-serif; font-size:48px; text-anchor:start;\" transform=\"rotate(0, 798.67, 1500.63)\" x=\"798.67\" y=\"1500.63\">2.0×10</text>\n",
       "</g>\n",
       "<g clip-path=\"url(#clip3800)\">\n",
       "<text style=\"fill:#000000; fill-opacity:1; font-family:Arial,Helvetica Neue,Helvetica,sans-serif; font-size:38px; text-anchor:start;\" transform=\"rotate(0, 947.211, 1473.22)\" x=\"947.211\" y=\"1473.22\">4</text>\n",
       "</g>\n",
       "<g clip-path=\"url(#clip3800)\">\n",
       "<text style=\"fill:#000000; fill-opacity:1; font-family:Arial,Helvetica Neue,Helvetica,sans-serif; font-size:48px; text-anchor:start;\" transform=\"rotate(0, 1332.03, 1500.63)\" x=\"1332.03\" y=\"1500.63\">2.5×10</text>\n",
       "</g>\n",
       "<g clip-path=\"url(#clip3800)\">\n",
       "<text style=\"fill:#000000; fill-opacity:1; font-family:Arial,Helvetica Neue,Helvetica,sans-serif; font-size:38px; text-anchor:start;\" transform=\"rotate(0, 1480.57, 1473.22)\" x=\"1480.57\" y=\"1473.22\">4</text>\n",
       "</g>\n",
       "<g clip-path=\"url(#clip3800)\">\n",
       "<text style=\"fill:#000000; fill-opacity:1; font-family:Arial,Helvetica Neue,Helvetica,sans-serif; font-size:48px; text-anchor:start;\" transform=\"rotate(0, 1865.4, 1500.63)\" x=\"1865.4\" y=\"1500.63\">3.0×10</text>\n",
       "</g>\n",
       "<g clip-path=\"url(#clip3800)\">\n",
       "<text style=\"fill:#000000; fill-opacity:1; font-family:Arial,Helvetica Neue,Helvetica,sans-serif; font-size:38px; text-anchor:start;\" transform=\"rotate(0, 2013.94, 1473.22)\" x=\"2013.94\" y=\"1473.22\">4</text>\n",
       "</g>\n",
       "<g clip-path=\"url(#clip3800)\">\n",
       "<text style=\"fill:#000000; fill-opacity:1; font-family:Arial,Helvetica Neue,Helvetica,sans-serif; font-size:48px; text-anchor:start;\" transform=\"rotate(0, 155.521, 1338.23)\" x=\"155.521\" y=\"1338.23\">1.5×10</text>\n",
       "</g>\n",
       "<g clip-path=\"url(#clip3800)\">\n",
       "<text style=\"fill:#000000; fill-opacity:1; font-family:Arial,Helvetica Neue,Helvetica,sans-serif; font-size:38px; text-anchor:start;\" transform=\"rotate(0, 304.062, 1310.82)\" x=\"304.062\" y=\"1310.82\">4</text>\n",
       "</g>\n",
       "<g clip-path=\"url(#clip3800)\">\n",
       "<text style=\"fill:#000000; fill-opacity:1; font-family:Arial,Helvetica Neue,Helvetica,sans-serif; font-size:48px; text-anchor:start;\" transform=\"rotate(0, 155.521, 1022.08)\" x=\"155.521\" y=\"1022.08\">2.0×10</text>\n",
       "</g>\n",
       "<g clip-path=\"url(#clip3800)\">\n",
       "<text style=\"fill:#000000; fill-opacity:1; font-family:Arial,Helvetica Neue,Helvetica,sans-serif; font-size:38px; text-anchor:start;\" transform=\"rotate(0, 304.062, 994.671)\" x=\"304.062\" y=\"994.671\">4</text>\n",
       "</g>\n",
       "<g clip-path=\"url(#clip3800)\">\n",
       "<text style=\"fill:#000000; fill-opacity:1; font-family:Arial,Helvetica Neue,Helvetica,sans-serif; font-size:48px; text-anchor:start;\" transform=\"rotate(0, 155.521, 705.931)\" x=\"155.521\" y=\"705.931\">2.5×10</text>\n",
       "</g>\n",
       "<g clip-path=\"url(#clip3800)\">\n",
       "<text style=\"fill:#000000; fill-opacity:1; font-family:Arial,Helvetica Neue,Helvetica,sans-serif; font-size:38px; text-anchor:start;\" transform=\"rotate(0, 304.062, 678.521)\" x=\"304.062\" y=\"678.521\">4</text>\n",
       "</g>\n",
       "<g clip-path=\"url(#clip3800)\">\n",
       "<text style=\"fill:#000000; fill-opacity:1; font-family:Arial,Helvetica Neue,Helvetica,sans-serif; font-size:48px; text-anchor:start;\" transform=\"rotate(0, 155.521, 389.781)\" x=\"155.521\" y=\"389.781\">3.0×10</text>\n",
       "</g>\n",
       "<g clip-path=\"url(#clip3800)\">\n",
       "<text style=\"fill:#000000; fill-opacity:1; font-family:Arial,Helvetica Neue,Helvetica,sans-serif; font-size:38px; text-anchor:start;\" transform=\"rotate(0, 304.062, 362.37)\" x=\"304.062\" y=\"362.37\">4</text>\n",
       "</g>\n",
       "<g clip-path=\"url(#clip3800)\">\n",
       "<text style=\"fill:#000000; fill-opacity:1; font-family:Arial,Helvetica Neue,Helvetica,sans-serif; font-size:84px; text-anchor:middle;\" transform=\"rotate(0, 1351.28, 73.2)\" x=\"1351.28\" y=\"73.2\">Predicrions using all data vs. numerical features only</text>\n",
       "</g>\n",
       "<g clip-path=\"url(#clip3800)\">\n",
       "<text style=\"fill:#000000; fill-opacity:1; font-family:Arial,Helvetica Neue,Helvetica,sans-serif; font-size:66px; text-anchor:middle;\" transform=\"rotate(0, 1351.28, 1559.48)\" x=\"1351.28\" y=\"1559.48\">Predictions using numerical features</text>\n",
       "</g>\n",
       "<g clip-path=\"url(#clip3800)\">\n",
       "<text style=\"fill:#000000; fill-opacity:1; font-family:Arial,Helvetica Neue,Helvetica,sans-serif; font-size:66px; text-anchor:middle;\" transform=\"rotate(-90, 89.2861, 773.647)\" x=\"89.2861\" y=\"773.647\">Predictions using all features</text>\n",
       "</g>\n",
       "<circle clip-path=\"url(#clip3802)\" style=\"fill:#000000; stroke:none; fill-opacity:1\" cx=\"2032.56\" cy=\"317.569\" r=\"18\"/>\n",
       "<circle clip-path=\"url(#clip3802)\" style=\"fill:#009af9; stroke:none; fill-opacity:1\" cx=\"2032.56\" cy=\"317.569\" r=\"14\"/>\n",
       "<circle clip-path=\"url(#clip3802)\" style=\"fill:#000000; stroke:none; fill-opacity:1\" cx=\"2163.06\" cy=\"240.263\" r=\"18\"/>\n",
       "<circle clip-path=\"url(#clip3802)\" style=\"fill:#009af9; stroke:none; fill-opacity:1\" cx=\"2163.06\" cy=\"240.263\" r=\"14\"/>\n",
       "<circle clip-path=\"url(#clip3802)\" style=\"fill:#000000; stroke:none; fill-opacity:1\" cx=\"2106.84\" cy=\"273.72\" r=\"18\"/>\n",
       "<circle clip-path=\"url(#clip3802)\" style=\"fill:#009af9; stroke:none; fill-opacity:1\" cx=\"2106.84\" cy=\"273.72\" r=\"14\"/>\n",
       "<circle clip-path=\"url(#clip3802)\" style=\"fill:#000000; stroke:none; fill-opacity:1\" cx=\"1877.55\" cy=\"409.087\" r=\"18\"/>\n",
       "<circle clip-path=\"url(#clip3802)\" style=\"fill:#009af9; stroke:none; fill-opacity:1\" cx=\"1877.55\" cy=\"409.087\" r=\"14\"/>\n",
       "<circle clip-path=\"url(#clip3802)\" style=\"fill:#000000; stroke:none; fill-opacity:1\" cx=\"1893.26\" cy=\"399.803\" r=\"18\"/>\n",
       "<circle clip-path=\"url(#clip3802)\" style=\"fill:#009af9; stroke:none; fill-opacity:1\" cx=\"1893.26\" cy=\"399.803\" r=\"14\"/>\n",
       "<circle clip-path=\"url(#clip3802)\" style=\"fill:#000000; stroke:none; fill-opacity:1\" cx=\"1500.45\" cy=\"631.723\" r=\"18\"/>\n",
       "<circle clip-path=\"url(#clip3802)\" style=\"fill:#009af9; stroke:none; fill-opacity:1\" cx=\"1500.45\" cy=\"631.723\" r=\"14\"/>\n",
       "<circle clip-path=\"url(#clip3802)\" style=\"fill:#000000; stroke:none; fill-opacity:1\" cx=\"1623.4\" cy=\"559.122\" r=\"18\"/>\n",
       "<circle clip-path=\"url(#clip3802)\" style=\"fill:#009af9; stroke:none; fill-opacity:1\" cx=\"1623.4\" cy=\"559.122\" r=\"14\"/>\n",
       "<circle clip-path=\"url(#clip3802)\" style=\"fill:#000000; stroke:none; fill-opacity:1\" cx=\"1736.41\" cy=\"492.4\" r=\"18\"/>\n",
       "<circle clip-path=\"url(#clip3802)\" style=\"fill:#009af9; stroke:none; fill-opacity:1\" cx=\"1736.41\" cy=\"492.4\" r=\"14\"/>\n",
       "<circle clip-path=\"url(#clip3802)\" style=\"fill:#000000; stroke:none; fill-opacity:1\" cx=\"1307.57\" cy=\"742.843\" r=\"18\"/>\n",
       "<circle clip-path=\"url(#clip3802)\" style=\"fill:#009af9; stroke:none; fill-opacity:1\" cx=\"1307.57\" cy=\"742.843\" r=\"14\"/>\n",
       "<circle clip-path=\"url(#clip3802)\" style=\"fill:#000000; stroke:none; fill-opacity:1\" cx=\"1189.19\" cy=\"812.728\" r=\"18\"/>\n",
       "<circle clip-path=\"url(#clip3802)\" style=\"fill:#009af9; stroke:none; fill-opacity:1\" cx=\"1189.19\" cy=\"812.728\" r=\"14\"/>\n",
       "<circle clip-path=\"url(#clip3802)\" style=\"fill:#000000; stroke:none; fill-opacity:1\" cx=\"1179.49\" cy=\"818.456\" r=\"18\"/>\n",
       "<circle clip-path=\"url(#clip3802)\" style=\"fill:#009af9; stroke:none; fill-opacity:1\" cx=\"1179.49\" cy=\"818.456\" r=\"14\"/>\n",
       "<circle clip-path=\"url(#clip3802)\" style=\"fill:#000000; stroke:none; fill-opacity:1\" cx=\"1229.68\" cy=\"788.822\" r=\"18\"/>\n",
       "<circle clip-path=\"url(#clip3802)\" style=\"fill:#009af9; stroke:none; fill-opacity:1\" cx=\"1229.68\" cy=\"788.822\" r=\"14\"/>\n",
       "<circle clip-path=\"url(#clip3802)\" style=\"fill:#000000; stroke:none; fill-opacity:1\" cx=\"1136\" cy=\"844.134\" r=\"18\"/>\n",
       "<circle clip-path=\"url(#clip3802)\" style=\"fill:#009af9; stroke:none; fill-opacity:1\" cx=\"1136\" cy=\"844.134\" r=\"14\"/>\n",
       "<circle clip-path=\"url(#clip3802)\" style=\"fill:#000000; stroke:none; fill-opacity:1\" cx=\"963.387\" cy=\"946.041\" r=\"18\"/>\n",
       "<circle clip-path=\"url(#clip3802)\" style=\"fill:#009af9; stroke:none; fill-opacity:1\" cx=\"963.387\" cy=\"946.041\" r=\"14\"/>\n",
       "<circle clip-path=\"url(#clip3802)\" style=\"fill:#000000; stroke:none; fill-opacity:1\" cx=\"887.655\" cy=\"990.752\" r=\"18\"/>\n",
       "<circle clip-path=\"url(#clip3802)\" style=\"fill:#009af9; stroke:none; fill-opacity:1\" cx=\"887.655\" cy=\"990.752\" r=\"14\"/>\n",
       "<circle clip-path=\"url(#clip3802)\" style=\"fill:#000000; stroke:none; fill-opacity:1\" cx=\"823.968\" cy=\"1028.36\" r=\"18\"/>\n",
       "<circle clip-path=\"url(#clip3802)\" style=\"fill:#009af9; stroke:none; fill-opacity:1\" cx=\"823.968\" cy=\"1028.36\" r=\"14\"/>\n",
       "<circle clip-path=\"url(#clip3802)\" style=\"fill:#000000; stroke:none; fill-opacity:1\" cx=\"670.587\" cy=\"1118.92\" r=\"18\"/>\n",
       "<circle clip-path=\"url(#clip3802)\" style=\"fill:#009af9; stroke:none; fill-opacity:1\" cx=\"670.587\" cy=\"1118.92\" r=\"14\"/>\n",
       "<circle clip-path=\"url(#clip3802)\" style=\"fill:#000000; stroke:none; fill-opacity:1\" cx=\"652.357\" cy=\"1129.69\" r=\"18\"/>\n",
       "<circle clip-path=\"url(#clip3802)\" style=\"fill:#009af9; stroke:none; fill-opacity:1\" cx=\"652.357\" cy=\"1129.69\" r=\"14\"/>\n",
       "<circle clip-path=\"url(#clip3802)\" style=\"fill:#000000; stroke:none; fill-opacity:1\" cx=\"655.151\" cy=\"1128.05\" r=\"18\"/>\n",
       "<circle clip-path=\"url(#clip3802)\" style=\"fill:#009af9; stroke:none; fill-opacity:1\" cx=\"655.151\" cy=\"1128.05\" r=\"14\"/>\n",
       "<circle clip-path=\"url(#clip3802)\" style=\"fill:#000000; stroke:none; fill-opacity:1\" cx=\"519.357\" cy=\"1208.23\" r=\"18\"/>\n",
       "<circle clip-path=\"url(#clip3802)\" style=\"fill:#009af9; stroke:none; fill-opacity:1\" cx=\"519.357\" cy=\"1208.23\" r=\"14\"/>\n",
       "<circle clip-path=\"url(#clip3802)\" style=\"fill:#000000; stroke:none; fill-opacity:1\" cx=\"513.982\" cy=\"1211.4\" r=\"18\"/>\n",
       "<circle clip-path=\"url(#clip3802)\" style=\"fill:#009af9; stroke:none; fill-opacity:1\" cx=\"513.982\" cy=\"1211.4\" r=\"14\"/>\n",
       "<circle clip-path=\"url(#clip3802)\" style=\"fill:#000000; stroke:none; fill-opacity:1\" cx=\"635.274\" cy=\"1139.59\" r=\"18\"/>\n",
       "<circle clip-path=\"url(#clip3802)\" style=\"fill:#009af9; stroke:none; fill-opacity:1\" cx=\"635.274\" cy=\"1139.59\" r=\"14\"/>\n",
       "<circle clip-path=\"url(#clip3802)\" style=\"fill:#000000; stroke:none; fill-opacity:1\" cx=\"645.828\" cy=\"1133.36\" r=\"18\"/>\n",
       "<circle clip-path=\"url(#clip3802)\" style=\"fill:#009af9; stroke:none; fill-opacity:1\" cx=\"645.828\" cy=\"1133.36\" r=\"14\"/>\n",
       "<circle clip-path=\"url(#clip3802)\" style=\"fill:#000000; stroke:none; fill-opacity:1\" cx=\"547.91\" cy=\"1191.18\" r=\"18\"/>\n",
       "<circle clip-path=\"url(#clip3802)\" style=\"fill:#009af9; stroke:none; fill-opacity:1\" cx=\"547.91\" cy=\"1191.18\" r=\"14\"/>\n",
       "<circle clip-path=\"url(#clip3802)\" style=\"fill:#000000; stroke:none; fill-opacity:1\" cx=\"537.865\" cy=\"1197.11\" r=\"18\"/>\n",
       "<circle clip-path=\"url(#clip3802)\" style=\"fill:#009af9; stroke:none; fill-opacity:1\" cx=\"537.865\" cy=\"1197.11\" r=\"14\"/>\n",
       "<circle clip-path=\"url(#clip3802)\" style=\"fill:#000000; stroke:none; fill-opacity:1\" cx=\"597.284\" cy=\"1162.02\" r=\"18\"/>\n",
       "<circle clip-path=\"url(#clip3802)\" style=\"fill:#009af9; stroke:none; fill-opacity:1\" cx=\"597.284\" cy=\"1162.02\" r=\"14\"/>\n",
       "<circle clip-path=\"url(#clip3802)\" style=\"fill:#000000; stroke:none; fill-opacity:1\" cx=\"406.494\" cy=\"1274.67\" r=\"18\"/>\n",
       "<circle clip-path=\"url(#clip3802)\" style=\"fill:#009af9; stroke:none; fill-opacity:1\" cx=\"406.494\" cy=\"1274.67\" r=\"14\"/>\n",
       "<circle clip-path=\"url(#clip3802)\" style=\"fill:#000000; stroke:none; fill-opacity:1\" cx=\"423.442\" cy=\"1264.65\" r=\"18\"/>\n",
       "<circle clip-path=\"url(#clip3802)\" style=\"fill:#009af9; stroke:none; fill-opacity:1\" cx=\"423.442\" cy=\"1264.65\" r=\"14\"/>\n",
       "<circle clip-path=\"url(#clip3802)\" style=\"fill:#000000; stroke:none; fill-opacity:1\" cx=\"430.988\" cy=\"1260.2\" r=\"18\"/>\n",
       "<circle clip-path=\"url(#clip3802)\" style=\"fill:#009af9; stroke:none; fill-opacity:1\" cx=\"430.988\" cy=\"1260.2\" r=\"14\"/>\n",
       "<circle clip-path=\"url(#clip3802)\" style=\"fill:#000000; stroke:none; fill-opacity:1\" cx=\"473.857\" cy=\"1234.9\" r=\"18\"/>\n",
       "<circle clip-path=\"url(#clip3802)\" style=\"fill:#009af9; stroke:none; fill-opacity:1\" cx=\"473.857\" cy=\"1234.9\" r=\"14\"/>\n",
       "<circle clip-path=\"url(#clip3802)\" style=\"fill:#000000; stroke:none; fill-opacity:1\" cx=\"608.679\" cy=\"1155.3\" r=\"18\"/>\n",
       "<circle clip-path=\"url(#clip3802)\" style=\"fill:#009af9; stroke:none; fill-opacity:1\" cx=\"608.679\" cy=\"1155.3\" r=\"14\"/>\n",
       "<circle clip-path=\"url(#clip3802)\" style=\"fill:#000000; stroke:none; fill-opacity:1\" cx=\"695.903\" cy=\"1103.55\" r=\"18\"/>\n",
       "<circle clip-path=\"url(#clip3802)\" style=\"fill:#009af9; stroke:none; fill-opacity:1\" cx=\"695.903\" cy=\"1103.55\" r=\"14\"/>\n",
       "<circle clip-path=\"url(#clip3802)\" style=\"fill:#000000; stroke:none; fill-opacity:1\" cx=\"577.652\" cy=\"1173.62\" r=\"18\"/>\n",
       "<circle clip-path=\"url(#clip3802)\" style=\"fill:#009af9; stroke:none; fill-opacity:1\" cx=\"577.652\" cy=\"1173.62\" r=\"14\"/>\n",
       "<circle clip-path=\"url(#clip3802)\" style=\"fill:#000000; stroke:none; fill-opacity:1\" cx=\"626.403\" cy=\"1144.83\" r=\"18\"/>\n",
       "<circle clip-path=\"url(#clip3802)\" style=\"fill:#009af9; stroke:none; fill-opacity:1\" cx=\"626.403\" cy=\"1144.83\" r=\"14\"/>\n",
       "<circle clip-path=\"url(#clip3802)\" style=\"fill:#000000; stroke:none; fill-opacity:1\" cx=\"950.863\" cy=\"953.739\" r=\"18\"/>\n",
       "<circle clip-path=\"url(#clip3802)\" style=\"fill:#009af9; stroke:none; fill-opacity:1\" cx=\"950.863\" cy=\"953.739\" r=\"14\"/>\n",
       "<circle clip-path=\"url(#clip3802)\" style=\"fill:#000000; stroke:none; fill-opacity:1\" cx=\"1238.16\" cy=\"784.11\" r=\"18\"/>\n",
       "<circle clip-path=\"url(#clip3802)\" style=\"fill:#009af9; stroke:none; fill-opacity:1\" cx=\"1238.16\" cy=\"784.11\" r=\"14\"/>\n",
       "<circle clip-path=\"url(#clip3802)\" style=\"fill:#000000; stroke:none; fill-opacity:1\" cx=\"1138.08\" cy=\"843.189\" r=\"18\"/>\n",
       "<circle clip-path=\"url(#clip3802)\" style=\"fill:#009af9; stroke:none; fill-opacity:1\" cx=\"1138.08\" cy=\"843.189\" r=\"14\"/>\n",
       "<circle clip-path=\"url(#clip3802)\" style=\"fill:#000000; stroke:none; fill-opacity:1\" cx=\"1043.97\" cy=\"898.751\" r=\"18\"/>\n",
       "<circle clip-path=\"url(#clip3802)\" style=\"fill:#009af9; stroke:none; fill-opacity:1\" cx=\"1043.97\" cy=\"898.751\" r=\"14\"/>\n",
       "<circle clip-path=\"url(#clip3802)\" style=\"fill:#000000; stroke:none; fill-opacity:1\" cx=\"1050.21\" cy=\"895.071\" r=\"18\"/>\n",
       "<circle clip-path=\"url(#clip3802)\" style=\"fill:#009af9; stroke:none; fill-opacity:1\" cx=\"1050.21\" cy=\"895.071\" r=\"14\"/>\n",
       "<circle clip-path=\"url(#clip3802)\" style=\"fill:#000000; stroke:none; fill-opacity:1\" cx=\"1431.81\" cy=\"669.773\" r=\"18\"/>\n",
       "<circle clip-path=\"url(#clip3802)\" style=\"fill:#009af9; stroke:none; fill-opacity:1\" cx=\"1431.81\" cy=\"669.773\" r=\"14\"/>\n",
       "<circle clip-path=\"url(#clip3802)\" style=\"fill:#000000; stroke:none; fill-opacity:1\" cx=\"1407.74\" cy=\"683.977\" r=\"18\"/>\n",
       "<circle clip-path=\"url(#clip3802)\" style=\"fill:#009af9; stroke:none; fill-opacity:1\" cx=\"1407.74\" cy=\"683.977\" r=\"14\"/>\n",
       "<circle clip-path=\"url(#clip3802)\" style=\"fill:#000000; stroke:none; fill-opacity:1\" cx=\"1705.8\" cy=\"507.993\" r=\"18\"/>\n",
       "<circle clip-path=\"url(#clip3802)\" style=\"fill:#009af9; stroke:none; fill-opacity:1\" cx=\"1705.8\" cy=\"507.993\" r=\"14\"/>\n",
       "<circle clip-path=\"url(#clip3802)\" style=\"fill:#000000; stroke:none; fill-opacity:1\" cx=\"1234.95\" cy=\"785.735\" r=\"18\"/>\n",
       "<circle clip-path=\"url(#clip3802)\" style=\"fill:#009af9; stroke:none; fill-opacity:1\" cx=\"1234.95\" cy=\"785.735\" r=\"14\"/>\n",
       "<circle clip-path=\"url(#clip3802)\" style=\"fill:#000000; stroke:none; fill-opacity:1\" cx=\"1770.71\" cy=\"469.678\" r=\"18\"/>\n",
       "<circle clip-path=\"url(#clip3802)\" style=\"fill:#009af9; stroke:none; fill-opacity:1\" cx=\"1770.71\" cy=\"469.678\" r=\"14\"/>\n",
       "<circle clip-path=\"url(#clip3802)\" style=\"fill:#000000; stroke:none; fill-opacity:1\" cx=\"1898.32\" cy=\"394.316\" r=\"18\"/>\n",
       "<circle clip-path=\"url(#clip3802)\" style=\"fill:#009af9; stroke:none; fill-opacity:1\" cx=\"1898.32\" cy=\"394.316\" r=\"14\"/>\n",
       "<circle clip-path=\"url(#clip3802)\" style=\"fill:#000000; stroke:none; fill-opacity:1\" cx=\"1778.45\" cy=\"465.091\" r=\"18\"/>\n",
       "<circle clip-path=\"url(#clip3802)\" style=\"fill:#009af9; stroke:none; fill-opacity:1\" cx=\"1778.45\" cy=\"465.091\" r=\"14\"/>\n",
       "<circle clip-path=\"url(#clip3802)\" style=\"fill:#000000; stroke:none; fill-opacity:1\" cx=\"1693.15\" cy=\"515.447\" r=\"18\"/>\n",
       "<circle clip-path=\"url(#clip3802)\" style=\"fill:#009af9; stroke:none; fill-opacity:1\" cx=\"1693.15\" cy=\"515.447\" r=\"14\"/>\n",
       "<circle clip-path=\"url(#clip3802)\" style=\"fill:#000000; stroke:none; fill-opacity:1\" cx=\"1841.25\" cy=\"427.741\" r=\"18\"/>\n",
       "<circle clip-path=\"url(#clip3802)\" style=\"fill:#009af9; stroke:none; fill-opacity:1\" cx=\"1841.25\" cy=\"427.741\" r=\"14\"/>\n",
       "<circle clip-path=\"url(#clip3802)\" style=\"fill:#000000; stroke:none; fill-opacity:1\" cx=\"1838.76\" cy=\"428.584\" r=\"18\"/>\n",
       "<circle clip-path=\"url(#clip3802)\" style=\"fill:#009af9; stroke:none; fill-opacity:1\" cx=\"1838.76\" cy=\"428.584\" r=\"14\"/>\n",
       "<circle clip-path=\"url(#clip3802)\" style=\"fill:#000000; stroke:none; fill-opacity:1\" cx=\"2296.07\" cy=\"158.579\" r=\"18\"/>\n",
       "<circle clip-path=\"url(#clip3802)\" style=\"fill:#009af9; stroke:none; fill-opacity:1\" cx=\"2296.07\" cy=\"158.579\" r=\"14\"/>\n",
       "<circle clip-path=\"url(#clip3802)\" style=\"fill:#000000; stroke:none; fill-opacity:1\" cx=\"1995.6\" cy=\"335.975\" r=\"18\"/>\n",
       "<circle clip-path=\"url(#clip3802)\" style=\"fill:#009af9; stroke:none; fill-opacity:1\" cx=\"1995.6\" cy=\"335.975\" r=\"14\"/>\n",
       "<circle clip-path=\"url(#clip3802)\" style=\"fill:#000000; stroke:none; fill-opacity:1\" cx=\"2002\" cy=\"332.196\" r=\"18\"/>\n",
       "<circle clip-path=\"url(#clip3802)\" style=\"fill:#009af9; stroke:none; fill-opacity:1\" cx=\"2002\" cy=\"332.196\" r=\"14\"/>\n",
       "<circle clip-path=\"url(#clip3802)\" style=\"fill:#000000; stroke:none; fill-opacity:1\" cx=\"2053.64\" cy=\"301.709\" r=\"18\"/>\n",
       "<circle clip-path=\"url(#clip3802)\" style=\"fill:#009af9; stroke:none; fill-opacity:1\" cx=\"2053.64\" cy=\"301.709\" r=\"14\"/>\n",
       "<circle clip-path=\"url(#clip3802)\" style=\"fill:#000000; stroke:none; fill-opacity:1\" cx=\"2267.75\" cy=\"175.035\" r=\"18\"/>\n",
       "<circle clip-path=\"url(#clip3802)\" style=\"fill:#009af9; stroke:none; fill-opacity:1\" cx=\"2267.75\" cy=\"175.035\" r=\"14\"/>\n",
       "<circle clip-path=\"url(#clip3802)\" style=\"fill:#000000; stroke:none; fill-opacity:1\" cx=\"1528.59\" cy=\"611.703\" r=\"18\"/>\n",
       "<circle clip-path=\"url(#clip3802)\" style=\"fill:#009af9; stroke:none; fill-opacity:1\" cx=\"1528.59\" cy=\"611.703\" r=\"14\"/>\n",
       "<circle clip-path=\"url(#clip3802)\" style=\"fill:#000000; stroke:none; fill-opacity:1\" cx=\"1335.73\" cy=\"725.569\" r=\"18\"/>\n",
       "<circle clip-path=\"url(#clip3802)\" style=\"fill:#009af9; stroke:none; fill-opacity:1\" cx=\"1335.73\" cy=\"725.569\" r=\"14\"/>\n",
       "<circle clip-path=\"url(#clip3802)\" style=\"fill:#000000; stroke:none; fill-opacity:1\" cx=\"1492.08\" cy=\"633.23\" r=\"18\"/>\n",
       "<circle clip-path=\"url(#clip3802)\" style=\"fill:#009af9; stroke:none; fill-opacity:1\" cx=\"1492.08\" cy=\"633.23\" r=\"14\"/>\n",
       "<circle clip-path=\"url(#clip3802)\" style=\"fill:#000000; stroke:none; fill-opacity:1\" cx=\"1735.09\" cy=\"489.731\" r=\"18\"/>\n",
       "<circle clip-path=\"url(#clip3802)\" style=\"fill:#009af9; stroke:none; fill-opacity:1\" cx=\"1735.09\" cy=\"489.731\" r=\"14\"/>\n",
       "<circle clip-path=\"url(#clip3802)\" style=\"fill:#000000; stroke:none; fill-opacity:1\" cx=\"1414.09\" cy=\"679.254\" r=\"18\"/>\n",
       "<circle clip-path=\"url(#clip3802)\" style=\"fill:#009af9; stroke:none; fill-opacity:1\" cx=\"1414.09\" cy=\"679.254\" r=\"14\"/>\n",
       "<circle clip-path=\"url(#clip3802)\" style=\"fill:#000000; stroke:none; fill-opacity:1\" cx=\"1155.97\" cy=\"831.652\" r=\"18\"/>\n",
       "<circle clip-path=\"url(#clip3802)\" style=\"fill:#009af9; stroke:none; fill-opacity:1\" cx=\"1155.97\" cy=\"831.652\" r=\"14\"/>\n",
       "<circle clip-path=\"url(#clip3802)\" style=\"fill:#000000; stroke:none; fill-opacity:1\" cx=\"1538.87\" cy=\"605.019\" r=\"18\"/>\n",
       "<circle clip-path=\"url(#clip3802)\" style=\"fill:#009af9; stroke:none; fill-opacity:1\" cx=\"1538.87\" cy=\"605.019\" r=\"14\"/>\n",
       "<circle clip-path=\"url(#clip3802)\" style=\"fill:#000000; stroke:none; fill-opacity:1\" cx=\"1248.62\" cy=\"776.376\" r=\"18\"/>\n",
       "<circle clip-path=\"url(#clip3802)\" style=\"fill:#009af9; stroke:none; fill-opacity:1\" cx=\"1248.62\" cy=\"776.376\" r=\"14\"/>\n",
       "<circle clip-path=\"url(#clip3802)\" style=\"fill:#000000; stroke:none; fill-opacity:1\" cx=\"1148.06\" cy=\"835.733\" r=\"18\"/>\n",
       "<circle clip-path=\"url(#clip3802)\" style=\"fill:#009af9; stroke:none; fill-opacity:1\" cx=\"1148.06\" cy=\"835.733\" r=\"14\"/>\n",
       "<circle clip-path=\"url(#clip3802)\" style=\"fill:#000000; stroke:none; fill-opacity:1\" cx=\"1098.21\" cy=\"865.158\" r=\"18\"/>\n",
       "<circle clip-path=\"url(#clip3802)\" style=\"fill:#009af9; stroke:none; fill-opacity:1\" cx=\"1098.21\" cy=\"865.158\" r=\"14\"/>\n",
       "<circle clip-path=\"url(#clip3802)\" style=\"fill:#000000; stroke:none; fill-opacity:1\" cx=\"1132.76\" cy=\"844.763\" r=\"18\"/>\n",
       "<circle clip-path=\"url(#clip3802)\" style=\"fill:#009af9; stroke:none; fill-opacity:1\" cx=\"1132.76\" cy=\"844.763\" r=\"14\"/>\n",
       "<circle clip-path=\"url(#clip3802)\" style=\"fill:#000000; stroke:none; fill-opacity:1\" cx=\"1412.37\" cy=\"679.664\" r=\"18\"/>\n",
       "<circle clip-path=\"url(#clip3802)\" style=\"fill:#009af9; stroke:none; fill-opacity:1\" cx=\"1412.37\" cy=\"679.664\" r=\"14\"/>\n",
       "<circle clip-path=\"url(#clip3802)\" style=\"fill:#000000; stroke:none; fill-opacity:1\" cx=\"1020.26\" cy=\"911.169\" r=\"18\"/>\n",
       "<circle clip-path=\"url(#clip3802)\" style=\"fill:#009af9; stroke:none; fill-opacity:1\" cx=\"1020.26\" cy=\"911.169\" r=\"14\"/>\n",
       "<circle clip-path=\"url(#clip3802)\" style=\"fill:#000000; stroke:none; fill-opacity:1\" cx=\"1305.52\" cy=\"742.75\" r=\"18\"/>\n",
       "<circle clip-path=\"url(#clip3802)\" style=\"fill:#009af9; stroke:none; fill-opacity:1\" cx=\"1305.52\" cy=\"742.75\" r=\"14\"/>\n",
       "<circle clip-path=\"url(#clip3802)\" style=\"fill:#000000; stroke:none; fill-opacity:1\" cx=\"926.944\" cy=\"966.28\" r=\"18\"/>\n",
       "<circle clip-path=\"url(#clip3802)\" style=\"fill:#009af9; stroke:none; fill-opacity:1\" cx=\"926.944\" cy=\"966.28\" r=\"14\"/>\n",
       "<circle clip-path=\"url(#clip3802)\" style=\"fill:#000000; stroke:none; fill-opacity:1\" cx=\"724.731\" cy=\"1085.68\" r=\"18\"/>\n",
       "<circle clip-path=\"url(#clip3802)\" style=\"fill:#009af9; stroke:none; fill-opacity:1\" cx=\"724.731\" cy=\"1085.68\" r=\"14\"/>\n",
       "<circle clip-path=\"url(#clip3802)\" style=\"fill:#000000; stroke:none; fill-opacity:1\" cx=\"711.275\" cy=\"1093.63\" r=\"18\"/>\n",
       "<circle clip-path=\"url(#clip3802)\" style=\"fill:#009af9; stroke:none; fill-opacity:1\" cx=\"711.275\" cy=\"1093.63\" r=\"14\"/>\n",
       "<circle clip-path=\"url(#clip3802)\" style=\"fill:#000000; stroke:none; fill-opacity:1\" cx=\"593.127\" cy=\"1163.39\" r=\"18\"/>\n",
       "<circle clip-path=\"url(#clip3802)\" style=\"fill:#009af9; stroke:none; fill-opacity:1\" cx=\"593.127\" cy=\"1163.39\" r=\"14\"/>\n",
       "<circle clip-path=\"url(#clip3802)\" style=\"fill:#000000; stroke:none; fill-opacity:1\" cx=\"685.957\" cy=\"1108.59\" r=\"18\"/>\n",
       "<circle clip-path=\"url(#clip3802)\" style=\"fill:#009af9; stroke:none; fill-opacity:1\" cx=\"685.957\" cy=\"1108.59\" r=\"14\"/>\n",
       "<circle clip-path=\"url(#clip3802)\" style=\"fill:#000000; stroke:none; fill-opacity:1\" cx=\"644.524\" cy=\"1135.64\" r=\"18\"/>\n",
       "<circle clip-path=\"url(#clip3802)\" style=\"fill:#009af9; stroke:none; fill-opacity:1\" cx=\"644.524\" cy=\"1135.64\" r=\"14\"/>\n",
       "<circle clip-path=\"url(#clip3802)\" style=\"fill:#000000; stroke:none; fill-opacity:1\" cx=\"626.966\" cy=\"1146.01\" r=\"18\"/>\n",
       "<circle clip-path=\"url(#clip3802)\" style=\"fill:#009af9; stroke:none; fill-opacity:1\" cx=\"626.966\" cy=\"1146.01\" r=\"14\"/>\n",
       "<circle clip-path=\"url(#clip3802)\" style=\"fill:#000000; stroke:none; fill-opacity:1\" cx=\"547.411\" cy=\"1192.97\" r=\"18\"/>\n",
       "<circle clip-path=\"url(#clip3802)\" style=\"fill:#009af9; stroke:none; fill-opacity:1\" cx=\"547.411\" cy=\"1192.97\" r=\"14\"/>\n",
       "<circle clip-path=\"url(#clip3802)\" style=\"fill:#000000; stroke:none; fill-opacity:1\" cx=\"658.764\" cy=\"1127.22\" r=\"18\"/>\n",
       "<circle clip-path=\"url(#clip3802)\" style=\"fill:#009af9; stroke:none; fill-opacity:1\" cx=\"658.764\" cy=\"1127.22\" r=\"14\"/>\n",
       "<circle clip-path=\"url(#clip3802)\" style=\"fill:#000000; stroke:none; fill-opacity:1\" cx=\"626.578\" cy=\"1146.22\" r=\"18\"/>\n",
       "<circle clip-path=\"url(#clip3802)\" style=\"fill:#009af9; stroke:none; fill-opacity:1\" cx=\"626.578\" cy=\"1146.22\" r=\"14\"/>\n",
       "<circle clip-path=\"url(#clip3802)\" style=\"fill:#000000; stroke:none; fill-opacity:1\" cx=\"456.109\" cy=\"1246.86\" r=\"18\"/>\n",
       "<circle clip-path=\"url(#clip3802)\" style=\"fill:#009af9; stroke:none; fill-opacity:1\" cx=\"456.109\" cy=\"1246.86\" r=\"14\"/>\n",
       "<circle clip-path=\"url(#clip3802)\" style=\"fill:#000000; stroke:none; fill-opacity:1\" cx=\"479.668\" cy=\"1232.96\" r=\"18\"/>\n",
       "<circle clip-path=\"url(#clip3802)\" style=\"fill:#009af9; stroke:none; fill-opacity:1\" cx=\"479.668\" cy=\"1232.96\" r=\"14\"/>\n",
       "<circle clip-path=\"url(#clip3802)\" style=\"fill:#000000; stroke:none; fill-opacity:1\" cx=\"494.153\" cy=\"1224.42\" r=\"18\"/>\n",
       "<circle clip-path=\"url(#clip3802)\" style=\"fill:#009af9; stroke:none; fill-opacity:1\" cx=\"494.153\" cy=\"1224.42\" r=\"14\"/>\n",
       "<circle clip-path=\"url(#clip3802)\" style=\"fill:#000000; stroke:none; fill-opacity:1\" cx=\"558.943\" cy=\"1186.17\" r=\"18\"/>\n",
       "<circle clip-path=\"url(#clip3802)\" style=\"fill:#009af9; stroke:none; fill-opacity:1\" cx=\"558.943\" cy=\"1186.17\" r=\"14\"/>\n",
       "<circle clip-path=\"url(#clip3802)\" style=\"fill:#000000; stroke:none; fill-opacity:1\" cx=\"565.285\" cy=\"1182.42\" r=\"18\"/>\n",
       "<circle clip-path=\"url(#clip3802)\" style=\"fill:#009af9; stroke:none; fill-opacity:1\" cx=\"565.285\" cy=\"1182.42\" r=\"14\"/>\n",
       "<circle clip-path=\"url(#clip3802)\" style=\"fill:#000000; stroke:none; fill-opacity:1\" cx=\"986.783\" cy=\"933.306\" r=\"18\"/>\n",
       "<circle clip-path=\"url(#clip3802)\" style=\"fill:#009af9; stroke:none; fill-opacity:1\" cx=\"986.783\" cy=\"933.306\" r=\"14\"/>\n",
       "<circle clip-path=\"url(#clip3802)\" style=\"fill:#000000; stroke:none; fill-opacity:1\" cx=\"843.683\" cy=\"1018.05\" r=\"18\"/>\n",
       "<circle clip-path=\"url(#clip3802)\" style=\"fill:#009af9; stroke:none; fill-opacity:1\" cx=\"843.683\" cy=\"1018.05\" r=\"14\"/>\n",
       "<circle clip-path=\"url(#clip3802)\" style=\"fill:#000000; stroke:none; fill-opacity:1\" cx=\"980.163\" cy=\"937.482\" r=\"18\"/>\n",
       "<circle clip-path=\"url(#clip3802)\" style=\"fill:#009af9; stroke:none; fill-opacity:1\" cx=\"980.163\" cy=\"937.482\" r=\"14\"/>\n",
       "<circle clip-path=\"url(#clip3802)\" style=\"fill:#000000; stroke:none; fill-opacity:1\" cx=\"822.872\" cy=\"1030.36\" r=\"18\"/>\n",
       "<circle clip-path=\"url(#clip3802)\" style=\"fill:#009af9; stroke:none; fill-opacity:1\" cx=\"822.872\" cy=\"1030.36\" r=\"14\"/>\n",
       "<circle clip-path=\"url(#clip3802)\" style=\"fill:#000000; stroke:none; fill-opacity:1\" cx=\"1164.69\" cy=\"827.672\" r=\"18\"/>\n",
       "<circle clip-path=\"url(#clip3802)\" style=\"fill:#009af9; stroke:none; fill-opacity:1\" cx=\"1164.69\" cy=\"827.672\" r=\"14\"/>\n",
       "<circle clip-path=\"url(#clip3802)\" style=\"fill:#000000; stroke:none; fill-opacity:1\" cx=\"1076.66\" cy=\"879.645\" r=\"18\"/>\n",
       "<circle clip-path=\"url(#clip3802)\" style=\"fill:#009af9; stroke:none; fill-opacity:1\" cx=\"1076.66\" cy=\"879.645\" r=\"14\"/>\n",
       "<circle clip-path=\"url(#clip3802)\" style=\"fill:#000000; stroke:none; fill-opacity:1\" cx=\"1374.94\" cy=\"703.525\" r=\"18\"/>\n",
       "<circle clip-path=\"url(#clip3802)\" style=\"fill:#009af9; stroke:none; fill-opacity:1\" cx=\"1374.94\" cy=\"703.525\" r=\"14\"/>\n",
       "<circle clip-path=\"url(#clip3802)\" style=\"fill:#000000; stroke:none; fill-opacity:1\" cx=\"1276.88\" cy=\"761.418\" r=\"18\"/>\n",
       "<circle clip-path=\"url(#clip3802)\" style=\"fill:#009af9; stroke:none; fill-opacity:1\" cx=\"1276.88\" cy=\"761.418\" r=\"14\"/>\n",
       "<circle clip-path=\"url(#clip3802)\" style=\"fill:#000000; stroke:none; fill-opacity:1\" cx=\"1680.68\" cy=\"523.016\" r=\"18\"/>\n",
       "<circle clip-path=\"url(#clip3802)\" style=\"fill:#009af9; stroke:none; fill-opacity:1\" cx=\"1680.68\" cy=\"523.016\" r=\"14\"/>\n",
       "<circle clip-path=\"url(#clip3802)\" style=\"fill:#000000; stroke:none; fill-opacity:1\" cx=\"1528.24\" cy=\"621.831\" r=\"18\"/>\n",
       "<circle clip-path=\"url(#clip3802)\" style=\"fill:#009af9; stroke:none; fill-opacity:1\" cx=\"1528.24\" cy=\"621.831\" r=\"14\"/>\n",
       "<circle clip-path=\"url(#clip3802)\" style=\"fill:#000000; stroke:none; fill-opacity:1\" cx=\"1418.88\" cy=\"686.403\" r=\"18\"/>\n",
       "<circle clip-path=\"url(#clip3802)\" style=\"fill:#009af9; stroke:none; fill-opacity:1\" cx=\"1418.88\" cy=\"686.403\" r=\"14\"/>\n",
       "<circle clip-path=\"url(#clip3802)\" style=\"fill:#000000; stroke:none; fill-opacity:1\" cx=\"1481.16\" cy=\"820.821\" r=\"18\"/>\n",
       "<circle clip-path=\"url(#clip3802)\" style=\"fill:#009af9; stroke:none; fill-opacity:1\" cx=\"1481.16\" cy=\"820.821\" r=\"14\"/>\n",
       "<circle clip-path=\"url(#clip3802)\" style=\"fill:#000000; stroke:none; fill-opacity:1\" cx=\"1868.03\" cy=\"468.517\" r=\"18\"/>\n",
       "<circle clip-path=\"url(#clip3802)\" style=\"fill:#009af9; stroke:none; fill-opacity:1\" cx=\"1868.03\" cy=\"468.517\" r=\"14\"/>\n",
       "<circle clip-path=\"url(#clip3802)\" style=\"fill:#000000; stroke:none; fill-opacity:1\" cx=\"2042.09\" cy=\"365.753\" r=\"18\"/>\n",
       "<circle clip-path=\"url(#clip3802)\" style=\"fill:#009af9; stroke:none; fill-opacity:1\" cx=\"2042.09\" cy=\"365.753\" r=\"14\"/>\n",
       "<circle clip-path=\"url(#clip3802)\" style=\"fill:#000000; stroke:none; fill-opacity:1\" cx=\"1769.38\" cy=\"479.476\" r=\"18\"/>\n",
       "<circle clip-path=\"url(#clip3802)\" style=\"fill:#009af9; stroke:none; fill-opacity:1\" cx=\"1769.38\" cy=\"479.476\" r=\"14\"/>\n",
       "<circle clip-path=\"url(#clip3802)\" style=\"fill:#000000; stroke:none; fill-opacity:1\" cx=\"1891.29\" cy=\"454.793\" r=\"18\"/>\n",
       "<circle clip-path=\"url(#clip3802)\" style=\"fill:#009af9; stroke:none; fill-opacity:1\" cx=\"1891.29\" cy=\"454.793\" r=\"14\"/>\n",
       "<circle clip-path=\"url(#clip3802)\" style=\"fill:#000000; stroke:none; fill-opacity:1\" cx=\"2015.08\" cy=\"280.906\" r=\"18\"/>\n",
       "<circle clip-path=\"url(#clip3802)\" style=\"fill:#009af9; stroke:none; fill-opacity:1\" cx=\"2015.08\" cy=\"280.906\" r=\"14\"/>\n",
       "<circle clip-path=\"url(#clip3802)\" style=\"fill:#000000; stroke:none; fill-opacity:1\" cx=\"1786.91\" cy=\"411.098\" r=\"18\"/>\n",
       "<circle clip-path=\"url(#clip3802)\" style=\"fill:#009af9; stroke:none; fill-opacity:1\" cx=\"1786.91\" cy=\"411.098\" r=\"14\"/>\n",
       "<circle clip-path=\"url(#clip3802)\" style=\"fill:#000000; stroke:none; fill-opacity:1\" cx=\"1821.97\" cy=\"390.388\" r=\"18\"/>\n",
       "<circle clip-path=\"url(#clip3802)\" style=\"fill:#009af9; stroke:none; fill-opacity:1\" cx=\"1821.97\" cy=\"390.388\" r=\"14\"/>\n",
       "<circle clip-path=\"url(#clip3802)\" style=\"fill:#000000; stroke:none; fill-opacity:1\" cx=\"1625.43\" cy=\"559.673\" r=\"18\"/>\n",
       "<circle clip-path=\"url(#clip3802)\" style=\"fill:#009af9; stroke:none; fill-opacity:1\" cx=\"1625.43\" cy=\"559.673\" r=\"14\"/>\n",
       "<circle clip-path=\"url(#clip3802)\" style=\"fill:#000000; stroke:none; fill-opacity:1\" cx=\"1623.93\" cy=\"607.842\" r=\"18\"/>\n",
       "<circle clip-path=\"url(#clip3802)\" style=\"fill:#009af9; stroke:none; fill-opacity:1\" cx=\"1623.93\" cy=\"607.842\" r=\"14\"/>\n",
       "<circle clip-path=\"url(#clip3802)\" style=\"fill:#000000; stroke:none; fill-opacity:1\" cx=\"1554.92\" cy=\"601.291\" r=\"18\"/>\n",
       "<circle clip-path=\"url(#clip3802)\" style=\"fill:#009af9; stroke:none; fill-opacity:1\" cx=\"1554.92\" cy=\"601.291\" r=\"14\"/>\n",
       "<circle clip-path=\"url(#clip3802)\" style=\"fill:#000000; stroke:none; fill-opacity:1\" cx=\"1865.72\" cy=\"417.528\" r=\"18\"/>\n",
       "<circle clip-path=\"url(#clip3802)\" style=\"fill:#009af9; stroke:none; fill-opacity:1\" cx=\"1865.72\" cy=\"417.528\" r=\"14\"/>\n",
       "<circle clip-path=\"url(#clip3802)\" style=\"fill:#000000; stroke:none; fill-opacity:1\" cx=\"1978.93\" cy=\"297.684\" r=\"18\"/>\n",
       "<circle clip-path=\"url(#clip3802)\" style=\"fill:#009af9; stroke:none; fill-opacity:1\" cx=\"1978.93\" cy=\"297.684\" r=\"14\"/>\n",
       "<circle clip-path=\"url(#clip3802)\" style=\"fill:#000000; stroke:none; fill-opacity:1\" cx=\"1563.95\" cy=\"595.937\" r=\"18\"/>\n",
       "<circle clip-path=\"url(#clip3802)\" style=\"fill:#009af9; stroke:none; fill-opacity:1\" cx=\"1563.95\" cy=\"595.937\" r=\"14\"/>\n",
       "<circle clip-path=\"url(#clip3802)\" style=\"fill:#000000; stroke:none; fill-opacity:1\" cx=\"1445.49\" cy=\"874.512\" r=\"18\"/>\n",
       "<circle clip-path=\"url(#clip3802)\" style=\"fill:#009af9; stroke:none; fill-opacity:1\" cx=\"1445.49\" cy=\"874.512\" r=\"14\"/>\n",
       "<circle clip-path=\"url(#clip3802)\" style=\"fill:#000000; stroke:none; fill-opacity:1\" cx=\"1530.22\" cy=\"615.839\" r=\"18\"/>\n",
       "<circle clip-path=\"url(#clip3802)\" style=\"fill:#009af9; stroke:none; fill-opacity:1\" cx=\"1530.22\" cy=\"615.839\" r=\"14\"/>\n",
       "<circle clip-path=\"url(#clip3802)\" style=\"fill:#000000; stroke:none; fill-opacity:1\" cx=\"1329.57\" cy=\"734.295\" r=\"18\"/>\n",
       "<circle clip-path=\"url(#clip3802)\" style=\"fill:#009af9; stroke:none; fill-opacity:1\" cx=\"1329.57\" cy=\"734.295\" r=\"14\"/>\n",
       "<circle clip-path=\"url(#clip3802)\" style=\"fill:#000000; stroke:none; fill-opacity:1\" cx=\"1296.6\" cy=\"753.759\" r=\"18\"/>\n",
       "<circle clip-path=\"url(#clip3802)\" style=\"fill:#009af9; stroke:none; fill-opacity:1\" cx=\"1296.6\" cy=\"753.759\" r=\"14\"/>\n",
       "<circle clip-path=\"url(#clip3802)\" style=\"fill:#000000; stroke:none; fill-opacity:1\" cx=\"1247.13\" cy=\"782.961\" r=\"18\"/>\n",
       "<circle clip-path=\"url(#clip3802)\" style=\"fill:#009af9; stroke:none; fill-opacity:1\" cx=\"1247.13\" cy=\"782.961\" r=\"14\"/>\n",
       "<circle clip-path=\"url(#clip3802)\" style=\"fill:#000000; stroke:none; fill-opacity:1\" cx=\"1125.5\" cy=\"799.626\" r=\"18\"/>\n",
       "<circle clip-path=\"url(#clip3802)\" style=\"fill:#009af9; stroke:none; fill-opacity:1\" cx=\"1125.5\" cy=\"799.626\" r=\"14\"/>\n",
       "<circle clip-path=\"url(#clip3802)\" style=\"fill:#000000; stroke:none; fill-opacity:1\" cx=\"1173.69\" cy=\"824.419\" r=\"18\"/>\n",
       "<circle clip-path=\"url(#clip3802)\" style=\"fill:#009af9; stroke:none; fill-opacity:1\" cx=\"1173.69\" cy=\"824.419\" r=\"14\"/>\n",
       "<circle clip-path=\"url(#clip3802)\" style=\"fill:#000000; stroke:none; fill-opacity:1\" cx=\"1253.13\" cy=\"824.808\" r=\"18\"/>\n",
       "<circle clip-path=\"url(#clip3802)\" style=\"fill:#009af9; stroke:none; fill-opacity:1\" cx=\"1253.13\" cy=\"824.808\" r=\"14\"/>\n",
       "<circle clip-path=\"url(#clip3802)\" style=\"fill:#000000; stroke:none; fill-opacity:1\" cx=\"1225.54\" cy=\"740.568\" r=\"18\"/>\n",
       "<circle clip-path=\"url(#clip3802)\" style=\"fill:#009af9; stroke:none; fill-opacity:1\" cx=\"1225.54\" cy=\"740.568\" r=\"14\"/>\n",
       "<circle clip-path=\"url(#clip3802)\" style=\"fill:#000000; stroke:none; fill-opacity:1\" cx=\"919.411\" cy=\"921.319\" r=\"18\"/>\n",
       "<circle clip-path=\"url(#clip3802)\" style=\"fill:#009af9; stroke:none; fill-opacity:1\" cx=\"919.411\" cy=\"921.319\" r=\"14\"/>\n",
       "<circle clip-path=\"url(#clip3802)\" style=\"fill:#000000; stroke:none; fill-opacity:1\" cx=\"971.908\" cy=\"890.331\" r=\"18\"/>\n",
       "<circle clip-path=\"url(#clip3802)\" style=\"fill:#009af9; stroke:none; fill-opacity:1\" cx=\"971.908\" cy=\"890.331\" r=\"14\"/>\n",
       "<circle clip-path=\"url(#clip3802)\" style=\"fill:#000000; stroke:none; fill-opacity:1\" cx=\"1083.75\" cy=\"824.303\" r=\"18\"/>\n",
       "<circle clip-path=\"url(#clip3802)\" style=\"fill:#009af9; stroke:none; fill-opacity:1\" cx=\"1083.75\" cy=\"824.303\" r=\"14\"/>\n",
       "<circle clip-path=\"url(#clip3802)\" style=\"fill:#000000; stroke:none; fill-opacity:1\" cx=\"827.607\" cy=\"975.544\" r=\"18\"/>\n",
       "<circle clip-path=\"url(#clip3802)\" style=\"fill:#009af9; stroke:none; fill-opacity:1\" cx=\"827.607\" cy=\"975.544\" r=\"14\"/>\n",
       "<circle clip-path=\"url(#clip3802)\" style=\"fill:#000000; stroke:none; fill-opacity:1\" cx=\"791.326\" cy=\"1050.22\" r=\"18\"/>\n",
       "<circle clip-path=\"url(#clip3802)\" style=\"fill:#009af9; stroke:none; fill-opacity:1\" cx=\"791.326\" cy=\"1050.22\" r=\"14\"/>\n",
       "<circle clip-path=\"url(#clip3802)\" style=\"fill:#000000; stroke:none; fill-opacity:1\" cx=\"770.42\" cy=\"1062.57\" r=\"18\"/>\n",
       "<circle clip-path=\"url(#clip3802)\" style=\"fill:#009af9; stroke:none; fill-opacity:1\" cx=\"770.42\" cy=\"1062.57\" r=\"14\"/>\n",
       "<circle clip-path=\"url(#clip3802)\" style=\"fill:#000000; stroke:none; fill-opacity:1\" cx=\"722.972\" cy=\"1090.59\" r=\"18\"/>\n",
       "<circle clip-path=\"url(#clip3802)\" style=\"fill:#009af9; stroke:none; fill-opacity:1\" cx=\"722.972\" cy=\"1090.59\" r=\"14\"/>\n",
       "<circle clip-path=\"url(#clip3802)\" style=\"fill:#000000; stroke:none; fill-opacity:1\" cx=\"748.838\" cy=\"1075.33\" r=\"18\"/>\n",
       "<circle clip-path=\"url(#clip3802)\" style=\"fill:#009af9; stroke:none; fill-opacity:1\" cx=\"748.838\" cy=\"1075.33\" r=\"14\"/>\n",
       "<circle clip-path=\"url(#clip3802)\" style=\"fill:#000000; stroke:none; fill-opacity:1\" cx=\"508.429\" cy=\"1388.71\" r=\"18\"/>\n",
       "<circle clip-path=\"url(#clip3802)\" style=\"fill:#009af9; stroke:none; fill-opacity:1\" cx=\"508.429\" cy=\"1388.71\" r=\"14\"/>\n",
       "<circle clip-path=\"url(#clip3802)\" style=\"fill:#000000; stroke:none; fill-opacity:1\" cx=\"581.48\" cy=\"1171.98\" r=\"18\"/>\n",
       "<circle clip-path=\"url(#clip3802)\" style=\"fill:#009af9; stroke:none; fill-opacity:1\" cx=\"581.48\" cy=\"1171.98\" r=\"14\"/>\n",
       "<circle clip-path=\"url(#clip3802)\" style=\"fill:#000000; stroke:none; fill-opacity:1\" cx=\"744.215\" cy=\"1075.9\" r=\"18\"/>\n",
       "<circle clip-path=\"url(#clip3802)\" style=\"fill:#009af9; stroke:none; fill-opacity:1\" cx=\"744.215\" cy=\"1075.9\" r=\"14\"/>\n",
       "<circle clip-path=\"url(#clip3802)\" style=\"fill:#000000; stroke:none; fill-opacity:1\" cx=\"636.81\" cy=\"1186.59\" r=\"18\"/>\n",
       "<circle clip-path=\"url(#clip3802)\" style=\"fill:#009af9; stroke:none; fill-opacity:1\" cx=\"636.81\" cy=\"1186.59\" r=\"14\"/>\n",
       "<circle clip-path=\"url(#clip3802)\" style=\"fill:#000000; stroke:none; fill-opacity:1\" cx=\"574.084\" cy=\"1384.97\" r=\"18\"/>\n",
       "<circle clip-path=\"url(#clip3802)\" style=\"fill:#009af9; stroke:none; fill-opacity:1\" cx=\"574.084\" cy=\"1384.97\" r=\"14\"/>\n",
       "<circle clip-path=\"url(#clip3802)\" style=\"fill:#000000; stroke:none; fill-opacity:1\" cx=\"453.555\" cy=\"1247.49\" r=\"18\"/>\n",
       "<circle clip-path=\"url(#clip3802)\" style=\"fill:#009af9; stroke:none; fill-opacity:1\" cx=\"453.555\" cy=\"1247.49\" r=\"14\"/>\n",
       "<circle clip-path=\"url(#clip3802)\" style=\"fill:#000000; stroke:none; fill-opacity:1\" cx=\"504.481\" cy=\"1217.41\" r=\"18\"/>\n",
       "<circle clip-path=\"url(#clip3802)\" style=\"fill:#009af9; stroke:none; fill-opacity:1\" cx=\"504.481\" cy=\"1217.41\" r=\"14\"/>\n",
       "<circle clip-path=\"url(#clip3802)\" style=\"fill:#000000; stroke:none; fill-opacity:1\" cx=\"524.93\" cy=\"1205.33\" r=\"18\"/>\n",
       "<circle clip-path=\"url(#clip3802)\" style=\"fill:#009af9; stroke:none; fill-opacity:1\" cx=\"524.93\" cy=\"1205.33\" r=\"14\"/>\n",
       "<circle clip-path=\"url(#clip3802)\" style=\"fill:#000000; stroke:none; fill-opacity:1\" cx=\"788.238\" cy=\"1097.15\" r=\"18\"/>\n",
       "<circle clip-path=\"url(#clip3802)\" style=\"fill:#009af9; stroke:none; fill-opacity:1\" cx=\"788.238\" cy=\"1097.15\" r=\"14\"/>\n",
       "<circle clip-path=\"url(#clip3802)\" style=\"fill:#000000; stroke:none; fill-opacity:1\" cx=\"691.069\" cy=\"1107.23\" r=\"18\"/>\n",
       "<circle clip-path=\"url(#clip3802)\" style=\"fill:#009af9; stroke:none; fill-opacity:1\" cx=\"691.069\" cy=\"1107.23\" r=\"14\"/>\n",
       "<circle clip-path=\"url(#clip3802)\" style=\"fill:#000000; stroke:none; fill-opacity:1\" cx=\"584.06\" cy=\"1170.14\" r=\"18\"/>\n",
       "<circle clip-path=\"url(#clip3802)\" style=\"fill:#009af9; stroke:none; fill-opacity:1\" cx=\"584.06\" cy=\"1170.14\" r=\"14\"/>\n",
       "<circle clip-path=\"url(#clip3802)\" style=\"fill:#000000; stroke:none; fill-opacity:1\" cx=\"900.399\" cy=\"983.628\" r=\"18\"/>\n",
       "<circle clip-path=\"url(#clip3802)\" style=\"fill:#009af9; stroke:none; fill-opacity:1\" cx=\"900.399\" cy=\"983.628\" r=\"14\"/>\n",
       "<circle clip-path=\"url(#clip3802)\" style=\"fill:#000000; stroke:none; fill-opacity:1\" cx=\"1081.83\" cy=\"923.794\" r=\"18\"/>\n",
       "<circle clip-path=\"url(#clip3802)\" style=\"fill:#009af9; stroke:none; fill-opacity:1\" cx=\"1081.83\" cy=\"923.794\" r=\"14\"/>\n",
       "<circle clip-path=\"url(#clip3802)\" style=\"fill:#000000; stroke:none; fill-opacity:1\" cx=\"852.213\" cy=\"1059.37\" r=\"18\"/>\n",
       "<circle clip-path=\"url(#clip3802)\" style=\"fill:#009af9; stroke:none; fill-opacity:1\" cx=\"852.213\" cy=\"1059.37\" r=\"14\"/>\n",
       "<circle clip-path=\"url(#clip3802)\" style=\"fill:#000000; stroke:none; fill-opacity:1\" cx=\"1062.08\" cy=\"831.842\" r=\"18\"/>\n",
       "<circle clip-path=\"url(#clip3802)\" style=\"fill:#009af9; stroke:none; fill-opacity:1\" cx=\"1062.08\" cy=\"831.842\" r=\"14\"/>\n",
       "<circle clip-path=\"url(#clip3802)\" style=\"fill:#000000; stroke:none; fill-opacity:1\" cx=\"1256.34\" cy=\"717.148\" r=\"18\"/>\n",
       "<circle clip-path=\"url(#clip3802)\" style=\"fill:#009af9; stroke:none; fill-opacity:1\" cx=\"1256.34\" cy=\"717.148\" r=\"14\"/>\n",
       "<circle clip-path=\"url(#clip3802)\" style=\"fill:#000000; stroke:none; fill-opacity:1\" cx=\"1078.64\" cy=\"822.065\" r=\"18\"/>\n",
       "<circle clip-path=\"url(#clip3802)\" style=\"fill:#009af9; stroke:none; fill-opacity:1\" cx=\"1078.64\" cy=\"822.065\" r=\"14\"/>\n",
       "<circle clip-path=\"url(#clip3802)\" style=\"fill:#000000; stroke:none; fill-opacity:1\" cx=\"1021.2\" cy=\"909.24\" r=\"18\"/>\n",
       "<circle clip-path=\"url(#clip3802)\" style=\"fill:#009af9; stroke:none; fill-opacity:1\" cx=\"1021.2\" cy=\"909.24\" r=\"14\"/>\n",
       "</svg>\n"
      ]
     },
     "execution_count": 145,
     "metadata": {},
     "output_type": "execute_result"
    }
   ],
   "source": [
    "scatter(predictions, encoded_predictions, legend=false)\n",
    "title!(\"Predicrions using all data vs. numerical features only\")\n",
    "xlabel!(\"Predictions using numerical features\")\n",
    "ylabel!(\"Predictions using all features\")"
   ]
  },
  {
   "cell_type": "markdown",
   "metadata": {},
   "source": [
    "## Model Diagnosis"
   ]
  },
  {
   "cell_type": "markdown",
   "metadata": {},
   "source": [
    "Why might this be the case? We can examine the parameters that both models learn. The table below shows the weights learned by the classifier that only used numerical variables without one-hot encoding:"
   ]
  },
  {
   "cell_type": "code",
   "execution_count": 187,
   "metadata": {},
   "outputs": [
    {
     "data": {
      "text/html": [
       "<table class=\"data-frame\"><thead><tr><th></th><th>Weights</th><th>Column</th></tr><tr><th></th><th>Float64</th><th>Symbol</th></tr></thead><tbody><p>4 rows × 2 columns</p><tr><th>1</th><td>-332.221</td><td>Temperature</td></tr><tr><th>2</th><td>1626.63</td><td>Fuel_Price</td></tr><tr><th>3</th><td>1356.87</td><td>Unemployment</td></tr><tr><th>4</th><td>29642.7</td><td>Intercept</td></tr></tbody></table>"
      ],
      "text/latex": [
       "\\begin{tabular}{r|cc}\n",
       "\t& Weights & Column\\\\\n",
       "\t\\hline\n",
       "\t& Float64 & Symbol\\\\\n",
       "\t\\hline\n",
       "\t1 & -332.221 & Temperature \\\\\n",
       "\t2 & 1626.63 & Fuel\\_Price \\\\\n",
       "\t3 & 1356.87 & Unemployment \\\\\n",
       "\t4 & 29642.7 & Intercept \\\\\n",
       "\\end{tabular}\n"
      ],
      "text/plain": [
       "4×2 DataFrame\n"
      ]
     },
     "execution_count": 187,
     "metadata": {},
     "output_type": "execute_result"
    }
   ],
   "source": [
    "# HIDDEN\n",
    "df = DataFrame(Weights=fitted_params(lr_numerical).coef, Column=names(X))\n",
    "push!(df, [fitted_params(lr_numerical).intercept, :Intercept])"
   ]
  },
  {
   "cell_type": "markdown",
   "metadata": {},
   "source": [
    "The table below shows the weights learned by the classifier with one-hot encoding."
   ]
  },
  {
   "cell_type": "code",
   "execution_count": 191,
   "metadata": {},
   "outputs": [
    {
     "data": {
      "text/html": [
       "<table class=\"data-frame\"><thead><tr><th></th><th>Weights</th><th>Column</th></tr><tr><th></th><th>Float64</th><th>Symbol</th></tr></thead><tbody><p>12 rows × 2 columns</p><tr><th>1</th><td>-330.913</td><td>Temperature</td></tr><tr><th>2</th><td>1622.11</td><td>Fuel_Price</td></tr><tr><th>3</th><td>1205.56</td><td>Unemployment</td></tr><tr><th>4</th><td>1102.25</td><td>MarkDown=No Markdown</td></tr><tr><th>5</th><td>962.909</td><td>MarkDown=MarkDown1</td></tr><tr><th>6</th><td>1805.06</td><td>MarkDown=MarkDown2</td></tr><tr><th>7</th><td>-1748.48</td><td>MarkDown=MarkDown3</td></tr><tr><th>8</th><td>-2336.8</td><td>MarkDown=MarkDown4</td></tr><tr><th>9</th><td>215.061</td><td>MarkDown=MarkDown5</td></tr><tr><th>10</th><td>-2.04145</td><td>IsHoliday=No</td></tr><tr><th>11</th><td>2.04145</td><td>IsHoliday=Yes</td></tr><tr><th>12</th><td>29642.7</td><td>Intercept</td></tr></tbody></table>"
      ],
      "text/latex": [
       "\\begin{tabular}{r|cc}\n",
       "\t& Weights & Column\\\\\n",
       "\t\\hline\n",
       "\t& Float64 & Symbol\\\\\n",
       "\t\\hline\n",
       "\t1 & -330.913 & Temperature \\\\\n",
       "\t2 & 1622.11 & Fuel\\_Price \\\\\n",
       "\t3 & 1205.56 & Unemployment \\\\\n",
       "\t4 & 1102.25 & MarkDown=No Markdown \\\\\n",
       "\t5 & 962.909 & MarkDown=MarkDown1 \\\\\n",
       "\t6 & 1805.06 & MarkDown=MarkDown2 \\\\\n",
       "\t7 & -1748.48 & MarkDown=MarkDown3 \\\\\n",
       "\t8 & -2336.8 & MarkDown=MarkDown4 \\\\\n",
       "\t9 & 215.061 & MarkDown=MarkDown5 \\\\\n",
       "\t10 & -2.04145 & IsHoliday=No \\\\\n",
       "\t11 & 2.04145 & IsHoliday=Yes \\\\\n",
       "\t12 & 29642.7 & Intercept \\\\\n",
       "\\end{tabular}\n"
      ],
      "text/plain": [
       "12×2 DataFrame\n",
       "│ Row │ Weights  │ Column        │\n",
       "│     │ \u001b[90mFloat64\u001b[39m  │ \u001b[90mSymbol\u001b[39m        │\n",
       "├─────┼──────────┼───────────────┤\n",
       "│ 1   │ -330.913 │ Temperature   │\n",
       "⋮\n",
       "│ 11  │ 2.04145  │ IsHoliday=Yes │\n",
       "│ 12  │ 29642.7  │ Intercept     │"
      ]
     },
     "execution_count": 191,
     "metadata": {},
     "output_type": "execute_result"
    }
   ],
   "source": [
    "# HIDDEN\n",
    "Base.displaysize() = (12, 80)\n",
    "df2 = DataFrame(Weights=fitted_params(lr).coef, Column=names(X))\n",
    "push!(df2, [fitted_params(lr_numerical).intercept, :Intercept])"
   ]
  },
  {
   "cell_type": "markdown",
   "metadata": {},
   "source": [
    "We can see that even when we fit a linear regression model using one-hot encoded columns the weights for fuel price, temperature, and unemployment are very similar to the previous values. All the weights are small in comparison to the intercept term, suggesting that most of the variables are still only slightly correlated with the actual sale amounts. In fact, the model weights for the `IsHoliday` variable are so low that it makes nearly no difference in prediction whether the date was a holiday or not. Although some of the `MarkDown` weights are rather large, many markdown events only appear a few times in the dataset."
   ]
  },
  {
   "cell_type": "code",
   "execution_count": 192,
   "metadata": {},
   "outputs": [
    {
     "data": {
      "text/plain": [
       "Dict{String,Int64} with 6 entries:\n",
       "  \"MarkDown4\"   => 2\n",
       "  \"No Markdown\" => 92\n",
       "  \"MarkDown2\"   => 13\n",
       "  \"MarkDown3\"   => 2\n",
       "  \"MarkDown5\"   => 9\n",
       "  \"MarkDown1\"   => 25"
      ]
     },
     "execution_count": 192,
     "metadata": {},
     "output_type": "execute_result"
    }
   ],
   "source": [
    "using StatsBase\n",
    "countmap(walmart.MarkDown)"
   ]
  },
  {
   "cell_type": "code",
   "execution_count": 208,
   "metadata": {},
   "outputs": [],
   "source": [
    "# HIDDEN\n",
    "# Another option\n",
    "sort(by(walmart, :MarkDown, nrow), :x1, rev=true);"
   ]
  },
  {
   "cell_type": "markdown",
   "metadata": {},
   "source": [
    "This suggests that we probably need to collect more data in order for the model to better utilize the effects of markdown events on the sale amounts. (In reality, the dataset shown here is a small subset of a [much larger dataset](https://www.kaggle.com/c/walmart-recruiting-store-sales-forecasting) released by Walmart. It will be a useful exercise to train a model using the entire dataset instead of a small subset.)"
   ]
  },
  {
   "cell_type": "markdown",
   "metadata": {},
   "source": [
    "## Summary\n",
    "\n",
    "We have learned to use one-hot encoding, a useful technique for conducting linear regression on categorical data. Although in this particular example the transformation didn't affect our model very much, in practice the technique is used widely when working with categorical data. One-hot encoding also illustrates the general principle of feature engineering—it takes an original data matrix and transforms it into a potentially more useful one."
   ]
  }
 ],
 "metadata": {
  "kernelspec": {
   "display_name": "Julia 1.2.0",
   "language": "julia",
   "name": "julia-1.2"
  },
  "language_info": {
   "file_extension": ".jl",
   "mimetype": "application/julia",
   "name": "julia",
   "version": "1.2.0"
  }
 },
 "nbformat": 4,
 "nbformat_minor": 2
}
