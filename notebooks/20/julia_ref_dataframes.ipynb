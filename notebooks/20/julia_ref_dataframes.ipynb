{
 "cells": [
  {
   "cell_type": "markdown",
   "metadata": {},
   "source": [
    "## DataFrames\n",
    "\n",
    "Below are the most commonly used functions when manipulating DataFrames. It includes functions from the packages `DataFrames`, `CSV`, `StatsBase`, and `SQLite`:"
   ]
  },
  {
   "cell_type": "markdown",
   "metadata": {},
   "source": [
    "| Function                                                                                                                                                                              | Chapter                     | Description                                                                                                                       |\n",
    "|---------------------------------------------------------------------------------------------------------------------------------------------------------------------------------------|-----------------------------|-----------------------------------------------------------------------------------------------------------------------------------|\n",
    "| [`DataFrame(data)`](https://juliadata.github.io/DataFrames.jl/stable/lib/types/#DataFrames.DataFrame)                                                                                 | Tabular Data and DataFrames | Create a DataFrame from a two-dimensional array or dictionary                                                                     |\n",
    "| [`CSV.read(filepatch)`](https://juliadata.github.io/CSV.jl/v0.1.1/#CSV.read)                                                                                                          | Tabular Data and DataFrames | Tabular Data and DataFrames,| Import a CSV file from<br>`filepath` as a DataFrame                                                 |\n",
    "| <br>[`first(DataFrame, n=1)`](https://docs.julialang.org/en/v1/base/collections/#Base.first)                                                                                          | Tabular Data and DataFrames | View the first `n` rows of a DataFrame or Collection                                                                              |\n",
    "| [`names(DataFrame)`]<br>[`names!(DataFrame)`](https://juliadata.github.io/DataFrames.jl/v0.17.0/lib/functions.html#DataFrames.names!)                                                 | Tabular Data and DataFrames | View or modify a DataFrame's column values                                                                                        |\n",
    "| [`StatsBase.describe(DataFrame)`](https://juliadata.github.io/DataFrames.jl/v0.17.0/lib/functions.html#StatsBase.describe)                                                            | Data Cleaning               | View descriptive statistics about a DataFrame or Array                                                                            |\n",
    "| [`unique(Collection)`](https://pandas.pydata.org/pandas-docs/stable/generated/pandas.Series.unique.html)                                                                              | Data Cleaning               | View unique values in a Collection                                                                                                |\n",
    "| `df[!, :col]`                                                                                                                                                                         | Tabular Data and DataFrames | From DataFrame df, retur column `col` as an Array                                                                                 |\n",
    "| [`select(df, :col)`](https://juliadata.github.io/DataFrames.jl/stable/lib/functions/#DataFrames.select)                                                                               | Tabular Data and DataFrames | From DataFrame `df`, return column `col` as a DataFrame                                                                           |\n",
    "| `df[row, col]`                                                                                                                                                                        | Tabular Data and DataFrames | From DataFrame `df`, return rows with index `row` and column<br>name `col`;`row` and `column` can be Arrays or ranges             |\n",
    "| [`ismissing(x)`](https://docs.julialang.org/en/v1/base/base/#Base.skipmissing)                                                                                                        | Data Cleaning               | Indicates whether x is missing. Pass an array (i.e.<br>DataFrame column) to return an array of booleans                           |\n",
    "| [`skipmissing(array)`](https://docs.julialang.org/en/v1/base/base/#Base.skipmissing)<br>[`collect(skipmissing(array))`](https://docs.julialang.org/en/v1/base/base/#Base.skipmissing) | Data Cleaning               | Obtain iterator or non-missing elements from Array                                                                                |\n",
    "| [`select(DataFrame, Not(labels))`](https://juliadata.github.io/DataFrames.jl/stable/lib/functions/#DataFrames.select)                                                                 | Data Cleaning               | Drop columns named `labels` from DataFrame                                                                                        |\n",
    "| [`rename(DataFrame, vals)`](https://juliadata.github.io/DataFrames.jl/stable/lib/functions/#DataFrames.rename)                                                                        | Data Cleaning               | Create a new DataFrame with renamed columns; `vals` can<br>be an array or a dictionary                                            |\n",
    "| [`sort(DataFrame, by, rev=false)`](https://docs.julialang.org/en/v1/base/sort/#Base.sort)                                                                                             | Tabular Data and DataFrames | Sort a DataFrame by specified columns `by`, in ascending<br>order by default                                                      |\n",
    "| [`by(DataFrame, keys, cols=>f...)`](https://juliadata.github.io/DataFrames.jl/stable/lib/functions/#DataFrames.by)                                                                    | Tabular Data and DataFrames | Split-apply-combine in one step: apply `f` to each grouping<br>in `df` based on grouping columns `keys`, and return a `DataFrame` |\n",
    "| [`groupby(DataFrame, cols; sort=false, skipmissing=false)`](https://juliadata.github.io/DataFrames.jl/stable/lib/functions/#DataFrames.groupby)                                       | Tabular Data and DataFrames | Returns a `GroupedDataFrame` representinga view split into<br>row groups                                                          |\n",
    "| [`join(df1, df2; on = column, kind = :inner`](https://juliadata.github.io/DataFrames.jl/stable/lib/functions/#Base.join)                                                              | Databases and SQL           | Join two or more DataFrame objects and return a DataFrame<br>containing the result                                                |\n",
    "| [`SQLite.DB(filepath)`](https://juliadatabases.github.io/SQLite.jl/stable/#Types/Functions-1)                                                                                         | Databases and SQL           | Create a DataFrame from the SQLite DB in `filepath`                                                                               |\n",
    "| [`SQLite.Query(db, sql_expr)`](https://juliadatabases.github.io/SQLite.jl/stable/#SQLite.Query)                                                                          | Databases and SQL           | Execute the `sql_expr` query on `db`                                                     |"
   ]
  }
 ],
 "metadata": {
  "kernelspec": {
   "display_name": "Julia 1.2.0",
   "language": "julia",
   "name": "julia-1.2"
  },
  "language_info": {
   "file_extension": ".jl",
   "mimetype": "application/julia",
   "name": "julia",
   "version": "1.2.0"
  }
 },
 "nbformat": 4,
 "nbformat_minor": 2
}
