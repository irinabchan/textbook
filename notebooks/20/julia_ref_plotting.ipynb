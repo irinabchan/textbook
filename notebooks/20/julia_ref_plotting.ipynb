{
 "cells": [
  {
   "cell_type": "markdown",
   "metadata": {},
   "source": [
    "## Plotting\n",
    "\n",
    "Below are the most commonly used functions when creating plots. It includes functions from the packages [`Plots.jl`](http://docs.juliaplots.org/latest/), and [`StatsPlots.jl`](https://github.com/JuliaPlots/StatsPlots.jl):"
   ]
  },
  {
   "cell_type": "markdown",
   "metadata": {},
   "source": [
    "| Function                                                   | Chapter            | Description                                                                                  |\n",
    "|------------------------------------------------------------|--------------------|----------------------------------------------------------------------------------------------|\n",
    "| `plot(x, y)`                                               | Data Visualization | Create a line plot of `x` versus `y`                                                         |\n",
    "| `scatter(x, y)`                                            | Data Visualization | Create a scatter plot of `x` versus `y`;<br>same result as `plot(x, y, seriestype=:scatter)` |\n",
    "| `histogram(x)`                                             | Data Visualization | Create a histogram of `x`;<br>same result as `plot(x, seriestype=:histogram)`                |\n",
    "| `plot!(x, y)`                                              | Data Visualization | Add plot of x,y to existing plot                                                             |\n",
    "| `boxplot(x, group=g)`                                      | Data Visualization | Create a boxplot of `x`, grouped by `g`                                                      |\n",
    "| `@df dataframe plot(:col1, :col2)`                         | Data Visualization | Notation that allows plotting directly from DataFrame columns                                |\n",
    "| density(x)                                                 | Data Visualization | Plot the density curve of `x`                                                                |\n",
    "| `title!(string)`<br>`xlabel!(string)`<br>`ylabel!(string)` | Data Visualization | Customize existing plot with attribute;<br>Can be passed as a keyword to `plot`              |"
   ]
  }
 ],
 "metadata": {
  "kernelspec": {
   "display_name": "Julia 1.2.0",
   "language": "julia",
   "name": "julia-1.2"
  },
  "language_info": {
   "file_extension": ".jl",
   "mimetype": "application/julia",
   "name": "julia",
   "version": "1.2.0"
  }
 },
 "nbformat": 4,
 "nbformat_minor": 2
}
