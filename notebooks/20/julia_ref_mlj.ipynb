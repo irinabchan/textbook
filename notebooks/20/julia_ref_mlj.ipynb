{
 "cells": [
  {
   "cell_type": "markdown",
   "metadata": {},
   "source": [
    "## Machine Learning\n",
    "\n",
    "Below are the most commonly used functions when using the machine learning package [`MLJ.jl`](https://alan-turing-institute.github.io/MLJ.jl/stable/). Depending on your model selection it will be necessary to load additional packages. Refer to the [documentation](https://alan-turing-institute.github.io/MLJ.jl/stable/model_search/) on `models` for more information."
   ]
  },
  {
   "cell_type": "markdown",
   "metadata": {},
   "source": [
    "| Function                                      | Description                                                            |\n",
    "|-----------------------------------------------|------------------------------------------------------------------------|\n",
    "| `models()`                                    | List all models available                                              |\n",
    "| `info(model, pkg=pkg_name)`                   | Retrieve information on `model` from package `pkg_name`                |\n",
    "| `@load model pkg=pkg_name`                    | Load `model` from package `pkg_name`                                   |\n",
    "| `schema(X)`                                   | Get the `scitype` of each column from table `X`                        |\n",
    "| `coerce(X, :x1 => scitype)`                   | Coerce column `x1` to `scitype`                                        |\n",
    "| `unpack(df, ==(:target_col))`                 | Split a `DataFrame` into target and input tables                       |\n",
    "| `partition(eachindex(y), prop, shuffle=true)` | Split row indices into train/test indices at proportion `prop`         |\n",
    "| `machine(model, X, y)`                        | Create a machine with `model` and target and input tables              |\n",
    "| `fit!(machine, rows=train)`                   | Fit training data to the model; Omit `rows` to use the entire data set |\n",
    "| `predict(machine, rows=test)`                 | Obtain predictions from a fitted machine on testing data               |"
   ]
  }
 ],
 "metadata": {
  "kernelspec": {
   "display_name": "Julia 1.2.0",
   "language": "julia",
   "name": "julia-1.2"
  },
  "language_info": {
   "file_extension": ".jl",
   "mimetype": "application/julia",
   "name": "julia",
   "version": "1.2.0"
  }
 },
 "nbformat": 4,
 "nbformat_minor": 2
}
