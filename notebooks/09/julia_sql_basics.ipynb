{
 "cells": [
  {
   "cell_type": "markdown",
   "metadata": {},
   "source": [
    "## SQL\n",
    "\n",
    "**SQL** (Structured Query Language) is a programming language that has operations to define, logically organize, manipulate, and perform calculations on data stored in a relational database management system (RDBMS).\n",
    "\n",
    "SQL is a declarative language. This means that the user only needs to specify *what* kind of data they want, not *how* to obtain it. An example is shown below, with an imperative example for comparison:\n",
    "\n",
    "- **Declarative**: Compute the table with columns \"x\" and \"y\" from table \"A\" where the values in \"y\" are greater than 100.00.\n",
    "- **Imperative**: For each record in table \"A\", check if the record contains a value of \"y\" greater than 100. If so, then store the record's \"x\" and \"y\" attributes in a new table. Return the new table.\n",
    "\n",
    "In this chapter, we will write SQL queries as Julia strings, then use the `SQLite.jl` package to execute the SQL query and read the result into a `DataFrame`."
   ]
  },
  {
   "cell_type": "markdown",
   "metadata": {},
   "source": [
    "### Executing SQL Queries through `SQLite`\n",
    "\n",
    "To execute SQL queries from Julia, we will connect to a database using the [SQLite.jl](https://github.com/JuliaDatabases/SQLite.jl) library. Then we use the pipe operator `|>` to visualize the results in a `DataFrame`."
   ]
  },
  {
   "cell_type": "code",
   "execution_count": 3,
   "metadata": {},
   "outputs": [
    {
     "data": {
      "text/plain": [
       "SQLite.DB(\"sql_basics.db\")"
      ]
     },
     "execution_count": 3,
     "metadata": {},
     "output_type": "execute_result"
    }
   ],
   "source": [
    "using SQLite\n",
    "using DataFrames\n",
    "\n",
    "db = SQLite.DB(\"sql_basics.db\")"
   ]
  },
  {
   "cell_type": "markdown",
   "metadata": {},
   "source": [
    "This database contains one relation: `prices`. To display the relation we run a SQL query. Calling `SQLite.query` will execute the SQL query on the RDBMS. We then pipe the results with the `|>` operator into a DataFrame."
   ]
  },
  {
   "cell_type": "code",
   "execution_count": 4,
   "metadata": {},
   "outputs": [
    {
     "data": {
      "text/html": [
       "<table class=\"data-frame\"><thead><tr><th></th><th>retailer</th><th>product</th><th>price</th></tr><tr><th></th><th>String⍰</th><th>String⍰</th><th>Float64⍰</th></tr></thead><tbody><p>9 rows × 3 columns</p><tr><th>1</th><td>Best Buy</td><td>Galaxy S9</td><td>719.0</td></tr><tr><th>2</th><td>Best Buy</td><td>iPod</td><td>200.0</td></tr><tr><th>3</th><td>Amazon</td><td>iPad</td><td>450.0</td></tr><tr><th>4</th><td>Amazon</td><td>Battery pack</td><td>24.87</td></tr><tr><th>5</th><td>Amazon</td><td>Chromebook</td><td>249.99</td></tr><tr><th>6</th><td>Target</td><td>iPod</td><td>215.0</td></tr><tr><th>7</th><td>Target</td><td>Surface Pro</td><td>799.0</td></tr><tr><th>8</th><td>Target</td><td>Google Pixel 2</td><td>659.0</td></tr><tr><th>9</th><td>Walmart</td><td>Chromebook</td><td>238.79</td></tr></tbody></table>"
      ],
      "text/latex": [
       "\\begin{tabular}{r|ccc}\n",
       "\t& retailer & product & price\\\\\n",
       "\t\\hline\n",
       "\t& String⍰ & String⍰ & Float64⍰\\\\\n",
       "\t\\hline\n",
       "\t1 & Best Buy & Galaxy S9 & 719.0 \\\\\n",
       "\t2 & Best Buy & iPod & 200.0 \\\\\n",
       "\t3 & Amazon & iPad & 450.0 \\\\\n",
       "\t4 & Amazon & Battery pack & 24.87 \\\\\n",
       "\t5 & Amazon & Chromebook & 249.99 \\\\\n",
       "\t6 & Target & iPod & 215.0 \\\\\n",
       "\t7 & Target & Surface Pro & 799.0 \\\\\n",
       "\t8 & Target & Google Pixel 2 & 659.0 \\\\\n",
       "\t9 & Walmart & Chromebook & 238.79 \\\\\n",
       "\\end{tabular}\n"
      ],
      "text/plain": [
       "9×3 DataFrame\n",
       "│ Row │ retailer │ product        │ price    │\n",
       "│     │ \u001b[90mString⍰\u001b[39m  │ \u001b[90mString⍰\u001b[39m        │ \u001b[90mFloat64⍰\u001b[39m │\n",
       "├─────┼──────────┼────────────────┼──────────┤\n",
       "│ 1   │ Best Buy │ Galaxy S9      │ 719.0    │\n",
       "│ 2   │ Best Buy │ iPod           │ 200.0    │\n",
       "│ 3   │ Amazon   │ iPad           │ 450.0    │\n",
       "│ 4   │ Amazon   │ Battery pack   │ 24.87    │\n",
       "│ 5   │ Amazon   │ Chromebook     │ 249.99   │\n",
       "│ 6   │ Target   │ iPod           │ 215.0    │\n",
       "│ 7   │ Target   │ Surface Pro    │ 799.0    │\n",
       "│ 8   │ Target   │ Google Pixel 2 │ 659.0    │\n",
       "│ 9   │ Walmart  │ Chromebook     │ 238.79   │"
      ]
     },
     "execution_count": 4,
     "metadata": {},
     "output_type": "execute_result"
    }
   ],
   "source": [
    "sql_expr = \"\"\"\n",
    "SELECT * \n",
    "FROM prices\n",
    "\"\"\"\n",
    "\n",
    "SQLite.Query(db, sql_expr) |> DataFrame"
   ]
  },
  {
   "cell_type": "code",
   "execution_count": 5,
   "metadata": {},
   "outputs": [],
   "source": [
    "# HIDDEN\n",
    "prices = DataFrame(\n",
    "    retailer = [\"Best Buy\", \"Best Buy\", \"Amazon\", \"Amazon\", \"Amazon\", \"Target\", \"Target\", \"Target\", \"Wallmart\"],\n",
    "    product = [\"Galaxy S9\", \"iPod\", \"iPad\", \"Battery pack\", \"Chromebook\", \"iPod\", \"Surface Pro\", \"Google Pixel 2\", \"Chromebook\"],\n",
    "    price = [719.00, 200.00, 450.00, 24.87, 249.99, 215.00, 799.00, 659.00, 238.79]\n",
    ");"
   ]
  },
  {
   "cell_type": "markdown",
   "metadata": {},
   "source": [
    "Later in this section we will compare SQL queries with `DataFrames` method calls so we've created an identical DataFrame:"
   ]
  },
  {
   "cell_type": "code",
   "execution_count": 6,
   "metadata": {},
   "outputs": [
    {
     "data": {
      "text/html": [
       "<table class=\"data-frame\"><thead><tr><th></th><th>retailer</th><th>product</th><th>price</th></tr><tr><th></th><th>String</th><th>String</th><th>Float64</th></tr></thead><tbody><p>9 rows × 3 columns</p><tr><th>1</th><td>Best Buy</td><td>Galaxy S9</td><td>719.0</td></tr><tr><th>2</th><td>Best Buy</td><td>iPod</td><td>200.0</td></tr><tr><th>3</th><td>Amazon</td><td>iPad</td><td>450.0</td></tr><tr><th>4</th><td>Amazon</td><td>Battery pack</td><td>24.87</td></tr><tr><th>5</th><td>Amazon</td><td>Chromebook</td><td>249.99</td></tr><tr><th>6</th><td>Target</td><td>iPod</td><td>215.0</td></tr><tr><th>7</th><td>Target</td><td>Surface Pro</td><td>799.0</td></tr><tr><th>8</th><td>Target</td><td>Google Pixel 2</td><td>659.0</td></tr><tr><th>9</th><td>Wallmart</td><td>Chromebook</td><td>238.79</td></tr></tbody></table>"
      ],
      "text/latex": [
       "\\begin{tabular}{r|ccc}\n",
       "\t& retailer & product & price\\\\\n",
       "\t\\hline\n",
       "\t& String & String & Float64\\\\\n",
       "\t\\hline\n",
       "\t1 & Best Buy & Galaxy S9 & 719.0 \\\\\n",
       "\t2 & Best Buy & iPod & 200.0 \\\\\n",
       "\t3 & Amazon & iPad & 450.0 \\\\\n",
       "\t4 & Amazon & Battery pack & 24.87 \\\\\n",
       "\t5 & Amazon & Chromebook & 249.99 \\\\\n",
       "\t6 & Target & iPod & 215.0 \\\\\n",
       "\t7 & Target & Surface Pro & 799.0 \\\\\n",
       "\t8 & Target & Google Pixel 2 & 659.0 \\\\\n",
       "\t9 & Wallmart & Chromebook & 238.79 \\\\\n",
       "\\end{tabular}\n"
      ],
      "text/plain": [
       "9×3 DataFrame\n",
       "│ Row │ retailer │ product        │ price   │\n",
       "│     │ \u001b[90mString\u001b[39m   │ \u001b[90mString\u001b[39m         │ \u001b[90mFloat64\u001b[39m │\n",
       "├─────┼──────────┼────────────────┼─────────┤\n",
       "│ 1   │ Best Buy │ Galaxy S9      │ 719.0   │\n",
       "│ 2   │ Best Buy │ iPod           │ 200.0   │\n",
       "│ 3   │ Amazon   │ iPad           │ 450.0   │\n",
       "│ 4   │ Amazon   │ Battery pack   │ 24.87   │\n",
       "│ 5   │ Amazon   │ Chromebook     │ 249.99  │\n",
       "│ 6   │ Target   │ iPod           │ 215.0   │\n",
       "│ 7   │ Target   │ Surface Pro    │ 799.0   │\n",
       "│ 8   │ Target   │ Google Pixel 2 │ 659.0   │\n",
       "│ 9   │ Wallmart │ Chromebook     │ 238.79  │"
      ]
     },
     "execution_count": 6,
     "metadata": {},
     "output_type": "execute_result"
    }
   ],
   "source": [
    "prices"
   ]
  },
  {
   "cell_type": "markdown",
   "metadata": {
    "colab_type": "text",
    "id": "jWfTN1elDgd1"
   },
   "source": [
    "## SQL Syntax\n",
    "\n",
    "All SQL queries take the general form below:\n",
    "```SQL\n",
    "SELECT [DISTINCT] <column expression list>\n",
    "FROM <relation>\n",
    "[WHERE <predicate>]\n",
    "[GROUP BY <column list>]\n",
    "[HAVING <predicate>]\n",
    "[ORDER BY <column list>]\n",
    "[LIMIT <number>]\n",
    "```\n",
    "\n",
    "Note that:\n",
    "\n",
    "1. **Everything in \\[square brackets\\] is optional.** A valid SQL query only needs a `SELECT` and a `FROM` statement.\n",
    "2. **SQL SYNTAX IS GENERALLY WRITTEN IN CAPITAL LETTERS.** Although capitalization isn't required, it is common practice to write SQL syntax in capital letters. It also helps to visually structure your query for others to read.\n",
    "3. `FROM` query blocks can reference one or more tables, although in this section we will only look at one table at a time for simplicity."
   ]
  },
  {
   "cell_type": "markdown",
   "metadata": {
    "colab_type": "text",
    "id": "l-L97SzrDgd2"
   },
   "source": [
    "### SELECT and FROM\n",
    "\n",
    "The two mandatory statements in a SQL query are:\n",
    "\n",
    "* `SELECT` indicates the columns that we want to view.\n",
    "* `FROM` indicates the tables from which we are selecting these columns.\n",
    "\n",
    "To display the entire `prices` table, we run:"
   ]
  },
  {
   "cell_type": "code",
   "execution_count": 7,
   "metadata": {},
   "outputs": [
    {
     "data": {
      "text/html": [
       "<table class=\"data-frame\"><thead><tr><th></th><th>retailer</th><th>product</th><th>price</th></tr><tr><th></th><th>String⍰</th><th>String⍰</th><th>Float64⍰</th></tr></thead><tbody><p>9 rows × 3 columns</p><tr><th>1</th><td>Best Buy</td><td>Galaxy S9</td><td>719.0</td></tr><tr><th>2</th><td>Best Buy</td><td>iPod</td><td>200.0</td></tr><tr><th>3</th><td>Amazon</td><td>iPad</td><td>450.0</td></tr><tr><th>4</th><td>Amazon</td><td>Battery pack</td><td>24.87</td></tr><tr><th>5</th><td>Amazon</td><td>Chromebook</td><td>249.99</td></tr><tr><th>6</th><td>Target</td><td>iPod</td><td>215.0</td></tr><tr><th>7</th><td>Target</td><td>Surface Pro</td><td>799.0</td></tr><tr><th>8</th><td>Target</td><td>Google Pixel 2</td><td>659.0</td></tr><tr><th>9</th><td>Walmart</td><td>Chromebook</td><td>238.79</td></tr></tbody></table>"
      ],
      "text/latex": [
       "\\begin{tabular}{r|ccc}\n",
       "\t& retailer & product & price\\\\\n",
       "\t\\hline\n",
       "\t& String⍰ & String⍰ & Float64⍰\\\\\n",
       "\t\\hline\n",
       "\t1 & Best Buy & Galaxy S9 & 719.0 \\\\\n",
       "\t2 & Best Buy & iPod & 200.0 \\\\\n",
       "\t3 & Amazon & iPad & 450.0 \\\\\n",
       "\t4 & Amazon & Battery pack & 24.87 \\\\\n",
       "\t5 & Amazon & Chromebook & 249.99 \\\\\n",
       "\t6 & Target & iPod & 215.0 \\\\\n",
       "\t7 & Target & Surface Pro & 799.0 \\\\\n",
       "\t8 & Target & Google Pixel 2 & 659.0 \\\\\n",
       "\t9 & Walmart & Chromebook & 238.79 \\\\\n",
       "\\end{tabular}\n"
      ],
      "text/plain": [
       "9×3 DataFrame\n",
       "│ Row │ retailer │ product        │ price    │\n",
       "│     │ \u001b[90mString⍰\u001b[39m  │ \u001b[90mString⍰\u001b[39m        │ \u001b[90mFloat64⍰\u001b[39m │\n",
       "├─────┼──────────┼────────────────┼──────────┤\n",
       "│ 1   │ Best Buy │ Galaxy S9      │ 719.0    │\n",
       "│ 2   │ Best Buy │ iPod           │ 200.0    │\n",
       "│ 3   │ Amazon   │ iPad           │ 450.0    │\n",
       "│ 4   │ Amazon   │ Battery pack   │ 24.87    │\n",
       "│ 5   │ Amazon   │ Chromebook     │ 249.99   │\n",
       "│ 6   │ Target   │ iPod           │ 215.0    │\n",
       "│ 7   │ Target   │ Surface Pro    │ 799.0    │\n",
       "│ 8   │ Target   │ Google Pixel 2 │ 659.0    │\n",
       "│ 9   │ Walmart  │ Chromebook     │ 238.79   │"
      ]
     },
     "execution_count": 7,
     "metadata": {},
     "output_type": "execute_result"
    }
   ],
   "source": [
    "sql_expr = \"\"\"\n",
    "SELECT * \n",
    "FROM prices\n",
    "\"\"\"\n",
    "\n",
    "SQLite.Query(db, sql_expr) |> DataFrame"
   ]
  },
  {
   "cell_type": "markdown",
   "metadata": {
    "colab_type": "text",
    "id": "ebYQfMJTDgd6"
   },
   "source": [
    "`SELECT *` returns every column in the original relation. To display only the retailers that are represented in `prices`, we add the `retailer` column to the `SELECT` statement."
   ]
  },
  {
   "cell_type": "code",
   "execution_count": 8,
   "metadata": {},
   "outputs": [
    {
     "data": {
      "text/html": [
       "<table class=\"data-frame\"><thead><tr><th></th><th>retailer</th></tr><tr><th></th><th>String⍰</th></tr></thead><tbody><p>9 rows × 1 columns</p><tr><th>1</th><td>Best Buy</td></tr><tr><th>2</th><td>Best Buy</td></tr><tr><th>3</th><td>Amazon</td></tr><tr><th>4</th><td>Amazon</td></tr><tr><th>5</th><td>Amazon</td></tr><tr><th>6</th><td>Target</td></tr><tr><th>7</th><td>Target</td></tr><tr><th>8</th><td>Target</td></tr><tr><th>9</th><td>Walmart</td></tr></tbody></table>"
      ],
      "text/latex": [
       "\\begin{tabular}{r|c}\n",
       "\t& retailer\\\\\n",
       "\t\\hline\n",
       "\t& String⍰\\\\\n",
       "\t\\hline\n",
       "\t1 & Best Buy \\\\\n",
       "\t2 & Best Buy \\\\\n",
       "\t3 & Amazon \\\\\n",
       "\t4 & Amazon \\\\\n",
       "\t5 & Amazon \\\\\n",
       "\t6 & Target \\\\\n",
       "\t7 & Target \\\\\n",
       "\t8 & Target \\\\\n",
       "\t9 & Walmart \\\\\n",
       "\\end{tabular}\n"
      ],
      "text/plain": [
       "9×1 DataFrame\n",
       "│ Row │ retailer │\n",
       "│     │ \u001b[90mString⍰\u001b[39m  │\n",
       "├─────┼──────────┤\n",
       "│ 1   │ Best Buy │\n",
       "│ 2   │ Best Buy │\n",
       "│ 3   │ Amazon   │\n",
       "│ 4   │ Amazon   │\n",
       "│ 5   │ Amazon   │\n",
       "│ 6   │ Target   │\n",
       "│ 7   │ Target   │\n",
       "│ 8   │ Target   │\n",
       "│ 9   │ Walmart  │"
      ]
     },
     "execution_count": 8,
     "metadata": {},
     "output_type": "execute_result"
    }
   ],
   "source": [
    "sql_expr = \"\"\"\n",
    "SELECT retailer\n",
    "FROM prices\n",
    "\"\"\"\n",
    "\n",
    "SQLite.Query(db, sql_expr) |> DataFrame"
   ]
  },
  {
   "cell_type": "markdown",
   "metadata": {
    "colab_type": "text",
    "id": "2jYzN16_Dgd-"
   },
   "source": [
    "If we want a list of unique retailers, we can call the `DISTINCT` function to omit repeated values."
   ]
  },
  {
   "cell_type": "code",
   "execution_count": 9,
   "metadata": {},
   "outputs": [
    {
     "data": {
      "text/html": [
       "<table class=\"data-frame\"><thead><tr><th></th><th>retailer</th></tr><tr><th></th><th>String⍰</th></tr></thead><tbody><p>4 rows × 1 columns</p><tr><th>1</th><td>Best Buy</td></tr><tr><th>2</th><td>Amazon</td></tr><tr><th>3</th><td>Target</td></tr><tr><th>4</th><td>Walmart</td></tr></tbody></table>"
      ],
      "text/latex": [
       "\\begin{tabular}{r|c}\n",
       "\t& retailer\\\\\n",
       "\t\\hline\n",
       "\t& String⍰\\\\\n",
       "\t\\hline\n",
       "\t1 & Best Buy \\\\\n",
       "\t2 & Amazon \\\\\n",
       "\t3 & Target \\\\\n",
       "\t4 & Walmart \\\\\n",
       "\\end{tabular}\n"
      ],
      "text/plain": [
       "4×1 DataFrame\n",
       "│ Row │ retailer │\n",
       "│     │ \u001b[90mString⍰\u001b[39m  │\n",
       "├─────┼──────────┤\n",
       "│ 1   │ Best Buy │\n",
       "│ 2   │ Amazon   │\n",
       "│ 3   │ Target   │\n",
       "│ 4   │ Walmart  │"
      ]
     },
     "execution_count": 9,
     "metadata": {},
     "output_type": "execute_result"
    }
   ],
   "source": [
    "sql_expr = \"\"\"\n",
    "SELECT DISTINCT(retailer)\n",
    "FROM prices\n",
    "\"\"\"\n",
    "\n",
    "SQLite.Query(db, sql_expr) |> DataFrame"
   ]
  },
  {
   "cell_type": "markdown",
   "metadata": {},
   "source": [
    "This would be the functional equivalent of the following `DataFrames` code:"
   ]
  },
  {
   "cell_type": "code",
   "execution_count": 10,
   "metadata": {},
   "outputs": [
    {
     "data": {
      "text/plain": [
       "4-element Array{String,1}:\n",
       " \"Best Buy\"\n",
       " \"Amazon\"  \n",
       " \"Target\"  \n",
       " \"Wallmart\""
      ]
     },
     "execution_count": 10,
     "metadata": {},
     "output_type": "execute_result"
    }
   ],
   "source": [
    "unique(prices.retailer)"
   ]
  },
  {
   "cell_type": "markdown",
   "metadata": {},
   "source": [
    "Each RDBMS comes with its own set of functions that can be applied to attributes in the `SELECT` list, such as comparison operators, mathematical functions and operators, and string functions and operators. In Data 100 we use PostgreSQL, a mature RDBMS that comes with hundreds of such functions. The complete list is available [here](https://www.postgresql.org/docs/9.2/static/functions.html). Keep in mind that each RDBMS has a different set of functions for use in `SELECT`.\n",
    "\n",
    "The following code converts all retailer names to uppercase and halves the product prices."
   ]
  },
  {
   "cell_type": "code",
   "execution_count": 11,
   "metadata": {},
   "outputs": [
    {
     "data": {
      "text/html": [
       "<table class=\"data-frame\"><thead><tr><th></th><th>retailer_caps</th><th>product</th><th>half_price</th></tr><tr><th></th><th>String⍰</th><th>String⍰</th><th>Float64⍰</th></tr></thead><tbody><p>9 rows × 3 columns</p><tr><th>1</th><td>BEST BUY</td><td>Galaxy S9</td><td>359.5</td></tr><tr><th>2</th><td>BEST BUY</td><td>iPod</td><td>100.0</td></tr><tr><th>3</th><td>AMAZON</td><td>iPad</td><td>225.0</td></tr><tr><th>4</th><td>AMAZON</td><td>Battery pack</td><td>12.435</td></tr><tr><th>5</th><td>AMAZON</td><td>Chromebook</td><td>124.995</td></tr><tr><th>6</th><td>TARGET</td><td>iPod</td><td>107.5</td></tr><tr><th>7</th><td>TARGET</td><td>Surface Pro</td><td>399.5</td></tr><tr><th>8</th><td>TARGET</td><td>Google Pixel 2</td><td>329.5</td></tr><tr><th>9</th><td>WALMART</td><td>Chromebook</td><td>119.395</td></tr></tbody></table>"
      ],
      "text/latex": [
       "\\begin{tabular}{r|ccc}\n",
       "\t& retailer\\_caps & product & half\\_price\\\\\n",
       "\t\\hline\n",
       "\t& String⍰ & String⍰ & Float64⍰\\\\\n",
       "\t\\hline\n",
       "\t1 & BEST BUY & Galaxy S9 & 359.5 \\\\\n",
       "\t2 & BEST BUY & iPod & 100.0 \\\\\n",
       "\t3 & AMAZON & iPad & 225.0 \\\\\n",
       "\t4 & AMAZON & Battery pack & 12.435 \\\\\n",
       "\t5 & AMAZON & Chromebook & 124.995 \\\\\n",
       "\t6 & TARGET & iPod & 107.5 \\\\\n",
       "\t7 & TARGET & Surface Pro & 399.5 \\\\\n",
       "\t8 & TARGET & Google Pixel 2 & 329.5 \\\\\n",
       "\t9 & WALMART & Chromebook & 119.395 \\\\\n",
       "\\end{tabular}\n"
      ],
      "text/plain": [
       "9×3 DataFrame\n",
       "│ Row │ retailer_caps │ product        │ half_price │\n",
       "│     │ \u001b[90mString⍰\u001b[39m       │ \u001b[90mString⍰\u001b[39m        │ \u001b[90mFloat64⍰\u001b[39m   │\n",
       "├─────┼───────────────┼────────────────┼────────────┤\n",
       "│ 1   │ BEST BUY      │ Galaxy S9      │ 359.5      │\n",
       "│ 2   │ BEST BUY      │ iPod           │ 100.0      │\n",
       "│ 3   │ AMAZON        │ iPad           │ 225.0      │\n",
       "│ 4   │ AMAZON        │ Battery pack   │ 12.435     │\n",
       "│ 5   │ AMAZON        │ Chromebook     │ 124.995    │\n",
       "│ 6   │ TARGET        │ iPod           │ 107.5      │\n",
       "│ 7   │ TARGET        │ Surface Pro    │ 399.5      │\n",
       "│ 8   │ TARGET        │ Google Pixel 2 │ 329.5      │\n",
       "│ 9   │ WALMART       │ Chromebook     │ 119.395    │"
      ]
     },
     "execution_count": 11,
     "metadata": {},
     "output_type": "execute_result"
    }
   ],
   "source": [
    "sql_expr = \"\"\"\n",
    "SELECT\n",
    "    UPPER(retailer) AS retailer_caps,\n",
    "    product,\n",
    "    price / 2 AS half_price\n",
    "FROM prices\n",
    "\"\"\"\n",
    "\n",
    "SQLite.Query(db, sql_expr) |> DataFrame"
   ]
  },
  {
   "cell_type": "markdown",
   "metadata": {},
   "source": [
    "Notice that we can **alias** the columns (assign another name) with `AS` so that the columns appear with this new name in the output table. This does not modify the names of the columns in the source relation."
   ]
  },
  {
   "cell_type": "markdown",
   "metadata": {},
   "source": [
    "### WHERE\n",
    "\n",
    "The `WHERE` clause allows us to specify certain constraints for the returned data; these constraints are often referred to as **predicates**. For example, to retrieve only gadgets that are under $500:"
   ]
  },
  {
   "cell_type": "code",
   "execution_count": 12,
   "metadata": {},
   "outputs": [
    {
     "data": {
      "text/html": [
       "<table class=\"data-frame\"><thead><tr><th></th><th>retailer</th><th>product</th><th>price</th></tr><tr><th></th><th>String⍰</th><th>String⍰</th><th>Float64⍰</th></tr></thead><tbody><p>6 rows × 3 columns</p><tr><th>1</th><td>Best Buy</td><td>iPod</td><td>200.0</td></tr><tr><th>2</th><td>Amazon</td><td>iPad</td><td>450.0</td></tr><tr><th>3</th><td>Amazon</td><td>Battery pack</td><td>24.87</td></tr><tr><th>4</th><td>Amazon</td><td>Chromebook</td><td>249.99</td></tr><tr><th>5</th><td>Target</td><td>iPod</td><td>215.0</td></tr><tr><th>6</th><td>Walmart</td><td>Chromebook</td><td>238.79</td></tr></tbody></table>"
      ],
      "text/latex": [
       "\\begin{tabular}{r|ccc}\n",
       "\t& retailer & product & price\\\\\n",
       "\t\\hline\n",
       "\t& String⍰ & String⍰ & Float64⍰\\\\\n",
       "\t\\hline\n",
       "\t1 & Best Buy & iPod & 200.0 \\\\\n",
       "\t2 & Amazon & iPad & 450.0 \\\\\n",
       "\t3 & Amazon & Battery pack & 24.87 \\\\\n",
       "\t4 & Amazon & Chromebook & 249.99 \\\\\n",
       "\t5 & Target & iPod & 215.0 \\\\\n",
       "\t6 & Walmart & Chromebook & 238.79 \\\\\n",
       "\\end{tabular}\n"
      ],
      "text/plain": [
       "6×3 DataFrame\n",
       "│ Row │ retailer │ product      │ price    │\n",
       "│     │ \u001b[90mString⍰\u001b[39m  │ \u001b[90mString⍰\u001b[39m      │ \u001b[90mFloat64⍰\u001b[39m │\n",
       "├─────┼──────────┼──────────────┼──────────┤\n",
       "│ 1   │ Best Buy │ iPod         │ 200.0    │\n",
       "│ 2   │ Amazon   │ iPad         │ 450.0    │\n",
       "│ 3   │ Amazon   │ Battery pack │ 24.87    │\n",
       "│ 4   │ Amazon   │ Chromebook   │ 249.99   │\n",
       "│ 5   │ Target   │ iPod         │ 215.0    │\n",
       "│ 6   │ Walmart  │ Chromebook   │ 238.79   │"
      ]
     },
     "execution_count": 12,
     "metadata": {},
     "output_type": "execute_result"
    }
   ],
   "source": [
    "sql_expr = \"\"\"\n",
    "SELECT *\n",
    "FROM prices\n",
    "WHERE price < 500\n",
    "\"\"\"\n",
    "\n",
    "SQLite.Query(db, sql_expr) |> DataFrame"
   ]
  },
  {
   "cell_type": "markdown",
   "metadata": {},
   "source": [
    "We can also use the operators `AND`, `OR`, and `NOT` to further constrain our SQL query. To find an item on Amazon without a battery pack under $300, we write:"
   ]
  },
  {
   "cell_type": "code",
   "execution_count": 13,
   "metadata": {},
   "outputs": [
    {
     "data": {
      "text/html": [
       "<table class=\"data-frame\"><thead><tr><th></th><th>retailer</th><th>product</th><th>price</th></tr><tr><th></th><th>String⍰</th><th>String⍰</th><th>Float64⍰</th></tr></thead><tbody><p>1 rows × 3 columns</p><tr><th>1</th><td>Amazon</td><td>Chromebook</td><td>249.99</td></tr></tbody></table>"
      ],
      "text/latex": [
       "\\begin{tabular}{r|ccc}\n",
       "\t& retailer & product & price\\\\\n",
       "\t\\hline\n",
       "\t& String⍰ & String⍰ & Float64⍰\\\\\n",
       "\t\\hline\n",
       "\t1 & Amazon & Chromebook & 249.99 \\\\\n",
       "\\end{tabular}\n"
      ],
      "text/plain": [
       "1×3 DataFrame\n",
       "│ Row │ retailer │ product    │ price    │\n",
       "│     │ \u001b[90mString⍰\u001b[39m  │ \u001b[90mString⍰\u001b[39m    │ \u001b[90mFloat64⍰\u001b[39m │\n",
       "├─────┼──────────┼────────────┼──────────┤\n",
       "│ 1   │ Amazon   │ Chromebook │ 249.99   │"
      ]
     },
     "execution_count": 13,
     "metadata": {},
     "output_type": "execute_result"
    }
   ],
   "source": [
    "sql_expr = \"\"\"\n",
    "SELECT *\n",
    "FROM prices\n",
    "WHERE retailer = 'Amazon'\n",
    "    AND NOT product = 'Battery pack'\n",
    "    AND price < 300\n",
    "\"\"\"\n",
    "\n",
    "SQLite.Query(db, sql_expr) |> DataFrame"
   ]
  },
  {
   "cell_type": "markdown",
   "metadata": {},
   "source": [
    "The equivalent operation in `DataFrames` is:"
   ]
  },
  {
   "cell_type": "code",
   "execution_count": 15,
   "metadata": {},
   "outputs": [
    {
     "data": {
      "text/html": [
       "<table class=\"data-frame\"><thead><tr><th></th><th>retailer</th><th>product</th><th>price</th></tr><tr><th></th><th>String</th><th>String</th><th>Float64</th></tr></thead><tbody><p>1 rows × 3 columns</p><tr><th>1</th><td>Amazon</td><td>Chromebook</td><td>249.99</td></tr></tbody></table>"
      ],
      "text/latex": [
       "\\begin{tabular}{r|ccc}\n",
       "\t& retailer & product & price\\\\\n",
       "\t\\hline\n",
       "\t& String & String & Float64\\\\\n",
       "\t\\hline\n",
       "\t1 & Amazon & Chromebook & 249.99 \\\\\n",
       "\\end{tabular}\n"
      ],
      "text/plain": [
       "1×3 DataFrame\n",
       "│ Row │ retailer │ product    │ price   │\n",
       "│     │ \u001b[90mString\u001b[39m   │ \u001b[90mString\u001b[39m     │ \u001b[90mFloat64\u001b[39m │\n",
       "├─────┼──────────┼────────────┼─────────┤\n",
       "│ 1   │ Amazon   │ Chromebook │ 249.99  │"
      ]
     },
     "execution_count": 15,
     "metadata": {},
     "output_type": "execute_result"
    }
   ],
   "source": [
    "prices[(prices.retailer .== \"Amazon\") .& (prices.product .!== \"Battery pack\") .& (prices.price .< 300), :]"
   ]
  },
  {
   "cell_type": "markdown",
   "metadata": {},
   "source": [
    "### Aggregate Functions\n",
    "\n",
    "So far, we've only worked with data from the existing rows in the table; that is, all of our returned tables have been some subset of the entries found in the table. But to conduct data analysis, we'll want to compute aggregate values over our data. In SQL, these are called **aggregate functions**. \n",
    "\n",
    "If we want to find the average price of all gadgets in the `prices` relation:"
   ]
  },
  {
   "cell_type": "code",
   "execution_count": 16,
   "metadata": {},
   "outputs": [
    {
     "data": {
      "text/html": [
       "<table class=\"data-frame\"><thead><tr><th></th><th>avg_price</th></tr><tr><th></th><th>Float64⍰</th></tr></thead><tbody><p>1 rows × 1 columns</p><tr><th>1</th><td>395.072</td></tr></tbody></table>"
      ],
      "text/latex": [
       "\\begin{tabular}{r|c}\n",
       "\t& avg\\_price\\\\\n",
       "\t\\hline\n",
       "\t& Float64⍰\\\\\n",
       "\t\\hline\n",
       "\t1 & 395.072 \\\\\n",
       "\\end{tabular}\n"
      ],
      "text/plain": [
       "1×1 DataFrame\n",
       "│ Row │ avg_price │\n",
       "│     │ \u001b[90mFloat64⍰\u001b[39m  │\n",
       "├─────┼───────────┤\n",
       "│ 1   │ 395.072   │"
      ]
     },
     "execution_count": 16,
     "metadata": {},
     "output_type": "execute_result"
    }
   ],
   "source": [
    "sql_expr = \"\"\"\n",
    "SELECT AVG(price) AS avg_price\n",
    "FROM prices\n",
    "\"\"\"\n",
    "\n",
    "SQLite.Query(db, sql_expr) |> DataFrame"
   ]
  },
  {
   "cell_type": "markdown",
   "metadata": {},
   "source": [
    "Equivalently, in Julia:"
   ]
  },
  {
   "cell_type": "code",
   "execution_count": 18,
   "metadata": {},
   "outputs": [
    {
     "data": {
      "text/plain": [
       "395.0722222222222"
      ]
     },
     "execution_count": 18,
     "metadata": {},
     "output_type": "execute_result"
    }
   ],
   "source": [
    "using Statistics\n",
    "\n",
    "mean(prices.price)"
   ]
  },
  {
   "cell_type": "markdown",
   "metadata": {
    "colab_type": "text",
    "id": "5oTbANu_5p59"
   },
   "source": [
    "A complete list of PostgreSQL aggregate functions can be found [here](https://www.postgresql.org/docs/9.2/static/functions.html). Though we're using PostgreSQL as our primary version of SQL, keep in mind that there are many other variations of SQL (MySQL, SQLite, etc.) that use different function names and have different functions available."
   ]
  },
  {
   "cell_type": "markdown",
   "metadata": {
    "colab_type": "text",
    "id": "7eVQXWJ8Dgek"
   },
   "source": [
    "### GROUP BY and HAVING\n",
    "\n",
    "With aggregate functions, we can execute more complicated SQL queries. To operate on more granular aggregate data, we can use the following two clauses:\n",
    "- `GROUP BY` takes a list of columns and groups the table. Similar to the functions [groupby](http://juliadata.github.io/DataFrames.jl/v0.17.0/lib/functions.html#DataFrames.groupby) and [by](http://juliadata.github.io/DataFrames.jl/v0.17.0/lib/functions.html#DataFrames.by) from `DataFrames`.\n",
    "- `HAVING` is functionally similar to `WHERE`, but is used exclusively to apply predicates to aggregated data. (Note that in order to use `HAVING`, it must be preceded by a `GROUP BY` clause.)\n",
    "\n",
    "**Important**: When using `GROUP BY`, all columns in the `SELECT` clause must be either listed in the `GROUP BY` clause or have an aggregate function applied to them.\n",
    "\n",
    "We can use these statements to find the maximum price at each retailer."
   ]
  },
  {
   "cell_type": "code",
   "execution_count": 19,
   "metadata": {},
   "outputs": [
    {
     "data": {
      "text/html": [
       "<table class=\"data-frame\"><thead><tr><th></th><th>retailer</th><th>max_price</th></tr><tr><th></th><th>String⍰</th><th>Float64⍰</th></tr></thead><tbody><p>4 rows × 2 columns</p><tr><th>1</th><td>Amazon</td><td>450.0</td></tr><tr><th>2</th><td>Best Buy</td><td>719.0</td></tr><tr><th>3</th><td>Target</td><td>799.0</td></tr><tr><th>4</th><td>Walmart</td><td>238.79</td></tr></tbody></table>"
      ],
      "text/latex": [
       "\\begin{tabular}{r|cc}\n",
       "\t& retailer & max\\_price\\\\\n",
       "\t\\hline\n",
       "\t& String⍰ & Float64⍰\\\\\n",
       "\t\\hline\n",
       "\t1 & Amazon & 450.0 \\\\\n",
       "\t2 & Best Buy & 719.0 \\\\\n",
       "\t3 & Target & 799.0 \\\\\n",
       "\t4 & Walmart & 238.79 \\\\\n",
       "\\end{tabular}\n"
      ],
      "text/plain": [
       "4×2 DataFrame\n",
       "│ Row │ retailer │ max_price │\n",
       "│     │ \u001b[90mString⍰\u001b[39m  │ \u001b[90mFloat64⍰\u001b[39m  │\n",
       "├─────┼──────────┼───────────┤\n",
       "│ 1   │ Amazon   │ 450.0     │\n",
       "│ 2   │ Best Buy │ 719.0     │\n",
       "│ 3   │ Target   │ 799.0     │\n",
       "│ 4   │ Walmart  │ 238.79    │"
      ]
     },
     "execution_count": 19,
     "metadata": {},
     "output_type": "execute_result"
    }
   ],
   "source": [
    "sql_expr = \"\"\"\n",
    "SELECT retailer, MAX(price) as max_price\n",
    "FROM prices\n",
    "GROUP BY retailer\n",
    "\"\"\"\n",
    "\n",
    "SQLite.Query(db, sql_expr) |> DataFrame"
   ]
  },
  {
   "cell_type": "markdown",
   "metadata": {
    "colab_type": "text",
    "id": "ypDYw58WDgen"
   },
   "source": [
    "Let's say we have a client with expensive taste and only want to find retailers that sell gadgets over $700. Note that we must use `HAVING` to define predicates on aggregated columns; we can't use `WHERE` to filter an aggregated column. To compute a list of retailers and accompanying prices that satisfy our needs, we run:"
   ]
  },
  {
   "cell_type": "code",
   "execution_count": 20,
   "metadata": {},
   "outputs": [
    {
     "data": {
      "text/html": [
       "<table class=\"data-frame\"><thead><tr><th></th><th>retailer</th><th>max_price</th></tr><tr><th></th><th>String⍰</th><th>Float64⍰</th></tr></thead><tbody><p>2 rows × 2 columns</p><tr><th>1</th><td>Best Buy</td><td>719.0</td></tr><tr><th>2</th><td>Target</td><td>799.0</td></tr></tbody></table>"
      ],
      "text/latex": [
       "\\begin{tabular}{r|cc}\n",
       "\t& retailer & max\\_price\\\\\n",
       "\t\\hline\n",
       "\t& String⍰ & Float64⍰\\\\\n",
       "\t\\hline\n",
       "\t1 & Best Buy & 719.0 \\\\\n",
       "\t2 & Target & 799.0 \\\\\n",
       "\\end{tabular}\n"
      ],
      "text/plain": [
       "2×2 DataFrame\n",
       "│ Row │ retailer │ max_price │\n",
       "│     │ \u001b[90mString⍰\u001b[39m  │ \u001b[90mFloat64⍰\u001b[39m  │\n",
       "├─────┼──────────┼───────────┤\n",
       "│ 1   │ Best Buy │ 719.0     │\n",
       "│ 2   │ Target   │ 799.0     │"
      ]
     },
     "execution_count": 20,
     "metadata": {},
     "output_type": "execute_result"
    }
   ],
   "source": [
    "sql_expr = \"\"\"\n",
    "SELECT retailer, MAX(price) as max_price\n",
    "FROM prices\n",
    "GROUP BY retailer\n",
    "HAVING max_price > 700\n",
    "\"\"\"\n",
    "\n",
    "SQLite.Query(db, sql_expr) |> DataFrame"
   ]
  },
  {
   "cell_type": "markdown",
   "metadata": {},
   "source": [
    "For comparison, we recreate the same table in `DataFrames`:"
   ]
  },
  {
   "cell_type": "code",
   "execution_count": 22,
   "metadata": {},
   "outputs": [
    {
     "data": {
      "text/html": [
       "<table class=\"data-frame\"><thead><tr><th></th><th>retailer</th><th>price_maximum</th></tr><tr><th></th><th>String</th><th>Float64</th></tr></thead><tbody><p>2 rows × 2 columns</p><tr><th>1</th><td>Best Buy</td><td>719.0</td></tr><tr><th>2</th><td>Target</td><td>799.0</td></tr></tbody></table>"
      ],
      "text/latex": [
       "\\begin{tabular}{r|cc}\n",
       "\t& retailer & price\\_maximum\\\\\n",
       "\t\\hline\n",
       "\t& String & Float64\\\\\n",
       "\t\\hline\n",
       "\t1 & Best Buy & 719.0 \\\\\n",
       "\t2 & Target & 799.0 \\\\\n",
       "\\end{tabular}\n"
      ],
      "text/plain": [
       "2×2 DataFrame\n",
       "│ Row │ retailer │ price_maximum │\n",
       "│     │ \u001b[90mString\u001b[39m   │ \u001b[90mFloat64\u001b[39m       │\n",
       "├─────┼──────────┼───────────────┤\n",
       "│ 1   │ Best Buy │ 719.0         │\n",
       "│ 2   │ Target   │ 799.0         │"
      ]
     },
     "execution_count": 22,
     "metadata": {},
     "output_type": "execute_result"
    }
   ],
   "source": [
    "max_prices = by(prices, :retailer, :price => maximum)\n",
    "max_prices[max_prices.price_maximum .> 700, :]"
   ]
  },
  {
   "cell_type": "markdown",
   "metadata": {
    "colab_type": "text",
    "id": "lQsEZZfWDgeu"
   },
   "source": [
    "### ORDER BY and LIMIT\n",
    "\n",
    "These clauses allow us to control the presentation of the data:\n",
    "- `ORDER BY` lets us present the data in lexicographic order of column values. By default, ORDER BY uses ascending order (`ASC`) but we can specify descending order using `DESC`.\n",
    "- `LIMIT` controls how many tuples are displayed.\n",
    "\n",
    "Let's display the three cheapest items in our `prices` table:"
   ]
  },
  {
   "cell_type": "code",
   "execution_count": 23,
   "metadata": {},
   "outputs": [
    {
     "data": {
      "text/html": [
       "<table class=\"data-frame\"><thead><tr><th></th><th>retailer</th><th>product</th><th>price</th></tr><tr><th></th><th>String⍰</th><th>String⍰</th><th>Float64⍰</th></tr></thead><tbody><p>3 rows × 3 columns</p><tr><th>1</th><td>Amazon</td><td>Battery pack</td><td>24.87</td></tr><tr><th>2</th><td>Best Buy</td><td>iPod</td><td>200.0</td></tr><tr><th>3</th><td>Target</td><td>iPod</td><td>215.0</td></tr></tbody></table>"
      ],
      "text/latex": [
       "\\begin{tabular}{r|ccc}\n",
       "\t& retailer & product & price\\\\\n",
       "\t\\hline\n",
       "\t& String⍰ & String⍰ & Float64⍰\\\\\n",
       "\t\\hline\n",
       "\t1 & Amazon & Battery pack & 24.87 \\\\\n",
       "\t2 & Best Buy & iPod & 200.0 \\\\\n",
       "\t3 & Target & iPod & 215.0 \\\\\n",
       "\\end{tabular}\n"
      ],
      "text/plain": [
       "3×3 DataFrame\n",
       "│ Row │ retailer │ product      │ price    │\n",
       "│     │ \u001b[90mString⍰\u001b[39m  │ \u001b[90mString⍰\u001b[39m      │ \u001b[90mFloat64⍰\u001b[39m │\n",
       "├─────┼──────────┼──────────────┼──────────┤\n",
       "│ 1   │ Amazon   │ Battery pack │ 24.87    │\n",
       "│ 2   │ Best Buy │ iPod         │ 200.0    │\n",
       "│ 3   │ Target   │ iPod         │ 215.0    │"
      ]
     },
     "execution_count": 23,
     "metadata": {},
     "output_type": "execute_result"
    }
   ],
   "source": [
    "sql_expr = \"\"\"\n",
    "SELECT *\n",
    "FROM prices\n",
    "ORDER BY price ASC\n",
    "LIMIT 3\n",
    "\"\"\"\n",
    "\n",
    "SQLite.Query(db, sql_expr) |> DataFrame"
   ]
  },
  {
   "cell_type": "markdown",
   "metadata": {},
   "source": [
    "Note that we didn't have to include the `ASC` keyword since `ORDER BY` returns data in ascending order by default.\n",
    "For comparison, in `DataFrames`:"
   ]
  },
  {
   "cell_type": "code",
   "execution_count": 24,
   "metadata": {},
   "outputs": [
    {
     "data": {
      "text/html": [
       "<table class=\"data-frame\"><thead><tr><th></th><th>retailer</th><th>product</th><th>price</th></tr><tr><th></th><th>String</th><th>String</th><th>Float64</th></tr></thead><tbody><p>3 rows × 3 columns</p><tr><th>1</th><td>Amazon</td><td>Battery pack</td><td>24.87</td></tr><tr><th>2</th><td>Best Buy</td><td>iPod</td><td>200.0</td></tr><tr><th>3</th><td>Target</td><td>iPod</td><td>215.0</td></tr></tbody></table>"
      ],
      "text/latex": [
       "\\begin{tabular}{r|ccc}\n",
       "\t& retailer & product & price\\\\\n",
       "\t\\hline\n",
       "\t& String & String & Float64\\\\\n",
       "\t\\hline\n",
       "\t1 & Amazon & Battery pack & 24.87 \\\\\n",
       "\t2 & Best Buy & iPod & 200.0 \\\\\n",
       "\t3 & Target & iPod & 215.0 \\\\\n",
       "\\end{tabular}\n"
      ],
      "text/plain": [
       "3×3 DataFrame\n",
       "│ Row │ retailer │ product      │ price   │\n",
       "│     │ \u001b[90mString\u001b[39m   │ \u001b[90mString\u001b[39m       │ \u001b[90mFloat64\u001b[39m │\n",
       "├─────┼──────────┼──────────────┼─────────┤\n",
       "│ 1   │ Amazon   │ Battery pack │ 24.87   │\n",
       "│ 2   │ Best Buy │ iPod         │ 200.0   │\n",
       "│ 3   │ Target   │ iPod         │ 215.0   │"
      ]
     },
     "execution_count": 24,
     "metadata": {},
     "output_type": "execute_result"
    }
   ],
   "source": [
    "first(sort(prices, :price), 3)"
   ]
  },
  {
   "cell_type": "markdown",
   "metadata": {},
   "source": [
    "### Conceptual SQL Evaluation\n",
    "\n",
    "Clauses in a SQL query are executed in a specific order. Unfortunately, this order differs from the order that the clauses are written in a SQL query. From first executed to last:\n",
    "\n",
    "1. `FROM`: One or more source tables\n",
    "2. `WHERE`: Apply selection qualifications (eliminate rows)\n",
    "3. `GROUP BY`: Form groups and aggregate\n",
    "4. `HAVING`: Eliminate groups\n",
    "5. `SELECT`: Select columns\n",
    "\n",
    "**Note on `WHERE` vs. `HAVING`**: Since the `WHERE` clause is processed before applying `GROUP BY`, the `WHERE` clause cannot make use of aggregated values. To define predicates based on aggregated values, we must use the `HAVING` clause."
   ]
  },
  {
   "cell_type": "markdown",
   "metadata": {},
   "source": [
    "## Summary\n",
    "\n",
    "We have introduced SQL syntax and the most important SQL statements needed to conduct data analysis using a relational database management system."
   ]
  }
 ],
 "metadata": {
  "kernelspec": {
   "display_name": "Julia 1.2.0",
   "language": "julia",
   "name": "julia-1.2"
  },
  "language_info": {
   "file_extension": ".jl",
   "mimetype": "application/julia",
   "name": "julia",
   "version": "1.2.0"
  }
 },
 "nbformat": 4,
 "nbformat_minor": 2
}
