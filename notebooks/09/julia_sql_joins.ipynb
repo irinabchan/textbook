{
 "cells": [
  {
   "cell_type": "code",
   "execution_count": 1,
   "metadata": {},
   "outputs": [
    {
     "data": {
      "text/plain": [
       "SQLite.DB(\"sql_joins.db\")"
      ]
     },
     "execution_count": 1,
     "metadata": {},
     "output_type": "execute_result"
    }
   ],
   "source": [
    "# HIDDEN\n",
    "using SQLite\n",
    "using DataFrames\n",
    "\n",
    "db_joins = SQLite.DB(\"sql_joins.db\")"
   ]
  },
  {
   "cell_type": "markdown",
   "metadata": {
    "colab_type": "text",
    "id": "2id48Pl8wagw"
   },
   "source": [
    "## SQL Joins"
   ]
  },
  {
   "cell_type": "markdown",
   "metadata": {
    "colab_type": "text",
    "id": "WOSG1ptQwagx"
   },
   "source": [
    "In `DataFrames` we use the [join](https://juliadata.github.io/DataFrames.jl/stable/man/joins/) method to join two tables using matching values in their columns. For example:\n",
    "\n",
    "```julia\n",
    "join(table1, table2, on = :common_column)\n",
    "```\n",
    "\n",
    "In this section, we introduce SQL joins. SQL joins are used to combine multiple tables in a relational database.\n",
    "\n",
    "Suppose we are cat store owners with a database for the cats we have in our store. We have **two** different tables: `names` and `colors`. The `names` table contains the columns `cat_id`, a unique number assigned to each cat, and `name`, the name for the cat. The `colors` table contains the columns `cat_id` and `color`, the color of each cat.\n",
    "\n",
    "Note that there are some missing rows from both tables - a row with `cat_id` 3 is missing from the `names` table, and a row with `cat_id` 4 is missing from the `colors` table."
   ]
  },
  {
   "cell_type": "markdown",
   "metadata": {},
   "source": [
    "<div style=\"display: flex\">\n",
    "  <div style=\"margin-right: 2em\">\n",
    "    <header style=\"text-align:center\"><strong>names</strong></header>\n",
    "    <table>\n",
    "      <thead>\n",
    "        <tr>\n",
    "          <th>cat_id</th>\n",
    "          <th>name</th>\n",
    "        </tr>\n",
    "      </thead>\n",
    "      <tbody>\n",
    "        <tr>\n",
    "          <td>0</td>\n",
    "          <td>Apricot</td>\n",
    "        </tr>\n",
    "        <tr>\n",
    "          <td>1</td>\n",
    "          <td>Boots</td>\n",
    "        </tr>\n",
    "        <tr>\n",
    "          <td>2</td>\n",
    "          <td>Cally</td>\n",
    "        </tr>\n",
    "        <tr>\n",
    "          <td>4</td>\n",
    "          <td>Eugene</td>\n",
    "        </tr>\n",
    "      </tbody>\n",
    "    </table>\n",
    "  </div>\n",
    "  <div>\n",
    "    <header style=\"text-align:center\"><strong>colors</strong></header>\n",
    "    <table>\n",
    "      <thead>\n",
    "        <tr>\n",
    "          <th>cat_id</th>\n",
    "          <th>color</th>\n",
    "        </tr>\n",
    "      </thead>\n",
    "      <tbody>\n",
    "        <tr>\n",
    "          <td>0</td>\n",
    "          <td>orange</td>\n",
    "        </tr>\n",
    "        <tr>\n",
    "          <td>1</td>\n",
    "          <td>black</td>\n",
    "        </tr>\n",
    "        <tr>\n",
    "          <td>2</td>\n",
    "          <td>calico</td>\n",
    "        </tr>\n",
    "        <tr>\n",
    "          <td>3</td>\n",
    "          <td>white</td>\n",
    "        </tr>\n",
    "      </tbody>\n",
    "    </table>\n",
    "  </div>\n",
    "</div>"
   ]
  },
  {
   "cell_type": "markdown",
   "metadata": {},
   "source": [
    "To compute the color of the cat named Apricot, we have to use information in both tables. We can *join* the tables on the `cat_id` column, creating a new table with both `name` and `color`."
   ]
  },
  {
   "cell_type": "markdown",
   "metadata": {
    "colab_type": "text",
    "id": "LptZJOFGwahG"
   },
   "source": [
    "## Joins"
   ]
  },
  {
   "cell_type": "markdown",
   "metadata": {},
   "source": [
    "A join combines tables by matching values in their columns.\n",
    "\n",
    "There are four main types of joins: inner joins, outer joins, left joins, and right joins. Although all four combine tables, each one treats non-matching values differently."
   ]
  },
  {
   "cell_type": "markdown",
   "metadata": {
    "colab_type": "text",
    "id": "z6qWoVSTwahJ"
   },
   "source": [
    "### Inner Join"
   ]
  },
  {
   "cell_type": "markdown",
   "metadata": {},
   "source": [
    "<b>Definition:</b> In an inner join, the final table only contains rows that have matching columns in **both** tables."
   ]
  },
  {
   "cell_type": "markdown",
   "metadata": {
    "colab_type": "text",
    "id": "eQivHXNMwahL"
   },
   "source": [
    "![Inner Join](https://www.w3schools.com/sql/img_innerjoin.gif)\n"
   ]
  },
  {
   "cell_type": "markdown",
   "metadata": {
    "colab_type": "text",
    "id": "nDUi3rOtwahM"
   },
   "source": [
    "<b>Example:</b> We would like to join the `names` and `colors` tables together to match each cat with its color. Since both tables contain a `cat_id` column that is the unique identifier for a cat, we can use an inner join on the `cat_id` column.\n",
    "\n",
    "<b>SQL:</b> To write an inner join in SQL we modify our `FROM` clause to use the following syntax:\n",
    "\n",
    "```SQL\n",
    "SELECT ...\n",
    "FROM <TABLE_1>\n",
    "    INNER JOIN <TABLE_2>\n",
    "    ON <...>\n",
    "```\n",
    "\n",
    "For example:\n",
    "\n",
    "```SQL\n",
    "SELECT *\n",
    "FROM names AS N\n",
    "    INNER JOIN colors AS C\n",
    "    ON N.cat_id = C.cat_id;\n",
    "```"
   ]
  },
  {
   "cell_type": "markdown",
   "metadata": {},
   "source": [
    "<table border=\"1\" class=\"dataframe\">\n",
    "  <thead>\n",
    "    <tr style=\"text-align: right;\">\n",
    "      <th></th>\n",
    "      <th>cat_id</th>\n",
    "      <th>name</th>\n",
    "      <th>cat_id</th>\n",
    "      <th>color</th>\n",
    "    </tr>\n",
    "  </thead>\n",
    "  <tbody>\n",
    "    <tr>\n",
    "      <th>0</th>\n",
    "      <td>0</td>\n",
    "      <td>Apricot</td>\n",
    "      <td>0</td>\n",
    "      <td>orange</td>\n",
    "    </tr>\n",
    "    <tr>\n",
    "      <th>1</th>\n",
    "      <td>1</td>\n",
    "      <td>Boots</td>\n",
    "      <td>1</td>\n",
    "      <td>black</td>\n",
    "    </tr>\n",
    "    <tr>\n",
    "      <th>2</th>\n",
    "      <td>2</td>\n",
    "      <td>Cally</td>\n",
    "      <td>2</td>\n",
    "      <td>calico</td>\n",
    "    </tr>\n",
    "  </tbody>\n",
    "</table>"
   ]
  },
  {
   "cell_type": "markdown",
   "metadata": {},
   "source": [
    "You may verify that each cat name is matched with its color. Notice that the cats with `cat_id` 3 and 4 are not present in our resulting table because the `colors` table doesn't have a row with `cat_id` 4 and the `names` table doesn't have a row with `cat_id` 3. In an inner join, if a row doesn't have a matching value in the other table, the row is not included in the final result."
   ]
  },
  {
   "cell_type": "markdown",
   "metadata": {},
   "source": [
    "Assuming we have a DataFrame called `names` and a DataFrame called `colors`, we can conduct an inner join in `pandas` by writing:\n",
    "\n",
    "```julia\n",
    "join(names, colors, on = :cat_id, kind = :inner)\n",
    "```"
   ]
  },
  {
   "cell_type": "markdown",
   "metadata": {},
   "source": [
    "### Full/Outer Join"
   ]
  },
  {
   "cell_type": "markdown",
   "metadata": {
    "colab_type": "text",
    "id": "KxucuJmRwahW"
   },
   "source": [
    "<b>Definition:</b> In a full join (sometimes called an outer join), **all records from both tables** are included in the joined table. If a row doesn't have a match in the other table, the missing values are filled in with `NULL`.\n",
    "\n",
    "![Full outer join](https://www.w3schools.com/sql/img_fulljoin.gif)"
   ]
  },
  {
   "cell_type": "markdown",
   "metadata": {},
   "source": [
    "<b>Example:</b> As before, we join the `names` and `colors` tables together to match each cat with its color. This time, we want to keep all rows in either table even if there isn't a match.\n",
    "\n",
    "<b>SQL:</b> To write an outer join in SQL we modify our `FROM` clause to use the following syntax:\n",
    "\n",
    "```SQL\n",
    "SELECT ...\n",
    "FROM <TABLE_1>\n",
    "    FULL JOIN <TABLE_2>\n",
    "    ON <...>\n",
    "```\n",
    "\n",
    "For example:\n",
    "\n",
    "```SQL\n",
    "SELECT name, color\n",
    "FROM names N\n",
    "    FULL JOIN colors C\n",
    "    ON N.cat_id = C.cat_id;\n",
    "```"
   ]
  },
  {
   "cell_type": "markdown",
   "metadata": {},
   "source": [
    "| cat_id        | name          | color    |\n",
    "| ------------- |---------------|-----------\n",
    "| 0             | Apricot       | orange   |\n",
    "| 1             | Boots         | black    |\n",
    "| 2             | Cally         | calico   |\n",
    "| 3             | NULL          | white    |\n",
    "| 4             | Eugene        | NULL     |"
   ]
  },
  {
   "cell_type": "markdown",
   "metadata": {
    "colab_type": "text",
    "id": "Sgs8fiCDwahg"
   },
   "source": [
    "Notice that the final output contains the entries with `cat_id` 3 and 4. If a row does not have a match, it is still included in the final output and any missing values are filled in with `NULL`.\n",
    "\n",
    "In `DataFrames`:\n",
    "\n",
    "```julia\n",
    "join(names, colors, on = :cat_id, kind = :outer)\n",
    "```"
   ]
  },
  {
   "cell_type": "markdown",
   "metadata": {},
   "source": [
    "### Left Join"
   ]
  },
  {
   "cell_type": "markdown",
   "metadata": {
    "colab_type": "text",
    "id": "KxucuJmRwahW"
   },
   "source": [
    "<b>Definition:</b> In a left join, all records from the **left table** are included in the joined table. If a row doesn't have a match in the right table, the missing values are filled in with `NULL`.\n",
    "\n",
    "![left join](https://www.w3schools.com/sql/img_leftjoin.gif)"
   ]
  },
  {
   "cell_type": "markdown",
   "metadata": {},
   "source": [
    "<b>Example:</b> As before, we join the `names` and `colors` tables together to match each cat with its color. This time, we want to keep all the cat names even if a cat doesn't have a matching color.\n",
    "\n",
    "<b>SQL:</b> To write an left join in SQL we modify our `FROM` clause to use the following syntax:\n",
    "\n",
    "```SQL\n",
    "SELECT ...\n",
    "FROM <TABLE_1>\n",
    "    LEFT JOIN <TABLE_2>\n",
    "    ON <...>\n",
    "```\n",
    "\n",
    "For example:\n",
    "\n",
    "```SQL\n",
    "SELECT name, color\n",
    "FROM names N\n",
    "    LEFT JOIN colors C\n",
    "    ON N.cat_id = C.cat_id;\n",
    "```"
   ]
  },
  {
   "cell_type": "markdown",
   "metadata": {
    "colab_type": "text",
    "id": "iNDBJrVYwahf"
   },
   "source": [
    "| cat_id        | name          | color    |\n",
    "| ------------- |---------------|-----------\n",
    "| 0             | Apricot       | orange   |\n",
    "| 1             | Boots         | black    |\n",
    "| 2             | Cally         | calico   |\n",
    "| 4             | Eugene        | NULL     |"
   ]
  },
  {
   "cell_type": "markdown",
   "metadata": {},
   "source": [
    "Notice that the final output includes all four cat names. Three of the `cat_id`s in the `names` relation had matching `cat_id`s in the `colors` table and one did not (Eugene). The cat name that did not have a matching color has `NULL` as its color.\n",
    "\n",
    "In `DataFrames`:\n",
    "\n",
    "```julia\n",
    "join(names, colors, on = :cat_id, kind = :left)\n",
    "```"
   ]
  },
  {
   "cell_type": "markdown",
   "metadata": {
    "colab_type": "text",
    "id": "u24A8PiXwahV"
   },
   "source": [
    "### Right Join"
   ]
  },
  {
   "cell_type": "markdown",
   "metadata": {
    "colab_type": "text",
    "id": "KxucuJmRwahW"
   },
   "source": [
    "<b>Definition:</b> In a right join, all records from the **right table** are included in the joined table. If a row doesn't have a match in the left table, the missing values are filled in with `NULL`.\n",
    "\n",
    "![right join](https://www.w3schools.com/sql/img_rightjoin.gif)"
   ]
  },
  {
   "cell_type": "markdown",
   "metadata": {
    "colab_type": "text",
    "id": "U6nh8mm3wahX"
   },
   "source": [
    "<b>Example:</b> As before, we join the `names` and `colors` tables together to match each cat with its color. This time, we want to keep all the cat color even if a cat doesn't have a matching name.\n",
    "\n",
    "<b>SQL:</b> To write a right join in SQL we modify our `FROM` clause to use the following syntax:\n",
    "\n",
    "```SQL\n",
    "SELECT ...\n",
    "FROM <TABLE_1>\n",
    "    RIGHT JOIN <TABLE_2>\n",
    "    ON <...>\n",
    "```\n",
    "\n",
    "For example:\n",
    "\n",
    "```SQL\n",
    "SELECT name, color\n",
    "FROM names N\n",
    "    RIGHT JOIN colors C\n",
    "    ON N.cat_id = C.cat_id;\n",
    "```"
   ]
  },
  {
   "cell_type": "markdown",
   "metadata": {
    "colab_type": "text",
    "id": "iNDBJrVYwahf"
   },
   "source": [
    "| cat_id        | name          | color    |\n",
    "| ------------- |---------------|-----------\n",
    "| 0             | Apricot       | orange   |\n",
    "| 1             | Boots         | black    |\n",
    "| 2             | Cally         | calico   |\n",
    "| 3             | NULL          | white    |"
   ]
  },
  {
   "cell_type": "markdown",
   "metadata": {},
   "source": [
    "This time, observe that the final output includes all four cat colors. Three of the `cat_id`s in the `colors` relation had matching `cat_id`s in the `names` table and one did not (white). The cat color that did not have a matching name has `NULL` as its name.\n",
    "\n",
    "You may also notice that a right join produces the same result a left join with the table order swapped. That is, `names` left joined with `colors` is the same as `colors` right joined with `names`. Because of this, some SQL engines (such as SQLite) do not support right joins.\n",
    "\n",
    "In `DataFrames`:\n",
    "\n",
    "```julia\n",
    "join(names, colors, on = :cat_id, kind = :right)\n",
    "```"
   ]
  },
  {
   "cell_type": "markdown",
   "metadata": {
    "colab_type": "text",
    "id": "dBfgXDaH7cqG"
   },
   "source": [
    "### Implicit Inner Joins"
   ]
  },
  {
   "cell_type": "markdown",
   "metadata": {},
   "source": [
    "There are typically multiple ways to accomplish the same task in SQL just as there are multiple ways to accomplish the same task in Python. We point out one other method for writing an inner join that appears in practice called an *implicit join*. Recall that we previously wrote the following to conduct an inner join:"
   ]
  },
  {
   "cell_type": "markdown",
   "metadata": {
    "colab_type": "text",
    "id": "nDUi3rOtwahM"
   },
   "source": [
    "```SQL\n",
    "SELECT *\n",
    "FROM names AS N\n",
    "    INNER JOIN colors AS C\n",
    "    ON N.cat_id = C.cat_id;\n",
    "```"
   ]
  },
  {
   "cell_type": "markdown",
   "metadata": {},
   "source": [
    "An implicit inner join has a slightly different syntax. Notice in particular that the `FROM` clause uses a comma to select from two tables and that the query includes a `WHERE` clause to specify the join condition."
   ]
  },
  {
   "cell_type": "markdown",
   "metadata": {
    "colab_type": "text",
    "id": "nDUi3rOtwahM"
   },
   "source": [
    "```SQL\n",
    "SELECT *\n",
    "FROM names AS N, colors AS C\n",
    "WHERE N.cat_id = C.cat_id;\n",
    "```"
   ]
  },
  {
   "cell_type": "markdown",
   "metadata": {},
   "source": [
    "When multiple tables are specified in the `FROM` clause, SQL creates a table containing every combination of rows from each table. For example, the following query:\n",
    "\n",
    "```SQL\n",
    "SELECT *\n",
    "FROM names N, colors C\n",
    "```\n",
    "will result the table:\n",
    "\n",
    "| cat_id        | name          | color    |\n",
    "| ------------- |---------------|-----------\n",
    "| 0             | Apricot       | orange   |\n",
    "| 0             | Apricot       | black    |\n",
    "| 0             | Apricot       | calico   |\n",
    "| 0             | Apricot       | white    |\n",
    "| 1             | Boots         | orange   |\n",
    "| 1             | Boots         | black    |\n",
    "| 1             | Boots         | calico   |\n",
    "| 1             | Boots         | white    |\n",
    "| 2             | Cally         | orange   |\n",
    "| 2             | Cally         | black    |\n",
    "| 2             | Cally         | calico   |\n",
    "| 2             | Cally         | white    |\n",
    "| 4             | Eugen         | orange   |\n",
    "| 4             | Eugen         | black    |\n",
    "| 4             | Eugen         | calico   |\n",
    "| 4             | Eugen         | white    |"
   ]
  },
  {
   "cell_type": "markdown",
   "metadata": {},
   "source": [
    "This operation is often called a *Cartesian product*: each row in the first table is paired with every row in the second table. Notice that many rows contain cat colors that are not matched properly with their names. The additional `WHERE`  clause in the implicit join filters out rows that do not have matching `cat_id` values."
   ]
  },
  {
   "cell_type": "markdown",
   "metadata": {},
   "source": [
    "```SQL\n",
    "SELECT *\n",
    "FROM names AS N, colors AS C\n",
    "WHERE N.cat_id = C.cat_id;\n",
    "```"
   ]
  },
  {
   "cell_type": "markdown",
   "metadata": {
    "colab_type": "text",
    "id": "nDUi3rOtwahM"
   },
   "source": [
    "<table border=\"1\" class=\"dataframe\">\n",
    "  <thead>\n",
    "    <tr style=\"text-align: right;\">\n",
    "      <th></th>\n",
    "      <th>cat_id</th>\n",
    "      <th>name</th>\n",
    "      <th>cat_id</th>\n",
    "      <th>color</th>\n",
    "    </tr>\n",
    "  </thead>\n",
    "  <tbody>\n",
    "    <tr>\n",
    "      <th>0</th>\n",
    "      <td>0</td>\n",
    "      <td>Apricot</td>\n",
    "      <td>0</td>\n",
    "      <td>orange</td>\n",
    "    </tr>\n",
    "    <tr>\n",
    "      <th>1</th>\n",
    "      <td>1</td>\n",
    "      <td>Boots</td>\n",
    "      <td>1</td>\n",
    "      <td>black</td>\n",
    "    </tr>\n",
    "    <tr>\n",
    "      <th>2</th>\n",
    "      <td>2</td>\n",
    "      <td>Cally</td>\n",
    "      <td>2</td>\n",
    "      <td>calico</td>\n",
    "    </tr>\n",
    "  </tbody>\n",
    "</table>"
   ]
  },
  {
   "cell_type": "markdown",
   "metadata": {},
   "source": [
    "## Joining Multiple Tables"
   ]
  },
  {
   "cell_type": "markdown",
   "metadata": {},
   "source": [
    "To join multiple tables, extend the `FROM` clause with additional `JOIN` operators. For example, the following table `ages` includes data about each cat's age.\n",
    "\n",
    "| cat_id        | age     | \n",
    "| ------------- |---------|\n",
    "| 0             | 4       | \n",
    "| 1             | 3       | \n",
    "| 2             | 9       | \n",
    "| 4             | 20      | "
   ]
  },
  {
   "cell_type": "markdown",
   "metadata": {},
   "source": [
    "To conduct an inner join on the `names`, `colors`, and `ages` table, we write:"
   ]
  },
  {
   "cell_type": "code",
   "execution_count": 15,
   "metadata": {},
   "outputs": [
    {
     "data": {
      "text/html": [
       "<table class=\"data-frame\"><thead><tr><th></th><th>name</th><th>color</th><th>age</th></tr><tr><th></th><th>String⍰</th><th>String⍰</th><th>Int64⍰</th></tr></thead><tbody><p>3 rows × 3 columns</p><tr><th>1</th><td>Apricot</td><td>orange</td><td>4</td></tr><tr><th>2</th><td>Boots</td><td>black</td><td>3</td></tr><tr><th>3</th><td>Cally</td><td>calico</td><td>9</td></tr></tbody></table>"
      ],
      "text/latex": [
       "\\begin{tabular}{r|ccc}\n",
       "\t& name & color & age\\\\\n",
       "\t\\hline\n",
       "\t& String⍰ & String⍰ & Int64⍰\\\\\n",
       "\t\\hline\n",
       "\t1 & Apricot & orange & 4 \\\\\n",
       "\t2 & Boots & black & 3 \\\\\n",
       "\t3 & Cally & calico & 9 \\\\\n",
       "\\end{tabular}\n"
      ],
      "text/plain": [
       "3×3 DataFrame\n",
       "│ Row │ name    │ color   │ age    │\n",
       "│     │ \u001b[90mString⍰\u001b[39m │ \u001b[90mString⍰\u001b[39m │ \u001b[90mInt64⍰\u001b[39m │\n",
       "├─────┼─────────┼─────────┼────────┤\n",
       "│ 1   │ Apricot │ orange  │ 4      │\n",
       "│ 2   │ Boots   │ black   │ 3      │\n",
       "│ 3   │ Cally   │ calico  │ 9      │"
      ]
     },
     "execution_count": 15,
     "metadata": {},
     "output_type": "execute_result"
    }
   ],
   "source": [
    "# Joining three tables\n",
    "\n",
    "sql_expr = \"\"\"\n",
    "SELECT name, color, age\n",
    "    FROM names n\n",
    "    INNER JOIN colors c ON n.cat_id = c.cat_id\n",
    "    INNER JOIN ages a ON n.cat_id = a.cat_id;\n",
    "\"\"\"\n",
    "\n",
    "SQLite.Query(db_joins, sql_expr) |> DataFrame"
   ]
  },
  {
   "cell_type": "markdown",
   "metadata": {},
   "source": [
    "## Summary\n",
    "\n",
    "We have covered the four main types of SQL joins: inner, full, left, and right joins. We use all four joins to combine information in separate relations, and each join differs only in how it handles non-matching rows in the input tables."
   ]
  }
 ],
 "metadata": {
  "kernelspec": {
   "display_name": "Julia 1.2.0",
   "language": "julia",
   "name": "julia-1.2"
  },
  "language_info": {
   "file_extension": ".jl",
   "mimetype": "application/julia",
   "name": "julia",
   "version": "1.2.0"
  }
 },
 "nbformat": 4,
 "nbformat_minor": 2
}
