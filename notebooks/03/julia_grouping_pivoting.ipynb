{
 "cells": [
  {
   "cell_type": "code",
   "execution_count": null,
   "metadata": {},
   "outputs": [],
   "source": [
    "# HIDDEN\n",
    "Base.displaysize() = (5, 80)\n",
    "using DataFrames\n",
    "using CSV"
   ]
  },
  {
   "cell_type": "markdown",
   "metadata": {},
   "source": [
    "## Grouping\n",
    "\n",
    "In this section, we will answer the question:\n",
    "\n",
    "**What were the most popular male and female names in each year?**\n",
    "\n",
    "Here's the Baby Names dataset once again:"
   ]
  },
  {
   "cell_type": "code",
   "execution_count": null,
   "metadata": {},
   "outputs": [],
   "source": [
    "baby = CSV.read(\"babynames.csv\")\n",
    "first(baby, 5)\n",
    "# the first(df, n) method outputs the first n rows of the dataframe df"
   ]
  },
  {
   "cell_type": "markdown",
   "metadata": {},
   "source": [
    "### Breaking the Problem Down\n",
    "\n",
    "We should first notice that the question in the previous section has similarities to this one; the question in the previous section restricts names to babies born in 2016 whereas this question asks for names in all years.\n",
    "\n",
    "We once again decompose this problem into simpler table manipulations.\n",
    "\n",
    "1. Group the `baby` DataFrame by 'Year' and 'Sex'.\n",
    "2. For each group, compute the most popular name.\n",
    "\n",
    "Recognizing which operation is needed for each problem is sometimes tricky. Usually, a convoluted series of steps will signal to you that there might be a simpler way to express what you want. If we didn't immediately recognize that we needed to group, for example, we might write steps like the following:\n",
    "\n",
    "1. Loop through each unique year.\n",
    "2. For each year, loop through each unique sex.\n",
    "3. For each unique year and sex, find the most common name.\n",
    "\n",
    "There is almost always a better alternative to looping over a `DataFrame`. **In particular, looping over unique values of a DataFrame should usually be replaced with a group.**\n",
    "\n",
    "### Grouping\n",
    "\n",
    "To group in `DataFrames` by a certain column we can use the `groupby()` method which returns `GroupedDataFrame` for each group formed by the specified key."
   ]
  },
  {
   "cell_type": "code",
   "execution_count": 4,
   "metadata": {},
   "outputs": [
    {
     "data": {
      "text/html": [
       "<p><b>GroupedDataFrame with 137 groups based on key: Year</b></p><p><i>First Group (2297 rows): Year = 1884</i></p><table class=\"data-frame\"><thead><tr><th></th><th>Name</th><th>Sex</th><th>Count</th><th>Year</th></tr><tr><th></th><th>String</th><th>String</th><th>Int64</th><th>Int64</th></tr></thead><tbody><tr><th>1</th><td>Mary</td><td>F</td><td>9217</td><td>1884</td></tr><tr><th>2</th><td>Anna</td><td>F</td><td>3860</td><td>1884</td></tr><tr><th>3</th><td>Emma</td><td>F</td><td>2587</td><td>1884</td></tr><tr><th>4</th><td>Elizabeth</td><td>F</td><td>2549</td><td>1884</td></tr><tr><th>5</th><td>Minnie</td><td>F</td><td>2243</td><td>1884</td></tr><tr><th>&vellip;</th><td>&vellip;</td><td>&vellip;</td><td>&vellip;</td><td>&vellip;</td></tr></tbody></table><p>&vellip;</p><p><i>Last Group (2084 rows): Year = 1883</i></p><table class=\"data-frame\"><thead><tr><th></th><th>Name</th><th>Sex</th><th>Count</th><th>Year</th></tr><tr><th></th><th>String</th><th>String</th><th>Int64</th><th>Int64</th></tr></thead><tbody><tr><th>1</th><td>Mary</td><td>F</td><td>8012</td><td>1883</td></tr><tr><th>2</th><td>Anna</td><td>F</td><td>3306</td><td>1883</td></tr><tr><th>3</th><td>Emma</td><td>F</td><td>2367</td><td>1883</td></tr><tr><th>4</th><td>Elizabeth</td><td>F</td><td>2255</td><td>1883</td></tr><tr><th>5</th><td>Minnie</td><td>F</td><td>2035</td><td>1883</td></tr><tr><th>&vellip;</th><td>&vellip;</td><td>&vellip;</td><td>&vellip;</td><td>&vellip;</td></tr></tbody></table>"
      ],
      "text/latex": [
       "GroupedDataFrame with 137 groups based on key: Year\n",
       "\n",
       "First Group (2297 rows): Year = 1884\n",
       "\n",
       "\\begin{tabular}{r|cccc}\n",
       "\t& Name & Sex & Count & Year\\\\\n",
       "\t\\hline\n",
       "\t& String & String & Int64 & Int64\\\\\n",
       "\t\\hline\n",
       "\t1 & Mary & F & 9217 & 1884 \\\\\n",
       "\t2 & Anna & F & 3860 & 1884 \\\\\n",
       "\t3 & Emma & F & 2587 & 1884 \\\\\n",
       "\t4 & Elizabeth & F & 2549 & 1884 \\\\\n",
       "\t5 & Minnie & F & 2243 & 1884 \\\\\n",
       "\t$\\dots$ & $\\dots$ & $\\dots$ & $\\dots$ & $\\dots$ \\\\\n",
       "\\end{tabular}\n",
       "\n",
       "$\\dots$\n",
       "\n",
       "Last Group (2084 rows): Year = 1883\n",
       "\n",
       "\\begin{tabular}{r|cccc}\n",
       "\t& Name & Sex & Count & Year\\\\\n",
       "\t\\hline\n",
       "\t& String & String & Int64 & Int64\\\\\n",
       "\t\\hline\n",
       "\t1 & Mary & F & 8012 & 1883 \\\\\n",
       "\t2 & Anna & F & 3306 & 1883 \\\\\n",
       "\t3 & Emma & F & 2367 & 1883 \\\\\n",
       "\t4 & Elizabeth & F & 2255 & 1883 \\\\\n",
       "\t5 & Minnie & F & 2035 & 1883 \\\\\n",
       "\t$\\dots$ & $\\dots$ & $\\dots$ & $\\dots$ & $\\dots$ \\\\\n",
       "\\end{tabular}\n"
      ],
      "text/plain": [
       "GroupedDataFrame with 137 groups based on key: Year\n",
       "First Group (2297 rows): Year = 1884\n",
       "⋮\n",
       "Last Group (2084 rows): Year = 1883"
      ]
     },
     "execution_count": 4,
     "metadata": {},
     "output_type": "execute_result"
    }
   ],
   "source": [
    "groupby(baby, :Year)"
   ]
  },
  {
   "cell_type": "markdown",
   "metadata": {},
   "source": [
    "More simply, for grouping by a column and aggregation function we use `by()`:"
   ]
  },
  {
   "cell_type": "code",
   "execution_count": 3,
   "metadata": {},
   "outputs": [
    {
     "data": {
      "text/html": [
       "<table class=\"data-frame\"><thead><tr><th></th><th>Year</th><th>Count_length</th></tr><tr><th></th><th>Int64</th><th>Int64</th></tr></thead><tbody><p>137 rows × 2 columns</p><tr><th>1</th><td>1884</td><td>2297</td></tr><tr><th>2</th><td>1885</td><td>2294</td></tr><tr><th>3</th><td>1886</td><td>2392</td></tr><tr><th>4</th><td>1887</td><td>2373</td></tr><tr><th>5</th><td>1888</td><td>2651</td></tr><tr><th>&vellip;</th><td>&vellip;</td><td>&vellip;</td></tr></tbody></table>"
      ],
      "text/latex": [
       "\\begin{tabular}{r|cc}\n",
       "\t& Year & Count\\_length\\\\\n",
       "\t\\hline\n",
       "\t& Int64 & Int64\\\\\n",
       "\t\\hline\n",
       "\t1 & 1884 & 2297 \\\\\n",
       "\t2 & 1885 & 2294 \\\\\n",
       "\t3 & 1886 & 2392 \\\\\n",
       "\t4 & 1887 & 2373 \\\\\n",
       "\t5 & 1888 & 2651 \\\\\n",
       "\t$\\dots$ & $\\dots$ & $\\dots$ \\\\\n",
       "\\end{tabular}\n"
      ],
      "text/plain": [
       "137×2 DataFrame\n"
      ]
     },
     "execution_count": 3,
     "metadata": {},
     "output_type": "execute_result"
    }
   ],
   "source": [
    "baby_by_year = by(baby, :Year, :Count => length)"
   ]
  },
  {
   "cell_type": "markdown",
   "metadata": {},
   "source": [
    "`by()` allows us to group the `DataFrame` using different aggregations functions that are applied to the selected column, and returns a `DataFrame`.\n",
    "We can now sort the resulting `DataFrame` and slice subsets of years using the `:` notation as before:"
   ]
  },
  {
   "cell_type": "code",
   "execution_count": 5,
   "metadata": {},
   "outputs": [
    {
     "data": {
      "text/html": [
       "<table class=\"data-frame\"><thead><tr><th></th><th>Year</th><th>Count_length</th></tr><tr><th></th><th>Int64</th><th>Int64</th></tr></thead><tbody><p>7 rows × 2 columns</p><tr><th>1</th><td>1880</td><td>2000</td></tr><tr><th>2</th><td>1900</td><td>3730</td></tr><tr><th>3</th><td>1920</td><td>10755</td></tr><tr><th>4</th><td>1940</td><td>8961</td></tr><tr><th>5</th><td>1960</td><td>11924</td></tr><tr><th>&vellip;</th><td>&vellip;</td><td>&vellip;</td></tr></tbody></table>"
      ],
      "text/latex": [
       "\\begin{tabular}{r|cc}\n",
       "\t& Year & Count\\_length\\\\\n",
       "\t\\hline\n",
       "\t& Int64 & Int64\\\\\n",
       "\t\\hline\n",
       "\t1 & 1880 & 2000 \\\\\n",
       "\t2 & 1900 & 3730 \\\\\n",
       "\t3 & 1920 & 10755 \\\\\n",
       "\t4 & 1940 & 8961 \\\\\n",
       "\t5 & 1960 & 11924 \\\\\n",
       "\t$\\dots$ & $\\dots$ & $\\dots$ \\\\\n",
       "\\end{tabular}\n"
      ],
      "text/plain": [
       "7×2 DataFrame\n"
      ]
     },
     "execution_count": 5,
     "metadata": {},
     "output_type": "execute_result"
    }
   ],
   "source": [
    "sort!(baby_by_year, :Year)\n",
    "baby_by_year[1:20:end, :]"
   ]
  },
  {
   "cell_type": "markdown",
   "metadata": {},
   "source": [
    "### Grouping on Multiple Columns\n",
    "\n",
    "As we've seen in Data 8, we can group on multiple columns to get groups based on unique pairs of values. To do this, pass in a list of column labels into `by()`."
   ]
  },
  {
   "cell_type": "code",
   "execution_count": 6,
   "metadata": {},
   "outputs": [
    {
     "data": {
      "text/html": [
       "<table class=\"data-frame\"><thead><tr><th></th><th>Year</th><th>Sex</th><th>Count_sum</th></tr><tr><th></th><th>Int64</th><th>String</th><th>Int64</th></tr></thead><tbody><p>274 rows × 3 columns</p><tr><th>1</th><td>1884</td><td>F</td><td>129020</td></tr><tr><th>2</th><td>1884</td><td>M</td><td>114443</td></tr><tr><th>3</th><td>1885</td><td>F</td><td>133055</td></tr><tr><th>4</th><td>1885</td><td>M</td><td>107799</td></tr><tr><th>5</th><td>1886</td><td>F</td><td>144533</td></tr><tr><th>&vellip;</th><td>&vellip;</td><td>&vellip;</td><td>&vellip;</td></tr></tbody></table>"
      ],
      "text/latex": [
       "\\begin{tabular}{r|ccc}\n",
       "\t& Year & Sex & Count\\_sum\\\\\n",
       "\t\\hline\n",
       "\t& Int64 & String & Int64\\\\\n",
       "\t\\hline\n",
       "\t1 & 1884 & F & 129020 \\\\\n",
       "\t2 & 1884 & M & 114443 \\\\\n",
       "\t3 & 1885 & F & 133055 \\\\\n",
       "\t4 & 1885 & M & 107799 \\\\\n",
       "\t5 & 1886 & F & 144533 \\\\\n",
       "\t$\\dots$ & $\\dots$ & $\\dots$ & $\\dots$ \\\\\n",
       "\\end{tabular}\n"
      ],
      "text/plain": [
       "274×3 DataFrame\n"
      ]
     },
     "execution_count": 6,
     "metadata": {},
     "output_type": "execute_result"
    }
   ],
   "source": [
    "grouped_counts = by(baby, [:Year, :Sex], :Count => sum)"
   ]
  },
  {
   "cell_type": "markdown",
   "metadata": {},
   "source": [
    "The code above computes the total number of babies born for each year and sex. Let's now use grouping by muliple columns to compute the most popular names for each year and sex. We can use `by()` passing multiple columns as we did before, but also passing multiple aggregation functions. Since the data is not sorted, we use `sort!()` on the resulting `DataFrame`:"
   ]
  },
  {
   "cell_type": "code",
   "execution_count": 7,
   "metadata": {},
   "outputs": [
    {
     "data": {
      "text/html": [
       "<table class=\"data-frame\"><thead><tr><th></th><th>Year</th><th>Sex</th><th>Count_maximum</th><th>Name_first</th></tr><tr><th></th><th>Int64</th><th>String</th><th>Int64</th><th>String</th></tr></thead><tbody><p>274 rows × 4 columns</p><tr><th>1</th><td>1880</td><td>F</td><td>7065</td><td>Mary</td></tr><tr><th>2</th><td>1880</td><td>M</td><td>9655</td><td>John</td></tr><tr><th>3</th><td>1881</td><td>F</td><td>6919</td><td>Mary</td></tr><tr><th>4</th><td>1881</td><td>M</td><td>8769</td><td>John</td></tr><tr><th>5</th><td>1882</td><td>F</td><td>8148</td><td>Mary</td></tr><tr><th>&vellip;</th><td>&vellip;</td><td>&vellip;</td><td>&vellip;</td><td>&vellip;</td></tr></tbody></table>"
      ],
      "text/latex": [
       "\\begin{tabular}{r|cccc}\n",
       "\t& Year & Sex & Count\\_maximum & Name\\_first\\\\\n",
       "\t\\hline\n",
       "\t& Int64 & String & Int64 & String\\\\\n",
       "\t\\hline\n",
       "\t1 & 1880 & F & 7065 & Mary \\\\\n",
       "\t2 & 1880 & M & 9655 & John \\\\\n",
       "\t3 & 1881 & F & 6919 & Mary \\\\\n",
       "\t4 & 1881 & M & 8769 & John \\\\\n",
       "\t5 & 1882 & F & 8148 & Mary \\\\\n",
       "\t$\\dots$ & $\\dots$ & $\\dots$ & $\\dots$ & $\\dots$ \\\\\n",
       "\\end{tabular}\n"
      ],
      "text/plain": [
       "274×4 DataFrame\n"
      ]
     },
     "execution_count": 7,
     "metadata": {},
     "output_type": "execute_result"
    }
   ],
   "source": [
    "most_popular_baby_names = by(baby, [:Year, :Sex], [:Count => maximum, :Name => first])\n",
    "sort!(most_popular_baby_names, :Year)"
   ]
  },
  {
   "cell_type": "markdown",
   "metadata": {},
   "source": [
    "## In Conclusion\n",
    "\n",
    "We now have the most popular baby names for each sex and year in our dataset and learned to express the following operations in `DataFrames`:\n",
    "\n",
    "| Operation | `DataFrames` |\n",
    "| --------- | -------  |\n",
    "| Group | `groupby(df, label)` |\n",
    "| Group and aggregate | `by(df, label1, func)` |\n",
    "| Group and aggregate multiple columns and functions| `by(df, [label1, label2], [fun1, func2])` |\n",
    "| Pivot | `pd.pivot_table()` |"
   ]
  }
 ],
 "metadata": {
  "@webio": {
   "lastCommId": null,
   "lastKernelId": null
  },
  "kernelspec": {
   "display_name": "Julia 1.2.0",
   "language": "julia",
   "name": "julia-1.2"
  },
  "language_info": {
   "file_extension": ".jl",
   "mimetype": "application/julia",
   "name": "julia",
   "version": "1.2.0"
  }
 },
 "nbformat": 4,
 "nbformat_minor": 2
}
