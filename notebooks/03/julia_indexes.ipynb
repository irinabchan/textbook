{
 "cells": [
  {
   "cell_type": "code",
   "execution_count": 1,
   "metadata": {},
   "outputs": [],
   "source": [
    "# HIDDEN\n",
    "Base.displaysize() = (5, 80)"
   ]
  },
  {
   "cell_type": "markdown",
   "metadata": {},
   "source": [
    "## Getting Started\n",
    "\n",
    "In the remaining sections of this chapter we will work with the Baby Names dataset from Chapter 1. We will pose a question, break the question down into high-level steps, then translate each step into Julia code using `DataFrames`. We begin by importing `DataFrames` and `CSV`:"
   ]
  },
  {
   "cell_type": "code",
   "execution_count": 2,
   "metadata": {},
   "outputs": [],
   "source": [
    "using DataFrames\n",
    "using CSV"
   ]
  },
  {
   "cell_type": "markdown",
   "metadata": {},
   "source": [
    "Now we can read in the data using `CSV.read` ([docs](https://juliadata.github.io/CSV.jl/stable/))."
   ]
  },
  {
   "cell_type": "code",
   "execution_count": 29,
   "metadata": {},
   "outputs": [
    {
     "data": {
      "text/html": [
       "<table class=\"data-frame\"><thead><tr><th></th><th>Name</th><th>Sex</th><th>Count</th><th>Year</th></tr><tr><th></th><th>String</th><th>String</th><th>Int64</th><th>Int64</th></tr></thead><tbody><p>1,891,894 rows × 4 columns</p><tr><th>1</th><td>Mary</td><td>F</td><td>9217</td><td>1884</td></tr><tr><th>2</th><td>Anna</td><td>F</td><td>3860</td><td>1884</td></tr><tr><th>3</th><td>Emma</td><td>F</td><td>2587</td><td>1884</td></tr><tr><th>4</th><td>Elizabeth</td><td>F</td><td>2549</td><td>1884</td></tr><tr><th>5</th><td>Minnie</td><td>F</td><td>2243</td><td>1884</td></tr><tr><th>&vellip;</th><td>&vellip;</td><td>&vellip;</td><td>&vellip;</td><td>&vellip;</td></tr></tbody></table>"
      ],
      "text/latex": [
       "\\begin{tabular}{r|cccc}\n",
       "\t& Name & Sex & Count & Year\\\\\n",
       "\t\\hline\n",
       "\t& String & String & Int64 & Int64\\\\\n",
       "\t\\hline\n",
       "\t1 & Mary & F & 9217 & 1884 \\\\\n",
       "\t2 & Anna & F & 3860 & 1884 \\\\\n",
       "\t3 & Emma & F & 2587 & 1884 \\\\\n",
       "\t4 & Elizabeth & F & 2549 & 1884 \\\\\n",
       "\t5 & Minnie & F & 2243 & 1884 \\\\\n",
       "\t$\\dots$ & $\\dots$ & $\\dots$ & $\\dots$ & $\\dots$ \\\\\n",
       "\\end{tabular}\n"
      ],
      "text/plain": [
       "1891894×4 DataFrame\n"
      ]
     },
     "execution_count": 29,
     "metadata": {},
     "output_type": "execute_result"
    }
   ],
   "source": [
    "baby = CSV.read(\"babynames.csv\")\n",
    "baby"
   ]
  },
  {
   "cell_type": "markdown",
   "metadata": {},
   "source": [
    "Note that for the code above to work, the `babynames.csv` file must be located in the same directory as this notebook. We can check what files are in the current folder by running the `ls` command-line tool:"
   ]
  },
  {
   "cell_type": "code",
   "execution_count": 30,
   "metadata": {},
   "outputs": [
    {
     "name": "stdout",
     "output_type": "stream",
     "text": [
      "babynames.csv\n",
      "julia_indexes.ipynb\n",
      "julia_intro.ipynb\n",
      "julia_structure.ipynb\n",
      "others\n",
      "pandas_apply_strings_plotting.ipynb\n",
      "pandas_apply_strings_plotting.md\n",
      "pandas_apply_strings_plotting_files\n",
      "pandas_grouping_pivoting.ipynb\n",
      "pandas_grouping_pivoting.md\n",
      "pandas_indexes.ipynb\n",
      "pandas_indexes.md\n",
      "pandas_intro.ipynb\n",
      "pandas_intro.md\n",
      "pandas_structure.ipynb\n",
      "pandas_structure.md\n"
     ]
    }
   ],
   "source": [
    ";ls"
   ]
  },
  {
   "cell_type": "markdown",
   "metadata": {},
   "source": [
    "-- ADJUST?--\n",
    "\n",
    "When we use `DataFrames` to read in data, we get a DataFrame. A DataFrame is a tabular data structure where each column is labeled (in this case 'Name', 'Sex', 'Count', 'Year') and each row is labeled (in this case 0, 1, 2, ..., 1891893). Note that the Table object introduced in Data 8 only labels columns while DataFrames label both columns and rows."
   ]
  },
  {
   "cell_type": "markdown",
   "metadata": {},
   "source": [
    "## Indexes, Slicing, and Sorting\n",
    "\n",
    "Let's use `DataFrames` to answer the following question:\n",
    "\n",
    "**What were the five most popular baby names in 2016?**\n",
    "\n",
    "### Breaking the Problem Down\n",
    "\n",
    "We can decompose this question into the following simpler table manipulations:\n",
    "\n",
    "1. Slice out the rows for the year 2016.\n",
    "2. Sort the rows in descending order by Count.\n",
    "\n",
    "Now, we can express these steps in `DataFrames`.\n",
    "\n",
    "### Taking a subset\n",
    "\n",
    "Specific subsets of a data frame can be extracted using the indexing syntax. The colon `:` indicates that all items (rows or columns depending on its position) should be retained:"
   ]
  },
  {
   "cell_type": "code",
   "execution_count": 31,
   "metadata": {},
   "outputs": [
    {
     "data": {
      "text/html": [
       "<table class=\"data-frame\"><thead><tr><th></th><th>Name</th><th>Sex</th><th>Count</th><th>Year</th></tr><tr><th></th><th>String</th><th>String</th><th>Int64</th><th>Int64</th></tr></thead><tbody><p>1,891,894 rows × 4 columns</p><tr><th>1</th><td>Mary</td><td>F</td><td>9217</td><td>1884</td></tr><tr><th>2</th><td>Anna</td><td>F</td><td>3860</td><td>1884</td></tr><tr><th>3</th><td>Emma</td><td>F</td><td>2587</td><td>1884</td></tr><tr><th>4</th><td>Elizabeth</td><td>F</td><td>2549</td><td>1884</td></tr><tr><th>5</th><td>Minnie</td><td>F</td><td>2243</td><td>1884</td></tr><tr><th>&vellip;</th><td>&vellip;</td><td>&vellip;</td><td>&vellip;</td><td>&vellip;</td></tr></tbody></table>"
      ],
      "text/latex": [
       "\\begin{tabular}{r|cccc}\n",
       "\t& Name & Sex & Count & Year\\\\\n",
       "\t\\hline\n",
       "\t& String & String & Int64 & Int64\\\\\n",
       "\t\\hline\n",
       "\t1 & Mary & F & 9217 & 1884 \\\\\n",
       "\t2 & Anna & F & 3860 & 1884 \\\\\n",
       "\t3 & Emma & F & 2587 & 1884 \\\\\n",
       "\t4 & Elizabeth & F & 2549 & 1884 \\\\\n",
       "\t5 & Minnie & F & 2243 & 1884 \\\\\n",
       "\t$\\dots$ & $\\dots$ & $\\dots$ & $\\dots$ & $\\dots$ \\\\\n",
       "\\end{tabular}\n"
      ],
      "text/plain": [
       "1891894×4 DataFrame\n"
      ]
     },
     "execution_count": 31,
     "metadata": {},
     "output_type": "execute_result"
    }
   ],
   "source": [
    "baby"
   ]
  },
  {
   "cell_type": "markdown",
   "metadata": {},
   "source": [
    "To obtain a list of column names, use the names() function:"
   ]
  },
  {
   "cell_type": "code",
   "execution_count": 32,
   "metadata": {},
   "outputs": [
    {
     "name": "stdout",
     "output_type": "stream",
     "text": [
      "Symbol[:Name, :Sex, :Count, :Year]"
     ]
    }
   ],
   "source": [
    "print(names(baby))"
   ]
  },
  {
   "cell_type": "markdown",
   "metadata": {},
   "source": [
    "Column names are called symbols and are preceded by a `:`. So `:Count` refers to the column named Count, or column number 3.\n",
    "\n",
    "Julia is 1 based indexing, instead of the commonly used 0 based indexing. To select the element at row 2 and column Name we can do:"
   ]
  },
  {
   "cell_type": "code",
   "execution_count": 33,
   "metadata": {},
   "outputs": [
    {
     "data": {
      "text/plain": [
       "\"Anna\""
      ]
     },
     "execution_count": 33,
     "metadata": {},
     "output_type": "execute_result"
    }
   ],
   "source": [
    "baby[2, :Name]"
   ]
  },
  {
   "cell_type": "markdown",
   "metadata": {},
   "source": [
    "To slice out multiple rows or columns, we can use `:`. Note that slicing is inclusive. To specify a range of rows and columns use index numbers:"
   ]
  },
  {
   "cell_type": "code",
   "execution_count": 34,
   "metadata": {},
   "outputs": [
    {
     "data": {
      "text/html": [
       "<table class=\"data-frame\"><thead><tr><th></th><th>Name</th><th>Sex</th><th>Count</th></tr><tr><th></th><th>String</th><th>String</th><th>Int64</th></tr></thead><tbody><p>5 rows × 3 columns</p><tr><th>1</th><td>Anna</td><td>F</td><td>3860</td></tr><tr><th>2</th><td>Emma</td><td>F</td><td>2587</td></tr><tr><th>3</th><td>Elizabeth</td><td>F</td><td>2549</td></tr><tr><th>4</th><td>Minnie</td><td>F</td><td>2243</td></tr><tr><th>5</th><td>Margaret</td><td>F</td><td>2142</td></tr></tbody></table>"
      ],
      "text/latex": [
       "\\begin{tabular}{r|ccc}\n",
       "\t& Name & Sex & Count\\\\\n",
       "\t\\hline\n",
       "\t& String & String & Int64\\\\\n",
       "\t\\hline\n",
       "\t1 & Anna & F & 3860 \\\\\n",
       "\t2 & Emma & F & 2587 \\\\\n",
       "\t3 & Elizabeth & F & 2549 \\\\\n",
       "\t4 & Minnie & F & 2243 \\\\\n",
       "\t5 & Margaret & F & 2142 \\\\\n",
       "\\end{tabular}\n"
      ],
      "text/plain": [
       "5×3 DataFrame\n"
      ]
     },
     "execution_count": 34,
     "metadata": {},
     "output_type": "execute_result"
    }
   ],
   "source": [
    "baby[2:6, 1:3]"
   ]
  },
  {
   "cell_type": "markdown",
   "metadata": {},
   "source": [
    "We will often want a single column from a DataFrame:"
   ]
  },
  {
   "cell_type": "code",
   "execution_count": 35,
   "metadata": {},
   "outputs": [
    {
     "data": {
      "text/plain": [
       "1891894-element Array{Int64,1}:\n",
       " ⋮"
      ]
     },
     "execution_count": 35,
     "metadata": {},
     "output_type": "execute_result"
    }
   ],
   "source": [
    "baby[:, :Year]"
   ]
  },
  {
   "cell_type": "markdown",
   "metadata": {},
   "source": [
    "Note that when we select a single column, we get an `Array` that we can then perform arithmetic on all elements at once:"
   ]
  },
  {
   "cell_type": "code",
   "execution_count": 36,
   "metadata": {},
   "outputs": [
    {
     "data": {
      "text/plain": [
       "1891894-element Array{Int64,1}:\n",
       " ⋮"
      ]
     },
     "execution_count": 36,
     "metadata": {},
     "output_type": "execute_result"
    }
   ],
   "source": [
    "baby[:, :Year] * 2"
   ]
  },
  {
   "cell_type": "markdown",
   "metadata": {},
   "source": [
    "To select out specific columns, we can pass a list into the slice:"
   ]
  },
  {
   "cell_type": "code",
   "execution_count": 37,
   "metadata": {},
   "outputs": [
    {
     "data": {
      "text/html": [
       "<table class=\"data-frame\"><thead><tr><th></th><th>Name</th><th>Year</th></tr><tr><th></th><th>String</th><th>Int64</th></tr></thead><tbody><p>1,891,894 rows × 2 columns</p><tr><th>1</th><td>Mary</td><td>1884</td></tr><tr><th>2</th><td>Anna</td><td>1884</td></tr><tr><th>3</th><td>Emma</td><td>1884</td></tr><tr><th>4</th><td>Elizabeth</td><td>1884</td></tr><tr><th>5</th><td>Minnie</td><td>1884</td></tr><tr><th>&vellip;</th><td>&vellip;</td><td>&vellip;</td></tr></tbody></table>"
      ],
      "text/latex": [
       "\\begin{tabular}{r|cc}\n",
       "\t& Name & Year\\\\\n",
       "\t\\hline\n",
       "\t& String & Int64\\\\\n",
       "\t\\hline\n",
       "\t1 & Mary & 1884 \\\\\n",
       "\t2 & Anna & 1884 \\\\\n",
       "\t3 & Emma & 1884 \\\\\n",
       "\t4 & Elizabeth & 1884 \\\\\n",
       "\t5 & Minnie & 1884 \\\\\n",
       "\t$\\dots$ & $\\dots$ & $\\dots$ \\\\\n",
       "\\end{tabular}\n"
      ],
      "text/plain": [
       "1891894×2 DataFrame\n"
      ]
     },
     "execution_count": 37,
     "metadata": {},
     "output_type": "execute_result"
    }
   ],
   "source": [
    "# This is a DataFrame again\n",
    "baby[:, [:Name, :Year]]"
   ]
  },
  {
   "cell_type": "markdown",
   "metadata": {},
   "source": [
    "Selecting columns is common, so there's a shorthand."
   ]
  },
  {
   "cell_type": "code",
   "execution_count": 38,
   "metadata": {},
   "outputs": [
    {
     "data": {
      "text/plain": [
       "1891894-element CSV.Column{String,PooledString}:\n",
       " ⋮"
      ]
     },
     "execution_count": 38,
     "metadata": {},
     "output_type": "execute_result"
    }
   ],
   "source": [
    "# Shorthand for baby[:, :Name]\n",
    "baby.Name"
   ]
  },
  {
   "cell_type": "markdown",
   "metadata": {},
   "source": [
    "#### Selecting rows with conditions\n",
    "\n",
    "To select all rows with the year 2016:"
   ]
  },
  {
   "cell_type": "code",
   "execution_count": 52,
   "metadata": {},
   "outputs": [
    {
     "data": {
      "text/html": [
       "<table class=\"data-frame\"><thead><tr><th></th><th>Name</th><th>Sex</th><th>Count</th><th>Year</th></tr><tr><th></th><th>String</th><th>String</th><th>Int64</th><th>Int64</th></tr></thead><tbody><p>32,868 rows × 4 columns</p><tr><th>1</th><td>Emma</td><td>F</td><td>19414</td><td>2016</td></tr><tr><th>2</th><td>Olivia</td><td>F</td><td>19246</td><td>2016</td></tr><tr><th>3</th><td>Ava</td><td>F</td><td>16237</td><td>2016</td></tr><tr><th>4</th><td>Sophia</td><td>F</td><td>16070</td><td>2016</td></tr><tr><th>5</th><td>Isabella</td><td>F</td><td>14722</td><td>2016</td></tr><tr><th>&vellip;</th><td>&vellip;</td><td>&vellip;</td><td>&vellip;</td><td>&vellip;</td></tr></tbody></table>"
      ],
      "text/latex": [
       "\\begin{tabular}{r|cccc}\n",
       "\t& Name & Sex & Count & Year\\\\\n",
       "\t\\hline\n",
       "\t& String & String & Int64 & Int64\\\\\n",
       "\t\\hline\n",
       "\t1 & Emma & F & 19414 & 2016 \\\\\n",
       "\t2 & Olivia & F & 19246 & 2016 \\\\\n",
       "\t3 & Ava & F & 16237 & 2016 \\\\\n",
       "\t4 & Sophia & F & 16070 & 2016 \\\\\n",
       "\t5 & Isabella & F & 14722 & 2016 \\\\\n",
       "\t$\\dots$ & $\\dots$ & $\\dots$ & $\\dots$ & $\\dots$ \\\\\n",
       "\\end{tabular}\n"
      ],
      "text/plain": [
       "32868×4 DataFrame\n"
      ]
     },
     "execution_count": 52,
     "metadata": {},
     "output_type": "execute_result"
    }
   ],
   "source": [
    "baby_2016 = baby[baby.Year .== 2016, :]"
   ]
  },
  {
   "cell_type": "markdown",
   "metadata": {},
   "source": [
    "The 'inner' phrase `baby.Year .== 2016` carries out an element-wise comparison of the values in column Name, and returns an array of Boolean true or false values, one for each row. Notice the broadcasting operator `.`.\n",
    "\n",
    "### Sorting Rows\n",
    "\n",
    "The next step is the sort the rows in descending order by 'Count'. We can use the `sort!()` function. The `!` operator indicates the sorting is done in place."
   ]
  },
  {
   "cell_type": "code",
   "execution_count": 54,
   "metadata": {},
   "outputs": [
    {
     "data": {
      "text/html": [
       "<table class=\"data-frame\"><thead><tr><th></th><th>Name</th><th>Sex</th><th>Count</th><th>Year</th></tr><tr><th></th><th>String</th><th>String</th><th>Int64</th><th>Int64</th></tr></thead><tbody><p>32,868 rows × 4 columns</p><tr><th>1</th><td>Emma</td><td>F</td><td>19414</td><td>2016</td></tr><tr><th>2</th><td>Olivia</td><td>F</td><td>19246</td><td>2016</td></tr><tr><th>3</th><td>Noah</td><td>M</td><td>19015</td><td>2016</td></tr><tr><th>4</th><td>Liam</td><td>M</td><td>18138</td><td>2016</td></tr><tr><th>5</th><td>Ava</td><td>F</td><td>16237</td><td>2016</td></tr><tr><th>&vellip;</th><td>&vellip;</td><td>&vellip;</td><td>&vellip;</td><td>&vellip;</td></tr></tbody></table>"
      ],
      "text/latex": [
       "\\begin{tabular}{r|cccc}\n",
       "\t& Name & Sex & Count & Year\\\\\n",
       "\t\\hline\n",
       "\t& String & String & Int64 & Int64\\\\\n",
       "\t\\hline\n",
       "\t1 & Emma & F & 19414 & 2016 \\\\\n",
       "\t2 & Olivia & F & 19246 & 2016 \\\\\n",
       "\t3 & Noah & M & 19015 & 2016 \\\\\n",
       "\t4 & Liam & M & 18138 & 2016 \\\\\n",
       "\t5 & Ava & F & 16237 & 2016 \\\\\n",
       "\t$\\dots$ & $\\dots$ & $\\dots$ & $\\dots$ & $\\dots$ \\\\\n",
       "\\end{tabular}\n"
      ],
      "text/plain": [
       "32868×4 DataFrame\n"
      ]
     },
     "execution_count": 54,
     "metadata": {},
     "output_type": "execute_result"
    }
   ],
   "source": [
    "sort!(baby_2016, :Count, rev=true)"
   ]
  },
  {
   "cell_type": "markdown",
   "metadata": {},
   "source": [
    "We can then slice the resulted DataFrame. Remember Julia uses 1 indexing:"
   ]
  },
  {
   "cell_type": "code",
   "execution_count": 56,
   "metadata": {},
   "outputs": [
    {
     "data": {
      "text/plain": [
       "\"Emma\""
      ]
     },
     "execution_count": 56,
     "metadata": {},
     "output_type": "execute_result"
    }
   ],
   "source": [
    "# Get the value in the first row, first column\n",
    "baby_2016[1, 1]"
   ]
  },
  {
   "cell_type": "code",
   "execution_count": 57,
   "metadata": {},
   "outputs": [
    {
     "data": {
      "text/html": [
       "<table class=\"data-frame\"><thead><tr><th></th><th>Name</th><th>Sex</th><th>Count</th><th>Year</th></tr><tr><th></th><th>String</th><th>String</th><th>Int64</th><th>Int64</th></tr></thead><tbody><p>5 rows × 4 columns</p><tr><th>1</th><td>Emma</td><td>F</td><td>19414</td><td>2016</td></tr><tr><th>2</th><td>Olivia</td><td>F</td><td>19246</td><td>2016</td></tr><tr><th>3</th><td>Noah</td><td>M</td><td>19015</td><td>2016</td></tr><tr><th>4</th><td>Liam</td><td>M</td><td>18138</td><td>2016</td></tr><tr><th>5</th><td>Ava</td><td>F</td><td>16237</td><td>2016</td></tr></tbody></table>"
      ],
      "text/latex": [
       "\\begin{tabular}{r|cccc}\n",
       "\t& Name & Sex & Count & Year\\\\\n",
       "\t\\hline\n",
       "\t& String & String & Int64 & Int64\\\\\n",
       "\t\\hline\n",
       "\t1 & Emma & F & 19414 & 2016 \\\\\n",
       "\t2 & Olivia & F & 19246 & 2016 \\\\\n",
       "\t3 & Noah & M & 19015 & 2016 \\\\\n",
       "\t4 & Liam & M & 18138 & 2016 \\\\\n",
       "\t5 & Ava & F & 16237 & 2016 \\\\\n",
       "\\end{tabular}\n"
      ],
      "text/plain": [
       "5×4 DataFrame\n"
      ]
     },
     "execution_count": 57,
     "metadata": {},
     "output_type": "execute_result"
    }
   ],
   "source": [
    "# Get the first five rows\n",
    "baby_2016[1:5, :]"
   ]
  },
  {
   "cell_type": "markdown",
   "metadata": {},
   "source": [
    "## In Conclusion\n",
    "\n",
    "We now have the five most popular baby names in 2016 and learned to express the following operations in `DataFrames` and `CSV`:\n",
    "\n",
    "| Goal | Operation |\n",
    "| --------- | -------  |\n",
    "| Read a CSV file | `CSV.read` |\n",
    "| Slicing using labels or indices | `:` syntax |\n",
    "| Slicing rows using a condition | `.` operator for element-wise comparison |\n",
    "| Sorting rows | `sort!()` |"
   ]
  }
 ],
 "metadata": {
  "kernelspec": {
   "display_name": "Julia 1.2.0",
   "language": "julia",
   "name": "julia-1.2"
  },
  "language_info": {
   "file_extension": ".jl",
   "mimetype": "application/julia",
   "name": "julia",
   "version": "1.2.0"
  }
 },
 "nbformat": 4,
 "nbformat_minor": 2
}
