{
 "cells": [
  {
   "cell_type": "markdown",
   "metadata": {},
   "source": [
    "# Working with Tabular Data\n",
    "\n",
    "Tabular data, like the datasets we have worked with in Data 8, are one of the\n",
    "most common and useful forms of data for analysis. We introduce tabular data\n",
    "manipulation using `DataFrames`, the standard Julia library for working with\n",
    "tabular data.\n",
    "\n",
    "It is more important that you understand the types of useful operations on data\n",
    "than the exact details of `DataFrames` syntax. For example, knowing when to perform a\n",
    "group-by is generally more useful than knowing how to call the `DataFrames` function\n",
    "to group data. Since this chapter contains many snippets of code, we\n",
    "encourage you to read through this chapter twice: once to understand the syntax\n",
    "and once to understand when each operation is appropriate.\n",
    "\n",
    "Because we will cover only the most commonly used `DataFrames` functions in this\n",
    "textbook, you should bookmark the [`DataFrames` documentation][docs] for reference\n",
    "when you conduct your own data analyses.\n",
    "\n",
    "We begin by talking about the types of dataset structures that `DataFrames` can read.\n",
    "Then, we introduce indexes, grouping, apply, and strings.\n",
    "\n",
    "[docs]: https://juliadata.github.io/DataFrames.jl/stable/"
   ]
  },
  {
   "cell_type": "code",
   "execution_count": null,
   "metadata": {},
   "outputs": [],
   "source": []
  }
 ],
 "metadata": {
  "kernelspec": {
   "display_name": "Julia 1.2.0",
   "language": "julia",
   "name": "julia-1.2"
  },
  "language_info": {
   "file_extension": ".jl",
   "mimetype": "application/julia",
   "name": "julia",
   "version": "1.2.0"
  }
 },
 "nbformat": 4,
 "nbformat_minor": 2
}
