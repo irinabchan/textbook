{
 "cells": [
  {
   "cell_type": "code",
   "execution_count": 1,
   "metadata": {},
   "outputs": [],
   "source": [
    "# HIDDEN\n",
    "Base.displaysize() = (5, 80)\n",
    "using DataFrames\n",
    "using CSV"
   ]
  },
  {
   "cell_type": "code",
   "execution_count": 7,
   "metadata": {},
   "outputs": [],
   "source": [
    "# HIDDEN\n",
    "df = CSV.read(\"data/babies23.data\"; header=true, delim=' ', ignorerepeated=true)\n",
    "babies_small = df[:, [:wt, :race, :ed]];"
   ]
  },
  {
   "cell_type": "markdown",
   "metadata": {},
   "source": [
    "## Data Types\n",
    "\n",
    "We often begin exploratory data analysis by examining the types of data that occur in a table. Although there are multiple ways of categorizing data types, in this book we discuss three broad types of data:\n",
    "\n",
    "1. **Nominal data**, which represents categories that do not have a natural ordering. For example: political party affiliation (Democrat, Republican, Other), sex (male, female, other), and computer operating system (Windows, MacOS, Linux).\n",
    "1. **Ordinal data**, which represents ordered categories. For example: T-shirt sizes (small, medium, large), Likert-scale responses (disagree, neutral, agree), and level of education (high school, college, graduate school). Ordinal and nominal data are considered subtypes of categorical data.\n",
    "1. **Numerical data**, which represents amounts or quantities. For example: heights, prices, and distances.\n",
    "\n",
    "We refer to these types as **statistical data types**, or simply **data types**."
   ]
  },
  {
   "cell_type": "markdown",
   "metadata": {},
   "source": [
    "**Computational vs. Statistical Data Types**\n",
    "\n",
    "`DataFrames` assigns each column of a DataFrame a **computational data type** that represents how the data are stored in the computer's memory. It is essential to remember that the statistical data type can differ from the computational data type.\n",
    "\n",
    "For example, consider the table below which records weights of babies at birth, race of the mother, and educational level of the mother."
   ]
  },
  {
   "cell_type": "code",
   "execution_count": 8,
   "metadata": {},
   "outputs": [
    {
     "data": {
      "text/html": [
       "<table class=\"data-frame\"><thead><tr><th></th><th>wt</th><th>race</th><th>ed</th></tr><tr><th></th><th>Int64</th><th>Int64</th><th>Int64</th></tr></thead><tbody><p>1,236 rows × 3 columns</p><tr><th>1</th><td>120</td><td>8</td><td>5</td></tr><tr><th>2</th><td>113</td><td>0</td><td>5</td></tr><tr><th>3</th><td>128</td><td>0</td><td>2</td></tr><tr><th>4</th><td>123</td><td>0</td><td>5</td></tr><tr><th>5</th><td>108</td><td>0</td><td>5</td></tr><tr><th>&vellip;</th><td>&vellip;</td><td>&vellip;</td><td>&vellip;</td></tr></tbody></table>"
      ],
      "text/latex": [
       "\\begin{tabular}{r|ccc}\n",
       "\t& wt & race & ed\\\\\n",
       "\t\\hline\n",
       "\t& Int64 & Int64 & Int64\\\\\n",
       "\t\\hline\n",
       "\t1 & 120 & 8 & 5 \\\\\n",
       "\t2 & 113 & 0 & 5 \\\\\n",
       "\t3 & 128 & 0 & 2 \\\\\n",
       "\t4 & 123 & 0 & 5 \\\\\n",
       "\t5 & 108 & 0 & 5 \\\\\n",
       "\t$\\dots$ & $\\dots$ & $\\dots$ & $\\dots$ \\\\\n",
       "\\end{tabular}\n"
      ],
      "text/plain": [
       "1236×3 DataFrame\n"
      ]
     },
     "execution_count": 8,
     "metadata": {},
     "output_type": "execute_result"
    }
   ],
   "source": [
    "babies_small"
   ]
  },
  {
   "cell_type": "markdown",
   "metadata": {},
   "source": [
    "Every column of this DataFrame has a numeric computational data type indicated below each column symbol. In this case, the `Int64` type signifies that each column contains integers. We can also inspect the type of each column by using the function `eltypes()`:"
   ]
  },
  {
   "cell_type": "code",
   "execution_count": 10,
   "metadata": {},
   "outputs": [
    {
     "name": "stdout",
     "output_type": "stream",
     "text": [
      "DataType[Int64, Int64, Int64]"
     ]
    }
   ],
   "source": [
    "print(eltypes(babies_small))"
   ]
  },
  {
   "cell_type": "markdown",
   "metadata": {},
   "source": [
    "However, it does not make sense to work with all three columns as if they have a numeric statistical data type. In order to understand the dataset's data types, we almost always need to consult the dataset's **data dictionary**. A data dictionary is a document included with the data that describes what each column in the data records. For example, the data dictionary for this dataset states the following:\n",
    "\n",
    "```\n",
    "wt -  birth weight in ounces (999 unknown)\n",
    "race - mother's race 0-5=white 6=mex 7=black 8=asian 9=mixed 99=unknown\n",
    "ed - mother's education 0= less than 8th grade, \n",
    "   1 = 8th -12th grade - did not graduate, \n",
    "   2= HS graduate--no other schooling , 3= HS+trade,\n",
    "   4=HS+some college 5= College graduate, 6&7 Trade school HS unclear, 9=unknown\n",
    "```"
   ]
  },
  {
   "cell_type": "markdown",
   "metadata": {},
   "source": [
    "Although the `wt`, `race`, and `ed` columns are stored as integers in `DataFrames`, the `race` column contains nominal data and `ed` contains ordinal data.\n",
    "\n",
    "In fact, we must exercise caution even with the `wt` column. Computing the average birth weight by taking the average of the `wt` column will not give an accurate result because unknown values are recorded as `999`. If left as is, the unknown values will cause our average to be higher than it should be."
   ]
  },
  {
   "cell_type": "markdown",
   "metadata": {},
   "source": [
    "**The Importance of Data Types**\n",
    "\n",
    "Data types guide further data analysis by specifying the operations, visualizations, and models we can meaningfully apply to values in the data. For example, the magnitudes of differences between numerical data are meaningful while the magnitudes of differences between ordinal data are not. This means that for the `babies_small` DataFrame the mean baby birth weight has meaning but not the \"mean\" educational level.\n",
    "\n",
    "To have access to descriptive statistics functions we will use the `Statistics` package. Then, we can apply `mean()` on the `ed` column to compute the mean of the values in the educational level column:"
   ]
  },
  {
   "cell_type": "code",
   "execution_count": 11,
   "metadata": {},
   "outputs": [
    {
     "data": {
      "text/plain": [
       "2.9215210355987056"
      ]
     },
     "execution_count": 11,
     "metadata": {},
     "output_type": "execute_result"
    }
   ],
   "source": [
    "using Statistics\n",
    "mean(babies_small.ed)"
   ]
  },
  {
   "cell_type": "markdown",
   "metadata": {},
   "source": [
    "This quantity, however, provides no useful information. We could have easily replaced the values in the `ed` column with their string descriptions — for example, we can replace `0`'s with `'less than 8th grade'`, `1`'s with `'8th-12th grade'`, and so on. We would not say that the \"mean\" of these strings contains much value. We would not say the same with the mean of the numeric values either."
   ]
  },
  {
   "cell_type": "markdown",
   "metadata": {},
   "source": [
    "Although the value differences of ordinal data are not meaningful, the direction of the difference has meaning. For example, we could say a mother with `ed=5` (college graduate) has a greater education level than a mother with `ed=2` (high school graduate).\n",
    "\n",
    "Nominal data, in comparison, do not provide meaning in the direction of the differences. A mother with `race=6` (Mexican) and a mother with `race=7` (Black) simply have different races."
   ]
  },
  {
   "cell_type": "markdown",
   "metadata": {},
   "source": [
    "### Example: Maternal Smoking and Infant Health"
   ]
  },
  {
   "cell_type": "markdown",
   "metadata": {},
   "source": [
    "The Child Health and Development Studies (CHDS) organization conducts long-term research on how health and disease are passed on between generations (http://www.chdstudies.org/about_us/index.php).\n",
    "\n",
    "In one notable study, the CHDS collected comprehensive data on all pregnancies between 1960 and 1967 for women using the Kaiser Foundation Health Plan in the San Francisco-East Bay area. Although the CHDS typically requires submitting a request to access its data, a subset of the data on pregnancies is available online through the Stat Labs website ([link][statlabs]). We have downloaded and read the data into a DataFrame below.\n",
    "\n",
    "[statlabs]: https://www.stat.berkeley.edu/users/statlabs/"
   ]
  },
  {
   "cell_type": "code",
   "execution_count": 15,
   "metadata": {},
   "outputs": [
    {
     "data": {
      "text/html": [
       "<table class=\"data-frame\"><thead><tr><th></th><th>bwt</th><th>gestation</th><th>parity</th><th>age</th><th>height</th><th>weight</th><th>smoke</th></tr><tr><th></th><th>Int64</th><th>Int64</th><th>Int64</th><th>Int64</th><th>Int64</th><th>Int64</th><th>Int64</th></tr></thead><tbody><p>1,236 rows × 7 columns</p><tr><th>1</th><td>120</td><td>284</td><td>0</td><td>27</td><td>62</td><td>100</td><td>0</td></tr><tr><th>2</th><td>113</td><td>282</td><td>0</td><td>33</td><td>64</td><td>135</td><td>0</td></tr><tr><th>3</th><td>128</td><td>279</td><td>0</td><td>28</td><td>64</td><td>115</td><td>1</td></tr><tr><th>4</th><td>123</td><td>999</td><td>0</td><td>36</td><td>69</td><td>190</td><td>0</td></tr><tr><th>5</th><td>108</td><td>282</td><td>0</td><td>23</td><td>67</td><td>125</td><td>1</td></tr><tr><th>&vellip;</th><td>&vellip;</td><td>&vellip;</td><td>&vellip;</td><td>&vellip;</td><td>&vellip;</td><td>&vellip;</td><td>&vellip;</td></tr></tbody></table>"
      ],
      "text/latex": [
       "\\begin{tabular}{r|ccccccc}\n",
       "\t& bwt & gestation & parity & age & height & weight & smoke\\\\\n",
       "\t\\hline\n",
       "\t& Int64 & Int64 & Int64 & Int64 & Int64 & Int64 & Int64\\\\\n",
       "\t\\hline\n",
       "\t1 & 120 & 284 & 0 & 27 & 62 & 100 & 0 \\\\\n",
       "\t2 & 113 & 282 & 0 & 33 & 64 & 135 & 0 \\\\\n",
       "\t3 & 128 & 279 & 0 & 28 & 64 & 115 & 1 \\\\\n",
       "\t4 & 123 & 999 & 0 & 36 & 69 & 190 & 0 \\\\\n",
       "\t5 & 108 & 282 & 0 & 23 & 67 & 125 & 1 \\\\\n",
       "\t$\\dots$ & $\\dots$ & $\\dots$ & $\\dots$ & $\\dots$ & $\\dots$ & $\\dots$ & $\\dots$ \\\\\n",
       "\\end{tabular}\n"
      ],
      "text/plain": [
       "1236×7 DataFrame\n"
      ]
     },
     "execution_count": 15,
     "metadata": {},
     "output_type": "execute_result"
    }
   ],
   "source": [
    "babies = CSV.read(\"data/babies.data\"; header=true, delim=' ', ignorerepeated=true, ignoreemptylines=true)"
   ]
  },
  {
   "cell_type": "markdown",
   "metadata": {},
   "source": [
    "To understand the data types of the columns, we refer to the data dictionary. We have copied the data dictionary from the Stat Labs website into this page for convenience:\n",
    "\n",
    "<table border=\"2\" cellspacing=\"3\" cellpadding=\"3\">\n",
    "    <thead><tr valign=\"CENTER\">\n",
    "<td valign=\"CENTER\" align=\"CENTER\">\n",
    "    <center><strong>&nbsp;Variable &nbsp;</strong></center>\n",
    "</td>\n",
    "<td valign=\"CENTER\" align=\"CENTER\">\n",
    "<center><strong>&nbsp;Description &nbsp;</strong></center>\n",
    "</td>\n",
    "</tr></thead>\n",
    "<tbody>\n",
    "<tr>\n",
    "<td valign=\"CENTER\" align=\"LEFT\">\n",
    "&nbsp;bwt\n",
    "</td>\n",
    "<td valign=\"CENTER\" align=\"LEFT\">\n",
    "&nbsp;Birth weight in ounces (999 unknown)\n",
    "</td>\n",
    "</tr>\n",
    "<tr>\n",
    "<td valign=\"CENTER\" align=\"LEFT\">\n",
    "&nbsp;gestation\n",
    "</td>\n",
    "<td valign=\"CENTER\" align=\"LEFT\">\n",
    "&nbsp;Length of pregnancy in days (999 unknown)\n",
    "</td>\n",
    "</tr>\n",
    "<tr>\n",
    "<td valign=\"CENTER\" align=\"LEFT\">\n",
    "&nbsp;parity\n",
    "</td>\n",
    "<td valign=\"CENTER\" align=\"LEFT\">\n",
    "&nbsp;0= first born, 9=unknown\n",
    "</td>\n",
    "</tr>\n",
    "<tr>\n",
    "<td valign=\"CENTER\" align=\"LEFT\">\n",
    "&nbsp;age\n",
    "</td>\n",
    "<td valign=\"CENTER\" align=\"LEFT\">\n",
    "&nbsp;mother's age in years\n",
    "</td>\n",
    "</tr>\n",
    "<tr>\n",
    "<td valign=\"CENTER\" align=\"LEFT\">\n",
    "&nbsp;height\n",
    "</td>\n",
    "<td valign=\"CENTER\" align=\"LEFT\">\n",
    "&nbsp;mother's height in inches (99 unknown) \n",
    "</td>\n",
    "</tr>\n",
    "<tr>\n",
    "<td valign=\"CENTER\" align=\"LEFT\">\n",
    "&nbsp;weight\n",
    "</td>\n",
    "<td valign=\"CENTER\" align=\"LEFT\">\n",
    "&nbsp;Mother's prepregnancy weight in pounds (999 unknown)\n",
    "</td>\n",
    "</tr>\n",
    "\n",
    "<tr>\n",
    "<td valign=\"CENTER\" align=\"LEFT\">\n",
    "&nbsp;smoke\n",
    "</td>\n",
    "<td valign=\"CENTER\" align=\"LEFT\">\n",
    "&nbsp;Smoking status of mother\n",
    "<br>&nbsp;\n",
    " 0=not now, 1=yes now, 9=unknown\n",
    "</td>\n",
    "</tr>\n",
    "</tbody></table>"
   ]
  },
  {
   "cell_type": "markdown",
   "metadata": {},
   "source": [
    "Although the data dictionary does not explicitly specify the data types, we can clearly see that some columns contain nominal data even though all data values appear as numbers in the table. Based on the descriptions of the columns alone, we would likely treat the `parity` and `smoke` columns as nominal data and the remaining columns as numerical."
   ]
  },
  {
   "cell_type": "markdown",
   "metadata": {},
   "source": [
    "We hope that the data dictionary provides all necessary information about each column; it is nonetheless useful to double-check our hope by examining the data themselves. For example, it will not always be clear whether a column that records ages contains age values (`21`, `30`, `41`) or age ranges (`21-29`, `30-40`, `41+`).\n",
    "\n",
    "The `babies` DataFrame appears to exclusively contain integer values:"
   ]
  },
  {
   "cell_type": "code",
   "execution_count": 16,
   "metadata": {},
   "outputs": [
    {
     "data": {
      "text/html": [
       "<table class=\"data-frame\"><thead><tr><th></th><th>bwt</th><th>gestation</th><th>parity</th><th>age</th><th>height</th><th>weight</th><th>smoke</th></tr><tr><th></th><th>Int64</th><th>Int64</th><th>Int64</th><th>Int64</th><th>Int64</th><th>Int64</th><th>Int64</th></tr></thead><tbody><p>1,236 rows × 7 columns</p><tr><th>1</th><td>120</td><td>284</td><td>0</td><td>27</td><td>62</td><td>100</td><td>0</td></tr><tr><th>2</th><td>113</td><td>282</td><td>0</td><td>33</td><td>64</td><td>135</td><td>0</td></tr><tr><th>3</th><td>128</td><td>279</td><td>0</td><td>28</td><td>64</td><td>115</td><td>1</td></tr><tr><th>4</th><td>123</td><td>999</td><td>0</td><td>36</td><td>69</td><td>190</td><td>0</td></tr><tr><th>5</th><td>108</td><td>282</td><td>0</td><td>23</td><td>67</td><td>125</td><td>1</td></tr><tr><th>&vellip;</th><td>&vellip;</td><td>&vellip;</td><td>&vellip;</td><td>&vellip;</td><td>&vellip;</td><td>&vellip;</td><td>&vellip;</td></tr></tbody></table>"
      ],
      "text/latex": [
       "\\begin{tabular}{r|ccccccc}\n",
       "\t& bwt & gestation & parity & age & height & weight & smoke\\\\\n",
       "\t\\hline\n",
       "\t& Int64 & Int64 & Int64 & Int64 & Int64 & Int64 & Int64\\\\\n",
       "\t\\hline\n",
       "\t1 & 120 & 284 & 0 & 27 & 62 & 100 & 0 \\\\\n",
       "\t2 & 113 & 282 & 0 & 33 & 64 & 135 & 0 \\\\\n",
       "\t3 & 128 & 279 & 0 & 28 & 64 & 115 & 1 \\\\\n",
       "\t4 & 123 & 999 & 0 & 36 & 69 & 190 & 0 \\\\\n",
       "\t5 & 108 & 282 & 0 & 23 & 67 & 125 & 1 \\\\\n",
       "\t$\\dots$ & $\\dots$ & $\\dots$ & $\\dots$ & $\\dots$ & $\\dots$ & $\\dots$ & $\\dots$ \\\\\n",
       "\\end{tabular}\n"
      ],
      "text/plain": [
       "1236×7 DataFrame\n"
      ]
     },
     "execution_count": 16,
     "metadata": {},
     "output_type": "execute_result"
    }
   ],
   "source": [
    "babies"
   ]
  },
  {
   "cell_type": "markdown",
   "metadata": {},
   "source": [
    "To peek at a column's values, we can use `by()` with the aggregation function `length` to count the number of times each value appears in a column."
   ]
  },
  {
   "cell_type": "code",
   "execution_count": 19,
   "metadata": {},
   "outputs": [
    {
     "data": {
      "text/html": [
       "<table class=\"data-frame\"><thead><tr><th></th><th>age</th><th>age_length</th></tr><tr><th></th><th>Int64</th><th>Int64</th></tr></thead><tbody><p>31 rows × 2 columns</p><tr><th>1</th><td>23</td><td>93</td></tr><tr><th>2</th><td>26</td><td>90</td></tr><tr><th>3</th><td>24</td><td>86</td></tr><tr><th>4</th><td>27</td><td>85</td></tr><tr><th>5</th><td>22</td><td>79</td></tr><tr><th>&vellip;</th><td>&vellip;</td><td>&vellip;</td></tr></tbody></table>"
      ],
      "text/latex": [
       "\\begin{tabular}{r|cc}\n",
       "\t& age & age\\_length\\\\\n",
       "\t\\hline\n",
       "\t& Int64 & Int64\\\\\n",
       "\t\\hline\n",
       "\t1 & 23 & 93 \\\\\n",
       "\t2 & 26 & 90 \\\\\n",
       "\t3 & 24 & 86 \\\\\n",
       "\t4 & 27 & 85 \\\\\n",
       "\t5 & 22 & 79 \\\\\n",
       "\t$\\dots$ & $\\dots$ & $\\dots$ \\\\\n",
       "\\end{tabular}\n"
      ],
      "text/plain": [
       "31×2 DataFrame\n"
      ]
     },
     "execution_count": 19,
     "metadata": {},
     "output_type": "execute_result"
    }
   ],
   "source": [
    "# Displays the ages (left) and their counts (right)\n",
    "babies_by_age = by(babies, :age, :age => length)\n",
    "sort!(babies_by_age, :age_length, rev=true)"
   ]
  },
  {
   "cell_type": "markdown",
   "metadata": {},
   "source": [
    "We can see that many of the mothers in the dataset were between 24 and 26 years old. In addition, we do not see any fractional ages (e.g. `24.5`), suggesting that the `age` column contains integers.\n",
    "\n",
    "To vary the number of rows being displayed when printing the DataFrame we can use the function `Base.displaysize()`. To obtain a more verbose output we can configure a higher number of rows to be displayed:"
   ]
  },
  {
   "cell_type": "code",
   "execution_count": 21,
   "metadata": {},
   "outputs": [
    {
     "data": {
      "text/html": [
       "<table class=\"data-frame\"><thead><tr><th></th><th>age</th><th>age_length</th></tr><tr><th></th><th>Int64</th><th>Int64</th></tr></thead><tbody><p>31 rows × 2 columns</p><tr><th>1</th><td>23</td><td>93</td></tr><tr><th>2</th><td>26</td><td>90</td></tr><tr><th>3</th><td>24</td><td>86</td></tr><tr><th>4</th><td>27</td><td>85</td></tr><tr><th>5</th><td>22</td><td>79</td></tr><tr><th>6</th><td>25</td><td>77</td></tr><tr><th>7</th><td>28</td><td>70</td></tr><tr><th>8</th><td>21</td><td>67</td></tr><tr><th>9</th><td>29</td><td>66</td></tr><tr><th>10</th><td>30</td><td>63</td></tr><tr><th>&vellip;</th><td>&vellip;</td><td>&vellip;</td></tr></tbody></table>"
      ],
      "text/latex": [
       "\\begin{tabular}{r|cc}\n",
       "\t& age & age\\_length\\\\\n",
       "\t\\hline\n",
       "\t& Int64 & Int64\\\\\n",
       "\t\\hline\n",
       "\t1 & 23 & 93 \\\\\n",
       "\t2 & 26 & 90 \\\\\n",
       "\t3 & 24 & 86 \\\\\n",
       "\t4 & 27 & 85 \\\\\n",
       "\t5 & 22 & 79 \\\\\n",
       "\t6 & 25 & 77 \\\\\n",
       "\t7 & 28 & 70 \\\\\n",
       "\t8 & 21 & 67 \\\\\n",
       "\t9 & 29 & 66 \\\\\n",
       "\t10 & 30 & 63 \\\\\n",
       "\t$\\dots$ & $\\dots$ & $\\dots$ \\\\\n",
       "\\end{tabular}\n"
      ],
      "text/plain": [
       "31×2 DataFrame\n"
      ]
     },
     "execution_count": 21,
     "metadata": {},
     "output_type": "execute_result"
    }
   ],
   "source": [
    "Base.displaysize() = (10, 80)\n",
    "babies_by_age"
   ]
  },
  {
   "cell_type": "markdown",
   "metadata": {},
   "source": [
    "After double checking the values within the rest of the columns in the DataFrame in a similar way, we label each column with the following data types based on the data dictionary and examination of the data values.\n",
    "\n",
    "| Variable  | Description                                                | Data Type |\n",
    "| --------- | ---------------------------------------------------------- | --------- |\n",
    "| bwt       | Birth weight in ounces (999 unknown)                       | Numerical |\n",
    "| gestation | Length of pregnancy in days (999 unknown)                  | Numerical |\n",
    "| parity    | 0= first born, 9=unknown                                   | Nominal   |\n",
    "| age       | mother's age in years                                      | Numerical |\n",
    "| height    | mother's height in inches (99 unknown)                     | Numerical |\n",
    "| weight    | Mother's prepregnancy weight in pounds (999 unknown)       | Numerical |\n",
    "| smoke     | Smoking status of mother (0=not now, 1=yes now, 9=unknown) | Nominal   |"
   ]
  },
  {
   "cell_type": "markdown",
   "metadata": {},
   "source": [
    "### Example: San Francisco Restaurant Health Violations\n",
    "\n",
    "The city of San Francisco, California periodically inspects restaurants for health code violations. At each inspection, the restaurant receives a score from 0 to 100 based on the number and types of violations recorded. The restuarants, scores, and violations are publicly available on the DataSF website ([link](https://data.sfgov.org/Health-and-Social-Services/Restaurant-Scores-LIVES-Standard/pyih-qa8i)); the dataset contains all inspections from January 2016 and onward.\n",
    "\n",
    "We have loaded a subset of the data into the `scores` DataFrame below."
   ]
  },
  {
   "cell_type": "code",
   "execution_count": 29,
   "metadata": {},
   "outputs": [],
   "source": [
    "# HIDDEN\n",
    "Base.displaysize() = (5, 80)"
   ]
  },
  {
   "cell_type": "code",
   "execution_count": 30,
   "metadata": {},
   "outputs": [
    {
     "data": {
      "text/html": [
       "<table class=\"data-frame\"><thead><tr><th></th><th>business_name</th><th>inspection_score</th><th>violation_description</th></tr><tr><th></th><th>String</th><th>Float64⍰</th><th>String⍰</th></tr></thead><tbody><p>52,798 rows × 4 columns (omitted printing of 1 columns)</p><tr><th>1</th><td>All stars Donuts</td><td>86.0</td><td>Unclean or degraded floors walls or ceilings</td></tr><tr><th>2</th><td>Soo Fong Restaurant</td><td>92.0</td><td>Wiping cloths not clean or properly stored or inadequate sanitizer</td></tr><tr><th>3</th><td>Dar Bar Pakistani/Indian Cusine</td><td>86.0</td><td>Moderate risk vermin infestation</td></tr><tr><th>4</th><td>Wise Sons Delicatessen</td><td>92.0</td><td>Inadequate and inaccessible handwashing facilities</td></tr><tr><th>5</th><td>DRAGON CITY BAKERY &amp; CAFE</td><td>84.0</td><td>Food safety certificate or food handler card not available</td></tr><tr><th>&vellip;</th><td>&vellip;</td><td>&vellip;</td><td>&vellip;</td></tr></tbody></table>"
      ],
      "text/latex": [
       "\\begin{tabular}{r|cccc}\n",
       "\t& business\\_name & inspection\\_score & violation\\_description & \\\\\n",
       "\t\\hline\n",
       "\t& String & Float64⍰ & String⍰ & \\\\\n",
       "\t\\hline\n",
       "\t1 & All stars Donuts & 86.0 & Unclean or degraded floors walls or ceilings & $\\dots$ \\\\\n",
       "\t2 & Soo Fong Restaurant & 92.0 & Wiping cloths not clean or properly stored or inadequate sanitizer & $\\dots$ \\\\\n",
       "\t3 & Dar Bar Pakistani/Indian Cusine & 86.0 & Moderate risk vermin infestation & $\\dots$ \\\\\n",
       "\t4 & Wise Sons Delicatessen & 92.0 & Inadequate and inaccessible handwashing facilities & $\\dots$ \\\\\n",
       "\t5 & DRAGON CITY BAKERY \\& CAFE & 84.0 & Food safety certificate or food handler card not available & $\\dots$ \\\\\n",
       "\t$\\dots$ & $\\dots$ & $\\dots$ & $\\dots$ &  \\\\\n",
       "\\end{tabular}\n"
      ],
      "text/plain": [
       "52798×4 DataFrame\n"
      ]
     },
     "execution_count": 30,
     "metadata": {},
     "output_type": "execute_result"
    }
   ],
   "source": [
    "scores = CSV.read(\"data/SFRestaurants.csv\")"
   ]
  },
  {
   "cell_type": "markdown",
   "metadata": {},
   "source": [
    "For this dataset, we are fortunate enough to have a data dictionary that provides some information on the data types:\n",
    "\n",
    "| Field Name            | Data Type | Description                            |\n",
    "| --------------------- | --------- | -------------------------------------- |\n",
    "| business_name         | string    | Common name of the business.           |\n",
    "| inspection_score      | number    | Calculated inspection score, 0-100     |\n",
    "| violation_description | string    | One line description of the violation. |\n",
    "| risk_category         | string    | (No description provided.)             |\n",
    "\n",
    "However, we see that the data dictionary describes computational data types rather than statistical data types — for example, it uses `string` rather than distinguishing between nominal and ordinal data types. In addition, the `risk_category` column does not have a description."
   ]
  },
  {
   "cell_type": "markdown",
   "metadata": {},
   "source": [
    "**Text Data is not Always Nominal Data**\n",
    "\n",
    "The `violation_description` column provides a description of the violation. However, it is unclear from the data dictionary alone if we should treat the column's value as nominal data. The `violation_description` column might contain **unstructured text**, or free-form text entered in by hand. Unstructured text often originates from open-ended natural language data sources, such as newspaper articles, Google search queries, and free-response survey questions.\n",
    "\n",
    "We typically do not treat free-form text as nominal data — nominal data typically record a fixed number of categories while unstructured text does not. Thus, we should check the contents of the `violation_description` column to determine whether it contains unstructured text data or nominal data."
   ]
  },
  {
   "cell_type": "markdown",
   "metadata": {},
   "source": [
    "If the `violation_description` column contains unstructured text, we would expect that few of its values repeat often because there are many ways to record the same violation: `unclean floors`, `dirty floors`, `floor needs cleaning`, and so on. On the other hand, if the `violation_description` column contains data selected from a pre-specified list, many of the values should repeat.\n",
    "\n",
    "We indeed find that the column contains many repeat entries:"
   ]
  },
  {
   "cell_type": "code",
   "execution_count": 25,
   "metadata": {},
   "outputs": [
    {
     "data": {
      "text/html": [
       "<table class=\"data-frame\"><thead><tr><th></th><th>violation_description</th><th>violation_description_length</th></tr><tr><th></th><th>String⍰</th><th>Int64</th></tr></thead><tbody><p>68 rows × 2 columns</p><tr><th>1</th><td>Unclean or degraded floors walls or ceilings</td><td>3668</td></tr><tr><th>2</th><td>Wiping cloths not clean or properly stored or inadequate sanitizer</td><td>2121</td></tr><tr><th>3</th><td>Moderate risk vermin infestation</td><td>1814</td></tr><tr><th>4</th><td>Inadequate and inaccessible handwashing facilities</td><td>2653</td></tr><tr><th>5</th><td>Food safety certificate or food handler card not available</td><td>1222</td></tr><tr><th>6</th><td>Moderate risk food holding temperature</td><td>2588</td></tr><tr><th>7</th><td>Improper cooling methods</td><td>823</td></tr><tr><th>8</th><td>Sewage or wastewater contamination</td><td>24</td></tr><tr><th>9</th><td>missing</td><td>12706</td></tr><tr><th>10</th><td>Unclean or unsanitary food contact surfaces</td><td>1197</td></tr><tr><th>11</th><td>High risk food holding temperature</td><td>1619</td></tr><tr><th>12</th><td>Unclean nonfood contact surfaces</td><td>1440</td></tr><tr><th>13</th><td>Unapproved or unmaintained equipment or utensils</td><td>2704</td></tr><tr><th>14</th><td>Improper food storage</td><td>1817</td></tr><tr><th>&vellip;</th><td>&vellip;</td><td>&vellip;</td></tr></tbody></table>"
      ],
      "text/latex": [
       "\\begin{tabular}{r|cc}\n",
       "\t& violation\\_description & violation\\_description\\_length\\\\\n",
       "\t\\hline\n",
       "\t& String⍰ & Int64\\\\\n",
       "\t\\hline\n",
       "\t1 & Unclean or degraded floors walls or ceilings & 3668 \\\\\n",
       "\t2 & Wiping cloths not clean or properly stored or inadequate sanitizer & 2121 \\\\\n",
       "\t3 & Moderate risk vermin infestation & 1814 \\\\\n",
       "\t4 & Inadequate and inaccessible handwashing facilities & 2653 \\\\\n",
       "\t5 & Food safety certificate or food handler card not available & 1222 \\\\\n",
       "\t6 & Moderate risk food holding temperature & 2588 \\\\\n",
       "\t7 & Improper cooling methods & 823 \\\\\n",
       "\t8 & Sewage or wastewater contamination & 24 \\\\\n",
       "\t9 &  & 12706 \\\\\n",
       "\t10 & Unclean or unsanitary food contact surfaces & 1197 \\\\\n",
       "\t11 & High risk food holding temperature & 1619 \\\\\n",
       "\t12 & Unclean nonfood contact surfaces & 1440 \\\\\n",
       "\t13 & Unapproved or unmaintained equipment or utensils & 2704 \\\\\n",
       "\t14 & Improper food storage & 1817 \\\\\n",
       "\t$\\dots$ & $\\dots$ & $\\dots$ \\\\\n",
       "\\end{tabular}\n"
      ],
      "text/plain": [
       "68×2 DataFrame. Omitted printing of 1 columns\n",
       "│ Row │ violation_description                                              │\n",
       "│     │ \u001b[90mUnion{Missing, String}\u001b[39m                                             │\n",
       "├─────┼────────────────────────────────────────────────────────────────────┤\n",
       "│ 1   │ Unclean or degraded floors walls or ceilings                       │\n",
       "│ 2   │ Wiping cloths not clean or properly stored or inadequate sanitizer │\n",
       "⋮\n",
       "│ 66  │ Noncompliance with Cottage Food Operation                          │\n",
       "│ 67  │ Mobile food facility with unapproved operating conditions          │\n",
       "│ 68  │ Mobile food facility stored in unapproved location                 │"
      ]
     },
     "execution_count": 25,
     "metadata": {},
     "output_type": "execute_result"
    }
   ],
   "source": [
    "Base.displaysize() = (14, 80)\n",
    "by(scores, :violation_description, :violation_description => length)"
   ]
  },
  {
   "cell_type": "markdown",
   "metadata": {},
   "source": [
    "This leads us to believe that the values in the `violation_description` column were selected from a list of possible violations. Thus, we treat the `violation_description` column as if it contains nominal data."
   ]
  },
  {
   "cell_type": "markdown",
   "metadata": {},
   "source": [
    "**Investigating a Missing Description**\n",
    "\n",
    "Although the `risk_category` column was not described in the data dictionary, we can examine the column's contents to infer its meaning. First, we find that the column only has three unique values:"
   ]
  },
  {
   "cell_type": "code",
   "execution_count": 26,
   "metadata": {},
   "outputs": [
    {
     "data": {
      "text/html": [
       "<table class=\"data-frame\"><thead><tr><th></th><th>risk_category</th><th>risk_category_length</th></tr><tr><th></th><th>String⍰</th><th>Int64</th></tr></thead><tbody><p>4 rows × 2 columns</p><tr><th>1</th><td>Low Risk</td><td>19694</td></tr><tr><th>2</th><td>Moderate Risk</td><td>14712</td></tr><tr><th>3</th><td>High Risk</td><td>5686</td></tr><tr><th>4</th><td>missing</td><td>12706</td></tr></tbody></table>"
      ],
      "text/latex": [
       "\\begin{tabular}{r|cc}\n",
       "\t& risk\\_category & risk\\_category\\_length\\\\\n",
       "\t\\hline\n",
       "\t& String⍰ & Int64\\\\\n",
       "\t\\hline\n",
       "\t1 & Low Risk & 19694 \\\\\n",
       "\t2 & Moderate Risk & 14712 \\\\\n",
       "\t3 & High Risk & 5686 \\\\\n",
       "\t4 &  & 12706 \\\\\n",
       "\\end{tabular}\n"
      ],
      "text/plain": [
       "4×2 DataFrame\n",
       "│ Row │ risk_category │ risk_category_length │\n",
       "│     │ \u001b[90mString⍰\u001b[39m       │ \u001b[90mInt64\u001b[39m                │\n",
       "├─────┼───────────────┼──────────────────────┤\n",
       "│ 1   │ Low Risk      │ 19694                │\n",
       "│ 2   │ Moderate Risk │ 14712                │\n",
       "│ 3   │ High Risk     │ 5686                 │\n",
       "│ 4   │ \u001b[90mmissing\u001b[39m       │ 12706                │"
      ]
     },
     "execution_count": 26,
     "metadata": {},
     "output_type": "execute_result"
    }
   ],
   "source": [
    "by(scores, :risk_category, :risk_category => length)"
   ]
  },
  {
   "cell_type": "markdown",
   "metadata": {},
   "source": [
    "Here we see that our DataFrame contains missing values. We will explore in depth how to find and handle missing values in the next chapter. For simplicity, we will remove for now all rows with missing values by using the function `dropmissing()`"
   ]
  },
  {
   "cell_type": "code",
   "execution_count": 44,
   "metadata": {},
   "outputs": [
    {
     "data": {
      "text/html": [
       "<table class=\"data-frame\"><thead><tr><th></th><th>risk_category</th><th>risk_category_length</th></tr><tr><th></th><th>String</th><th>Int64</th></tr></thead><tbody><p>3 rows × 2 columns</p><tr><th>1</th><td>Low Risk</td><td>18200</td></tr><tr><th>2</th><td>Moderate Risk</td><td>13605</td></tr><tr><th>3</th><td>High Risk</td><td>5177</td></tr></tbody></table>"
      ],
      "text/latex": [
       "\\begin{tabular}{r|cc}\n",
       "\t& risk\\_category & risk\\_category\\_length\\\\\n",
       "\t\\hline\n",
       "\t& String & Int64\\\\\n",
       "\t\\hline\n",
       "\t1 & Low Risk & 18200 \\\\\n",
       "\t2 & Moderate Risk & 13605 \\\\\n",
       "\t3 & High Risk & 5177 \\\\\n",
       "\\end{tabular}\n"
      ],
      "text/plain": [
       "3×2 DataFrame\n"
      ]
     },
     "execution_count": 44,
     "metadata": {},
     "output_type": "execute_result"
    }
   ],
   "source": [
    "scores = dropmissing(scores)\n",
    "by(scores, :risk_category, :risk_category => length)"
   ]
  },
  {
   "cell_type": "markdown",
   "metadata": {},
   "source": [
    "We might sense that these values describe the severity of the violation. We can check this intuition by examining violations for each value in the `risk_category` column."
   ]
  },
  {
   "cell_type": "code",
   "execution_count": 50,
   "metadata": {},
   "outputs": [
    {
     "data": {
      "text/html": [
       "<table class=\"data-frame\"><thead><tr><th></th><th>violation_description</th><th>violation_description_length</th></tr><tr><th></th><th>String</th><th>Int64</th></tr></thead><tbody><p>16 rows × 2 columns</p><tr><th>1</th><td>High risk food holding temperature</td><td>1465</td></tr><tr><th>2</th><td>Unclean or unsanitary food contact surfaces</td><td>1096</td></tr><tr><th>3</th><td>Improper cooling methods</td><td>751</td></tr><tr><th>4</th><td>Unclean hands or improper use of gloves</td><td>697</td></tr><tr><th>5</th><td>High risk vermin infestation</td><td>639</td></tr><tr><th>&vellip;</th><td>&vellip;</td><td>&vellip;</td></tr></tbody></table>"
      ],
      "text/latex": [
       "\\begin{tabular}{r|cc}\n",
       "\t& violation\\_description & violation\\_description\\_length\\\\\n",
       "\t\\hline\n",
       "\t& String & Int64\\\\\n",
       "\t\\hline\n",
       "\t1 & High risk food holding temperature & 1465 \\\\\n",
       "\t2 & Unclean or unsanitary food contact surfaces & 1096 \\\\\n",
       "\t3 & Improper cooling methods & 751 \\\\\n",
       "\t4 & Unclean hands or improper use of gloves & 697 \\\\\n",
       "\t5 & High risk vermin infestation & 639 \\\\\n",
       "\t$\\dots$ & $\\dots$ & $\\dots$ \\\\\n",
       "\\end{tabular}\n"
      ],
      "text/plain": [
       "16×2 DataFrame\n"
      ]
     },
     "execution_count": 50,
     "metadata": {},
     "output_type": "execute_result"
    }
   ],
   "source": [
    "high_risk_scores = scores[scores.risk_category .== \"High Risk\", :]\n",
    "sort!(by(high_risk_scores, :violation_description, :violation_description => length),\n",
    "        :violation_description_length, rev=true)"
   ]
  },
  {
   "cell_type": "code",
   "execution_count": 49,
   "metadata": {},
   "outputs": [
    {
     "data": {
      "text/html": [
       "<table class=\"data-frame\"><thead><tr><th></th><th>violation_description</th><th>violation_description_length</th></tr><tr><th></th><th>String</th><th>Int64</th></tr></thead><tbody><p>22 rows × 2 columns</p><tr><th>1</th><td>Inadequate and inaccessible handwashing facilities</td><td>2471</td></tr><tr><th>2</th><td>Moderate risk food holding temperature</td><td>2392</td></tr><tr><th>3</th><td>Inadequately cleaned or sanitized food contact surfaces</td><td>2283</td></tr><tr><th>4</th><td>Foods not protected from contamination</td><td>1788</td></tr><tr><th>5</th><td>Moderate risk vermin infestation</td><td>1664</td></tr><tr><th>&vellip;</th><td>&vellip;</td><td>&vellip;</td></tr></tbody></table>"
      ],
      "text/latex": [
       "\\begin{tabular}{r|cc}\n",
       "\t& violation\\_description & violation\\_description\\_length\\\\\n",
       "\t\\hline\n",
       "\t& String & Int64\\\\\n",
       "\t\\hline\n",
       "\t1 & Inadequate and inaccessible handwashing facilities & 2471 \\\\\n",
       "\t2 & Moderate risk food holding temperature & 2392 \\\\\n",
       "\t3 & Inadequately cleaned or sanitized food contact surfaces & 2283 \\\\\n",
       "\t4 & Foods not protected from contamination & 1788 \\\\\n",
       "\t5 & Moderate risk vermin infestation & 1664 \\\\\n",
       "\t$\\dots$ & $\\dots$ & $\\dots$ \\\\\n",
       "\\end{tabular}\n"
      ],
      "text/plain": [
       "22×2 DataFrame\n"
      ]
     },
     "execution_count": 49,
     "metadata": {},
     "output_type": "execute_result"
    }
   ],
   "source": [
    "moderate_risk_scores = scores[scores.risk_category .== \"Moderate Risk\", :]\n",
    "sort!(by(moderate_risk_scores, :violation_description, :violation_description => length),\n",
    "        :violation_description_length, rev=true)"
   ]
  },
  {
   "cell_type": "code",
   "execution_count": 51,
   "metadata": {},
   "outputs": [
    {
     "data": {
      "text/html": [
       "<table class=\"data-frame\"><thead><tr><th></th><th>violation_description</th><th>violation_description_length</th></tr><tr><th></th><th>String</th><th>Int64</th></tr></thead><tbody><p>29 rows × 2 columns</p><tr><th>1</th><td>Unclean or degraded floors walls or ceilings</td><td>3381</td></tr><tr><th>2</th><td>Unapproved or unmaintained equipment or utensils</td><td>2477</td></tr><tr><th>3</th><td>Wiping cloths not clean or properly stored or inadequate sanitizer</td><td>1989</td></tr><tr><th>4</th><td>Improper food storage</td><td>1681</td></tr><tr><th>5</th><td>Unclean nonfood contact surfaces</td><td>1348</td></tr><tr><th>&vellip;</th><td>&vellip;</td><td>&vellip;</td></tr></tbody></table>"
      ],
      "text/latex": [
       "\\begin{tabular}{r|cc}\n",
       "\t& violation\\_description & violation\\_description\\_length\\\\\n",
       "\t\\hline\n",
       "\t& String & Int64\\\\\n",
       "\t\\hline\n",
       "\t1 & Unclean or degraded floors walls or ceilings & 3381 \\\\\n",
       "\t2 & Unapproved or unmaintained equipment or utensils & 2477 \\\\\n",
       "\t3 & Wiping cloths not clean or properly stored or inadequate sanitizer & 1989 \\\\\n",
       "\t4 & Improper food storage & 1681 \\\\\n",
       "\t5 & Unclean nonfood contact surfaces & 1348 \\\\\n",
       "\t$\\dots$ & $\\dots$ & $\\dots$ \\\\\n",
       "\\end{tabular}\n"
      ],
      "text/plain": [
       "29×2 DataFrame\n"
      ]
     },
     "execution_count": 51,
     "metadata": {},
     "output_type": "execute_result"
    }
   ],
   "source": [
    "low_risk_scores = scores[scores.risk_category .== \"Low Risk\", :]\n",
    "sort!(by(low_risk_scores, :violation_description, :violation_description => length),\n",
    "        :violation_description_length, rev=true)"
   ]
  },
  {
   "cell_type": "markdown",
   "metadata": {},
   "source": [
    "At a cursory glance, the violation categories are divided into each risk level. In addition, the `High Risk` violations seem more likely to cause illness than the `Low Risk` violations. Presumably a restaurant with `High risk vermin infestation` would be less sanitary than a restaurant with `Unclean nonfood contact surfaces`.\n",
    "\n",
    "Because of this, we decide that the `risk_category` column contains ordinal data describing the risk level of each violation (`Low Risk` < `Moderate Risk` < `High Risk`)."
   ]
  },
  {
   "cell_type": "markdown",
   "metadata": {},
   "source": [
    "**A Revised Data Dictionary**\n",
    "\n",
    "After investigating the remaining columns of the `scores` DataFrame, we arrive at the following revised data dictionary that we can use for further analysis:\n",
    "\n",
    "| Field Name            | Data Type | Description                                                        |\n",
    "| --------------------- | --------- | ------------------------------------------------------------------ |\n",
    "| business_name         | nominal   | Common name of the business.                                       |\n",
    "| inspection_score      | numerical | Calculated inspection score, 0-100                                 |\n",
    "| violation_description | nominal   | One line description of the violation.                             |\n",
    "| risk_category         | ordinal   | Risk level of the violation (Low Risk < Moderate Risk < High Risk) |\n"
   ]
  },
  {
   "cell_type": "markdown",
   "metadata": {},
   "source": [
    "## Summary\n",
    "\n",
    "We introduced the nominal, ordinal, and numerical data types and their importance for data science. When presented with a dataset, consult the data dictionary and the data itself to determine the data types for each column. Ensure that computational data types are not confused with statistical data types."
   ]
  }
 ],
 "metadata": {
  "kernelspec": {
   "display_name": "Julia 1.2.0",
   "language": "julia",
   "name": "julia-1.2"
  },
  "language_info": {
   "file_extension": ".jl",
   "mimetype": "application/julia",
   "name": "julia",
   "version": "1.2.0"
  }
 },
 "nbformat": 4,
 "nbformat_minor": 2
}
